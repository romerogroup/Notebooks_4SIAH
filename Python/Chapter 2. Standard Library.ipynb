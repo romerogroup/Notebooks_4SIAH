{
 "cells": [
  {
   "cell_type": "markdown",
   "id": "6fcb6fb1",
   "metadata": {},
   "source": [
    "![Python Programming for Scientists in a hurry](./fig/Title_Python.png)"
   ]
  },
  {
   "cell_type": "markdown",
   "id": "d19204d7",
   "metadata": {},
   "source": [
    "<div style=\"clear: both; display: table;\">\n",
    "  <div style=\"border: none; float: left; width: 60%; padding: 5px\">\n",
    "  <h1 id=\"subtitle\">Chapter 2. Standard Library</h1>\n",
    "  <h2 id=\"subtitle\">Guillermo Avendaño Franco<br>Aldo Humberto Romero</h2>\n",
    "  <br>\n",
    "  <img src=\"fig/1-line logotype124-295.png\" alt=\"Scientific Computing with Python\" style=\"width:50%\" align=\"left\">\n",
    "  </div>\n",
    "  <div style=\"border: none; float: left; width: 30%; padding: 5px\">\n",
    "  <img src=\"fig/SCPython.png\" alt=\"Scientific Computing with Python\" style=\"width:100%\">\n",
    "  </div>\n",
    "</div>"
   ]
  },
  {
   "cell_type": "markdown",
   "id": "d3c68da7",
   "metadata": {},
   "source": [
    "## List of Notebooks\n",
    "\n",
    "Python is a great general-purpose programming language on its own.\n",
    "Python is a general purpose programming language. It is interpreted and dynamically typed and is very suited for interactive work and quick prototyping while being powerful enough to write large applications in.\n",
    "The lesson is particularly oriented to Scientific Computing. \n",
    "Other episodes in the series include:\n",
    "\n",
    "  * Language Syntax\n",
    "  * **Standard Library \\[This notebook\\]**\n",
    "  * Scientific Packages\n",
    "  * Numpy\n",
    "  * Matplotlib\n",
    "  * SciPy \n",
    "  * Pandas\n",
    "  * Cython\n",
    "  * Parallel Computing\n",
    "\n",
    "After completing all the series in this lesson you will realize that python has become a powerful environment for scientific computing at several levels, from interactive computing to scripting to big project developments."
   ]
  },
  {
   "cell_type": "markdown",
   "id": "27a26f49",
   "metadata": {},
   "source": [
    "## Setup"
   ]
  },
  {
   "cell_type": "code",
   "execution_count": 1,
   "id": "18085a3b",
   "metadata": {},
   "outputs": [],
   "source": [
    "%load_ext watermark"
   ]
  },
  {
   "cell_type": "code",
   "execution_count": 2,
   "id": "412dd27b",
   "metadata": {
    "scrolled": true
   },
   "outputs": [
    {
     "name": "stdout",
     "output_type": "stream",
     "text": [
      "Last updated: 2022-08-22T22:13:51.860201-04:00\n",
      "\n",
      "Python implementation: CPython\n",
      "Python version       : 3.10.5\n",
      "IPython version      : 8.4.0\n",
      "\n",
      "Compiler    : GCC 11.2.0\n",
      "OS          : Linux\n",
      "Release     : 3.10.0-1160.24.1.el7.x86_64\n",
      "Machine     : x86_64\n",
      "Processor   : x86_64\n",
      "CPU cores   : 52\n",
      "Architecture: 64bit\n",
      "\n"
     ]
    }
   ],
   "source": [
    "%watermark"
   ]
  },
  {
   "cell_type": "code",
   "execution_count": 3,
   "id": "09d377af",
   "metadata": {},
   "outputs": [],
   "source": [
    "import time\n",
    "start = time.time()\n",
    "chapter_number = 2\n",
    "import matplotlib\n",
    "%matplotlib inline\n",
    "%load_ext autoreload\n",
    "%autoreload 2"
   ]
  },
  {
   "cell_type": "code",
   "execution_count": 4,
   "id": "182efc40",
   "metadata": {},
   "outputs": [],
   "source": [
    "import numpy as np\n",
    "import matplotlib.pyplot as plt"
   ]
  },
  {
   "cell_type": "code",
   "execution_count": 5,
   "id": "eef22289",
   "metadata": {
    "scrolled": false
   },
   "outputs": [
    {
     "name": "stdout",
     "output_type": "stream",
     "text": [
      "matplotlib: 3.5.3\n",
      "numpy     : 1.22.4\n",
      "\n"
     ]
    }
   ],
   "source": [
    "%watermark -iv"
   ]
  },
  {
   "cell_type": "markdown",
   "id": "d859de92",
   "metadata": {},
   "source": [
    "# Python Standard Library"
   ]
  },
  {
   "cell_type": "markdown",
   "id": "779dbe2f",
   "metadata": {},
   "source": [
    "# Table of Contents\n",
    "\n",
    " 1. [Introduction](#introduction)\n",
    " 1. [Module `sys`](#sys)\n",
    " 1. [Modules `math` and `cmath`](#math)\n",
    " 1. [Modules `os` and `os.path`](#os)\n",
    " 1. [Module `shutil`](#shutil)\n",
    " 1. [Module `itertools`](#itertools)\n",
    " 1. [Module `json`](#json)\n",
    " 1. [Module `subprocess`](#subprocess)\n",
    " 1. [module `multiprocessing`](#multiprocessing)"
   ]
  },
  {
   "cell_type": "markdown",
   "id": "68b3635a",
   "metadata": {},
   "source": [
    "<a id=\"introduction\"></a>\n",
    "# Introduction"
   ]
  },
  {
   "cell_type": "markdown",
   "id": "9139e828",
   "metadata": {},
   "source": [
    "The Python Standard Library (PSL) is a set of modules distributed with Python and they are included in most Python implementations. With some very specific exceptions, you can take for granted that every machine capable of running Python code will have those modules available too. \n",
    "\n",
    "The Python’s standard library is very extensive. The library contains built-in modules (written in C) that provide access to system functionality such as file I/O that would otherwise be inaccessible to Python programmers, as well as modules written in Python that provide standardized solutions for many problems that occur in everyday programming. The idea we are trying to use here is that the existence of some modules will help with the simplicity of the program and they will allow also portability between different systems. Python is trying to create a natural neutral platform for application programming interfaces (APIs). \n",
    "\n",
    "Here we are making a selection of a few modules that are commonly used in Scientific Computing. The selection itself is rather subjective but from experience, most users using Python for research, especially numerical-oriented calculations will use at some point several of these modules. \n",
    "\n",
    "The complete documentation about these modules can be found [here](https://docs.python.org/3/library/index.html)"
   ]
  },
  {
   "cell_type": "markdown",
   "id": "e335a2b8",
   "metadata": {},
   "source": [
    "<a id=\"sys\"></a>\n",
    "# Module `sys`"
   ]
  },
  {
   "cell_type": "markdown",
   "id": "0587b239",
   "metadata": {},
   "source": [
    "This module provides access to some variables used or maintained by the interpreter and to functions that interact strongly with the interpreter. It is always available. More info can be found in [sys](https://docs.python.org/3/library/sys.html) "
   ]
  },
  {
   "cell_type": "code",
   "execution_count": 6,
   "id": "52410245",
   "metadata": {},
   "outputs": [],
   "source": [
    "import sys"
   ]
  },
  {
   "cell_type": "markdown",
   "id": "080e846b",
   "metadata": {},
   "source": [
    "There are a few reasons to include this module in the selection, consider getting the version of Python that is in use:"
   ]
  },
  {
   "cell_type": "code",
   "execution_count": 7,
   "id": "abf5e34f",
   "metadata": {},
   "outputs": [
    {
     "data": {
      "text/plain": [
       "'3.10.5 (main, Jun 11 2022, 18:26:36) [GCC 11.2.0]'"
      ]
     },
     "execution_count": 7,
     "metadata": {},
     "output_type": "execute_result"
    }
   ],
   "source": [
    "sys.version"
   ]
  },
  {
   "cell_type": "code",
   "execution_count": 8,
   "id": "771a1417",
   "metadata": {},
   "outputs": [
    {
     "data": {
      "text/plain": [
       "sys.version_info(major=3, minor=10, micro=5, releaselevel='final', serial=0)"
      ]
     },
     "execution_count": 8,
     "metadata": {},
     "output_type": "execute_result"
    }
   ],
   "source": [
    "sys.version_info"
   ]
  },
  {
   "cell_type": "markdown",
   "id": "5157b405",
   "metadata": {},
   "source": [
    "To know information about the limits of float type. `sys.float_info` contains low-level information about the precision and internal representation. The values correspond to the various floating-point constants defined in the standard header file float.h for the ‘C’ programming language; see section 5.2.4.2.2 of the 1999 ISO/IEC C standard [C99], ‘Characteristics of floating types’, for details."
   ]
  },
  {
   "cell_type": "code",
   "execution_count": 9,
   "id": "534a5efb",
   "metadata": {},
   "outputs": [
    {
     "data": {
      "text/plain": [
       "sys.float_info(max=1.7976931348623157e+308, max_exp=1024, max_10_exp=308, min=2.2250738585072014e-308, min_exp=-1021, min_10_exp=-307, dig=15, mant_dig=53, epsilon=2.220446049250313e-16, radix=2, rounds=1)"
      ]
     },
     "execution_count": 9,
     "metadata": {},
     "output_type": "execute_result"
    }
   ],
   "source": [
    "sys.float_info"
   ]
  },
  {
   "cell_type": "markdown",
   "id": "490b6209",
   "metadata": {},
   "source": [
    "Each value can be retrieved independently like"
   ]
  },
  {
   "cell_type": "code",
   "execution_count": 10,
   "id": "64fbd3b4",
   "metadata": {},
   "outputs": [
    {
     "data": {
      "text/plain": [
       "1.7976931348623157e+308"
      ]
     },
     "execution_count": 10,
     "metadata": {},
     "output_type": "execute_result"
    }
   ],
   "source": [
    "sys.float_info.max"
   ]
  },
  {
   "cell_type": "markdown",
   "id": "10625a70",
   "metadata": {},
   "source": [
    "Similarly for integers:"
   ]
  },
  {
   "cell_type": "code",
   "execution_count": 11,
   "id": "71665068",
   "metadata": {},
   "outputs": [
    {
     "data": {
      "text/plain": [
       "sys.int_info(bits_per_digit=30, sizeof_digit=4)"
      ]
     },
     "execution_count": 11,
     "metadata": {},
     "output_type": "execute_result"
    }
   ],
   "source": [
    "sys.int_info"
   ]
  },
  {
   "cell_type": "markdown",
   "id": "fae315f9",
   "metadata": {},
   "source": [
    "To get the size of any object in bytes:"
   ]
  },
  {
   "cell_type": "code",
   "execution_count": 12,
   "id": "0e80343e",
   "metadata": {},
   "outputs": [
    {
     "data": {
      "text/plain": [
       "8056"
      ]
     },
     "execution_count": 12,
     "metadata": {},
     "output_type": "execute_result"
    }
   ],
   "source": [
    "a=list(range(1000))\n",
    "sys.getsizeof(a)"
   ]
  },
  {
   "cell_type": "code",
   "execution_count": 13,
   "id": "9081ebae",
   "metadata": {},
   "outputs": [
    {
     "data": {
      "text/plain": [
       "48"
      ]
     },
     "execution_count": 13,
     "metadata": {},
     "output_type": "execute_result"
    }
   ],
   "source": [
    "b=range(1000)\n",
    "sys.getsizeof(b)"
   ]
  },
  {
   "cell_type": "markdown",
   "id": "2b788233",
   "metadata": {},
   "source": [
    "By itself, the builtin function `sys.getsizeof()` does not help determine the size of a container (a given object) and all of its contents, but can be used with a recipe like [this](https://code.activestate.com/recipes/577504/) to recursively collect the contents of a container."
   ]
  },
  {
   "cell_type": "markdown",
   "id": "6c19531b",
   "metadata": {},
   "source": [
    "To know the paths to search for modules"
   ]
  },
  {
   "cell_type": "code",
   "execution_count": 14,
   "id": "6b67c969",
   "metadata": {},
   "outputs": [
    {
     "data": {
      "text/plain": [
       "['/gpfs20/scratch/gufranco/wvu_notebooks/Jupyter_notebooks/Python',\n",
       " '/scratch/gufranco/PyChemia',\n",
       " '/shared/software/lang/python/3.10.5_gcc112/lib/python310.zip',\n",
       " '/shared/software/lang/python/3.10.5_gcc112/lib/python3.10',\n",
       " '/shared/software/lang/python/3.10.5_gcc112/lib/python3.10/lib-dynload',\n",
       " '',\n",
       " '/shared/software/lang/python/3.10.5_gcc112/lib/python3.10/site-packages']"
      ]
     },
     "execution_count": 14,
     "metadata": {},
     "output_type": "execute_result"
    }
   ],
   "source": [
    "sys.path"
   ]
  },
  {
   "cell_type": "markdown",
   "id": "78cf901d",
   "metadata": {},
   "source": [
    "Prefix path where the current version of Python is in use:"
   ]
  },
  {
   "cell_type": "code",
   "execution_count": 15,
   "id": "b02a88b1",
   "metadata": {},
   "outputs": [
    {
     "data": {
      "text/plain": [
       "'/shared/software/lang/python/3.10.5_gcc112'"
      ]
     },
     "execution_count": 15,
     "metadata": {},
     "output_type": "execute_result"
    }
   ],
   "source": [
    "sys.prefix"
   ]
  },
  {
   "cell_type": "markdown",
   "id": "e974cd6f",
   "metadata": {},
   "source": [
    "To collect arguments such as\n",
    "\n",
    "myscript.py arg1 arg2 arg3\n",
    "    \n",
    "from the command line, `sys.argv` can be used, in particular for scripts."
   ]
  },
  {
   "cell_type": "code",
   "execution_count": 16,
   "id": "62848fa0",
   "metadata": {},
   "outputs": [
    {
     "data": {
      "text/plain": [
       "['/shared/software/lang/python/3.10.5_gcc112/lib/python3.10/site-packages/ipykernel_launcher.py',\n",
       " '-f',\n",
       " '/gpfs20/users/gufranco/.local/share/jupyter/runtime/kernel-32c3c89f-b79e-47e2-9369-5b9ae348cb22.json']"
      ]
     },
     "execution_count": 16,
     "metadata": {},
     "output_type": "execute_result"
    }
   ],
   "source": [
    "sys.argv"
   ]
  },
  {
   "cell_type": "markdown",
   "id": "ef61af8e",
   "metadata": {},
   "source": [
    "\n",
    "However, `sys.argv` is very primitive for practical purposes. The module `argparse` is the recommended module to parse arguments from the command line."
   ]
  },
  {
   "cell_type": "markdown",
   "id": "3c62888b",
   "metadata": {},
   "source": [
    "<a id=\"math\"></a>\n",
    "# Modules `math` and `cmath`"
   ]
  },
  {
   "cell_type": "markdown",
   "id": "b60144cd",
   "metadata": {},
   "source": [
    "This module provides access to the mathematical functions defined by the C standard. A similar module for complex numbers is `cmath`"
   ]
  },
  {
   "cell_type": "code",
   "execution_count": 17,
   "id": "8dfe53b7",
   "metadata": {},
   "outputs": [],
   "source": [
    "import math\n",
    "import cmath"
   ]
  },
  {
   "cell_type": "markdown",
   "id": "976c7cc2",
   "metadata": {},
   "source": [
    "The arguments for the functions in `math` and `cmath` must be numbers. As we will see in the lesson for NumPy when the functions have to operate over multiple numbers the functions on NumPy are a far more efficient alternative and avoid expensive loops over lists or other low-performance containers.\n",
    "\n",
    "A few functions are shown as examples:"
   ]
  },
  {
   "cell_type": "markdown",
   "id": "312ba60e",
   "metadata": {},
   "source": [
    "## math"
   ]
  },
  {
   "cell_type": "code",
   "execution_count": 18,
   "id": "bd4a6282",
   "metadata": {},
   "outputs": [
    {
     "data": {
      "text/plain": [
       "3"
      ]
     },
     "execution_count": 18,
     "metadata": {},
     "output_type": "execute_result"
    }
   ],
   "source": [
    "math.ceil(2.5)"
   ]
  },
  {
   "cell_type": "code",
   "execution_count": 19,
   "id": "9ae3998a",
   "metadata": {},
   "outputs": [
    {
     "data": {
      "text/plain": [
       "3.7"
      ]
     },
     "execution_count": 19,
     "metadata": {},
     "output_type": "execute_result"
    }
   ],
   "source": [
    "math.fabs(-3.7)"
   ]
  },
  {
   "cell_type": "markdown",
   "id": "3175533d",
   "metadata": {},
   "source": [
    "`fabs` only works for real numbers and returns always a floating point number even if the argument is integer.\n",
    "In the case of complex numbers the built-in `abs()` returns the magnitude of the complex number"
   ]
  },
  {
   "cell_type": "code",
   "execution_count": 20,
   "id": "33dd99a5",
   "metadata": {},
   "outputs": [
    {
     "data": {
      "text/plain": [
       "4.810405388322278"
      ]
     },
     "execution_count": 20,
     "metadata": {},
     "output_type": "execute_result"
    }
   ],
   "source": [
    "abs(-1.7+4.5j)"
   ]
  },
  {
   "cell_type": "markdown",
   "id": "3c4c61f9",
   "metadata": {},
   "source": [
    "GCD stands for Greatest Common Divisor of the integers a and b."
   ]
  },
  {
   "cell_type": "code",
   "execution_count": 21,
   "id": "eb9a140c",
   "metadata": {},
   "outputs": [
    {
     "data": {
      "text/plain": [
       "7"
      ]
     },
     "execution_count": 21,
     "metadata": {},
     "output_type": "execute_result"
    }
   ],
   "source": [
    "math.gcd(91, 133)"
   ]
  },
  {
   "cell_type": "code",
   "execution_count": 22,
   "id": "8cd27e93",
   "metadata": {},
   "outputs": [
    {
     "data": {
      "text/plain": [
       "16.0"
      ]
     },
     "execution_count": 22,
     "metadata": {},
     "output_type": "execute_result"
    }
   ],
   "source": [
    "math.sqrt(256)"
   ]
  },
  {
   "cell_type": "code",
   "execution_count": 23,
   "id": "eace5cae",
   "metadata": {},
   "outputs": [
    {
     "data": {
      "text/plain": [
       "0.5000000000000001"
      ]
     },
     "execution_count": 23,
     "metadata": {},
     "output_type": "execute_result"
    }
   ],
   "source": [
    "math.cos(math.pi/3)"
   ]
  },
  {
   "cell_type": "markdown",
   "id": "abc9e033",
   "metadata": {},
   "source": [
    "## cmath"
   ]
  },
  {
   "cell_type": "code",
   "execution_count": 24,
   "id": "336e5446",
   "metadata": {},
   "outputs": [
    {
     "data": {
      "text/plain": [
       "16j"
      ]
     },
     "execution_count": 24,
     "metadata": {},
     "output_type": "execute_result"
    }
   ],
   "source": [
    "cmath.sqrt(-256)"
   ]
  },
  {
   "cell_type": "code",
   "execution_count": 25,
   "id": "a3c178b4",
   "metadata": {},
   "outputs": [
    {
     "data": {
      "text/plain": [
       "(1.600286857702386-0j)"
      ]
     },
     "execution_count": 25,
     "metadata": {},
     "output_type": "execute_result"
    }
   ],
   "source": [
    "cmath.cos(1j*math.pi/3)"
   ]
  },
  {
   "cell_type": "markdown",
   "id": "59a12912",
   "metadata": {},
   "source": [
    "<a id=\"os\"></a>\n",
    "# Modules `os` and `os.path`"
   ]
  },
  {
   "cell_type": "markdown",
   "id": "2909d75f",
   "metadata": {},
   "source": [
    "Sooner or later you will interact with files and folders. The module `os` not only provides basic operativity over the filesystem but also allows us to gain information about the operating system that is executing Python"
   ]
  },
  {
   "cell_type": "markdown",
   "id": "c192cb80",
   "metadata": {},
   "source": [
    "## os"
   ]
  },
  {
   "cell_type": "code",
   "execution_count": 26,
   "id": "3e3800ad",
   "metadata": {},
   "outputs": [],
   "source": [
    "import os"
   ]
  },
  {
   "cell_type": "markdown",
   "id": "67435546",
   "metadata": {},
   "source": [
    "The module `os`, provides operating system-dependent functionality. Some functions are not available in some Operating Systems returning `os.OSError` in those cases."
   ]
  },
  {
   "cell_type": "code",
   "execution_count": 27,
   "id": "f6cdd3c6",
   "metadata": {},
   "outputs": [
    {
     "data": {
      "text/plain": [
       "'posix'"
      ]
     },
     "execution_count": 27,
     "metadata": {},
     "output_type": "execute_result"
    }
   ],
   "source": [
    "os.name"
   ]
  },
  {
   "cell_type": "code",
   "execution_count": 28,
   "id": "75c5e118",
   "metadata": {},
   "outputs": [
    {
     "data": {
      "text/plain": [
       "environ{'MANPATH': '/shared/software/lang/python/3.10.5_gcc112/share/man:/shared/software/lang/gcc/11.2.0/share/man:/usr/share/man:/usr/local/share/man',\n",
       "        'HOSTNAME': 'tbegq202.hpc.wvu.edu',\n",
       "        'PBS_VERSION': 'TORQUE-6.1.3',\n",
       "        'SHELL': '/bin/bash',\n",
       "        'host': 'tbegq202.hpc.wvu.edu',\n",
       "        'HISTSIZE': '1000',\n",
       "        'PBS_JOBNAME': 'sys/dashboard/sys/Jupyter',\n",
       "        'LIBRARY_PATH': '/shared/software/lang/python/3.10.5_gcc112/lib:/shared/software/lang/gcc/11.2.0/lib64:/shared/software/lang/gcc/11.2.0/lib',\n",
       "        'PERL5LIB': '/users/gufranco/perl5/lib/perl5',\n",
       "        'PBS_ENVIRONMENT': 'PBS_BATCH',\n",
       "        'OLDPWD': '/users/gufranco/ondemand/data/sys/dashboard/batch_connect/sys/Jupyter/output/ee8a9cbf-0678-4565-b18b-e44c7c3e8ea1',\n",
       "        'PERL_MB_OPT': '--install_base \"/users/gufranco/perl5\"',\n",
       "        'PBS_O_WORKDIR': '/users/gufranco/ondemand/data/sys/dashboard/batch_connect/sys/Jupyter/output/ee8a9cbf-0678-4565-b18b-e44c7c3e8ea1',\n",
       "        'CONFIG_FILE': '/users/gufranco/ondemand/data/sys/dashboard/batch_connect/sys/Jupyter/output/ee8a9cbf-0678-4565-b18b-e44c7c3e8ea1/config.py',\n",
       "        'PBS_TASKNUM': '1',\n",
       "        'USER': 'gufranco',\n",
       "        'LD_LIBRARY_PATH': '/shared/software/lang/python/3.10.5_gcc112/lib:/shared/software/lang/gcc/11.2.0/lib64:/shared/software/lang/gcc/11.2.0/lib',\n",
       "        'PBS_O_HOME': '/users/gufranco',\n",
       "        'CPATH': '/shared/software/lang/python/3.10.5_gcc112/include:/shared/software/lang/gcc/11.2.0/include',\n",
       "        'MD_PYTHON3': '/shared/software/lang/python/3.10.5_gcc112',\n",
       "        'TMOUT': '0',\n",
       "        'COBBLER_SERVER': '10.240.136.28',\n",
       "        'PBS_WALLTIME': '14400',\n",
       "        'GCC_VERSION': '11.2.0',\n",
       "        'PBS_GPUFILE': '/var/spool/torque/aux//1653277.trcis002.hpc.wvu.edugpu',\n",
       "        'PBS_MOMPORT': '15003',\n",
       "        'PBS_O_QUEUE': 'comm_gpu_inter',\n",
       "        'MAIL': '/var/spool/mail/gufranco',\n",
       "        'PBS_O_LOGNAME': 'gufranco',\n",
       "        'PATH': '/shared/software/lang/python/3.10.5_gcc112/bin:/shared/software/lang/gcc/11.2.0/bin:/users/gufranco/.cargo/bin:/usr/local/conda/bin:/users/gufranco/perl5/bin:/usr/local/sbin:/usr/local/bin:/usr/sbin:/usr/bin:/root/bin:/opt/dell/srvadmin/sbin:/users/gufranco/.cargo/bin:/users/gufranco/.local/bin:/users/gufranco/bin',\n",
       "        'PBS_O_LANG': 'C',\n",
       "        'PBS_JOBCOOKIE': '0BB4CCA5CCB8ED468BD1BEB50FD4D15A',\n",
       "        'PWD': '/users/gufranco',\n",
       "        '_LMFILES_': '/shared/modulefiles/tier0/lang/gcc/11.2.0:/shared/modulefiles/tier0/lang/python/cpython_3.10.5_gcc112',\n",
       "        'HOST_COLOR': '\\\\[\\\\033[1;36m\\\\]',\n",
       "        'PBS_NODENUM': '0',\n",
       "        'LANG': 'en_US.utf8',\n",
       "        'MODULEPATH': '/usr/share/Modules/modulefiles:/etc/modulefiles:/shared/modulefiles/tier0:/shared/modulefiles/tier1:/shared/modulefiles/tier2:/shared/modulefiles/tier3:/shared/modulefiles/intel:/shared/modulefiles/intel',\n",
       "        'LOADEDMODULES': 'lang/gcc/11.2.0:lang/python/cpython_3.10.5_gcc112',\n",
       "        'PBS_NUM_NODES': '1',\n",
       "        'PBS_JOBID': '1653277.trcis002.hpc.wvu.edu',\n",
       "        'DEBUG_FILE': '/users/gufranco/ondemand/data/sys/dashboard/batch_connect/sys/Jupyter/output/ee8a9cbf-0678-4565-b18b-e44c7c3e8ea1/debug.log',\n",
       "        'HISTCONTROL': 'ignoredups',\n",
       "        'ENVIRONMENT': 'BATCH',\n",
       "        'SHLVL': '3',\n",
       "        'HOME': '/users/gufranco',\n",
       "        'PBS_O_HOST': 'lrp-trcvm001.hpc.wvu.edu',\n",
       "        'PERL_LOCAL_LIB_ROOT': '/users/gufranco/perl5',\n",
       "        'PBS_VNODENUM': '0',\n",
       "        'PYTHONPATH': '/scratch/gufranco/PyChemia',\n",
       "        'LOGNAME': 'gufranco',\n",
       "        'PBS_QUEUE': 'comm_gpu_inter',\n",
       "        'MODULESHOME': '/usr/share/Modules',\n",
       "        'PKG_CONFIG_PATH': '/shared/software/lang/python/3.10.5_gcc112/lib/pkgconfig:/shared/software/lang/gcc/11.2.0/lib64/pkgconfig:/shared/software/lang/gcc/11.2.0/lib/pkgconfig',\n",
       "        'MD_GCC': '/shared/software/lang/gcc/11.2.0',\n",
       "        'LESSOPEN': '||/usr/bin/lesspipe.sh %s',\n",
       "        'PBS_MICFILE': '/var/spool/torque/aux//1653277.trcis002.hpc.wvu.edumic',\n",
       "        'INFOPATH': '/shared/software/lang/gcc/11.2.0/share/info',\n",
       "        'port': '2957',\n",
       "        'PBS_NP': '24',\n",
       "        'PBS_NUM_PPN': '24',\n",
       "        'PBS_O_SERVER': 'trcis002.hpc.wvu.edu',\n",
       "        'INCLUDE': '/shared/software/lang/python/3.10.5_gcc112/include:/shared/software/lang/gcc/11.2.0/include',\n",
       "        'PERL_MM_OPT': 'INSTALL_BASE=/users/gufranco/perl5',\n",
       "        'SCRATCH': '/scratch/gufranco',\n",
       "        'PBS_NODEFILE': '/var/spool/torque/aux//1653277.trcis002.hpc.wvu.edu',\n",
       "        'PBS_O_PATH': '/var/www/ood/apps/sys/dashboard/tmp/node_modules/yarn/bin:/opt/ood/ondemand/root/usr/share/gems/2.7/bin:/opt/rh/rh-nodejs12/root/usr/bin:/opt/rh/rh-ruby27/root/usr/local/bin:/opt/rh/rh-ruby27/root/usr/bin:/opt/rh/httpd24/root/usr/bin:/opt/rh/httpd24/root/usr/sbin:/opt/ood/ondemand/root/usr/bin:/opt/ood/ondemand/root/usr/sbin:/sbin:/bin:/usr/sbin:/usr/bin',\n",
       "        'BASH_FUNC_port_used()': '() {  local port=\"${1#*:}\";\\n local host=$((expr \"${1}\" : \\'\\\\(.*\\\\):\\' || echo \"localhost\") | awk \\'END{print $NF}\\');\\n local port_strategies=(port_used_nc port_used_lsof port_used_bash port_used_python port_used_python3);\\n for strategy in ${port_strategies[@]};\\n do\\n $strategy $host $port;\\n status=$?;\\n if [[ \"$status\" == \"0\" ]] || [[ \"$status\" == \"1\" ]]; then\\n return $status;\\n fi;\\n done;\\n return 127\\n}',\n",
       "        'BASH_FUNC_module()': '() {  eval `/usr/bin/modulecmd bash $*`\\n}',\n",
       "        'BASH_FUNC_wait_until_port_used()': '() {  local port=\"${1}\";\\n local time=\"${2:-30}\";\\n for ((i=1; i<=time*2; i++))\\n do\\n port_used \"${port}\";\\n port_status=$?;\\n if [ \"$port_status\" == \"0\" ]; then\\n return 0;\\n else\\n if [ \"$port_status\" == \"127\" ]; then\\n echo \"commands to find port were either not found or inaccessible.\";\\n echo \"command options are lsof, nc, bash\\'s /dev/tcp, or python (or python3) with socket lib.\";\\n return 127;\\n fi;\\n fi;\\n sleep 0.5;\\n done;\\n return 1\\n}',\n",
       "        'BASH_FUNC_find_port()': '() {  local host=\"${1:-localhost}\";\\n local port=$(random_number \"${2:-2000}\" \"${3:-65535}\");\\n while port_used \"${host}:${port}\"; do\\n port=$(random_number \"${2:-2000}\" \"${3:-65535}\");\\n done;\\n echo \"${port}\"\\n}',\n",
       "        'BASH_FUNC_random_number()': '() {  shuf -i ${1}-${2} -n 1\\n}',\n",
       "        'BASH_FUNC_source_helpers()': '() {  function random_number () \\n { \\n shuf -i ${1}-${2} -n 1\\n };\\n export -f random_number;\\n function port_used_python () \\n { \\n python -c \"import socket; socket.socket().connect((\\'$1\\',$2))\" > /dev/null 2>&1\\n };\\n function port_used_python3 () \\n { \\n python3 -c \"import socket; socket.socket().connect((\\'$1\\',$2))\" > /dev/null 2>&1\\n };\\n function port_used_nc () \\n { \\n nc -w 2 \"$1\" \"$2\" < /dev/null > /dev/null 2>&1\\n };\\n function port_used_lsof () \\n { \\n lsof -i :\"$2\" > /dev/null 2>&1\\n };\\n function port_used_bash () \\n { \\n local bash_supported=$(strings /bin/bash 2>/dev/null | grep tcp);\\n if [ \"$bash_supported\" == \"/dev/tcp/*/*\" ]; then\\n ( : < /dev/tcp/$1/$2 ) > /dev/null 2>&1;\\n else\\n return 127;\\n fi\\n };\\n function port_used () \\n { \\n local port=\"${1#*:}\";\\n local host=$((expr \"${1}\" : \\'\\\\(.*\\\\):\\' || echo \"localhost\") | awk \\'END{print $NF}\\');\\n local port_strategies=(port_used_nc port_used_lsof port_used_bash port_used_python port_used_python3);\\n for strategy in ${port_strategies[@]};\\n do\\n $strategy $host $port;\\n status=$?;\\n if [[ \"$status\" == \"0\" ]] || [[ \"$status\" == \"1\" ]]; then\\n return $status;\\n fi;\\n done;\\n return 127\\n };\\n export -f port_used;\\n function find_port () \\n { \\n local host=\"${1:-localhost}\";\\n local port=$(random_number \"${2:-2000}\" \"${3:-65535}\");\\n while port_used \"${host}:${port}\"; do\\n port=$(random_number \"${2:-2000}\" \"${3:-65535}\");\\n done;\\n echo \"${port}\"\\n };\\n export -f find_port;\\n function wait_until_port_used () \\n { \\n local port=\"${1}\";\\n local time=\"${2:-30}\";\\n for ((i=1; i<=time*2; i++))\\n do\\n port_used \"${port}\";\\n port_status=$?;\\n if [ \"$port_status\" == \"0\" ]; then\\n return 0;\\n else\\n if [ \"$port_status\" == \"127\" ]; then\\n echo \"commands to find port were either not found or inaccessible.\";\\n echo \"command options are lsof, nc, bash\\'s /dev/tcp, or python (or python3) with socket lib.\";\\n return 127;\\n fi;\\n fi;\\n sleep 0.5;\\n done;\\n return 1\\n };\\n export -f wait_until_port_used;\\n function create_passwd () \\n { \\n tr -cd \\'a-zA-Z0-9\\' < /dev/urandom 2> /dev/null | head -c${1:-8}\\n };\\n export -f create_passwd\\n}',\n",
       "        'BASH_FUNC_create_passwd()': \"() {  tr -cd 'a-zA-Z0-9' < /dev/urandom 2> /dev/null | head -c${1:-8}\\n}\",\n",
       "        '_': '/shared/software/lang/python/3.10.5_gcc112/bin/jupyter',\n",
       "        'JPY_PARENT_PID': '81792',\n",
       "        'TERM': 'xterm-color',\n",
       "        'CLICOLOR': '1',\n",
       "        'PAGER': 'cat',\n",
       "        'GIT_PAGER': 'cat',\n",
       "        'MPLBACKEND': 'module://matplotlib_inline.backend_inline'}"
      ]
     },
     "execution_count": 28,
     "metadata": {},
     "output_type": "execute_result"
    }
   ],
   "source": [
    "os.environ"
   ]
  },
  {
   "cell_type": "markdown",
   "id": "25a45e4c",
   "metadata": {},
   "source": [
    "Individual environment variables can be retrieved"
   ]
  },
  {
   "cell_type": "code",
   "execution_count": 29,
   "id": "1ffdce09",
   "metadata": {},
   "outputs": [
    {
     "data": {
      "text/plain": [
       "'gufranco'"
      ]
     },
     "execution_count": 29,
     "metadata": {},
     "output_type": "execute_result"
    }
   ],
   "source": [
    "os.getenv('USER')"
   ]
  },
  {
   "cell_type": "markdown",
   "id": "e59c5010",
   "metadata": {},
   "source": [
    "A couple of functions reproduce the effect of a few commands in Unix/Linux like `pwd`, `cd` and `mkdir`"
   ]
  },
  {
   "cell_type": "code",
   "execution_count": 30,
   "id": "4995c455",
   "metadata": {},
   "outputs": [
    {
     "data": {
      "text/plain": [
       "'/gpfs20/scratch/gufranco/wvu_notebooks/Jupyter_notebooks/Python'"
      ]
     },
     "execution_count": 30,
     "metadata": {},
     "output_type": "execute_result"
    }
   ],
   "source": [
    "# Equivalent to pwd\n",
    "os.getcwd()"
   ]
  },
  {
   "cell_type": "code",
   "execution_count": 31,
   "id": "ef8fbf59",
   "metadata": {},
   "outputs": [],
   "source": [
    "# Equivalent to mkdir\n",
    "if not os.path.exists('test_folder'):\n",
    "    os.mkdir('test_folder')"
   ]
  },
  {
   "cell_type": "code",
   "execution_count": 32,
   "id": "a6bd6389",
   "metadata": {},
   "outputs": [],
   "source": [
    "# Equivalent to cd\n",
    "os.chdir('test_folder')\n",
    "os.chdir('..')"
   ]
  },
  {
   "cell_type": "code",
   "execution_count": 33,
   "id": "6ed2721a",
   "metadata": {},
   "outputs": [
    {
     "data": {
      "text/plain": [
       "[]"
      ]
     },
     "execution_count": 33,
     "metadata": {},
     "output_type": "execute_result"
    }
   ],
   "source": [
    "# Equivalent to ls\n",
    "os.listdir(\"test_folder\")"
   ]
  },
  {
   "cell_type": "code",
   "execution_count": 34,
   "id": "189ae758",
   "metadata": {},
   "outputs": [],
   "source": [
    "# Equivalent to rmdir\n",
    "os.rmdir('test_folder')"
   ]
  },
  {
   "cell_type": "markdown",
   "id": "8517bc64",
   "metadata": {},
   "source": [
    "These functions are useful in HPC to determine the number of cores on a machine"
   ]
  },
  {
   "cell_type": "code",
   "execution_count": 35,
   "id": "2daca843",
   "metadata": {},
   "outputs": [
    {
     "data": {
      "text/plain": [
       "52"
      ]
     },
     "execution_count": 35,
     "metadata": {},
     "output_type": "execute_result"
    }
   ],
   "source": [
    "os.cpu_count()"
   ]
  },
  {
   "cell_type": "markdown",
   "id": "eba019d7",
   "metadata": {},
   "source": [
    "The `os` module is particularly large and the functions above are just a tiny fraction of all the commands available. It is always better to use commands like `os.mkdir()` than to use external calls to system commands.\n",
    "A bad program habit is using for example:"
   ]
  },
  {
   "cell_type": "code",
   "execution_count": 36,
   "id": "cc6ad876",
   "metadata": {},
   "outputs": [
    {
     "data": {
      "text/plain": [
       "0"
      ]
     },
     "execution_count": 36,
     "metadata": {},
     "output_type": "execute_result"
    }
   ],
   "source": [
    "os.system(\"mkdir test_folder\")"
   ]
  },
  {
   "cell_type": "markdown",
   "id": "d53ed73d",
   "metadata": {},
   "source": [
    "This command, not only makes the code non-portable (will not work in Windows) but also on Unix systems is creating a subshell for a function that can be executed using `os.mkdir()`"
   ]
  },
  {
   "cell_type": "markdown",
   "id": "74f3c0f3",
   "metadata": {},
   "source": [
    "## os.path"
   ]
  },
  {
   "cell_type": "markdown",
   "id": "d42a2e6b",
   "metadata": {},
   "source": [
    "This module implements some useful functions on pathnames. For checking the existence of a file or folder or splitting the filename from the full path"
   ]
  },
  {
   "cell_type": "code",
   "execution_count": 37,
   "id": "a25c3bdb",
   "metadata": {},
   "outputs": [],
   "source": [
    "import os.path"
   ]
  },
  {
   "cell_type": "markdown",
   "id": "14f1c6a1",
   "metadata": {},
   "source": [
    "To know if a file or folder exists:"
   ]
  },
  {
   "cell_type": "code",
   "execution_count": 38,
   "id": "4f95152a",
   "metadata": {},
   "outputs": [],
   "source": [
    "if not os.path.exists('test_folder'):\n",
    "    os.mkdir('test_folder')"
   ]
  },
  {
   "cell_type": "code",
   "execution_count": 39,
   "id": "d2621392",
   "metadata": {},
   "outputs": [
    {
     "data": {
      "text/plain": [
       "False"
      ]
     },
     "execution_count": 39,
     "metadata": {},
     "output_type": "execute_result"
    }
   ],
   "source": [
    "os.path.isfile('test_folder')"
   ]
  },
  {
   "cell_type": "code",
   "execution_count": 40,
   "id": "89f06777",
   "metadata": {},
   "outputs": [
    {
     "data": {
      "text/plain": [
       "True"
      ]
     },
     "execution_count": 40,
     "metadata": {},
     "output_type": "execute_result"
    }
   ],
   "source": [
    "os.path.isdir('test_folder')"
   ]
  },
  {
   "cell_type": "code",
   "execution_count": 41,
   "id": "b3e36621",
   "metadata": {},
   "outputs": [
    {
     "name": "stdout",
     "output_type": "stream",
     "text": [
      "/gpfs20/scratch/gufranco/wvu_notebooks/Jupyter_notebooks/Python/test_folder\n"
     ]
    }
   ],
   "source": [
    "fullpath=os.path.abspath('test_folder')\n",
    "print(fullpath)"
   ]
  },
  {
   "cell_type": "code",
   "execution_count": 42,
   "id": "0976cfa8",
   "metadata": {},
   "outputs": [
    {
     "data": {
      "text/plain": [
       "('/gpfs20/scratch/gufranco/wvu_notebooks/Jupyter_notebooks/Python',\n",
       " 'test_folder')"
      ]
     },
     "execution_count": 42,
     "metadata": {},
     "output_type": "execute_result"
    }
   ],
   "source": [
    "os.path.split(fullpath)"
   ]
  },
  {
   "cell_type": "markdown",
   "id": "995a10e3",
   "metadata": {},
   "source": [
    "This function splits a path into two components (head, tail) where the tail is the last pathname component and the head is everything leading up to that. The tail part will never contain a slash; if the path ends in a slash, the tail will be empty.\n",
    "\n",
    "It is useful to separate the filename from the path to that file."
   ]
  },
  {
   "cell_type": "markdown",
   "id": "208780a1",
   "metadata": {},
   "source": [
    "<a id=\"shutil\"></a>\n",
    "# Module `shutil`"
   ]
  },
  {
   "cell_type": "markdown",
   "id": "31efda1b",
   "metadata": {},
   "source": [
    "For high-level operations on one or more files. Most functions in `shutil` support file copying and removal of multiple files from a single call. These functions are more efficient than creating loops and operate over the files individually."
   ]
  },
  {
   "cell_type": "code",
   "execution_count": 43,
   "id": "f98cfaf6",
   "metadata": {},
   "outputs": [],
   "source": [
    "import shutil"
   ]
  },
  {
   "cell_type": "code",
   "execution_count": 44,
   "id": "a35fe203",
   "metadata": {},
   "outputs": [
    {
     "data": {
      "text/plain": [
       "'test_folder/newfile1'"
      ]
     },
     "execution_count": 44,
     "metadata": {},
     "output_type": "execute_result"
    }
   ],
   "source": [
    "wf=open('newfile1','w')\n",
    "wf.close()\n",
    "if not os.path.exists('test_folder'):\n",
    "    os.mkdir('test_folder')\n",
    "shutil.copy2('newfile1', 'test_folder')"
   ]
  },
  {
   "cell_type": "code",
   "execution_count": 45,
   "id": "3bbb62e0",
   "metadata": {},
   "outputs": [],
   "source": [
    "shutil.rmtree('test_folder')\n",
    "os.remove(\"newfile1\")"
   ]
  },
  {
   "cell_type": "markdown",
   "id": "d5fabc72",
   "metadata": {},
   "source": [
    "<a id=\"itertools\"></a>\n",
    "# Module `itertools`"
   ]
  },
  {
   "cell_type": "markdown",
   "id": "ee10194e",
   "metadata": {},
   "source": [
    "In mathematics, statistic, and machine learning, the solution of many problems can be naturally expressed using the functional programming style instead. We will discuss Python’s support for the functional programming paradigm and `itertools` is one of the modules in the Standard Libray to program in this style.\n",
    "\n",
    "Combinations and permutations are often found in scientific problems. The module `itertools` offers efficient functions for creating *iterables* for those operations. Compared to actual lists, iterators can create infinite iterations, producing new elements as needed. An iterator has the advantage of using less memory than actual lists."
   ]
  },
  {
   "cell_type": "code",
   "execution_count": 46,
   "id": "f99cdec7",
   "metadata": {},
   "outputs": [],
   "source": [
    "import itertools"
   ]
  },
  {
   "cell_type": "markdown",
   "id": "86170ef5",
   "metadata": {},
   "source": [
    "**Infinite iterators** will create sequences of infinite length as shown below.\n",
    "There are two interators `count()` and `cycle()`"
   ]
  },
  {
   "cell_type": "code",
   "execution_count": 47,
   "id": "efcc0ba6",
   "metadata": {},
   "outputs": [
    {
     "name": "stdout",
     "output_type": "stream",
     "text": [
      "13\n",
      "14\n",
      "15\n",
      "16\n",
      "17\n",
      "18\n",
      "19\n",
      "20\n",
      "21\n",
      "22\n"
     ]
    }
   ],
   "source": [
    "index=0\n",
    "for i in itertools.count(13):\n",
    "    print(i)\n",
    "    index=index+1\n",
    "    if index>9:\n",
    "        break"
   ]
  },
  {
   "cell_type": "code",
   "execution_count": 48,
   "id": "ae357c4b",
   "metadata": {},
   "outputs": [
    {
     "name": "stdout",
     "output_type": "stream",
     "text": [
      "a\n",
      "e\n",
      "i\n",
      "o\n",
      "u\n",
      "a\n",
      "e\n",
      "i\n",
      "o\n",
      "u\n"
     ]
    }
   ],
   "source": [
    "index=0\n",
    "for i in itertools.cycle('aeiou'):\n",
    "    print(i)\n",
    "    index=index+1\n",
    "    if index>9:\n",
    "        break"
   ]
  },
  {
   "cell_type": "markdown",
   "id": "1ed423f4",
   "metadata": {},
   "source": [
    "**Finite iterators** will create sequences of a predetermined length as shown below.\n",
    "In the `itertools` module you can use `repeat()`:"
   ]
  },
  {
   "cell_type": "code",
   "execution_count": 49,
   "id": "861f073b",
   "metadata": {},
   "outputs": [
    {
     "name": "stdout",
     "output_type": "stream",
     "text": [
      "one\n",
      "one\n",
      "one\n",
      "one\n",
      "one\n"
     ]
    }
   ],
   "source": [
    "for i in itertools.repeat('one',5):\n",
    "    print(i)"
   ]
  },
  {
   "cell_type": "markdown",
   "id": "40e02ea2",
   "metadata": {},
   "source": [
    "For large interactions, this is more memory efficient than an equivalent:"
   ]
  },
  {
   "cell_type": "code",
   "execution_count": 50,
   "id": "8e34d1c7",
   "metadata": {},
   "outputs": [
    {
     "name": "stdout",
     "output_type": "stream",
     "text": [
      "one\n",
      "one\n",
      "one\n",
      "one\n",
      "one\n"
     ]
    }
   ],
   "source": [
    "for i in 5*['one']:\n",
    "    print(i)"
   ]
  },
  {
   "cell_type": "markdown",
   "id": "214f9638",
   "metadata": {},
   "source": [
    "**Combinatoric iterators**\n",
    "\n",
    "One of the reasons for using iterators is to produce permutations and combinations without explicitly creating long lists for evaluation. \n",
    "New values are generated on-the-fly which is usually far more efficient than lists.\n",
    "\n",
    "Iterators for Combinations and Permutations can be created as follows:"
   ]
  },
  {
   "cell_type": "code",
   "execution_count": 51,
   "id": "68b6400b",
   "metadata": {},
   "outputs": [
    {
     "name": "stdout",
     "output_type": "stream",
     "text": [
      "('A', 'B', 'C')\n",
      "('A', 'B', 'D')\n",
      "('A', 'C', 'B')\n",
      "('A', 'C', 'D')\n",
      "('A', 'D', 'B')\n",
      "('A', 'D', 'C')\n",
      "('B', 'A', 'C')\n",
      "('B', 'A', 'D')\n",
      "('B', 'C', 'A')\n",
      "('B', 'C', 'D')\n",
      "('B', 'D', 'A')\n",
      "('B', 'D', 'C')\n",
      "('C', 'A', 'B')\n",
      "('C', 'A', 'D')\n",
      "('C', 'B', 'A')\n",
      "('C', 'B', 'D')\n",
      "('C', 'D', 'A')\n",
      "('C', 'D', 'B')\n",
      "('D', 'A', 'B')\n",
      "('D', 'A', 'C')\n",
      "('D', 'B', 'A')\n",
      "('D', 'B', 'C')\n",
      "('D', 'C', 'A')\n",
      "('D', 'C', 'B')\n"
     ]
    }
   ],
   "source": [
    "for i in itertools.permutations('ABCD',3):\n",
    "    print(i)"
   ]
  },
  {
   "cell_type": "code",
   "execution_count": 52,
   "id": "c59ee5ca",
   "metadata": {},
   "outputs": [
    {
     "name": "stdout",
     "output_type": "stream",
     "text": [
      "('A', 'B', 'C')\n",
      "('A', 'B', 'D')\n",
      "('A', 'C', 'D')\n",
      "('B', 'C', 'D')\n"
     ]
    }
   ],
   "source": [
    "for i in itertools.combinations('ABCD',3):\n",
    "    print(i)"
   ]
  },
  {
   "cell_type": "code",
   "execution_count": 53,
   "id": "523e8b0b",
   "metadata": {},
   "outputs": [
    {
     "name": "stdout",
     "output_type": "stream",
     "text": [
      "('A', 'A')\n",
      "('A', 'B')\n",
      "('A', 'C')\n",
      "('A', 'D')\n",
      "('B', 'A')\n",
      "('B', 'B')\n",
      "('B', 'C')\n",
      "('B', 'D')\n",
      "('C', 'A')\n",
      "('C', 'B')\n",
      "('C', 'C')\n",
      "('C', 'D')\n",
      "('D', 'A')\n",
      "('D', 'B')\n",
      "('D', 'C')\n",
      "('D', 'D')\n"
     ]
    }
   ],
   "source": [
    "for i in itertools.product('ABCD',repeat=2):\n",
    "    print(i)"
   ]
  },
  {
   "cell_type": "markdown",
   "id": "67f9a4c8",
   "metadata": {},
   "source": [
    "<a id=\"json\"></a>\n",
    "# Module `json`"
   ]
  },
  {
   "cell_type": "markdown",
   "id": "eab86f6a",
   "metadata": {},
   "source": [
    "JSON is a lightweight data interchange format inspired by JavaScript object literal syntax. It is an effective and standard way of storing structured data. The JSON is just a format of serializing data similar to XML but more compact and easier to read for humans."
   ]
  },
  {
   "cell_type": "code",
   "execution_count": 54,
   "id": "091469e5",
   "metadata": {},
   "outputs": [],
   "source": [
    "import json"
   ]
  },
  {
   "cell_type": "markdown",
   "id": "1ec879f8",
   "metadata": {},
   "source": [
    "Consider serializing this dictionary:"
   ]
  },
  {
   "cell_type": "code",
   "execution_count": 55,
   "id": "3d186c67",
   "metadata": {},
   "outputs": [],
   "source": [
    "polygons={'triangle': 3, 'square': 4, 'pentagon': 5, 'hexagon': 6}"
   ]
  },
  {
   "cell_type": "code",
   "execution_count": 56,
   "id": "4ef09ef4",
   "metadata": {},
   "outputs": [
    {
     "data": {
      "text/plain": [
       "'{\"triangle\": 3, \"square\": 4, \"pentagon\": 5, \"hexagon\": 6}'"
      ]
     },
     "execution_count": 56,
     "metadata": {},
     "output_type": "execute_result"
    }
   ],
   "source": [
    "js=json.dumps(polygons)\n",
    "js"
   ]
  },
  {
   "cell_type": "markdown",
   "id": "71f48447",
   "metadata": {},
   "source": [
    "This is a string that can be easily read by humans and also easily converted into a python dictionary."
   ]
  },
  {
   "cell_type": "code",
   "execution_count": 57,
   "id": "ad0729b0",
   "metadata": {},
   "outputs": [
    {
     "data": {
      "text/plain": [
       "{'triangle': 3, 'square': 4, 'pentagon': 5, 'hexagon': 6}"
      ]
     },
     "execution_count": 57,
     "metadata": {},
     "output_type": "execute_result"
    }
   ],
   "source": [
    "poly=json.loads(js)\n",
    "poly"
   ]
  },
  {
   "cell_type": "markdown",
   "id": "d4ecf36c",
   "metadata": {},
   "source": [
    "There are extra arguments to beautify the string, for example:"
   ]
  },
  {
   "cell_type": "code",
   "execution_count": 58,
   "id": "f3ad7213",
   "metadata": {},
   "outputs": [
    {
     "name": "stdout",
     "output_type": "stream",
     "text": [
      "{\n",
      "    \"hexagon\": 6,\n",
      "    \"pentagon\": 5,\n",
      "    \"square\": 4,\n",
      "    \"triangle\": 3\n",
      "}\n"
     ]
    }
   ],
   "source": [
    "print(json.dumps(polygons, sort_keys=True, indent=4))"
   ]
  },
  {
   "cell_type": "markdown",
   "id": "a2bd116c",
   "metadata": {},
   "source": [
    "Similar to `json.dumps` and `json.loads` there are functions to write and read JSON content directly from readable files. The functions `json.dump(obj, fp, ...)` and `json.load(fp, ...)` work on File-like objects. File-like objects have to support `write()` and `read()` like normal text file objects."
   ]
  },
  {
   "cell_type": "markdown",
   "id": "84cf2ed3",
   "metadata": {},
   "source": [
    "<a id=\"subprocess\"></a>\n",
    "# Module `subprocess`"
   ]
  },
  {
   "cell_type": "markdown",
   "id": "f3f101d8",
   "metadata": {},
   "source": [
    "The subprocess module allows you to spawn new processes, connect to their input/output/error pipes, and obtain their return codes. This module intends to replace several older modules and functions like `os.system`. "
   ]
  },
  {
   "cell_type": "markdown",
   "id": "161e8681",
   "metadata": {},
   "source": [
    "The underlying process creation and management in this module is handled by the Popen class. It offers a lot of flexibility so that developers can handle the less common cases not covered by the convenience functions."
   ]
  },
  {
   "cell_type": "code",
   "execution_count": 59,
   "id": "9bebc734",
   "metadata": {},
   "outputs": [],
   "source": [
    "import subprocess"
   ]
  },
  {
   "cell_type": "code",
   "execution_count": 60,
   "id": "37997520",
   "metadata": {},
   "outputs": [],
   "source": [
    "sp= subprocess.Popen([\"ls\",\"-lha\",\"/\"], stdout=subprocess.PIPE, stderr=subprocess.PIPE, universal_newlines=True)\n"
   ]
  },
  {
   "cell_type": "code",
   "execution_count": 61,
   "id": "50c6636e",
   "metadata": {},
   "outputs": [
    {
     "data": {
      "text/plain": [
       "0"
      ]
     },
     "execution_count": 61,
     "metadata": {},
     "output_type": "execute_result"
    }
   ],
   "source": [
    "sp.wait()"
   ]
  },
  {
   "cell_type": "markdown",
   "id": "26d827cb",
   "metadata": {},
   "source": [
    "The `process.communicate()` call reads input and output from the process.  stdout is the process output. stderr will be written only if an error occurs.  If you want to wait for the program to finish you can call `Popen.wait()`."
   ]
  },
  {
   "cell_type": "code",
   "execution_count": 62,
   "id": "aa86b56a",
   "metadata": {},
   "outputs": [],
   "source": [
    "stout, sterr = sp.communicate()"
   ]
  },
  {
   "cell_type": "code",
   "execution_count": 63,
   "id": "ff983e98",
   "metadata": {},
   "outputs": [
    {
     "name": "stdout",
     "output_type": "stream",
     "text": [
      "total 568K\n",
      "drwxr-sr-x.  23 root root 4.0K Aug  6 15:35 .\n",
      "drwxr-sr-x.  23 root root 4.0K Aug  6 15:35 ..\n",
      "drwxr-xr-x    2 root root    0 Aug  6 15:35 auto\n",
      "-rw-r--r--    1 root root    0 Apr 20  2021 .autorelabel\n",
      "lrwxrwxrwx.   1 root root    7 Apr 20  2021 bin -> usr/bin\n",
      "dr-xr-xr-x.   4 root root 4.0K Jun 28  2021 boot\n",
      "drwxr-xr-x   23 root root 3.9K Aug  9 09:05 dev\n",
      "drwxr-sr-x. 130 root root 8.0K Aug  6 15:35 etc\n",
      "drwxr-sr-x    3 root root   26 Apr 20  2021 gpfs\n",
      "drwxr-xr-x   10 root root 128K Jan 15  2020 gpfs20\n",
      "drwxr-xr-x    4 root root 128K Aug 17 04:03 gpfs21\n",
      "lrwxrwxrwx    1 root root   13 Jan 23  2020 group -> /gpfs20/group\n",
      "drwxr-xr-x.   3 root root   23 Apr 20  2021 home\n",
      "lrwxrwxrwx.   1 root root    7 Apr 20  2021 lib -> usr/lib\n",
      "lrwxrwxrwx.   1 root root    9 Apr 20  2021 lib64 -> usr/lib64\n",
      "drwxr-xr-x.   2 root root    6 Dec 14  2017 media\n",
      "drwxr-xr-x    2 root root    0 Aug  6 15:35 misc\n",
      "drwxr-xr-x.   2 root root    6 Dec 14  2017 mnt\n",
      "drwxr-xr-x    2 root root    0 Aug  6 15:35 net\n",
      "drwxr-sr-x.   5 root root   56 Jan 13  2022 opt\n",
      "dr-xr-xr-x  665 root root    0 Aug  6 15:34 proc\n",
      "-rw-r--r--    1 root root 8.5K Aug  6 15:35 .readahead\n",
      "drwxr-sr-x.  10 root root 4.0K Jun 24 14:54 root\n",
      "drwxr-xr-x   31 root root 1.1K Aug  6 15:35 run\n",
      "lrwxrwxrwx.   1 root root    8 Apr 20  2021 sbin -> usr/sbin\n",
      "lrwxrwxrwx    1 root root   15 Jan 23  2020 scratch -> /gpfs20/scratch\n",
      "lrwxrwxrwx    1 root root   14 Jan 23  2020 shared -> /gpfs20/shared\n",
      "drwxr-xr-x.   2 root root    6 Dec 14  2017 srv\n",
      "dr-xr-xr-x   13 root root    0 Aug  7 12:07 sys\n",
      "drwxrwxrwt.  68 root root 8.0K Aug 22 22:13 tmp\n",
      "lrwxrwxrwx    1 root root   13 Jan 23  2020 users -> /gpfs20/users\n",
      "drwxr-xr-x.  16 root root  190 Jun 28  2021 usr\n",
      "drwxr-xr-x.  24 root root 4.0K Apr 20  2021 var\n",
      "\n"
     ]
    }
   ],
   "source": [
    "print(stout)"
   ]
  },
  {
   "cell_type": "markdown",
   "id": "059d9d8b",
   "metadata": {},
   "source": [
    "`subprocess` module has received several important changes in the last versions of Python 3.x. Prior to version 3.5 the high level function was `subprocess.call()`, `subprocess.check_call()` and `subprocess.check_output()` all this functionality was replaced by `subprocess.run()` from version 3.5 and beyond."
   ]
  },
  {
   "cell_type": "markdown",
   "id": "802901ec",
   "metadata": {},
   "source": [
    "<a id=\"multiprocessing\"></a>\n",
    "# Module `multiprocessing`"
   ]
  },
  {
   "cell_type": "markdown",
   "id": "91a2d110",
   "metadata": {},
   "source": [
    "Up to now, we have been dealing with serial processes but now most computers have several cores that allow us to do multiprocessing. Multiprocessing refers to the ability of a system to support more than one processor at the same time. Applications in a multiprocessing system are broken into smaller routines that run independently and in more cases, they talk to each other very infrequently. A simple way to see this is to have 4 different drivers that try to go from point A to point B. Each driver can take their own path but in the end, they will get together at point B. Python has different methods, where the operating system allocates these threads to the processors improving the performance of the system.\n",
    "\n",
    "`multiprocessing` is a package that supports spawning processes using an API similar to the threading module. The multiprocessing package effectively side-stepping the Global Interpreter Lock by using subprocesses instead of threads. Due to this, the multiprocessing module allows the programmer to fully leverage multiple processors on a given machine.\n",
    "\n",
    "For intensive numerical calculations, `multiprocessing` must be preferred over `multithreading` a similar module that spawns threads instead of processes.\n",
    "\n",
    "The frequently use class `Pool` offers a simple way to spawn multiple workers to divide the same function over an *iterable* dividing the workload over several workers. The prototypical example is like this:"
   ]
  },
  {
   "cell_type": "code",
   "execution_count": 64,
   "id": "bc3a8856",
   "metadata": {},
   "outputs": [],
   "source": [
    "import sys\n",
    "sys.path.insert(0, './scripts')\n",
    "\n",
    "from worker import funcx2"
   ]
  },
  {
   "cell_type": "code",
   "execution_count": 65,
   "id": "1b9e3554",
   "metadata": {},
   "outputs": [],
   "source": [
    "import multiprocessing"
   ]
  },
  {
   "cell_type": "code",
   "execution_count": 66,
   "id": "b5bde3a0",
   "metadata": {},
   "outputs": [
    {
     "data": {
      "text/plain": [
       "52"
      ]
     },
     "execution_count": 66,
     "metadata": {},
     "output_type": "execute_result"
    }
   ],
   "source": [
    "multiprocessing.cpu_count()"
   ]
  },
  {
   "cell_type": "code",
   "execution_count": 67,
   "id": "29f89e3d",
   "metadata": {},
   "outputs": [],
   "source": [
    "import multiprocessing as mp\n",
    "\n",
    "from worker import funcx2\n",
    "\n",
    "with mp.Pool() as pool:\n",
    "    args = list(range(10))\n",
    "    res = pool.map(funcx2, args)\n",
    "    pool.close()\n",
    "    pool.join()"
   ]
  },
  {
   "cell_type": "code",
   "execution_count": 68,
   "id": "9e7d3959",
   "metadata": {},
   "outputs": [
    {
     "data": {
      "text/plain": [
       "[0, 1, 4, 9, 16, 25, 36, 49, 64, 81]"
      ]
     },
     "execution_count": 68,
     "metadata": {},
     "output_type": "execute_result"
    }
   ],
   "source": [
    "res"
   ]
  },
  {
   "cell_type": "code",
   "execution_count": 69,
   "id": "4e25ebd6",
   "metadata": {},
   "outputs": [
    {
     "name": "stdout",
     "output_type": "stream",
     "text": [
      "\t 1\n",
      "\t 4\n",
      "\t 9\n",
      "\t 16\n"
     ]
    }
   ],
   "source": [
    "import multiprocessing\n",
    "\n",
    "from worker import funcx2\n",
    "\n",
    "def driver_func():\n",
    "    PROCESSES = 4\n",
    "    with multiprocessing.Pool(PROCESSES) as pool:\n",
    "        params = [(1, ), (2, ), (3, ), (4, )]\n",
    "        results = [pool.apply_async(funcx2, p) for p in params]\n",
    "\n",
    "        for r in results:\n",
    "            print('\\t', r.get())\n",
    "driver_func()"
   ]
  },
  {
   "cell_type": "code",
   "execution_count": 70,
   "id": "c4e228c2",
   "metadata": {},
   "outputs": [
    {
     "name": "stdout",
     "output_type": "stream",
     "text": [
      "[1, 4, 9]\n"
     ]
    }
   ],
   "source": [
    "from multiprocessing import Pool\n",
    "\n",
    "from worker import funcx2\n",
    "\n",
    "if __name__ == '__main__':\n",
    "    with Pool(4) as p:\n",
    "        print(p.map(funcx2, [1, 2, 3]))"
   ]
  },
  {
   "cell_type": "code",
   "execution_count": 71,
   "id": "f0ffb9f3",
   "metadata": {},
   "outputs": [
    {
     "data": {
      "image/png": "[encoded data removed]",
      "text/plain": [
       "<Figure size 640x480 with 1 Axes>"
      ]
     },
     "metadata": {},
     "output_type": "display_data"
    }
   ],
   "source": [
    "import math\n",
    "import matplotlib.pyplot as plt\n",
    "\n",
    "ppn=multiprocessing.cpu_count()\n",
    "ppn=1\n",
    "\n",
    "from worker import funcx2\n",
    "\n",
    "if __name__ == '__main__':\n",
    "    with multiprocessing.Pool(ppn) as p:\n",
    "        ret = p.map(funcx2, range(1,100))\n",
    "        \n",
    "plt.plot(ret);"
   ]
  },
  {
   "cell_type": "code",
   "execution_count": 72,
   "id": "d3c67eae",
   "metadata": {},
   "outputs": [
    {
     "data": {
      "text/plain": [
       "52"
      ]
     },
     "execution_count": 72,
     "metadata": {},
     "output_type": "execute_result"
    }
   ],
   "source": [
    "multiprocessing.cpu_count()"
   ]
  },
  {
   "cell_type": "markdown",
   "id": "1714ec70",
   "metadata": {},
   "source": [
    "This is a function to get the number of cores on the system. That is different from the number of cores available to the Python process. The recommended method is using `os.sched_getaffinity(0)` but it is absent on some architectures. In particular in macOS, Windows, and some old Linux distros."
   ]
  },
  {
   "cell_type": "markdown",
   "id": "a824123d",
   "metadata": {},
   "source": [
    "# Final Remarks"
   ]
  },
  {
   "cell_type": "markdown",
   "id": "88648f03",
   "metadata": {},
   "source": [
    "The Python Standard Library is extensive, and the API is more prone to changes than the language itself. In real projects is better to decide what will be the oldest version of Python that will be supported and keep compatibility until the marker is shifted for a more recent version. Most Linux distributions today include Python 3.9 or newer."
   ]
  },
  {
   "cell_type": "markdown",
   "id": "22a34269",
   "metadata": {},
   "source": [
    "# Acknowledgments and References\n",
    "\n",
    "This Notebook has been adapted by **Guillermo Avendaño** (WVU), **Jose Rogan** (Universidad de Chile) and **Aldo Humberto Romero** (WVU) from the [Tutorials for Stanford cs228 and cs231n](https://github.com/kuleshov/cs228-material). A large part of the info was also built from scratch. In turn, that material was adapted by [Volodymyr Kuleshov](http://web.stanford.edu/~kuleshov/) and [Isaac Caswell](https://symsys.stanford.edu/viewing/symsysaffiliate/21335) from the `CS231n` Python tutorial by Justin Johnson (http://cs231n.github.io/python-numpy-tutorial/). Another good resource, in particular, if you want to just look for an answer to specific questions is [planetpython.org](http:planetpython.org), in particular for data science.\n",
    "\n",
    "Changes to the original tutorial include strict Python 3 formats and a split of the material to fit a series of lessons on Python Programming for WVU's faculty and graduate students.\n",
    "\n",
    "The support of the National Science Foundation and the US Department of Energy under projects: DMREF-NSF 1434897, NSF OAC-1740111 and DOE DE-SC0016176 is recognized.\n",
    "\n",
    "<div style=\"clear: both; display: table;\">\n",
    "<div style=\"border: none; float: left; width: 40%; padding: 10px\">\n",
    "<img src=\"fig/NSF.jpg\" alt=\"National Science Foundation\" style=\"width:50%\" align=\"left\">\n",
    "    </div>\n",
    "    <div style=\"border: none; float: right; width: 40%; padding: 10px\">\n",
    "<img src=\"fig/DOE.jpg\" alt=\"National Science Foundation\" style=\"width:50%\" align=\"right\">\n",
    "</div>"
   ]
  },
  {
   "cell_type": "markdown",
   "id": "0e9b9f1c",
   "metadata": {},
   "source": [
    "# Back of the Book"
   ]
  },
  {
   "cell_type": "code",
   "execution_count": 73,
   "id": "d2177adb",
   "metadata": {
    "scrolled": true
   },
   "outputs": [
    {
     "data": {
      "image/png": "[encoded data removed]",
      "text/plain": [
       "<Figure size 300x300 with 1 Axes>"
      ]
     },
     "metadata": {},
     "output_type": "display_data"
    }
   ],
   "source": [
    "plt.figure(figsize=(3,3))\n",
    "n = chapter_number\n",
    "maxt=(2*(n-1)+3)*np.pi/2\n",
    "t = np.linspace(np.pi/2, maxt, 1000)\n",
    "tt= 1.0/(t+0.01)\n",
    "x = (maxt-t)*np.cos(t)**3\n",
    "y = t*np.sqrt(np.abs(np.cos(t))) + np.sin(0.3*t)*np.cos(2*t)\n",
    "plt.plot(x, y, c=\"green\")\n",
    "plt.axis('off');"
   ]
  },
  {
   "cell_type": "code",
   "execution_count": 74,
   "id": "6c7061bb",
   "metadata": {},
   "outputs": [
    {
     "name": "stdout",
     "output_type": "stream",
     "text": [
      "Chapter 2 run in 4 seconds\n"
     ]
    }
   ],
   "source": [
    "end = time.time()\n",
    "print(f'Chapter {chapter_number} run in {int(end - start):d} seconds')"
   ]
  }
 ],
 "metadata": {
  "kernelspec": {
   "display_name": "Python 3 (ipykernel)",
   "language": "python",
   "name": "python3"
  },
  "language_info": {
   "codemirror_mode": {
    "name": "ipython",
    "version": 3
   },
   "file_extension": ".py",
   "mimetype": "text/x-python",
   "name": "python",
   "nbconvert_exporter": "python",
   "pygments_lexer": "ipython3",
   "version": "3.10.5"
  }
 },
 "nbformat": 4,
 "nbformat_minor": 5
}
