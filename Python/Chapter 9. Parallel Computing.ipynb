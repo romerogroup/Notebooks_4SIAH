{
 "cells": [
  {
   "cell_type": "markdown",
   "metadata": {},
   "source": [
    "![Python Programming for Scientists in a hurry](./fig/Title_Python.png)"
   ]
  },
  {
   "cell_type": "markdown",
   "metadata": {},
   "source": [
    "<div style=\"clear: both; display: table;\">\n",
    "  <div style=\"border: none; float: left; width: 60%; padding: 5px\">\n",
    "  <h1 id=\"subtitle\">Chapter 9. Parallel Computing</h1>\n",
    "  <h2 id=\"subtitle\">Guillermo Avendaño Franco<br>Aldo Humberto Romero</h2>\n",
    "  <br>\n",
    "  <img src=\"fig/1-line logotype124-295.png\" alt=\"Scientific Computing with Python\" style=\"width:50%\" align=\"left\">\n",
    "  </div>\n",
    "  <div style=\"border: none; float: left; width: 30%; padding: 5px\">\n",
    "  <img src=\"fig/SCPython.png\" alt=\"Scientific Computing with Python\" style=\"width:100%\">\n",
    "  </div>\n",
    "</div>"
   ]
  },
  {
   "cell_type": "markdown",
   "metadata": {},
   "source": [
    "## List of Notebooks\n",
    "\n",
    "Python is a great general-purpose programming language on its own.\n",
    "Python is a general purpose programming language. It is interpreted and dynamically typed and is very suited for interactive work and quick prototyping while being powerful enough to write large applications in.\n",
    "The lesson is particularly oriented to Scientific Computing. \n",
    "Other episodes in the series include:\n",
    "\n",
    "  * Language Syntax\n",
    "  * Standard Library\n",
    "  * Scientific Packages\n",
    "  * NumPy\n",
    "  * Matplotlib\n",
    "  * SciPy \n",
    "  * Pandas\n",
    "  * Cython\n",
    "  * **Parallel Computing \\[This notebook\\]**\n",
    "\n",
    "After completing all the series in this lesson you will realize that python has become a powerful environment for scientific computing at several levels, from interactive computing to scripting to big project developments."
   ]
  },
  {
   "cell_type": "markdown",
   "metadata": {},
   "source": [
    "## Setup"
   ]
  },
  {
   "cell_type": "code",
   "execution_count": 1,
   "metadata": {},
   "outputs": [],
   "source": [
    "%load_ext watermark"
   ]
  },
  {
   "cell_type": "code",
   "execution_count": 2,
   "metadata": {
    "scrolled": true
   },
   "outputs": [
    {
     "name": "stdout",
     "output_type": "stream",
     "text": [
      "Last updated: 2024-07-25T17:35:54.493703-04:00\n",
      "\n",
      "Python implementation: CPython\n",
      "Python version       : 3.11.7\n",
      "IPython version      : 8.14.0\n",
      "\n",
      "Compiler    : Clang 12.0.0 (clang-1200.0.32.29)\n",
      "OS          : Darwin\n",
      "Release     : 20.6.0\n",
      "Machine     : x86_64\n",
      "Processor   : i386\n",
      "CPU cores   : 8\n",
      "Architecture: 64bit\n",
      "\n"
     ]
    }
   ],
   "source": [
    "%watermark"
   ]
  },
  {
   "cell_type": "code",
   "execution_count": 3,
   "metadata": {},
   "outputs": [],
   "source": [
    "import time\n",
    "start = time.time()\n",
    "chapter_number = 9\n",
    "import matplotlib\n",
    "%matplotlib inline\n",
    "%load_ext autoreload\n",
    "%autoreload 2"
   ]
  },
  {
   "cell_type": "code",
   "execution_count": 4,
   "metadata": {},
   "outputs": [],
   "source": [
    "import numpy as np\n",
    "import matplotlib.pyplot as plt"
   ]
  },
  {
   "cell_type": "code",
   "execution_count": 5,
   "metadata": {},
   "outputs": [
    {
     "name": "stdout",
     "output_type": "stream",
     "text": [
      "matplotlib: 3.8.2\n",
      "numpy     : 1.26.2\n",
      "\n"
     ]
    }
   ],
   "source": [
    "%watermark -iv"
   ]
  },
  {
   "cell_type": "markdown",
   "metadata": {},
   "source": [
    "# Parallel Computing"
   ]
  },
  {
   "cell_type": "markdown",
   "metadata": {},
   "source": [
    "Everything we have discussed now only refers to calculations that use a single processor, but Python already offers a series of tools and implementations for parallel computing. In this notebook, we will discuss some of the possible uses and existing libraries on Parallel python. Up to now, we have made choices on the libraries we have been using, but we would like to stress that this is a very important step in the case of high-performance computing. As this is going to be an important factor, let us recall a function that we will use a lot %timeit. This is just a method to measure the time used for the computation.\n",
    "\n",
    "As you can imagine, not all algorithms are parallelizable and that is something we need to keep in mind. Also, Python is not the programming language for parallelization but, as you have already covered a lot, I think, it is a good idea that we used to build the basics of parallel computing.\n",
    "\n",
    "Another issue is how to improve Python performance. Python was not designed specifically for numerical applications but we can indeed use different packages created for this purpose. This is what is going to be discussed here. We will discuss, where it is going to be a good idea to communicate with an external package (probably created by a compiled language) or when the overhead could be so big that using python would be better."
   ]
  },
  {
   "cell_type": "markdown",
   "metadata": {},
   "source": [
    "# Intrinsic Parallelization (Numpy and Scipy)"
   ]
  },
  {
   "cell_type": "markdown",
   "metadata": {},
   "source": [
    "As discussed, the core part of Numpy is to deal with NumPy arrays. This library has a lot of functionality, where many of the functions come from intrinsic implementations from C or Fortran. Usually, the library relies on Lapack or BLAS to perform low-level computations (if the libraries already exist in your library, you need to configure and compile Numpy in your system. To check which configuration you are using run the following commands"
   ]
  },
  {
   "cell_type": "code",
   "execution_count": 6,
   "metadata": {},
   "outputs": [
    {
     "name": "stdout",
     "output_type": "stream",
     "text": [
      "Build Dependencies:\n",
      "  blas:\n",
      "    detection method: system\n",
      "    found: true\n",
      "    include directory: unknown\n",
      "    lib directory: unknown\n",
      "    name: openblas\n",
      "    openblas configuration: unknown\n",
      "    pc file directory: unknown\n",
      "    version: 0.3.25\n",
      "  lapack:\n",
      "    detection method: internal\n",
      "    found: true\n",
      "    include directory: unknown\n",
      "    lib directory: unknown\n",
      "    name: dep4544045072\n",
      "    openblas configuration: unknown\n",
      "    pc file directory: unknown\n",
      "    version: 1.26.2\n",
      "Compilers:\n",
      "  c:\n",
      "    commands: /usr/bin/clang\n",
      "    linker: ld64\n",
      "    name: clang\n",
      "    version: 11.0.3\n",
      "  c++:\n",
      "    commands: /usr/bin/clang++\n",
      "    linker: ld64\n",
      "    name: clang\n",
      "    version: 11.0.3\n",
      "  cython:\n",
      "    commands: /opt/local/bin/cython-3.11\n",
      "    linker: cython\n",
      "    name: cython\n",
      "    version: 0.29.36\n",
      "Machine Information:\n",
      "  build:\n",
      "    cpu: x86_64\n",
      "    endian: little\n",
      "    family: x86_64\n",
      "    system: darwin\n",
      "  host:\n",
      "    cpu: x86_64\n",
      "    endian: little\n",
      "    family: x86_64\n",
      "    system: darwin\n",
      "Python Information:\n",
      "  path: /opt/local/Library/Frameworks/Python.framework/Versions/3.11/bin/python3.11\n",
      "  version: '3.11'\n",
      "SIMD Extensions:\n",
      "  baseline:\n",
      "  - SSE\n",
      "  - SSE2\n",
      "  - SSE3\n",
      "  found:\n",
      "  - SSSE3\n",
      "  - SSE41\n",
      "  - POPCNT\n",
      "  - SSE42\n",
      "  - AVX\n",
      "  - F16C\n",
      "  - FMA3\n",
      "  - AVX2\n",
      "  not found:\n",
      "  - AVX512F\n",
      "  - AVX512CD\n",
      "  - AVX512_KNL\n",
      "  - AVX512_SKX\n",
      "  - AVX512_CLX\n",
      "  - AVX512_CNL\n",
      "  - AVX512_ICL\n",
      "\n",
      "Build Dependencies:\n",
      "  blas:\n",
      "    detection method: pkgconfig\n",
      "    found: true\n",
      "    include directory: /usr/local/include\n",
      "    lib directory: /usr/local/lib\n",
      "    name: openblas\n",
      "    openblas configuration: USE_64BITINT= DYNAMIC_ARCH=1 DYNAMIC_OLDER= NO_CBLAS=\n",
      "      NO_LAPACK= NO_LAPACKE= NO_AFFINITY=1 USE_OPENMP= SANDYBRIDGE MAX_THREADS=3\n",
      "    pc file directory: /usr/local/lib/pkgconfig\n",
      "    version: 0.3.21.dev\n",
      "  lapack:\n",
      "    detection method: pkgconfig\n",
      "    found: true\n",
      "    include directory: /usr/local/include\n",
      "    lib directory: /usr/local/lib\n",
      "    name: openblas\n",
      "    openblas configuration: USE_64BITINT= DYNAMIC_ARCH=1 DYNAMIC_OLDER= NO_CBLAS=\n",
      "      NO_LAPACK= NO_LAPACKE= NO_AFFINITY=1 USE_OPENMP= SANDYBRIDGE MAX_THREADS=3\n",
      "    pc file directory: /usr/local/lib/pkgconfig\n",
      "    version: 0.3.21.dev\n",
      "  pybind11:\n",
      "    detection method: config-tool\n",
      "    include directory: unknown\n",
      "    name: pybind11\n",
      "    version: 2.10.4\n",
      "Compilers:\n",
      "  c:\n",
      "    commands: cc\n",
      "    linker: ld64\n",
      "    name: clang\n",
      "    version: 13.0.0\n",
      "  c++:\n",
      "    commands: c++\n",
      "    linker: ld64\n",
      "    name: clang\n",
      "    version: 13.0.0\n",
      "  cython:\n",
      "    commands: cython\n",
      "    linker: cython\n",
      "    name: cython\n",
      "    version: 0.29.35\n",
      "  fortran:\n",
      "    commands: gfortran\n",
      "    linker: ld64\n",
      "    name: gcc\n",
      "    version: 11.3.0\n",
      "  pythran:\n",
      "    include directory: ../../../../../../private/var/folders/24/8k48jl6d249_n_qfxwsl6xvm0000gn/T/pip-build-env-qix5zday/overlay/lib/python3.11/site-packages/pythran\n",
      "    version: 0.13.1\n",
      "Machine Information:\n",
      "  build:\n",
      "    cpu: x86_64\n",
      "    endian: little\n",
      "    family: x86_64\n",
      "    system: darwin\n",
      "  cross-compiled: false\n",
      "  host:\n",
      "    cpu: x86_64\n",
      "    endian: little\n",
      "    family: x86_64\n",
      "    system: darwin\n",
      "Python Information:\n",
      "  path: /private/var/folders/24/8k48jl6d249_n_qfxwsl6xvm0000gn/T/cibw-run-6zuf93bc/cp311-macosx_x86_64/build/venv/bin/python\n",
      "  version: '3.11'\n",
      "\n"
     ]
    }
   ],
   "source": [
    "import numpy, scipy\n",
    "numpy.__config__.show()\n",
    "scipy.__config__.show()"
   ]
  },
  {
   "cell_type": "markdown",
   "metadata": {},
   "source": [
    "If they are not linked to CLAS of LAPACK, you will need to reconfigure your Numpy. For such, you can look on the web on how to do that.\n",
    "Now, the operations in Numpy are vectorized, which means that if we add two vectors and they do not have the same dimension, it will raise an error. For example"
   ]
  },
  {
   "cell_type": "code",
   "execution_count": 7,
   "metadata": {},
   "outputs": [],
   "source": [
    "import numpy as np"
   ]
  },
  {
   "cell_type": "markdown",
   "metadata": {},
   "source": [
    "```python\n",
    "a=np.ones(10); b=np.ones(8)\n",
    "a+b\n",
    "```\n",
    "    ---------------------------------------------------------------------------\n",
    "    ValueError                                Traceback (most recent call last)\n",
    "    Input In [6], in <cell line: 2>()\n",
    "          1 a=np.ones(10); b=np.ones(8)\n",
    "    ----> 2 a+b\n",
    "\n",
    "    ValueError: operands could not be broadcast together with shapes (10,) (8,) \n"
   ]
  },
  {
   "cell_type": "code",
   "execution_count": 8,
   "metadata": {},
   "outputs": [
    {
     "data": {
      "text/plain": [
       "array([2., 2., 2., 2., 2., 2., 2., 2., 2., 2.])"
      ]
     },
     "execution_count": 8,
     "metadata": {},
     "output_type": "execute_result"
    }
   ],
   "source": [
    "a=np.ones(10); b=np.ones(10)\n",
    "a+b"
   ]
  },
  {
   "cell_type": "markdown",
   "metadata": {},
   "source": [
    "The reason why is it better to use addition or other functions of NumPy arrays, is because these operations are implemented already in C and NumPy is just the interface."
   ]
  },
  {
   "cell_type": "markdown",
   "metadata": {},
   "source": [
    "Now, a note on the side, do not confuse element-wise multiplication (A*B) with matrix multiplication (dot(A,B)). For example"
   ]
  },
  {
   "cell_type": "code",
   "execution_count": 9,
   "metadata": {},
   "outputs": [],
   "source": [
    "a=np.ones((4,4))\n",
    "b=np.random.rand(4,4)"
   ]
  },
  {
   "cell_type": "code",
   "execution_count": 10,
   "metadata": {},
   "outputs": [
    {
     "data": {
      "text/plain": [
       "array([[0.50618277, 0.88227263, 0.47370527, 0.26355074],\n",
       "       [0.5325218 , 0.3468359 , 0.06801318, 0.26300101],\n",
       "       [0.967358  , 0.85580381, 0.49835072, 0.81961897],\n",
       "       [0.15663472, 0.28152378, 0.54711352, 0.81059243]])"
      ]
     },
     "execution_count": 10,
     "metadata": {},
     "output_type": "execute_result"
    }
   ],
   "source": [
    "a*b"
   ]
  },
  {
   "cell_type": "code",
   "execution_count": 11,
   "metadata": {},
   "outputs": [
    {
     "data": {
      "text/plain": [
       "array([[2.16269729, 2.36643612, 1.58718268, 2.15676315],\n",
       "       [2.16269729, 2.36643612, 1.58718268, 2.15676315],\n",
       "       [2.16269729, 2.36643612, 1.58718268, 2.15676315],\n",
       "       [2.16269729, 2.36643612, 1.58718268, 2.15676315]])"
      ]
     },
     "execution_count": 11,
     "metadata": {},
     "output_type": "execute_result"
    }
   ],
   "source": [
    "np.dot(a,b)"
   ]
  },
  {
   "cell_type": "markdown",
   "metadata": {},
   "source": [
    "## Speeding Python"
   ]
  },
  {
   "cell_type": "markdown",
   "metadata": {},
   "source": [
    "Now, as we discussed, there are many other properties in NumPy that are useful in parallel computing. In particular, when it is used with other packages, as is the case of SciPy. As discussed in the SciPy chapter, this package contains many different algorithms to perform interpolation, Fourier analysis, linear algebra, ordinary differential equations, etc. A great majority of the algorithms are written in C or Fortran and interfaced with Python in this library. \n",
    "We have discussed several examples in the SciPy chapter, but let us here recap and used them for the solution of a set of ordinary differential equations. Here, we will use the wrapper odeint, which is a Scipy function on top of the *lsoda* Fortran function. If we time this routine and compare it with the compiled version, we will see that Python is slow. This is mainly because Python has to communicate with the Fortran version, pass the data, wait for the one step and do the interpretation of the result."
   ]
  },
  {
   "cell_type": "code",
   "execution_count": 12,
   "metadata": {},
   "outputs": [],
   "source": [
    "import scipy.integrate\n",
    "\n",
    "# Parameters from Google\n",
    "\n",
    "sigma = 10\n",
    "rho = 28\n",
    "beta = 8.0/3\n",
    "\n",
    "def lorenz(xyz, t):\n",
    "    x,y,z = xyz\n",
    "    xdot = sigma*(y-x)\n",
    "    ydot = x*(rho-z) - y\n",
    "    zdot = x*y - beta*z\n",
    "    return [xdot, ydot, zdot]\n",
    "\n",
    "def integrate_lorenz(ic=[1.,1.,1.]):\n",
    "    traj = scipy.integrate.odeint(lorenz, ic, np.arange(0., 1000., 0.05))\n",
    "    return traj"
   ]
  },
  {
   "cell_type": "code",
   "execution_count": 13,
   "metadata": {},
   "outputs": [
    {
     "name": "stdout",
     "output_type": "stream",
     "text": [
      "(20000, 3)\n"
     ]
    }
   ],
   "source": [
    "d=integrate_lorenz()\n",
    "print(d.shape)"
   ]
  },
  {
   "cell_type": "code",
   "execution_count": 14,
   "metadata": {},
   "outputs": [
    {
     "data": {
      "image/png": "[encoded data removed]",
      "text/plain": [
       "<Figure size 1200x600 with 1 Axes>"
      ]
     },
     "metadata": {},
     "output_type": "display_data"
    }
   ],
   "source": [
    "import matplotlib as mpl\n",
    "from mpl_toolkits.mplot3d import Axes3D\n",
    "import matplotlib.pyplot as plt\n",
    "%matplotlib inline  \n",
    "\n",
    "fig = plt.figure(figsize=(12,6))\n",
    "ax = plt.axes(projection='3d')\n",
    "ax.scatter(d[:,0], d[:,1], d[:,2], label='parametric curve')\n",
    "\n",
    "plt.show()\n"
   ]
  },
  {
   "cell_type": "markdown",
   "metadata": {},
   "source": [
    "Now, we have already discussed that using these libraries can be slow. We can improve the performance by using existing libraries that create the C code or the machine language that makes this faster. We have discussed the case of Cython but there is another package that is easy to use, the so-called JIT (just in time), which creates C compiled version on the fly. Let's see how to use it"
   ]
  },
  {
   "cell_type": "code",
   "execution_count": 15,
   "metadata": {},
   "outputs": [
    {
     "ename": "ModuleNotFoundError",
     "evalue": "No module named 'numba'",
     "output_type": "error",
     "traceback": [
      "\u001b[0;31m---------------------------------------------------------------------------\u001b[0m",
      "\u001b[0;31mModuleNotFoundError\u001b[0m                       Traceback (most recent call last)",
      "Cell \u001b[0;32mIn[15], line 1\u001b[0m\n\u001b[0;32m----> 1\u001b[0m \u001b[38;5;28;01mfrom\u001b[39;00m \u001b[38;5;21;01mnumba\u001b[39;00m \u001b[38;5;28;01mimport\u001b[39;00m jit\n\u001b[1;32m      3\u001b[0m \u001b[38;5;129m@jit\u001b[39m\n\u001b[1;32m      4\u001b[0m \u001b[38;5;28;01mdef\u001b[39;00m \u001b[38;5;21mnumba_lorenz\u001b[39m(xyz,t):\n\u001b[1;32m      5\u001b[0m     x,y,z \u001b[38;5;241m=\u001b[39m xyz\n",
      "\u001b[0;31mModuleNotFoundError\u001b[0m: No module named 'numba'"
     ]
    }
   ],
   "source": [
    "from numba import jit\n",
    "\n",
    "@jit\n",
    "def numba_lorenz(xyz,t):\n",
    "    x,y,z = xyz\n",
    "    xdot = sigma*(y-x)\n",
    "    ydot = x*(rho-z) - y\n",
    "    zdot = x*y - beta*z\n",
    "    return [xdot, ydot, zdot]\n",
    "\n",
    "def integrate_numba_lorenz(ic=[1.,1.,1.]):\n",
    "    res = scipy.integrate.odeint(numba_lorenz, ic, np.arange(0., 500., 0.05))\n",
    "    return res"
   ]
  },
  {
   "cell_type": "code",
   "execution_count": null,
   "metadata": {},
   "outputs": [],
   "source": [
    "%timeit integrate_lorenz()\n",
    "%timeit integrate_numba_lorenz()"
   ]
  },
  {
   "cell_type": "markdown",
   "metadata": {},
   "source": [
    "Ok, now we can see that by introducing simple flags we can get performance close to C or Fortran. That is nice and for that, you can use some other libraries:"
   ]
  },
  {
   "cell_type": "markdown",
   "metadata": {},
   "source": [
    "\n",
    "+ CFFI and ctypes provide \"foreign function interfaces\", or lightweight APIs, for calling C libraries from within Python. This library allows you to use existing libraries in your computers as those dylib or so in your distribution .\n",
    "+ Boost.python helps write C++ libraries that Python can import and use easily.\n",
    "+ SWIG reads C and C++ header files and generates a library that Python can load.\n",
    "+ F2PY reads Fortran code and generates a library that Python can load.\n",
    "+ PyCUDA and PyOpenCL provide access within Python to GPUs.\n",
    "\n",
    "You can also write C code by hand, that can be called from Python code."
   ]
  },
  {
   "cell_type": "markdown",
   "metadata": {},
   "source": [
    "Now that we are getting more into the optimization of the Python implementation, it is important that we review how we manage different data collections. We have discussed that Python has four different data containers:\n",
    "\n",
    "+ lists: mutable sequence and a collection of objects in definite order \n",
    "+ tuple: unmutable sequence and a collection of objects in definite order\n",
    "+ dict: a mapping and unordered associated keys\n",
    "+ set: unordered collection of unique elements\n",
    "\n",
    "The performance of different actions on the different containers is sometimes different and that is why we need to select a good container depending on the application. To show why this is true, let us take the following example (just finding the intersection between two big lists):"
   ]
  },
  {
   "cell_type": "code",
   "execution_count": null,
   "metadata": {},
   "outputs": [],
   "source": [
    "a = set(range(0,10000))\n",
    "b = set(range(0,10000))\n",
    "%timeit c = a & b"
   ]
  },
  {
   "cell_type": "code",
   "execution_count": null,
   "metadata": {},
   "outputs": [],
   "source": [
    "a = list(range(0,10000))\n",
    "b = list(range(0,10000))\n",
    "%timeit c = [e1 for e1 in a for e2 in b if e1==e2]"
   ]
  },
  {
   "cell_type": "markdown",
   "metadata": {},
   "source": [
    "Keep this in mind for your application. Always think about the container and if there are tools that allow you to search efficiently over the containers (for example using itertools). Now let's see some simple techniques we can use to make our code faster or better."
   ]
  },
  {
   "cell_type": "markdown",
   "metadata": {},
   "source": [
    "## Lazyness"
   ]
  },
  {
   "cell_type": "markdown",
   "metadata": {},
   "source": [
    "The idea here is to create objects only when they are needed\n",
    "\n",
    "+ Generators: these are functions that create an output but still remember its internal state and therefore can create a succession of actions. A simple example is a *for* loop which can create a sequence of data or actions with a predefined stop. \n",
    "\n",
    "+ range: a function that creates a sequence of integer numbers. \n",
    "\n",
    "+ zip:  this is a function that \"zip\" two or more iterables together. \n",
    "\n",
    "+ open: we can always open a file but then read the whole thing at once: for example\n",
    "\n",
    "with open(\"inputfile\",\"r\") as f:\n",
    "     data=f.readlines()\n",
    "     \n",
    "Now data contains everything from the file, one line at a time.\n"
   ]
  },
  {
   "cell_type": "code",
   "execution_count": null,
   "metadata": {},
   "outputs": [],
   "source": [
    "a = (\"John\", \"Charles\", \"Mike\")\n",
    "b = (\"Jenny\", \"Christy\", \"Monica\", \"Vicky\")\n",
    "c = list(range(0,10))\n",
    "d = list(range(30,40))\n",
    "\n",
    "x = zip(a, b)\n",
    "print(x)\n",
    "print(list(x))\n",
    "x = zip(c,d)\n",
    "for y in x:\n",
    "    print(list(y))\n",
    "    \n",
    "# Now we can use itertools to fill the missing data in case you are interested in that\n",
    "\n",
    "from itertools import zip_longest\n",
    "\n",
    "c = range(6,10)\n",
    "d = range(5)\n",
    "zipped = zip_longest(a, b, d, fillvalue='?')\n",
    "\n",
    "print(list(zipped))\n",
    "\n",
    "# Another use of zip \n",
    "\n",
    "\n",
    "for l, n in zip(c,d):\n",
    "    print(f'Number in c: {l}')\n",
    "    print(f'Number in d: {n}')\n"
   ]
  },
  {
   "cell_type": "markdown",
   "metadata": {},
   "source": [
    "## Memory Management"
   ]
  },
  {
   "cell_type": "markdown",
   "metadata": {},
   "source": [
    "Though it is quite important we optimize our program, one issue that the user needs to take always into account is the memory management, as it can also impact the code performance. In the case of Python, memory is freed only after the program does not have any other reference to that memory. In C or C++, you always have to allocate or deallocate dynamic memory, while in Python it is not the case. This seems like very reasonable memory management but the problem is that the interpreter does not return the memory to the operating system, instead, it remains allocated, just in case, the user needs it. Therefore, if the system you are running is capped in memory, you will run into trouble. "
   ]
  },
  {
   "cell_type": "markdown",
   "metadata": {},
   "source": [
    "### Memory Profiler"
   ]
  },
  {
   "cell_type": "markdown",
   "metadata": {},
   "source": [
    "To measure the memory use in Python, there are several tricks we can use, for example, we can do it for particular objects"
   ]
  },
  {
   "cell_type": "code",
   "execution_count": null,
   "metadata": {},
   "outputs": [],
   "source": [
    "import sys\n",
    "import numpy as np\n",
    "import random\n",
    "a=np.random.rand(200)\n",
    "sys.getsizeof(a)\n",
    "#create a list of random integers\n",
    "res = [random.randrange(1, 50, 1) for i in range(7)] \n",
    "print(res)\n",
    "sys.getsizeof(res)"
   ]
  },
  {
   "cell_type": "markdown",
   "metadata": {},
   "source": [
    "If you want to get information about a script you have written, you can use the command\n",
    "\n",
    "python -m memory_profiler myscript.py\n",
    "\n",
    "Or you can also **use mprof**, which plots the memory used in an application. The use is very simple, download the cell below into a script and call it time.py. Then the use is\n",
    "\n",
    "mprof run time.py\n",
    "\n",
    "This command creates a *.dat* file, which is a raw text file that contains the memory use. This can be easily plotted by using \n",
    "\n",
    "mprof plot\n",
    "\n",
    "One detail concerning the script below. We use the \"@profile\" to define the regions where we want to measure the memory use and also we have included a time delay of one second before returning from the subroutine, as we want to allow the system to gather the memory information.\n",
    "\n"
   ]
  },
  {
   "cell_type": "raw",
   "metadata": {},
   "source": [
    "import time\n",
    "import numpy as np\n",
    "\n",
    "@profile\n",
    "def test1():\n",
    "    a = np.random.rand(10000)\n",
    "    time.sleep(1)\n",
    "    return a\n",
    "\n",
    "@profile\n",
    "def test2():\n",
    "    a = np.random.rand(10000)\n",
    "    time.sleep(1)\n",
    "    return a\n",
    "\n",
    "if __name__ == \"__main__\":\n",
    "    test1()\n",
    "    test2()"
   ]
  },
  {
   "cell_type": "markdown",
   "metadata": {},
   "source": [
    "The most important message for memory management is that if we know the size of a vector or a matrix, we need to define it in advance. Only use \"append\" if you do not know the size of your structure. In the case of NumPy, you can create preallocated arrays by using `np.zeros()` or `np.empty()`. Also, keep in mind  that if we \"change\" the dimensions or increase the size of a complex array, everything has to be shifted and this will have a computational and memory penalty."
   ]
  },
  {
   "cell_type": "markdown",
   "metadata": {},
   "source": [
    "## Parallel Computation"
   ]
  },
  {
   "cell_type": "markdown",
   "metadata": {},
   "source": [
    "Up to now, we have been using that our code runs serially, but there are many cases where we can see an improvement over performance if we use parallelization. \n",
    "\n",
    "Here we understand parallelization as a **task** we can perform simultaneously in different processors at the same time, similar to when you eat, read and write at the same time. Now, the main task we plan to solve can be done on the same computer but then we can have memory issues (memory overhead), or we can have time overhead (some of the sub-tasks take longer than others and we have to wait to continue) or bandwidth overhead, which happens when we have to transfer big chunks of data to the hard drive. We will discuss some solutions later on.\n",
    "\n",
    "Now, before we dive in, it is important that you keep in mind what type of problems we can parallelize. Those that can be split in **sub-tasks** such that the sub-tasks do communicate just a bit with the neighbor ones or no communication at all. If they do not communicate, the problem is called trivially parallelizable. For this last case, a simple case is to add two big vectors. We can divide the vectors into sections and every section is completely independent of the others. \n",
    "\n",
    "Of course, in the general case, we will require to know several computational schemes, the ins, and outs of your application, etc. We need to use existing tools that support this idea. For that, we rely on existing standard libraries that will do the job for us. Here we will discuss only a few but the most used one is an interface on top of the MPI (message-passing library) such as mpi4py, multiprocessing, or Dask which has been integrated with many other scientific libraries.\n",
    "\n",
    "Now, depending on your available computer, you can face two different memory situations.\n",
    "\n",
    "+ Shared memory. Here, the sub-tasks communicate with each other through the same memory space (the computer has to have enough memory to allow all sub-tasks to have the required memory). Though we can run into trouble by accessing some data from memory as this can modify it at the same time that is read by other sub-tasks, we solve the problem by using synchronization techniques. In this case, a very well-known method is to use threads, which exist in many different languages but it is not possible in Python. First of all, we should notice that the CPython interpreter is single-threaded by design and threads can only be run in a single node. \n",
    "\n",
    "+ Distributed memory. Here each sub-task has its own assigned memory space and we only need to worry about the communication between the different sub-tasks. \n",
    "\n",
    "\n",
    "\n",
    "Let's start with the multiprocessing module, a thread-like interface to multiple Python processes (note: process creation is more expensive than thread creation, though it is better than serial, a full thread parallelization would be faster than processing). Interestingly enough, this method leverage multiple processors on a given machine.\n",
    "\n",
    "One is a master-worker paradigm, using the map() function. This function parallelizes the execution of a function across multiple input values. First, you define a Pool of workers, then you execute a function collectively on the Pool. "
   ]
  },
  {
   "cell_type": "code",
   "execution_count": null,
   "metadata": {},
   "outputs": [],
   "source": [
    "from multiprocessing import Pool\n",
    "import sys\n",
    "sys.path.insert(0, './scripts')\n",
    "\n",
    "from worker import funcx2\n",
    "\n",
    "p = Pool(4)                 # starts 4 worker processes\n",
    "print(p.map(funcx2, range(10)))  # prints \"[0, 1, 4,..., 81]\""
   ]
  },
  {
   "cell_type": "markdown",
   "metadata": {},
   "source": [
    "The maximum number of processes you can run at a time is limited by the number of processors in your computer. "
   ]
  },
  {
   "cell_type": "markdown",
   "metadata": {},
   "source": [
    "We have used the map function within the Pool class, which gives a synchronous execution. Here we will discuss this type of execution and we encourage the reader to search for asynchronous execution. For this last case, processes can start without waiting that the others to be done, which can be of interest if data does not need to pass from different subtasks. \n",
    "\n",
    "For now, Let us discuss one example in detail and compare each case."
   ]
  },
  {
   "cell_type": "code",
   "execution_count": null,
   "metadata": {},
   "outputs": [],
   "source": [
    "#generate random numbers in a big matrix\n",
    "np.random.RandomState(100)\n",
    "arr = np.random.randint(0, 10, size=[200000, 5])\n",
    "data = arr.tolist()\n",
    "data[:10]"
   ]
  },
  {
   "cell_type": "markdown",
   "metadata": {},
   "source": [
    "Now let us find how many numbers in this matrix are within a given range"
   ]
  },
  {
   "cell_type": "code",
   "execution_count": null,
   "metadata": {},
   "outputs": [],
   "source": [
    "def counting_withinrange(row, minimum, maximum):\n",
    "    \"\"\"Returns how many numbers lie within `maximum` and `minimum` in a given `row`\"\"\"\n",
    "    count = 0\n",
    "    for n in row:\n",
    "        if minimum <= n <= maximum:\n",
    "            count = count + 1\n",
    "    return count\n",
    "\n",
    "results = []\n",
    "for row in data:\n",
    "    results.append(counting_withinrange(row, minimum=4, maximum=8))\n",
    "\n",
    "print(results[:10])\n",
    "#> [3, 1, 4, 4, 4, 2, 1, 1, 3, 3]"
   ]
  },
  {
   "cell_type": "markdown",
   "metadata": {},
   "source": [
    "Now we use parallelization, this will be done by applying the function over a different set of data in a parallel environment, meaning that they will run over different processors. We will use the pool class. This class has three different methods:  apply(), map() and starmap().\n",
    "\n",
    "In the case of application and map, they take the function to be parallelized as the main argument. But apply() takes an args argument that accepts the parameters passed to the ‘function-to-be-parallelized’ as an argument, whereas, a map can take only one iterable as an argument (map is easier for iterable operations). The starmap() is similar to map() but allows to have different iterable parameters. "
   ]
  },
  {
   "cell_type": "code",
   "execution_count": null,
   "metadata": {},
   "outputs": [],
   "source": [
    "#Let us start with apply()\n",
    "import multiprocessing as mp\n",
    "\n",
    "from worker import counting_withinrange\n",
    "\n",
    "# request how many processors I have available\n",
    "pool = mp.Pool(mp.cpu_count())\n",
    "\n",
    "# `pool.apply` the `counting_withinrange()`\n",
    "results = [pool.apply(counting_withinrange, args=(row, 4, 8)) for row in data]\n",
    "\n",
    "# close (IMPORTANT, otherwise you will have leakage!!)\n",
    "pool.close()    \n",
    "\n",
    "print(results[:10])\n",
    "#> [3, 1, 4, 4, 4, 2, 1, 1, 3, 3]"
   ]
  },
  {
   "cell_type": "code",
   "execution_count": null,
   "metadata": {},
   "outputs": [],
   "source": [
    "#Using map()\n",
    "import multiprocessing as mp\n",
    "\n",
    "# We change the function, such we have only ONE parameter.\n",
    "def counting_withinrange(row, minimum=4, maximum=8):\n",
    "    count = 0\n",
    "    for n in row:\n",
    "        if minimum <= n <= maximum:\n",
    "            count = count + 1\n",
    "    return count\n",
    "\n",
    "from worker import counting_withinrange1\n",
    "\n",
    "pool = mp.Pool(mp.cpu_count())\n",
    "\n",
    "results = pool.map(counting_withinrange1, [row for row in data])\n",
    "\n",
    "pool.close()\n",
    "\n",
    "print(results[:10])\n",
    "#> [3, 1, 4, 4, 4, 2, 1, 1, 3, 3]"
   ]
  },
  {
   "cell_type": "code",
   "execution_count": null,
   "metadata": {},
   "outputs": [],
   "source": [
    "# Using starmap()\n",
    "import multiprocessing as mp\n",
    "\n",
    "pool = mp.Pool(mp.cpu_count())\n",
    "\n",
    "results = pool.starmap(counting_withinrange1, [(row, 4, 8) for row in data])\n",
    "\n",
    "pool.close()\n",
    "\n",
    "print(results[:10])\n",
    "#> [3, 1, 4, 4, 4, 2, 1, 1, 3, 3]"
   ]
  },
  {
   "cell_type": "markdown",
   "metadata": {},
   "source": [
    "Up to now, we have discussed the parallelization using multiprocessing. Now, let us use a different library, just to compare how it is used. For this, we have to rely on a different approach. We will use the library mpi4py but this library is easier to be used outside of Jupyter notebooks. For that, I have created a file: examplempi.py in the same directory where the notebooks are stored. This example sent some data from the array numData from processor 0 to processor 1. \n",
    "\n",
    "The file contains the following example, though here we have commented all lines"
   ]
  },
  {
   "cell_type": "code",
   "execution_count": null,
   "metadata": {},
   "outputs": [],
   "source": [
    "##from mpi4py import MPI\n",
    "#import numpy as np\n",
    "\n",
    "#comm = MPI.COMM_WORLD\n",
    "#rank = comm.Get_rank()\n",
    "\n",
    "#if rank == 0:\n",
    "#    # in real code, this section might\n",
    "#    # read in data parameters from a file\n",
    "#    size data that will be sent to another processor\n",
    "#    numData = 10  \n",
    "#    comm.send(numData, dest=1)\n",
    "\n",
    "#    data = np.linspace(0.0,3.14,numData)  \n",
    "#    comm.Send(data, dest=1)\n",
    "\n",
    "#elif rank == 1:\n",
    "\n",
    "#    numData = comm.recv(source=0)\n",
    "#    print('Number of data to receive: ',numData)\n",
    "\n",
    "#    data = np.empty(numData, dtype='d')  # allocate space to receive the array\n",
    "#    comm.Recv(data, source=0)\n",
    "\n",
    "#    print('data received: ',data)"
   ]
  },
  {
   "cell_type": "code",
   "execution_count": null,
   "metadata": {},
   "outputs": [],
   "source": [
    "#Then in the command line we will run\n",
    "!mpirun -n 4 python  examplempi.py"
   ]
  },
  {
   "cell_type": "markdown",
   "metadata": {},
   "source": [
    "A very good discussion on how to use mpi4py can be found at https://rabernat.github.io/research_computing/parallel-programming-with-mpi-for-python.html"
   ]
  },
  {
   "cell_type": "markdown",
   "metadata": {},
   "source": [
    "# Acknowledgments and References\n",
    "\n",
    "This Notebook has been adapted by **Guillermo Avendaño** (WVU), **Jose Rogan** (Universidad de Chile) and **Aldo Humberto Romero** (WVU) from the [Tutorials for Stanford cs228 and cs231n](https://github.com/kuleshov/cs228-material). A large part of the info was also built from scratch. In turn, that material was adapted by [Volodymyr Kuleshov](http://web.stanford.edu/~kuleshov/) and [Isaac Caswell](https://symsys.stanford.edu/viewing/symsysaffiliate/21335) from the `CS231n` Python tutorial by Justin Johnson (http://cs231n.github.io/python-numpy-tutorial/). Another good resource, in particular, if you want to just look for an answer to specific questions is [planetpython.org](http:planetpython.org), in particular for data science.\n",
    "\n",
    "Changes to the original tutorial include strict Python 3 formats and a split of the material to fit a series of lessons on Python Programming for WVU's faculty and graduate students.\n",
    "\n",
    "The support of the National Science Foundation and the US Department of Energy under projects: DMREF-NSF 1434897, NSF OAC-1740111 and DOE DE-SC0016176 is recognized.\n",
    "\n",
    "<div style=\"clear: both; display: table;\">\n",
    "<div style=\"border: none; float: left; width: 40%; padding: 10px\">\n",
    "<img src=\"fig/NSF.jpg\" alt=\"National Science Foundation\" style=\"width:50%\" align=\"left\">\n",
    "    </div>\n",
    "    <div style=\"border: none; float: right; width: 40%; padding: 10px\">\n",
    "<img src=\"fig/DOE.jpg\" alt=\"National Science Foundation\" style=\"width:50%\" align=\"right\">\n",
    "</div>"
   ]
  },
  {
   "cell_type": "markdown",
   "metadata": {},
   "source": [
    "# Back of the Book"
   ]
  },
  {
   "cell_type": "code",
   "execution_count": null,
   "metadata": {
    "scrolled": true
   },
   "outputs": [],
   "source": [
    "plt.figure(figsize=(3,3))\n",
    "n = chapter_number\n",
    "maxt=(2*(n-1)+3)*np.pi/2\n",
    "t = np.linspace(np.pi/2, maxt, 1000)\n",
    "tt= 1.0/(t+0.01)\n",
    "x = (maxt-t)*np.cos(t)**3\n",
    "y = t*np.sqrt(np.abs(np.cos(t))) + np.sin(0.3*t)*np.cos(2*t)\n",
    "plt.plot(x, y, c=\"green\")\n",
    "plt.axis('off');"
   ]
  },
  {
   "cell_type": "code",
   "execution_count": null,
   "metadata": {},
   "outputs": [],
   "source": [
    "end = time.time()\n",
    "print(f'Chapter {chapter_number} run in {int(end - start):d} seconds')"
   ]
  }
 ],
 "metadata": {
  "kernelspec": {
   "display_name": "Python 3 (ipykernel)",
   "language": "python",
   "name": "python3"
  },
  "language_info": {
   "codemirror_mode": {
    "name": "ipython",
    "version": 3
   },
   "file_extension": ".py",
   "mimetype": "text/x-python",
   "name": "python",
   "nbconvert_exporter": "python",
   "pygments_lexer": "ipython3",
   "version": "3.11.7"
  }
 },
 "nbformat": 4,
 "nbformat_minor": 4
}
