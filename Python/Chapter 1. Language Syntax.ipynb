{
 "cells": [
  {
   "cell_type": "markdown",
   "id": "6fcb6fb1",
   "metadata": {},
   "source": [
    "![Python Programming for Scientists in a hurry](fig/Title_Python.png)"
   ]
  },
  {
   "cell_type": "markdown",
   "id": "d19204d7",
   "metadata": {},
   "source": [
    "<div style=\"clear: both; display: table;\">\n",
    "  <div style=\"border: none; float: left; width: 60%; padding: 5px\">\n",
    "  <h1 id=\"subtitle\">Chapter 1. Language Syntax</h1>\n",
    "  <h2 id=\"subtitle\">Guillermo Avendaño Franco<br>Aldo Humberto Romero</h2>\n",
    "  <br>\n",
    "  <img src=\"fig/1-line logotype124-295.png\" alt=\"Scientific Computing with Python\" style=\"width:50%\" align=\"left\">\n",
    "  </div>\n",
    "  <div style=\"border: none; float: left; width: 30%; padding: 5px\">\n",
    "  <img src=\"fig/SCPython.png\" alt=\"Scientific Computing with Python\" style=\"width:100%\">\n",
    "  </div>\n",
    "</div>"
   ]
  },
  {
   "cell_type": "markdown",
   "id": "d3c68da7",
   "metadata": {},
   "source": [
    "## List of Notebooks\n",
    "\n",
    "Python is a great general-purpose programming language on its own. \n",
    "Python is a general purpose programming language. It is interpreted and dynamically typed and is very suited for interactive work and quick prototyping while being powerful enough to write large applications in.\n",
    "The lesson is particularly oriented to Scientific Computing. \n",
    "Other episodes in the series include:\n",
    "\n",
    "  * **Language Syntax \\[This notebook\\]**\n",
    "  * Standard Library\n",
    "  * Scientific Packages\n",
    "  * NumPy\n",
    "  * Matplotlib\n",
    "  * SciPy \n",
    "  * Pandas\n",
    "  * Cython\n",
    "  * Parallel Computing\n",
    "\n",
    "After completing all the series in this lesson you will realize that python has become a powerful environment for scientific computing at several levels, from interactive computing to scripting to big project developments."
   ]
  },
  {
   "cell_type": "markdown",
   "id": "f5bbe224",
   "metadata": {},
   "source": [
    "## Setup"
   ]
  },
  {
   "cell_type": "code",
   "execution_count": 1,
   "id": "18085a3b",
   "metadata": {},
   "outputs": [],
   "source": [
    "%load_ext watermark"
   ]
  },
  {
   "cell_type": "code",
   "execution_count": 2,
   "id": "412dd27b",
   "metadata": {
    "scrolled": true
   },
   "outputs": [
    {
     "name": "stdout",
     "output_type": "stream",
     "text": [
      "Last updated: 2024-07-25T17:26:39.753254-04:00\n",
      "\n",
      "Python implementation: CPython\n",
      "Python version       : 3.11.7\n",
      "IPython version      : 8.14.0\n",
      "\n",
      "Compiler    : Clang 12.0.0 (clang-1200.0.32.29)\n",
      "OS          : Darwin\n",
      "Release     : 20.6.0\n",
      "Machine     : x86_64\n",
      "Processor   : i386\n",
      "CPU cores   : 8\n",
      "Architecture: 64bit\n",
      "\n"
     ]
    }
   ],
   "source": [
    "%watermark"
   ]
  },
  {
   "cell_type": "code",
   "execution_count": 3,
   "id": "09d377af",
   "metadata": {},
   "outputs": [],
   "source": [
    "import time\n",
    "start = time.time()\n",
    "chapter_number = 1\n",
    "import matplotlib\n",
    "%matplotlib inline\n",
    "%load_ext autoreload\n",
    "%autoreload 2"
   ]
  },
  {
   "cell_type": "code",
   "execution_count": 4,
   "id": "182efc40",
   "metadata": {},
   "outputs": [],
   "source": [
    "import numpy as np\n",
    "import matplotlib.pyplot as plt"
   ]
  },
  {
   "cell_type": "code",
   "execution_count": 5,
   "id": "eef22289",
   "metadata": {},
   "outputs": [
    {
     "name": "stdout",
     "output_type": "stream",
     "text": [
      "matplotlib: 3.8.2\n",
      "numpy     : 1.26.2\n",
      "\n"
     ]
    }
   ],
   "source": [
    "%watermark -iv"
   ]
  },
  {
   "cell_type": "markdown",
   "id": "fe964859",
   "metadata": {},
   "source": [
    "# Python Language Syntax"
   ]
  },
  {
   "cell_type": "markdown",
   "id": "afd529dd",
   "metadata": {},
   "source": [
    "# Table of Contents\n",
    "\n",
    "In this notebook we explore:\n",
    "\n",
    " 1. [Introduction](#introduction)\n",
    "     1. [Zen of Python](#zen_of_python)\n",
    "     1. [Python in bulleted lists](#python_bulleted)\n",
    "     1. [Optimizing what?](#optimizing)\n",
    "     1. [Programmer vs Scripter](#programmer_vs_scripter)\n",
    "     1. [Testing your Python Environment](#environment)\n",
    "     1. [Python's compact syntax: The quicksort algorithm](#quicksort)\n",
    "     1. [Python versions](#python_versions)\n",
    " 1. [Python Syntax I](#python_syntax_1)\n",
    "     1. Variables\n",
    "     1. Data Types\n",
    "     1. Mathematical Operations\n",
    " 1. [Python Syntax II](#python_syntax_2)\n",
    "     1. Containers\n",
    "     1. Loops\n",
    "     1. Conditionals\n",
    " 1. [Python Syntax III](#python_syntax_3)\n",
    "     1. Functions\n",
    " 1. [Python Syntax IV](#python_syntax_4)\n",
    "     1. Classes\n",
    " 1. [Differences between Python 2.x and 3.x](#python_2x_vs_3x)\n",
    "     1. Print\n",
    "     1. Integer division"
   ]
  },
  {
   "cell_type": "markdown",
   "id": "b1276ca2",
   "metadata": {},
   "source": [
    "<a id=\"introduction\"></a>\n",
    "# Introduction"
   ]
  },
  {
   "cell_type": "markdown",
   "id": "caa80df6",
   "metadata": {},
   "source": [
    "<div style=\"clear: both; display: table;\">\n",
    "<div style=\"border: none; float: left; width: 60%; padding: 5px\">\n",
    "\n",
    "<a href=\"https://www.python.org/\">Python</a>  is a multiparadigm, general-purpose, interpreted, high-level programming language. \n",
    "\n",
    "Python is **multiparadigm** because it supports multiple programming paradigms, including procedural, object-oriented, and functional programming. \n",
    "\n",
    "Python is dynamically typed and garbage-collected and due to its comprehensive standard library, Python is a **general purpose** language often described as a having the \" batteries included\"\n",
    "\n",
    "Python is an **interpreted** language, which precludes the need to compile code before executing a program because Python does the compilation in the background. \n",
    "\n",
    "Because Python is a **high-level programming language**, it abstracts many sophisticated details from the programming code. Python focuses so much on this abstraction that its code can be understood by most novice programmers.\n",
    "\n",
    "Python was conceived in the late 1980s by <a href=\"https://en.wikipedia.org/wiki/Guido_van_Rossum\">Guido van Rossum</a> at Centrum Wiskunde \\& Informatica (CWI) in the Netherlands as a successor to the ABC language (itself inspired by SETL), capable of exception handling and interfacing with the Amoeba operating system. Its implementation began in December 1989. Van Rossum continued as Python's lead developer until July 12, 2018, when he announced his \"permanent vacation\" from his responsibilities as Python's **Benevolent Dictator For Life (BDFL)**, a title the Python community bestowed upon him to reflect his long-term commitment as the project's chief decision-maker. In January 2019, active Python core developers elected Brett Cannon, Nick Coghlan, Barry Warsaw, Carol Willing, and Van Rossum to a five-member \" Steering Council\" to lead the project.\n",
    "\n",
    "Guido named his language Python as a tribute to the British comedy group <a href=\"https://en.wikipedia.org/wiki/Monty_Python\">Monty Python</a> and not a reference to reptiles. However, logos and other media use stylized versions of reptiles.\n",
    "\n",
    "One consequence of the Monty Python original reference, tutorials and examples refer to spam and eggs (from a famous Monty Python sketch) instead of the standard foo and bar.\n",
    "\n",
    "The official language website is <a href=\"https://www.python.org/\">https://www.python.org</a>.\n",
    "\n",
    "  </div>\n",
    "  <div style=\"border: none; float: left; width: 30%; padding: 5px\">\n",
    "  <img alt=\"Guido van Rossum\" src=\"fig/GvanR.jpg\" />\n",
    "  </div>\n",
    "</div>\n",
    "\n",
    "<center>\n",
    "<img width=\"70%\" alt=\"Python Webpage\" src=\"fig/python_web.png\" />\n",
    "    </center>"
   ]
  },
  {
   "cell_type": "markdown",
   "id": "5f5b4399",
   "metadata": {},
   "source": [
    "<a id=\"zen_of_python\"></a>\n",
    "## Zen of Python\n",
    "\n",
    "<font color=\"brown\">Python</font> users refer frequently <font color=\"brown\">Python</font> philosophy.\n",
    "These principles of philosophy were written by the <font color=\"brown\">Python</font> developer, Tim Peters,\n",
    "in the [Zen of Python](https://www.python.org/dev/peps/pep-0020/):\n",
    "\n",
    "<p align=\"right\">\n",
    "    <img width=\"300\" alt=\"Zen of Python\" align=\"right\" src=\"fig/zen-of-pythonT.png\" />\n",
    "</p>\n",
    "<ul>\n",
    "<li> Beautiful is better than ugly. </li>\n",
    "<li> Explicit is better than implicit. </li>\n",
    "<li> Simple is better than complex. </li>\n",
    "<li> Complex is better than complicated. </li>\n",
    "<li> Flat is better than nested.</li> \n",
    "<li> Sparse is better than dense. </li>\n",
    "<li> Readability counts. </li>\n",
    "<li> Special cases aren't special enough to break the rules. </li>\n",
    "<li> Although practicality beats purity. </li>\n",
    "<li> Errors should never pass silently. </li>\n",
    "<li> Unless explicitly silenced. </li>\n",
    "<li> In the face of ambiguity, refuse the temptation to guess. </li>\n",
    "<li> There should be one-- and preferably only one --obvious way to do it. </li>\n",
    "<li> Although that way may not be obvious at first unless you're Dutch.  </li>\n",
    "<li> Now is better than never. </li>\n",
    "<li> Although never is often better than *right* now.  </li>\n",
    "<li> If the implementation is hard to explain, it's a bad idea. </li>\n",
    "<li> If the implementation is easy to explain, it may be a good idea. </li>\n",
    "<li> Namespaces are one honking great idea -- let's do more of those!  </li>\n",
    "</ul>"
   ]
  },
  {
   "cell_type": "markdown",
   "id": "4a9ba1b3",
   "metadata": {},
   "source": [
    "<a id=\"python_bulleted\"></a>\n",
    "## Python in bulleted lists\n",
    "\n",
    "### Key characteristics of Python:\n",
    "\n",
    "* **clean and simple language:** (KISS principle) Easy-to-read and intuitive code, minimalist syntax, scales well with projects.\n",
    "* **expressive language:** Fewer lines of code, fewer bugs, easier to maintain.\n",
    "* **multiparadigm:** Including object-oriented, imperative, and functional programming or procedural styles. \n",
    "* **standard library:** Large and comprehensive set of functions that runs consistently where Python runs.\n",
    "\n",
    "### Technical details:\n",
    "\n",
    "* **dynamically typed:** No need to define the type of variables, function arguments, or return types.\n",
    "* **automatic memory management:** No need to explicitly allocate and deallocate memory for variables and data arrays (Like _malloc_ in C). \n",
    "* **interpreted:** No need to compile the code. The Python interpreter reads and executes the python code directly. \n",
    "\n",
    "### Advantages\n",
    "\n",
    "* The main advantage is the ease of programming, minimizing the time required to develop, debug and maintain the code.\n",
    "* Well designed language that encourages many good programming practices:\n",
    "* Modular and object-oriented programming, a good system for packaging and re-use of code. This often results in more transparent, maintainable, and bug-free code.\n",
    "* Documentation tightly integrated with the code (Documentation is usually accessed by different means and depending on the interface used, such as scripting, notebooks, etc).\n",
    "* A large standard library, and a large collection of add-on packages.\n",
    "\n",
    "### Disadvantages\n",
    "\n",
    "* Since Python is an interpreted and dynamically typed programming language, the execution of python code can be slow compared to compiled statically typed programming languages, such as C and Fortran. \n",
    "* Lacks a standard GUI, there are several.\n",
    "* The current version of Python is 3.12.4 (July 2024). Since January 1, 2020, the older Python 2.x is no longer maintained. You should only use Python 3.x for all scientific purposes.\n"
   ]
  },
  {
   "cell_type": "markdown",
   "id": "a26a4ee9",
   "metadata": {},
   "source": [
    "<a id=\"optimizing\"></a>\n",
    "## Optimizing what?"
   ]
  },
  {
   "cell_type": "markdown",
   "id": "360efed1",
   "metadata": {},
   "source": [
    "When we talk about programming languages we often ask about optimization. We hear that one code is more optimized than another. That one programming language is faster than another. That your work is more optimal using this or that tool, language, or technique.\n",
    "\n",
    "The question here should be: What exactly do you want to optimize? The computer time (time that your code will be running on the machine) or the developer time (time you need to write the code) or the time waiting for results to be obtained ?\n",
    "\n",
    "With low-level languages like C or Fortran, you can get codes that run very fast at expenses of long hours or code development and even more extensive hours of code debugging.\n",
    "Other languages are slower but you can progressively increase the performance by introducing changes in the code, using external libraries on critical sections, or using alternative interpreters that speed execution.\n",
    "\n",
    "\n",
    "<img src=\"fig/optimizing-what.png\" width=\"600\">\n",
    "\n",
    "([from Johansson's Scientific Python Lectures](https://jrjohansson.github.io/) )\n",
    "\n",
    "Python lies in the second category. It is easy to learn and fast to develop. It is not particularly fast but with the right tools you can increase its performance over time.\n",
    "\n",
    "That is the reason why Python has a strong position in scientific computing.\n",
    "You start getting results very early during the development process. \n",
    "With time and effort, you can improve performance and get close to lower level programming languages.\n",
    "\n",
    "On the other hand working with low-level languages like C or Fortran you have to write quite an amount of code to start getting the first results."
   ]
  },
  {
   "cell_type": "markdown",
   "id": "2423116b",
   "metadata": {},
   "source": [
    "<a id=\"programmer_vs_scripter\"></a>\n",
    "## Programmer vs Scripter\n",
    "\n",
    "You do not need to be a Python Programmer to use and take advantage of Python for your research.\n",
    "Have you ever found doing the same operation on a computer over and over again? simply because you do not know how to do it differently.\n",
    "\n",
    "Scripts are not bad programs, they are simply quick and dirt, pieces of code that help you save your brain to better purposes.\n",
    "They are dirty because typically they are not commented, they are not actively maintained, no unitary tests, no continuous integration, no test farms, nothing of such things that first-class software usually relies on to remain functional over time.\n",
    "\n",
    "For programs, there are those who write programs, integrated pieces of code that are intended to be used independently. Some write libraries, sets of functions, classes, routines, and methods, as you prefer to call them. Those are the building blocks of larger structures, such as programs or other libraries.\n",
    "\n",
    "As a scientist that uses computing to pursue your research, you could be doing scripts, doing programs, or doing libraries. There is nothing pejorative in doing scripts, and there is nothing derogatory in using scripting languages. The important is the science, get the job done, and move forward.\n",
    "\n",
    "In addition to Scripts and Programs, Python can be used in interactive computing. This document that you see right now was created as a Jupyter notebook. If you are reading it from an active Jupyter instance, you can execute these boxes."
   ]
  },
  {
   "cell_type": "markdown",
   "id": "ad041d42-9556-4dfc-acfe-6a930a495917",
   "metadata": {},
   "source": [
    "## Example 1: Program that converts from Fahrenheit to Celsius"
   ]
  },
  {
   "cell_type": "markdown",
   "id": "967770c2-fee8-4c46-aa6c-b67e777da854",
   "metadata": {},
   "source": [
    "Lets start with a simple example converting a variable that holds a value in Fahrenheit and convert it to Celsius"
   ]
  },
  {
   "cell_type": "markdown",
   "id": "bdb26a47-d210-4dd8-bf23-32effeaf2dd6",
   "metadata": {},
   "source": [
    "### First code"
   ]
  },
  {
   "cell_type": "code",
   "execution_count": 6,
   "id": "b1360a0e-35a4-44b1-aa14-06814de493e4",
   "metadata": {},
   "outputs": [
    {
     "name": "stdout",
     "output_type": "stream",
     "text": [
      "The temperature of 80.00 F is equal to 26.67 C\n"
     ]
    }
   ],
   "source": [
    "f=80 # Temperature in F\n",
    "\n",
    "c = 5/9 * (f-32)\n",
    "\n",
    "print(\"The temperature of %.2f F is equal to %.2f C\" % (f,c))"
   ]
  },
  {
   "cell_type": "markdown",
   "id": "d9b8d823-427f-4d78-92fc-2b15c14cc129",
   "metadata": {},
   "source": [
    "### Second code"
   ]
  },
  {
   "cell_type": "markdown",
   "id": "bfff814a-2fa1-4b03-aab1-fb7f82d61717",
   "metadata": {},
   "source": [
    "Now that we know how to convert from Fahrenheit to Celsius we can put the formula inside a function.\n",
    "Even better we want to write two functions, one to convert from F to C and the other to convert from C to F."
   ]
  },
  {
   "cell_type": "code",
   "execution_count": 7,
   "id": "c532d7eb-5f45-4e76-8bbd-43091830dfe1",
   "metadata": {},
   "outputs": [],
   "source": [
    "def fahrenheit2celsius(f):\n",
    "    return 5/9 * (f-32)\n",
    "\n",
    "def celsius2fahrenheit(c):\n",
    "    return c*9/5 + 32"
   ]
  },
  {
   "cell_type": "markdown",
   "id": "d8b009b0-958b-4b9f-8d8a-4115c361d3ce",
   "metadata": {},
   "source": [
    "With this two functions we can use them to convert temperatures between these units."
   ]
  },
  {
   "cell_type": "code",
   "execution_count": 8,
   "id": "b8966d75-9000-4966-afcc-8435478d7462",
   "metadata": {},
   "outputs": [
    {
     "data": {
      "text/plain": [
       "26.666666666666668"
      ]
     },
     "execution_count": 8,
     "metadata": {},
     "output_type": "execute_result"
    }
   ],
   "source": [
    "fahrenheit2celsius(80)"
   ]
  },
  {
   "cell_type": "code",
   "execution_count": 9,
   "id": "30cf052c-ea96-4367-a833-74752b1efba8",
   "metadata": {},
   "outputs": [
    {
     "data": {
      "text/plain": [
       "80.6"
      ]
     },
     "execution_count": 9,
     "metadata": {},
     "output_type": "execute_result"
    }
   ],
   "source": [
    "celsius2fahrenheit(27)"
   ]
  },
  {
   "cell_type": "markdown",
   "id": "527c4412-810f-4253-a7bb-e0bfaa7097ab",
   "metadata": {},
   "source": [
    "We have learned here the use of variables, the print function and how to write functions in Python. "
   ]
  },
  {
   "cell_type": "markdown",
   "id": "068ad88e",
   "metadata": {},
   "source": [
    "<a id=\"environment\"></a>\n",
    "## Testing your Python Environment"
   ]
  },
  {
   "cell_type": "markdown",
   "id": "8423c885",
   "metadata": {},
   "source": [
    "We will now explore a little bit about how things work in python. The purpose of this section is two-fold, to give you a quick overview of the kind of things that you can do with Python and to test if those things work for you, in particular the external libraries that could still not be present in your system. The most basic thing you can do is use the Python interpreter as a calculator, and test for example a simple operation to count the number of days on a non-leap year:"
   ]
  },
  {
   "cell_type": "code",
   "execution_count": 10,
   "id": "4388ba56",
   "metadata": {},
   "outputs": [
    {
     "data": {
      "text/plain": [
       "365"
      ]
     },
     "execution_count": 10,
     "metadata": {},
     "output_type": "execute_result"
    }
   ],
   "source": [
    "31*7 + 30*4 + 28"
   ]
  },
  {
   "cell_type": "markdown",
   "id": "97a0c0a3",
   "metadata": {},
   "source": [
    "Python provides concise methods for handling lists without explicit use of loops. \n",
    "\n",
    "They are called list comprehension, we will discuss them in more detail later on. I search for a very obfuscating case indeed!"
   ]
  },
  {
   "cell_type": "code",
   "execution_count": 11,
   "id": "6ac0665f",
   "metadata": {},
   "outputs": [
    {
     "name": "stdout",
     "output_type": "stream",
     "text": [
      "[2, 3, 5, 7, 11, 13, 17, 19, 23, 29, 31, 37, 41, 43, 47, 53, 59, 61, 67, 71, 73, 79, 83, 89, 97]\n"
     ]
    }
   ],
   "source": [
    "n = 100 \n",
    "primes = [prime for prime in range(2, n) if prime not in \n",
    "          [noprimes for i in range(2, int(n**0.5)) for noprimes in \n",
    "           range(i * 2, n, i)]]\n",
    "print(primes)"
   ]
  },
  {
   "cell_type": "markdown",
   "id": "7764d0ce",
   "metadata": {},
   "source": [
    "<a id=\"quicksort\"></a>\n",
    "## Python's compact syntax: The quicksort algorithm"
   ]
  },
  {
   "cell_type": "markdown",
   "id": "4e1c8986",
   "metadata": {},
   "source": [
    "Python is a high-level, dynamically typed multiparadigm programming language. \n",
    "Python code is often said to be almost like pseudocode since it allows you to express very powerful ideas in very few lines of code while being very readable. \n",
    "\n",
    "<br>\n",
    "<div style=\"clear: both; display: table;\">\n",
    "<div style=\"border: none; float: left; width: 60%; padding: 0px\">\n",
    "\n",
    "The quicksort algorithm is a classical algorithm for sorting a list of values. Developed by British computer scientist Tony Hoare in 1959 and published in 1961, quicksort is still a commonly used algorithm for sorting. When implemented well, it can be about two or three times faster than its main competitors, merge sort and heapsort.\n",
    "\n",
    "The steps to sort a list are these:\n",
    "\n",
    "  1. Choose any element of the array to be the pivot.\n",
    "\n",
    "  2. Divide all other elements (except the pivot) into two partitions.\n",
    "\n",
    "  3. All elements less than the pivot must be in the first partition.\n",
    "\n",
    "  4. All elements greater than the pivot must be in the second partition.\n",
    "\n",
    "  5. Use recursion to sort both partitions.\n",
    "\n",
    "  6. Join the first sorted partition, the pivot, and the second sorted partition.\n",
    "  </div>\n",
    "  <div style=\"border: none; float: left; width: 40%; padding: 5px\">\n",
    "   <img src=\"fig/Sorting_quicksort_anim.gif\" alt=\"QuickSort Algorithm\" style=\"width:100%\">\n",
    "  </div>\n",
    "</div>\n",
    "\n",
    "As an example, here is an implementation of the classic quicksort algorithm in Python:"
   ]
  },
  {
   "cell_type": "code",
   "execution_count": 12,
   "id": "e239e06a",
   "metadata": {},
   "outputs": [
    {
     "name": "stdout",
     "output_type": "stream",
     "text": [
      "[1, 1, 2, 3, 6, 8, 10]\n"
     ]
    }
   ],
   "source": [
    "def quicksort(arr):\n",
    "    if len(arr) <= 1:\n",
    "        return arr\n",
    "    pivot = arr[len(arr) // 2]\n",
    "    left = [x for x in arr if x < pivot]\n",
    "    middle = [x for x in arr if x == pivot]\n",
    "    right = [x for x in arr if x > pivot]\n",
    "    return quicksort(left) + middle + quicksort(right)\n",
    "\n",
    "print(quicksort([3,6,8,10,1,2,1]))"
   ]
  },
  {
   "cell_type": "markdown",
   "id": "e0de754a",
   "metadata": {},
   "source": [
    "As comparison look for an equivalent version of the same algorithm implemented in C, based on a similar implementation on  [RosettaCode](https://www.rosettacode.org/wiki/Sorting_algorithms/Quicksort#C)"
   ]
  },
  {
   "cell_type": "raw",
   "id": "a1659f73",
   "metadata": {},
   "source": [
    "#include <stdio.h>\n",
    " \n",
    "void quicksort(int *A, int len);\n",
    " \n",
    "int main (void) {\n",
    "  int a[] = {3,6,8,10,1,2,1};\n",
    "  int n = sizeof a / sizeof a[0];\n",
    " \n",
    "  int i;\n",
    "  for (i = 0; i < n; i++) {\n",
    "    printf(\"%d \", a[i]);\n",
    "  }\n",
    "  printf(\"\\n\");\n",
    " \n",
    "  quicksort(a, n);\n",
    " \n",
    "  for (i = 0; i < n; i++) {\n",
    "    printf(\"%d \", a[i]);\n",
    "  }\n",
    "  printf(\"\\n\");\n",
    " \n",
    "  return 0;\n",
    "}\n",
    " \n",
    "void quicksort(int *A, int len) {\n",
    "  if (len < 2) return;\n",
    " \n",
    "  int pivot = A[len / 2];\n",
    " \n",
    "  int i, j;\n",
    "  for (i = 0, j = len - 1; ; i++, j--) {\n",
    "    while (A[i] < pivot) i++;\n",
    "    while (A[j] > pivot) j--;\n",
    " \n",
    "    if (i >= j) break;\n",
    " \n",
    "    int temp = A[i];\n",
    "    A[i]     = A[j];\n",
    "    A[j]     = temp;\n",
    "  }\n",
    " \n",
    "  quicksort(A, i);\n",
    "  quicksort(A + i, len - i);\n",
    "}"
   ]
  },
  {
   "cell_type": "markdown",
   "id": "c2b0adf2",
   "metadata": {},
   "source": [
    "The most important benefits of Python is how compact the notation can be and how easy it is to write code that otherwise requires not only more coding, but also compilation. \n",
    "\n",
    "Python, however, is in general much slower than C or Fortran. There are ways to alleviate this as we will see when we start using libraries like NumPy or external code translators like Cython."
   ]
  },
  {
   "cell_type": "markdown",
   "id": "b2e5eeda",
   "metadata": {},
   "source": [
    "<a id=\"python_versions\"></a>\n",
    "## Python versions"
   ]
  },
  {
   "cell_type": "markdown",
   "id": "018f52f5",
   "metadata": {},
   "source": [
    "Today, Python 3.x is the only version actively developed and maintained. \n",
    "Before 2020 two versions were used the older Python 2 and the newer Python 3.\n",
    "Python 3 introduced many backward-incompatible changes to the language, so code is written for 2.x, in general, did not work under 3.x and vice versa. \n",
    "\n",
    "By the time of writing this notebook (July 2022), the current version of Python is 3.10.5.\n",
    "\n",
    "Python 2.7 is no longer maintained and you should avoid using Python 2.x for any purpose that pretends to be used by you or others in the future.\n",
    "\n",
    "You can check your Python version at the command line by running on the terminal:\n",
    "\n",
    "    $> python --version\n",
    "    Python 3.10.5\n",
    "\n",
    "\n",
    "Another way of checking the version from inside the Jupyter notebook like this is using:"
   ]
  },
  {
   "cell_type": "code",
   "execution_count": 13,
   "id": "72b37101",
   "metadata": {},
   "outputs": [
    {
     "name": "stdout",
     "output_type": "stream",
     "text": [
      "3.11.7 (main, Dec 24 2023, 07:47:18) [Clang 12.0.0 (clang-1200.0.32.29)]\n"
     ]
    }
   ],
   "source": [
    "import sys\n",
    "print(sys.version)"
   ]
  },
  {
   "cell_type": "markdown",
   "id": "71e4c601",
   "metadata": {},
   "source": [
    "To get this we import a module called `sys`. This is just one of the many modules in the Python Standard Library.\n",
    "The Python standard library that is always distributed with Python.\n",
    "This library contains built-in modules (written in C) that provide access to system functionality such as file I/O that would otherwise be inaccessible to Python programmers, as well as other modules written in Python that provide standardized solutions for many problems that occur in everyday programming.\n",
    "\n",
    "We will use the standard library extensively but we will first focus our attention on the language itself.\n",
    "\n",
    "\n",
    "\n",
    "Just in case you get in your hands' code written in the old Python 2.x at the end of this notebook you can see a quick summary of a few key differences between Python 2.x and 3.x"
   ]
  },
  {
   "cell_type": "markdown",
   "id": "d7141461-c1fe-4d4e-a608-b0b7e022f31b",
   "metadata": {},
   "source": [
    "## Example 2: The Barnsley fern"
   ]
  },
  {
   "cell_type": "markdown",
   "id": "7a9b6f89-50b2-45a3-ab10-5d04582be955",
   "metadata": {},
   "source": [
    "The **Barnsley fern** is a fractal named after the British mathematician Michael Barnsley who first described it in his book \"Fractals Everywhere\". He made it to resemble the black spleenwort, Asplenium adiantum-nigrum. This fractal has served as inspiration to create natural structures using iterative mathematical functions.\n",
    "\n",
    "Barnsley's fern uses four affine transformation's, i.e. simple vector transformations that include a vector-matrix multiplication and a translation. The formula for one transformation is the following:\n",
    "\n",
    "$$f_w(x,y) = \\begin{bmatrix}a & b \\\\ c & d \\end{bmatrix} \\begin{bmatrix} x \\\\ y \\end{bmatrix} + \\begin{bmatrix} e \\\\ f \\end{bmatrix}$$\n",
    "\n",
    "Barnsley uses four transformations with weights for them to reproduce the fern leaf. The transformations are shown below.\n",
    "\n",
    "$$\\begin{align}\n",
    "f_1(x,y) &= \\begin{bmatrix} 0.00 & 0.00 \\\\ 0.00 & 0.16 \\end{bmatrix} \\begin{bmatrix} x \\\\ y \\end{bmatrix}\n",
    "\\\\[6px]\n",
    "f_2(x,y) &= \\begin{bmatrix} 0.85 & 0.04 \\\\ -0.04 & 0.85 \\end{bmatrix} \\begin{bmatrix} x \\\\ y \\end{bmatrix} + \\begin{bmatrix} 0.00 \\\\ 1.60 \\end{bmatrix}\n",
    "\\\\[6px]\n",
    "f_3(x,y) &= \\begin{bmatrix} 0.20 & -0.26 \\\\ 0.23 & 0.22 \\end{bmatrix} \\begin{bmatrix} x \\\\ y \\end{bmatrix} + \\begin{bmatrix} 0.00 \\\\ 1.60 \\end{bmatrix}\n",
    "\\\\[6px]\n",
    "f_4(x,y) &= \\begin{bmatrix} -0.15 & 0.28 \\\\ 0.26 & 0.24 \\end{bmatrix} \\begin{bmatrix} x \\\\ y \\end{bmatrix} + \\begin{bmatrix} 0.00 \\\\ 0.44 \\end{bmatrix}\n",
    "\\end{align}$$\n",
    "\n",
    "The probability factor $p$ for the four transformations can be seen in the table below:\n",
    "\n",
    "$$\\begin{align}\n",
    "p[f_1] &\\rightarrow 0.01\n",
    "\\\\[6px]\n",
    "p[f_2] &\\rightarrow 0.85\n",
    "\\\\[6px]\n",
    "p[f_3] &\\rightarrow 0.07\n",
    "\\\\[6px]\n",
    "p[f_4] &\\rightarrow 0.07\n",
    "\\end{align}$$"
   ]
  },
  {
   "cell_type": "markdown",
   "id": "7d4850ad-7d91-4b58-8edb-f2bc43fff3c4",
   "metadata": {},
   "source": [
    "The first point drawn is at the origin $(x,y)=(0,0)$ and then the new points are iteratively computed by randomly applying one of the four coordinate transformations $f_1 \\cdots f_4$"
   ]
  },
  {
   "cell_type": "markdown",
   "id": "5f37f032-f8c7-45eb-92c9-4f4734bf7245",
   "metadata": {},
   "source": [
    "We will develop this program in two stages. First, we will try to use numpy. The de facto package for dealing with numerical arrays in Python. As we already know how to write functions, lets start writing four functions for the the four transformations. In this case we can define $r$ as being the vector (x,y). This will help us defining the functions in a very compact expression."
   ]
  },
  {
   "cell_type": "code",
   "execution_count": 14,
   "id": "df3cc896-ed17-44c2-bdbf-8d9ae462778a",
   "metadata": {},
   "outputs": [],
   "source": [
    "import numpy as np\n",
    "import matplotlib.pyplot as plt"
   ]
  },
  {
   "cell_type": "code",
   "execution_count": 15,
   "id": "da88eb83-1d21-4152-bc68-ecc030a72265",
   "metadata": {},
   "outputs": [],
   "source": [
    "def f1(r):\n",
    "    a=np.array([[0,0],[0,0.16]])\n",
    "    return np.dot(a,r)\n",
    "\n",
    "def f2(r):\n",
    "    a=np.array([[0.85,0.04],[-0.04, 0.85]])\n",
    "    return np.dot(a,r)+np.array([0.0,1.6])\n",
    "\n",
    "def f3(r):\n",
    "    a=np.array([[0.20,-0.26],[0.23,0.22]])\n",
    "    return np.dot(a,r)+np.array([0.0,1.6])\n",
    "\n",
    "def f4(r):\n",
    "    a=np.array([[-0.15, 0.28],[0.26,0.24]])\n",
    "    return np.dot(a,r)+np.array([0.0,0.44])"
   ]
  },
  {
   "cell_type": "markdown",
   "id": "a24e52d1-6ecf-4050-88a6-d48dbb5cca21",
   "metadata": {},
   "source": [
    "These four functions will transform points in $r$ into new positions $r'$. We can now assemble the code to assigned the transformations according to the probability factors described above."
   ]
  },
  {
   "cell_type": "code",
   "execution_count": 16,
   "id": "2f83fd31-cf0d-4ff7-b963-2e8f43d6c874",
   "metadata": {},
   "outputs": [],
   "source": [
    "r0=np.array([0,0])"
   ]
  },
  {
   "cell_type": "code",
   "execution_count": 17,
   "id": "eed66b10-ac7f-48b5-a14d-3ebb31b4a729",
   "metadata": {},
   "outputs": [
    {
     "data": {
      "image/png": "[encoded data removed]",
      "text/plain": [
       "<Figure size 640x480 with 1 Axes>"
      ]
     },
     "metadata": {},
     "output_type": "display_data"
    }
   ],
   "source": [
    "npoints=100000\n",
    "\n",
    "points=np.zeros((npoints,2))\n",
    "\n",
    "fig, ax = plt.subplots()\n",
    "                \n",
    "for i in range(npoints):\n",
    "    rnd=np.random.rand()\n",
    "    if rnd<=0.01:\n",
    "        r1=f1(r0)\n",
    "    elif rnd<=0.86:\n",
    "        r1=f2(r0)\n",
    "    elif rnd<=0.93:\n",
    "        r1=f3(r0)\n",
    "    else:\n",
    "        r1=f4(r0)\n",
    "    points[i]=r0\n",
    "    r0=r1\n",
    "\n",
    "ax.plot(points[:,0],points[:,1],',')                \n",
    "ax.set_axis_off()\n",
    "ax.set_aspect(0.5)\n",
    "plt.show()"
   ]
  },
  {
   "cell_type": "markdown",
   "id": "6e593495",
   "metadata": {},
   "source": [
    "<a id=\"python_syntax_1\"></a>\n",
    "# Python Syntax I: Variables"
   ]
  },
  {
   "cell_type": "markdown",
   "id": "219e2929",
   "metadata": {},
   "source": [
    "Let us start with something very simple and then we will focus on different useful packages"
   ]
  },
  {
   "cell_type": "code",
   "execution_count": 18,
   "id": "145680b8",
   "metadata": {},
   "outputs": [
    {
     "name": "stdout",
     "output_type": "stream",
     "text": [
      "Hello Word\n"
     ]
    }
   ],
   "source": [
    "print(\"Hello Word\")  # Here I am adding a comment on the same line\n",
    "# Comments like these will not do anything"
   ]
  },
  {
   "cell_type": "markdown",
   "id": "c49c1aa3",
   "metadata": {},
   "source": [
    "## Variable types, names, and reserved words"
   ]
  },
  {
   "cell_type": "code",
   "execution_count": 19,
   "id": "16d78442",
   "metadata": {},
   "outputs": [],
   "source": [
    "var = 8                # Integer     \n",
    "k = 23434235234        # Long integer (all integers in Python 3 are long integers).\n",
    "pi = 3.1415926         # float (there are better ways of defining PI with numpy)\n",
    "z = 1.5+0.5j           # Complex\n",
    "hi = \"Hello world\"    # String\n",
    "truth = True           # Boolean\n",
    "\n",
    "# Assignation to an operation\n",
    "radius=3.0\n",
    "area=pi*radius**2"
   ]
  },
  {
   "cell_type": "markdown",
   "id": "f011b152",
   "metadata": {},
   "source": [
    "Variables can have any name but you can not use reserved language names as:\n",
    "\n",
    "<table style=\"font-size:150%; font-family:courier; text-align:center\"> \n",
    "<tr style=\"text-align:center\">\n",
    "<td> and       </td>\n",
    "<td> as        </td>\n",
    "<td> assert    </td>\n",
    "<td> break    </td>\n",
    "<td> class     </td>\n",
    "<td> continue  </td>\n",
    "<td> def       </td>\n",
    "</tr>\n",
    "<tr style=\"text-align:center\">\n",
    "<td> del       </td>\n",
    "<td> elif      </td>\n",
    "<td> else      </td>\n",
    "<td> except    </td>\n",
    "<td> False     </td>\n",
    "<td> finally   </td>\n",
    "<td> for       </td>\n",
    "</tr>\n",
    "<tr style=\"text-align:center\">\n",
    "<td> from      </td>\n",
    "<td> global    </td>\n",
    "<td> if        </td>\n",
    "<td> import    </td>\n",
    "<td> in        </td>\n",
    "<td> is        </td>\n",
    "<td> lambda    </td>\n",
    "</tr>\n",
    "<tr style=\"text-align:center\">\n",
    "<td> None      </td>\n",
    "<td> nonlocal  </td>\n",
    "<td> not       </td>\n",
    "<td> or        </td>\n",
    "<td> pass      </td>\n",
    "<td> print     </td>\n",
    "<td> raise     </td>\n",
    "</tr>\n",
    "<tr style=\"text-align:center\">\n",
    "<td> return    </td>\n",
    "<td> True      </td>\n",
    "<td> try       </td>\n",
    "<td> while     </td>\n",
    "<td> with      </td>\n",
    "<td> yield     </td>\n",
    "<td>           </td>\n",
    "</tr>\n",
    "</table>\n",
    "\n",
    "\n",
    "Other rules for variable names:\n",
    "\n",
    "   * Can not start with a number: (example `12var`)\n",
    "\n",
    "   * Can not include illegal characters such as `% & + - =`, etc\n",
    "\n",
    "   * Names in upper-case are considered different than those in lower-case \n",
    "\n",
    "Variables can receive values assigned in several ways:"
   ]
  },
  {
   "cell_type": "code",
   "execution_count": 20,
   "id": "7e6020ad",
   "metadata": {},
   "outputs": [
    {
     "name": "stdout",
     "output_type": "stream",
     "text": [
      "2.5 2.5 2.5\n"
     ]
    }
   ],
   "source": [
    "x=y=z=2.5\n",
    "print(x,y,z)"
   ]
  },
  {
   "cell_type": "code",
   "execution_count": 21,
   "id": "e8d3dc1d",
   "metadata": {},
   "outputs": [
    {
     "name": "stdout",
     "output_type": "stream",
     "text": [
      "1 2 3\n"
     ]
    }
   ],
   "source": [
    "a,b,c=1,2,3\n",
    "print(a,b,c)"
   ]
  },
  {
   "cell_type": "code",
   "execution_count": 22,
   "id": "73a96ee6",
   "metadata": {},
   "outputs": [
    {
     "name": "stdout",
     "output_type": "stream",
     "text": [
      "2 3\n"
     ]
    }
   ],
   "source": [
    "a,b=b,a+b\n",
    "print(a,b)"
   ]
  },
  {
   "cell_type": "code",
   "execution_count": 23,
   "id": "05591345",
   "metadata": {},
   "outputs": [
    {
     "name": "stdout",
     "output_type": "stream",
     "text": [
      "3.11.7 (main, Dec 24 2023, 07:47:18) [Clang 12.0.0 (clang-1200.0.32.29)]\n"
     ]
    }
   ],
   "source": [
    "import sys\n",
    "print(sys.version)"
   ]
  },
  {
   "cell_type": "markdown",
   "id": "8eea8a22",
   "metadata": {},
   "source": [
    "## Basic data types"
   ]
  },
  {
   "cell_type": "markdown",
   "id": "61a5824e",
   "metadata": {},
   "source": [
    "### Numbers"
   ]
  },
  {
   "cell_type": "markdown",
   "id": "172f88d2",
   "metadata": {},
   "source": [
    "Integers and floats work as you would expect from other languages:"
   ]
  },
  {
   "cell_type": "code",
   "execution_count": 24,
   "id": "7909c9c4",
   "metadata": {},
   "outputs": [
    {
     "name": "stdout",
     "output_type": "stream",
     "text": [
      "3 <class 'int'>\n"
     ]
    }
   ],
   "source": [
    "x = 3\n",
    "print(x, type(x))"
   ]
  },
  {
   "cell_type": "code",
   "execution_count": 25,
   "id": "ea86d396",
   "metadata": {},
   "outputs": [
    {
     "name": "stdout",
     "output_type": "stream",
     "text": [
      "4\n",
      "2\n",
      "6\n",
      "9\n"
     ]
    }
   ],
   "source": [
    "print(x + 1)   # Addition;\n",
    "print(x - 1)   # Subtraction;\n",
    "print(x * 2)   # Multiplication;\n",
    "print(x ** 2)  # Exponentiation;"
   ]
  },
  {
   "cell_type": "code",
   "execution_count": 26,
   "id": "7a848a2b",
   "metadata": {},
   "outputs": [
    {
     "name": "stdout",
     "output_type": "stream",
     "text": [
      "4\n",
      "8\n"
     ]
    }
   ],
   "source": [
    "x += 1\n",
    "print(x)  # Prints \"4\"\n",
    "x *= 2\n",
    "print(x)  # Prints \"8\""
   ]
  },
  {
   "cell_type": "code",
   "execution_count": 27,
   "id": "2cb2ea7d",
   "metadata": {},
   "outputs": [
    {
     "name": "stdout",
     "output_type": "stream",
     "text": [
      "<class 'float'>\n",
      "2.5 3.5 5.0 6.25\n"
     ]
    }
   ],
   "source": [
    "y = 2.5\n",
    "print(type(y)) # Prints \"<type 'float'>\"\n",
    "print(y, y + 1, y * 2, y ** 2) # Prints \"2.5 3.5 5.0 6.25\""
   ]
  },
  {
   "cell_type": "markdown",
   "id": "75ba8b92",
   "metadata": {},
   "source": [
    "Note that unlike many languages (C for example), Python does not recognize the unary increment (`x++`) or decrement (`x--`) operators.\n",
    "\n",
    "Python also has built-in types for long integers and complex numbers; you can find all of the details in the [Official Documentation for Numeric Types](https://docs.python.org/3.10/library/stdtypes.html#numeric-types-int-float-complex)."
   ]
  },
  {
   "cell_type": "markdown",
   "id": "5ed6850b",
   "metadata": {},
   "source": [
    "## Basic Mathematical Operations\n",
    "\n",
    "* With <font color=\"brown\">Python</font> we can do the following basic operations:\n",
    "  \n",
    "Addition (<code><font color=brown>+</font></code>), subtraction\n",
    "(<code><font color=brown>-</font></code>), multiplication\n",
    "(<code><font color=brown>*</font></code>) and división (<code><font color=brown>/</font></code>).\n",
    "\n",
    "* Other less common:\n",
    "\n",
    "Exponentiation (<code><font color=brown>**</font></code>), \n",
    "integer division (<code><font color=brown>//</font></code>) o \n",
    "module (<code><font color=brown>%</font></code>).\n",
    "\n",
    "\n",
    "### Precedence of Operations\n",
    "\n",
    "* PEDMAS\n",
    "    * **P**arenthesis\n",
    "    * **E**xponents\n",
    "    * **D**ivision and **M**ultiplication.\n",
    "    * **A**ddition and **S**ubstraction\n",
    "* From left to right.\n",
    "\n",
    "Let's see some examples:"
   ]
  },
  {
   "cell_type": "code",
   "execution_count": 28,
   "id": "fdcf1b21",
   "metadata": {},
   "outputs": [
    {
     "name": "stdout",
     "output_type": "stream",
     "text": [
      "4\n",
      "1\n",
      "2.0\n"
     ]
    }
   ],
   "source": [
    "print((3-1)*2)\n",
    "print(3-1 *2)\n",
    "print(1/2*4)"
   ]
  },
  {
   "cell_type": "markdown",
   "id": "2187db43",
   "metadata": {},
   "source": [
    "#### Booleans"
   ]
  },
  {
   "cell_type": "markdown",
   "id": "7fe94627",
   "metadata": {},
   "source": [
    "Python implements all of the usual operators for Boolean logic, but uses English words rather than symbols (`&&`, `||`, etc.):"
   ]
  },
  {
   "cell_type": "code",
   "execution_count": 29,
   "id": "fe297b07",
   "metadata": {},
   "outputs": [
    {
     "name": "stdout",
     "output_type": "stream",
     "text": [
      "<class 'bool'>\n"
     ]
    }
   ],
   "source": [
    "t, f = True, False\n",
    "print(type(t)) # Prints \"<type 'bool'>\""
   ]
  },
  {
   "cell_type": "code",
   "execution_count": 30,
   "id": "99a09cb2",
   "metadata": {},
   "outputs": [
    {
     "data": {
      "text/plain": [
       "True"
      ]
     },
     "execution_count": 30,
     "metadata": {},
     "output_type": "execute_result"
    }
   ],
   "source": [
    "answer = True\n",
    "answer"
   ]
  },
  {
   "cell_type": "markdown",
   "id": "09a45aa2",
   "metadata": {},
   "source": [
    "Now let's look at the operations:"
   ]
  },
  {
   "cell_type": "code",
   "execution_count": 31,
   "id": "6124ea47",
   "metadata": {},
   "outputs": [
    {
     "name": "stdout",
     "output_type": "stream",
     "text": [
      "False\n",
      "True\n",
      "False\n",
      "True\n"
     ]
    }
   ],
   "source": [
    "print(t and f) # Logical AND;\n",
    "print(t or f)  # Logical OR;\n",
    "print(not t)   # Logical NOT;\n",
    "print(t != f)  # Logical XOR;"
   ]
  },
  {
   "cell_type": "code",
   "execution_count": 32,
   "id": "e4117369",
   "metadata": {},
   "outputs": [
    {
     "name": "stdout",
     "output_type": "stream",
     "text": [
      "False\n",
      "True\n"
     ]
    }
   ],
   "source": [
    "a=10\n",
    "b=20\n",
    "print (a==b)\n",
    "print (a!=b)"
   ]
  },
  {
   "cell_type": "code",
   "execution_count": 33,
   "id": "f0cc084a",
   "metadata": {},
   "outputs": [
    {
     "name": "stdout",
     "output_type": "stream",
     "text": [
      "False\n",
      "True\n",
      "False\n",
      "True\n"
     ]
    }
   ],
   "source": [
    "a=10\n",
    "b=20\n",
    "print (a>b)\n",
    "print (a<b)\n",
    "print (a>=b)\n",
    "#print (a=>b) # Error de sintaxis\n",
    "print (a<=b)"
   ]
  },
  {
   "cell_type": "markdown",
   "id": "f75e5a00",
   "metadata": {},
   "source": [
    "#### Strings"
   ]
  },
  {
   "cell_type": "code",
   "execution_count": 34,
   "id": "7aef3494",
   "metadata": {},
   "outputs": [
    {
     "name": "stdout",
     "output_type": "stream",
     "text": [
      "hello 5\n"
     ]
    }
   ],
   "source": [
    "hello = 'hello'   # String literals can use single quotes\n",
    "world = \"world\"   # or double quotes; it does not matter.\n",
    "print(hello, len(hello))"
   ]
  },
  {
   "cell_type": "code",
   "execution_count": 35,
   "id": "a9150606",
   "metadata": {},
   "outputs": [
    {
     "name": "stdout",
     "output_type": "stream",
     "text": [
      "hello world\n"
     ]
    }
   ],
   "source": [
    "hw = hello + ' ' + world  # String concatenation\n",
    "print(hw)  # prints \"hello world\""
   ]
  },
  {
   "cell_type": "code",
   "execution_count": 36,
   "id": "0d0776de",
   "metadata": {},
   "outputs": [
    {
     "name": "stdout",
     "output_type": "stream",
     "text": [
      "hello world 12\n"
     ]
    }
   ],
   "source": [
    "hw12 = '%s %s %d' % (hello, world, 12)  # sprintf style string formatting\n",
    "print(hw12)  # prints \"hello world 12\""
   ]
  },
  {
   "cell_type": "markdown",
   "id": "2dad2082",
   "metadata": {},
   "source": [
    "String objects have a bunch of useful methods; for example:"
   ]
  },
  {
   "cell_type": "code",
   "execution_count": 37,
   "id": "3a2757f5",
   "metadata": {},
   "outputs": [
    {
     "name": "stdout",
     "output_type": "stream",
     "text": [
      "Monty python\n",
      "MONTY PYTHON\n",
      "monty python\n",
      ">|                            Monty Python|<\n",
      ">|              Monty Python              |<\n",
      "Mont(wye) P(wye)thon\n",
      ">|Monty Python|<\n"
     ]
    }
   ],
   "source": [
    "s = \"Monty Python\"\n",
    "print(s.capitalize())  # Capitalize a string; prints \"Monty python\"\n",
    "print(s.upper())       # Convert a string to uppercase; prints \"MONTY PYTHON\"\n",
    "print(s.lower())       # Convert a string to lowercase; prints \"monty python\"\n",
    "print('>|'+s.rjust(40)+'|<')    # Right-justify a string, padding with spaces\n",
    "print('>|'+s.center(40)+'|<')   # Center a string, padding with spaces\n",
    "print(s.replace('y', '(wye)'))  # Replace all instances of one substring with another;\n",
    "                                # prints \"Mont(wye) P(wye)thon\"\n",
    "\n",
    "print('>|'+'      Monty Python    '.strip()+'|<')  # Strip leading and trailing whitespace"
   ]
  },
  {
   "cell_type": "markdown",
   "id": "0f1c87d0",
   "metadata": {},
   "source": [
    "We can see a more general picture on how to slice a string as \n",
    "\n",
    "\n",
    "<img width=\"700\" alt=\"No fig directory\" src=\"fig/string-slicing.png\" />"
   ]
  },
  {
   "cell_type": "code",
   "execution_count": 38,
   "id": "bb7b8fad",
   "metadata": {},
   "outputs": [
    {
     "name": "stdout",
     "output_type": "stream",
     "text": [
      "Pyth\n",
      "Mont\n",
      " Python\n",
      "ot y\n",
      "nohtyP ytnoM\n",
      "['a', 'b', 'c']\n"
     ]
    },
    {
     "data": {
      "text/plain": [
       "['my', 'My', 'my', 'My']"
      ]
     },
     "execution_count": 38,
     "metadata": {},
     "output_type": "execute_result"
    }
   ],
   "source": [
    "#  strings I\n",
    "\n",
    "word = \"Monty Python\"\n",
    "part = word[6:10]\n",
    "print (part)\n",
    "part = word[:4]\n",
    "print(part)\n",
    "part = word[5:]\n",
    "print(part)\n",
    "part = word[1:8:2] # from 1 to 8 in spaces of 2\n",
    "print(part)\n",
    "rev = word [::-1]\n",
    "print(rev)\n",
    "text = 'a,b,c'\n",
    "text = text.split(',')\n",
    "print(text)\n",
    "\n",
    "c1=\"my.My.my.My\"\n",
    "c2=\"name\"\n",
    "c1+c2\n",
    "c1*3\n",
    "c1.split(\".\")"
   ]
  },
  {
   "cell_type": "markdown",
   "id": "04c05a3f",
   "metadata": {},
   "source": [
    "Today’s programs need to be able to handle a wide variety of characters. Applications are often internationalized to display messages and output in a variety of user-selectable languages; the same program might need to output an error message in English, French, Japanese, Hebrew, or Russian. Web content can be written in any of these languages and can also include a variety of emoji symbols. Python’s string type uses the Unicode Standard for representing characters, which lets Python programs work with all these different possible characters.\n",
    "\n",
    "Unicode (https://www.unicode.org/) is a specification that aims to list every character used by human languages and give each character its unique code. The Unicode specifications are continually revised and updated to add new languages and symbols.\n",
    "\n",
    "UTF-8 is one of the most commonly used encodings, and Python often defaults to using it. \n",
    "\n",
    "You can find a list of all string methods in the Python 3.10 Language Documentation for [Text sequence type (str)](https://docs.python.org/3.10/library/stdtypes.html#text-sequence-type-str)."
   ]
  },
  {
   "cell_type": "markdown",
   "id": "8faf3e16",
   "metadata": {},
   "source": [
    "### String Formatting and text printing"
   ]
  },
  {
   "cell_type": "markdown",
   "id": "0b36966b",
   "metadata": {},
   "source": [
    "In Python 3.x and higher, `print()` is a normal function as any other (so `print(2, 3)` prints \"2 3\".\n",
    "If you see a code with a line like:\n",
    "\n",
    "    print 2, 3 \n",
    "    \n",
    "This code is using Python 2.x syntax. This is just one of the backward incompatible differences introduced in Python 3.x. In Python 2.x and before `print` was a statement like `if` or `for`. In Python 3.x the statement was removed in favor of a function. "
   ]
  },
  {
   "cell_type": "code",
   "execution_count": 39,
   "id": "d38faf8a",
   "metadata": {},
   "outputs": [
    {
     "name": "stdout",
     "output_type": "stream",
     "text": [
      "Hellow word!\n",
      "\n",
      "21\n"
     ]
    }
   ],
   "source": [
    "print(\"Hellow word!\")\n",
    "print()\n",
    "print(7*3)"
   ]
  },
  {
   "cell_type": "code",
   "execution_count": 40,
   "id": "e28dbf1f",
   "metadata": {},
   "outputs": [
    {
     "name": "stdout",
     "output_type": "stream",
     "text": [
      "His names is :  Theo\n",
      "\n",
      "Average :  6.5\n",
      "1 2 3 4 "
     ]
    }
   ],
   "source": [
    "name = \"Theo\"\n",
    "print(\"His names is : \", name)\n",
    "print()\n",
    "grade = 19.5\n",
    "neval = 3\n",
    "print(\"Average : \", grade/neval),\n",
    "\n",
    "# array \n",
    "a = [1, 2, 3, 4] \n",
    "  \n",
    "# printing a element in same \n",
    "# line \n",
    "for i in range(4): \n",
    "    print(a[i], end =\" \")  "
   ]
  },
  {
   "cell_type": "markdown",
   "id": "de66d81a",
   "metadata": {},
   "source": [
    "There are four major ways to do string formatting in Python. These ways have evolved from the origin of the language itself trying to mimic the ways of other languages such as C or Fortran that have used certain formatting techniques for a long time."
   ]
  },
  {
   "cell_type": "markdown",
   "id": "52729674",
   "metadata": {},
   "source": [
    "### Old style String Formatting (The `%` operator)\n",
    "\n",
    "Strings in Python have a unique built-in operation that can be accessed with the `%` operator. \n",
    "This lets you do simple positional formatting very easily. \n",
    "This operator due its existence to the old printf-style function in C language. In C `printf` is a function that can receive several arguments. The string return is based on the first string and variables replaced with some special characters indicating the format of the variable should take as a string."
   ]
  },
  {
   "cell_type": "markdown",
   "id": "3a089704",
   "metadata": {},
   "source": [
    "<table> \n",
    "<tr>\n",
    "<td style=\"font-size:150%;font-family:courier;\"> %s     </td>\n",
    "<td style=\"font-size:150%;\"> &emsp;&emsp;&emsp;      </td>\n",
    "<td style=\"font-size:150%;\"> *<font color=green>string</font>*.    </td>\n",
    "</tr>\n",
    "<tr>\n",
    "<td style=\"font-size:150%;font-family:courier;\"> %d  </td>\n",
    "<td style=\"font-size:150%;\">     </td>\n",
    "<td style=\"font-size:150%;\"> integer. </td>\n",
    "</tr>\n",
    "<tr>\n",
    "<td style=\"font-size:150%;font-family:courier;\"> %0xd </td>\n",
    "<td style=\"font-size:150%;\">      </td>\n",
    "<td style=\"font-size:150%;\"> an integer with x zeros from the left. </td>\n",
    "</tr>\n",
    "<tr>\n",
    "<td style=\"font-size:150%;font-family:courier;\"> %f </td>\n",
    "<td style=\"font-size:150%;\">    </td>\n",
    "<td style=\"font-size:150%;\"> decimal notation with six digits.  </td>\n",
    "</tr>\n",
    "<tr>\n",
    "<td style=\"font-size:150%;font-family:courier;\"> %e    </td>\n",
    "<td style=\"font-size:150%;\">       </td>\n",
    "<td style=\"font-size:150%;\"> scientific notation (compact) with <code><font color=brown>e</font></code> in the exponent. </td>\n",
    "</tr>\n",
    " <tr>\n",
    "<td style=\"font-size:150%;font-family:courier;\"> %E    </td>\n",
    "<td style=\"font-size:150%;\">       </td>\n",
    "<td style=\"font-size:150%;\"> scientific notation (compact) with <code><font color=brown>E</font></code> in the exponent. </td>\n",
    "</tr>\n",
    "<tr>\n",
    "<td style=\"font-size:150%;font-family:courier;\"> %g    </td>\n",
    "<td style=\"font-size:150%;\">       </td>\n",
    "<td style=\"font-size:150%;\"> decimal or scientific notation with  <code><font color=brown>e</font></code> in the exponent. </td>\n",
    "</tr>\n",
    "<tr>\n",
    "<td style=\"font-size:150%;font-family:courier;\"> %G    </td>\n",
    "<td style=\"font-size:150%;\">       </td>\n",
    "<td style=\"font-size:150%;\"> decimal or scientific notation with <code><font color=brown>E</font></code> in the exponent. </td>\n",
    "</tr>\n",
    "<tr>\n",
    "<td style=\"font-size:150%;font-family:courier;\"> %xz    </td>\n",
    "<td style=\"font-size:150%;\">       </td>\n",
    "<td style=\"font-size:150%;\"> format z adjusted to the rigth in a field of width x. </td>\n",
    "</tr>\n",
    "<tr>\n",
    "<td style=\"font-size:150%;font-family:courier;\"> %-xz    </td>\n",
    "<td style=\"font-size:150%;\">       </td>\n",
    "<td style=\"font-size:150%;\"> format z adjusted to the left in a field of width x. </td>\n",
    "</tr>\n",
    "<tr>\n",
    "<td style=\"font-size:150%;font-family:courier;\"> %.yz    </td>\n",
    "<td style=\"font-size:150%;\">       </td>\n",
    "<td style=\"font-size:150%;\"> format z with y digits. </td>\n",
    "</tr>\n",
    "    <tr>\n",
    "<td style=\"font-size:150%;font-family:courier;\"> %x.yz    </td>\n",
    "<td style=\"font-size:150%;\">       </td>\n",
    "<td style=\"font-size:150%;\"> format z with y digits in afield of width x . </td>\n",
    "</tr>\n",
    "    <tr>\n",
    "<td style=\"font-size:150%;font-family:courier;\"> %%    </td>\n",
    "<td style=\"font-size:150%;\">       </td>\n",
    "<td style=\"font-size:150%;\"> percentage sign.</td>\n",
    "</tr>\n",
    "</table>"
   ]
  },
  {
   "cell_type": "markdown",
   "id": "cb3785bc",
   "metadata": {},
   "source": [
    "See some examples of the use of this notation."
   ]
  },
  {
   "cell_type": "code",
   "execution_count": 41,
   "id": "60db6690",
   "metadata": {},
   "outputs": [
    {
     "name": "stdout",
     "output_type": "stream",
     "text": [
      "|  15, 3.1416|\n",
      "3.141590e+00, 3.14159\n",
      "|Hiii, Hiii,  Hiii,       Hiii|\n"
     ]
    }
   ],
   "source": [
    "n = 15          # Int\n",
    "r = 3.14159     # Float\n",
    "s = \"Hiii\"      # String\n",
    "print(\"|%4d, %6.4f|\" % (n,r))                  \n",
    "print(\"%e, %g\" % (r,r))                          \n",
    "print(\"|%2s, %4s, %5s, %10s|\" % (s, s, s ,s))  "
   ]
  },
  {
   "cell_type": "code",
   "execution_count": 42,
   "id": "da48c2ce",
   "metadata": {},
   "outputs": [
    {
     "data": {
      "text/plain": [
       "'Hello, Theo'"
      ]
     },
     "execution_count": 42,
     "metadata": {},
     "output_type": "execute_result"
    }
   ],
   "source": [
    "'Hello, %s' % name"
   ]
  },
  {
   "cell_type": "code",
   "execution_count": 43,
   "id": "530fe090",
   "metadata": {},
   "outputs": [
    {
     "data": {
      "text/plain": [
       "'The name Theo has 4 characters'"
      ]
     },
     "execution_count": 43,
     "metadata": {},
     "output_type": "execute_result"
    }
   ],
   "source": [
    "'The name %s has %d characters' % (name, len(name))"
   ]
  },
  {
   "cell_type": "markdown",
   "id": "bfffa249",
   "metadata": {},
   "source": [
    "### The new style String Formatting (str.format) "
   ]
  },
  {
   "cell_type": "markdown",
   "id": "575fe6da",
   "metadata": {},
   "source": [
    "Python 3 introduced a new way to do string formatting. This “new style” string formatting gets rid of the %-operator special syntax and makes the syntax for string formatting more regular. Formatting is now handled by calling .format() on a string object.\n",
    "\n",
    "You can use format() to do simple positional formatting, just like you could with “old style” formatting:"
   ]
  },
  {
   "cell_type": "code",
   "execution_count": 44,
   "id": "bfa1ff6d",
   "metadata": {},
   "outputs": [
    {
     "data": {
      "text/plain": [
       "'Hello, Theo'"
      ]
     },
     "execution_count": 44,
     "metadata": {},
     "output_type": "execute_result"
    }
   ],
   "source": [
    "'Hello, {}'.format(name)"
   ]
  },
  {
   "cell_type": "code",
   "execution_count": 45,
   "id": "07d2ad49",
   "metadata": {},
   "outputs": [
    {
     "data": {
      "text/plain": [
       "'The name Theo has 4 characters'"
      ]
     },
     "execution_count": 45,
     "metadata": {},
     "output_type": "execute_result"
    }
   ],
   "source": [
    "'The name {username} has {numchar} characters'.format(username=name, numchar= len(name))"
   ]
  },
  {
   "cell_type": "markdown",
   "id": "9a771d16",
   "metadata": {},
   "source": [
    "In Python 3.x, this “new style” string formatting is to be preferred over %-style formatting. While “old style” formatting has been de-emphasized, it has not been deprecated. It is still supported in the latest versions of Python."
   ]
  },
  {
   "cell_type": "markdown",
   "id": "14dcee6c",
   "metadata": {},
   "source": [
    "### The even newer String Formatting style (Since Python 3.6)"
   ]
  },
  {
   "cell_type": "markdown",
   "id": "076324e3",
   "metadata": {},
   "source": [
    "Python 3.6 added a new string formatting approach called formatted string literals or “f-strings”. This new way of formatting strings lets you use embedded Python expressions inside string constants. Here’s a simple example to give you a feel for the feature:"
   ]
  },
  {
   "cell_type": "code",
   "execution_count": 46,
   "id": "a5bd7049",
   "metadata": {},
   "outputs": [
    {
     "data": {
      "text/plain": [
       "'The name Theo has 4 characters'"
      ]
     },
     "execution_count": 46,
     "metadata": {},
     "output_type": "execute_result"
    }
   ],
   "source": [
    "f'The name {name} has {len(name)} characters'"
   ]
  },
  {
   "cell_type": "markdown",
   "id": "153a588a",
   "metadata": {},
   "source": [
    "Here we are not printing, just creating a string with replacements done on-the-fly indicated by the presence of the `f''` before the string. You can do operations inside the string for example:"
   ]
  },
  {
   "cell_type": "code",
   "execution_count": 47,
   "id": "155740e0",
   "metadata": {},
   "outputs": [
    {
     "data": {
      "text/plain": [
       "'The sum of 2 and 3 is 5, the product is 6 and the power 2^3 = 8'"
      ]
     },
     "execution_count": 47,
     "metadata": {},
     "output_type": "execute_result"
    }
   ],
   "source": [
    "a = 2\n",
    "b = 3\n",
    "f'The sum of {a} and {b} is {a + b}, the product is {a*b} and the power {a}^{b} = {a**b}'"
   ]
  },
  {
   "cell_type": "markdown",
   "id": "d938c51c",
   "metadata": {},
   "source": [
    "### Template Strings (Standard Library)"
   ]
  },
  {
   "cell_type": "markdown",
   "id": "ea5fce11",
   "metadata": {},
   "source": [
    "Here’s one more tool for string formatting in Python: template strings. It’s a simpler and less powerful mechanism, but in some cases, this might be exactly what you’re looking for."
   ]
  },
  {
   "cell_type": "code",
   "execution_count": 48,
   "id": "521aed5a",
   "metadata": {},
   "outputs": [
    {
     "data": {
      "text/plain": [
       "'The name Theo has 4 characters'"
      ]
     },
     "execution_count": 48,
     "metadata": {},
     "output_type": "execute_result"
    }
   ],
   "source": [
    "from string import Template\n",
    "\n",
    "t = Template('The name $name has $numchar characters')\n",
    "t.substitute(name=name, numchar=len(name))"
   ]
  },
  {
   "cell_type": "markdown",
   "id": "62d6b20b",
   "metadata": {},
   "source": [
    "<a id=\"python_syntax_2\"></a>\n",
    "# Python Syntax II: Sequence and Mapping Types. loops and conditionals"
   ]
  },
  {
   "cell_type": "markdown",
   "id": "6e168f88",
   "metadata": {},
   "source": [
    "Python includes several built-in container types: lists, dictionaries, sets, and tuples.\n",
    "They are particularly useful when you are working with loops and conditionals. We will cover all these language elements here"
   ]
  },
  {
   "cell_type": "markdown",
   "id": "ee229c20",
   "metadata": {},
   "source": [
    "## Lists"
   ]
  },
  {
   "cell_type": "markdown",
   "id": "b1b802ea",
   "metadata": {},
   "source": [
    "The items of a list are arbitrary Python objects. Lists are formed by placing a comma-separated list of expressions in square brackets. (Note that there are no special cases needed to form lists of length 0 or 1.).\n",
    "\n",
    "Lists are mutable meaning that they can be changed after they are created."
   ]
  },
  {
   "cell_type": "code",
   "execution_count": 49,
   "id": "9b9225e4",
   "metadata": {},
   "outputs": [
    {
     "name": "stdout",
     "output_type": "stream",
     "text": [
      "[8, 4, 2] 2\n",
      "2\n"
     ]
    }
   ],
   "source": [
    "xs = [8, 4, 2]    # Create a list\n",
    "print(xs, xs[2])\n",
    "print(xs[-1])     # Negative indices count from the end of the list; prints \"2\""
   ]
  },
  {
   "cell_type": "code",
   "execution_count": 50,
   "id": "68a19caa",
   "metadata": {},
   "outputs": [
    {
     "name": "stdout",
     "output_type": "stream",
     "text": [
      "[8, 4, 'cube']\n"
     ]
    }
   ],
   "source": [
    "xs[2] = 'cube'     # Lists can contain elements of different types\n",
    "print(xs)"
   ]
  },
  {
   "cell_type": "code",
   "execution_count": 51,
   "id": "82882561",
   "metadata": {},
   "outputs": [
    {
     "name": "stdout",
     "output_type": "stream",
     "text": [
      "[8, 4, 'cube', 'tetrahedron']\n"
     ]
    }
   ],
   "source": [
    "xs.append('tetrahedron')  # Add a new element to the end of the list\n",
    "print(xs)  "
   ]
  },
  {
   "cell_type": "code",
   "execution_count": 52,
   "id": "566680f9",
   "metadata": {},
   "outputs": [
    {
     "name": "stdout",
     "output_type": "stream",
     "text": [
      "tetrahedron [8, 4, 'cube']\n"
     ]
    }
   ],
   "source": [
    "x = xs.pop()      # Remove and return the last element of the list\n",
    "print(x, xs) "
   ]
  },
  {
   "cell_type": "code",
   "execution_count": 53,
   "id": "f3fbf85c",
   "metadata": {},
   "outputs": [
    {
     "name": "stdout",
     "output_type": "stream",
     "text": [
      "rhombus\n"
     ]
    }
   ],
   "source": [
    "words = [\"triangle\", [\"square\", \"rectangle\", \"rhombus\"], \"pentagon\"]\n",
    "print(words[1][2])"
   ]
  },
  {
   "cell_type": "markdown",
   "id": "0dbfd748",
   "metadata": {},
   "source": [
    "As usual, you can find all the more details about mutable  in the [Python 3.10 documentation for sequence types](https://docs.python.org/3.10/library/stdtypes.html#sequence-types-list-tuple-range)."
   ]
  },
  {
   "cell_type": "markdown",
   "id": "c256a06e",
   "metadata": {},
   "source": [
    "### Slicing"
   ]
  },
  {
   "cell_type": "markdown",
   "id": "93fb85e5",
   "metadata": {},
   "source": [
    "In addition to accessing list elements one at a time, Python provides concise syntax to access sublists; this is known as slicing:"
   ]
  },
  {
   "cell_type": "code",
   "execution_count": 54,
   "id": "413aa807",
   "metadata": {},
   "outputs": [
    {
     "name": "stdout",
     "output_type": "stream",
     "text": [
      "[0, 1, 2, 3, 4]\n",
      "[2, 3]\n",
      "[2, 3, 4]\n",
      "[0, 1]\n",
      "[0, 1, 2, 3, 4]\n",
      "[0, 1, 2, 3]\n",
      "[0, 1, 8, 9, 4]\n"
     ]
    }
   ],
   "source": [
    "nums = range(5)      # range in Python 3.x is a built-in function that creates an iterable\n",
    "lnums = list(nums)\n",
    "print(lnums)         # Prints \"[0, 1, 2, 3, 4]\"\n",
    "print(lnums[2:4])    # Get a slice from index 2 to 4 (excluding 4); prints \"[2, 3]\"\n",
    "print(lnums[2:])     # Get a slice from index 2 to the end; prints \"[2, 3, 4]\"\n",
    "print(lnums[:2])     # Get a slice from the start to index 2 (excluding 2); prints \"[0, 1]\"\n",
    "print(lnums[:])      # Get a slice of the whole list; prints [\"0, 1, 2, 3, 4]\"\n",
    "print(lnums[:-1])    # Slice indices can be negative; prints [\"0, 1, 2, 3]\"\n",
    "lnums[2:4] = [8, 9] # Assign a new sublist to a slice\n",
    "print(lnums)         # Prints \"[0, 1, 8, 9, 4]\""
   ]
  },
  {
   "cell_type": "markdown",
   "id": "6c9d9951",
   "metadata": {},
   "source": [
    "### Loops over lists"
   ]
  },
  {
   "cell_type": "markdown",
   "id": "55a41a0c",
   "metadata": {},
   "source": [
    "You can loop over the elements of a list like this:"
   ]
  },
  {
   "cell_type": "code",
   "execution_count": 55,
   "id": "6df713c9",
   "metadata": {},
   "outputs": [
    {
     "name": "stdout",
     "output_type": "stream",
     "text": [
      "Tetrahedron\n",
      "Cube\n",
      "Octahedron\n",
      "Dodecahedron\n",
      "Icosahedron\n"
     ]
    }
   ],
   "source": [
    "platonic=['Tetrahedron', 'Cube', 'Octahedron', 'Dodecahedron', 'Icosahedron']\n",
    "for solid in platonic:\n",
    "    print(solid)"
   ]
  },
  {
   "cell_type": "markdown",
   "id": "990ae152",
   "metadata": {},
   "source": [
    "If you want access to the index of each element within the body of a loop, use the built-in `enumerate` function:"
   ]
  },
  {
   "cell_type": "code",
   "execution_count": 56,
   "id": "4523cde8",
   "metadata": {
    "scrolled": true
   },
   "outputs": [
    {
     "name": "stdout",
     "output_type": "stream",
     "text": [
      "#1: Tetrahedron\n",
      "#2: Cube\n",
      "#3: Octahedron\n",
      "#4: Dodecahedron\n",
      "#5: Icosahedron\n"
     ]
    }
   ],
   "source": [
    "platonic=['Tetrahedron', 'Cube', 'Octahedron', 'Dodecahedron', 'Icosahedron']\n",
    "for idx, solid in enumerate(platonic):\n",
    "    print('#%d: %s' % (idx + 1, solid))"
   ]
  },
  {
   "cell_type": "markdown",
   "id": "53ad8049",
   "metadata": {},
   "source": [
    "### Copying lists:"
   ]
  },
  {
   "cell_type": "code",
   "execution_count": 57,
   "id": "43999296",
   "metadata": {},
   "outputs": [
    {
     "name": "stdout",
     "output_type": "stream",
     "text": [
      "['a'] ['a']\n",
      "['a', 'asd'] ['a', 'asd']\n"
     ]
    }
   ],
   "source": [
    "# Assignment statements\n",
    "# Incorrect copy\n",
    "\n",
    "L=[]\n",
    "M=L\n",
    " \n",
    "# modify both lists\n",
    "L.append('a')\n",
    "print(L, M)\n",
    "\n",
    "M.append('asd')\n",
    "print(L,M)"
   ]
  },
  {
   "cell_type": "code",
   "execution_count": 58,
   "id": "eb97f4d3",
   "metadata": {},
   "outputs": [
    {
     "name": "stdout",
     "output_type": "stream",
     "text": [
      "['a'] [] []\n"
     ]
    }
   ],
   "source": [
    "#Shallow copy\n",
    "\n",
    "L=[]\n",
    "M=L[:]         # Shallow copy using slicing\n",
    "N=list(L)      # Creating another shallow copy\n",
    "\n",
    "# modify only one\n",
    "L.append('a')\n",
    "print(L, M, N)"
   ]
  },
  {
   "cell_type": "markdown",
   "id": "b0715481",
   "metadata": {},
   "source": [
    "### Shallow copy vs Deep Copy"
   ]
  },
  {
   "cell_type": "markdown",
   "id": "6da839d7",
   "metadata": {},
   "source": [
    "Assignment statements in Python **do not copy objects**, they create bindings between a target and an object. Therefore, the problem with shallow copies is that internal objects are only referenced"
   ]
  },
  {
   "cell_type": "code",
   "execution_count": 59,
   "id": "cbb6daa4",
   "metadata": {},
   "outputs": [],
   "source": [
    "lst1 = ['a','b',['ab','ba']]\n",
    "lst2 = lst1[:]"
   ]
  },
  {
   "cell_type": "code",
   "execution_count": 60,
   "id": "025ed96e",
   "metadata": {},
   "outputs": [
    {
     "name": "stdout",
     "output_type": "stream",
     "text": [
      "['a', 'b', ['cd', 'ba']]\n"
     ]
    }
   ],
   "source": [
    "lst2[2][0]='cd'\n",
    "print(lst1)"
   ]
  },
  {
   "cell_type": "code",
   "execution_count": 61,
   "id": "1a52b178",
   "metadata": {},
   "outputs": [],
   "source": [
    "lst1 = ['a','b',['ab','ba']]\n",
    "lst2 = list(lst1)"
   ]
  },
  {
   "cell_type": "code",
   "execution_count": 62,
   "id": "564dbdb2",
   "metadata": {},
   "outputs": [
    {
     "name": "stdout",
     "output_type": "stream",
     "text": [
      "['a', 'b', ['cd', 'ba']]\n"
     ]
    }
   ],
   "source": [
    "lst2[2][0]='cd'\n",
    "print(lst1)"
   ]
  },
  {
   "cell_type": "markdown",
   "id": "6b6fb8e3",
   "metadata": {},
   "source": [
    "To produce a deep copy you can use a module from the Python Standard Library. The Python Standard library will be covered in the next Notebook, however, this is a good place to clarify this important topic about Shallow and Deep copies in Python."
   ]
  },
  {
   "cell_type": "code",
   "execution_count": 63,
   "id": "12697e5b",
   "metadata": {},
   "outputs": [],
   "source": [
    "from copy import deepcopy\n",
    "\n",
    "lst1 = ['a','b',['ab','ba']]\n",
    "lst2 = deepcopy(lst1)"
   ]
  },
  {
   "cell_type": "code",
   "execution_count": 64,
   "id": "1f8e6ebb",
   "metadata": {},
   "outputs": [
    {
     "name": "stdout",
     "output_type": "stream",
     "text": [
      "['a', 'b', ['ab', 'ba']]\n"
     ]
    }
   ],
   "source": [
    "lst2[2][0]='cd'\n",
    "print(lst1)"
   ]
  },
  {
   "cell_type": "markdown",
   "id": "56404c17",
   "metadata": {},
   "source": [
    "#### Deleting lists:"
   ]
  },
  {
   "cell_type": "code",
   "execution_count": 65,
   "id": "7d4d070d",
   "metadata": {},
   "outputs": [
    {
     "name": "stdout",
     "output_type": "stream",
     "text": [
      "['Tetrahedron', 'Cube', 'Octahedron', 'Dodecahedron', 'Icosahedron']\n",
      "The variable 'platonic' is not defined\n"
     ]
    }
   ],
   "source": [
    "platonic=['Tetrahedron', 'Cube', 'Octahedron', 'Dodecahedron', 'Icosahedron']\n",
    "print(platonic)\n",
    "del platonic\n",
    "\n",
    "try: platonic\n",
    "except NameError: print(\"The variable 'platonic' is not defined\")"
   ]
  },
  {
   "cell_type": "code",
   "execution_count": 66,
   "id": "2646f6f8",
   "metadata": {},
   "outputs": [
    {
     "name": "stdout",
     "output_type": "stream",
     "text": [
      "['Tetrahedron', 'Octahedron', 'Dodecahedron', 'Icosahedron']\n",
      "['Tetrahedron', 'Octahedron', 'Dodecahedron']\n",
      "['Tetrahedron', 'Octahedron', 'Dodecahedron', 'Icosahedron']\n",
      "['Tetrahedron', 'Octahedron', 'Dodecahedron', 'Icosahedron', 'Circle', 2]\n",
      "['Circle', 2, 'Circle', 2]\n",
      "['Circle', 2, 'Circle', 2]\n"
     ]
    }
   ],
   "source": [
    "platonic=['Tetrahedron', 'Cube', 'Octahedron', 'Dodecahedron', 'Icosahedron']\n",
    "del platonic[1]\n",
    "print(platonic)\n",
    "del platonic[-1]                  #Delete last element \n",
    "print(platonic)\n",
    "\n",
    "platonic=['Tetrahedron', 'Cube', 'Octahedron', 'Dodecahedron', 'Icosahedron']\n",
    "platonic.remove(\"Cube\")\n",
    "print(platonic)\n",
    "\n",
    "newl=[\"Circle\", 2]\n",
    "print(platonic+newl) \n",
    "print(newl*2)\n",
    "print(2*newl)"
   ]
  },
  {
   "cell_type": "markdown",
   "id": "efd65fbc",
   "metadata": {},
   "source": [
    "#### Sorting lists:"
   ]
  },
  {
   "cell_type": "code",
   "execution_count": 67,
   "id": "195f05e9",
   "metadata": {},
   "outputs": [
    {
     "name": "stdout",
     "output_type": "stream",
     "text": [
      "['Cube', 'Dodecahedron', 'Icosahedron', 'Octahedron', 'Tetrahedron']\n",
      "[-1, 1, 2, 3, 10, 200, 999]\n"
     ]
    }
   ],
   "source": [
    "list1=['Tetrahedron', 'Cube', 'Octahedron', 'Dodecahedron', 'Icosahedron']\n",
    "list2=[1,200,3,10,2,999,-1]\n",
    "list1.sort()\n",
    "list2.sort()\n",
    "print(list1)\n",
    "print(list2)"
   ]
  },
  {
   "cell_type": "markdown",
   "id": "6bb19e38",
   "metadata": {},
   "source": [
    "#### List comprehensions:"
   ]
  },
  {
   "cell_type": "markdown",
   "id": "d3b59b8e",
   "metadata": {},
   "source": [
    "When programming, frequently we want to transform one type of data into another. As a simple example, consider the following code that computes square numbers:"
   ]
  },
  {
   "cell_type": "code",
   "execution_count": 68,
   "id": "9c87e736",
   "metadata": {},
   "outputs": [
    {
     "name": "stdout",
     "output_type": "stream",
     "text": [
      "[0, 1, 4, 9, 16]\n"
     ]
    }
   ],
   "source": [
    "nums = [0, 1, 2, 3, 4]\n",
    "squares = []\n",
    "for x in nums:\n",
    "    squares.append(x ** 2)\n",
    "print(squares)"
   ]
  },
  {
   "cell_type": "markdown",
   "id": "ae6ad1b9",
   "metadata": {},
   "source": [
    "You can make this code simpler using a list comprehension:"
   ]
  },
  {
   "cell_type": "code",
   "execution_count": 69,
   "id": "2c1d120d",
   "metadata": {},
   "outputs": [
    {
     "name": "stdout",
     "output_type": "stream",
     "text": [
      "[0, 1, 4, 9, 16]\n"
     ]
    }
   ],
   "source": [
    "nums = [0, 1, 2, 3, 4]\n",
    "squares = [x ** 2 for x in nums]\n",
    "print(squares)"
   ]
  },
  {
   "cell_type": "markdown",
   "id": "3ca305e2",
   "metadata": {},
   "source": [
    "List comprehensions can also contain conditions:"
   ]
  },
  {
   "cell_type": "code",
   "execution_count": 70,
   "id": "e4c063b0",
   "metadata": {},
   "outputs": [
    {
     "name": "stdout",
     "output_type": "stream",
     "text": [
      "[0, 4, 16]\n"
     ]
    }
   ],
   "source": [
    "nums = [0, 1, 2, 3, 4]\n",
    "even_squares = [x ** 2 for x in nums if x % 2 == 0]\n",
    "print(even_squares)"
   ]
  },
  {
   "cell_type": "markdown",
   "id": "0d657b59",
   "metadata": {},
   "source": [
    "## Dictionaries"
   ]
  },
  {
   "cell_type": "markdown",
   "id": "b379cba2",
   "metadata": {},
   "source": [
    "A dictionary stores (key, value) pairs, similar to a `Map` in Java or an object in Javascript. You can use it like this:"
   ]
  },
  {
   "cell_type": "code",
   "execution_count": 71,
   "id": "2dd34328",
   "metadata": {},
   "outputs": [
    {
     "name": "stdout",
     "output_type": "stream",
     "text": [
      "6\n",
      "True\n"
     ]
    }
   ],
   "source": [
    "# Create a new dictionary with some data about regular polyhedra\n",
    "rp = {'Tetrahedron': 4, 'Cube': 6, 'Octahedron': 8, 'Dodecahedron': 12, 'Icosahedron': 20}  \n",
    "print(rp['Cube'])              # Get an entry from a dictionary; prints \"cute\"\n",
    "print('Icosahedron' in rp)     # Check if a dictionary has a given key; prints \"True\""
   ]
  },
  {
   "cell_type": "code",
   "execution_count": 72,
   "id": "f32a5162",
   "metadata": {},
   "outputs": [
    {
     "name": "stdout",
     "output_type": "stream",
     "text": [
      "0\n"
     ]
    }
   ],
   "source": [
    "rp['Circle'] = 0         # Set an entry in a dictionary\n",
    "print(rp['Circle'])      # Prints \"0\""
   ]
  },
  {
   "cell_type": "code",
   "execution_count": 73,
   "id": "863bb440",
   "metadata": {},
   "outputs": [
    {
     "data": {
      "text/plain": [
       "False"
      ]
     },
     "execution_count": 73,
     "metadata": {},
     "output_type": "execute_result"
    }
   ],
   "source": [
    "'Heptahedron' in rp"
   ]
  },
  {
   "cell_type": "code",
   "execution_count": 74,
   "id": "300f5f97",
   "metadata": {},
   "outputs": [
    {
     "name": "stdout",
     "output_type": "stream",
     "text": [
      "N/A\n",
      "6\n"
     ]
    }
   ],
   "source": [
    "print(rp.get('Hexahedron', 'N/A'))  # Get an element with a default; prints \"N/A\"\n",
    "print(rp.get('Cube', 'N/A'))        # Get an element with a default; prints 6"
   ]
  },
  {
   "cell_type": "code",
   "execution_count": 75,
   "id": "6dc1d562",
   "metadata": {},
   "outputs": [
    {
     "name": "stdout",
     "output_type": "stream",
     "text": [
      "N/A\n"
     ]
    }
   ],
   "source": [
    "del rp['Circle']        # Remove an element from a dictionary\n",
    "print(rp.get('Circle', 'N/A')) # \"Circle\" is no longer a key; prints \"N/A\""
   ]
  },
  {
   "cell_type": "markdown",
   "id": "17ea742c",
   "metadata": {},
   "source": [
    "You can find all you need to know about dictionaries in the [Python 3.10 documentation for Mapping types](https://docs.python.org/3.10/library/stdtypes.html#mapping-types-dict)."
   ]
  },
  {
   "cell_type": "markdown",
   "id": "930b8ca3",
   "metadata": {},
   "source": [
    "It is easy to iterate over the keys in a dictionary:"
   ]
  },
  {
   "cell_type": "code",
   "execution_count": 76,
   "id": "d9a43c78",
   "metadata": {},
   "outputs": [
    {
     "name": "stdout",
     "output_type": "stream",
     "text": [
      "The tetrahedron has 4 faces\n",
      "The cube has 6 faces\n",
      "The octahedron has 8 faces\n",
      "The dodecahedron has 12 faces\n",
      "The icosahedron has 20 faces\n",
      "Tetrahedron 4\n",
      "Cube 6\n",
      "Octahedron 8\n",
      "Dodecahedron 12\n",
      "Icosahedron 20\n"
     ]
    }
   ],
   "source": [
    "rp = {'Tetrahedron': 4, 'Cube': 6, 'Octahedron': 8, 'Dodecahedron': 12, 'Icosahedron': 20}  \n",
    "for polyhedron in rp:\n",
    "    faces = rp[polyhedron]\n",
    "    print('The %s has %d faces' % (polyhedron.lower(), faces))\n",
    "\n",
    "for n in rp.keys():\n",
    "    print(n,rp[n])"
   ]
  },
  {
   "cell_type": "markdown",
   "id": "e9dfbd5b",
   "metadata": {},
   "source": [
    "If you want access to keys and their corresponding values, use the items() method. This is an iterable, not a list."
   ]
  },
  {
   "cell_type": "code",
   "execution_count": 77,
   "id": "5d71bb14",
   "metadata": {},
   "outputs": [
    {
     "name": "stdout",
     "output_type": "stream",
     "text": [
      "The Tetrahedron has 4 faces\n",
      "The Cube has 6 faces\n",
      "The Octahedron has 8 faces\n",
      "The Dodecahedron has 12 faces\n",
      "The Icosahedron has 20 faces\n"
     ]
    }
   ],
   "source": [
    "rp = {'Tetrahedron': 4, 'Cube': 6, 'Octahedron': 8, 'Dodecahedron': 12, 'Icosahedron': 20}  \n",
    "for polyhedron, faces in rp.items():\n",
    "    print('The %s has %d faces' % (polyhedron, faces))"
   ]
  },
  {
   "cell_type": "markdown",
   "id": "dfe967d9",
   "metadata": {},
   "source": [
    "Dictionary comprehensions: These are similar to list comprehensions, but allow you to easily construct dictionaries. For example:"
   ]
  },
  {
   "cell_type": "code",
   "execution_count": 78,
   "id": "155e58c6",
   "metadata": {},
   "outputs": [
    {
     "name": "stdout",
     "output_type": "stream",
     "text": [
      "{0: 0, 2: 4, 4: 16}\n"
     ]
    }
   ],
   "source": [
    "nums = [0, 1, 2, 3, 4]\n",
    "even_num_to_square = {x: x ** 2 for x in nums if x % 2 == 0}\n",
    "print(even_num_to_square)"
   ]
  },
  {
   "cell_type": "markdown",
   "id": "da3dc2dc",
   "metadata": {},
   "source": [
    "## Sets"
   ]
  },
  {
   "cell_type": "markdown",
   "id": "d73171bb",
   "metadata": {},
   "source": [
    "A set is an unordered collection of distinct elements. As a simple example, consider the following:"
   ]
  },
  {
   "cell_type": "code",
   "execution_count": 79,
   "id": "ea4697e8",
   "metadata": {},
   "outputs": [
    {
     "name": "stdout",
     "output_type": "stream",
     "text": [
      "True\n",
      "False\n"
     ]
    }
   ],
   "source": [
    "polyhedron = {'tetrahedron', 'hexahedron', 'icosahedron'}\n",
    "print('tetrahedron' in polyhedron)   # Check if an element is in a set; prints \"True\"\n",
    "print('sphere' in polyhedron)    # prints \"False\"\n"
   ]
  },
  {
   "cell_type": "code",
   "execution_count": 80,
   "id": "3492c5fa",
   "metadata": {},
   "outputs": [
    {
     "name": "stdout",
     "output_type": "stream",
     "text": [
      "True\n",
      "4\n"
     ]
    }
   ],
   "source": [
    "polyhedron.add('cube')        # Add an element to a set\n",
    "print('cube' in polyhedron)\n",
    "print(len(polyhedron))       # Number of elements in a set;"
   ]
  },
  {
   "cell_type": "code",
   "execution_count": 81,
   "id": "15759af4",
   "metadata": {},
   "outputs": [
    {
     "name": "stdout",
     "output_type": "stream",
     "text": [
      "{'hexahedron', 'tetrahedron', 'icosahedron', 'cube'}\n",
      "{'hexahedron', 'tetrahedron', 'icosahedron'}\n"
     ]
    }
   ],
   "source": [
    "polyhedron.add('hexahedron')   # Adding an element that is already in the set does nothing\n",
    "print(polyhedron)       \n",
    "polyhedron.remove('cube')      # Remove an element from a set\n",
    "print(polyhedron)       "
   ]
  },
  {
   "cell_type": "code",
   "execution_count": 82,
   "id": "6467dafe",
   "metadata": {},
   "outputs": [
    {
     "name": "stdout",
     "output_type": "stream",
     "text": [
      "SetA =  {'first', 'third', 'second'}\n",
      "SetB= {'fourth', 'second'}\n",
      "{'second'}\n",
      "{'fourth', 'second', 'first', 'third'}\n",
      "{'first', 'third'}\n",
      "{'fourth'}\n",
      "{'fourth', 'first', 'third'}\n",
      "frozenset({'a', 'b'})\n"
     ]
    }
   ],
   "source": [
    "setA = set([\"first\", \"second\", \"third\", \"first\"])\n",
    "print(\"SetA = \",setA)\n",
    "setB = set([\"second\", \"fourth\"])\n",
    "print(\"SetB=\",setB)\n",
    "\n",
    "print(setA & setB)                       # Intersection\n",
    "print(setA | setB)                       # Union\n",
    "print(setA - setB)                       # Difference A-B\n",
    "print(setB - setA)                       # Difference B-A\n",
    "print(setA ^ setB)                       # symmetric difference\n",
    "set(['fourth', 'first', 'third'])\n",
    "\n",
    "# Set is not mutable, elements of the frozen set remain the same after creation\n",
    "immutable_set = frozenset([\"a\", \"b\", \"a\"])   \n",
    "print(immutable_set)"
   ]
  },
  {
   "cell_type": "markdown",
   "id": "fd1edca9",
   "metadata": {},
   "source": [
    "### Loops over sets \n",
    "\n",
    "Iterating over a set has the same syntax as iterating over a list; however since sets are unordered, you cannot make assumptions about the order in which you visit the elements of the set:"
   ]
  },
  {
   "cell_type": "code",
   "execution_count": 83,
   "id": "89937fde",
   "metadata": {},
   "outputs": [
    {
     "name": "stdout",
     "output_type": "stream",
     "text": [
      "#1: cat\n",
      "#2: fish\n",
      "#3: dog\n"
     ]
    }
   ],
   "source": [
    "animals = {'cat', 'dog', 'fish'}\n",
    "for idx, animal in enumerate(animals):\n",
    "    print('#%d: %s' % (idx + 1, animal))\n",
    "# Prints \"#1: fish\", \"#2: dog\", \"#3: cat\""
   ]
  },
  {
   "cell_type": "markdown",
   "id": "aab64d90",
   "metadata": {},
   "source": [
    "Set comprehensions: Like lists and dictionaries, we can easily construct sets using set comprehensions:"
   ]
  },
  {
   "cell_type": "code",
   "execution_count": 84,
   "id": "1a3962d6",
   "metadata": {},
   "outputs": [
    {
     "name": "stdout",
     "output_type": "stream",
     "text": [
      "[0, 1, 1, 1, 2, 2, 2, 2, 2, 3, 3, 3, 3, 3, 3, 3, 4, 4, 4, 4, 4, 4, 4, 4, 4, 5, 5, 5, 5, 5]\n",
      "{0, 1, 2, 3, 4, 5}\n"
     ]
    }
   ],
   "source": [
    "from math import sqrt\n",
    "lc=[int(sqrt(x)) for x in range(30)]\n",
    "sc={int(sqrt(x)) for x in range(30)}\n",
    "\n",
    "print(lc)\n",
    "print(sc)"
   ]
  },
  {
   "cell_type": "code",
   "execution_count": 85,
   "id": "27ce3fbf",
   "metadata": {},
   "outputs": [
    {
     "data": {
      "text/plain": [
       "{0, 1, 2, 3, 4, 5}"
      ]
     },
     "execution_count": 85,
     "metadata": {},
     "output_type": "execute_result"
    }
   ],
   "source": [
    "set(lc)"
   ]
  },
  {
   "cell_type": "markdown",
   "id": "9b89fc7e",
   "metadata": {},
   "source": [
    "## Tuples"
   ]
  },
  {
   "cell_type": "markdown",
   "id": "5d17cfb6",
   "metadata": {},
   "source": [
    "A tuple is an (immutable) ordered list of values. A tuple is in many ways similar to a list; one of the most important differences is that tuples can be used as keys in dictionaries and as elements of sets, while lists cannot.\n",
    "\n",
    "Some general observations on tuples are:\n",
    "\n",
    "1) A <code><font color=brown>tuple</font></code> can not be modified after its creation.\n",
    "\n",
    "2) A tuple is defined similarly to a list, only that the set is enclosed with parenthesis, \"()\", instead of \"[]\". \n",
    "\n",
    "3) The elements in the tuple have a predefined order, similar to a list.\n",
    "\n",
    "4) Tuples have the first index as zero, similar to lists, such that <code><font color=brown>t[0]</font></code> always exist.\n",
    "\n",
    "5) Negative indices count from the end, as in lists.\n",
    "\n",
    "6) Slicing works as in lists.\n",
    "\n",
    "7) Extracting sections of a list gives a list, similarly, a section of a tuple, gives a tuple.\n",
    "\n",
    "8) append or sort do not work in tuples. \"in\" can be used to know if an element exists in a tuple.\n",
    "\n",
    "9) Tuples are much faster than lists.\n",
    "\n",
    "10) If you are defining a fixed set of values and the only thing you would do is to run over it, use a tuple instead of a list.\n",
    "\n",
    "11) Tuples can be converted in lists <code><font color=brown>list(tuple)</font></code> and lists in tuples <code><font color=brown>tuple(list)</font></code>\n"
   ]
  },
  {
   "cell_type": "code",
   "execution_count": 86,
   "id": "0e29692f",
   "metadata": {},
   "outputs": [
    {
     "name": "stdout",
     "output_type": "stream",
     "text": [
      "<class 'tuple'>\n",
      "5\n",
      "1\n",
      "{(0, 1): 0, (1, 2): 1, (2, 3): 2, (3, 4): 3, (4, 5): 4, (5, 6): 5, (6, 7): 6, (7, 8): 7, (8, 9): 8, (9, 10): 9}\n",
      "<class 'tuple'>\n",
      "MIN of Tuple= 1\n",
      "['a', 'b', 'c'] ('a', 'b', 'c')\n"
     ]
    }
   ],
   "source": [
    "d = {(x, x + 1): x for x in range(10)}  # Create a dictionary with tuple keys\n",
    "t = (5, 6)       # Create a tuple\n",
    "print(type(t))\n",
    "print(d[t])       \n",
    "print(d[(1, 2)])\n",
    "print(d)\n",
    "e = (1,2,'a','b')\n",
    "print(type(e))\n",
    "#print('MIN of Tuple=',min(e))\n",
    "\n",
    "e = (1,2,3,4)\n",
    "print('MIN of Tuple=',min(e))\n",
    "\n",
    "word = 'abc'\n",
    "L = list(word)\n",
    "lp=list(word)\n",
    "tp=tuple(word)\n",
    "print(lp,tp)"
   ]
  },
  {
   "cell_type": "code",
   "execution_count": 87,
   "id": "a6f73e4e",
   "metadata": {},
   "outputs": [],
   "source": [
    "#TypeError: 'tuple' object does not support item assignment\n",
    "\n",
    "#t[0] = 1  "
   ]
  },
  {
   "cell_type": "markdown",
   "id": "ca07bede",
   "metadata": {},
   "source": [
    "## Conditionals"
   ]
  },
  {
   "cell_type": "markdown",
   "id": "df9f1f63",
   "metadata": {},
   "source": [
    "* Conditionals are expressions that can be true or false. For example\n",
    "\n",
    "    * have the user type the correct word? \n",
    "    * is the number bigger than 100? \n",
    "\n",
    "* The result of the conditions will decide what will happen, for example:\n",
    "\n",
    "    * When the input word is correct, print \"Good\" \n",
    "    * To all numbers larger than 100 subtract 20."
   ]
  },
  {
   "cell_type": "markdown",
   "id": "c3eda456",
   "metadata": {},
   "source": [
    "### Boolean Operators"
   ]
  },
  {
   "cell_type": "code",
   "execution_count": 88,
   "id": "e46483c7",
   "metadata": {},
   "outputs": [
    {
     "name": "stdout",
     "output_type": "stream",
     "text": [
      "False\n",
      "True\n",
      "False\n",
      "True\n",
      "False\n",
      "True\n",
      "True\n"
     ]
    }
   ],
   "source": [
    "x = 125\n",
    "y = 251\n",
    "\n",
    "print(x == y)    # x equal to y\n",
    "print(x != y)    # x is not equal to y\n",
    "print(x >  y)    # x is larger than y\n",
    "print(x <  y)    # x is smaller than y\n",
    "print(x >= y)    # x is larger or equal than y\n",
    "print(x <= y)    # x is smaller or equal than y\n",
    "print(x == 125)  # x is equal to 125"
   ]
  },
  {
   "cell_type": "code",
   "execution_count": 89,
   "id": "2cc85266",
   "metadata": {},
   "outputs": [
    {
     "name": "stdout",
     "output_type": "stream",
     "text": [
      "True\n",
      "True\n",
      "True\n",
      "False\n",
      "False\n"
     ]
    }
   ],
   "source": [
    "passwd = \"nix\"\n",
    "num  = 10\n",
    "num1 = 20\n",
    "letter = \"a\"\n",
    "\n",
    "print(passwd == \"nix\")\n",
    "print(num >= 0)\n",
    "print(letter > \"L\")\n",
    "print(num/2 == (num1-num))\n",
    "print(num %5 != 0)"
   ]
  },
  {
   "cell_type": "code",
   "execution_count": 90,
   "id": "500d1ab7",
   "metadata": {},
   "outputs": [
    {
     "name": "stdout",
     "output_type": "stream",
     "text": [
      "False\n",
      "True\n",
      "True\n"
     ]
    }
   ],
   "source": [
    "s1=\"A\"\n",
    "s2=\"Z\"\n",
    "\n",
    "print(s1>s2)\n",
    "print(s1.isupper())\n",
    "print(s1.lower()>s2)"
   ]
  },
  {
   "cell_type": "markdown",
   "id": "f5a333ee",
   "metadata": {},
   "source": [
    "### Conditional (if...elif...else)"
   ]
  },
  {
   "cell_type": "code",
   "execution_count": 91,
   "id": "de38b4af",
   "metadata": {},
   "outputs": [
    {
     "name": "stdout",
     "output_type": "stream",
     "text": [
      "There is a regular solid with 6 faces and the name is hexahedron\n",
      "Polyhedron exists\n"
     ]
    }
   ],
   "source": [
    "# Example with the instruction if\n",
    "platonic = {4: \"tetrahedron\", \n",
    "            6: \"hexahedron\",\n",
    "            8: \"octahedron\",\n",
    "            12: \"dodecahedron\",\n",
    "            20: \"icosahedron\"}\n",
    "\n",
    "num_faces = 6\n",
    "\n",
    "if num_faces in platonic.keys():\n",
    "    print(f\"There is a regular solid with {num_faces} faces and the name is {platonic[num_faces]}\")  \n",
    "else:\n",
    "    print(f\"Theres is no regular polyhedron with {num_faces} faces\")\n",
    "    \n",
    "#The of the compact form of  if...else\n",
    "\n",
    "evenless = \"Polyhedron exists\" if (num_faces in platonic.keys()) else \"Polyhedron does not exist\"\n",
    "print(evenless)"
   ]
  },
  {
   "cell_type": "code",
   "execution_count": 92,
   "id": "9d46dd9c",
   "metadata": {},
   "outputs": [
    {
     "name": "stdout",
     "output_type": "stream",
     "text": [
      "-10  is negative\n"
     ]
    }
   ],
   "source": [
    "# Example of if...elif...else\n",
    "x=-10\n",
    "    \n",
    "if x<0 :\n",
    "    print(x,\" is negative\")\n",
    "elif x==0 :\n",
    "    print(\"the number is zero\")\n",
    "else:\n",
    "    print(x,\" is positive\")"
   ]
  },
  {
   "cell_type": "code",
   "execution_count": 93,
   "id": "37cb0aed",
   "metadata": {},
   "outputs": [
    {
     "name": "stdout",
     "output_type": "stream",
     "text": [
      "x is negative\n"
     ]
    }
   ],
   "source": [
    "# example of the keyword pass\n",
    "\n",
    "if x<0:\n",
    "   print(\"x is negative\")\n",
    "else:\n",
    "   pass # I will not do anything "
   ]
  },
  {
   "cell_type": "markdown",
   "id": "c2c4eb72",
   "metadata": {},
   "source": [
    "### Loop with conditional (while)"
   ]
  },
  {
   "cell_type": "code",
   "execution_count": 94,
   "id": "93855d24",
   "metadata": {},
   "outputs": [
    {
     "name": "stdout",
     "output_type": "stream",
     "text": [
      "0\n",
      "1\n",
      "2\n",
      "3\n",
      "4\n",
      "5\n",
      "6\n",
      "7\n",
      "8\n",
      "9\n",
      "End\n"
     ]
    }
   ],
   "source": [
    "# Example with while\n",
    "\n",
    "x=0\n",
    "while x < 10:\n",
    "     print(x)\n",
    "     x = x+1\n",
    "print(\"End\")"
   ]
  },
  {
   "cell_type": "code",
   "execution_count": 95,
   "id": "6a65201b",
   "metadata": {},
   "outputs": [
    {
     "name": "stdout",
     "output_type": "stream",
     "text": [
      "1 \t 1\n",
      "2 \t 4\n",
      "3 \t 9\n",
      "4 \t 16\n",
      "5 \t 25\n",
      "6 \t 36\n",
      "7 \t 49\n",
      "8 \t 64\n",
      "9 \t 81\n"
     ]
    }
   ],
   "source": [
    "# A printed table with tabular with while\n",
    "\n",
    "x=1\n",
    "\n",
    "while x < 10:\n",
    "     print(x, \"\\t\", x*x)\n",
    "     x = x+1"
   ]
  },
  {
   "cell_type": "code",
   "execution_count": 96,
   "id": "72f3eeb9",
   "metadata": {},
   "outputs": [
    {
     "name": "stdout",
     "output_type": "stream",
     "text": [
      "program of nothing\n",
      "program of nothing"
     ]
    }
   ],
   "source": [
    "# Comparing while and for in a string\n",
    "word = \"program of nothing\"\n",
    "index=0\n",
    "while index < len(word):\n",
    "    print(word[index], end =\"\") \n",
    "    index +=1\n",
    "print()\n",
    "for letter in word:\n",
    "      print(letter,end=\"\")"
   ]
  },
  {
   "cell_type": "code",
   "execution_count": 97,
   "id": "e76a6d1d",
   "metadata": {},
   "outputs": [
    {
     "name": "stdout",
     "output_type": "stream",
     "text": [
      "red green blue \n",
      "0 red\n",
      "1 green\n",
      "2 blue\n"
     ]
    }
   ],
   "source": [
    "#Using enumerate for lists\n",
    "\n",
    "colors=[\"red\", \"green\", \"blue\"]\n",
    "for c in colors:    \n",
    "    print(c,end=\" \")\n",
    "print() \n",
    "for i, col in enumerate(colors):\n",
    "    print(i,col) "
   ]
  },
  {
   "cell_type": "code",
   "execution_count": 98,
   "id": "b6d0020c",
   "metadata": {},
   "outputs": [
    {
     "name": "stdout",
     "output_type": "stream",
     "text": [
      "Color rojo in Spanish means red in english\n",
      "Color verde in Spanish means green in english\n",
      "Color azul in Spanish means blue in english\n"
     ]
    }
   ],
   "source": [
    "#Running over several lists at the same time\n",
    "\n",
    "colors1 =[\"rojo\",\"verde\", \"azul\"]\n",
    "colors2 =[\"red\", \"green\", \"blue\"]\n",
    "for ce, ci in zip(colors1,colors2):    \n",
    "    print(\"Color\",ce,\"in Spanish means\",ci,\"in english\")"
   ]
  },
  {
   "cell_type": "markdown",
   "id": "94f47541",
   "metadata": {},
   "source": [
    "### List of numbers (range)"
   ]
  },
  {
   "cell_type": "code",
   "execution_count": 99,
   "id": "9c83c9fc",
   "metadata": {},
   "outputs": [
    {
     "name": "stdout",
     "output_type": "stream",
     "text": [
      "[0, 1, 2, 3, 4, 5, 6, 7, 8, 9]\n",
      "[2, 3, 4, 5, 6, 7, 8, 9]\n",
      "[0, 2, 4, 6, 8, 10]\n"
     ]
    }
   ],
   "source": [
    "print(list(range(10)))\n",
    "print(list(range(2,10)))\n",
    "print(list(range(0,11,2)))"
   ]
  },
  {
   "cell_type": "markdown",
   "id": "3c62795a",
   "metadata": {},
   "source": [
    "A simple application of the function <code><font color=\"brown\">range()</font></code> is when we try to calculate\n",
    "finite sums of integers. For example\n",
    "\n",
    "\\begin{equation*}\n",
    "\\boxed{\n",
    "\\sum_{i=1}^n i = \\frac{n(n+1)}2\\ ,\n",
    " \\ \\ \\ \\ \\ \n",
    "\\sum_{i=1}^n  i^2 = \\frac{n(n+1)(2n+1)}6\\ .\n",
    "}\n",
    "\\end{equation*}\n"
   ]
  },
  {
   "cell_type": "code",
   "execution_count": 100,
   "id": "5758db22",
   "metadata": {},
   "outputs": [
    {
     "name": "stdout",
     "output_type": "stream",
     "text": [
      "5050 5050.0\n",
      "338350 338350.0\n"
     ]
    }
   ],
   "source": [
    "n = 100\n",
    "    \n",
    "sum_i=0\n",
    "sum_ii=0\n",
    "for i in range(1,n+1):\n",
    "     sum_i = sum_i + i\n",
    "     sum_ii += i*i\n",
    "print(sum_i, n*(n+1)/2) \n",
    "print(sum_ii, n*(n+1)*(2*n+1)/6)"
   ]
  },
  {
   "cell_type": "markdown",
   "id": "2ea70a52",
   "metadata": {},
   "source": [
    "### Loop modifiers: break and continue"
   ]
  },
  {
   "cell_type": "code",
   "execution_count": 101,
   "id": "7ae55f33",
   "metadata": {},
   "outputs": [
    {
     "name": "stdout",
     "output_type": "stream",
     "text": [
      "1  with square  1\n",
      "2  with square  4\n",
      "3  with square  9\n",
      "4  with square  16\n",
      "5  with square  25\n",
      "6  with square  36\n",
      "7  with square  49\n",
      "8 to the square is  64  > 50\n",
      "STOP\n",
      "-0.2\n",
      "-0.25\n",
      "-0.333\n",
      "-0.5\n",
      "-1.0\n",
      "1.0\n",
      "0.5\n",
      "0.333\n",
      "0.25\n"
     ]
    }
   ],
   "source": [
    "for n in range(1,10):\n",
    "      c=n*n\n",
    "      if c > 50:\n",
    "            print(n, \"to the square is \",c,\" > 50\")\n",
    "            print(\"STOP\")\n",
    "            break\n",
    "      else:\n",
    "            print(n,\" with square \",c)\n",
    "\n",
    "for i in range(-5,5,1):\n",
    "    if i == 0:\n",
    "        continue\n",
    "    else:\n",
    "        print(round(1/i,3))"
   ]
  },
  {
   "cell_type": "markdown",
   "id": "f4f03119",
   "metadata": {},
   "source": [
    "<a id=\"python_syntax_3\"></a>\n",
    "# Python Syntax III: Functions"
   ]
  },
  {
   "cell_type": "markdown",
   "id": "579a3691",
   "metadata": {},
   "source": [
    "A function defines a set of instructions or a piece of a code with an associated name that performs a specific task and it can be re-utilized.\n",
    "\n",
    "It can have an argument(s) or not, it can return values or not.\n",
    "\n",
    "The functions can be given by the language, imported from an external file (module), or created by you"
   ]
  },
  {
   "cell_type": "markdown",
   "id": "2ccb78a6-19af-4fcc-9231-286133a149a7",
   "metadata": {},
   "source": [
    "## Example 3: Julia Sets"
   ]
  },
  {
   "cell_type": "code",
   "execution_count": 102,
   "id": "81581770-a882-414a-be50-d1b12ab34570",
   "metadata": {},
   "outputs": [],
   "source": [
    "\"\"\"\n",
    "Solution from:\n",
    "https://codereview.stackexchange.com/questions/210271/generating-julia-set\n",
    "\"\"\"\n",
    "from functools import partial\n",
    "from numbers import Complex\n",
    "from typing import Callable\n",
    "\n",
    "import matplotlib.pyplot as plt\n",
    "import numpy as np\n",
    "\n",
    "\n",
    "def douady_hubbard_polynomial(z: Complex,\n",
    "                              c: Complex) -> Complex:\n",
    "    \"\"\"\n",
    "    Monic and centered quadratic complex polynomial\n",
    "    https://en.wikipedia.org/wiki/Complex_quadratic_polynomial#Map\n",
    "    \"\"\"\n",
    "    return z ** 2 + c\n",
    "\n",
    "\n",
    "def julia_set(mapping: Callable[[Complex], Complex],\n",
    "              *,\n",
    "              min_coordinate: Complex,\n",
    "              max_coordinate: Complex,\n",
    "              width: int,\n",
    "              height: int,\n",
    "              iterations_count: int = 256,\n",
    "              threshold: float = 2.) -> np.ndarray:\n",
    "    \"\"\"\n",
    "    As described in https://en.wikipedia.org/wiki/Julia_set\n",
    "    :param mapping: function defining Julia set\n",
    "    :param min_coordinate: bottom-left complex plane coordinate\n",
    "    :param max_coordinate: upper-right complex plane coordinate\n",
    "    :param height: pixels in vertical axis\n",
    "    :param width: pixels in horizontal axis\n",
    "    :param iterations_count: number of iterations\n",
    "    :param threshold: if the magnitude of z becomes greater\n",
    "    than the threshold we assume that it will diverge to infinity\n",
    "    :return: 2D pixels array of intensities\n",
    "    \"\"\"\n",
    "    im, re = np.ogrid[min_coordinate.imag: max_coordinate.imag: height * 1j,\n",
    "                      min_coordinate.real: max_coordinate.real: width * 1j]\n",
    "    z = (re + 1j * im).flatten()\n",
    "\n",
    "    live, = np.indices(z.shape)  # indexes of pixels that have not escaped\n",
    "    iterations = np.empty_like(z, dtype=int)\n",
    "\n",
    "    for i in range(iterations_count):\n",
    "        z_live = z[live] = mapping(z[live])\n",
    "        escaped = abs(z_live) > threshold\n",
    "        iterations[live[escaped]] = i\n",
    "        live = live[~escaped]\n",
    "        if live.size == 0:\n",
    "            break\n",
    "    else:\n",
    "        iterations[live] = iterations_count\n",
    "\n",
    "    return iterations.reshape((height, width))"
   ]
  },
  {
   "cell_type": "code",
   "execution_count": 103,
   "id": "53b8dcd5-62e9-4e64-a9a7-27dd0a2df28c",
   "metadata": {},
   "outputs": [
    {
     "data": {
      "image/png": "[encoded data removed]",
      "text/plain": [
       "<Figure size 640x480 with 1 Axes>"
      ]
     },
     "metadata": {},
     "output_type": "display_data"
    }
   ],
   "source": [
    "mapping = partial(douady_hubbard_polynomial,\n",
    "                  c=-0.7 + 0.27015j)  # type: Callable[[Complex], Complex]\n",
    "\n",
    "image = julia_set(mapping,\n",
    "                  min_coordinate=-1.5 - 1j,\n",
    "                  max_coordinate=1.5 + 1j,\n",
    "                  width=800,\n",
    "                  height=600)\n",
    "plt.axis('off')\n",
    "plt.imshow(image,\n",
    "           cmap='nipy_spectral_r',\n",
    "           origin='lower')\n",
    "plt.savefig(\"julia_python.png\")\n",
    "plt.show()"
   ]
  },
  {
   "cell_type": "markdown",
   "id": "524c6917-ac50-4370-af18-7b284d596c32",
   "metadata": {},
   "source": [
    "## Example 4: Mandelbrot Set"
   ]
  },
  {
   "cell_type": "code",
   "execution_count": 104,
   "id": "2b4ed4a2-0184-4d46-aaf1-2decb874d70b",
   "metadata": {},
   "outputs": [
    {
     "data": {
      "image/png": "[encoded data removed]",
      "text/plain": [
       "<Figure size 640x480 with 1 Axes>"
      ]
     },
     "metadata": {},
     "output_type": "display_data"
    }
   ],
   "source": [
    "import matplotlib.pyplot as plt\n",
    "from pylab import arange, zeros, xlabel, ylabel\n",
    "from numpy import NaN\n",
    "\n",
    "def m(a):\n",
    "    z = 0\n",
    "    for n in range(1, 100):\n",
    "        z = z**2 + a\n",
    "        if abs(z) > 2:\n",
    "            return n\n",
    "    return NaN\n",
    "\n",
    "X = arange(-2, .5, .002)\n",
    "Y = arange(-1,  1, .002)\n",
    "Z = zeros((len(Y), len(X)))\n",
    "\n",
    "for iy, y in enumerate(Y):\n",
    "    #print (iy, \"of\", len(Y))\n",
    "    for ix, x in enumerate(X):\n",
    "        Z[iy,ix] = m(x + 1j * y)\n",
    "\n",
    "plt.imshow(Z, cmap = plt.cm.prism_r, interpolation = 'none', extent = (X.min(), X.max(), Y.min(), Y.max()))\n",
    "xlabel(\"Re(c)\")\n",
    "ylabel(\"Im(c)\")\n",
    "plt.axis('off')\n",
    "plt.savefig(\"mandelbrot_python.png\")\n",
    "plt.show()"
   ]
  },
  {
   "cell_type": "markdown",
   "id": "008438b1",
   "metadata": {},
   "source": [
    "<!--\n",
    "## Built-in Functions\n",
    "\n",
    "The Python interpreter has several functions and types built into it that are always available. They are listed here in alphabetical order.\n",
    "-->"
   ]
  },
  {
   "cell_type": "markdown",
   "id": "a2257a81",
   "metadata": {},
   "source": [
    "<!--\n",
    "<table>\n",
    "<colgroup>\n",
    "<col style=\"width: 21%\">\n",
    "<col style=\"width: 18%\">\n",
    "<col style=\"width: 20%\">\n",
    "<col style=\"width: 20%\">\n",
    "<col style=\"width: 22%\">\n",
    "</colgroup>\n",
    "<thead>\n",
    "<tr class=\"row-odd\"><th class=\"head\"></th>\n",
    "<th class=\"head\"></th>\n",
    "<th class=\"head\"><p>Built-in Functions</p></th>\n",
    "<th class=\"head\"></th>\n",
    "<th class=\"head\"></th>\n",
    "</tr>\n",
    "</thead>\n",
    "<tbody>\n",
    "<tr class=\"row-even\"><td><p><a class=\"reference internal\" href=\"https://docs.python.org/3.10/library/functions.html#abs\" title=\"abs\"><code class=\"xref py py-func docutils literal notranslate\"><span class=\"pre\">abs()</span></code></a></p></td>\n",
    "<td><p><a class=\"reference internal\" href=\"https://docs.python.org/3.10/library/functions.html#delattr\" title=\"delattr\"><code class=\"xref py py-func docutils literal notranslate\"><span class=\"pre\">delattr()</span></code></a></p></td>\n",
    "<td><p><a class=\"reference internal\" href=\"https://docs.python.org/3.10/library/functions.html#hash\" title=\"hash\"><code class=\"xref py py-func docutils literal notranslate\"><span class=\"pre\">hash()</span></code></a></p></td>\n",
    "<td><p><a class=\"reference internal\" href=\"https://docs.python.org/3.10/library/functions.html#func-memoryview\"><code class=\"docutils literal notranslate\"><span class=\"pre\">memoryview()</span></code></a></p></td>\n",
    "<td><p><a class=\"reference internal\" href=\"https://docs.python.org/3.10/library/functions.html#func-set\"><code class=\"docutils literal notranslate\"><span class=\"pre\">set()</span></code></a></p></td>\n",
    "</tr>\n",
    "<tr class=\"row-odd\"><td><p><a class=\"reference internal\" href=\"https://docs.python.org/3.10/library/functions.html#all\" title=\"all\"><code class=\"xref py py-func docutils literal notranslate\"><span class=\"pre\">all()</span></code></a></p></td>\n",
    "<td><p><a class=\"reference internal\" href=\"https://docs.python.org/3.10/library/functions.html#func-dict\"><code class=\"docutils literal notranslate\"><span class=\"pre\">dict()</span></code></a></p></td>\n",
    "<td><p><a class=\"reference internal\" href=\"https://docs.python.org/3.10/library/functions.html#help\" title=\"help\"><code class=\"xref py py-func docutils literal notranslate\"><span class=\"pre\">help()</span></code></a></p></td>\n",
    "<td><p><a class=\"reference internal\" href=\"https://docs.python.org/3.10/library/functions.html#min\" title=\"min\"><code class=\"xref py py-func docutils literal notranslate\"><span class=\"pre\">min()</span></code></a></p></td>\n",
    "<td><p><a class=\"reference internal\" href=\"https://docs.python.org/3.10/library/functions.html#setattr\" title=\"setattr\"><code class=\"xref py py-func docutils literal notranslate\"><span class=\"pre\">setattr()</span></code></a></p></td>\n",
    "</tr>\n",
    "<tr class=\"row-even\"><td><p><a class=\"reference internal\" href=\"#any\" title=\"any\"><code class=\"xref py py-func docutils literal notranslate\"><span class=\"pre\">any()</span></code></a></p></td>\n",
    "<td><p><a class=\"reference internal\" href=\"https://docs.python.org/3.10/library/functions.html#dir\" title=\"dir\"><code class=\"xref py py-func docutils literal notranslate\"><span class=\"pre\">dir()</span></code></a></p></td>\n",
    "<td><p><a class=\"reference internal\" href=\"https://docs.python.org/3.10/library/functions.html#hex\" title=\"hex\"><code class=\"xref py py-func docutils literal notranslate\"><span class=\"pre\">hex()</span></code></a></p></td>\n",
    "<td><p><a class=\"reference internal\" href=\"https://docs.python.org/3.10/library/functions.html#next\" title=\"next\"><code class=\"xref py py-func docutils literal notranslate\"><span class=\"pre\">next()</span></code></a></p></td>\n",
    "<td><p><a class=\"reference internal\" href=\"https://docs.python.org/3.10/library/functions.html#slice\" title=\"slice\"><code class=\"xref py py-func docutils literal notranslate\"><span class=\"pre\">slice()</span></code></a></p></td>\n",
    "</tr>\n",
    "<tr class=\"row-odd\"><td><p><a class=\"reference internal\" href=\"#ascii\" title=\"ascii\"><code class=\"xref py py-func docutils literal notranslate\"><span class=\"pre\">ascii()</span></code></a></p></td>\n",
    "<td><p><a class=\"reference internal\" href=\"https://docs.python.org/3.10/library/functions.html#divmod\" title=\"divmod\"><code class=\"xref py py-func docutils literal notranslate\"><span class=\"pre\">divmod()</span></code></a></p></td>\n",
    "<td><p><a class=\"reference internal\" href=\"https://docs.python.org/3.10/library/functions.html#id\" title=\"id\"><code class=\"xref py py-func docutils literal notranslate\"><span class=\"pre\">id()</span></code></a></p></td>\n",
    "<td><p><a class=\"reference internal\" href=\"https://docs.python.org/3.10/library/functions.html#object\" title=\"object\"><code class=\"xref py py-func docutils literal notranslate\"><span class=\"pre\">object()</span></code></a></p></td>\n",
    "<td><p><a class=\"reference internal\" href=\"https://docs.python.org/3.10/library/functions.html#sorted\" title=\"sorted\"><code class=\"xref py py-func docutils literal notranslate\"><span class=\"pre\">sorted()</span></code></a></p></td>\n",
    "</tr>\n",
    "<tr class=\"row-even\"><td><p><a class=\"reference internal\" href=\"#bin\" title=\"bin\"><code class=\"xref py py-func docutils literal notranslate\"><span class=\"pre\">bin()</span></code></a></p></td>\n",
    "<td><p><a class=\"reference internal\" href=\"https://docs.python.org/3.10/library/functions.html#enumerate\" title=\"enumerate\"><code class=\"xref py py-func docutils literal notranslate\"><span class=\"pre\">enumerate()</span></code></a></p></td>\n",
    "<td><p><a class=\"reference internal\" href=\"https://docs.python.org/3.10/library/functions.html#input\" title=\"input\"><code class=\"xref py py-func docutils literal notranslate\"><span class=\"pre\">input()</span></code></a></p></td>\n",
    "<td><p><a class=\"reference internal\" href=\"https://docs.python.org/3.10/library/functions.html#oct\" title=\"oct\"><code class=\"xref py py-func docutils literal notranslate\"><span class=\"pre\">oct()</span></code></a></p></td>\n",
    "<td><p><a class=\"reference internal\" href=\"https://docs.python.org/3.10/library/functions.html#staticmethod\" title=\"staticmethod\"><code class=\"xref py py-func docutils literal notranslate\"><span class=\"pre\">staticmethod()</span></code></a></p></td>\n",
    "</tr>\n",
    "<tr class=\"row-odd\"><td><p><a class=\"reference internal\" href=\"#bool\" title=\"bool\"><code class=\"xref py py-func docutils literal notranslate\"><span class=\"pre\">bool()</span></code></a></p></td>\n",
    "<td><p><a class=\"reference internal\" href=\"https://docs.python.org/3.10/library/functions.html#eval\" title=\"eval\"><code class=\"xref py py-func docutils literal notranslate\"><span class=\"pre\">eval()</span></code></a></p></td>\n",
    "<td><p><a class=\"reference internal\" href=\"https://docs.python.org/3.10/library/functions.html#int\" title=\"int\"><code class=\"xref py py-func docutils literal notranslate\"><span class=\"pre\">int()</span></code></a></p></td>\n",
    "<td><p><a class=\"reference internal\" href=\"https://docs.python.org/3.10/library/functions.html#open\" title=\"open\"><code class=\"xref py py-func docutils literal notranslate\"><span class=\"pre\">open()</span></code></a></p></td>\n",
    "<td><p><a class=\"reference internal\" href=\"https://docs.python.org/3.10/library/functions.html#func-str\"><code class=\"docutils literal notranslate\"><span class=\"pre\">str()</span></code></a></p></td>\n",
    "</tr>\n",
    "<tr class=\"row-even\"><td><p><a class=\"reference internal\" href=\"#breakpoint\" title=\"breakpoint\"><code class=\"xref py py-func docutils literal notranslate\"><span class=\"pre\">breakpoint()</span></code></a></p></td>\n",
    "<td><p><a class=\"reference internal\" href=\"https://docs.python.org/3.10/library/functions.html#exec\" title=\"exec\"><code class=\"xref py py-func docutils literal notranslate\"><span class=\"pre\">exec()</span></code></a></p></td>\n",
    "<td><p><a class=\"reference internal\" href=\"https://docs.python.org/3.10/library/functions.html#isinstance\" title=\"isinstance\"><code class=\"xref py py-func docutils literal notranslate\"><span class=\"pre\">isinstance()</span></code></a></p></td>\n",
    "<td><p><a class=\"reference internal\" href=\"https://docs.python.org/3.10/library/functions.html#ord\" title=\"ord\"><code class=\"xref py py-func docutils literal notranslate\"><span class=\"pre\">ord()</span></code></a></p></td>\n",
    "<td><p><a class=\"reference internal\" href=\"https://docs.python.org/3.10/library/functions.html#sum\" title=\"sum\"><code class=\"xref py py-func docutils literal notranslate\"><span class=\"pre\">sum()</span></code></a></p></td>\n",
    "</tr>\n",
    "<tr class=\"row-odd\"><td><p><a class=\"reference internal\" href=\"#func-bytearray\"><code class=\"docutils literal notranslate\"><span class=\"pre\">bytearray()</span></code></a></p></td>\n",
    "<td><p><a class=\"reference internal\" href=\"https://docs.python.org/3.10/library/functions.html#filter\" title=\"filter\"><code class=\"xref py py-func docutils literal notranslate\"><span class=\"pre\">filter()</span></code></a></p></td>\n",
    "<td><p><a class=\"reference internal\" href=\"https://docs.python.org/3.10/library/functions.html#issubclass\" title=\"issubclass\"><code class=\"xref py py-func docutils literal notranslate\"><span class=\"pre\">issubclass()</span></code></a></p></td>\n",
    "<td><p><a class=\"reference internal\" href=\"https://docs.python.org/3.10/library/functions.html#pow\" title=\"pow\"><code class=\"xref py py-func docutils literal notranslate\"><span class=\"pre\">pow()</span></code></a></p></td>\n",
    "<td><p><a class=\"reference internal\" href=\"https://docs.python.org/3.10/library/functions.html#super\" title=\"super\"><code class=\"xref py py-func docutils literal notranslate\"><span class=\"pre\">super()</span></code></a></p></td>\n",
    "</tr>\n",
    "<tr class=\"row-even\"><td><p><a class=\"reference internal\" href=\"#func-bytes\"><code class=\"docutils literal notranslate\"><span class=\"pre\">bytes()</span></code></a></p></td>\n",
    "<td><p><a class=\"reference internal\" href=\"https://docs.python.org/3.10/library/functions.html#float\" title=\"float\"><code class=\"xref py py-func docutils literal notranslate\"><span class=\"pre\">float()</span></code></a></p></td>\n",
    "<td><p><a class=\"reference internal\" href=\"https://docs.python.org/3.10/library/functions.htmlhttps://docs.python.org/3.10/library/functions.html#iter\" title=\"iter\"><code class=\"xref py py-func docutils literal notranslate\"><span class=\"pre\">iter()</span></code></a></p></td>\n",
    "<td><p><a class=\"reference internal\" href=\"https://docs.python.org/3.10/library/functions.html#print\" title=\"print\"><code class=\"xref py py-func docutils literal notranslate\"><span class=\"pre\">print()</span></code></a></p></td>\n",
    "<td><p><a class=\"reference internal\" href=\"https://docs.python.org/3.10/library/functions.html#func-tuple\"><code class=\"docutils literal notranslate\"><span class=\"pre\">tuple()</span></code></a></p></td>\n",
    "</tr>\n",
    "<tr class=\"row-odd\"><td><p><a class=\"reference internal\" href=\"#callable\" title=\"callable\"><code class=\"xref py py-func docutils literal notranslate\"><span class=\"pre\">callable()</span></code></a></p></td>\n",
    "<td><p><a class=\"reference internal\" href=\"https://docs.python.org/3.10/library/functions.html#format\" title=\"format\"><code class=\"xref py py-func docutils literal notranslate\"><span class=\"pre\">format()</span></code></a></p></td>\n",
    "<td><p><a class=\"reference internal\" href=\"https://docs.python.org/3.10/library/functions.html#len\" title=\"len\"><code class=\"xref py py-func docutils literal notranslate\"><span class=\"pre\">len()</span></code></a></p></td>\n",
    "<td><p><a class=\"reference internal\" href=\"https://docs.python.org/3.10/library/functions.html#property\" title=\"property\"><code class=\"xref py py-func docutils literal notranslate\"><span class=\"pre\">property()</span></code></a></p></td>\n",
    "<td><p><a class=\"reference internal\" href=\"https://docs.python.org/3.10/library/functions.html#type\" title=\"type\"><code class=\"xref py py-func docutils literal notranslate\"><span class=\"pre\">type()</span></code></a></p></td>\n",
    "</tr>\n",
    "<tr class=\"row-even\"><td><p><a class=\"reference internal\" href=\"#chr\" title=\"chr\"><code class=\"xref py py-func docutils literal notranslate\"><span class=\"pre\">chr()</span></code></a></p></td>\n",
    "<td><p><a class=\"reference internal\" href=\"https://docs.python.org/3.10/library/functions.html#func-frozenset\"><code class=\"docutils literal notranslate\"><span class=\"pre\">frozenset()</span></code></a></p></td>\n",
    "<td><p><a class=\"reference internal\" href=\"https://docs.python.org/3.10/library/functions.html#func-list\"><code class=\"docutils literal notranslate\"><span class=\"pre\">list()</span></code></a></p></td>\n",
    "<td><p><a class=\"reference internal\" href=\"https://docs.python.org/3.10/library/functions.html#func-range\"><code class=\"docutils literal notranslate\"><span class=\"pre\">range()</span></code></a></p></td>\n",
    "<td><p><a class=\"reference internal\" href=\"https://docs.python.org/3.10/library/functions.html#vars\" title=\"vars\"><code class=\"xref py py-func docutils literal notranslate\"><span class=\"pre\">vars()</span></code></a></p></td>\n",
    "</tr>\n",
    "<tr class=\"row-odd\"><td><p><a class=\"reference internal\" href=\"#classmethod\" title=\"classmethod\"><code class=\"xref py py-func docutils literal notranslate\"><span class=\"pre\">classmethod()</span></code></a></p></td>\n",
    "<td><p><a class=\"reference internal\" href=\"https://docs.python.org/3.10/library/functions.html#getattr\" title=\"getattr\"><code class=\"xref py py-func docutils literal notranslate\"><span class=\"pre\">getattr()</span></code></a></p></td>\n",
    "<td><p><a class=\"reference internal\" href=\"https://docs.python.org/3.10/library/functions.html#locals\" title=\"locals\"><code class=\"xref py py-func docutils literal notranslate\"><span class=\"pre\">locals()</span></code></a></p></td>\n",
    "<td><p><a class=\"reference internal\" href=\"https://docs.python.org/3.10/library/functions.html#repr\" title=\"repr\"><code class=\"xref py py-func docutils literal notranslate\"><span class=\"pre\">repr()</span></code></a></p></td>\n",
    "<td><p><a class=\"reference internal\" href=\"https://docs.python.org/3.10/library/functions.html#zip\" title=\"zip\"><code class=\"xref py py-func docutils literal notranslate\"><span class=\"pre\">zip()</span></code></a></p></td>\n",
    "</tr>\n",
    "<tr class=\"row-even\"><td><p><a class=\"reference internal\" href=\"#compile\" title=\"compile\"><code class=\"xref py py-func docutils literal notranslate\"><span class=\"pre\">compile()</span></code></a></p></td>\n",
    "<td><p><a class=\"reference internal\" href=\"https://docs.python.org/3.10/library/functions.html#globals\" title=\"globals\"><code class=\"xref py py-func docutils literal notranslate\"><span class=\"pre\">globals()</span></code></a></p></td>\n",
    "<td><p><a class=\"reference internal\" href=\"https://docs.python.org/3.10/library/functions.html#map\" title=\"map\"><code class=\"xref py py-func docutils literal notranslate\"><span class=\"pre\">map()</span></code></a></p></td>\n",
    "<td><p><a class=\"reference internal\" href=\"#reversed\" title=\"reversed\"><code class=\"xref py py-func docutils literal notranslate\"><span class=\"pre\">reversed()</span></code></a></p></td>\n",
    "<td><p><a class=\"reference internal\" href=\"#__import__\" title=\"__import__\"><code class=\"xref py py-func docutils literal notranslate\"><span class=\"pre\">__import__()</span></code></a></p></td>\n",
    "</tr>\n",
    "<tr class=\"row-odd\"><td><p><a class=\"reference internal\" href=\"#complex\" title=\"complex\"><code class=\"xref py py-func docutils literal notranslate\"><span class=\"pre\">complex()</span></code></a></p></td>\n",
    "<td><p><a class=\"reference internal\" href=\"https://docs.python.org/3.10/library/functions.html#hasattr\" title=\"hasattr\"><code class=\"xref py py-func docutils literal notranslate\"><span class=\"pre\">hasattr()</span></code></a></p></td>\n",
    "<td><p><a class=\"reference internal\" href=\"https://docs.python.org/3.10/library/functions.html#max\" title=\"max\"><code class=\"xref py py-func docutils literal notranslate\"><span class=\"pre\">max()</span></code></a></p></td>\n",
    "<td><p><a class=\"reference internal\" href=\"https://docs.python.org/3.10/library/functions.html#round\" title=\"round\"><code class=\"xref py py-func docutils literal notranslate\"><span class=\"pre\">round()</span></code></a></p></td>\n",
    "</tbody>\n",
    "</table>\n",
    "-->"
   ]
  },
  {
   "cell_type": "markdown",
   "id": "0191ea26",
   "metadata": {},
   "source": [
    "### Some Built-in functions\n",
    "\n",
    "To see which functions are available in python, go to the web site [Python 3.10 Documentation for Built-in Functions](https://docs.python.org/3.10/library/functions.html)\n",
    "\n",
    "`float(obj)`: convert a string or a number (integer or long integer) into a float number.\n",
    "\n",
    "`int(obj)`: convert a string or a number (integer or long integer) into an integer.\n",
    "\n",
    "`str(num)`: convert a number into a string.\n",
    "\n",
    "`divmod(x,y)`: return the results from  x/y y x%y.\n",
    "\n",
    "`pow(x,y)`: return x to the power  y.\n",
    "\n",
    "`range(start,stop,step)`: return a list of number from start to stop-1 in steps.\n",
    "\n",
    "`round(x,n)`: return a float value x rounding to n digits after the decimal point. If n is omitted, the value per default is zero.\n",
    "\n",
    "`len(obj)`: return the len of  string, lista, tupla o diccionary. \n",
    "\n",
    "### Modules from Python Standard Library\n",
    "\n",
    "We will see more about these functions on the next notebook\n",
    "We will show here just a few from the math module"
   ]
  },
  {
   "cell_type": "code",
   "execution_count": 105,
   "id": "f4f93786",
   "metadata": {},
   "outputs": [],
   "source": [
    "import math"
   ]
  },
  {
   "cell_type": "code",
   "execution_count": 106,
   "id": "ce894448",
   "metadata": {},
   "outputs": [
    {
     "data": {
      "text/plain": [
       "1.4142135623730951"
      ]
     },
     "execution_count": 106,
     "metadata": {},
     "output_type": "execute_result"
    }
   ],
   "source": [
    "math.sqrt(2)"
   ]
  },
  {
   "cell_type": "code",
   "execution_count": 107,
   "id": "0cb20a7c",
   "metadata": {},
   "outputs": [
    {
     "data": {
      "text/plain": [
       "4.0"
      ]
     },
     "execution_count": 107,
     "metadata": {},
     "output_type": "execute_result"
    }
   ],
   "source": [
    "math.log10(10000)"
   ]
  },
  {
   "cell_type": "code",
   "execution_count": 108,
   "id": "89c98466",
   "metadata": {},
   "outputs": [
    {
     "data": {
      "text/plain": [
       "5.0"
      ]
     },
     "execution_count": 108,
     "metadata": {},
     "output_type": "execute_result"
    }
   ],
   "source": [
    "math.hypot(3,4)"
   ]
  },
  {
   "cell_type": "markdown",
   "id": "1e93aede",
   "metadata": {},
   "source": [
    "Back in the 90's many scientific handheld calculators could not compute factorials beyond $69!$. \n",
    "Let's see in Python:"
   ]
  },
  {
   "cell_type": "code",
   "execution_count": 109,
   "id": "ba7dfe1e",
   "metadata": {},
   "outputs": [
    {
     "data": {
      "text/plain": [
       "11978571669969891796072783721689098736458938142546425857555362864628009582789845319680000000000000000"
      ]
     },
     "execution_count": 109,
     "metadata": {},
     "output_type": "execute_result"
    }
   ],
   "source": [
    "math.factorial(70)"
   ]
  },
  {
   "cell_type": "code",
   "execution_count": 110,
   "id": "96f650c3",
   "metadata": {},
   "outputs": [
    {
     "data": {
      "text/plain": [
       "1.1978571669969892e+100"
      ]
     },
     "execution_count": 110,
     "metadata": {},
     "output_type": "execute_result"
    }
   ],
   "source": [
    "float(math.factorial(70))"
   ]
  },
  {
   "cell_type": "code",
   "execution_count": 111,
   "id": "e7d43202",
   "metadata": {},
   "outputs": [
    {
     "name": "stdout",
     "output_type": "stream",
     "text": [
      "                                  2024\n",
      "\n",
      "      January                   February                   March\n",
      "Mo Tu We Th Fr Sa Su      Mo Tu We Th Fr Sa Su      Mo Tu We Th Fr Sa Su\n",
      " 1  2  3  4  5  6  7                1  2  3  4                   1  2  3\n",
      " 8  9 10 11 12 13 14       5  6  7  8  9 10 11       4  5  6  7  8  9 10\n",
      "15 16 17 18 19 20 21      12 13 14 15 16 17 18      11 12 13 14 15 16 17\n",
      "22 23 24 25 26 27 28      19 20 21 22 23 24 25      18 19 20 21 22 23 24\n",
      "29 30 31                  26 27 28 29               25 26 27 28 29 30 31\n",
      "\n",
      "       April                      May                       June\n",
      "Mo Tu We Th Fr Sa Su      Mo Tu We Th Fr Sa Su      Mo Tu We Th Fr Sa Su\n",
      " 1  2  3  4  5  6  7             1  2  3  4  5                      1  2\n",
      " 8  9 10 11 12 13 14       6  7  8  9 10 11 12       3  4  5  6  7  8  9\n",
      "15 16 17 18 19 20 21      13 14 15 16 17 18 19      10 11 12 13 14 15 16\n",
      "22 23 24 25 26 27 28      20 21 22 23 24 25 26      17 18 19 20 21 22 23\n",
      "29 30                     27 28 29 30 31            24 25 26 27 28 29 30\n",
      "\n",
      "        July                     August                  September\n",
      "Mo Tu We Th Fr Sa Su      Mo Tu We Th Fr Sa Su      Mo Tu We Th Fr Sa Su\n",
      " 1  2  3  4  5  6  7                1  2  3  4                         1\n",
      " 8  9 10 11 12 13 14       5  6  7  8  9 10 11       2  3  4  5  6  7  8\n",
      "15 16 17 18 19 20 21      12 13 14 15 16 17 18       9 10 11 12 13 14 15\n",
      "22 23 24 25 26 27 28      19 20 21 22 23 24 25      16 17 18 19 20 21 22\n",
      "29 30 31                  26 27 28 29 30 31         23 24 25 26 27 28 29\n",
      "                                                    30\n",
      "\n",
      "      October                   November                  December\n",
      "Mo Tu We Th Fr Sa Su      Mo Tu We Th Fr Sa Su      Mo Tu We Th Fr Sa Su\n",
      "    1  2  3  4  5  6                   1  2  3                         1\n",
      " 7  8  9 10 11 12 13       4  5  6  7  8  9 10       2  3  4  5  6  7  8\n",
      "14 15 16 17 18 19 20      11 12 13 14 15 16 17       9 10 11 12 13 14 15\n",
      "21 22 23 24 25 26 27      18 19 20 21 22 23 24      16 17 18 19 20 21 22\n",
      "28 29 30 31               25 26 27 28 29 30         23 24 25 26 27 28 29\n",
      "                                                    30 31\n",
      "     July 2024\n",
      "Mo Tu We Th Fr Sa Su\n",
      " 1  2  3  4  5  6  7\n",
      " 8  9 10 11 12 13 14\n",
      "15 16 17 18 19 20 21\n",
      "22 23 24 25 26 27 28\n",
      "29 30 31\n"
     ]
    }
   ],
   "source": [
    "import calendar\n",
    "\n",
    "calendar.prcal(2024)\n",
    "calendar.prmonth(2024, 7)"
   ]
  },
  {
   "cell_type": "markdown",
   "id": "f494c01a",
   "metadata": {},
   "source": [
    "### Functions from external modules\n",
    "\n",
    "These functions come from modules. The way to do so is by doing\n",
    "\n",
    "    import module_name\n",
    "\n",
    "Once it is imported, we can use the functions contained in this module by using\n",
    "\n",
    "    module_name.existing_funtion(expected_input_variables)\n",
    "\n",
    "some module names can be long or complicated. you can then use\n",
    "\n",
    "    import module_name as mn\n",
    "\n",
    "and then to use it, you say\n",
    "\n",
    "    mn.existing_funtion(expected_input_variables)\n",
    "\n",
    "if you want to import only a few functions from the module, you can say\n",
    "\n",
    "    from stuff import f, g\n",
    "    print f(\"a\"), g(1,2)\n",
    "\n",
    "You can also import all function as\n",
    "\n",
    "    from stuff import *\n",
    "    print f(\"a\"), g(1,2)\n",
    "\n",
    "Combining with the nickname for the module, we can say\n",
    "\n",
    "    from stuff import f as F\n",
    "    from stuff import g as G\n",
    "    print F(\"a\"), G(1,2)"
   ]
  },
  {
   "cell_type": "code",
   "execution_count": 112,
   "id": "d11e565e",
   "metadata": {},
   "outputs": [
    {
     "name": "stdout",
     "output_type": "stream",
     "text": [
      "3.0\n",
      "Enter a positive number\n",
      "1.4142135623730951\n"
     ]
    }
   ],
   "source": [
    "import math\n",
    "\n",
    "def myroot(num):\n",
    "    if num<0:\n",
    "         print(\"Enter a positive number\")\n",
    "         return\n",
    "    print(math.sqrt(num))\n",
    "\n",
    "# main\n",
    "myroot(9)\n",
    "myroot(-8)\n",
    "myroot(2)"
   ]
  },
  {
   "cell_type": "code",
   "execution_count": 113,
   "id": "f1ca8acf",
   "metadata": {},
   "outputs": [
    {
     "name": "stdout",
     "output_type": "stream",
     "text": [
      "11\n"
     ]
    }
   ],
   "source": [
    "def addthem(x,y):\n",
    "   return x+y\n",
    "\n",
    "# main\n",
    "add = addthem(5,6) # Calling the function\n",
    "print(add)"
   ]
  },
  {
   "cell_type": "markdown",
   "id": "afddddfb",
   "metadata": {},
   "source": [
    "We can declare functions with optional parameters. NOTE: The optional parameters NEED to be always at the end"
   ]
  },
  {
   "cell_type": "code",
   "execution_count": 114,
   "id": "78575fa8",
   "metadata": {},
   "outputs": [
    {
     "name": "stdout",
     "output_type": "stream",
     "text": [
      "(11, -1, 30, 0.8333333333333334)\n",
      "12 4 32 2.0\n",
      "17 -1 160 0.4\n"
     ]
    }
   ],
   "source": [
    "def operations(x,y,z=None):\n",
    "    if (z==None):\n",
    "        sum = x+y\n",
    "        rest = x-y\n",
    "        prod= x*y\n",
    "        div = x/y \n",
    "    else:\n",
    "        sum = z+x+y\n",
    "        rest = x-y-z\n",
    "        prod= x*y*z\n",
    "        div = x/y/z \n",
    "    return sum,rest,prod,div\n",
    "\n",
    "# main\n",
    "print(operations(5,6))\n",
    "a,b,c,d = operations(8,4)\n",
    "print(a,b,c,d)\n",
    "a,b,c,d = operations(8,4,5)\n",
    "print(a,b,c,d)"
   ]
  },
  {
   "cell_type": "markdown",
   "id": "18b8e7f7",
   "metadata": {},
   "source": [
    "We can even pass a function to a variable and we can pass this to other function (this is called functional programming)"
   ]
  },
  {
   "cell_type": "code",
   "execution_count": 115,
   "id": "26086225",
   "metadata": {},
   "outputs": [
    {
     "name": "stdout",
     "output_type": "stream",
     "text": [
      "Flag is true\n",
      "(11, -1, 30, 0.8333333333333334)\n"
     ]
    }
   ],
   "source": [
    "def operations(x,y,z=None,flag=False):\n",
    "    if (flag == True):\n",
    "        print(\"Flag is true\")\n",
    "    if (z==None):\n",
    "        sum = x+y\n",
    "        rest = x-y\n",
    "        prod= x*y\n",
    "        div = x/y \n",
    "    else:\n",
    "        sum = z+x+y\n",
    "        rest = x-y-z\n",
    "        prod= x*y*z\n",
    "        div = x/y/z \n",
    "    return sum,rest,prod,div\n",
    "print(operations(5,6,flag=True))"
   ]
  },
  {
   "cell_type": "markdown",
   "id": "78416660",
   "metadata": {},
   "source": [
    "## Example 5: Fibonacci Sequences and Golden Ratio"
   ]
  },
  {
   "cell_type": "markdown",
   "id": "067675ce",
   "metadata": {},
   "source": [
    "At this point, you have seen enough material to start doing some initial scientific computing. Let's start applying all that you have learned up to now.\n",
    "\n",
    "For this introduction to Python language, we will use the Fibonacci Sequence as an excuse to start using the basics of the language. \n",
    "\n",
    "The Fibonacci sequence is a series of numbers generated iteratively like this\n",
    "\n",
    "$F_n=F_{n-1}+F_{n-2}$\n",
    "\n",
    "where we can start with seeds $F_0=0$ and $F_1=1$\n",
    "\n",
    "Starting with those seeds we can compute $F_2$, $F_3$ and so on until an arbitrary large $F_n$\n",
    "\n",
    "The Fibonacci Sequence looks like this:\n",
    "\n",
    "$$0,\\; 1,\\;1,\\;2,\\;3,\\;5,\\;8,\\;13,\\;21,\\;34,\\;55,\\;89,\\;144,\\; \\ldots\\; $$\n",
    "\n",
    "Let's play with this in our first Python program."
   ]
  },
  {
   "cell_type": "markdown",
   "id": "07a2a549",
   "metadata": {},
   "source": [
    "Let's start by defining the first two elements in the Fibonacci series"
   ]
  },
  {
   "cell_type": "code",
   "execution_count": 116,
   "id": "9cf3b3af",
   "metadata": {},
   "outputs": [],
   "source": [
    "a = 0\n",
    "b = 1"
   ]
  },
  {
   "cell_type": "markdown",
   "id": "3a22ad01",
   "metadata": {},
   "source": [
    "We now know that we can get a new variable to store the sum of `a` and `b`"
   ]
  },
  {
   "cell_type": "code",
   "execution_count": 117,
   "id": "4d9447b9",
   "metadata": {},
   "outputs": [],
   "source": [
    "c = a + b"
   ]
  },
  {
   "cell_type": "markdown",
   "id": "cf5ac77b",
   "metadata": {},
   "source": [
    "Remember that the built-in function `range()` generates the immutable sequence of numbers starting from the given start integer to the stop integer. "
   ]
  },
  {
   "cell_type": "code",
   "execution_count": 118,
   "id": "6988a652",
   "metadata": {
    "scrolled": true
   },
   "outputs": [
    {
     "data": {
      "text/plain": [
       "range(0, 10)"
      ]
     },
     "execution_count": 118,
     "metadata": {},
     "output_type": "execute_result"
    }
   ],
   "source": [
    "range(10)"
   ]
  },
  {
   "cell_type": "markdown",
   "id": "86d1ef73",
   "metadata": {},
   "source": [
    "The `range()` function doesn’t generate all numbers at once. It produces numbers one by one as the loop moves to the next number. So it consumes less memory and resources. You can get the list consuming all the values from the sequence."
   ]
  },
  {
   "cell_type": "code",
   "execution_count": 119,
   "id": "966f0338",
   "metadata": {},
   "outputs": [
    {
     "data": {
      "text/plain": [
       "[0, 1, 2, 3, 4, 5, 6, 7, 8, 9]"
      ]
     },
     "execution_count": 119,
     "metadata": {},
     "output_type": "execute_result"
    }
   ],
   "source": [
    "list(range(10))"
   ]
  },
  {
   "cell_type": "markdown",
   "id": "7a5f0d7b",
   "metadata": {},
   "source": [
    "Now we can introduce a `for` using the iterable range(10) loop to see the first 10 elements in the Fibonacci sequence"
   ]
  },
  {
   "cell_type": "code",
   "execution_count": 120,
   "id": "936cdbef",
   "metadata": {},
   "outputs": [
    {
     "name": "stdout",
     "output_type": "stream",
     "text": [
      "0\n",
      "1\n",
      "1\n",
      "2\n",
      "3\n",
      "5\n",
      "8\n",
      "13\n",
      "21\n",
      "34\n",
      "55\n",
      "89\n"
     ]
    }
   ],
   "source": [
    "a = 0\n",
    "b = 1\n",
    "print(a)\n",
    "print(b)\n",
    "for i in range(10):\n",
    "    c = a+b\n",
    "    print(c)\n",
    "    a = b\n",
    "    b = c"
   ]
  },
  {
   "cell_type": "markdown",
   "id": "d17f9928",
   "metadata": {},
   "source": [
    "This is a simple way to iteratively generate the Fibonacci sequence. Now, imagine that we want to store the values of the sequence. \n",
    "Lists are the best containers so far, there are better options with `Numpy` something that we will see later. \n",
    "We can just use the append method for the list and continuously add new numbers to the list.\n"
   ]
  },
  {
   "cell_type": "code",
   "execution_count": 121,
   "id": "a2419720",
   "metadata": {},
   "outputs": [
    {
     "name": "stdout",
     "output_type": "stream",
     "text": [
      "[0, 1, 1, 2, 3, 5, 8, 13, 21, 34, 55, 89]\n"
     ]
    }
   ],
   "source": [
    "fib = [0, 1]\n",
    "for i in range(1,11):\n",
    "    fib.append(fib[i]+fib[i-1])\n",
    "print(fib)"
   ]
  },
  {
   "cell_type": "markdown",
   "id": "f1e1e8c1",
   "metadata": {},
   "source": [
    "The append method works by adding the element at the end of the list. \n",
    "\n",
    "Let's continue with the creation of a Fibonacci function.\n",
    "We can create a Fibonacci function to return the Fibonacci number for an arbitrary iteration, see for example:"
   ]
  },
  {
   "cell_type": "code",
   "execution_count": 122,
   "id": "5f7c44a2",
   "metadata": {},
   "outputs": [],
   "source": [
    "def fibonacci_recursive(n):\n",
    "    if n < 2:\n",
    "        return n\n",
    "    else:\n",
    "        return fibonacci_recursive(n-2) + fibonacci_recursive(n-1)"
   ]
  },
  {
   "cell_type": "code",
   "execution_count": 123,
   "id": "c7038abe",
   "metadata": {},
   "outputs": [
    {
     "data": {
      "text/plain": [
       "8"
      ]
     },
     "execution_count": 123,
     "metadata": {},
     "output_type": "execute_result"
    }
   ],
   "source": [
    "fibonacci_recursive(6)"
   ]
  },
  {
   "cell_type": "markdown",
   "id": "ea39f327",
   "metadata": {},
   "source": [
    "We can recreate the list using this function, see the next code:"
   ]
  },
  {
   "cell_type": "code",
   "execution_count": 124,
   "id": "4ea82b7f",
   "metadata": {},
   "outputs": [
    {
     "name": "stdout",
     "output_type": "stream",
     "text": [
      "[0, 1, 1, 2, 3, 5, 8, 13, 21, 34, 55, 89, 144, 233, 377, 610, 987, 1597, 2584, 4181]\n"
     ]
    }
   ],
   "source": [
    "print([ fibonacci_recursive(n) for n in range (20) ])"
   ]
  },
  {
   "cell_type": "markdown",
   "id": "96e1ee23",
   "metadata": {},
   "source": [
    "We are using a list comprehension. There is another way to obtain the same result using the so-called lambda functions:"
   ]
  },
  {
   "cell_type": "code",
   "execution_count": 125,
   "id": "c666124a",
   "metadata": {},
   "outputs": [
    {
     "name": "stdout",
     "output_type": "stream",
     "text": [
      "[0, 1, 1, 2, 3, 5, 8, 13, 21, 34, 55, 89, 144, 233, 377, 610, 987, 1597, 2584, 4181]\n"
     ]
    }
   ],
   "source": [
    "print(list(map(lambda x: fibonacci_recursive(x), range(20))))"
   ]
  },
  {
   "cell_type": "markdown",
   "id": "a790f891",
   "metadata": {},
   "source": [
    "lambda functions are some sort of anonymous functions. They are indeed very popular in functional programming and Python with its multiparadigm style makes lambda functions commonplace in many situations.\n",
    "\n",
    "Using fibonacci_recursive is very inefficient of generate the Fibonacci sequence even more as n increases. The larger the value of n more calls to fibonacci_recursive is necessary. \n",
    "\n",
    "There is an elegant solution to use the redundant recursion:"
   ]
  },
  {
   "cell_type": "code",
   "execution_count": 126,
   "id": "59384d80",
   "metadata": {},
   "outputs": [],
   "source": [
    "def fibonacci_fastrec(n):\n",
    "    def fib(prvprv, prv, c):\n",
    "        if c < 1: return prvprv\n",
    "        else: return fib(prv, prvprv + prv, c - 1) \n",
    "    return fib(0, 1, n)"
   ]
  },
  {
   "cell_type": "code",
   "execution_count": 127,
   "id": "4239fc65",
   "metadata": {},
   "outputs": [
    {
     "name": "stdout",
     "output_type": "stream",
     "text": [
      "[0, 1, 1, 2, 3, 5, 8, 13, 21, 34, 55, 89, 144, 233, 377, 610, 987, 1597, 2584, 4181]\n"
     ]
    }
   ],
   "source": [
    "print([ fibonacci_fastrec(n) for n in range (20) ])"
   ]
  },
  {
   "cell_type": "markdown",
   "id": "86ba8014",
   "metadata": {},
   "source": [
    "This solution is still recursive but avoids the two-fold recursion from the first function.\n",
    "With IPython we can use the magic `%timeit` to benchmark the difference between both implementations"
   ]
  },
  {
   "cell_type": "code",
   "execution_count": 128,
   "id": "307d53b5",
   "metadata": {},
   "outputs": [
    {
     "name": "stdout",
     "output_type": "stream",
     "text": [
      "25 µs ± 545 ns per loop (mean ± std. dev. of 7 runs, 10,000 loops each)\n"
     ]
    }
   ],
   "source": [
    "%timeit [fibonacci_fastrec(n) for n in range (20)]"
   ]
  },
  {
   "cell_type": "code",
   "execution_count": 129,
   "id": "8dfe719c",
   "metadata": {},
   "outputs": [
    {
     "name": "stdout",
     "output_type": "stream",
     "text": [
      "2.46 ms ± 350 µs per loop (mean ± std. dev. of 7 runs, 100 loops each)\n"
     ]
    }
   ],
   "source": [
    "%timeit [fibonacci_recursive(n) for n in range (20)]"
   ]
  },
  {
   "cell_type": "markdown",
   "id": "ddf4fb83",
   "metadata": {},
   "source": [
    "%timeit is not a Python command. It is a magic command of IPython, however, Python itself provides a more restrictive functionality. This can be provided with the time package:"
   ]
  },
  {
   "cell_type": "code",
   "execution_count": 130,
   "id": "2b168cf9",
   "metadata": {},
   "outputs": [
    {
     "name": "stdout",
     "output_type": "stream",
     "text": [
      "hello\n",
      "0.000179290771484375\n"
     ]
    }
   ],
   "source": [
    "import time\n",
    "\n",
    "start = time.time()\n",
    "print(\"hello\")\n",
    "end = time.time()\n",
    "print(end - start)"
   ]
  },
  {
   "cell_type": "markdown",
   "id": "8f7ca103",
   "metadata": {},
   "source": [
    "Finally, there is also an analytical expression for the Fibonacci sequence, so the entire recursion could be avoided."
   ]
  },
  {
   "cell_type": "code",
   "execution_count": 131,
   "id": "e08f109d",
   "metadata": {},
   "outputs": [],
   "source": [
    "from math import sqrt\n",
    " \n",
    "def analytic_fibonacci(n):\n",
    "    if n == 0:\n",
    "        return 0\n",
    "    else:\n",
    "        sqrt_5 = sqrt(5);\n",
    "        p = (1 + sqrt_5) / 2;\n",
    "        q = 1/p;\n",
    "        return int( (p**n + q**n) / sqrt_5 + 0.5 )\n",
    " "
   ]
  },
  {
   "cell_type": "code",
   "execution_count": 132,
   "id": "29b6bc19",
   "metadata": {},
   "outputs": [
    {
     "name": "stdout",
     "output_type": "stream",
     "text": [
      "[0, 1, 1, 2, 3, 5, 8, 13, 21, 34, 55, 89, 144, 233, 377, 610, 987, 1597, 2584, 4181, 6765, 10946, 17711, 28657, 46368, 75025, 121393, 196418, 317811, 514229, 832040, 1346269, 2178309, 3524578, 5702887, 9227465, 14930352, 24157817, 39088169, 63245986]\n"
     ]
    }
   ],
   "source": [
    "print([ analytic_fibonacci(n) for n in range (40) ])"
   ]
  },
  {
   "cell_type": "code",
   "execution_count": 133,
   "id": "aaeb227f",
   "metadata": {},
   "outputs": [
    {
     "name": "stdout",
     "output_type": "stream",
     "text": [
      "19.9 µs ± 4.61 µs per loop (mean ± std. dev. of 7 runs, 10,000 loops each)\n"
     ]
    }
   ],
   "source": [
    "%timeit [analytic_fibonacci(n) for n in range (40)]"
   ]
  },
  {
   "cell_type": "markdown",
   "id": "7ac3b261",
   "metadata": {},
   "source": [
    "There is an interesting property of the Fibonacci sequence, the ratio between consecutive elements converges to a finite value, the so-called golden number. Let us store this ratio number in a list as the Fibonacci series grow. Here we introduce the function zip() from Python. zip() is used to map the similar index of multiple containers so that they can be used just using as a single entity. As zip is not easy to understand and before we describe the Fibonacci method, let me give you a simple example of using zip"
   ]
  },
  {
   "cell_type": "code",
   "execution_count": 134,
   "id": "c551ae6e",
   "metadata": {},
   "outputs": [
    {
     "name": "stdout",
     "output_type": "stream",
     "text": [
      "The zipped result is : {('am', 1, 233), ('I', 1, 144), ('the Fibonacci', 2, 377), ('Series', 3, 610)}\n",
      "First string : ('am', 'I', 'the Fibonacci', 'Series')\n",
      "Second string : (1, 1, 2, 3)\n",
      "Third string : (233, 144, 377, 610)\n"
     ]
    }
   ],
   "source": [
    "# initializing lists \n",
    "sentence = [ \"I\", \"am\", \"the Fibonacci\", \"Series\" ] \n",
    "first_serie = [ 1, 1, 2, 3 ] \n",
    "second_serie = [ 144, 233, 377, 610 ] \n",
    "  \n",
    "mapped = zip(sentence, first_serie,second_serie) \n",
    "  \n",
    "# converting values to print as set \n",
    "mapped = set(mapped) \n",
    "   \n",
    "print (\"The zipped result is : \",end=\"\") \n",
    "print (mapped) \n",
    "\n",
    "# Unzipping means converting the zipped values back to the individual self as they were. \n",
    "# This is done with the help of “*” operator.\n",
    "\n",
    "s1, s2, s3 = zip(*mapped) \n",
    "\n",
    "print (\"First string : \",end=\"\") \n",
    "print (s1) \n",
    "  \n",
    "print (\"Second string : \",end=\"\") \n",
    "print (s2) \n",
    "  \n",
    "print (\"Third string : \",end=\"\") \n",
    "print (s3) \n"
   ]
  },
  {
   "cell_type": "markdown",
   "id": "7fe8192b",
   "metadata": {},
   "source": [
    "Now let us go back to Fibonacci"
   ]
  },
  {
   "cell_type": "code",
   "execution_count": 135,
   "id": "80ab657c",
   "metadata": {},
   "outputs": [
    {
     "data": {
      "text/plain": [
       "[1.0,\n",
       " 2.0,\n",
       " 1.5,\n",
       " 1.6666666666666667,\n",
       " 1.6,\n",
       " 1.625,\n",
       " 1.6153846153846154,\n",
       " 1.619047619047619,\n",
       " 1.6176470588235294,\n",
       " 1.6181818181818182,\n",
       " 1.6179775280898876,\n",
       " 1.6180555555555556,\n",
       " 1.6180257510729614,\n",
       " 1.6180371352785146,\n",
       " 1.618032786885246,\n",
       " 1.618034447821682,\n",
       " 1.6180338134001253,\n",
       " 1.618034055727554,\n",
       " 1.6180339631667064,\n",
       " 1.6180339985218033,\n",
       " 1.618033985017358,\n",
       " 1.6180339901755971,\n",
       " 1.618033988205325,\n",
       " 1.618033988957902,\n",
       " 1.6180339886704431,\n",
       " 1.6180339887802426,\n",
       " 1.618033988738303,\n",
       " 1.6180339887543225,\n",
       " 1.6180339887482036,\n",
       " 1.6180339887505408,\n",
       " 1.6180339887496482,\n",
       " 1.618033988749989,\n",
       " 1.618033988749859,\n",
       " 1.6180339887499087,\n",
       " 1.6180339887498896,\n",
       " 1.618033988749897,\n",
       " 1.618033988749894,\n",
       " 1.6180339887498951]"
      ]
     },
     "execution_count": 135,
     "metadata": {},
     "output_type": "execute_result"
    }
   ],
   "source": [
    "fib= [fibonacci_fastrec(n) for n in range (40)]\n",
    "X=[ x/y for x,y in zip(fib[2:],fib[1:-1]) ]\n",
    "X"
   ]
  },
  {
   "cell_type": "markdown",
   "id": "22bfb5b3",
   "metadata": {},
   "source": [
    "The asymptotic value of the ratio is called the Golden Ratio, its value is $\\varphi = \\frac{1+\\sqrt{5}}{2} = 1.6180339887\\ldots.$"
   ]
  },
  {
   "cell_type": "code",
   "execution_count": 136,
   "id": "64234243",
   "metadata": {},
   "outputs": [],
   "source": [
    "import math\n",
    "\n",
    "golden=(1+math.sqrt(5))/2"
   ]
  },
  {
   "cell_type": "markdown",
   "id": "3399ed44",
   "metadata": {},
   "source": [
    "We can now plot how each ratio in the Fibonacci sequence is closer and closer to the golden ratio"
   ]
  },
  {
   "cell_type": "code",
   "execution_count": 137,
   "id": "ac684b4e",
   "metadata": {},
   "outputs": [
    {
     "data": {
      "image/png": "[encoded data removed]",
      "text/plain": [
       "<Figure size 640x480 with 1 Axes>"
      ]
     },
     "metadata": {},
     "output_type": "display_data"
    }
   ],
   "source": [
    "import matplotlib.pyplot as plt\n",
    "\n",
    "plt.semilogy([math.fabs(x - golden) for x in X]);"
   ]
  },
  {
   "cell_type": "markdown",
   "id": "59dd31f4",
   "metadata": {},
   "source": [
    "#### Functional Programming"
   ]
  },
  {
   "cell_type": "markdown",
   "id": "704fcf37",
   "metadata": {},
   "source": [
    "Before we discuss object-oriented programming, it will be useful to discuss functional programming. This is the ability in python that a function can be called by another function. \n",
    "\n",
    "The benefit of functional programming is to make your program less error-prone. Functional programming is more predictable and easier to see the outcome. Many scientific libraries adopt a functional programming paradigm. \n",
    "\n",
    "There are several existing cases in python."
   ]
  },
  {
   "cell_type": "code",
   "execution_count": 138,
   "id": "4be717e7",
   "metadata": {},
   "outputs": [
    {
     "name": "stdout",
     "output_type": "stream",
     "text": [
      "<map object at 0x134768940>\n",
      "[0.21311122093839763, 0.2170741493642966, 0.17126341225351882, 0.1432409144754384, 0.533495011631909, 0.3353334605595638, 0.17264778502195832, 0.05034489200529835, 0.15382108353440294, 0.16539693707853764, 0.2635235835952644, 0.41575722775660284, 0.2184712594617243, 0.49724067776527403, 0.5866628711758947, 0.04618283689777436, 0.668676464521305, 0.014314179082592582, 0.22270754384292468, 0.3361024672900832]\n"
     ]
    }
   ],
   "source": [
    "#map() function\n",
    "import numpy as np\n",
    "\n",
    "a=np.random.rand(20)\n",
    "b=np.random.rand(20)\n",
    "\n",
    "#here min is an existing function that compares two arguments, we can even create a function and use it in map\n",
    "lower=map(min,a,b)\n",
    "# this is an example of lazy evaluation, this is now an object, we will see the result only when we ask for the\n",
    "# result.\n",
    "print(lower)\n",
    "#now let us see what is inside\n",
    "print(list(lower))"
   ]
  },
  {
   "cell_type": "code",
   "execution_count": 139,
   "id": "37b4231d",
   "metadata": {},
   "outputs": [
    {
     "name": "stdout",
     "output_type": "stream",
     "text": [
      "6\n",
      "phone 333333\n",
      "email al@gmail.com\n"
     ]
    }
   ],
   "source": [
    "#lambda this is a method to define a function in a single line\n",
    "#in this example we define a function that received three parameters and sums them up.\n",
    "myfunction=lambda a,b,c: a+b+c\n",
    "print(myfunction(1,2,3))\n",
    "\n",
    "#another example\n",
    "a=[\"phone:333333\",\"email:al@gmail.com\"]\n",
    "for a in a:\n",
    "    print((lambda x: x.split(\":\")[0] + ' ' + x.split(\":\")[-1])(a))"
   ]
  },
  {
   "cell_type": "markdown",
   "id": "9a222996",
   "metadata": {},
   "source": [
    "<a id=\"python_syntax_4\"></a>\n",
    "# Python Syntax IV: Object-Oriented Programming"
   ]
  },
  {
   "cell_type": "markdown",
   "id": "b5d38029",
   "metadata": {},
   "source": [
    "Object-oriented programming (OOP) is a programming paradigm based on the concept of **objects**, which can contain data, in the form of fields (often known as **attributes** or **properties**), and code, in the form of procedures (often known as **methods**). A feature of objects is an object's procedure that can access and often modify the data fields of the object with which they are associated (objects have a notion of \"this\" or \" self\"). In OOP, computer programs are designed by making them out of objects that interact with one another. \n",
    "\n",
    ">Object-oriented programming is more than just classes and objects; it's a whole programming paradigm based around [sic] objects (data structures) that contain data fields and methods. It is essential to understand this; using classes to organize a bunch of unrelated methods together is not object orientation.\n",
    ">\n",
    ">   *Junade Ali, Mastering PHP Design Patterns*\n",
    "\n",
    "\n",
    "Class is a central concept in OOP. Classes provide means of bundling data and functionality together. Instances of a class are called objects. Each class instance can have attributes attached to it for maintaining its state. Class instances can also have methods (defined by their class) for modifying their state.\n",
    "\n",
    "\n",
    "\n",
    "\n",
    "The syntax for defining classes in Python is shown with some plain examples. Anything indented in the class is within the scope of the class. Usually, they are named such that the first letter is capitalized. Variables can be defined within the class but you can also initialize some variables by calling, *__init__*, which sets the values for any parameters that need to be defined when an object is first created. You define the methods within the class but to have access to that method, you need to include *self* in the method signature. Now, to use, you just call the class, which then will create all variables within the class. If the class is created with some parameter, it will pass directly the variable that has been instantiated in *init*. "
   ]
  },
  {
   "cell_type": "code",
   "execution_count": 140,
   "id": "97c48565",
   "metadata": {},
   "outputs": [
    {
     "name": "stdout",
     "output_type": "stream",
     "text": [
      "Hello, Fred\n",
      "HELLO, FRED!\n"
     ]
    }
   ],
   "source": [
    "class Greeter:\n",
    "    myvariable='nothing of use'\n",
    "\n",
    "\n",
    "    # Constructor\n",
    "    def __init__(self, name):\n",
    "        self.name = name  # Create an instance variable\n",
    "\n",
    "    # Instance method\n",
    "    def greet(self, loud=False):\n",
    "        if loud:\n",
    "            print('HELLO, %s!' % self.name.upper())\n",
    "        else:\n",
    "            print('Hello, %s' % self.name)\n",
    "\n",
    "g = Greeter('Fred')  # Construct an instance of the Greeter class\n",
    "g.greet()            # Call an instance method; prints \"Hello, Fred\"\n",
    "g.greet(loud=True)   # Call an instance method; prints \"HELLO, FRED!\""
   ]
  },
  {
   "cell_type": "code",
   "execution_count": 141,
   "id": "7767bc76",
   "metadata": {},
   "outputs": [],
   "source": [
    "# Let us start with a very simple class\n",
    "\n",
    "class MyClass:\n",
    "#create objects with instances customized to a specific initial state, here data is defined as an empty vector\n",
    "#The self parameter is a reference to the current instance of the class, \n",
    "#and is used to access variables that belong to the class\n",
    "    def __init__(self):\n",
    "        self.data = []\n",
    "    \"\"\"A simple example class\"\"\"\n",
    "    i = 12345\n",
    "\n",
    "    def f(self):\n",
    "        return 'hello world'\n"
   ]
  },
  {
   "cell_type": "code",
   "execution_count": 142,
   "id": "3ae9699e",
   "metadata": {},
   "outputs": [
    {
     "name": "stdout",
     "output_type": "stream",
     "text": [
      "12345\n",
      "<function MyClass.f at 0x1347f4c20>\n"
     ]
    }
   ],
   "source": [
    "#instantiation the class\n",
    "x=MyClass\n",
    "print(x.i)\n",
    "print(x.f)"
   ]
  },
  {
   "cell_type": "code",
   "execution_count": 143,
   "id": "260f133c",
   "metadata": {},
   "outputs": [
    {
     "name": "stdout",
     "output_type": "stream",
     "text": [
      "John\n",
      "36\n",
      "Hello my name is John\n"
     ]
    }
   ],
   "source": [
    "class Person:\n",
    "  def __init__(self, name, age):\n",
    "    self.name = name\n",
    "    self.age = age\n",
    "\n",
    "  def myfunc(self):\n",
    "    print(\"Hello my name is \" + self.name)\n",
    "\n",
    "p1 = Person(\"John\", 36)\n",
    "\n",
    "\n",
    "print(p1.name)\n",
    "print(p1.age)\n",
    "p1.myfunc()\n",
    "     "
   ]
  },
  {
   "cell_type": "code",
   "execution_count": 144,
   "id": "83049022",
   "metadata": {},
   "outputs": [
    {
     "name": "stdout",
     "output_type": "stream",
     "text": [
      "Rocket altitude: 1\n",
      "Rocket altitude: 0\n",
      "Rocket altitude: 0\n",
      "Rocket altitude: 0\n",
      "Rocket altitude: 0\n"
     ]
    }
   ],
   "source": [
    "class Rocket():\n",
    "    # Rocket simulates a rocket ship for a game,\n",
    "    #  or a physics simulation.\n",
    "    \n",
    "    def __init__(self):\n",
    "        # Each rocket has an (x,y) position.\n",
    "        self.x = 0\n",
    "        self.y = 0\n",
    "        \n",
    "    def move_up(self):\n",
    "        # Increment the y-position of the rocket.\n",
    "        self.y += 1\n",
    "        \n",
    "# Create a fleet of 5 rockets and store them in a list.\n",
    "my_rockets = [Rocket() for x in range(0,5)]\n",
    "\n",
    "# Move the first rocket up.\n",
    "my_rockets[0].move_up()\n",
    "\n",
    "# Show that only the first rocket has moved.\n",
    "for rocket in my_rockets:\n",
    "    print(\"Rocket altitude:\", rocket.y)"
   ]
  },
  {
   "cell_type": "markdown",
   "id": "4ecd62f8",
   "metadata": {},
   "source": [
    "## Example 6: Quaternions"
   ]
  },
  {
   "cell_type": "markdown",
   "id": "f92d8f29",
   "metadata": {},
   "source": [
    "We are used to working with several numeric systems, for example:\n",
    "\n",
    "     Natural numbers:\n",
    "$$\\mathbb{N} \\rightarrow 0, 1, 2, 3, 4, \\cdots \\; \\text{or}\\;  1, 2, 3, 4, \\cdots$$\n",
    "\n",
    "    Integer numbers:\n",
    "$$\\mathbb{Z} \\rightarrow \\cdots, −5, −4, −3, −2, −1, 0, 1, 2, 3, 4, 5, \\cdots$$\n",
    "\n",
    "    Rational numbers:\n",
    "$$\\mathbb{Q} \\rightarrow \\frac{a}{b} \\;\\mathrm{where}\\;  a \\text{and}\\; b  \\in \\mathbb{Z} \\; \\mathrm{and}\\; b \\neq 0$$\n",
    "\n",
    "    Real numbers:\n",
    "$$\\mathbb{R} \\rightarrow \\text{The limit of a convergent sequence of rational numbers. examples:}\\;  \\pi=3.1415..., \\phi=1.61803..., etc$$\n",
    "\n",
    "    Complex numbers:\n",
    "$$\\mathbb{C} \\rightarrow a + b i \\;\\text{or}\\; a +  i b \\;\\text{where}\\; a \\;\\text{and}\\; b \\in \\mathbb{R} \\;\\text{and}\\; i=\\sqrt{−1}$$\n",
    "\n",
    "There are, however other sets of numbers, some of them are called **hypercomplex numbers**. They include the **Quaternions** $\\mathbb{H}$, invented by Sir William Rowan Hamilton, in which multiplication is not _commutative_, and the **Octonions** $\\mathbb{O}$, in which multiplication is _not associative_.\n",
    "\n",
    "\n",
    "The use of these types of numbers is quite broad but maybe the most important use comes from engineering and computer description of moving objects, as they can be used to represent transformations of orientations of graphical objects. They are also used in Quantum Mechanics in the case of Spinors.\n",
    "\n",
    "We will use the Quaternions as an excuse to introduce key concepts in object-oriented programming using Python. Complex numbers can be thought of as tuples of real numbers. Every complex is a real **linear combination** of the _unit complex_:\n",
    "\n",
    "$$\\lbrace e_0, e_1, \\rbrace$$\n",
    "\n",
    "There are rules about how to multiply complex numbers. They can be expressed in the following table:\n",
    "\n",
    "<style type=\"text/css\">\n",
    ".tg  {border-collapse:collapse;border-spacing:0;}\n",
    ".tg td{font-family:Arial, sans-serif;font-size:14px;padding:10px 20px;border-style:solid;border-width:1px;overflow:hidden;word-break:normal;}\n",
    ".tg th{font-family:Arial, sans-serif;font-size:14px;font-weight:normal;padding:10px 20px;border-style:solid;border-width:1px;overflow:hidden;word-break:normal;}\n",
    "</style>\n",
    "<table class=\"tg\">\n",
    "  <tr>\n",
    "    <th class=\"tg-031e\">$\\times$</th>\n",
    "    <th class=\"tg-031e\">$1$</th>\n",
    "    <th class=\"tg-031e\">$i$</th>\n",
    "  </tr>\n",
    "  <tr>\n",
    "    <td class=\"tg-031e\">$1$</td>\n",
    "    <td class=\"tg-031e\">$1$</td>\n",
    "    <td class=\"tg-031e\">$i$</td>\n",
    "  </tr>\n",
    "  <tr>\n",
    "    <td class=\"tg-031e\">$i$</td>\n",
    "    <td class=\"tg-031e\">$i$</td>\n",
    "    <td class=\"tg-031e\">$-1$</td>\n",
    "  </tr>\n",
    "</table>\n",
    "\n",
    "Similarly, Quaternions can be thought of as 4-tuples of real numbers. Each Quaternion is a real **linear combination** of the _unit quaternion set_:\n",
    "\n",
    "$$\\lbrace e_0, e_1, e_2, e_3 \\rbrace$$\n",
    "\n",
    "The rules about how to multiply Quaternions are different from Complex and Reals. They can be expressed in the following table:\n",
    "\n",
    "<style type=\"text/css\">\n",
    ".tg  {border-collapse:collapse;border-spacing:0;}\n",
    ".tg td{font-family:Arial, sans-serif;font-size:14px;padding:10px 20px;border-style:solid;border-width:1px;overflow:hidden;word-break:normal;}\n",
    ".tg th{font-family:Arial, sans-serif;font-size:14px;font-weight:normal;padding:10px 20px;border-style:solid;border-width:1px;overflow:hidden;word-break:normal;}\n",
    "</style>\n",
    "<table class=\"tg\">\n",
    "  <tr>\n",
    "    <th class=\"tg-031e\">$\\times$</th>\n",
    "    <th class=\"tg-031e\">$1$</th>\n",
    "    <th class=\"tg-031e\">$i$</th>\n",
    "    <th class=\"tg-031e\">$j$</th>\n",
    "    <th class=\"tg-031e\">$k$</th>\n",
    "  </tr>\n",
    "  <tr>\n",
    "    <td class=\"tg-031e\">$1$</td>\n",
    "    <td class=\"tg-031e\">$1$</td>\n",
    "    <td class=\"tg-031e\">$i$</td>\n",
    "    <td class=\"tg-031e\">$j$<br></td>\n",
    "    <td class=\"tg-031e\">$k$</td>\n",
    "  </tr>\n",
    "  <tr>\n",
    "    <td class=\"tg-031e\">$i$</td>\n",
    "    <td class=\"tg-031e\">$i$</td>\n",
    "    <td class=\"tg-031e\">$-1$</td>\n",
    "    <td class=\"tg-031e\">$k$</td>\n",
    "    <td class=\"tg-031e\">$-j$</td>\n",
    "  </tr>\n",
    "  <tr>\n",
    "    <td class=\"tg-031e\">$j$</td>\n",
    "    <td class=\"tg-031e\">$j$</td>\n",
    "    <td class=\"tg-031e\">$-k$</td>\n",
    "    <td class=\"tg-031e\">$-1$</td>\n",
    "    <td class=\"tg-031e\">$i$</td>\n",
    "  </tr>\n",
    "  <tr>\n",
    "    <td class=\"tg-031e\">$k$</td>\n",
    "    <td class=\"tg-031e\">$k$</td>\n",
    "    <td class=\"tg-031e\">$j$</td>\n",
    "    <td class=\"tg-031e\">$-i$</td>\n",
    "    <td class=\"tg-031e\">$-1$</td>\n",
    "  </tr>\n",
    "</table>\n",
    "\n",
    "Our objective is to create a Python Class that could deal with Quaternions as simple and direct as possible. A class is a concept from Object-Oriented programming that allows to abstract the idea of an object. An object is something that has properties and can do things. In our case, we will create a _class_ Quaternion. Instances of the class will be specific quaternions. We can do things with quaternions such as _add_ two quaternions and multiply them using the multiplication rule above, we can do pretty much the same kind of things that we can expect from complex numbers but in a rather more elaborated way. Let us create a first our first version of the class Quaternion and we will improve it later on.\n"
   ]
  },
  {
   "cell_type": "code",
   "execution_count": 145,
   "id": "4b3e2dfe",
   "metadata": {},
   "outputs": [],
   "source": [
    "from numbers import Number\n",
    "from math import sqrt\n",
    "\n",
    "class Quaternion():\n",
    "    \n",
    "    def __init__(self,value=None):\n",
    "        if value is None:\n",
    "            self.values = tuple((0,0,0,0))\n",
    "        elif isinstance(value,(int,float)):\n",
    "            self.values = tuple((value, 0, 0, 0))\n",
    "        elif isinstance(value,complex):\n",
    "            self.values = tuple((value.real, value.imag, 0, 0))\n",
    "        elif isinstance(value,(tuple, list)):\n",
    "            self.values = tuple(value)\n",
    "\n",
    "    def __eq__(self,other):\n",
    "        if isinstance(other, Number):\n",
    "            other= self.__class__(other)\n",
    "        return self.values == other.values\n",
    "        \n",
    "    __req__ = __eq__\n",
    "            \n",
    "    \n",
    "    def __str__(self):\n",
    "        sigii = '+' if self.values[1] >= 0 else '-'\n",
    "        sigjj = '+' if self.values[2] >= 0 else '-'\n",
    "        sigkk = '+' if self.values[3] >= 0 else '-'\n",
    "        return \"%.3f %s %.3f i %s %.3f j %s %.3f k\" % ( self.values[0], sigii, abs(self.values[1]), sigjj, abs(self.values[2]), sigkk, abs(self.values[3])) \n",
    "        \n",
    "    def __repr__(self):\n",
    "        return 'Quaternion('+str(self.values)+')'\n",
    "\n",
    "    @property\n",
    "    def scalar_part(self):\n",
    "        return self.values[0]\n",
    "    \n",
    "    @property\n",
    "    def vector_part(self):\n",
    "        return self.values[1:]\n",
    "\n",
    "    @staticmethod\n",
    "    def one():\n",
    "        return Quaternion((1,0,0,0))\n",
    "\n",
    "    @staticmethod\n",
    "    def ii():\n",
    "        return Quaternion((0,1,0,0))\n",
    "    \n",
    "    @staticmethod\n",
    "    def jj():\n",
    "        return Quaternion((0,0,1,0))\n",
    "\n",
    "    @staticmethod\n",
    "    def kk():\n",
    "        return Quaternion((0,0,0,1))\n",
    "    \n",
    "    def __add__(self, other):\n",
    "        if isinstance(other, Number):\n",
    "            other = self.__class__(other)\n",
    "        ret=[0,0,0,0]\n",
    "        for i in range(4):\n",
    "            ret[i]=self.values[i]+other.values[i]\n",
    "        return self.__class__(ret)\n",
    "    \n",
    "    __radd__ = __add__\n",
    "\n",
    "    \n",
    "    def __mul__(self, other):\n",
    "        if isinstance(other, Number):\n",
    "            other = self.__class__(other)\n",
    "        ret = [0,0,0,0]\n",
    "        ret[0] = self.values[0]*other.values[0]-self.values[1]*other.values[1]-self.values[2]*other.values[2]-self.values[3]*other.values[3]\n",
    "        ret[1] = self.values[0]*other.values[1]+self.values[1]*other.values[0]+self.values[2]*other.values[3]-self.values[3]*other.values[2]\n",
    "        ret[2] = self.values[0]*other.values[2]+self.values[2]*other.values[0]+self.values[3]*other.values[1]-self.values[1]*other.values[3]\n",
    "        ret[3] = self.values[0]*other.values[3]+self.values[3]*other.values[0]+self.values[1]*other.values[2]-self.values[2]*other.values[1]\n",
    "        return self.__class__(ret)\n",
    "\n",
    "    def __rmul__(self, other):\n",
    "        if isinstance(other, Number):\n",
    "            other= self.__class__(other)\n",
    "        ret = [0,0,0,0]\n",
    "        ret[0] = self.values[0]*other.values[0]-self.values[1]*other.values[1]-self.values[2]*other.values[2]-self.values[3]*other.values[3]\n",
    "        ret[1] = self.values[0]*other.values[1]+self.values[1]*other.values[0]-self.values[2]*other.values[3]+self.values[3]*other.values[2]\n",
    "        ret[2] = self.values[0]*other.values[2]+self.values[2]*other.values[0]-self.values[3]*other.values[1]+self.values[1]*other.values[3]\n",
    "        ret[3] = self.values[0]*other.values[3]+self.values[3]*other.values[0]-self.values[1]*other.values[2]+self.values[2]*other.values[1]\n",
    "        return self.__class__(ret)\n",
    "\n",
    "    def norm(self):\n",
    "        return sqrt(self.values[0]*self.values[0]+self.values[1]*self.values[1]+self.values[2]*self.values[2]+self.values[3]*self.values[3])\n",
    "    \n",
    "    def conjugate(self):\n",
    "        return Quaternion((self.values[0], -self.values[1], -self.values[2], -self.values[3] ))\n",
    "    \n",
    "    def inverse(self):\n",
    "        return self.conjugate()*(1.0/self.norm()**2)\n",
    "    \n",
    "    def unitary(self):\n",
    "        return self*(1.0/self.norm())"
   ]
  },
  {
   "cell_type": "markdown",
   "id": "feed2d65",
   "metadata": {},
   "source": [
    "Let's explore in detail all the code above. When a new object of the class Quaternion is created the python interpreter calls the `__init__` method. The values could be entered as _tuple_ or _list_, internally the four values of the Quaternion will be stored in a tuple. See now some examples of Quaternions created explicitly:"
   ]
  },
  {
   "cell_type": "code",
   "execution_count": 146,
   "id": "5d003aa6",
   "metadata": {},
   "outputs": [
    {
     "data": {
      "text/plain": [
       "Quaternion((0, 2, 3.7, 9))"
      ]
     },
     "execution_count": 146,
     "metadata": {},
     "output_type": "execute_result"
    }
   ],
   "source": [
    "Quaternion([0,2,3.7,9]) "
   ]
  },
  {
   "cell_type": "code",
   "execution_count": 147,
   "id": "32f35bff",
   "metadata": {},
   "outputs": [
    {
     "data": {
      "text/plain": [
       "Quaternion((2, 5, 0, 8))"
      ]
     },
     "execution_count": 147,
     "metadata": {},
     "output_type": "execute_result"
    }
   ],
   "source": [
    "Quaternion((2,5,0,8))"
   ]
  },
  {
   "cell_type": "code",
   "execution_count": 148,
   "id": "77dffbf5",
   "metadata": {},
   "outputs": [
    {
     "data": {
      "text/plain": [
       "Quaternion((0, 0, 0, 0))"
      ]
     },
     "execution_count": 148,
     "metadata": {},
     "output_type": "execute_result"
    }
   ],
   "source": [
    "Quaternion()"
   ]
  },
  {
   "cell_type": "code",
   "execution_count": 149,
   "id": "bc6a59a1",
   "metadata": {},
   "outputs": [
    {
     "data": {
      "text/plain": [
       "Quaternion((3, 0, 0, 0))"
      ]
     },
     "execution_count": 149,
     "metadata": {},
     "output_type": "execute_result"
    }
   ],
   "source": [
    "Quaternion(3)"
   ]
  },
  {
   "cell_type": "code",
   "execution_count": 150,
   "id": "821ae167",
   "metadata": {},
   "outputs": [
    {
     "data": {
      "text/plain": [
       "Quaternion((3.0, 4.0, 0, 0))"
      ]
     },
     "execution_count": 150,
     "metadata": {},
     "output_type": "execute_result"
    }
   ],
   "source": [
    "Quaternion(3+4j)"
   ]
  },
  {
   "cell_type": "markdown",
   "id": "05a5c916",
   "metadata": {},
   "source": [
    "The text in the output is a representation of the object Quaternion. This representation is obtained by the python interpreter by calling the `__repr__` method.\n",
    "The `__repr__` (also used as `repr()` ) method is intended to create an `eval()`-usable string of the object. You can see that in the next example:"
   ]
  },
  {
   "cell_type": "code",
   "execution_count": 151,
   "id": "d8d495c5",
   "metadata": {},
   "outputs": [
    {
     "data": {
      "text/plain": [
       "'Quaternion((2, 5, 0, 8))'"
      ]
     },
     "execution_count": 151,
     "metadata": {},
     "output_type": "execute_result"
    }
   ],
   "source": [
    "a=Quaternion((2, 5, 0, 8))\n",
    "repr(a)"
   ]
  },
  {
   "cell_type": "code",
   "execution_count": 152,
   "id": "20fe8a2c",
   "metadata": {},
   "outputs": [
    {
     "data": {
      "text/plain": [
       "'Quaternion((2, 5, 0, 8))'"
      ]
     },
     "execution_count": 152,
     "metadata": {},
     "output_type": "execute_result"
    }
   ],
   "source": [
    "b=eval(repr(a))\n",
    "repr(b)"
   ]
  },
  {
   "cell_type": "markdown",
   "id": "8cab4180",
   "metadata": {},
   "source": [
    "We create a new Quaternion _b_ using the representation of Quaternion _a_. We can also test that _a_ and _b_ are equal using the `__eq__` method "
   ]
  },
  {
   "cell_type": "code",
   "execution_count": 153,
   "id": "0ad975f1",
   "metadata": {},
   "outputs": [
    {
     "data": {
      "text/plain": [
       "True"
      ]
     },
     "execution_count": 153,
     "metadata": {},
     "output_type": "execute_result"
    }
   ],
   "source": [
    "a == b"
   ]
  },
  {
   "cell_type": "markdown",
   "id": "ceb9433b",
   "metadata": {},
   "source": [
    "In the case below we are comparing a Quaternion with an Integer, the method `__eq__` will first create a new Quaternion from the Integer and after will test for equality "
   ]
  },
  {
   "cell_type": "code",
   "execution_count": 154,
   "id": "3107cbad",
   "metadata": {},
   "outputs": [
    {
     "data": {
      "text/plain": [
       "True"
      ]
     },
     "execution_count": 154,
     "metadata": {},
     "output_type": "execute_result"
    }
   ],
   "source": [
    "Quaternion((3,0,0,0)) == 3"
   ]
  },
  {
   "cell_type": "markdown",
   "id": "c28309c3",
   "metadata": {},
   "source": [
    "This example is rather different a complex number has no method to compare with Quaternion, so it will try to use the reverse equality `__req__`. \n",
    "As the equality is symmetric for Quaternions the line `__req__ = __eq__` is making the method `__req__` referencing the method `__eq__` with reverse arguments"
   ]
  },
  {
   "cell_type": "code",
   "execution_count": 155,
   "id": "fb7ac159",
   "metadata": {},
   "outputs": [
    {
     "data": {
      "text/plain": [
       "True"
      ]
     },
     "execution_count": 155,
     "metadata": {},
     "output_type": "execute_result"
    }
   ],
   "source": [
    "3+4j == Quaternion((3,4,0,0))"
   ]
  },
  {
   "cell_type": "markdown",
   "id": "30923b62",
   "metadata": {},
   "source": [
    "Similarly as a complex number is composed of **real** and **imaginary** parts, a quaternion is can be decomposed of a **scalar** and **vector** part. We can create methods to return those parts. We add two methods `scalar_part` and `vector_part` to return the corresponding elements of the quaternion. The text `@property` is a decorator, this special decorator makes those methods look like read-only variables when in fact they are slices of the internal variable `self.values`. Notice that when we are calling the properties `scalar_part` and `vector_part` the parenthesis are no longer present "
   ]
  },
  {
   "cell_type": "code",
   "execution_count": 156,
   "id": "35d92750",
   "metadata": {},
   "outputs": [
    {
     "data": {
      "text/plain": [
       "Quaternion((2, 5, 0, 8))"
      ]
     },
     "execution_count": 156,
     "metadata": {},
     "output_type": "execute_result"
    }
   ],
   "source": [
    "b"
   ]
  },
  {
   "cell_type": "code",
   "execution_count": 157,
   "id": "2405116b",
   "metadata": {},
   "outputs": [
    {
     "data": {
      "text/plain": [
       "2"
      ]
     },
     "execution_count": 157,
     "metadata": {},
     "output_type": "execute_result"
    }
   ],
   "source": [
    "b.scalar_part"
   ]
  },
  {
   "cell_type": "code",
   "execution_count": 158,
   "id": "78f42768",
   "metadata": {},
   "outputs": [
    {
     "data": {
      "text/plain": [
       "(5, 0, 8)"
      ]
     },
     "execution_count": 158,
     "metadata": {},
     "output_type": "execute_result"
    }
   ],
   "source": [
    "b.vector_part"
   ]
  },
  {
   "cell_type": "markdown",
   "id": "de863327",
   "metadata": {},
   "source": [
    "The elements of this basis are customarily denoted as _1_, _i_, _j_, and _k_. Every element of $\\mathbb{H}$ can be uniquely written as a linear combination of these basis elements, that is, as a _1_ + b _i_ + c _j_ + d _k_, where a, b, c, and d are real numbers. The basis element _1_ will be the identity element of $\\mathbb{H}$, meaning that multiplication by 1 does nothing, and for this reason, elements of H are usually written a _1_ + b _i_ + c _j_ + d _k_, suppressing the basis element _1_. Let us create the elements of the base using the four `static methods` that we defined above as one, ii, jj, kk. Those methods are very special. First, they are decorated using `@staticmethod` indicating that they are called without an instance. For that reason, the argument `self` does not appear in the list of arguments. See above how they are used here to create our 4 unitary Quaternions"
   ]
  },
  {
   "cell_type": "code",
   "execution_count": 159,
   "id": "5a196540",
   "metadata": {},
   "outputs": [],
   "source": [
    "one=Quaternion().one()\n",
    "iii=Quaternion().ii()\n",
    "jjj=Quaternion().jj()\n",
    "kkk=Quaternion().kk()"
   ]
  },
  {
   "cell_type": "markdown",
   "id": "f39d2f37",
   "metadata": {},
   "source": [
    "There is another interesting method that we will use here. It is the `__str__`. The method `__str_` is similar to `__repr__` in the sense that both produces string representations\n",
    "of the object, but `__str__` is intended to be human readable but `__repr__` should be `eval()-able`"
   ]
  },
  {
   "cell_type": "code",
   "execution_count": 160,
   "id": "e58744f6",
   "metadata": {},
   "outputs": [
    {
     "name": "stdout",
     "output_type": "stream",
     "text": [
      "1.000 + 0.000 i + 0.000 j + 0.000 k\n",
      "0.000 + 1.000 i + 0.000 j + 0.000 k\n",
      "0.000 + 0.000 i + 1.000 j + 0.000 k\n",
      "0.000 + 0.000 i + 0.000 j + 1.000 k\n"
     ]
    }
   ],
   "source": [
    "print(one)\n",
    "print(iii)\n",
    "print(jjj)\n",
    "print(kkk)"
   ]
  },
  {
   "cell_type": "markdown",
   "id": "0a9797c8",
   "metadata": {},
   "source": [
    "The sum of quaternions is very straightforward. We implement the sum of quaternions using the special method `__add__` and `__radd__`. \n",
    "The first one is used in cases where the first argument is a quaternion"
   ]
  },
  {
   "cell_type": "code",
   "execution_count": 161,
   "id": "1156df90",
   "metadata": {},
   "outputs": [
    {
     "name": "stdout",
     "output_type": "stream",
     "text": [
      "0.000 + 1.000 i + 1.000 j + 0.000 k\n"
     ]
    }
   ],
   "source": [
    "print(iii+jjj)"
   ]
  },
  {
   "cell_type": "markdown",
   "id": "37edd5b9",
   "metadata": {},
   "source": [
    "Also for computing sums of quaternions with other numbers using an internal conversion to quaternion. Notice that complex numbers in python use the symbol _j_ instead of _i_. But the `__str__` method is creating a string traditionally, printing I to indicate the imaginary component."
   ]
  },
  {
   "cell_type": "code",
   "execution_count": 162,
   "id": "7c03d407",
   "metadata": {},
   "outputs": [
    {
     "name": "stdout",
     "output_type": "stream",
     "text": [
      "3.000 + 7.000 i + 0.000 j + 1.000 k\n"
     ]
    }
   ],
   "source": [
    "print(kkk+ 3 + 7j)"
   ]
  },
  {
   "cell_type": "markdown",
   "id": "5c295bc2",
   "metadata": {},
   "source": [
    "The reverse operation `__radd__` is used in cases where the direct operation fails. \n",
    "The complex number class has no method to add quaternions, so python will try the reverse operation `__radd__` instead, in this case, quaternions are commutative under addition, so we are making `__radd__` equivalent to `__add__` . Also notice that we can chain the sum of quaternions in a very natural way"
   ]
  },
  {
   "cell_type": "code",
   "execution_count": 163,
   "id": "21ddf915",
   "metadata": {},
   "outputs": [
    {
     "name": "stdout",
     "output_type": "stream",
     "text": [
      "9.000 + 5.000 i + 0.000 j + 1.000 k\n"
     ]
    }
   ],
   "source": [
    "print(9 + 4j + iii + kkk)"
   ]
  },
  {
   "cell_type": "markdown",
   "id": "15c1e110",
   "metadata": {},
   "source": [
    "The multiplication is rather different. Lets for example test the defining property of Quaternions: $i^2=j^2=k^2=ijk=-1$"
   ]
  },
  {
   "cell_type": "code",
   "execution_count": 164,
   "id": "39101e5d",
   "metadata": {},
   "outputs": [
    {
     "name": "stdout",
     "output_type": "stream",
     "text": [
      "-1.000 + 0.000 i + 0.000 j + 0.000 k\n",
      "-1.000 + 0.000 i + 0.000 j + 0.000 k\n",
      "-1.000 + 0.000 i + 0.000 j + 0.000 k\n",
      "-1.000 + 0.000 i + 0.000 j + 0.000 k\n"
     ]
    }
   ],
   "source": [
    "print(iii*iii)\n",
    "print(jjj*jjj)\n",
    "print(kkk*kkk)\n",
    "print(iii*jjj*kkk)"
   ]
  },
  {
   "cell_type": "markdown",
   "id": "0d9d7238",
   "metadata": {},
   "source": [
    "This was possible by using the special method `__mul__`. As the right-side object is a quaternion, it will call the `__mul__` with the left-hand side being the other argument. \n",
    "That is also the case for a quaternion multiplied by any other number:"
   ]
  },
  {
   "cell_type": "code",
   "execution_count": 165,
   "id": "a83ac782",
   "metadata": {},
   "outputs": [
    {
     "name": "stdout",
     "output_type": "stream",
     "text": [
      "8.000 + 7.000 i + 6.000 j + 5.000 k\n"
     ]
    }
   ],
   "source": [
    "a=8 + iii*7 + jjj*6 + kkk*5\n",
    "print(a)"
   ]
  },
  {
   "cell_type": "markdown",
   "id": "26fd7e42",
   "metadata": {},
   "source": [
    "Being able to multiply a number for a quaternion requires the reverse operation and this is not the same as the direct one because quaternions do not commute under multiplication, see for example:"
   ]
  },
  {
   "cell_type": "code",
   "execution_count": 166,
   "id": "d5a2ca9c",
   "metadata": {},
   "outputs": [
    {
     "name": "stdout",
     "output_type": "stream",
     "text": [
      "16.000 + 14.000 i + 12.000 j + 10.000 k\n"
     ]
    }
   ],
   "source": [
    "print(2*a)"
   ]
  },
  {
   "cell_type": "code",
   "execution_count": 167,
   "id": "32a3107f",
   "metadata": {},
   "outputs": [
    {
     "name": "stdout",
     "output_type": "stream",
     "text": [
      "-7.000 + 8.000 i - 5.000 j + 6.000 k\n"
     ]
    }
   ],
   "source": [
    "print(1j*a)"
   ]
  },
  {
   "cell_type": "code",
   "execution_count": 168,
   "id": "913b60b1",
   "metadata": {},
   "outputs": [
    {
     "name": "stdout",
     "output_type": "stream",
     "text": [
      "-7.000 + 8.000 i + 5.000 j - 6.000 k\n"
     ]
    }
   ],
   "source": [
    "print(a*1j)"
   ]
  },
  {
   "cell_type": "markdown",
   "id": "f4256234",
   "metadata": {},
   "source": [
    "There are four more methods to complete a simple but effective Quaternion class implementation. They are the conjugate, the norm, the inverse, and the unitary quaternion (also called versor). They were written at the end of our code. Let's test those simple methods. Let's take b from a previous calculation:"
   ]
  },
  {
   "cell_type": "code",
   "execution_count": 169,
   "id": "8fe50df8",
   "metadata": {},
   "outputs": [
    {
     "name": "stdout",
     "output_type": "stream",
     "text": [
      "16.000 + 14.000 i + 12.000 j + 10.000 k\n"
     ]
    }
   ],
   "source": [
    "b=2*a\n",
    "print(b)"
   ]
  },
  {
   "cell_type": "markdown",
   "id": "bd981eb4",
   "metadata": {},
   "source": [
    "The norm of the quaternion is:"
   ]
  },
  {
   "cell_type": "code",
   "execution_count": 170,
   "id": "02a5c867",
   "metadata": {},
   "outputs": [
    {
     "data": {
      "text/plain": [
       "26.38181191654584"
      ]
     },
     "execution_count": 170,
     "metadata": {},
     "output_type": "execute_result"
    }
   ],
   "source": [
    "b.norm()"
   ]
  },
  {
   "cell_type": "markdown",
   "id": "60ddce9c",
   "metadata": {},
   "source": [
    "The unitary quaternion:"
   ]
  },
  {
   "cell_type": "code",
   "execution_count": 171,
   "id": "673f2b74",
   "metadata": {},
   "outputs": [
    {
     "data": {
      "text/plain": [
       "Quaternion((0.6064784348631227, 0.5306686305052324, 0.454858826147342, 0.37904902178945166))"
      ]
     },
     "execution_count": 171,
     "metadata": {},
     "output_type": "execute_result"
    }
   ],
   "source": [
    "b.unitary()"
   ]
  },
  {
   "cell_type": "code",
   "execution_count": 172,
   "id": "acfc99ad",
   "metadata": {},
   "outputs": [
    {
     "data": {
      "text/plain": [
       "Quaternion((16.0, 14.0, 12.0, 10.0))"
      ]
     },
     "execution_count": 172,
     "metadata": {},
     "output_type": "execute_result"
    }
   ],
   "source": [
    "b.unitary()*b.norm()"
   ]
  },
  {
   "cell_type": "markdown",
   "id": "50939a6e",
   "metadata": {},
   "source": [
    "Now we show that we can decompose a quaternion in its versor scaled by its norm"
   ]
  },
  {
   "cell_type": "code",
   "execution_count": 173,
   "id": "05c98eaf",
   "metadata": {},
   "outputs": [
    {
     "data": {
      "text/plain": [
       "True"
      ]
     },
     "execution_count": 173,
     "metadata": {},
     "output_type": "execute_result"
    }
   ],
   "source": [
    "b == b.norm()*b.unitary()"
   ]
  },
  {
   "cell_type": "markdown",
   "id": "07f02b9c",
   "metadata": {},
   "source": [
    "As quaternions are not commutative, the division express as $\\frac{a}{b}$. Using that expression we cannot make the difference between $a b^{-1}$ or $a^{-1} b$ and those two quaternions are in general not the same. We will see that with an example "
   ]
  },
  {
   "cell_type": "code",
   "execution_count": 174,
   "id": "f2145f7f",
   "metadata": {},
   "outputs": [
    {
     "name": "stdout",
     "output_type": "stream",
     "text": [
      "16.000 + 14.000 i + 12.000 j + 10.000 k\n",
      "1.000 + 2.000 i + 3.000 j + 4.000 k\n"
     ]
    }
   ],
   "source": [
    "c= 1 + 2*iii + 3*jjj + 4*kkk\n",
    "print(b)\n",
    "print(c)"
   ]
  },
  {
   "cell_type": "code",
   "execution_count": 175,
   "id": "0d390bbc",
   "metadata": {},
   "outputs": [
    {
     "name": "stdout",
     "output_type": "stream",
     "text": [
      "0.172 + 0.000 i + 0.103 j + 0.052 k\n"
     ]
    }
   ],
   "source": [
    "print(b.inverse() * c)"
   ]
  },
  {
   "cell_type": "code",
   "execution_count": 176,
   "id": "4566d6be",
   "metadata": {},
   "outputs": [
    {
     "name": "stdout",
     "output_type": "stream",
     "text": [
      "4.000 - 1.200 i + 0.000 j - 2.400 k\n"
     ]
    }
   ],
   "source": [
    "print(b * c.inverse())"
   ]
  },
  {
   "cell_type": "markdown",
   "id": "18f2221b",
   "metadata": {},
   "source": [
    "The inverse works as expected creating a unitary quaternion when multiplied with the original quaternion. At least under the precision of floating point numbers"
   ]
  },
  {
   "cell_type": "code",
   "execution_count": 177,
   "id": "0589bffe",
   "metadata": {},
   "outputs": [
    {
     "data": {
      "text/plain": [
       "0.9999999999999999"
      ]
     },
     "execution_count": 177,
     "metadata": {},
     "output_type": "execute_result"
    }
   ],
   "source": [
    "(b * b.inverse()).norm()"
   ]
  },
  {
   "cell_type": "markdown",
   "id": "23a370db",
   "metadata": {},
   "source": [
    "### Some references about quaternions"
   ]
  },
  {
   "cell_type": "markdown",
   "id": "6f87a22d",
   "metadata": {},
   "source": [
    "Quaternions, Octonions and Sextenions had an interesting evolution even if they remain unknown for many people out of mathematicians and theoretical physicist.\n",
    "You can learn more about the quaternions in the [Wikipedia](https://en.wikipedia.org/wiki/Quaternion Quaternion). Another good source of reference is the [Wolfram's Mathworld](https://mathworld.wolfram.com/Quaternion.html) page. "
   ]
  },
  {
   "cell_type": "markdown",
   "id": "5071272a",
   "metadata": {},
   "source": [
    "### Notes about implementation"
   ]
  },
  {
   "cell_type": "markdown",
   "id": "429253cc",
   "metadata": {},
   "source": [
    "This implementation was done in pure python code, avoiding the use of NumPy on purpose. There are several ways in which the implemented class could be improved by adding more special methods and generalizing others. They are also alternative representations for quaternions, for example using $2 \\times 2$ matrices with complex elements or $4 \\times 4$ matrices on Reals. each of them with its advantages and disadvantages. "
   ]
  },
  {
   "cell_type": "markdown",
   "id": "e71b7bb0",
   "metadata": {},
   "source": [
    "## Decorators, Static methods, Class methods, and Properties (Advanced)\n",
    "\n",
    "A method is a function that is stored as a class attribute. You can declare and access such a function this way:"
   ]
  },
  {
   "cell_type": "code",
   "execution_count": 178,
   "id": "f9f86e34",
   "metadata": {},
   "outputs": [],
   "source": [
    "from math import pi\n",
    "\n",
    "class Sphere(object):\n",
    "\n",
    "    def __init__(self, r):\n",
    "        self.radius = r\n",
    "\n",
    "    def get_area(self):\n",
    "        return 4*pi*self.radius**2\n",
    "\n",
    "    def get_volume(self):\n",
    "        return 4/3*pi*self.radius**3\n",
    "    "
   ]
  },
  {
   "cell_type": "code",
   "execution_count": 179,
   "id": "ab85660f",
   "metadata": {},
   "outputs": [
    {
     "data": {
      "text/plain": [
       "<function __main__.Sphere.get_volume(self)>"
      ]
     },
     "execution_count": 179,
     "metadata": {},
     "output_type": "execute_result"
    }
   ],
   "source": [
    "Sphere.get_volume"
   ]
  },
  {
   "cell_type": "markdown",
   "id": "5d72ca7a",
   "metadata": {},
   "source": [
    "We can't call `get_volume` because it's not bound to any instance of Sphere. And a method wants an instance as its first argument (in Python 3 it could be anything). Let's try to do that then:"
   ]
  },
  {
   "cell_type": "code",
   "execution_count": 180,
   "id": "a63c1409",
   "metadata": {},
   "outputs": [
    {
     "data": {
      "text/plain": [
       "4.1887902047863905"
      ]
     },
     "execution_count": 180,
     "metadata": {},
     "output_type": "execute_result"
    }
   ],
   "source": [
    "Sphere.get_volume(Sphere(1))"
   ]
  },
  {
   "cell_type": "markdown",
   "id": "2bb4f686",
   "metadata": {},
   "source": [
    "It worked! We called the method with an instance as its first argument, so everything's fine. But you will agree with me if I say this is not a very handy way to call methods; we have to refer to the class each time we want to call a method. And if we don't know what class is our object, this is not going to work for very long.\n",
    "\n",
    "So what Python does for us, is that it binds all the methods from the class Sphere to any instance of this class. This means that the attribute get_volume of an instance of Sphere is a bound method: a method for which the first argument will be the instance itself."
   ]
  },
  {
   "cell_type": "code",
   "execution_count": 181,
   "id": "71b275f1",
   "metadata": {},
   "outputs": [
    {
     "data": {
      "text/plain": [
       "<bound method Sphere.get_volume of <__main__.Sphere object at 0x134974e50>>"
      ]
     },
     "execution_count": 181,
     "metadata": {},
     "output_type": "execute_result"
    }
   ],
   "source": [
    "Sphere(2).get_volume"
   ]
  },
  {
   "cell_type": "code",
   "execution_count": 182,
   "id": "23112b59",
   "metadata": {},
   "outputs": [
    {
     "data": {
      "text/plain": [
       "33.510321638291124"
      ]
     },
     "execution_count": 182,
     "metadata": {},
     "output_type": "execute_result"
    }
   ],
   "source": [
    "Sphere(2).get_volume()"
   ]
  },
  {
   "cell_type": "markdown",
   "id": "c28346a2",
   "metadata": {},
   "source": [
    "As expected, we don't have to provide any argument to get_volume, since it's bound, its self argument is automatically set to our Sphere instance. Here's an even better proof of that:"
   ]
  },
  {
   "cell_type": "code",
   "execution_count": 183,
   "id": "1fe613d9",
   "metadata": {},
   "outputs": [
    {
     "data": {
      "text/plain": [
       "33.510321638291124"
      ]
     },
     "execution_count": 183,
     "metadata": {},
     "output_type": "execute_result"
    }
   ],
   "source": [
    "m = Sphere(2).get_volume\n",
    "m()"
   ]
  },
  {
   "cell_type": "markdown",
   "id": "111bfae6",
   "metadata": {},
   "source": [
    "Indeed, you don't even have to keep a reference to your Sphere object. Its method is bound to the object, so the method is sufficient for itself.\n",
    "\n",
    "But what if you wanted to know which object this bound method is bound to? Here's a little trick:"
   ]
  },
  {
   "cell_type": "code",
   "execution_count": 184,
   "id": "292031e8",
   "metadata": {},
   "outputs": [
    {
     "data": {
      "text/plain": [
       "<__main__.Sphere at 0x134977610>"
      ]
     },
     "execution_count": 184,
     "metadata": {},
     "output_type": "execute_result"
    }
   ],
   "source": [
    "m = Sphere(2).get_volume\n",
    "m.__self__"
   ]
  },
  {
   "cell_type": "code",
   "execution_count": 185,
   "id": "baf193ac",
   "metadata": {},
   "outputs": [
    {
     "data": {
      "text/plain": [
       "True"
      ]
     },
     "execution_count": 185,
     "metadata": {},
     "output_type": "execute_result"
    }
   ],
   "source": [
    "# You could guess, look at this:\n",
    "m == m.__self__.get_volume"
   ]
  },
  {
   "cell_type": "markdown",
   "id": "8412ba70",
   "metadata": {},
   "source": [
    "We still have a reference to our object, and we can find it back if we want.\n",
    "\n",
    "In Python 3, the functions attached to a class are not considered as an unbound method anymore, but as simple functions, that are bound to an object if required. So the principle stays the same, the model is just simplified."
   ]
  },
  {
   "cell_type": "code",
   "execution_count": 186,
   "id": "b6c20e09",
   "metadata": {},
   "outputs": [
    {
     "data": {
      "text/plain": [
       "<function __main__.Sphere.get_volume(self)>"
      ]
     },
     "execution_count": 186,
     "metadata": {},
     "output_type": "execute_result"
    }
   ],
   "source": [
    "Sphere.get_volume"
   ]
  },
  {
   "cell_type": "markdown",
   "id": "19d55ba3",
   "metadata": {},
   "source": [
    "### Static methods\n",
    "\n",
    "Static methods are a special case of methods. Sometimes, you'll write code that belongs to a class, but that doesn't use the object itself at all. For example:"
   ]
  },
  {
   "cell_type": "code",
   "execution_count": 187,
   "id": "7964e121",
   "metadata": {},
   "outputs": [],
   "source": [
    "class Sphere(object):\n",
    "\n",
    "    @staticmethod\n",
    "    def double_radius(x):\n",
    "        return 2*x\n",
    "\n",
    "    def enlarge(self):\n",
    "        return self.double_radius(self.radius)"
   ]
  },
  {
   "cell_type": "markdown",
   "id": "d32078d7",
   "metadata": {},
   "source": [
    "In such a case, writing double_radius as a non-static method would work too, but it would provide it with a self argument that would not be used. Here, the decorator @staticmethod buys us several things:\n",
    "\n",
    "  * Python doesn't have to instantiate a bound-method for each Sphere object we instantiate. \n",
    "  * Bound methods are objects too, and creating them has a cost. \n",
    "  \n",
    "Having a static method avoids that:"
   ]
  },
  {
   "cell_type": "code",
   "execution_count": 188,
   "id": "43b41ab0",
   "metadata": {},
   "outputs": [
    {
     "data": {
      "text/plain": [
       "False"
      ]
     },
     "execution_count": 188,
     "metadata": {},
     "output_type": "execute_result"
    }
   ],
   "source": [
    "Sphere().enlarge is Sphere().enlarge"
   ]
  },
  {
   "cell_type": "code",
   "execution_count": 189,
   "id": "6742c65c",
   "metadata": {},
   "outputs": [
    {
     "data": {
      "text/plain": [
       "True"
      ]
     },
     "execution_count": 189,
     "metadata": {},
     "output_type": "execute_result"
    }
   ],
   "source": [
    "Sphere().double_radius is Sphere.double_radius"
   ]
  },
  {
   "cell_type": "code",
   "execution_count": 190,
   "id": "a6479d5f",
   "metadata": {},
   "outputs": [
    {
     "data": {
      "text/plain": [
       "True"
      ]
     },
     "execution_count": 190,
     "metadata": {},
     "output_type": "execute_result"
    }
   ],
   "source": [
    "Sphere().double_radius is Sphere().double_radius"
   ]
  },
  {
   "cell_type": "markdown",
   "id": "09a22a7b",
   "metadata": {},
   "source": [
    "  * It eases the readability of the code: seeing @staticmethod, we know that the method does not depend on the state of the object itself;\n",
    "\n",
    "  * It allows us to override the mix_ingredients method in a subclass. If we used a function mix_ingredients defined at the top-level of our module, a class inheriting from Sphere wouldn't be able to change the way we mix ingredients for our Sphere without overriding cook itself."
   ]
  },
  {
   "cell_type": "markdown",
   "id": "8a5fd39c",
   "metadata": {},
   "source": [
    "### Class methods\n",
    "\n",
    "Class methods are methods that are not bound to an object, but a class"
   ]
  },
  {
   "cell_type": "code",
   "execution_count": 191,
   "id": "689e5047",
   "metadata": {},
   "outputs": [],
   "source": [
    "class Sphere(object):\n",
    "    radius = 2\n",
    "\n",
    "    @classmethod\n",
    "    def get_radius(cls):\n",
    "        return cls.radius"
   ]
  },
  {
   "cell_type": "code",
   "execution_count": 192,
   "id": "f5658428",
   "metadata": {},
   "outputs": [
    {
     "data": {
      "text/plain": [
       "<bound method Sphere.get_radius of <class '__main__.Sphere'>>"
      ]
     },
     "execution_count": 192,
     "metadata": {},
     "output_type": "execute_result"
    }
   ],
   "source": [
    "Sphere.get_radius"
   ]
  },
  {
   "cell_type": "code",
   "execution_count": 193,
   "id": "599f125a",
   "metadata": {},
   "outputs": [
    {
     "data": {
      "text/plain": [
       "<bound method Sphere.get_radius of <class '__main__.Sphere'>>"
      ]
     },
     "execution_count": 193,
     "metadata": {},
     "output_type": "execute_result"
    }
   ],
   "source": [
    "Sphere().get_radius"
   ]
  },
  {
   "cell_type": "code",
   "execution_count": 194,
   "id": "c1b3b702",
   "metadata": {},
   "outputs": [
    {
     "data": {
      "text/plain": [
       "True"
      ]
     },
     "execution_count": 194,
     "metadata": {},
     "output_type": "execute_result"
    }
   ],
   "source": [
    "Sphere.get_radius == Sphere.get_radius"
   ]
  },
  {
   "cell_type": "code",
   "execution_count": 195,
   "id": "b161254f",
   "metadata": {},
   "outputs": [
    {
     "data": {
      "text/plain": [
       "2"
      ]
     },
     "execution_count": 195,
     "metadata": {},
     "output_type": "execute_result"
    }
   ],
   "source": [
    "Sphere.get_radius()"
   ]
  },
  {
   "cell_type": "markdown",
   "id": "e6e115b6",
   "metadata": {},
   "source": [
    "Whatever the way you use to access this method, it will always be bound to the class it is attached to, and its first argument will be the class itself (remember that classes are objects too).\n",
    "\n",
    "Class methods are most useful for two types of methods:\n",
    "\n",
    "  * **Factory methods**, that is used to create an instance for a class using for example some sort of pre-processing. If we use a `@staticmethod` instead, we would have to hardcode the `Sphere` class name in our function, making any class inheriting from `Sphere` unable to use our factory for its use."
   ]
  },
  {
   "cell_type": "code",
   "execution_count": 196,
   "id": "5f19b3a7",
   "metadata": {},
   "outputs": [],
   "source": [
    "class Sphere(object):\n",
    "    def __init__(self, r):\n",
    "        self.radius = r\n",
    "\n",
    "    @classmethod\n",
    "    def scale_radius(cls, x):\n",
    "        return cls(2*x)"
   ]
  },
  {
   "cell_type": "code",
   "execution_count": 197,
   "id": "436b0132",
   "metadata": {},
   "outputs": [
    {
     "data": {
      "text/plain": [
       "4"
      ]
     },
     "execution_count": 197,
     "metadata": {},
     "output_type": "execute_result"
    }
   ],
   "source": [
    "s=Sphere.scale_radius(2)\n",
    "s.radius"
   ]
  },
  {
   "cell_type": "markdown",
   "id": "f050d8dc",
   "metadata": {},
   "source": [
    "  * **Static methods** calling static methods: if you split a static method into several static methods, you shouldn't hard-code the class name but use class methods. Using this way to declare our method, the `Sphere` name is never directly referenced and inheritance and method overriding will work flawlessly"
   ]
  },
  {
   "cell_type": "code",
   "execution_count": 198,
   "id": "c26fef9e",
   "metadata": {},
   "outputs": [],
   "source": [
    "from math import pi\n",
    "\n",
    "class Sphere(object):\n",
    "    \n",
    "    def __init__(self, radius, height):\n",
    "        self.radius = radius\n",
    "        self.height = height\n",
    "\n",
    "    def get_area(self):\n",
    "        return compute_area(self.radius)\n",
    "\n",
    "    def get_volume(self):\n",
    "        return compute_area(self.radius)\n",
    "    \n",
    "    @staticmethod\n",
    "    def compute_area(radius):\n",
    "         return 4*pi*radius**2\n",
    "\n",
    "    @staticmethod\n",
    "    def compute_volume(radius):\n",
    "         return 4/3*pi*radius**3\n",
    "\n",
    "    @classmethod\n",
    "    def ratio(cls, radius):\n",
    "        return cls.compute_area(radius)/cls.compute_volume(radius)\n",
    "    "
   ]
  },
  {
   "cell_type": "code",
   "execution_count": 199,
   "id": "a64d7b1e",
   "metadata": {},
   "outputs": [
    {
     "data": {
      "text/plain": [
       "0.3"
      ]
     },
     "execution_count": 199,
     "metadata": {},
     "output_type": "execute_result"
    }
   ],
   "source": [
    "Sphere.ratio(10)"
   ]
  },
  {
   "cell_type": "markdown",
   "id": "4d2ba8b0",
   "metadata": {},
   "source": [
    "### Abstract methods\n",
    "\n",
    "An abstract method is a method defined in a base class, but that may not provide any implementation. In Java, it would describe the methods of an interface.\n",
    "\n",
    "So the simplest way to write an abstract method in Python is:"
   ]
  },
  {
   "cell_type": "code",
   "execution_count": 200,
   "id": "8a078aa7",
   "metadata": {},
   "outputs": [],
   "source": [
    "class Sphere(object):\n",
    "    def get_radius(self):\n",
    "        raise NotImplementedError"
   ]
  },
  {
   "cell_type": "markdown",
   "id": "bc558fa0",
   "metadata": {},
   "source": [
    "Any class inheriting from Sphere should implement and override the `get_radius` method, otherwise an exception would be raised.\n",
    "\n",
    "This particular way of implementing abstract method has a drawback. If you write a class that inherits from Sphere and forgets to implement get_radius, the error will only be raised when you'll try to use that method."
   ]
  },
  {
   "cell_type": "raw",
   "id": "6dc4634b",
   "metadata": {},
   "source": [
    "Sphere()\n",
    "<__main__.Sphere object at 0x7fb747353d90>\n",
    "\n",
    "Sphere().get_radius()\n",
    "Traceback (most recent call last):\n",
    "  File \"<stdin>\", line 1, in <module>\n",
    "  File \"<stdin>\", line 3, in get_radius\n",
    "NotImplementedError"
   ]
  },
  {
   "cell_type": "markdown",
   "id": "43a4a4e0",
   "metadata": {},
   "source": [
    "There's a way to trigger this way earlier, when the object is being instantiated, using the abc module that's provided with Python."
   ]
  },
  {
   "cell_type": "code",
   "execution_count": 201,
   "id": "97af7c95",
   "metadata": {},
   "outputs": [],
   "source": [
    "from abc import ABC, abstractmethod\n",
    "\n",
    "class SurfaceRevolution(ABC):\n",
    "\n",
    "    def __init__(self,r):\n",
    "        self.radius = r\n",
    "    \n",
    "    @abstractmethod\n",
    "    def get_radius(self):\n",
    "         \"\"\"Method that should do something.\"\"\""
   ]
  },
  {
   "cell_type": "markdown",
   "id": "d99b1c75",
   "metadata": {},
   "source": [
    "Using abc and its special class, as soon as you'll try to instantiate SurfaceRevolution or any class inheriting from it, you'll get a TypeError."
   ]
  },
  {
   "cell_type": "code",
   "execution_count": 202,
   "id": "bda19066-13ec-4d54-86f2-1898c34303d8",
   "metadata": {},
   "outputs": [],
   "source": [
    "##\n",
    "## SurfaceRevolution(4)\n",
    "## ---------------------------------------------------------------------------\n",
    "## TypeError                                 Traceback (most recent call last)\n",
    "## <ipython-input-269-02ffabd7c877> in <module>\n",
    "## ----> 1 SurfaceRevolution(4)\n",
    "## \n",
    "## TypeError: Can't instantiate abstract class SurfaceRevolution with abstract methods get_radius"
   ]
  },
  {
   "cell_type": "markdown",
   "id": "2d700856",
   "metadata": {},
   "source": [
    "### Mixing static, class and abstract methods\n",
    "\n",
    "When building classes and inheritances, the time will come where you will have to mix all these methods decorators. So here are some tips about it.\n",
    "\n",
    "Keep in mind that declaring a method as being abstract, doesn't freeze the prototype of that method. That means that it must be implemented, but it can be implemented with any argument list."
   ]
  },
  {
   "cell_type": "code",
   "execution_count": 203,
   "id": "b1952bfb",
   "metadata": {},
   "outputs": [],
   "source": [
    "import abc\n",
    "\n",
    "class SurfaceRevolution(object):\n",
    "    __metaclass__  = abc.ABCMeta\n",
    "\n",
    "    @abc.abstractmethod\n",
    "    def get_radius(self):\n",
    "         \"\"\"Returns the radius list.\"\"\"\n",
    "\n",
    "class Spheroid(SurfaceRevolution):\n",
    "    def get_radius(self, scaled=False):\n",
    "        center = 2 if scaled else 1\n",
    "        return scaled * self.radius"
   ]
  },
  {
   "cell_type": "markdown",
   "id": "5b033b0b",
   "metadata": {},
   "source": [
    "This is valid since `Spheroid` fulfills the interface requirement we defined for `SurfaceRevolution` objects. That means that we could also implement it as a class or a static method, for example:"
   ]
  },
  {
   "cell_type": "code",
   "execution_count": 204,
   "id": "5ffa1cd7",
   "metadata": {},
   "outputs": [],
   "source": [
    "from abc import ABC, abstractmethod\n",
    "\n",
    "class SurfaceRevolution(ABC):\n",
    "\n",
    "    @abstractmethod\n",
    "    def get_center(self):\n",
    "         \"\"\"Returns the center.\"\"\"\n",
    "\n",
    "class CenteredSphere(SurfaceRevolution):\n",
    "    @staticmethod\n",
    "    def get_center():\n",
    "        return (0,0,0)"
   ]
  },
  {
   "cell_type": "code",
   "execution_count": 205,
   "id": "33c5d5d5",
   "metadata": {},
   "outputs": [
    {
     "data": {
      "text/plain": [
       "(0, 0, 0)"
      ]
     },
     "execution_count": 205,
     "metadata": {},
     "output_type": "execute_result"
    }
   ],
   "source": [
    "CenteredSphere.get_center()"
   ]
  },
  {
   "cell_type": "markdown",
   "id": "cf3ae239",
   "metadata": {},
   "source": [
    "This is also correct and fulfills the contract we have with our abstract `SurfaceRevolution` class. The fact that the `get_center` method doesn't need to know about the object to return the result is an implementation detail, not a criterion to have our contract fulfilled.\n",
    "\n",
    "Therefore, you can't force implementation of your abstract method to be a regular, class, or static method, and arguably you shouldn't. Starting with Python 3, it's now possible to use the `@staticmethod` and `@classmethod` decorators on top of `@abstractmethod`:"
   ]
  },
  {
   "cell_type": "code",
   "execution_count": 206,
   "id": "f8a547bf",
   "metadata": {},
   "outputs": [],
   "source": [
    "from abc import ABC, abstractmethod\n",
    "\n",
    "class SurfaceRevolution(ABC):\n",
    "\n",
    "    centered = True\n",
    "\n",
    "    @classmethod\n",
    "    @abstractmethod\n",
    "    def is_centered(cls):\n",
    "         \"\"\"Returns the ingredient list.\"\"\"\n",
    "         return cls.centered"
   ]
  },
  {
   "cell_type": "markdown",
   "id": "6714f68a",
   "metadata": {},
   "source": [
    "Don't misread this: if you think this is going to force your subclasses to implement `is_centered` as a class method, you are wrong. This simply implies that your implementation of `is_centered` in the `SurfaceRevolution` class is a class method.\n",
    "\n",
    "An implementation in an abstract method? Yes! In Python, contrary to methods in Java interfaces, you can have code in your abstract methods and call it via super():"
   ]
  },
  {
   "cell_type": "code",
   "execution_count": 207,
   "id": "c0ade8c3",
   "metadata": {},
   "outputs": [],
   "source": [
    "from abc import ABC, abstractmethod\n",
    "\n",
    "class SurfaceRevolution(ABC):\n",
    "\n",
    "    center = (0,0,0)\n",
    "\n",
    "    @classmethod\n",
    "    @abstractmethod\n",
    "    def get_center(cls):\n",
    "         \"\"\"Returns the ingredient list.\"\"\"\n",
    "         return cls.center\n",
    "\n",
    "class MovedSphere(SurfaceRevolution):\n",
    "    def get_center(self):\n",
    "        return super(MovedSphere, self).get_center()"
   ]
  },
  {
   "cell_type": "markdown",
   "id": "de0c3f99",
   "metadata": {},
   "source": [
    "In such a case, every `Sphere` you will build by inheriting from `SurfaceRevolution` will have to override the `get_center` method, but will be able to use the default mechanism to get the center by using super()."
   ]
  },
  {
   "cell_type": "markdown",
   "id": "8fced514",
   "metadata": {},
   "source": [
    "### Properties\n",
    "\n",
    "In Python methods can act like properties when using the `@property` decorator\n",
    "Properties are used in Python Object Oriented Programming to provide the class with values that result from computations from internal properties that we want to keep private.\n",
    "    \n",
    "The example below shows the usage of properties to store the value of temperature and control that is value has the physical sense"
   ]
  },
  {
   "cell_type": "code",
   "execution_count": 208,
   "id": "b488eeea",
   "metadata": {},
   "outputs": [],
   "source": [
    "class Celsius:\n",
    "    def __init__(self, temperature = 0):\n",
    "        self._temperature = temperature\n",
    "\n",
    "    def to_fahrenheit(self):\n",
    "        return (self.temperature * 1.8) + 32\n",
    "\n",
    "    @property\n",
    "    def temperature(self):\n",
    "        print(\"Getting value\")\n",
    "        return self._temperature\n",
    "\n",
    "    @temperature.setter\n",
    "    def temperature(self, value):\n",
    "        if value < -273:\n",
    "            raise ValueError(\"Temperature below -273 is not possible\")\n",
    "        print(\"Setting value\")\n",
    "        self._temperature = value"
   ]
  },
  {
   "cell_type": "code",
   "execution_count": 209,
   "id": "9aed9976",
   "metadata": {},
   "outputs": [],
   "source": [
    "c=Celsius(100)"
   ]
  },
  {
   "cell_type": "code",
   "execution_count": 210,
   "id": "102fce39",
   "metadata": {},
   "outputs": [
    {
     "name": "stdout",
     "output_type": "stream",
     "text": [
      "Getting value\n"
     ]
    },
    {
     "data": {
      "text/plain": [
       "100"
      ]
     },
     "execution_count": 210,
     "metadata": {},
     "output_type": "execute_result"
    }
   ],
   "source": [
    "c.temperature"
   ]
  },
  {
   "cell_type": "code",
   "execution_count": 211,
   "id": "af851534",
   "metadata": {},
   "outputs": [
    {
     "name": "stdout",
     "output_type": "stream",
     "text": [
      "Getting value\n"
     ]
    },
    {
     "data": {
      "text/plain": [
       "212.0"
      ]
     },
     "execution_count": 211,
     "metadata": {},
     "output_type": "execute_result"
    }
   ],
   "source": [
    "c.to_fahrenheit()"
   ]
  },
  {
   "cell_type": "code",
   "execution_count": 212,
   "id": "7c6ff8ee-f69b-4e29-b8df-a360eab21513",
   "metadata": {},
   "outputs": [],
   "source": [
    "## c.temperature=-300\n",
    "## ---------------------------------------------------------------------------\n",
    "## ValueError                                Traceback (most recent call last)\n",
    "## <ipython-input-318-dcba37e43336> in <module>\n",
    "## ----> 1 c.temperature=-300\n",
    "## \n",
    "## <ipython-input-309-c16b585d1af3> in temperature(self, value)\n",
    "##     14     def temperature(self, value):\n",
    "##     15         if value < -273:\n",
    "## ---> 16             raise ValueError(\"Temperature below -273 is not possible\")\n",
    "##     17         print(\"Setting value\")\n",
    "##     18         self._temperature = value\n",
    "##\n",
    "## ValueError: Temperature below -273 is not possible"
   ]
  },
  {
   "cell_type": "markdown",
   "id": "595d23af",
   "metadata": {},
   "source": [
    "## Example 7: Platonic Solids\n",
    "\n",
    "We will use some classes to manipulate some of the properties of Platonic Solids\n",
    "\n",
    "As you know there are 5 platonic Solids and they shared some combinatorial properties.\n",
    "\n",
    "A convex polyhedron is a Platonic solid if and only if\n",
    "\n",
    " * all its faces are congruent convex regular polygons\n",
    " * none of its faces intersect except at their edges, and\n",
    " * the same number of faces meet at each of its vertices.\n",
    "\n",
    "Each Platonic solid can therefore be denoted by a symbol {$p$,&nbsp;$q$} where\n",
    "\n",
    "  $p$ is the number of edges (or, equivalently, vertices) of each face, and\n",
    "  <br>\n",
    "  $q$ is the number of faces (or, equivalently, edges) that meet at each vertex.\n",
    "\n",
    "The symbol {$p$ ,&nbsp;$q$}, called the **Schläfli symbol**, give a combinatorial description of the polyhedron. The Schläfli symbols of the five Platonic solids are given in the table below.\n",
    "\n",
    "| Polyhedron || Vertices || Edges || Faces || Schläfli symbol || Vertex configuration|\n",
    "|:-----------||:--------:||:-----:||:-----:||:---------------:||:-------------------:|\n",
    "| Tetrahedron|| 4 || 6 || 4 || {3, 3} || 3.3.3 |\n",
    "| Hexahedron || 8 || 12 || 6 || {4, 3} || 4.4.4 |\n",
    "| Octahedron || 6 || 12 || 8 || {3, 4} || 3.3.3.3 |\n",
    "| Dodecahedron || 20 || 30 || 12 || {5, 3} || 5.5.5 |\n",
    "| Icosahedron || 12 || 30 || 20 || {3, 5} || 3.3.3.3.3 |\n",
    "\n",
    "All other combinatorial information about these solids, such as the total number of vertices ($V$), edges ($E$), and faces ($F$), can be determined from $p$ and $q$. Since any edge joins two vertices and has two adjacent faces we must have:\n",
    "\n",
    "\\begin{equation}\n",
    "pF = 2E = qV.\\,\n",
    "\\end{equation}\n",
    "\n",
    "The other relationship between these values is given by Euler's formula:\n",
    "\n",
    "\\begin{equation}\n",
    "V - E + F = 2.\\,\n",
    "\\end{equation}\n",
    "\n",
    "Together these three relationships completely determine ''V'', ''E'', and ''F'':\n",
    "\n",
    "\\begin{equation}\n",
    "V = \\frac{4p}{4 - (p-2)(q-2)},\\quad E = \\frac{2pq}{4 - (p-2)(q-2)},\\quad F = \\frac{4q}{4 - (p-2)(q-2)}.\n",
    "\\end{equation}\n",
    "\n",
    "Swapping $p$ and $q$ interchanges $F$ and $V$ while leaving $E$ unchanged.\n",
    "\n",
    "Every polyhedron has a dual (or \"polar\") polyhedron with faces and vertices interchanged. \n",
    "The dual of every Platonic solid is another Platonic solid so that we can arrange the five solids into dual pairs.\n",
    "\n",
    "  * The tetrahedron is self-dual (i.e. its dual is another tetrahedron).\n",
    "  * The cube and the octahedron form a dual pair.\n",
    "  * The dodecahedron and the icosahedron form a dual pair.\n",
    "\n",
    "We can now encode all this knowledge into a Python class that allows us to manipulate platonic solids. We will explore the Vertex, Edges, and Face relations and the duality relation"
   ]
  },
  {
   "cell_type": "code",
   "execution_count": 213,
   "id": "e51b3aae",
   "metadata": {},
   "outputs": [],
   "source": [
    "class PlatonicSolid():\n",
    "    \n",
    "    platonic={'tetrahedron': (3,3), 'hexahedron': (4,3), 'octahedron': (3,4), \n",
    "              'dodecahedron': (3,5), 'icosahedron': (5,3)}\n",
    "    \n",
    "    def __init__(self, name=None):\n",
    "        \n",
    "        if name is None:\n",
    "            self.schlafli = (3,3)\n",
    "        else:\n",
    "            self.schlafli = self.name2schlafi(name)\n",
    "\n",
    "    @classmethod\n",
    "    def name2schlafi(cls,name):\n",
    "        \n",
    "        if name.lower() == 'cube':\n",
    "            hedron = 'hexahedron'\n",
    "        elif name.lower() in cls.platonic:\n",
    "            hedron = name.lower()\n",
    "        else:\n",
    "            raise ValueError(\"'%s' is not recognized as a Platonic Solid\" % name)\n",
    "        return cls.platonic[hedron]\n",
    "        \n",
    "    @classmethod\n",
    "    def schlafli2name(cls,schlafli):\n",
    "\n",
    "        if schlafli not in cls.platonic.values():\n",
    "            raise ValueError(\"'%s' is not recognized as a valid Schlafli Symbol\" % schlafli)\n",
    "            \n",
    "        hedrons = [key  for (key, value) in cls.platonic.items() if value == schlafli]\n",
    "        return hedrons[0]\n",
    "\n",
    "    @property\n",
    "    def p(self):\n",
    "        return self.schlafli[0]\n",
    "    \n",
    "    @property\n",
    "    def q(self):\n",
    "        return self.schlafli[1]\n",
    "    \n",
    "    @property\n",
    "    def vertices(self):\n",
    "        p = self.p\n",
    "        q = self.q\n",
    "        return 4*p//(4 - (p-2)*(q-2))\n",
    "    \n",
    "    @property\n",
    "    def edges(self):\n",
    "        p = self.p\n",
    "        q = self.q\n",
    "        return 2*p*q//(4 - (p-2)*(q-2))\n",
    "    \n",
    "    @property\n",
    "    def faces(self):\n",
    "        p = self.p\n",
    "        q = self.q\n",
    "        return 4*q//(4 - (p-2)*(q-2))\n",
    "    \n",
    "    def dual(self):\n",
    "        return self.__class__(self.schlafli2name((self.q,self.p)))\n",
    "        "
   ]
  },
  {
   "cell_type": "code",
   "execution_count": 214,
   "id": "dbc3fa0f",
   "metadata": {},
   "outputs": [
    {
     "name": "stdout",
     "output_type": "stream",
     "text": [
      "(4, 3)\n",
      "8\n",
      "12\n",
      "6\n"
     ]
    }
   ],
   "source": [
    "cube=PlatonicSolid('cube')\n",
    "print(cube.schlafli)\n",
    "print(cube.vertices)\n",
    "print(cube.edges)\n",
    "print(cube.faces)"
   ]
  },
  {
   "cell_type": "code",
   "execution_count": 215,
   "id": "c40386f3",
   "metadata": {},
   "outputs": [
    {
     "name": "stdout",
     "output_type": "stream",
     "text": [
      "(3, 4)\n",
      "6\n",
      "12\n",
      "8\n"
     ]
    }
   ],
   "source": [
    "octa=cube.dual()\n",
    "print(octa.schlafli)\n",
    "print(octa.vertices)\n",
    "print(octa.edges)\n",
    "print(octa.faces)"
   ]
  },
  {
   "cell_type": "markdown",
   "id": "86856e6e",
   "metadata": {},
   "source": [
    "<a id=\"python_2x_vs_3x\"></a>\n",
    "# 3 Key Differences between Python 2.x and 3.x"
   ]
  },
  {
   "cell_type": "markdown",
   "id": "8c0144f9",
   "metadata": {},
   "source": [
    "## Print"
   ]
  },
  {
   "cell_type": "markdown",
   "id": "ca2f5705",
   "metadata": {},
   "source": [
    "Python 2’s print statement has been replaced by the print() function, meaning that we have to wrap the object that we want to print in parentheses. The commands below work on Python 2.x"
   ]
  },
  {
   "cell_type": "raw",
   "id": "4cd6100d",
   "metadata": {},
   "source": [
    "from platform import python_version\n",
    "\n",
    "print 'Python', python_version()\n",
    "print 'Hello, World!'\n",
    "print('Hello, World!')\n",
    "print \"text\", ; print 'print more text on the same line'"
   ]
  },
  {
   "cell_type": "markdown",
   "id": "e2610390",
   "metadata": {},
   "source": [
    "In Python 3.x to get the same results you have to use:"
   ]
  },
  {
   "cell_type": "code",
   "execution_count": 216,
   "id": "df810e0b",
   "metadata": {},
   "outputs": [
    {
     "name": "stdout",
     "output_type": "stream",
     "text": [
      "Python 3.11.7\n",
      "Hello, World!\n",
      "some text, print more text on the same line\n"
     ]
    }
   ],
   "source": [
    "from platform import python_version\n",
    "\n",
    "print('Python', python_version())\n",
    "print('Hello, World!')\n",
    "\n",
    "print(\"some text,\", end=\"\")\n",
    "print(' print more text on the same line')"
   ]
  },
  {
   "cell_type": "markdown",
   "id": "038c0cc7",
   "metadata": {},
   "source": [
    "## Integer Division"
   ]
  },
  {
   "cell_type": "markdown",
   "id": "27563357",
   "metadata": {},
   "source": [
    "This change is particularly dangerous. In Scientific Computing this is even more true as the division can go unnoticed. In Python 2.x the division of two integers is always an integer. In Python 3.x the result is promoted to float if the numbers have no solution in the integers. The commands below work in Python 2.x and return integers:"
   ]
  },
  {
   "cell_type": "raw",
   "id": "abfb5ce1",
   "metadata": {},
   "source": [
    "print 'Python', python_version()\n",
    "print '3 / 2 =', 3 / 2\n",
    "print '3 // 2 =', 3 // 2\n",
    "print '3 / 2.0 =', 3 / 2.0\n",
    "print '3 // 2.0 =', 3 // 2.0"
   ]
  },
  {
   "cell_type": "markdown",
   "id": "353a8105",
   "metadata": {},
   "source": [
    "In Python 3.x to get the same results you have to use:"
   ]
  },
  {
   "cell_type": "code",
   "execution_count": 217,
   "id": "f4ffb5f3",
   "metadata": {},
   "outputs": [
    {
     "name": "stdout",
     "output_type": "stream",
     "text": [
      "Python 3.11.7\n",
      "3 / 2 = 1.5\n",
      "3 // 2 = 1\n",
      "3 / 2.0 = 1.5\n",
      "3 // 2.0 = 1.0\n"
     ]
    }
   ],
   "source": [
    "print('Python', python_version())\n",
    "print('3 / 2 =', 3 / 2)\n",
    "print('3 // 2 =', 3 // 2)\n",
    "print('3 / 2.0 =', 3 / 2.0)\n",
    "print('3 // 2.0 =', 3 // 2.0)"
   ]
  },
  {
   "cell_type": "markdown",
   "id": "4465a380",
   "metadata": {},
   "source": [
    "## xrange"
   ]
  },
  {
   "cell_type": "markdown",
   "id": "e616a2f7",
   "metadata": {},
   "source": [
    "`xrange()` used to be very popular in Python 2.x for creating an iterable object, e.g., in a for-loop or list/set-dictionary-comprehension. In many situations, you need to iterate over a list of values and `xrange` has the advantage of the regular range() of being generally faster if you have to iterate over it only once (e.g., in a for-loop). \n",
    "\n",
    "There are two main reasons for choosing `xrange` over range, speed memory. However, in contrast to 1-time iterations, it is not recommended if you repeat the iteration multiple times, since the generation happens every time from scratch!\n",
    "\n",
    "Consider this case:"
   ]
  },
  {
   "cell_type": "code",
   "execution_count": 218,
   "id": "27079c8d",
   "metadata": {},
   "outputs": [],
   "source": [
    "import timeit\n",
    "\n",
    "def test_range(n):\n",
    "    sum=0\n",
    "    for i in range(n):\n",
    "        for j in range(n):\n",
    "            for k in range(n):\n",
    "                ijk=i+j*k\n",
    "                sum=sum+ ijk\n",
    "                \n",
    "                if ijk > 1:\n",
    "                    break\n",
    "\n",
    "            else:\n",
    "                # Continue if the inner loop wasn't broken.\n",
    "                continue\n",
    "            # Inner loop was broken, break the outer.\n",
    "            break\n",
    "\n",
    "        else:\n",
    "            # Continue if the inner loop wasn't broken.\n",
    "            continue\n",
    "        # Inner loop was broken, break the outer.\n",
    "        break\n",
    "\n",
    "\n",
    "    return sum\n",
    "            \n",
    "def test_xrange(n):\n",
    "    sum=0\n",
    "    for i in xrange(n):\n",
    "        for j in xrange(n):\n",
    "            for k in xrange(n):\n",
    "                ijk=i+j*k\n",
    "                sum=sum+ ijk\n",
    "                \n",
    "                if ijk > 1:\n",
    "                    break\n",
    "\n",
    "            else:\n",
    "                # Continue if the inner loop wasn't broken.\n",
    "                continue\n",
    "            # Inner loop was broken, break the outer.\n",
    "            break\n",
    "\n",
    "        else:\n",
    "            # Continue if the inner loop wasn't broken.\n",
    "            continue\n",
    "        # Inner loop was broken, break the outer.\n",
    "        break\n",
    "\n",
    "    return sum"
   ]
  },
  {
   "cell_type": "markdown",
   "id": "5944a548",
   "metadata": {},
   "source": [
    "These two functions are used on the script `range_vs_xrange.py` and their timings are shown:"
   ]
  },
  {
   "cell_type": "raw",
   "id": "f498e95a",
   "metadata": {},
   "source": [
    "$ python2 range_vs_xrange.py\n",
    "Using range() function:\n",
    "1.72167515755\n",
    "Using xrange() function:\n",
    "1.00023412704\n"
   ]
  },
  {
   "cell_type": "markdown",
   "id": "5f50de9c",
   "metadata": {},
   "source": [
    "On Python 3.x the `xrange` was removed and range behaves as `xrange` returning an iterable object."
   ]
  },
  {
   "cell_type": "markdown",
   "id": "48d83ba8",
   "metadata": {},
   "source": [
    "## More differences"
   ]
  },
  {
   "cell_type": "markdown",
   "id": "4c36e9b4",
   "metadata": {},
   "source": [
    "There are more differences beyond the 3 above, a good description of the key differences can be found on [Sebastian Raschka's blog](https://sebastianraschka.com/Articles/2014_python_2_3_key_diff.html)"
   ]
  },
  {
   "cell_type": "markdown",
   "id": "2b808a9c-ebc5-49ec-91b1-4ccf419ddfa8",
   "metadata": {},
   "source": [
    "## Example 9: Life Game"
   ]
  },
  {
   "cell_type": "code",
   "execution_count": 219,
   "id": "d5d33792-f025-49c3-8879-8e9d82ee5df1",
   "metadata": {},
   "outputs": [
    {
     "data": {
      "image/png": "[encoded data removed]",
      "text/plain": [
       "<Figure size 640x480 with 1 Axes>"
      ]
     },
     "metadata": {},
     "output_type": "display_data"
    },
    {
     "data": {
      "image/png": "[encoded data removed]",
      "text/plain": [
       "<Figure size 640x480 with 1 Axes>"
      ]
     },
     "metadata": {},
     "output_type": "display_data"
    },
    {
     "data": {
      "image/png": "[encoded data removed]",
      "text/plain": [
       "<Figure size 640x480 with 1 Axes>"
      ]
     },
     "metadata": {},
     "output_type": "display_data"
    },
    {
     "data": {
      "image/png": "[encoded data removed]",
      "text/plain": [
       "<Figure size 640x480 with 1 Axes>"
      ]
     },
     "metadata": {},
     "output_type": "display_data"
    },
    {
     "data": {
      "image/png": "[encoded data removed]",
      "text/plain": [
       "<Figure size 640x480 with 1 Axes>"
      ]
     },
     "metadata": {},
     "output_type": "display_data"
    }
   ],
   "source": [
    "import numpy as np\n",
    "from pandas import DataFrame\n",
    "import matplotlib.pyplot as plt\n",
    "#import time\n",
    "\n",
    "def conway_life(len=100, wid=100, gen=5):\n",
    "     \n",
    "    curr_gen = DataFrame(np.random.randint(0, 2, (len+2, wid+2)),\n",
    "                         index = range(len+2), \n",
    "                         columns = range(wid+2))\n",
    "    curr_gen[0] = 0\n",
    "    curr_gen[wid+1] = 0\n",
    "    curr_gen[0: 1] = 0\n",
    "    curr_gen[len+1: len+2] = 0    \n",
    "    \n",
    "    for i in range(gen):\n",
    "        \n",
    "        fig, ax = plt.subplots()\n",
    "        draw = curr_gen[1:len+1].drop([0, wid+1], axis=1)\n",
    "        \n",
    "        image = draw\n",
    "        ax.imshow(image, cmap=plt.cm.cool, interpolation='nearest')\n",
    "        ax.set_title(\"Conway's game of life.\")\n",
    "        \n",
    "        # Move left and bottom spines outward by 10 points\n",
    "        ax.spines['left'].set_position(('outward', 10))\n",
    "        ax.spines['bottom'].set_position(('outward', 10))\n",
    "        # Hide the right and top spines\n",
    "        ax.spines['right'].set_visible(False)\n",
    "        ax.spines['top'].set_visible(False)\n",
    "        # Only show ticks on the left and bottom spines\n",
    "        ax.yaxis.set_ticks_position('left')\n",
    "        ax.xaxis.set_ticks_position('bottom')\n",
    "\n",
    "        plt.axis('off')\n",
    "        plt.show()\n",
    "        # time.sleep(1)         \n",
    "        \n",
    "        next_gen = DataFrame(np.random.randint(0, 1, (len+2, wid+2)),\n",
    "                             index = range(len+2), \n",
    "                             columns = range(wid+2))\n",
    "        \n",
    "        for x in range(1, wid+1):\n",
    "            for y in range(1, len+1):\n",
    "                env = (curr_gen[x-1][y-1] + curr_gen[x][y-1] + \n",
    "                       curr_gen[x+1][y-1]+ curr_gen[x-1][y] + \n",
    "                       curr_gen[x+1][y] + curr_gen[x-1][y+1] + \n",
    "                       curr_gen[x][y+1] + curr_gen[x+1][y+1])\n",
    "            \n",
    "                if (not curr_gen[x][y] and env == 3):\n",
    "                    next_gen[x][y] = 1\n",
    "                if (curr_gen[x][y] and env in (2, 3)):\n",
    "                    next_gen[x][y] = 1\n",
    "                \n",
    "        curr_gen = next_gen \n",
    "\n",
    "conway_life()"
   ]
  },
  {
   "cell_type": "markdown",
   "id": "1bfaab3b",
   "metadata": {},
   "source": [
    "# Conclusions\n",
    "\n",
    "In this notebook we explore:\n",
    "\n",
    " 1. Introduction\n",
    "     1. Zen of Python\n",
    "     1. Optimization\n",
    " 1. Python Syntax I\n",
    "     1. Variables\n",
    "     1. Data Types\n",
    "     1. Mathematical Operations\n",
    " 1. Python Syntax II\n",
    "     1. Containers\n",
    "     1. Loops\n",
    "     1. Conditionals\n",
    " 1. Python Syntax III\n",
    "     1. Functions\n",
    " 1. Python Syntax IV\n",
    "     1. Classes\n",
    " 1. Differences between Python 2.x and 3.x\n",
    "     1. Print\n",
    "     1. Integer division"
   ]
  },
  {
   "cell_type": "markdown",
   "id": "74cf9a99",
   "metadata": {},
   "source": [
    "# Acknowledgments and References\n",
    "\n",
    "This Notebook has been adapted by **Guillermo Avendaño** (WVU), **Jose Rogan** (Universidad de Chile) and **Aldo Humberto Romero** (WVU) from the [Tutorials for Stanford cs228 and cs231n](https://github.com/kuleshov/cs228-material). A large part of the info was also built from scratch. In turn, that material was adapted by [Volodymyr Kuleshov](http://web.stanford.edu/~kuleshov/) and [Isaac Caswell](https://symsys.stanford.edu/viewing/symsysaffiliate/21335) from the `CS231n` Python tutorial by Justin Johnson (http://cs231n.github.io/python-numpy-tutorial/). Another good resource, in particular, if you want to just look for an answer to specific questions is [planetpython.org](http:planetpython.org), in particular for data science.\n",
    "\n",
    "Changes to the original tutorial include strict Python 3 formats and a split of the material to fit a series of lessons on Python Programming for WVU's faculty and graduate students.\n",
    "\n",
    "The support of the National Science Foundation and the US Department of Energy under projects: DMREF-NSF 1434897, NSF OAC-1740111 and DOE DE-SC0016176 is recognized.\n",
    "\n",
    "<div style=\"clear: both; display: table;\">\n",
    "<div style=\"border: none; float: left; width: 40%; padding: 10px\">\n",
    "<img src=\"fig/NSF.jpg\" alt=\"National Science Foundation\" style=\"width:50%\" align=\"left\">\n",
    "    </div>\n",
    "    <div style=\"border: none; float: right; width: 40%; padding: 10px\">\n",
    "<img src=\"fig/DOE.jpg\" alt=\"National Science Foundation\" style=\"width:50%\" align=\"right\">\n",
    "</div>"
   ]
  },
  {
   "cell_type": "markdown",
   "id": "783c4f87",
   "metadata": {},
   "source": [
    "# Back of the Book"
   ]
  },
  {
   "cell_type": "code",
   "execution_count": 220,
   "id": "f4ccd73d",
   "metadata": {
    "scrolled": true
   },
   "outputs": [
    {
     "data": {
      "image/png": "[encoded data removed]",
      "text/plain": [
       "<Figure size 300x300 with 1 Axes>"
      ]
     },
     "metadata": {},
     "output_type": "display_data"
    }
   ],
   "source": [
    "plt.figure(figsize=(3,3))\n",
    "n = chapter_number\n",
    "maxt=(2*(n-1)+3)*np.pi/2\n",
    "t = np.linspace(np.pi/2, maxt, 1000)\n",
    "tt= 1.0/(t+0.01)\n",
    "x = (maxt-t)*np.cos(t)**3\n",
    "y = t*np.sqrt(np.abs(np.cos(t))) + np.sin(0.3*t)*np.cos(2*t)\n",
    "plt.plot(x, y, c=\"green\")\n",
    "plt.axis('off');"
   ]
  },
  {
   "cell_type": "code",
   "execution_count": 221,
   "id": "14ff5aab",
   "metadata": {},
   "outputs": [
    {
     "name": "stdout",
     "output_type": "stream",
     "text": [
      "Chapter 1 run in 9 seconds\n"
     ]
    }
   ],
   "source": [
    "end = time.time()\n",
    "print(f'Chapter {chapter_number} run in {int(end - start):d} seconds')"
   ]
  }
 ],
 "metadata": {
  "kernelspec": {
   "display_name": "Python 3 (ipykernel)",
   "language": "python",
   "name": "python3"
  },
  "language_info": {
   "codemirror_mode": {
    "name": "ipython",
    "version": 3
   },
   "file_extension": ".py",
   "mimetype": "text/x-python",
   "name": "python",
   "nbconvert_exporter": "python",
   "pygments_lexer": "ipython3",
   "version": "3.11.7"
  }
 },
 "nbformat": 4,
 "nbformat_minor": 5
}
