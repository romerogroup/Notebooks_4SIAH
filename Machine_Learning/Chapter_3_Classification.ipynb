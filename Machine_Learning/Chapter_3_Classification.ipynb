{
 "cells": [
  {
   "cell_type": "markdown",
   "metadata": {
    "id": "UTSvZIPVS7f8"
   },
   "source": [
    "![Machine Learning for Scientists in a hurry](https://github.com/romerogroup/Notebooks_4SIAH/blob/main/Machine_Learning/fig/Title_ML.png?raw=1)"
   ]
  },
  {
   "cell_type": "markdown",
   "metadata": {
    "id": "Dr7ZxmQKS7f_"
   },
   "source": [
    "# Boilerplate"
   ]
  },
  {
   "cell_type": "code",
   "execution_count": 1,
   "metadata": {
    "id": "LMShqv-CS_IS"
   },
   "outputs": [],
   "source": [
    "!if [ ! -f helpers.py ]; then wget \"https://raw.githubusercontent.com/romerogroup/Notebooks_4SIAH/main/Machine_Learning/helpers.py\"; fi"
   ]
  },
  {
   "cell_type": "code",
   "execution_count": 2,
   "metadata": {
    "id": "AySrufqZTAie"
   },
   "outputs": [],
   "source": [
    "# import some custom helper code\n",
    "import helpers\n",
    "from helpers import set_css_in_cell_output\n",
    "get_ipython().events.register('pre_run_cell', set_css_in_cell_output)"
   ]
  },
  {
   "cell_type": "code",
   "execution_count": 3,
   "metadata": {
    "colab": {
     "base_uri": "https://localhost:8080/",
     "height": 368
    },
    "id": "46b-cxAsS7gC",
    "outputId": "bada74f7-f773-4de0-c5ba-fdfc87b2fadf"
   },
   "outputs": [
    {
     "data": {
      "text/html": [
       "<style>\n",
       "    .div-red {\n",
       "        background-color: #EE2A35;\n",
       "    }\n",
       "\n",
       "    .div-green {\n",
       "    \tbackground-color: #009736;\n",
       "    }\n",
       "\n",
       "    .div-black {\n",
       "    \tbackground-color: #000000;\n",
       "    }\n",
       "    .div-white {\n",
       "    \tbackground-color: #FFFFFF;\n",
       "    }\n",
       "    h1 {\n",
       "      color: #EE2A35;\n",
       "    }\n",
       "    h2 {\n",
       "      color: #009736;\n",
       "    }\n",
       "</style>\n"
      ],
      "text/plain": [
       "<IPython.core.display.HTML object>"
      ]
     },
     "metadata": {},
     "output_type": "display_data"
    },
    {
     "name": "stdout",
     "output_type": "stream",
     "text": [
      "Requirement already satisfied: watermark in /Users/guilleaf/miniconda3/lib/python3.11/site-packages (2.4.3)\n",
      "Requirement already satisfied: wget in /Users/guilleaf/miniconda3/lib/python3.11/site-packages (3.2)\n",
      "Requirement already satisfied: ipython>=6.0 in /Users/guilleaf/miniconda3/lib/python3.11/site-packages (from watermark) (8.16.1)\n",
      "Requirement already satisfied: importlib-metadata>=1.4 in /Users/guilleaf/miniconda3/lib/python3.11/site-packages (from watermark) (6.8.0)\n",
      "Requirement already satisfied: setuptools in /Users/guilleaf/miniconda3/lib/python3.11/site-packages (from watermark) (67.8.0)\n",
      "Requirement already satisfied: zipp>=0.5 in /Users/guilleaf/miniconda3/lib/python3.11/site-packages (from importlib-metadata>=1.4->watermark) (3.17.0)\n",
      "Requirement already satisfied: backcall in /Users/guilleaf/miniconda3/lib/python3.11/site-packages (from ipython>=6.0->watermark) (0.2.0)\n",
      "Requirement already satisfied: decorator in /Users/guilleaf/miniconda3/lib/python3.11/site-packages (from ipython>=6.0->watermark) (5.1.1)\n",
      "Requirement already satisfied: jedi>=0.16 in /Users/guilleaf/miniconda3/lib/python3.11/site-packages (from ipython>=6.0->watermark) (0.19.1)\n",
      "Requirement already satisfied: matplotlib-inline in /Users/guilleaf/miniconda3/lib/python3.11/site-packages (from ipython>=6.0->watermark) (0.1.6)\n",
      "Requirement already satisfied: pickleshare in /Users/guilleaf/miniconda3/lib/python3.11/site-packages (from ipython>=6.0->watermark) (0.7.5)\n",
      "Requirement already satisfied: prompt-toolkit!=3.0.37,<3.1.0,>=3.0.30 in /Users/guilleaf/miniconda3/lib/python3.11/site-packages (from ipython>=6.0->watermark) (3.0.39)\n",
      "Requirement already satisfied: pygments>=2.4.0 in /Users/guilleaf/miniconda3/lib/python3.11/site-packages (from ipython>=6.0->watermark) (2.16.1)\n",
      "Requirement already satisfied: stack-data in /Users/guilleaf/miniconda3/lib/python3.11/site-packages (from ipython>=6.0->watermark) (0.6.3)\n",
      "Requirement already satisfied: traitlets>=5 in /Users/guilleaf/miniconda3/lib/python3.11/site-packages (from ipython>=6.0->watermark) (5.11.2)\n",
      "Requirement already satisfied: pexpect>4.3 in /Users/guilleaf/miniconda3/lib/python3.11/site-packages (from ipython>=6.0->watermark) (4.8.0)\n",
      "Requirement already satisfied: appnope in /Users/guilleaf/miniconda3/lib/python3.11/site-packages (from ipython>=6.0->watermark) (0.1.3)\n",
      "Requirement already satisfied: parso<0.9.0,>=0.8.3 in /Users/guilleaf/miniconda3/lib/python3.11/site-packages (from jedi>=0.16->ipython>=6.0->watermark) (0.8.3)\n",
      "Requirement already satisfied: ptyprocess>=0.5 in /Users/guilleaf/miniconda3/lib/python3.11/site-packages (from pexpect>4.3->ipython>=6.0->watermark) (0.7.0)\n",
      "Requirement already satisfied: wcwidth in /Users/guilleaf/miniconda3/lib/python3.11/site-packages (from prompt-toolkit!=3.0.37,<3.1.0,>=3.0.30->ipython>=6.0->watermark) (0.2.8)\n",
      "Requirement already satisfied: executing>=1.2.0 in /Users/guilleaf/miniconda3/lib/python3.11/site-packages (from stack-data->ipython>=6.0->watermark) (2.0.0)\n",
      "Requirement already satisfied: asttokens>=2.1.0 in /Users/guilleaf/miniconda3/lib/python3.11/site-packages (from stack-data->ipython>=6.0->watermark) (2.4.0)\n",
      "Requirement already satisfied: pure-eval in /Users/guilleaf/miniconda3/lib/python3.11/site-packages (from stack-data->ipython>=6.0->watermark) (0.2.2)\n",
      "Requirement already satisfied: six>=1.12.0 in /Users/guilleaf/miniconda3/lib/python3.11/site-packages (from asttokens>=2.1.0->stack-data->ipython>=6.0->watermark) (1.16.0)\n"
     ]
    }
   ],
   "source": [
    "!pip install watermark wget"
   ]
  },
  {
   "cell_type": "code",
   "execution_count": 4,
   "metadata": {
    "colab": {
     "base_uri": "https://localhost:8080/",
     "height": 206,
     "resources": {
      "http://localhost:8080/fig/1-line%20logotype124-295.png": {
       "data": "CjwhRE9DVFlQRSBodG1sPgo8aHRtbCBsYW5nPWVuPgogIDxtZXRhIGNoYXJzZXQ9dXRmLTg+CiAgPG1ldGEgbmFtZT12aWV3cG9ydCBjb250ZW50PSJpbml0aWFsLXNjYWxlPTEsIG1pbmltdW0tc2NhbGU9MSwgd2lkdGg9ZGV2aWNlLXdpZHRoIj4KICA8dGl0bGU+RXJyb3IgNDA0IChOb3QgRm91bmQpISExPC90aXRsZT4KICA8c3R5bGU+CiAgICAqe21hcmdpbjowO3BhZGRpbmc6MH1odG1sLGNvZGV7Zm9udDoxNXB4LzIycHggYXJpYWwsc2Fucy1zZXJpZn1odG1se2JhY2tncm91bmQ6I2ZmZjtjb2xvcjojMjIyO3BhZGRpbmc6MTVweH1ib2R5e21hcmdpbjo3JSBhdXRvIDA7bWF4LXdpZHRoOjM5MHB4O21pbi1oZWlnaHQ6MTgwcHg7cGFkZGluZzozMHB4IDAgMTVweH0qID4gYm9keXtiYWNrZ3JvdW5kOnVybCgvL3d3dy5nb29nbGUuY29tL2ltYWdlcy9lcnJvcnMvcm9ib3QucG5nKSAxMDAlIDVweCBuby1yZXBlYXQ7cGFkZGluZy1yaWdodDoyMDVweH1we21hcmdpbjoxMXB4IDAgMjJweDtvdmVyZmxvdzpoaWRkZW59aW5ze2NvbG9yOiM3Nzc7dGV4dC1kZWNvcmF0aW9uOm5vbmV9YSBpbWd7Ym9yZGVyOjB9QG1lZGlhIHNjcmVlbiBhbmQgKG1heC13aWR0aDo3NzJweCl7Ym9keXtiYWNrZ3JvdW5kOm5vbmU7bWFyZ2luLXRvcDowO21heC13aWR0aDpub25lO3BhZGRpbmctcmlnaHQ6MH19I2xvZ297YmFja2dyb3VuZDp1cmwoLy93d3cuZ29vZ2xlLmNvbS9pbWFnZXMvbG9nb3MvZXJyb3JwYWdlL2Vycm9yX2xvZ28tMTUweDU0LnBuZykgbm8tcmVwZWF0O21hcmdpbi1sZWZ0Oi01cHh9QG1lZGlhIG9ubHkgc2NyZWVuIGFuZCAobWluLXJlc29sdXRpb246MTkyZHBpKXsjbG9nb3tiYWNrZ3JvdW5kOnVybCgvL3d3dy5nb29nbGUuY29tL2ltYWdlcy9sb2dvcy9lcnJvcnBhZ2UvZXJyb3JfbG9nby0xNTB4NTQtMngucG5nKSBuby1yZXBlYXQgMCUgMCUvMTAwJSAxMDAlOy1tb3otYm9yZGVyLWltYWdlOnVybCgvL3d3dy5nb29nbGUuY29tL2ltYWdlcy9sb2dvcy9lcnJvcnBhZ2UvZXJyb3JfbG9nby0xNTB4NTQtMngucG5nKSAwfX1AbWVkaWEgb25seSBzY3JlZW4gYW5kICgtd2Via2l0LW1pbi1kZXZpY2UtcGl4ZWwtcmF0aW86Mil7I2xvZ297YmFja2dyb3VuZDp1cmwoLy93d3cuZ29vZ2xlLmNvbS9pbWFnZXMvbG9nb3MvZXJyb3JwYWdlL2Vycm9yX2xvZ28tMTUweDU0LTJ4LnBuZykgbm8tcmVwZWF0Oy13ZWJraXQtYmFja2dyb3VuZC1zaXplOjEwMCUgMTAwJX19I2xvZ297ZGlzcGxheTppbmxpbmUtYmxvY2s7aGVpZ2h0OjU0cHg7d2lkdGg6MTUwcHh9CiAgPC9zdHlsZT4KICA8YSBocmVmPS8vd3d3Lmdvb2dsZS5jb20vPjxzcGFuIGlkPWxvZ28gYXJpYS1sYWJlbD1Hb29nbGU+PC9zcGFuPjwvYT4KICA8cD48Yj40MDQuPC9iPiA8aW5zPlRoYXTigJlzIGFuIGVycm9yLjwvaW5zPgogIDxwPiAgPGlucz5UaGF04oCZcyBhbGwgd2Uga25vdy48L2lucz4K",
       "headers": [
        [
         "content-length",
         "1449"
        ],
        [
         "content-type",
         "text/html; charset=utf-8"
        ]
       ],
       "ok": false,
       "status": 404,
       "status_text": ""
      },
      "http://localhost:8080/fig/SCPython.png": {
       "data": "CjwhRE9DVFlQRSBodG1sPgo8aHRtbCBsYW5nPWVuPgogIDxtZXRhIGNoYXJzZXQ9dXRmLTg+CiAgPG1ldGEgbmFtZT12aWV3cG9ydCBjb250ZW50PSJpbml0aWFsLXNjYWxlPTEsIG1pbmltdW0tc2NhbGU9MSwgd2lkdGg9ZGV2aWNlLXdpZHRoIj4KICA8dGl0bGU+RXJyb3IgNDA0IChOb3QgRm91bmQpISExPC90aXRsZT4KICA8c3R5bGU+CiAgICAqe21hcmdpbjowO3BhZGRpbmc6MH1odG1sLGNvZGV7Zm9udDoxNXB4LzIycHggYXJpYWwsc2Fucy1zZXJpZn1odG1se2JhY2tncm91bmQ6I2ZmZjtjb2xvcjojMjIyO3BhZGRpbmc6MTVweH1ib2R5e21hcmdpbjo3JSBhdXRvIDA7bWF4LXdpZHRoOjM5MHB4O21pbi1oZWlnaHQ6MTgwcHg7cGFkZGluZzozMHB4IDAgMTVweH0qID4gYm9keXtiYWNrZ3JvdW5kOnVybCgvL3d3dy5nb29nbGUuY29tL2ltYWdlcy9lcnJvcnMvcm9ib3QucG5nKSAxMDAlIDVweCBuby1yZXBlYXQ7cGFkZGluZy1yaWdodDoyMDVweH1we21hcmdpbjoxMXB4IDAgMjJweDtvdmVyZmxvdzpoaWRkZW59aW5ze2NvbG9yOiM3Nzc7dGV4dC1kZWNvcmF0aW9uOm5vbmV9YSBpbWd7Ym9yZGVyOjB9QG1lZGlhIHNjcmVlbiBhbmQgKG1heC13aWR0aDo3NzJweCl7Ym9keXtiYWNrZ3JvdW5kOm5vbmU7bWFyZ2luLXRvcDowO21heC13aWR0aDpub25lO3BhZGRpbmctcmlnaHQ6MH19I2xvZ297YmFja2dyb3VuZDp1cmwoLy93d3cuZ29vZ2xlLmNvbS9pbWFnZXMvbG9nb3MvZXJyb3JwYWdlL2Vycm9yX2xvZ28tMTUweDU0LnBuZykgbm8tcmVwZWF0O21hcmdpbi1sZWZ0Oi01cHh9QG1lZGlhIG9ubHkgc2NyZWVuIGFuZCAobWluLXJlc29sdXRpb246MTkyZHBpKXsjbG9nb3tiYWNrZ3JvdW5kOnVybCgvL3d3dy5nb29nbGUuY29tL2ltYWdlcy9sb2dvcy9lcnJvcnBhZ2UvZXJyb3JfbG9nby0xNTB4NTQtMngucG5nKSBuby1yZXBlYXQgMCUgMCUvMTAwJSAxMDAlOy1tb3otYm9yZGVyLWltYWdlOnVybCgvL3d3dy5nb29nbGUuY29tL2ltYWdlcy9sb2dvcy9lcnJvcnBhZ2UvZXJyb3JfbG9nby0xNTB4NTQtMngucG5nKSAwfX1AbWVkaWEgb25seSBzY3JlZW4gYW5kICgtd2Via2l0LW1pbi1kZXZpY2UtcGl4ZWwtcmF0aW86Mil7I2xvZ297YmFja2dyb3VuZDp1cmwoLy93d3cuZ29vZ2xlLmNvbS9pbWFnZXMvbG9nb3MvZXJyb3JwYWdlL2Vycm9yX2xvZ28tMTUweDU0LTJ4LnBuZykgbm8tcmVwZWF0Oy13ZWJraXQtYmFja2dyb3VuZC1zaXplOjEwMCUgMTAwJX19I2xvZ297ZGlzcGxheTppbmxpbmUtYmxvY2s7aGVpZ2h0OjU0cHg7d2lkdGg6MTUwcHh9CiAgPC9zdHlsZT4KICA8YSBocmVmPS8vd3d3Lmdvb2dsZS5jb20vPjxzcGFuIGlkPWxvZ28gYXJpYS1sYWJlbD1Hb29nbGU+PC9zcGFuPjwvYT4KICA8cD48Yj40MDQuPC9iPiA8aW5zPlRoYXTigJlzIGFuIGVycm9yLjwvaW5zPgogIDxwPiAgPGlucz5UaGF04oCZcyBhbGwgd2Uga25vdy48L2lucz4K",
       "headers": [
        [
         "content-length",
         "1449"
        ],
        [
         "content-type",
         "text/html; charset=utf-8"
        ]
       ],
       "ok": false,
       "status": 404,
       "status_text": ""
      }
     }
    },
    "id": "ezyZcMdEVNzk",
    "outputId": "3cd39931-3e1b-43f2-c266-401a23bd4671"
   },
   "outputs": [
    {
     "data": {
      "text/html": [
       "<style>\n",
       "    .div-red {\n",
       "        background-color: #EE2A35;\n",
       "    }\n",
       "\n",
       "    .div-green {\n",
       "    \tbackground-color: #009736;\n",
       "    }\n",
       "\n",
       "    .div-black {\n",
       "    \tbackground-color: #000000;\n",
       "    }\n",
       "    .div-white {\n",
       "    \tbackground-color: #FFFFFF;\n",
       "    }\n",
       "    h1 {\n",
       "      color: #EE2A35;\n",
       "    }\n",
       "    h2 {\n",
       "      color: #009736;\n",
       "    }\n",
       "</style>\n"
      ],
      "text/plain": [
       "<IPython.core.display.HTML object>"
      ]
     },
     "metadata": {},
     "output_type": "display_data"
    },
    {
     "data": {
      "text/html": [
       "<div style=\"clear: both; display: table;\">\n",
       "  <div style=\"border: none; float: left; width: 60%; padding: 5px\">\n",
       "  <h1 id=\"subtitle\">Chapter 3. Classification</h1>\n",
       "  <h2 id=\"subtitle\">Guillermo Avendaño Franco<br>Aldo Humberto Romero</h2>\n",
       "  <br>\n",
       "  <img src=\"fig/1-line logotype124-295.png\" alt=\"Scientific Computing with Python\" style=\"width:50%\" align=\"left\">\n",
       "  </div>\n",
       "  <div style=\"border: none; float: left; width: 30%; padding: 5px\">\n",
       "  <img src=\"fig/SCPython.png\" alt=\"Scientific Computing with Python\" style=\"width:100%\">\n",
       "  </div>\n",
       "</div>\n"
      ],
      "text/plain": [
       "<IPython.core.display.HTML object>"
      ]
     },
     "metadata": {},
     "output_type": "display_data"
    }
   ],
   "source": [
    "%%html\n",
    "<div style=\"clear: both; display: table;\">\n",
    "  <div style=\"border: none; float: left; width: 60%; padding: 5px\">\n",
    "  <h1 id=\"subtitle\">Chapter 3. Classification</h1>\n",
    "  <h2 id=\"subtitle\">Guillermo Avendaño Franco<br>Aldo Humberto Romero</h2>\n",
    "  <br>\n",
    "  <img src=\"fig/1-line logotype124-295.png\" alt=\"Scientific Computing with Python\" style=\"width:50%\" align=\"left\">\n",
    "  </div>\n",
    "  <div style=\"border: none; float: left; width: 30%; padding: 5px\">\n",
    "  <img src=\"fig/SCPython.png\" alt=\"Scientific Computing with Python\" style=\"width:100%\">\n",
    "  </div>\n",
    "</div>"
   ]
  },
  {
   "cell_type": "markdown",
   "metadata": {
    "id": "MrF1a3j3S7gE"
   },
   "source": [
    "<div style=\"clear: both; display: table;\">\n",
    "  <div style=\"border: none; float: left; width: 60%; padding: 5px\">\n",
    "  <h1 id=\"subtitle\">Chapter 3. Classification</h1>\n",
    "  <h2 id=\"subtitle\">Guillermo Avendaño Franco<br>Aldo Humberto Romero</h2>\n",
    "  <br>\n",
    "  <img src=\"./fig/1-line%20logotype124-295.png\" alt=\"Scientific Computing with Python\" style=\"width:50%\" align=\"left\">\n",
    "  </div>\n",
    "  <div style=\"border: none; float: left; width: 30%; padding: 5px\">\n",
    "  <img src=\"./fig/SCPython.png\" alt=\"Scientific Computing with Python\" style=\"width:100%\">\n",
    "  </div>\n",
    "</div>"
   ]
  },
  {
   "cell_type": "markdown",
   "metadata": {
    "id": "4ppropFoS7gG"
   },
   "source": [
    "## Setup"
   ]
  },
  {
   "cell_type": "code",
   "execution_count": 5,
   "metadata": {
    "colab": {
     "base_uri": "https://localhost:8080/",
     "height": 17
    },
    "id": "CuidyNODS7gG",
    "outputId": "c0bc4472-6503-4002-bcac-f976baac1302"
   },
   "outputs": [
    {
     "data": {
      "text/html": [
       "<style>\n",
       "    .div-red {\n",
       "        background-color: #EE2A35;\n",
       "    }\n",
       "\n",
       "    .div-green {\n",
       "    \tbackground-color: #009736;\n",
       "    }\n",
       "\n",
       "    .div-black {\n",
       "    \tbackground-color: #000000;\n",
       "    }\n",
       "    .div-white {\n",
       "    \tbackground-color: #FFFFFF;\n",
       "    }\n",
       "    h1 {\n",
       "      color: #EE2A35;\n",
       "    }\n",
       "    h2 {\n",
       "      color: #009736;\n",
       "    }\n",
       "</style>\n"
      ],
      "text/plain": [
       "<IPython.core.display.HTML object>"
      ]
     },
     "metadata": {},
     "output_type": "display_data"
    }
   ],
   "source": [
    "%load_ext watermark"
   ]
  },
  {
   "cell_type": "code",
   "execution_count": 6,
   "metadata": {
    "colab": {
     "base_uri": "https://localhost:8080/",
     "height": 274
    },
    "id": "bzBUfSKDS7gH",
    "outputId": "34aae25f-7743-4d78-870c-1de07d1e60c4",
    "scrolled": true
   },
   "outputs": [
    {
     "data": {
      "text/html": [
       "<style>\n",
       "    .div-red {\n",
       "        background-color: #EE2A35;\n",
       "    }\n",
       "\n",
       "    .div-green {\n",
       "    \tbackground-color: #009736;\n",
       "    }\n",
       "\n",
       "    .div-black {\n",
       "    \tbackground-color: #000000;\n",
       "    }\n",
       "    .div-white {\n",
       "    \tbackground-color: #FFFFFF;\n",
       "    }\n",
       "    h1 {\n",
       "      color: #EE2A35;\n",
       "    }\n",
       "    h2 {\n",
       "      color: #009736;\n",
       "    }\n",
       "</style>\n"
      ],
      "text/plain": [
       "<IPython.core.display.HTML object>"
      ]
     },
     "metadata": {},
     "output_type": "display_data"
    },
    {
     "name": "stdout",
     "output_type": "stream",
     "text": [
      "Last updated: 2023-10-24T10:06:56.419909-04:00\n",
      "\n",
      "Python implementation: CPython\n",
      "Python version       : 3.11.6\n",
      "IPython version      : 8.14.0\n",
      "\n",
      "Compiler    : Clang 11.0.3 (clang-1103.0.32.62)\n",
      "OS          : Darwin\n",
      "Release     : 19.6.0\n",
      "Machine     : x86_64\n",
      "Processor   : i386\n",
      "CPU cores   : 8\n",
      "Architecture: 64bit\n",
      "\n"
     ]
    }
   ],
   "source": [
    "%watermark"
   ]
  },
  {
   "cell_type": "code",
   "execution_count": 7,
   "metadata": {
    "colab": {
     "base_uri": "https://localhost:8080/",
     "height": 17
    },
    "id": "rfD2Wgq3S7gJ",
    "outputId": "0fe77c8b-ba3f-480e-b438-37bb5627bfbf"
   },
   "outputs": [
    {
     "data": {
      "text/html": [
       "<style>\n",
       "    .div-red {\n",
       "        background-color: #EE2A35;\n",
       "    }\n",
       "\n",
       "    .div-green {\n",
       "    \tbackground-color: #009736;\n",
       "    }\n",
       "\n",
       "    .div-black {\n",
       "    \tbackground-color: #000000;\n",
       "    }\n",
       "    .div-white {\n",
       "    \tbackground-color: #FFFFFF;\n",
       "    }\n",
       "    h1 {\n",
       "      color: #EE2A35;\n",
       "    }\n",
       "    h2 {\n",
       "      color: #009736;\n",
       "    }\n",
       "</style>\n"
      ],
      "text/plain": [
       "<IPython.core.display.HTML object>"
      ]
     },
     "metadata": {},
     "output_type": "display_data"
    }
   ],
   "source": [
    "import os\n",
    "import time\n",
    "start = time.time()\n",
    "chapter_number = 3\n",
    "import matplotlib\n",
    "%matplotlib inline\n",
    "%load_ext autoreload\n",
    "%autoreload 2\n",
    "import matplotlib.pyplot as plt"
   ]
  },
  {
   "cell_type": "code",
   "execution_count": 8,
   "metadata": {
    "colab": {
     "base_uri": "https://localhost:8080/",
     "height": 17
    },
    "id": "hBgb3NPhS7gK",
    "outputId": "f431061a-4d3b-4821-d66e-2d7618099600"
   },
   "outputs": [
    {
     "data": {
      "text/html": [
       "<style>\n",
       "    .div-red {\n",
       "        background-color: #EE2A35;\n",
       "    }\n",
       "\n",
       "    .div-green {\n",
       "    \tbackground-color: #009736;\n",
       "    }\n",
       "\n",
       "    .div-black {\n",
       "    \tbackground-color: #000000;\n",
       "    }\n",
       "    .div-white {\n",
       "    \tbackground-color: #FFFFFF;\n",
       "    }\n",
       "    h1 {\n",
       "      color: #EE2A35;\n",
       "    }\n",
       "    h2 {\n",
       "      color: #009736;\n",
       "    }\n",
       "</style>\n"
      ],
      "text/plain": [
       "<IPython.core.display.HTML object>"
      ]
     },
     "metadata": {},
     "output_type": "display_data"
    }
   ],
   "source": [
    "import numpy as np\n",
    "import sklearn"
   ]
  },
  {
   "cell_type": "code",
   "execution_count": 9,
   "metadata": {
    "colab": {
     "base_uri": "https://localhost:8080/",
     "height": 90
    },
    "id": "iS88Q80rS7gL",
    "outputId": "71caf149-b634-4280-f145-a2b12366cb65",
    "scrolled": true
   },
   "outputs": [
    {
     "data": {
      "text/html": [
       "<style>\n",
       "    .div-red {\n",
       "        background-color: #EE2A35;\n",
       "    }\n",
       "\n",
       "    .div-green {\n",
       "    \tbackground-color: #009736;\n",
       "    }\n",
       "\n",
       "    .div-black {\n",
       "    \tbackground-color: #000000;\n",
       "    }\n",
       "    .div-white {\n",
       "    \tbackground-color: #FFFFFF;\n",
       "    }\n",
       "    h1 {\n",
       "      color: #EE2A35;\n",
       "    }\n",
       "    h2 {\n",
       "      color: #009736;\n",
       "    }\n",
       "</style>\n"
      ],
      "text/plain": [
       "<IPython.core.display.HTML object>"
      ]
     },
     "metadata": {},
     "output_type": "display_data"
    },
    {
     "name": "stdout",
     "output_type": "stream",
     "text": [
      "numpy     : 1.25.2\n",
      "matplotlib: 3.8.0\n",
      "sklearn   : 1.3.0\n",
      "\n"
     ]
    }
   ],
   "source": [
    "%watermark -iv"
   ]
  },
  {
   "cell_type": "markdown",
   "metadata": {
    "id": "kdtzxt7pS7gM"
   },
   "source": [
    "# Where we are on the map?\n",
    "\n",
    "<img src=\"https://github.com/romerogroup/Notebooks_4SIAH/blob/main/Machine_Learning/fig/ml_map.png?raw=1\" width=\"800\" title=\"Precision vs Recall\" alt=\"Precision vs Recall\"></a>"
   ]
  },
  {
   "cell_type": "markdown",
   "metadata": {
    "id": "j1HCctsIS7gN"
   },
   "source": [
    "# Classification"
   ]
  },
  {
   "cell_type": "markdown",
   "metadata": {
    "id": "ViXK8d1rS7gN"
   },
   "source": [
    "Classification and Regression are the foundations of many of the algorithms for Machine Learning, particularly supervised learning. In this case, the problem is to identify to which class or category new data belongs once we have trained the model with a set of data for which we know the output labels.\n",
    "\n",
    "In machine learning and statistics, classification is the problem of identifying to which of a set of categories (sub-populations) a new observation belongs, based on a training set of data containing observations (or instances) whose category membership is known.\n",
    "\n",
    "The following exercise provides a nice introduction to many of the relevant concepts in classification, some of them still valid when moving into the prediction of continuum values in regression problems."
   ]
  },
  {
   "cell_type": "markdown",
   "metadata": {
    "id": "xVJva3F0S7gN"
   },
   "source": [
    "# MNIST database\n",
    "\n",
    "The MNIST database of handwritten digits, available from the link below, has a training set of 60,000 examples, and a test set of 10,000 examples. It is a subset of a larger set available from NIST. The digits have been size-normalized and centered in a fixed-size image. It is a good database for people who want to try learning techniques and pattern recognition methods on real-world data while spending minimal effort on preprocessing and formatting\n",
    "\n",
    "Many methods have been tested with this training set and test set. For more information about the original datasets from NIST see [Yann LeCun Website](http://yann.lecun.com/exdb/mnist/)"
   ]
  },
  {
   "cell_type": "code",
   "execution_count": 10,
   "metadata": {
    "colab": {
     "base_uri": "https://localhost:8080/",
     "height": 17
    },
    "id": "MgGhKD0TS7gN",
    "outputId": "39f48377-5851-4616-f4fb-fda1a67c1442"
   },
   "outputs": [
    {
     "data": {
      "text/html": [
       "<style>\n",
       "    .div-red {\n",
       "        background-color: #EE2A35;\n",
       "    }\n",
       "\n",
       "    .div-green {\n",
       "    \tbackground-color: #009736;\n",
       "    }\n",
       "\n",
       "    .div-black {\n",
       "    \tbackground-color: #000000;\n",
       "    }\n",
       "    .div-white {\n",
       "    \tbackground-color: #FFFFFF;\n",
       "    }\n",
       "    h1 {\n",
       "      color: #EE2A35;\n",
       "    }\n",
       "    h2 {\n",
       "      color: #009736;\n",
       "    }\n",
       "</style>\n"
      ],
      "text/plain": [
       "<IPython.core.display.HTML object>"
      ]
     },
     "metadata": {},
     "output_type": "display_data"
    }
   ],
   "source": [
    "# With internet access the dataset can be downloaded from OpenML.org\n",
    "#from sklearn.datasets import fetch_openml\n",
    "#mnist = fetch_openml('mnist_784', version=1, data_home=\"./openml/openml.org/\", cache=True, n_retries=1)\n",
    "#mnist.keys()"
   ]
  },
  {
   "cell_type": "code",
   "execution_count": 11,
   "metadata": {
    "colab": {
     "base_uri": "https://localhost:8080/",
     "height": 17
    },
    "id": "cTKsXFeZS7gO",
    "outputId": "dccae0e6-a136-4a52-f64b-397947c9c8dc"
   },
   "outputs": [
    {
     "data": {
      "text/html": [
       "<style>\n",
       "    .div-red {\n",
       "        background-color: #EE2A35;\n",
       "    }\n",
       "\n",
       "    .div-green {\n",
       "    \tbackground-color: #009736;\n",
       "    }\n",
       "\n",
       "    .div-black {\n",
       "    \tbackground-color: #000000;\n",
       "    }\n",
       "    .div-white {\n",
       "    \tbackground-color: #FFFFFF;\n",
       "    }\n",
       "    h1 {\n",
       "      color: #EE2A35;\n",
       "    }\n",
       "    h2 {\n",
       "      color: #009736;\n",
       "    }\n",
       "</style>\n"
      ],
      "text/plain": [
       "<IPython.core.display.HTML object>"
      ]
     },
     "metadata": {},
     "output_type": "display_data"
    }
   ],
   "source": [
    "import os\n",
    "import gzip\n",
    "from scipy.io import arff\n",
    "import pandas as pd\n",
    "import requests"
   ]
  },
  {
   "cell_type": "code",
   "execution_count": 12,
   "metadata": {
    "colab": {
     "base_uri": "https://localhost:8080/",
     "height": 17
    },
    "id": "0wISEgUqUvOK",
    "outputId": "126a837b-25bc-425e-cc97-88b247b27d29"
   },
   "outputs": [
    {
     "data": {
      "text/html": [
       "<style>\n",
       "    .div-red {\n",
       "        background-color: #EE2A35;\n",
       "    }\n",
       "\n",
       "    .div-green {\n",
       "    \tbackground-color: #009736;\n",
       "    }\n",
       "\n",
       "    .div-black {\n",
       "    \tbackground-color: #000000;\n",
       "    }\n",
       "    .div-white {\n",
       "    \tbackground-color: #FFFFFF;\n",
       "    }\n",
       "    h1 {\n",
       "      color: #EE2A35;\n",
       "    }\n",
       "    h2 {\n",
       "      color: #009736;\n",
       "    }\n",
       "</style>\n"
      ],
      "text/plain": [
       "<IPython.core.display.HTML object>"
      ]
     },
     "metadata": {},
     "output_type": "display_data"
    }
   ],
   "source": [
    "if not os.path.exists('data'):\n",
    "  os.mkdir('data')"
   ]
  },
  {
   "cell_type": "code",
   "execution_count": 13,
   "metadata": {
    "colab": {
     "base_uri": "https://localhost:8080/",
     "height": 17
    },
    "id": "Aqj2a5egS7gO",
    "outputId": "2c8b337c-f323-4eb0-8272-b9cd658b79d1"
   },
   "outputs": [
    {
     "data": {
      "text/html": [
       "<style>\n",
       "    .div-red {\n",
       "        background-color: #EE2A35;\n",
       "    }\n",
       "\n",
       "    .div-green {\n",
       "    \tbackground-color: #009736;\n",
       "    }\n",
       "\n",
       "    .div-black {\n",
       "    \tbackground-color: #000000;\n",
       "    }\n",
       "    .div-white {\n",
       "    \tbackground-color: #FFFFFF;\n",
       "    }\n",
       "    h1 {\n",
       "      color: #EE2A35;\n",
       "    }\n",
       "    h2 {\n",
       "      color: #009736;\n",
       "    }\n",
       "</style>\n"
      ],
      "text/plain": [
       "<IPython.core.display.HTML object>"
      ]
     },
     "metadata": {},
     "output_type": "display_data"
    }
   ],
   "source": [
    "!if [ ! -f data/mnist_784.arff ]; then wget \"https://www.openml.org/data/download/52667/mnist_784.arff\" -O ./data/mnist_784.arff; fi"
   ]
  },
  {
   "cell_type": "code",
   "execution_count": 14,
   "metadata": {
    "colab": {
     "base_uri": "https://localhost:8080/",
     "height": 17
    },
    "id": "-IwmMsC8S7gP",
    "outputId": "1f0f4960-3e7d-4a07-80c1-d132b5b2b649"
   },
   "outputs": [
    {
     "data": {
      "text/html": [
       "<style>\n",
       "    .div-red {\n",
       "        background-color: #EE2A35;\n",
       "    }\n",
       "\n",
       "    .div-green {\n",
       "    \tbackground-color: #009736;\n",
       "    }\n",
       "\n",
       "    .div-black {\n",
       "    \tbackground-color: #000000;\n",
       "    }\n",
       "    .div-white {\n",
       "    \tbackground-color: #FFFFFF;\n",
       "    }\n",
       "    h1 {\n",
       "      color: #EE2A35;\n",
       "    }\n",
       "    h2 {\n",
       "      color: #009736;\n",
       "    }\n",
       "</style>\n"
      ],
      "text/plain": [
       "<IPython.core.display.HTML object>"
      ]
     },
     "metadata": {},
     "output_type": "display_data"
    }
   ],
   "source": [
    "filename_gz = \"./data/mnist_784.arff.gz\"\n",
    "filename = \"./data/mnist_784.arff\"\n",
    "url = \"https://www.openml.org/data/download/52667/mnist_784.arff\"\n",
    "if os.path.isfile(filename_gz):\n",
    "    arff_file = gzip.open(filename,'rt')\n",
    "elif os.path.isfile(filename):\n",
    "    arff_file = open(filename)\n",
    "else:\n",
    "    raise ValueError(\"File not found: mnist_784.arff\")\n",
    "data, meta = arff.loadarff(arff_file)"
   ]
  },
  {
   "cell_type": "code",
   "execution_count": 15,
   "metadata": {
    "colab": {
     "base_uri": "https://localhost:8080/",
     "height": 17
    },
    "id": "Dr2nfAYjS7gQ",
    "outputId": "630a44c4-bccb-47db-b983-bceda3b9949d"
   },
   "outputs": [
    {
     "data": {
      "text/html": [
       "<style>\n",
       "    .div-red {\n",
       "        background-color: #EE2A35;\n",
       "    }\n",
       "\n",
       "    .div-green {\n",
       "    \tbackground-color: #009736;\n",
       "    }\n",
       "\n",
       "    .div-black {\n",
       "    \tbackground-color: #000000;\n",
       "    }\n",
       "    .div-white {\n",
       "    \tbackground-color: #FFFFFF;\n",
       "    }\n",
       "    h1 {\n",
       "      color: #EE2A35;\n",
       "    }\n",
       "    h2 {\n",
       "      color: #009736;\n",
       "    }\n",
       "</style>\n"
      ],
      "text/plain": [
       "<IPython.core.display.HTML object>"
      ]
     },
     "metadata": {},
     "output_type": "display_data"
    }
   ],
   "source": [
    "df=pd.DataFrame(data)"
   ]
  },
  {
   "cell_type": "code",
   "execution_count": 16,
   "metadata": {
    "colab": {
     "base_uri": "https://localhost:8080/",
     "height": 17
    },
    "id": "LdLOg7JlS7gR",
    "outputId": "3914a336-04d5-434c-db63-0b22c4c3ac37",
    "scrolled": true
   },
   "outputs": [
    {
     "data": {
      "text/html": [
       "<style>\n",
       "    .div-red {\n",
       "        background-color: #EE2A35;\n",
       "    }\n",
       "\n",
       "    .div-green {\n",
       "    \tbackground-color: #009736;\n",
       "    }\n",
       "\n",
       "    .div-black {\n",
       "    \tbackground-color: #000000;\n",
       "    }\n",
       "    .div-white {\n",
       "    \tbackground-color: #FFFFFF;\n",
       "    }\n",
       "    h1 {\n",
       "      color: #EE2A35;\n",
       "    }\n",
       "    h2 {\n",
       "      color: #009736;\n",
       "    }\n",
       "</style>\n"
      ],
      "text/plain": [
       "<IPython.core.display.HTML object>"
      ]
     },
     "metadata": {},
     "output_type": "display_data"
    }
   ],
   "source": [
    "mnist = {}\n",
    "mnist['data'] = df.drop('class', axis=1).astype('uint8')\n",
    "mnist['target'] = df['class'].astype('uint8')"
   ]
  },
  {
   "cell_type": "code",
   "execution_count": 17,
   "metadata": {
    "colab": {
     "base_uri": "https://localhost:8080/",
     "height": 35
    },
    "id": "6JPtzz7fS7gR",
    "outputId": "eb9ef2bd-d548-4f6b-ed0d-f0616846aecd"
   },
   "outputs": [
    {
     "data": {
      "text/html": [
       "<style>\n",
       "    .div-red {\n",
       "        background-color: #EE2A35;\n",
       "    }\n",
       "\n",
       "    .div-green {\n",
       "    \tbackground-color: #009736;\n",
       "    }\n",
       "\n",
       "    .div-black {\n",
       "    \tbackground-color: #000000;\n",
       "    }\n",
       "    .div-white {\n",
       "    \tbackground-color: #FFFFFF;\n",
       "    }\n",
       "    h1 {\n",
       "      color: #EE2A35;\n",
       "    }\n",
       "    h2 {\n",
       "      color: #009736;\n",
       "    }\n",
       "</style>\n"
      ],
      "text/plain": [
       "<IPython.core.display.HTML object>"
      ]
     },
     "metadata": {},
     "output_type": "display_data"
    },
    {
     "data": {
      "text/plain": [
       "(70000, 784)"
      ]
     },
     "execution_count": 17,
     "metadata": {},
     "output_type": "execute_result"
    }
   ],
   "source": [
    "X, y = mnist[\"data\"], mnist[\"target\"]\n",
    "X.shape"
   ]
  },
  {
   "cell_type": "code",
   "execution_count": 18,
   "metadata": {
    "colab": {
     "base_uri": "https://localhost:8080/",
     "height": 35
    },
    "id": "k6dXmGexS7gS",
    "outputId": "9d2694df-39c4-4da9-b374-16d5ccc1ea3e"
   },
   "outputs": [
    {
     "data": {
      "text/html": [
       "<style>\n",
       "    .div-red {\n",
       "        background-color: #EE2A35;\n",
       "    }\n",
       "\n",
       "    .div-green {\n",
       "    \tbackground-color: #009736;\n",
       "    }\n",
       "\n",
       "    .div-black {\n",
       "    \tbackground-color: #000000;\n",
       "    }\n",
       "    .div-white {\n",
       "    \tbackground-color: #FFFFFF;\n",
       "    }\n",
       "    h1 {\n",
       "      color: #EE2A35;\n",
       "    }\n",
       "    h2 {\n",
       "      color: #009736;\n",
       "    }\n",
       "</style>\n"
      ],
      "text/plain": [
       "<IPython.core.display.HTML object>"
      ]
     },
     "metadata": {},
     "output_type": "display_data"
    },
    {
     "data": {
      "text/plain": [
       "(70000,)"
      ]
     },
     "execution_count": 18,
     "metadata": {},
     "output_type": "execute_result"
    }
   ],
   "source": [
    "y.shape"
   ]
  },
  {
   "cell_type": "code",
   "execution_count": 19,
   "metadata": {
    "colab": {
     "base_uri": "https://localhost:8080/",
     "height": 35
    },
    "id": "RaapBqIKS7gT",
    "outputId": "9070dc6c-0d04-46cd-c490-d768286e0787"
   },
   "outputs": [
    {
     "data": {
      "text/html": [
       "<style>\n",
       "    .div-red {\n",
       "        background-color: #EE2A35;\n",
       "    }\n",
       "\n",
       "    .div-green {\n",
       "    \tbackground-color: #009736;\n",
       "    }\n",
       "\n",
       "    .div-black {\n",
       "    \tbackground-color: #000000;\n",
       "    }\n",
       "    .div-white {\n",
       "    \tbackground-color: #FFFFFF;\n",
       "    }\n",
       "    h1 {\n",
       "      color: #EE2A35;\n",
       "    }\n",
       "    h2 {\n",
       "      color: #009736;\n",
       "    }\n",
       "</style>\n"
      ],
      "text/plain": [
       "<IPython.core.display.HTML object>"
      ]
     },
     "metadata": {},
     "output_type": "display_data"
    },
    {
     "data": {
      "text/plain": [
       "pandas.core.frame.DataFrame"
      ]
     },
     "execution_count": 19,
     "metadata": {},
     "output_type": "execute_result"
    }
   ],
   "source": [
    "type(X)"
   ]
  },
  {
   "cell_type": "code",
   "execution_count": 20,
   "metadata": {
    "colab": {
     "base_uri": "https://localhost:8080/",
     "height": 35
    },
    "id": "EhkAtzGgS7gT",
    "outputId": "6a9900c7-891a-4528-887d-093fa1ab0d5c"
   },
   "outputs": [
    {
     "data": {
      "text/html": [
       "<style>\n",
       "    .div-red {\n",
       "        background-color: #EE2A35;\n",
       "    }\n",
       "\n",
       "    .div-green {\n",
       "    \tbackground-color: #009736;\n",
       "    }\n",
       "\n",
       "    .div-black {\n",
       "    \tbackground-color: #000000;\n",
       "    }\n",
       "    .div-white {\n",
       "    \tbackground-color: #FFFFFF;\n",
       "    }\n",
       "    h1 {\n",
       "      color: #EE2A35;\n",
       "    }\n",
       "    h2 {\n",
       "      color: #009736;\n",
       "    }\n",
       "</style>\n"
      ],
      "text/plain": [
       "<IPython.core.display.HTML object>"
      ]
     },
     "metadata": {},
     "output_type": "display_data"
    },
    {
     "data": {
      "text/plain": [
       "pandas.core.series.Series"
      ]
     },
     "execution_count": 20,
     "metadata": {},
     "output_type": "execute_result"
    }
   ],
   "source": [
    "type(y)"
   ]
  },
  {
   "cell_type": "code",
   "execution_count": 21,
   "metadata": {
    "colab": {
     "base_uri": "https://localhost:8080/",
     "height": 17
    },
    "id": "jY3tIPQKS7gU",
    "outputId": "834e8caa-29f0-4ad6-f3b4-851882586387"
   },
   "outputs": [
    {
     "data": {
      "text/html": [
       "<style>\n",
       "    .div-red {\n",
       "        background-color: #EE2A35;\n",
       "    }\n",
       "\n",
       "    .div-green {\n",
       "    \tbackground-color: #009736;\n",
       "    }\n",
       "\n",
       "    .div-black {\n",
       "    \tbackground-color: #000000;\n",
       "    }\n",
       "    .div-white {\n",
       "    \tbackground-color: #FFFFFF;\n",
       "    }\n",
       "    h1 {\n",
       "      color: #EE2A35;\n",
       "    }\n",
       "    h2 {\n",
       "      color: #009736;\n",
       "    }\n",
       "</style>\n"
      ],
      "text/plain": [
       "<IPython.core.display.HTML object>"
      ]
     },
     "metadata": {},
     "output_type": "display_data"
    }
   ],
   "source": [
    "X=X.to_numpy()\n",
    "y=y.to_numpy()"
   ]
  },
  {
   "cell_type": "markdown",
   "metadata": {
    "id": "eKa_3CqmS7gU"
   },
   "source": [
    "Each image is a vector with 784 components corresponding to a matrix 28 x 28"
   ]
  },
  {
   "cell_type": "code",
   "execution_count": 22,
   "metadata": {
    "colab": {
     "base_uri": "https://localhost:8080/",
     "height": 35
    },
    "id": "l9WQnEkxS7gW",
    "outputId": "557d7e3b-dac0-463c-b9f1-9c77ee287c5d"
   },
   "outputs": [
    {
     "data": {
      "text/html": [
       "<style>\n",
       "    .div-red {\n",
       "        background-color: #EE2A35;\n",
       "    }\n",
       "\n",
       "    .div-green {\n",
       "    \tbackground-color: #009736;\n",
       "    }\n",
       "\n",
       "    .div-black {\n",
       "    \tbackground-color: #000000;\n",
       "    }\n",
       "    .div-white {\n",
       "    \tbackground-color: #FFFFFF;\n",
       "    }\n",
       "    h1 {\n",
       "      color: #EE2A35;\n",
       "    }\n",
       "    h2 {\n",
       "      color: #009736;\n",
       "    }\n",
       "</style>\n"
      ],
      "text/plain": [
       "<IPython.core.display.HTML object>"
      ]
     },
     "metadata": {},
     "output_type": "display_data"
    },
    {
     "data": {
      "text/plain": [
       "784"
      ]
     },
     "execution_count": 22,
     "metadata": {},
     "output_type": "execute_result"
    }
   ],
   "source": [
    "28 * 28"
   ]
  },
  {
   "cell_type": "code",
   "execution_count": 23,
   "metadata": {
    "colab": {
     "base_uri": "https://localhost:8080/",
     "height": 499
    },
    "id": "etqYbQA4S7gW",
    "outputId": "c5e6d3e7-086c-4db2-dd2e-63ff13ea281e"
   },
   "outputs": [
    {
     "data": {
      "text/html": [
       "<style>\n",
       "    .div-red {\n",
       "        background-color: #EE2A35;\n",
       "    }\n",
       "\n",
       "    .div-green {\n",
       "    \tbackground-color: #009736;\n",
       "    }\n",
       "\n",
       "    .div-black {\n",
       "    \tbackground-color: #000000;\n",
       "    }\n",
       "    .div-white {\n",
       "    \tbackground-color: #FFFFFF;\n",
       "    }\n",
       "    h1 {\n",
       "      color: #EE2A35;\n",
       "    }\n",
       "    h2 {\n",
       "      color: #009736;\n",
       "    }\n",
       "</style>\n"
      ],
      "text/plain": [
       "<IPython.core.display.HTML object>"
      ]
     },
     "metadata": {},
     "output_type": "display_data"
    },
    {
     "data": {
      "image/png": "[encoded data removed]",
      "text/plain": [
       "<Figure size 1600x600 with 40 Axes>"
      ]
     },
     "metadata": {},
     "output_type": "display_data"
    }
   ],
   "source": [
    "# Number of Rows\n",
    "rgrid=4\n",
    "# Number of Columns\n",
    "cgrid=10\n",
    "fig, axes = plt.subplots(rgrid,cgrid, figsize=(16,6))\n",
    "for i in range(rgrid):\n",
    "    for j in range(cgrid):\n",
    "        #print(i,j,cgrid*i+j)\n",
    "        axes[i,j].imshow(X[cgrid*i+j].reshape(28,28),interpolation='none',cmap='gray')\n",
    "        axes[i,j].xaxis.set_ticks_position('none')\n",
    "        axes[i,j].yaxis.set_ticks_position('none')\n",
    "        axes[i,j].set_yticklabels([])\n",
    "        axes[i,j].set_xticklabels([])"
   ]
  },
  {
   "cell_type": "code",
   "execution_count": 24,
   "metadata": {
    "colab": {
     "base_uri": "https://localhost:8080/",
     "height": 54
    },
    "id": "TmjtWz7mS7gW",
    "outputId": "d6cbb574-0aee-49d0-a286-b8094e0f61b7"
   },
   "outputs": [
    {
     "data": {
      "text/html": [
       "<style>\n",
       "    .div-red {\n",
       "        background-color: #EE2A35;\n",
       "    }\n",
       "\n",
       "    .div-green {\n",
       "    \tbackground-color: #009736;\n",
       "    }\n",
       "\n",
       "    .div-black {\n",
       "    \tbackground-color: #000000;\n",
       "    }\n",
       "    .div-white {\n",
       "    \tbackground-color: #FFFFFF;\n",
       "    }\n",
       "    h1 {\n",
       "      color: #EE2A35;\n",
       "    }\n",
       "    h2 {\n",
       "      color: #009736;\n",
       "    }\n",
       "</style>\n"
      ],
      "text/plain": [
       "<IPython.core.display.HTML object>"
      ]
     },
     "metadata": {},
     "output_type": "display_data"
    },
    {
     "data": {
      "text/plain": [
       "array([[5, 0, 4, 1, 9, 2],\n",
       "       [1, 3, 1, 4, 3, 5]], dtype=uint8)"
      ]
     },
     "execution_count": 24,
     "metadata": {},
     "output_type": "execute_result"
    }
   ],
   "source": [
    "y[:12].reshape(2,6)"
   ]
  },
  {
   "cell_type": "code",
   "execution_count": 25,
   "metadata": {
    "colab": {
     "base_uri": "https://localhost:8080/",
     "height": 17
    },
    "id": "J3i5CU6PS7gW",
    "outputId": "ecd02872-fb1b-463a-9787-9314b9cf123e"
   },
   "outputs": [
    {
     "data": {
      "text/html": [
       "<style>\n",
       "    .div-red {\n",
       "        background-color: #EE2A35;\n",
       "    }\n",
       "\n",
       "    .div-green {\n",
       "    \tbackground-color: #009736;\n",
       "    }\n",
       "\n",
       "    .div-black {\n",
       "    \tbackground-color: #000000;\n",
       "    }\n",
       "    .div-white {\n",
       "    \tbackground-color: #FFFFFF;\n",
       "    }\n",
       "    h1 {\n",
       "      color: #EE2A35;\n",
       "    }\n",
       "    h2 {\n",
       "      color: #009736;\n",
       "    }\n",
       "</style>\n"
      ],
      "text/plain": [
       "<IPython.core.display.HTML object>"
      ]
     },
     "metadata": {},
     "output_type": "display_data"
    }
   ],
   "source": [
    "y = y.astype(np.uint8)"
   ]
  },
  {
   "cell_type": "code",
   "execution_count": 26,
   "metadata": {
    "colab": {
     "base_uri": "https://localhost:8080/",
     "height": 17
    },
    "id": "3OjXweimS7gX",
    "outputId": "98285c69-e810-45ce-878f-d12d85e48b13"
   },
   "outputs": [
    {
     "data": {
      "text/html": [
       "<style>\n",
       "    .div-red {\n",
       "        background-color: #EE2A35;\n",
       "    }\n",
       "\n",
       "    .div-green {\n",
       "    \tbackground-color: #009736;\n",
       "    }\n",
       "\n",
       "    .div-black {\n",
       "    \tbackground-color: #000000;\n",
       "    }\n",
       "    .div-white {\n",
       "    \tbackground-color: #FFFFFF;\n",
       "    }\n",
       "    h1 {\n",
       "      color: #EE2A35;\n",
       "    }\n",
       "    h2 {\n",
       "      color: #009736;\n",
       "    }\n",
       "</style>\n"
      ],
      "text/plain": [
       "<IPython.core.display.HTML object>"
      ]
     },
     "metadata": {},
     "output_type": "display_data"
    }
   ],
   "source": [
    "def plot_digit(data):\n",
    "    image = data.reshape(28, 28)\n",
    "    plt.imshow(image, cmap = matplotlib.cm.binary,\n",
    "               interpolation=\"nearest\")\n",
    "    plt.axis(\"off\");\n",
    "\n",
    "def plot_digits(instances, images_per_row=10, **options):\n",
    "    size = 28\n",
    "    images_per_row = min(len(instances), images_per_row)\n",
    "    images = [instance.reshape(size,size) for instance in instances]\n",
    "    n_rows = (len(instances) - 1) // images_per_row + 1\n",
    "    row_images = []\n",
    "    n_empty = n_rows * images_per_row - len(instances)\n",
    "    images.append(np.zeros((size, size * n_empty)))\n",
    "    for row in range(n_rows):\n",
    "        rimages = images[row * images_per_row : (row + 1) * images_per_row]\n",
    "        row_images.append(np.concatenate(rimages, axis=1))\n",
    "    image = np.concatenate(row_images, axis=0)\n",
    "    plt.imshow(image, cmap = matplotlib.cm.binary, **options)\n",
    "    plt.axis(\"off\");"
   ]
  },
  {
   "cell_type": "code",
   "execution_count": 27,
   "metadata": {
    "colab": {
     "base_uri": "https://localhost:8080/",
     "height": 730
    },
    "id": "bEAFvOHoS7gX",
    "outputId": "40427ae3-d5d2-4d10-f670-ab083cff182f"
   },
   "outputs": [
    {
     "data": {
      "text/html": [
       "<style>\n",
       "    .div-red {\n",
       "        background-color: #EE2A35;\n",
       "    }\n",
       "\n",
       "    .div-green {\n",
       "    \tbackground-color: #009736;\n",
       "    }\n",
       "\n",
       "    .div-black {\n",
       "    \tbackground-color: #000000;\n",
       "    }\n",
       "    .div-white {\n",
       "    \tbackground-color: #FFFFFF;\n",
       "    }\n",
       "    h1 {\n",
       "      color: #EE2A35;\n",
       "    }\n",
       "    h2 {\n",
       "      color: #009736;\n",
       "    }\n",
       "</style>\n"
      ],
      "text/plain": [
       "<IPython.core.display.HTML object>"
      ]
     },
     "metadata": {},
     "output_type": "display_data"
    },
    {
     "data": {
      "image/png": "[encoded data removed]",
      "text/plain": [
       "<Figure size 900x900 with 1 Axes>"
      ]
     },
     "metadata": {},
     "output_type": "display_data"
    }
   ],
   "source": [
    "plt.figure(figsize=(9,9))\n",
    "example_images = X[:100]\n",
    "plot_digits(example_images, images_per_row=10)"
   ]
  },
  {
   "cell_type": "code",
   "execution_count": 28,
   "metadata": {
    "colab": {
     "base_uri": "https://localhost:8080/",
     "height": 35
    },
    "id": "OGLhYmfZS7gY",
    "outputId": "725c9103-91dd-44cc-a317-380cfa3c563a"
   },
   "outputs": [
    {
     "data": {
      "text/html": [
       "<style>\n",
       "    .div-red {\n",
       "        background-color: #EE2A35;\n",
       "    }\n",
       "\n",
       "    .div-green {\n",
       "    \tbackground-color: #009736;\n",
       "    }\n",
       "\n",
       "    .div-black {\n",
       "    \tbackground-color: #000000;\n",
       "    }\n",
       "    .div-white {\n",
       "    \tbackground-color: #FFFFFF;\n",
       "    }\n",
       "    h1 {\n",
       "      color: #EE2A35;\n",
       "    }\n",
       "    h2 {\n",
       "      color: #009736;\n",
       "    }\n",
       "</style>\n"
      ],
      "text/plain": [
       "<IPython.core.display.HTML object>"
      ]
     },
     "metadata": {},
     "output_type": "display_data"
    },
    {
     "data": {
      "text/plain": [
       "5"
      ]
     },
     "execution_count": 28,
     "metadata": {},
     "output_type": "execute_result"
    }
   ],
   "source": [
    "y[0]"
   ]
  },
  {
   "cell_type": "code",
   "execution_count": 29,
   "metadata": {
    "colab": {
     "base_uri": "https://localhost:8080/",
     "height": 17
    },
    "id": "BrSBx2mjS7gY",
    "outputId": "52cd4851-bb58-4104-a3da-05a319fff191"
   },
   "outputs": [
    {
     "data": {
      "text/html": [
       "<style>\n",
       "    .div-red {\n",
       "        background-color: #EE2A35;\n",
       "    }\n",
       "\n",
       "    .div-green {\n",
       "    \tbackground-color: #009736;\n",
       "    }\n",
       "\n",
       "    .div-black {\n",
       "    \tbackground-color: #000000;\n",
       "    }\n",
       "    .div-white {\n",
       "    \tbackground-color: #FFFFFF;\n",
       "    }\n",
       "    h1 {\n",
       "      color: #EE2A35;\n",
       "    }\n",
       "    h2 {\n",
       "      color: #009736;\n",
       "    }\n",
       "</style>\n"
      ],
      "text/plain": [
       "<IPython.core.display.HTML object>"
      ]
     },
     "metadata": {},
     "output_type": "display_data"
    }
   ],
   "source": [
    "X_train, X_test, y_train, y_test = X[:60000], X[60000:], y[:60000], y[60000:]"
   ]
  },
  {
   "cell_type": "markdown",
   "metadata": {
    "id": "Hy1lNuabS7gY"
   },
   "source": [
    "# Binary classifier\n",
    "\n",
    "Later we will attack the problem of classifying all the ten digits. For now let's focus on a more modest classification problem, where we will try to identify if a given number is 5 or not."
   ]
  },
  {
   "cell_type": "code",
   "execution_count": 30,
   "metadata": {
    "colab": {
     "base_uri": "https://localhost:8080/",
     "height": 17
    },
    "id": "FwBMSta3S7gZ",
    "outputId": "5628665b-7253-4c7b-f715-c2ec0cb7d55e"
   },
   "outputs": [
    {
     "data": {
      "text/html": [
       "<style>\n",
       "    .div-red {\n",
       "        background-color: #EE2A35;\n",
       "    }\n",
       "\n",
       "    .div-green {\n",
       "    \tbackground-color: #009736;\n",
       "    }\n",
       "\n",
       "    .div-black {\n",
       "    \tbackground-color: #000000;\n",
       "    }\n",
       "    .div-white {\n",
       "    \tbackground-color: #FFFFFF;\n",
       "    }\n",
       "    h1 {\n",
       "      color: #EE2A35;\n",
       "    }\n",
       "    h2 {\n",
       "      color: #009736;\n",
       "    }\n",
       "</style>\n"
      ],
      "text/plain": [
       "<IPython.core.display.HTML object>"
      ]
     },
     "metadata": {},
     "output_type": "display_data"
    }
   ],
   "source": [
    "y_train_5 = (y_train == 5)\n",
    "y_test_5 = (y_test == 5)"
   ]
  },
  {
   "cell_type": "markdown",
   "metadata": {
    "id": "7CBbu5nsS7gZ"
   },
   "source": [
    "**Note**: some hyperparameters will have a different default value in future versions of Scikit-Learn, such as `max_iter` and `tol`. To be future-proof, we explicitly set these hyperparameters to their future default values. For simplicity, this is not shown in the book."
   ]
  },
  {
   "cell_type": "markdown",
   "metadata": {
    "id": "axIGprDnS7gZ"
   },
   "source": [
    "There are several classifiers implemented in Scikit-Learn, the Stochastic gradient descent (SGD) `SGDClassifier` is a simple yet very efficient approach to fit linear models. While SGD is in reality an iterative method used to optimize the solution in an objective function with smooth properties but doing that stochastically, the classifier with SGD uses this method but now with a regularized linear model.\n",
    "It is particularly useful when the number of samples (and the number of features) is very large as it does not need to have the whole database in RAM. This process is then obtained by following the negative gradient of the objective after seeing only a single or a few training data.\n",
    "\n",
    "A nice discussion on the Stochastic gradient descent can be found at [SGD site](https://www.geeksforgeeks.org/ml-stochastic-gradient-descent-sgd/), where we have taken the figures below. Left-hand side represents a batch gradient descent where a batch of random data is used and right-hand side is the stochastic gradient descent where a single random sample has been used for each step."
   ]
  },
  {
   "cell_type": "markdown",
   "metadata": {
    "id": "P0TaZVCcS7gb"
   },
   "source": [
    "<table><tr><td><img src='https://github.com/romerogroup/Notebooks_4SIAH/blob/main/Machine_Learning/fig/gdp.png?raw=1' alt=\"Batch Gradient Descent\" style=\"width:60%\"></td><td><img src='https://github.com/romerogroup/Notebooks_4SIAH/blob/main/Machine_Learning/fig/gdp-1.jpg?raw=1' alt=\"Stochastic Gradient Descent\" style=\"width:60%\"></td></tr></table>\n",
    "</a>"
   ]
  },
  {
   "cell_type": "markdown",
   "metadata": {
    "id": "Z9nKg-rBS7gb"
   },
   "source": [
    "Right now the point is to get a black box that does classification for us."
   ]
  },
  {
   "cell_type": "code",
   "execution_count": 31,
   "metadata": {
    "colab": {
     "base_uri": "https://localhost:8080/",
     "height": 75
    },
    "id": "iaOzh-XES7gb",
    "outputId": "f671e2ed-21b1-42cd-8994-5f34a87a7718"
   },
   "outputs": [
    {
     "data": {
      "text/html": [
       "<style>\n",
       "    .div-red {\n",
       "        background-color: #EE2A35;\n",
       "    }\n",
       "\n",
       "    .div-green {\n",
       "    \tbackground-color: #009736;\n",
       "    }\n",
       "\n",
       "    .div-black {\n",
       "    \tbackground-color: #000000;\n",
       "    }\n",
       "    .div-white {\n",
       "    \tbackground-color: #FFFFFF;\n",
       "    }\n",
       "    h1 {\n",
       "      color: #EE2A35;\n",
       "    }\n",
       "    h2 {\n",
       "      color: #009736;\n",
       "    }\n",
       "</style>\n"
      ],
      "text/plain": [
       "<IPython.core.display.HTML object>"
      ]
     },
     "metadata": {},
     "output_type": "display_data"
    },
    {
     "data": {
      "text/html": [
       "<style>#sk-container-id-1 {color: black;}#sk-container-id-1 pre{padding: 0;}#sk-container-id-1 div.sk-toggleable {background-color: white;}#sk-container-id-1 label.sk-toggleable__label {cursor: pointer;display: block;width: 100%;margin-bottom: 0;padding: 0.3em;box-sizing: border-box;text-align: center;}#sk-container-id-1 label.sk-toggleable__label-arrow:before {content: \"▸\";float: left;margin-right: 0.25em;color: #696969;}#sk-container-id-1 label.sk-toggleable__label-arrow:hover:before {color: black;}#sk-container-id-1 div.sk-estimator:hover label.sk-toggleable__label-arrow:before {color: black;}#sk-container-id-1 div.sk-toggleable__content {max-height: 0;max-width: 0;overflow: hidden;text-align: left;background-color: #f0f8ff;}#sk-container-id-1 div.sk-toggleable__content pre {margin: 0.2em;color: black;border-radius: 0.25em;background-color: #f0f8ff;}#sk-container-id-1 input.sk-toggleable__control:checked~div.sk-toggleable__content {max-height: 200px;max-width: 100%;overflow: auto;}#sk-container-id-1 input.sk-toggleable__control:checked~label.sk-toggleable__label-arrow:before {content: \"▾\";}#sk-container-id-1 div.sk-estimator input.sk-toggleable__control:checked~label.sk-toggleable__label {background-color: #d4ebff;}#sk-container-id-1 div.sk-label input.sk-toggleable__control:checked~label.sk-toggleable__label {background-color: #d4ebff;}#sk-container-id-1 input.sk-hidden--visually {border: 0;clip: rect(1px 1px 1px 1px);clip: rect(1px, 1px, 1px, 1px);height: 1px;margin: -1px;overflow: hidden;padding: 0;position: absolute;width: 1px;}#sk-container-id-1 div.sk-estimator {font-family: monospace;background-color: #f0f8ff;border: 1px dotted black;border-radius: 0.25em;box-sizing: border-box;margin-bottom: 0.5em;}#sk-container-id-1 div.sk-estimator:hover {background-color: #d4ebff;}#sk-container-id-1 div.sk-parallel-item::after {content: \"\";width: 100%;border-bottom: 1px solid gray;flex-grow: 1;}#sk-container-id-1 div.sk-label:hover label.sk-toggleable__label {background-color: #d4ebff;}#sk-container-id-1 div.sk-serial::before {content: \"\";position: absolute;border-left: 1px solid gray;box-sizing: border-box;top: 0;bottom: 0;left: 50%;z-index: 0;}#sk-container-id-1 div.sk-serial {display: flex;flex-direction: column;align-items: center;background-color: white;padding-right: 0.2em;padding-left: 0.2em;position: relative;}#sk-container-id-1 div.sk-item {position: relative;z-index: 1;}#sk-container-id-1 div.sk-parallel {display: flex;align-items: stretch;justify-content: center;background-color: white;position: relative;}#sk-container-id-1 div.sk-item::before, #sk-container-id-1 div.sk-parallel-item::before {content: \"\";position: absolute;border-left: 1px solid gray;box-sizing: border-box;top: 0;bottom: 0;left: 50%;z-index: -1;}#sk-container-id-1 div.sk-parallel-item {display: flex;flex-direction: column;z-index: 1;position: relative;background-color: white;}#sk-container-id-1 div.sk-parallel-item:first-child::after {align-self: flex-end;width: 50%;}#sk-container-id-1 div.sk-parallel-item:last-child::after {align-self: flex-start;width: 50%;}#sk-container-id-1 div.sk-parallel-item:only-child::after {width: 0;}#sk-container-id-1 div.sk-dashed-wrapped {border: 1px dashed gray;margin: 0 0.4em 0.5em 0.4em;box-sizing: border-box;padding-bottom: 0.4em;background-color: white;}#sk-container-id-1 div.sk-label label {font-family: monospace;font-weight: bold;display: inline-block;line-height: 1.2em;}#sk-container-id-1 div.sk-label-container {text-align: center;}#sk-container-id-1 div.sk-container {/* jupyter's `normalize.less` sets `[hidden] { display: none; }` but bootstrap.min.css set `[hidden] { display: none !important; }` so we also need the `!important` here to be able to override the default hidden behavior on the sphinx rendered scikit-learn.org. See: https://github.com/scikit-learn/scikit-learn/issues/21755 */display: inline-block !important;position: relative;}#sk-container-id-1 div.sk-text-repr-fallback {display: none;}</style><div id=\"sk-container-id-1\" class=\"sk-top-container\"><div class=\"sk-text-repr-fallback\"><pre>SGDClassifier(random_state=42)</pre><b>In a Jupyter environment, please rerun this cell to show the HTML representation or trust the notebook. <br />On GitHub, the HTML representation is unable to render, please try loading this page with nbviewer.org.</b></div><div class=\"sk-container\" hidden><div class=\"sk-item\"><div class=\"sk-estimator sk-toggleable\"><input class=\"sk-toggleable__control sk-hidden--visually\" id=\"sk-estimator-id-1\" type=\"checkbox\" checked><label for=\"sk-estimator-id-1\" class=\"sk-toggleable__label sk-toggleable__label-arrow\">SGDClassifier</label><div class=\"sk-toggleable__content\"><pre>SGDClassifier(random_state=42)</pre></div></div></div></div></div>"
      ],
      "text/plain": [
       "SGDClassifier(random_state=42)"
      ]
     },
     "execution_count": 31,
     "metadata": {},
     "output_type": "execute_result"
    }
   ],
   "source": [
    "from sklearn.linear_model import SGDClassifier\n",
    "\n",
    "sgd_clf = SGDClassifier(max_iter=1000, tol=1e-3, random_state=42)\n",
    "sgd_clf.fit(X_train, y_train_5)"
   ]
  },
  {
   "cell_type": "code",
   "execution_count": 32,
   "metadata": {
    "colab": {
     "base_uri": "https://localhost:8080/",
     "height": 54
    },
    "id": "HS4qHKkgS7gb",
    "outputId": "b021d07b-4681-41d5-dbeb-99300ffd45cb"
   },
   "outputs": [
    {
     "data": {
      "text/html": [
       "<style>\n",
       "    .div-red {\n",
       "        background-color: #EE2A35;\n",
       "    }\n",
       "\n",
       "    .div-green {\n",
       "    \tbackground-color: #009736;\n",
       "    }\n",
       "\n",
       "    .div-black {\n",
       "    \tbackground-color: #000000;\n",
       "    }\n",
       "    .div-white {\n",
       "    \tbackground-color: #FFFFFF;\n",
       "    }\n",
       "    h1 {\n",
       "      color: #EE2A35;\n",
       "    }\n",
       "    h2 {\n",
       "      color: #009736;\n",
       "    }\n",
       "</style>\n"
      ],
      "text/plain": [
       "<IPython.core.display.HTML object>"
      ]
     },
     "metadata": {},
     "output_type": "display_data"
    },
    {
     "data": {
      "text/plain": [
       "array([ True, False, False, False, False, False, False, False, False,\n",
       "       False, False,  True])"
      ]
     },
     "execution_count": 32,
     "metadata": {},
     "output_type": "execute_result"
    }
   ],
   "source": [
    "sgd_clf.predict(X_train[:12])"
   ]
  },
  {
   "cell_type": "code",
   "execution_count": 33,
   "metadata": {
    "colab": {
     "base_uri": "https://localhost:8080/",
     "height": 35
    },
    "id": "SLTShpgBS7gc",
    "outputId": "d6181978-78fe-4cc4-ad3a-06349490d724"
   },
   "outputs": [
    {
     "data": {
      "text/html": [
       "<style>\n",
       "    .div-red {\n",
       "        background-color: #EE2A35;\n",
       "    }\n",
       "\n",
       "    .div-green {\n",
       "    \tbackground-color: #009736;\n",
       "    }\n",
       "\n",
       "    .div-black {\n",
       "    \tbackground-color: #000000;\n",
       "    }\n",
       "    .div-white {\n",
       "    \tbackground-color: #FFFFFF;\n",
       "    }\n",
       "    h1 {\n",
       "      color: #EE2A35;\n",
       "    }\n",
       "    h2 {\n",
       "      color: #009736;\n",
       "    }\n",
       "</style>\n"
      ],
      "text/plain": [
       "<IPython.core.display.HTML object>"
      ]
     },
     "metadata": {},
     "output_type": "display_data"
    },
    {
     "data": {
      "text/plain": [
       "array([5, 0, 4, 1, 9, 2, 1, 3, 1, 4, 3, 5], dtype=uint8)"
      ]
     },
     "execution_count": 33,
     "metadata": {},
     "output_type": "execute_result"
    }
   ],
   "source": [
    "y_train[:12]"
   ]
  },
  {
   "cell_type": "markdown",
   "metadata": {
    "id": "YvfUDeUKS7gc"
   },
   "source": [
    "We can see that indeed the classifier seems to work fine. How to quantify that?"
   ]
  },
  {
   "cell_type": "markdown",
   "metadata": {
    "id": "IWjUA48GS7gd"
   },
   "source": [
    "## Accuracy\n",
    "\n",
    "The first measure will be accuracy, the total number of right answers versus the total number of misses\n",
    "\n",
    "\\begin{equation}\n",
    "accuracy = \\frac{\\text{Total number of right answers}}{\\text{Total number of cases}}\n",
    "\\end{equation}\n",
    "\n",
    "We can do that for several subsets of the train set, in what is called **cross validation**"
   ]
  },
  {
   "cell_type": "code",
   "execution_count": 34,
   "metadata": {
    "colab": {
     "base_uri": "https://localhost:8080/",
     "height": 35
    },
    "id": "Of_o7Xm3S7gd",
    "outputId": "93faccb9-7c4c-46da-e6ab-59af27fc776b"
   },
   "outputs": [
    {
     "data": {
      "text/html": [
       "<style>\n",
       "    .div-red {\n",
       "        background-color: #EE2A35;\n",
       "    }\n",
       "\n",
       "    .div-green {\n",
       "    \tbackground-color: #009736;\n",
       "    }\n",
       "\n",
       "    .div-black {\n",
       "    \tbackground-color: #000000;\n",
       "    }\n",
       "    .div-white {\n",
       "    \tbackground-color: #FFFFFF;\n",
       "    }\n",
       "    h1 {\n",
       "      color: #EE2A35;\n",
       "    }\n",
       "    h2 {\n",
       "      color: #009736;\n",
       "    }\n",
       "</style>\n"
      ],
      "text/plain": [
       "<IPython.core.display.HTML object>"
      ]
     },
     "metadata": {},
     "output_type": "display_data"
    },
    {
     "data": {
      "text/plain": [
       "array([0.95035, 0.96035, 0.9604 ])"
      ]
     },
     "execution_count": 34,
     "metadata": {},
     "output_type": "execute_result"
    }
   ],
   "source": [
    "from sklearn.model_selection import cross_val_score\n",
    "cross_val_score(sgd_clf, X_train, y_train_5, cv=3, scoring=\"accuracy\")"
   ]
  },
  {
   "cell_type": "markdown",
   "metadata": {
    "id": "4mANJKrpS7gd"
   },
   "source": [
    "However, we can create a new classifier that always answers negatively no matter what vector is presented."
   ]
  },
  {
   "cell_type": "code",
   "execution_count": 35,
   "metadata": {
    "colab": {
     "base_uri": "https://localhost:8080/",
     "height": 17
    },
    "id": "Y1FWhTJYS7gd",
    "outputId": "acdfa3e0-8edb-44e8-9167-835fd95c636b"
   },
   "outputs": [
    {
     "data": {
      "text/html": [
       "<style>\n",
       "    .div-red {\n",
       "        background-color: #EE2A35;\n",
       "    }\n",
       "\n",
       "    .div-green {\n",
       "    \tbackground-color: #009736;\n",
       "    }\n",
       "\n",
       "    .div-black {\n",
       "    \tbackground-color: #000000;\n",
       "    }\n",
       "    .div-white {\n",
       "    \tbackground-color: #FFFFFF;\n",
       "    }\n",
       "    h1 {\n",
       "      color: #EE2A35;\n",
       "    }\n",
       "    h2 {\n",
       "      color: #009736;\n",
       "    }\n",
       "</style>\n"
      ],
      "text/plain": [
       "<IPython.core.display.HTML object>"
      ]
     },
     "metadata": {},
     "output_type": "display_data"
    }
   ],
   "source": [
    "from sklearn.base import BaseEstimator\n",
    "class Never5Classifier(BaseEstimator):\n",
    "    def fit(self, X, y=None):\n",
    "        pass\n",
    "    def predict(self, X):\n",
    "        return np.zeros((len(X), 1), dtype=bool)"
   ]
  },
  {
   "cell_type": "code",
   "execution_count": 36,
   "metadata": {
    "colab": {
     "base_uri": "https://localhost:8080/",
     "height": 35
    },
    "id": "3oB7-speS7ge",
    "outputId": "65bcc9be-c324-4277-e2f7-0c1ffc96e733"
   },
   "outputs": [
    {
     "data": {
      "text/html": [
       "<style>\n",
       "    .div-red {\n",
       "        background-color: #EE2A35;\n",
       "    }\n",
       "\n",
       "    .div-green {\n",
       "    \tbackground-color: #009736;\n",
       "    }\n",
       "\n",
       "    .div-black {\n",
       "    \tbackground-color: #000000;\n",
       "    }\n",
       "    .div-white {\n",
       "    \tbackground-color: #FFFFFF;\n",
       "    }\n",
       "    h1 {\n",
       "      color: #EE2A35;\n",
       "    }\n",
       "    h2 {\n",
       "      color: #009736;\n",
       "    }\n",
       "</style>\n"
      ],
      "text/plain": [
       "<IPython.core.display.HTML object>"
      ]
     },
     "metadata": {},
     "output_type": "display_data"
    },
    {
     "data": {
      "text/plain": [
       "array([0.91125, 0.90855, 0.90915])"
      ]
     },
     "execution_count": 36,
     "metadata": {},
     "output_type": "execute_result"
    }
   ],
   "source": [
    "never_5_clf = Never5Classifier()\n",
    "cross_val_score(never_5_clf, X_train, y_train_5, cv=3, scoring=\"accuracy\")"
   ]
  },
  {
   "cell_type": "markdown",
   "metadata": {
    "id": "UE9IdoujS7ge"
   },
   "source": [
    "We got 90% accuracy, which is consistent with a set of many cases where each digit is represented with the same frequency as any other."
   ]
  },
  {
   "cell_type": "markdown",
   "metadata": {
    "id": "mrWHSTwLS7gf"
   },
   "source": [
    "## Confusion matrix\n",
    "\n",
    "A better way of looking at the performance of a classifier is via the confusion matrix. A matrix that for each instance can be divided into 4 sets\n",
    "\n",
    " * **True positives** Images that are 5s and were identified as 5s\n",
    " * **True negatives** Images that are NOT 5s and were identified as NOT 5s\n",
    " * **False positives** Images that are NOT 5s but were identified as 5s\n",
    " * **False negatives** Images that are 5s but were identified as NOT 5s"
   ]
  },
  {
   "cell_type": "code",
   "execution_count": 37,
   "metadata": {
    "colab": {
     "base_uri": "https://localhost:8080/",
     "height": 17
    },
    "id": "e5VzH8oUS7gf",
    "outputId": "2737ee10-8950-46d7-8067-7187d8ed1630"
   },
   "outputs": [
    {
     "data": {
      "text/html": [
       "<style>\n",
       "    .div-red {\n",
       "        background-color: #EE2A35;\n",
       "    }\n",
       "\n",
       "    .div-green {\n",
       "    \tbackground-color: #009736;\n",
       "    }\n",
       "\n",
       "    .div-black {\n",
       "    \tbackground-color: #000000;\n",
       "    }\n",
       "    .div-white {\n",
       "    \tbackground-color: #FFFFFF;\n",
       "    }\n",
       "    h1 {\n",
       "      color: #EE2A35;\n",
       "    }\n",
       "    h2 {\n",
       "      color: #009736;\n",
       "    }\n",
       "</style>\n"
      ],
      "text/plain": [
       "<IPython.core.display.HTML object>"
      ]
     },
     "metadata": {},
     "output_type": "display_data"
    }
   ],
   "source": [
    "from sklearn.model_selection import cross_val_predict\n",
    "\n",
    "y_train_pred = cross_val_predict(sgd_clf, X_train, y_train_5, cv=3)\n",
    "y_train_pred = sgd_clf.predict(X_train)"
   ]
  },
  {
   "cell_type": "code",
   "execution_count": 38,
   "metadata": {
    "colab": {
     "base_uri": "https://localhost:8080/",
     "height": 54
    },
    "id": "x7hTiKVvS7gg",
    "outputId": "be6d6870-2e0e-4a09-ee57-18b6e7eae33a"
   },
   "outputs": [
    {
     "data": {
      "text/html": [
       "<style>\n",
       "    .div-red {\n",
       "        background-color: #EE2A35;\n",
       "    }\n",
       "\n",
       "    .div-green {\n",
       "    \tbackground-color: #009736;\n",
       "    }\n",
       "\n",
       "    .div-black {\n",
       "    \tbackground-color: #000000;\n",
       "    }\n",
       "    .div-white {\n",
       "    \tbackground-color: #FFFFFF;\n",
       "    }\n",
       "    h1 {\n",
       "      color: #EE2A35;\n",
       "    }\n",
       "    h2 {\n",
       "      color: #009736;\n",
       "    }\n",
       "</style>\n"
      ],
      "text/plain": [
       "<IPython.core.display.HTML object>"
      ]
     },
     "metadata": {},
     "output_type": "display_data"
    },
    {
     "data": {
      "text/plain": [
       "array([[52316,  2263],\n",
       "       [  601,  4820]])"
      ]
     },
     "execution_count": 38,
     "metadata": {},
     "output_type": "execute_result"
    }
   ],
   "source": [
    "from sklearn.metrics import confusion_matrix\n",
    "\n",
    "confusion_matrix(y_train_5, y_train_pred)"
   ]
  },
  {
   "cell_type": "markdown",
   "metadata": {
    "id": "9JhHxekmS7gg"
   },
   "source": [
    "A perfect confusion matrix will look like this:"
   ]
  },
  {
   "cell_type": "code",
   "execution_count": 39,
   "metadata": {
    "colab": {
     "base_uri": "https://localhost:8080/",
     "height": 54
    },
    "id": "wKbWsE2xS7gh",
    "outputId": "82482135-49ef-4e78-a8ac-7f15863a72fc"
   },
   "outputs": [
    {
     "data": {
      "text/html": [
       "<style>\n",
       "    .div-red {\n",
       "        background-color: #EE2A35;\n",
       "    }\n",
       "\n",
       "    .div-green {\n",
       "    \tbackground-color: #009736;\n",
       "    }\n",
       "\n",
       "    .div-black {\n",
       "    \tbackground-color: #000000;\n",
       "    }\n",
       "    .div-white {\n",
       "    \tbackground-color: #FFFFFF;\n",
       "    }\n",
       "    h1 {\n",
       "      color: #EE2A35;\n",
       "    }\n",
       "    h2 {\n",
       "      color: #009736;\n",
       "    }\n",
       "</style>\n"
      ],
      "text/plain": [
       "<IPython.core.display.HTML object>"
      ]
     },
     "metadata": {},
     "output_type": "display_data"
    },
    {
     "data": {
      "text/plain": [
       "array([[54579,     0],\n",
       "       [    0,  5421]])"
      ]
     },
     "execution_count": 39,
     "metadata": {},
     "output_type": "execute_result"
    }
   ],
   "source": [
    "y_train_perfect_predictions = y_train_5  # pretend we reached perfection\n",
    "confusion_matrix(y_train_5, y_train_perfect_predictions)"
   ]
  },
  {
   "cell_type": "markdown",
   "metadata": {
    "id": "_kUbVDHmS7gh"
   },
   "source": [
    "### Precision, Recall and F1\n",
    "\n",
    "<img src=\"https://github.com/romerogroup/Notebooks_4SIAH/blob/main/Machine_Learning/fig/Precision_Recall.png?raw=1\" width=\"700\" height=\"200\" title=\"Precision vs Recall\" alt=\"Precision vs Recall\"></a>\n",
    "\n",
    "Instead of using the **accuracy** a better metric could use the precision and recall as defined by:\n",
    "\n",
    "\\begin{equation}\n",
    "precision = \\frac{\\text{True Positives}}{\\text{True Positives} + \\text{False Positives}}\n",
    "\\end{equation}\n",
    "\n",
    "---\n",
    "\n",
    "\\begin{equation}\n",
    "recall = \\frac{\\text{True Positives}}{\\text{True Positives} + \\text{False Negatives}}\n",
    "\\end{equation}\n",
    "\n",
    "Finally there is one metric that measures the balance between precision and recall\n",
    "\n",
    "\\begin{equation}\n",
    "F_1 = \\frac{\\text{precision} \\times \\text{recall}}{\\text{precision} + \\text{recall}}\n",
    "\\end{equation}\n"
   ]
  },
  {
   "cell_type": "code",
   "execution_count": 40,
   "metadata": {
    "colab": {
     "base_uri": "https://localhost:8080/",
     "height": 35
    },
    "id": "0xy0xNXjS7gi",
    "outputId": "ffb86cc0-f91e-413c-9073-d9b25aabfa39"
   },
   "outputs": [
    {
     "data": {
      "text/html": [
       "<style>\n",
       "    .div-red {\n",
       "        background-color: #EE2A35;\n",
       "    }\n",
       "\n",
       "    .div-green {\n",
       "    \tbackground-color: #009736;\n",
       "    }\n",
       "\n",
       "    .div-black {\n",
       "    \tbackground-color: #000000;\n",
       "    }\n",
       "    .div-white {\n",
       "    \tbackground-color: #FFFFFF;\n",
       "    }\n",
       "    h1 {\n",
       "      color: #EE2A35;\n",
       "    }\n",
       "    h2 {\n",
       "      color: #009736;\n",
       "    }\n",
       "</style>\n"
      ],
      "text/plain": [
       "<IPython.core.display.HTML object>"
      ]
     },
     "metadata": {},
     "output_type": "display_data"
    },
    {
     "data": {
      "text/plain": [
       "0.6805026118876183"
      ]
     },
     "execution_count": 40,
     "metadata": {},
     "output_type": "execute_result"
    }
   ],
   "source": [
    "from sklearn.metrics import precision_score, recall_score\n",
    "\n",
    "precision_score(y_train_5, y_train_pred)"
   ]
  },
  {
   "cell_type": "code",
   "execution_count": 41,
   "metadata": {
    "colab": {
     "base_uri": "https://localhost:8080/",
     "height": 35
    },
    "id": "wWMzGsSMS7gi",
    "outputId": "1728439b-b1cc-4f53-9f8e-d30c3bf1756e"
   },
   "outputs": [
    {
     "data": {
      "text/html": [
       "<style>\n",
       "    .div-red {\n",
       "        background-color: #EE2A35;\n",
       "    }\n",
       "\n",
       "    .div-green {\n",
       "    \tbackground-color: #009736;\n",
       "    }\n",
       "\n",
       "    .div-black {\n",
       "    \tbackground-color: #000000;\n",
       "    }\n",
       "    .div-white {\n",
       "    \tbackground-color: #FFFFFF;\n",
       "    }\n",
       "    h1 {\n",
       "      color: #EE2A35;\n",
       "    }\n",
       "    h2 {\n",
       "      color: #009736;\n",
       "    }\n",
       "</style>\n"
      ],
      "text/plain": [
       "<IPython.core.display.HTML object>"
      ]
     },
     "metadata": {},
     "output_type": "display_data"
    },
    {
     "data": {
      "text/plain": [
       "0.6805026118876183"
      ]
     },
     "execution_count": 41,
     "metadata": {},
     "output_type": "execute_result"
    }
   ],
   "source": [
    "# TP = 4820\n",
    "# FP = 2263\n",
    "4820 / (4820 + 2263)"
   ]
  },
  {
   "cell_type": "code",
   "execution_count": 42,
   "metadata": {
    "colab": {
     "base_uri": "https://localhost:8080/",
     "height": 35
    },
    "id": "TVAEFA95S7gj",
    "outputId": "1242e54c-c1f7-4cac-e3a0-e223081275c4"
   },
   "outputs": [
    {
     "data": {
      "text/html": [
       "<style>\n",
       "    .div-red {\n",
       "        background-color: #EE2A35;\n",
       "    }\n",
       "\n",
       "    .div-green {\n",
       "    \tbackground-color: #009736;\n",
       "    }\n",
       "\n",
       "    .div-black {\n",
       "    \tbackground-color: #000000;\n",
       "    }\n",
       "    .div-white {\n",
       "    \tbackground-color: #FFFFFF;\n",
       "    }\n",
       "    h1 {\n",
       "      color: #EE2A35;\n",
       "    }\n",
       "    h2 {\n",
       "      color: #009736;\n",
       "    }\n",
       "</style>\n"
      ],
      "text/plain": [
       "<IPython.core.display.HTML object>"
      ]
     },
     "metadata": {},
     "output_type": "display_data"
    },
    {
     "data": {
      "text/plain": [
       "0.8891348459693783"
      ]
     },
     "execution_count": 42,
     "metadata": {},
     "output_type": "execute_result"
    }
   ],
   "source": [
    "recall_score(y_train_5, y_train_pred)"
   ]
  },
  {
   "cell_type": "code",
   "execution_count": 43,
   "metadata": {
    "colab": {
     "base_uri": "https://localhost:8080/",
     "height": 35
    },
    "id": "T5yhDtU5S7gj",
    "outputId": "d7bde4d9-6a75-4a7a-b508-3bab356540a2"
   },
   "outputs": [
    {
     "data": {
      "text/html": [
       "<style>\n",
       "    .div-red {\n",
       "        background-color: #EE2A35;\n",
       "    }\n",
       "\n",
       "    .div-green {\n",
       "    \tbackground-color: #009736;\n",
       "    }\n",
       "\n",
       "    .div-black {\n",
       "    \tbackground-color: #000000;\n",
       "    }\n",
       "    .div-white {\n",
       "    \tbackground-color: #FFFFFF;\n",
       "    }\n",
       "    h1 {\n",
       "      color: #EE2A35;\n",
       "    }\n",
       "    h2 {\n",
       "      color: #009736;\n",
       "    }\n",
       "</style>\n"
      ],
      "text/plain": [
       "<IPython.core.display.HTML object>"
      ]
     },
     "metadata": {},
     "output_type": "display_data"
    },
    {
     "data": {
      "text/plain": [
       "0.8891348459693783"
      ]
     },
     "execution_count": 43,
     "metadata": {},
     "output_type": "execute_result"
    }
   ],
   "source": [
    "# TP = 4820\n",
    "# FN = 601\n",
    "4820 / (4820 + 601)"
   ]
  },
  {
   "cell_type": "code",
   "execution_count": 44,
   "metadata": {
    "colab": {
     "base_uri": "https://localhost:8080/",
     "height": 35
    },
    "id": "u2xl1JvuS7gk",
    "outputId": "e95200cb-40a5-4273-81a8-d2e16067f564"
   },
   "outputs": [
    {
     "data": {
      "text/html": [
       "<style>\n",
       "    .div-red {\n",
       "        background-color: #EE2A35;\n",
       "    }\n",
       "\n",
       "    .div-green {\n",
       "    \tbackground-color: #009736;\n",
       "    }\n",
       "\n",
       "    .div-black {\n",
       "    \tbackground-color: #000000;\n",
       "    }\n",
       "    .div-white {\n",
       "    \tbackground-color: #FFFFFF;\n",
       "    }\n",
       "    h1 {\n",
       "      color: #EE2A35;\n",
       "    }\n",
       "    h2 {\n",
       "      color: #009736;\n",
       "    }\n",
       "</style>\n"
      ],
      "text/plain": [
       "<IPython.core.display.HTML object>"
      ]
     },
     "metadata": {},
     "output_type": "display_data"
    },
    {
     "data": {
      "text/plain": [
       "0.7709532949456175"
      ]
     },
     "execution_count": 44,
     "metadata": {},
     "output_type": "execute_result"
    }
   ],
   "source": [
    "from sklearn.metrics import f1_score\n",
    "\n",
    "f1_score(y_train_5, y_train_pred)"
   ]
  },
  {
   "cell_type": "code",
   "execution_count": 45,
   "metadata": {
    "colab": {
     "base_uri": "https://localhost:8080/",
     "height": 35
    },
    "id": "ZEHcVeDnS7gk",
    "outputId": "783e570e-e003-46de-e2c8-852856b3c1ee"
   },
   "outputs": [
    {
     "data": {
      "text/html": [
       "<style>\n",
       "    .div-red {\n",
       "        background-color: #EE2A35;\n",
       "    }\n",
       "\n",
       "    .div-green {\n",
       "    \tbackground-color: #009736;\n",
       "    }\n",
       "\n",
       "    .div-black {\n",
       "    \tbackground-color: #000000;\n",
       "    }\n",
       "    .div-white {\n",
       "    \tbackground-color: #FFFFFF;\n",
       "    }\n",
       "    h1 {\n",
       "      color: #EE2A35;\n",
       "    }\n",
       "    h2 {\n",
       "      color: #009736;\n",
       "    }\n",
       "</style>\n"
      ],
      "text/plain": [
       "<IPython.core.display.HTML object>"
      ]
     },
     "metadata": {},
     "output_type": "display_data"
    },
    {
     "data": {
      "text/plain": [
       "0.7709532949456174"
      ]
     },
     "execution_count": 45,
     "metadata": {},
     "output_type": "execute_result"
    }
   ],
   "source": [
    "4820 / (4820 + (601 + 2263) / 2)"
   ]
  },
  {
   "cell_type": "markdown",
   "metadata": {
    "id": "tOFVH984S7gm"
   },
   "source": [
    "### Decision Function\n",
    "\n",
    "Scikit-learn provides a function to show the value that the SGD assigns to each set of inputs. See for example the first 12"
   ]
  },
  {
   "cell_type": "code",
   "execution_count": 46,
   "metadata": {
    "colab": {
     "base_uri": "https://localhost:8080/",
     "height": 72
    },
    "id": "o1DkOfq1S7gm",
    "outputId": "3d21e98b-e512-4f48-8659-ba632f2e5b58",
    "scrolled": true
   },
   "outputs": [
    {
     "data": {
      "text/html": [
       "<style>\n",
       "    .div-red {\n",
       "        background-color: #EE2A35;\n",
       "    }\n",
       "\n",
       "    .div-green {\n",
       "    \tbackground-color: #009736;\n",
       "    }\n",
       "\n",
       "    .div-black {\n",
       "    \tbackground-color: #000000;\n",
       "    }\n",
       "    .div-white {\n",
       "    \tbackground-color: #FFFFFF;\n",
       "    }\n",
       "    h1 {\n",
       "      color: #EE2A35;\n",
       "    }\n",
       "    h2 {\n",
       "      color: #009736;\n",
       "    }\n",
       "</style>\n"
      ],
      "text/plain": [
       "<IPython.core.display.HTML object>"
      ]
     },
     "metadata": {},
     "output_type": "display_data"
    },
    {
     "data": {
      "text/plain": [
       "array([  2164.22030239,  -5897.37359354, -13489.14805779,  -4623.84515943,\n",
       "        -6873.05248453,  -3908.27576291,  -4851.9422397 ,  -4988.52407755,\n",
       "        -2226.78132866,  -4081.33692831,  -5711.47789687,   4742.52813158])"
      ]
     },
     "execution_count": 46,
     "metadata": {},
     "output_type": "execute_result"
    }
   ],
   "source": [
    "y_scores = sgd_clf.decision_function(X_train[:12])\n",
    "y_scores"
   ]
  },
  {
   "cell_type": "markdown",
   "metadata": {
    "id": "NQOci0NwS7gm"
   },
   "source": [
    "Notice that images identified with 5 received positive scores and other numbers received negative scores."
   ]
  },
  {
   "cell_type": "code",
   "execution_count": 47,
   "metadata": {
    "colab": {
     "base_uri": "https://localhost:8080/",
     "height": 35
    },
    "id": "Qlib8X3OS7gm",
    "outputId": "2361679b-51be-42a1-f001-8764530d5702"
   },
   "outputs": [
    {
     "data": {
      "text/html": [
       "<style>\n",
       "    .div-red {\n",
       "        background-color: #EE2A35;\n",
       "    }\n",
       "\n",
       "    .div-green {\n",
       "    \tbackground-color: #009736;\n",
       "    }\n",
       "\n",
       "    .div-black {\n",
       "    \tbackground-color: #000000;\n",
       "    }\n",
       "    .div-white {\n",
       "    \tbackground-color: #FFFFFF;\n",
       "    }\n",
       "    h1 {\n",
       "      color: #EE2A35;\n",
       "    }\n",
       "    h2 {\n",
       "      color: #009736;\n",
       "    }\n",
       "</style>\n"
      ],
      "text/plain": [
       "<IPython.core.display.HTML object>"
      ]
     },
     "metadata": {},
     "output_type": "display_data"
    },
    {
     "data": {
      "text/plain": [
       "array([5, 0, 4, 1, 9, 2, 1, 3, 1, 4, 3, 5], dtype=uint8)"
      ]
     },
     "execution_count": 47,
     "metadata": {},
     "output_type": "execute_result"
    }
   ],
   "source": [
    "y_train[:12]"
   ]
  },
  {
   "cell_type": "markdown",
   "metadata": {
    "id": "Ux7ocpEdS7gn"
   },
   "source": [
    "## Changing the threshold\n",
    "\n",
    "one interesting observation is to notice that if by any means we could change the threshold of acceptance for considering an image a 5 we increase the precision (by reducing FP) but at the expenses of also reducing the recall (by also increasing the FN). In summary precision and recall are two conflicting quantities."
   ]
  },
  {
   "cell_type": "code",
   "execution_count": 48,
   "metadata": {
    "colab": {
     "base_uri": "https://localhost:8080/",
     "height": 17
    },
    "id": "tAb2_rT_S7gn",
    "outputId": "24f26464-b7f0-448d-90c4-21329af5acca"
   },
   "outputs": [
    {
     "data": {
      "text/html": [
       "<style>\n",
       "    .div-red {\n",
       "        background-color: #EE2A35;\n",
       "    }\n",
       "\n",
       "    .div-green {\n",
       "    \tbackground-color: #009736;\n",
       "    }\n",
       "\n",
       "    .div-black {\n",
       "    \tbackground-color: #000000;\n",
       "    }\n",
       "    .div-white {\n",
       "    \tbackground-color: #FFFFFF;\n",
       "    }\n",
       "    h1 {\n",
       "      color: #EE2A35;\n",
       "    }\n",
       "    h2 {\n",
       "      color: #009736;\n",
       "    }\n",
       "</style>\n"
      ],
      "text/plain": [
       "<IPython.core.display.HTML object>"
      ]
     },
     "metadata": {},
     "output_type": "display_data"
    }
   ],
   "source": [
    "threshold = 0\n",
    "y_some_digit_pred = (y_scores > threshold)"
   ]
  },
  {
   "cell_type": "code",
   "execution_count": 49,
   "metadata": {
    "colab": {
     "base_uri": "https://localhost:8080/",
     "height": 54
    },
    "id": "sQGv2PewS7go",
    "outputId": "0d7670e4-1b8f-48e0-856a-18fe434e2374"
   },
   "outputs": [
    {
     "data": {
      "text/html": [
       "<style>\n",
       "    .div-red {\n",
       "        background-color: #EE2A35;\n",
       "    }\n",
       "\n",
       "    .div-green {\n",
       "    \tbackground-color: #009736;\n",
       "    }\n",
       "\n",
       "    .div-black {\n",
       "    \tbackground-color: #000000;\n",
       "    }\n",
       "    .div-white {\n",
       "    \tbackground-color: #FFFFFF;\n",
       "    }\n",
       "    h1 {\n",
       "      color: #EE2A35;\n",
       "    }\n",
       "    h2 {\n",
       "      color: #009736;\n",
       "    }\n",
       "</style>\n"
      ],
      "text/plain": [
       "<IPython.core.display.HTML object>"
      ]
     },
     "metadata": {},
     "output_type": "display_data"
    },
    {
     "data": {
      "text/plain": [
       "array([ True, False, False, False, False, False, False, False, False,\n",
       "       False, False,  True])"
      ]
     },
     "execution_count": 49,
     "metadata": {},
     "output_type": "execute_result"
    }
   ],
   "source": [
    "y_some_digit_pred"
   ]
  },
  {
   "cell_type": "code",
   "execution_count": 50,
   "metadata": {
    "colab": {
     "base_uri": "https://localhost:8080/",
     "height": 54
    },
    "id": "J0nUQ2FNS7go",
    "outputId": "8d362899-57ff-4707-aadd-71938471784c"
   },
   "outputs": [
    {
     "data": {
      "text/html": [
       "<style>\n",
       "    .div-red {\n",
       "        background-color: #EE2A35;\n",
       "    }\n",
       "\n",
       "    .div-green {\n",
       "    \tbackground-color: #009736;\n",
       "    }\n",
       "\n",
       "    .div-black {\n",
       "    \tbackground-color: #000000;\n",
       "    }\n",
       "    .div-white {\n",
       "    \tbackground-color: #FFFFFF;\n",
       "    }\n",
       "    h1 {\n",
       "      color: #EE2A35;\n",
       "    }\n",
       "    h2 {\n",
       "      color: #009736;\n",
       "    }\n",
       "</style>\n"
      ],
      "text/plain": [
       "<IPython.core.display.HTML object>"
      ]
     },
     "metadata": {},
     "output_type": "display_data"
    },
    {
     "data": {
      "text/plain": [
       "array([False, False, False, False, False, False, False, False, False,\n",
       "       False, False, False])"
      ]
     },
     "execution_count": 50,
     "metadata": {},
     "output_type": "execute_result"
    }
   ],
   "source": [
    "threshold = 8000\n",
    "y_some_digit_pred = (y_scores > threshold)\n",
    "y_some_digit_pred"
   ]
  },
  {
   "cell_type": "code",
   "execution_count": 51,
   "metadata": {
    "colab": {
     "base_uri": "https://localhost:8080/",
     "height": 17
    },
    "id": "VEeGsoptS7gp",
    "outputId": "f7a8a767-ac47-43aa-ffd9-3efd2c7041ea"
   },
   "outputs": [
    {
     "data": {
      "text/html": [
       "<style>\n",
       "    .div-red {\n",
       "        background-color: #EE2A35;\n",
       "    }\n",
       "\n",
       "    .div-green {\n",
       "    \tbackground-color: #009736;\n",
       "    }\n",
       "\n",
       "    .div-black {\n",
       "    \tbackground-color: #000000;\n",
       "    }\n",
       "    .div-white {\n",
       "    \tbackground-color: #FFFFFF;\n",
       "    }\n",
       "    h1 {\n",
       "      color: #EE2A35;\n",
       "    }\n",
       "    h2 {\n",
       "      color: #009736;\n",
       "    }\n",
       "</style>\n"
      ],
      "text/plain": [
       "<IPython.core.display.HTML object>"
      ]
     },
     "metadata": {},
     "output_type": "display_data"
    }
   ],
   "source": [
    "y_scores = cross_val_predict(sgd_clf, X_train, y_train_5, cv=3,\n",
    "                             method=\"decision_function\")"
   ]
  },
  {
   "cell_type": "code",
   "execution_count": 52,
   "metadata": {
    "colab": {
     "base_uri": "https://localhost:8080/",
     "height": 17
    },
    "id": "9K6aNSbMS7gp",
    "outputId": "b1eb929b-196c-487f-88f4-103611fa75d6"
   },
   "outputs": [
    {
     "data": {
      "text/html": [
       "<style>\n",
       "    .div-red {\n",
       "        background-color: #EE2A35;\n",
       "    }\n",
       "\n",
       "    .div-green {\n",
       "    \tbackground-color: #009736;\n",
       "    }\n",
       "\n",
       "    .div-black {\n",
       "    \tbackground-color: #000000;\n",
       "    }\n",
       "    .div-white {\n",
       "    \tbackground-color: #FFFFFF;\n",
       "    }\n",
       "    h1 {\n",
       "      color: #EE2A35;\n",
       "    }\n",
       "    h2 {\n",
       "      color: #009736;\n",
       "    }\n",
       "</style>\n"
      ],
      "text/plain": [
       "<IPython.core.display.HTML object>"
      ]
     },
     "metadata": {},
     "output_type": "display_data"
    }
   ],
   "source": [
    "from sklearn.metrics import precision_recall_curve\n",
    "\n",
    "precisions, recalls, thresholds = precision_recall_curve(y_train_5, y_scores)"
   ]
  },
  {
   "cell_type": "code",
   "execution_count": 53,
   "metadata": {
    "colab": {
     "base_uri": "https://localhost:8080/",
     "height": 417
    },
    "id": "5otXk9HES7gr",
    "outputId": "aedae801-76d1-4063-cc64-c7f58a4315d0"
   },
   "outputs": [
    {
     "data": {
      "text/html": [
       "<style>\n",
       "    .div-red {\n",
       "        background-color: #EE2A35;\n",
       "    }\n",
       "\n",
       "    .div-green {\n",
       "    \tbackground-color: #009736;\n",
       "    }\n",
       "\n",
       "    .div-black {\n",
       "    \tbackground-color: #000000;\n",
       "    }\n",
       "    .div-white {\n",
       "    \tbackground-color: #FFFFFF;\n",
       "    }\n",
       "    h1 {\n",
       "      color: #EE2A35;\n",
       "    }\n",
       "    h2 {\n",
       "      color: #009736;\n",
       "    }\n",
       "</style>\n"
      ],
      "text/plain": [
       "<IPython.core.display.HTML object>"
      ]
     },
     "metadata": {},
     "output_type": "display_data"
    },
    {
     "data": {
      "text/plain": [
       "[<matplotlib.lines.Line2D at 0x13ef36e90>]"
      ]
     },
     "execution_count": 53,
     "metadata": {},
     "output_type": "execute_result"
    },
    {
     "data": {
      "image/png": "[encoded data removed]",
      "text/plain": [
       "<Figure size 800x400 with 1 Axes>"
      ]
     },
     "metadata": {},
     "output_type": "display_data"
    }
   ],
   "source": [
    "def plot_precision_recall_vs_threshold(precisions, recalls, thresholds):\n",
    "    plt.plot(thresholds, precisions[:-1], \"b--\", label=\"Precision\", linewidth=2)\n",
    "    plt.plot(thresholds, recalls[:-1], \"g-\", label=\"Recall\", linewidth=2)\n",
    "    plt.legend(loc=\"center right\", fontsize=16) # Not shown in the book\n",
    "    plt.xlabel(\"Threshold\", fontsize=16)        # Not shown\n",
    "    plt.grid(True)                              # Not shown\n",
    "    plt.axis([-50000, 50000, 0, 1])             # Not shown\n",
    "\n",
    "plt.figure(figsize=(8, 4))                      # Not shown\n",
    "plot_precision_recall_vs_threshold(precisions, recalls, thresholds)\n",
    "plt.plot([7813, 7813], [0., 0.9], \"r:\")         # Not shown\n",
    "plt.plot([-50000, 7813], [0.9, 0.9], \"r:\")      # Not shown\n",
    "plt.plot([-50000, 7813], [0.4368, 0.4368], \"r:\")# Not shown\n",
    "plt.plot([7813], [0.9], \"ro\")                   # Not shown\n",
    "plt.plot([7813], [0.4368], \"ro\")                # Not shown"
   ]
  },
  {
   "cell_type": "code",
   "execution_count": 54,
   "metadata": {
    "colab": {
     "base_uri": "https://localhost:8080/",
     "height": 35
    },
    "id": "swzI6OZ_S7gr",
    "outputId": "833069df-c2fc-4668-e488-8f2fe6f235a6"
   },
   "outputs": [
    {
     "data": {
      "text/html": [
       "<style>\n",
       "    .div-red {\n",
       "        background-color: #EE2A35;\n",
       "    }\n",
       "\n",
       "    .div-green {\n",
       "    \tbackground-color: #009736;\n",
       "    }\n",
       "\n",
       "    .div-black {\n",
       "    \tbackground-color: #000000;\n",
       "    }\n",
       "    .div-white {\n",
       "    \tbackground-color: #FFFFFF;\n",
       "    }\n",
       "    h1 {\n",
       "      color: #EE2A35;\n",
       "    }\n",
       "    h2 {\n",
       "      color: #009736;\n",
       "    }\n",
       "</style>\n"
      ],
      "text/plain": [
       "<IPython.core.display.HTML object>"
      ]
     },
     "metadata": {},
     "output_type": "display_data"
    },
    {
     "data": {
      "text/plain": [
       "False"
      ]
     },
     "execution_count": 54,
     "metadata": {},
     "output_type": "execute_result"
    }
   ],
   "source": [
    "(y_train_pred == (y_scores > 0)).all()"
   ]
  },
  {
   "cell_type": "code",
   "execution_count": 55,
   "metadata": {
    "colab": {
     "base_uri": "https://localhost:8080/",
     "height": 553
    },
    "id": "E3Dm_HN7S7gr",
    "outputId": "3a8c3591-e992-4ea0-dfec-8558c7279b65"
   },
   "outputs": [
    {
     "data": {
      "text/html": [
       "<style>\n",
       "    .div-red {\n",
       "        background-color: #EE2A35;\n",
       "    }\n",
       "\n",
       "    .div-green {\n",
       "    \tbackground-color: #009736;\n",
       "    }\n",
       "\n",
       "    .div-black {\n",
       "    \tbackground-color: #000000;\n",
       "    }\n",
       "    .div-white {\n",
       "    \tbackground-color: #FFFFFF;\n",
       "    }\n",
       "    h1 {\n",
       "      color: #EE2A35;\n",
       "    }\n",
       "    h2 {\n",
       "      color: #009736;\n",
       "    }\n",
       "</style>\n"
      ],
      "text/plain": [
       "<IPython.core.display.HTML object>"
      ]
     },
     "metadata": {},
     "output_type": "display_data"
    },
    {
     "data": {
      "image/png": "[encoded data removed]",
      "text/plain": [
       "<Figure size 800x600 with 1 Axes>"
      ]
     },
     "metadata": {},
     "output_type": "display_data"
    }
   ],
   "source": [
    "def plot_precision_vs_recall(precisions, recalls):\n",
    "    plt.plot(recalls, precisions, \"b-\", linewidth=2)\n",
    "    plt.xlabel(\"Recall\", fontsize=16)\n",
    "    plt.ylabel(\"Precision\", fontsize=16)\n",
    "    plt.axis([0, 1, 0, 1])\n",
    "    plt.grid(True)\n",
    "\n",
    "plt.figure(figsize=(8, 6))\n",
    "plot_precision_vs_recall(precisions, recalls)\n",
    "plt.plot([0.4368, 0.4368], [0., 0.9], \"r:\")\n",
    "plt.plot([0.0, 0.4368], [0.9, 0.9], \"r:\")\n",
    "plt.plot([0.4368], [0.9], \"ro\");"
   ]
  },
  {
   "cell_type": "code",
   "execution_count": 56,
   "metadata": {
    "colab": {
     "base_uri": "https://localhost:8080/",
     "height": 17
    },
    "id": "gThOQaKPS7gs",
    "outputId": "c967cb42-3e9f-4796-ffbe-f53a2e7be639"
   },
   "outputs": [
    {
     "data": {
      "text/html": [
       "<style>\n",
       "    .div-red {\n",
       "        background-color: #EE2A35;\n",
       "    }\n",
       "\n",
       "    .div-green {\n",
       "    \tbackground-color: #009736;\n",
       "    }\n",
       "\n",
       "    .div-black {\n",
       "    \tbackground-color: #000000;\n",
       "    }\n",
       "    .div-white {\n",
       "    \tbackground-color: #FFFFFF;\n",
       "    }\n",
       "    h1 {\n",
       "      color: #EE2A35;\n",
       "    }\n",
       "    h2 {\n",
       "      color: #009736;\n",
       "    }\n",
       "</style>\n"
      ],
      "text/plain": [
       "<IPython.core.display.HTML object>"
      ]
     },
     "metadata": {},
     "output_type": "display_data"
    }
   ],
   "source": [
    "threshold_90_precision = thresholds[np.argmax(precisions >= 0.90)]"
   ]
  },
  {
   "cell_type": "code",
   "execution_count": 57,
   "metadata": {
    "colab": {
     "base_uri": "https://localhost:8080/",
     "height": 35
    },
    "id": "t7ceH2jvS7gt",
    "outputId": "6eaa82c2-c9cb-4263-bb06-44e064c66395"
   },
   "outputs": [
    {
     "data": {
      "text/html": [
       "<style>\n",
       "    .div-red {\n",
       "        background-color: #EE2A35;\n",
       "    }\n",
       "\n",
       "    .div-green {\n",
       "    \tbackground-color: #009736;\n",
       "    }\n",
       "\n",
       "    .div-black {\n",
       "    \tbackground-color: #000000;\n",
       "    }\n",
       "    .div-white {\n",
       "    \tbackground-color: #FFFFFF;\n",
       "    }\n",
       "    h1 {\n",
       "      color: #EE2A35;\n",
       "    }\n",
       "    h2 {\n",
       "      color: #009736;\n",
       "    }\n",
       "</style>\n"
      ],
      "text/plain": [
       "<IPython.core.display.HTML object>"
      ]
     },
     "metadata": {},
     "output_type": "display_data"
    },
    {
     "data": {
      "text/plain": [
       "3370.0194991439594"
      ]
     },
     "execution_count": 57,
     "metadata": {},
     "output_type": "execute_result"
    }
   ],
   "source": [
    "threshold_90_precision"
   ]
  },
  {
   "cell_type": "code",
   "execution_count": 58,
   "metadata": {
    "colab": {
     "base_uri": "https://localhost:8080/",
     "height": 17
    },
    "id": "mnwrbG9zS7gt",
    "outputId": "5424bb5d-095b-4778-a681-cea408c4eb33"
   },
   "outputs": [
    {
     "data": {
      "text/html": [
       "<style>\n",
       "    .div-red {\n",
       "        background-color: #EE2A35;\n",
       "    }\n",
       "\n",
       "    .div-green {\n",
       "    \tbackground-color: #009736;\n",
       "    }\n",
       "\n",
       "    .div-black {\n",
       "    \tbackground-color: #000000;\n",
       "    }\n",
       "    .div-white {\n",
       "    \tbackground-color: #FFFFFF;\n",
       "    }\n",
       "    h1 {\n",
       "      color: #EE2A35;\n",
       "    }\n",
       "    h2 {\n",
       "      color: #009736;\n",
       "    }\n",
       "</style>\n"
      ],
      "text/plain": [
       "<IPython.core.display.HTML object>"
      ]
     },
     "metadata": {},
     "output_type": "display_data"
    }
   ],
   "source": [
    "y_train_pred_90 = (y_scores >= threshold_90_precision)"
   ]
  },
  {
   "cell_type": "code",
   "execution_count": 59,
   "metadata": {
    "colab": {
     "base_uri": "https://localhost:8080/",
     "height": 35
    },
    "id": "M-7Im659S7gu",
    "outputId": "5ca1c938-5e92-4dcd-d35a-a1a390cab447"
   },
   "outputs": [
    {
     "data": {
      "text/html": [
       "<style>\n",
       "    .div-red {\n",
       "        background-color: #EE2A35;\n",
       "    }\n",
       "\n",
       "    .div-green {\n",
       "    \tbackground-color: #009736;\n",
       "    }\n",
       "\n",
       "    .div-black {\n",
       "    \tbackground-color: #000000;\n",
       "    }\n",
       "    .div-white {\n",
       "    \tbackground-color: #FFFFFF;\n",
       "    }\n",
       "    h1 {\n",
       "      color: #EE2A35;\n",
       "    }\n",
       "    h2 {\n",
       "      color: #009736;\n",
       "    }\n",
       "</style>\n"
      ],
      "text/plain": [
       "<IPython.core.display.HTML object>"
      ]
     },
     "metadata": {},
     "output_type": "display_data"
    },
    {
     "data": {
      "text/plain": [
       "0.9000345901072293"
      ]
     },
     "execution_count": 59,
     "metadata": {},
     "output_type": "execute_result"
    }
   ],
   "source": [
    "precision_score(y_train_5, y_train_pred_90)"
   ]
  },
  {
   "cell_type": "code",
   "execution_count": 60,
   "metadata": {
    "colab": {
     "base_uri": "https://localhost:8080/",
     "height": 35
    },
    "id": "r9ZnyHVOS7gu",
    "outputId": "01838142-294c-4d0b-f00f-102bd796adc0"
   },
   "outputs": [
    {
     "data": {
      "text/html": [
       "<style>\n",
       "    .div-red {\n",
       "        background-color: #EE2A35;\n",
       "    }\n",
       "\n",
       "    .div-green {\n",
       "    \tbackground-color: #009736;\n",
       "    }\n",
       "\n",
       "    .div-black {\n",
       "    \tbackground-color: #000000;\n",
       "    }\n",
       "    .div-white {\n",
       "    \tbackground-color: #FFFFFF;\n",
       "    }\n",
       "    h1 {\n",
       "      color: #EE2A35;\n",
       "    }\n",
       "    h2 {\n",
       "      color: #009736;\n",
       "    }\n",
       "</style>\n"
      ],
      "text/plain": [
       "<IPython.core.display.HTML object>"
      ]
     },
     "metadata": {},
     "output_type": "display_data"
    },
    {
     "data": {
      "text/plain": [
       "0.4799852425751706"
      ]
     },
     "execution_count": 60,
     "metadata": {},
     "output_type": "execute_result"
    }
   ],
   "source": [
    "recall_score(y_train_5, y_train_pred_90)"
   ]
  },
  {
   "cell_type": "markdown",
   "metadata": {
    "id": "0IY-OfblS7gv"
   },
   "source": [
    "# ROC curves\n",
    "\n",
    "The Receiver Operating Characteristic (ROC) is a plot of recall (also known as *True Positive Rate*) against False Positive Rate (FPR) that is one minus the True Negative Rate (TNR) (Negative instances correctly identified as negative)\n",
    "\n",
    " * FPR = 1 - TNR = 1 - specificity\n",
    " * TPR = Recall = sensitivity"
   ]
  },
  {
   "cell_type": "code",
   "execution_count": 61,
   "metadata": {
    "colab": {
     "base_uri": "https://localhost:8080/",
     "height": 17
    },
    "id": "Kt3RJYTJS7gv",
    "outputId": "dcdffb26-ed4c-4e05-f946-a219a493d10e"
   },
   "outputs": [
    {
     "data": {
      "text/html": [
       "<style>\n",
       "    .div-red {\n",
       "        background-color: #EE2A35;\n",
       "    }\n",
       "\n",
       "    .div-green {\n",
       "    \tbackground-color: #009736;\n",
       "    }\n",
       "\n",
       "    .div-black {\n",
       "    \tbackground-color: #000000;\n",
       "    }\n",
       "    .div-white {\n",
       "    \tbackground-color: #FFFFFF;\n",
       "    }\n",
       "    h1 {\n",
       "      color: #EE2A35;\n",
       "    }\n",
       "    h2 {\n",
       "      color: #009736;\n",
       "    }\n",
       "</style>\n"
      ],
      "text/plain": [
       "<IPython.core.display.HTML object>"
      ]
     },
     "metadata": {},
     "output_type": "display_data"
    }
   ],
   "source": [
    "from sklearn.metrics import roc_curve\n",
    "\n",
    "fpr, tpr, thresholds = roc_curve(y_train_5, y_scores)"
   ]
  },
  {
   "cell_type": "code",
   "execution_count": 62,
   "metadata": {
    "colab": {
     "base_uri": "https://localhost:8080/",
     "height": 571
    },
    "id": "cN23nhF9S7gw",
    "outputId": "2e725085-f726-421e-f3b8-590cc468f120"
   },
   "outputs": [
    {
     "data": {
      "text/html": [
       "<style>\n",
       "    .div-red {\n",
       "        background-color: #EE2A35;\n",
       "    }\n",
       "\n",
       "    .div-green {\n",
       "    \tbackground-color: #009736;\n",
       "    }\n",
       "\n",
       "    .div-black {\n",
       "    \tbackground-color: #000000;\n",
       "    }\n",
       "    .div-white {\n",
       "    \tbackground-color: #FFFFFF;\n",
       "    }\n",
       "    h1 {\n",
       "      color: #EE2A35;\n",
       "    }\n",
       "    h2 {\n",
       "      color: #009736;\n",
       "    }\n",
       "</style>\n"
      ],
      "text/plain": [
       "<IPython.core.display.HTML object>"
      ]
     },
     "metadata": {},
     "output_type": "display_data"
    },
    {
     "data": {
      "text/plain": [
       "[<matplotlib.lines.Line2D at 0x13f034850>]"
      ]
     },
     "execution_count": 62,
     "metadata": {},
     "output_type": "execute_result"
    },
    {
     "data": {
      "image/png": "[encoded data removed]",
      "text/plain": [
       "<Figure size 800x600 with 1 Axes>"
      ]
     },
     "metadata": {},
     "output_type": "display_data"
    }
   ],
   "source": [
    "def plot_roc_curve(fpr, tpr, label=None):\n",
    "    plt.plot(fpr, tpr, linewidth=2, label=label)\n",
    "    plt.plot([0, 1], [0, 1], 'k--') # dashed diagonal\n",
    "    plt.axis([0, 1, 0, 1])                                    # Not shown in the book\n",
    "    plt.xlabel('False Positive Rate (Fall-Out)', fontsize=16) # Not shown\n",
    "    plt.ylabel('True Positive Rate (Recall)', fontsize=16)    # Not shown\n",
    "    plt.grid(True)                                            # Not shown\n",
    "\n",
    "plt.figure(figsize=(8, 6))                         # Not shown\n",
    "plot_roc_curve(fpr, tpr)\n",
    "plt.plot([4.837e-3, 4.837e-3], [0., 0.4368], \"r:\") # Not shown\n",
    "plt.plot([0.0, 4.837e-3], [0.4368, 0.4368], \"r:\")  # Not shown\n",
    "plt.plot([4.837e-3], [0.4368], \"ro\")               # Not shown"
   ]
  },
  {
   "cell_type": "code",
   "execution_count": 63,
   "metadata": {
    "colab": {
     "base_uri": "https://localhost:8080/",
     "height": 35
    },
    "id": "pJD_zUizS7gw",
    "outputId": "26696e41-56ef-43ce-e568-33ce17ada079"
   },
   "outputs": [
    {
     "data": {
      "text/html": [
       "<style>\n",
       "    .div-red {\n",
       "        background-color: #EE2A35;\n",
       "    }\n",
       "\n",
       "    .div-green {\n",
       "    \tbackground-color: #009736;\n",
       "    }\n",
       "\n",
       "    .div-black {\n",
       "    \tbackground-color: #000000;\n",
       "    }\n",
       "    .div-white {\n",
       "    \tbackground-color: #FFFFFF;\n",
       "    }\n",
       "    h1 {\n",
       "      color: #EE2A35;\n",
       "    }\n",
       "    h2 {\n",
       "      color: #009736;\n",
       "    }\n",
       "</style>\n"
      ],
      "text/plain": [
       "<IPython.core.display.HTML object>"
      ]
     },
     "metadata": {},
     "output_type": "display_data"
    },
    {
     "data": {
      "text/plain": [
       "0.9604938554008616"
      ]
     },
     "execution_count": 63,
     "metadata": {},
     "output_type": "execute_result"
    }
   ],
   "source": [
    "from sklearn.metrics import roc_auc_score\n",
    "\n",
    "roc_auc_score(y_train_5, y_scores)"
   ]
  },
  {
   "cell_type": "markdown",
   "metadata": {
    "id": "M_9OKuqDS7gx"
   },
   "source": [
    "**Note**: we set `n_estimators=100` to be future-proof since this will be the default value in Scikit-Learn 0.22."
   ]
  },
  {
   "cell_type": "code",
   "execution_count": 64,
   "metadata": {
    "colab": {
     "base_uri": "https://localhost:8080/",
     "height": 17
    },
    "id": "lsXHPxf6S7gx",
    "outputId": "d9fa066d-5d31-471c-b89f-da3dc6881ba8"
   },
   "outputs": [
    {
     "data": {
      "text/html": [
       "<style>\n",
       "    .div-red {\n",
       "        background-color: #EE2A35;\n",
       "    }\n",
       "\n",
       "    .div-green {\n",
       "    \tbackground-color: #009736;\n",
       "    }\n",
       "\n",
       "    .div-black {\n",
       "    \tbackground-color: #000000;\n",
       "    }\n",
       "    .div-white {\n",
       "    \tbackground-color: #FFFFFF;\n",
       "    }\n",
       "    h1 {\n",
       "      color: #EE2A35;\n",
       "    }\n",
       "    h2 {\n",
       "      color: #009736;\n",
       "    }\n",
       "</style>\n"
      ],
      "text/plain": [
       "<IPython.core.display.HTML object>"
      ]
     },
     "metadata": {},
     "output_type": "display_data"
    }
   ],
   "source": [
    "from sklearn.ensemble import RandomForestClassifier\n",
    "forest_clf = RandomForestClassifier(n_estimators=100, random_state=42)\n",
    "y_probas_forest = cross_val_predict(forest_clf, X_train, y_train_5, cv=3,\n",
    "                                    method=\"predict_proba\")"
   ]
  },
  {
   "cell_type": "code",
   "execution_count": 65,
   "metadata": {
    "colab": {
     "base_uri": "https://localhost:8080/",
     "height": 17
    },
    "id": "6n-b3KT6S7gy",
    "outputId": "a7f13cf9-e210-4e97-a7b5-6224034e25ae"
   },
   "outputs": [
    {
     "data": {
      "text/html": [
       "<style>\n",
       "    .div-red {\n",
       "        background-color: #EE2A35;\n",
       "    }\n",
       "\n",
       "    .div-green {\n",
       "    \tbackground-color: #009736;\n",
       "    }\n",
       "\n",
       "    .div-black {\n",
       "    \tbackground-color: #000000;\n",
       "    }\n",
       "    .div-white {\n",
       "    \tbackground-color: #FFFFFF;\n",
       "    }\n",
       "    h1 {\n",
       "      color: #EE2A35;\n",
       "    }\n",
       "    h2 {\n",
       "      color: #009736;\n",
       "    }\n",
       "</style>\n"
      ],
      "text/plain": [
       "<IPython.core.display.HTML object>"
      ]
     },
     "metadata": {},
     "output_type": "display_data"
    }
   ],
   "source": [
    "y_scores_forest = y_probas_forest[:, 1] # score = proba of positive class\n",
    "fpr_forest, tpr_forest, thresholds_forest = roc_curve(y_train_5,y_scores_forest)"
   ]
  },
  {
   "cell_type": "code",
   "execution_count": 66,
   "metadata": {
    "colab": {
     "base_uri": "https://localhost:8080/",
     "height": 571
    },
    "id": "iMAmhpeMS7gy",
    "outputId": "c56bcf83-3f71-4b40-918e-fa3ab4a4b04f"
   },
   "outputs": [
    {
     "data": {
      "text/html": [
       "<style>\n",
       "    .div-red {\n",
       "        background-color: #EE2A35;\n",
       "    }\n",
       "\n",
       "    .div-green {\n",
       "    \tbackground-color: #009736;\n",
       "    }\n",
       "\n",
       "    .div-black {\n",
       "    \tbackground-color: #000000;\n",
       "    }\n",
       "    .div-white {\n",
       "    \tbackground-color: #FFFFFF;\n",
       "    }\n",
       "    h1 {\n",
       "      color: #EE2A35;\n",
       "    }\n",
       "    h2 {\n",
       "      color: #009736;\n",
       "    }\n",
       "</style>\n"
      ],
      "text/plain": [
       "<IPython.core.display.HTML object>"
      ]
     },
     "metadata": {},
     "output_type": "display_data"
    },
    {
     "data": {
      "text/plain": [
       "<matplotlib.legend.Legend at 0x13f4d5690>"
      ]
     },
     "execution_count": 66,
     "metadata": {},
     "output_type": "execute_result"
    },
    {
     "data": {
      "image/png": "[encoded data removed]",
      "text/plain": [
       "<Figure size 800x600 with 1 Axes>"
      ]
     },
     "metadata": {},
     "output_type": "display_data"
    }
   ],
   "source": [
    "plt.figure(figsize=(8, 6))\n",
    "plt.plot(fpr, tpr, \"b:\", linewidth=2, label=\"SGD\")\n",
    "plot_roc_curve(fpr_forest, tpr_forest, \"Random Forest\")\n",
    "plt.plot([4.837e-3, 4.837e-3], [0., 0.4368], \"r:\")\n",
    "plt.plot([0.0, 4.837e-3], [0.4368, 0.4368], \"r:\")\n",
    "plt.plot([4.837e-3], [0.4368], \"ro\")\n",
    "plt.plot([4.837e-3, 4.837e-3], [0., 0.9487], \"r:\")\n",
    "plt.plot([4.837e-3], [0.9487], \"ro\")\n",
    "plt.grid(True)\n",
    "plt.legend(loc=\"lower right\", fontsize=16)"
   ]
  },
  {
   "cell_type": "code",
   "execution_count": 67,
   "metadata": {
    "colab": {
     "base_uri": "https://localhost:8080/",
     "height": 35
    },
    "id": "UNRoyZCfS7gy",
    "outputId": "94b91e7f-6805-4773-d6eb-cdc656971166"
   },
   "outputs": [
    {
     "data": {
      "text/html": [
       "<style>\n",
       "    .div-red {\n",
       "        background-color: #EE2A35;\n",
       "    }\n",
       "\n",
       "    .div-green {\n",
       "    \tbackground-color: #009736;\n",
       "    }\n",
       "\n",
       "    .div-black {\n",
       "    \tbackground-color: #000000;\n",
       "    }\n",
       "    .div-white {\n",
       "    \tbackground-color: #FFFFFF;\n",
       "    }\n",
       "    h1 {\n",
       "      color: #EE2A35;\n",
       "    }\n",
       "    h2 {\n",
       "      color: #009736;\n",
       "    }\n",
       "</style>\n"
      ],
      "text/plain": [
       "<IPython.core.display.HTML object>"
      ]
     },
     "metadata": {},
     "output_type": "display_data"
    },
    {
     "data": {
      "text/plain": [
       "0.9983436731328145"
      ]
     },
     "execution_count": 67,
     "metadata": {},
     "output_type": "execute_result"
    }
   ],
   "source": [
    "roc_auc_score(y_train_5, y_scores_forest)"
   ]
  },
  {
   "cell_type": "code",
   "execution_count": 68,
   "metadata": {
    "colab": {
     "base_uri": "https://localhost:8080/",
     "height": 35
    },
    "id": "_797xsNZS7gz",
    "outputId": "96a78ace-42f6-4e5b-8d12-4ca513d7ee5f"
   },
   "outputs": [
    {
     "data": {
      "text/html": [
       "<style>\n",
       "    .div-red {\n",
       "        background-color: #EE2A35;\n",
       "    }\n",
       "\n",
       "    .div-green {\n",
       "    \tbackground-color: #009736;\n",
       "    }\n",
       "\n",
       "    .div-black {\n",
       "    \tbackground-color: #000000;\n",
       "    }\n",
       "    .div-white {\n",
       "    \tbackground-color: #FFFFFF;\n",
       "    }\n",
       "    h1 {\n",
       "      color: #EE2A35;\n",
       "    }\n",
       "    h2 {\n",
       "      color: #009736;\n",
       "    }\n",
       "</style>\n"
      ],
      "text/plain": [
       "<IPython.core.display.HTML object>"
      ]
     },
     "metadata": {},
     "output_type": "display_data"
    },
    {
     "data": {
      "text/plain": [
       "0.9905083315756169"
      ]
     },
     "execution_count": 68,
     "metadata": {},
     "output_type": "execute_result"
    }
   ],
   "source": [
    "y_train_pred_forest = cross_val_predict(forest_clf, X_train, y_train_5, cv=3)\n",
    "precision_score(y_train_5, y_train_pred_forest)"
   ]
  },
  {
   "cell_type": "code",
   "execution_count": 69,
   "metadata": {
    "colab": {
     "base_uri": "https://localhost:8080/",
     "height": 35
    },
    "id": "MEzPzydcS7gz",
    "outputId": "62e5f054-9427-4656-cbfb-06a78f706b39"
   },
   "outputs": [
    {
     "data": {
      "text/html": [
       "<style>\n",
       "    .div-red {\n",
       "        background-color: #EE2A35;\n",
       "    }\n",
       "\n",
       "    .div-green {\n",
       "    \tbackground-color: #009736;\n",
       "    }\n",
       "\n",
       "    .div-black {\n",
       "    \tbackground-color: #000000;\n",
       "    }\n",
       "    .div-white {\n",
       "    \tbackground-color: #FFFFFF;\n",
       "    }\n",
       "    h1 {\n",
       "      color: #EE2A35;\n",
       "    }\n",
       "    h2 {\n",
       "      color: #009736;\n",
       "    }\n",
       "</style>\n"
      ],
      "text/plain": [
       "<IPython.core.display.HTML object>"
      ]
     },
     "metadata": {},
     "output_type": "display_data"
    },
    {
     "data": {
      "text/plain": [
       "0.8662608374838591"
      ]
     },
     "execution_count": 69,
     "metadata": {},
     "output_type": "execute_result"
    }
   ],
   "source": [
    "recall_score(y_train_5, y_train_pred_forest)"
   ]
  },
  {
   "cell_type": "markdown",
   "metadata": {
    "id": "NVSV6hf8S7g1"
   },
   "source": [
    "# Multiclass classification"
   ]
  },
  {
   "cell_type": "markdown",
   "metadata": {
    "id": "s7XR8bC5S7g1"
   },
   "source": [
    "The case until now was a binary classifier, but the MNIST is a multiclass classification problem.\n",
    "Therefore, the goal is to construct a function which, given a new data point, will correctly predict the class to which the new data belongs.\n",
    "\n",
    "There are several Multiclass classifiers in Scikit-learn. Some are binary, others are directly multiclass as KNN, decision trees, neural networks, logistic regression, Naive Bayes,\n",
    "\n",
    "The simplest would be the OVA method (one vs all), which basically treat the multiclass classification as a set of binary classification. Here we train each binary classifier independently to solve the binary task. A simple example is seen in the left-hand side of figure below. Each figure corresponds to a single class.   \n",
    "\n",
    "Note: depending on the binary classifier is set up, there is a chance that you get contradictory results, especially if you have imbalanced data. If that happens, it is a good idea to use a discriminant function or using the loss function. A nice intro about this idea can be found in [Loss function description](https://towardsdatascience.com/common-loss-functions-in-machine-learning-46af0ffc4d23).\n",
    "\n",
    "The other possibility is to use one-to-one classification, which basically considers all possible pairs, as depicted on the center in the figure below. Here the benefit is that the training set is smaller, though there is a larger number of classifiers. Though it seems that you have to do more work, it is not the case, as the classification for each pair is much smaller, which can be easily parallelized.\n",
    "\n",
    "Another method is the so-called **error correcting output codes**, which is one of the most used methods nowadays, and it is an ensemble method. First of all, a code matrix is created, which is a binary representation for each one of the classes, each code is different for each class and the binary representation is also called a codeword. The next step is to use several binary classification algorithms on the same data, where each outcome is a binary value. These binary classification algorithms are called learners. Therefore, each new instance is evaluated by the learners and they are compared with the already assigned binary classification for the existing class (usually the so called Hamming distance is used for this process). If the distance is zero, the class exists and it can be assigned to that particular class. Usually, we use more binary classifications than those required to write the data in a binary representation, similar to the methods used in error correction in computer systems. The larger the number of learners, the performance of the classifier becomes better. A simple form of a binary representation is shown on the right-hand side in the figure below.\n",
    "\n",
    "<table><tr><td><img src='https://github.com/romerogroup/Notebooks_4SIAH/blob/main/Machine_Learning/fig/MultiClassClassification_1.jpeg?raw=1' alt=\"OtoA\" style=\"width:90%\"></td><td><img src='https://github.com/romerogroup/Notebooks_4SIAH/blob/main/Machine_Learning/fig/MultiClassClassification_2.jpeg?raw=1' alt=\"OtoO\" style=\"width:90%\"></td><td><img src='https://github.com/romerogroup/Notebooks_4SIAH/blob/main/Machine_Learning/fig/MultiClassClassification_3.jpeg?raw=1' alt=\"ECOC\" style=\"width:90%\"></td></tr></table>\n",
    "\n",
    "\n",
    "Here we need to be aware about the quality type of data we will be using. For example, if we have imbalanced data, this typically refers to a problem with classification problems where the classes are not represented equally. Therefore before we use any algorithm, we should become familiar with the type of data we have at hand.\n",
    "\n",
    "In the following example, we will use a supporting vector machine as the classifier for our 10-dimensional data. As discussed before, SVC method is a classifier where a hyperplane that separates the data in classes is formally defined.\n",
    "\n",
    "\n",
    "is a discriminative classifier formally defined by a separating hyperplane. In other words, given labeled training data (supervised learning), the algorithm outputs an optimal hyperplane that categorizes new examples. In two-dimensional space this hyperplane is a line dividing a plane in two parts where in each class lay in either side.\n",
    "Gamma is one of the regularization parameters and allows some nonlinear classification line.\n",
    "With low gamma, points far away from plausible separation plane are considered in the calculation for the separation plane. Whereas high gamma means the points close to the plausible plane are considered in the calculation.\n",
    "\n",
    "\n",
    "Here we are using the default kernel, as described in [Scikit SVC](https://scikit-learn.org/stable/modules/generated/sklearn.svm.SVC.html#sklearn.svm.SVC). A simple understanding of what is kernel can be seen in **linear kernel**, where the equation used for prediction from a new input $x_i$set can be obtained from the dot product between the input and each support vector $a_i$ as calculated by $f(x) = B(0) + \\sum a_i x_i$, where the. Some other kernels are polynomial, exponential, etc.\n",
    "\n",
    "\n"
   ]
  },
  {
   "cell_type": "code",
   "execution_count": 70,
   "metadata": {
    "colab": {
     "base_uri": "https://localhost:8080/",
     "height": 35
    },
    "id": "LRlK2R-QS7g2",
    "outputId": "0f6aabc3-3f58-483b-9fcc-1b7297459a56"
   },
   "outputs": [
    {
     "data": {
      "text/html": [
       "<style>\n",
       "    .div-red {\n",
       "        background-color: #EE2A35;\n",
       "    }\n",
       "\n",
       "    .div-green {\n",
       "    \tbackground-color: #009736;\n",
       "    }\n",
       "\n",
       "    .div-black {\n",
       "    \tbackground-color: #000000;\n",
       "    }\n",
       "    .div-white {\n",
       "    \tbackground-color: #FFFFFF;\n",
       "    }\n",
       "    h1 {\n",
       "      color: #EE2A35;\n",
       "    }\n",
       "    h2 {\n",
       "      color: #009736;\n",
       "    }\n",
       "</style>\n"
      ],
      "text/plain": [
       "<IPython.core.display.HTML object>"
      ]
     },
     "metadata": {},
     "output_type": "display_data"
    },
    {
     "data": {
      "text/plain": [
       "array([5, 0, 4, 1, 9, 2, 1, 3, 1, 4, 3, 5], dtype=uint8)"
      ]
     },
     "execution_count": 70,
     "metadata": {},
     "output_type": "execute_result"
    }
   ],
   "source": [
    "from sklearn.svm import SVC\n",
    "\n",
    "svm_clf = SVC(gamma=\"auto\", random_state=42)\n",
    "svm_clf.fit(X_train[:1000], y_train[:1000]) # y_train, not y_train_5\n",
    "svm_clf.predict(X_train[:12])"
   ]
  },
  {
   "cell_type": "code",
   "execution_count": 71,
   "metadata": {
    "colab": {
     "base_uri": "https://localhost:8080/",
     "height": 35
    },
    "id": "DczOoCtPS7g2",
    "outputId": "51952166-f1ff-4dc1-a754-128a8626e82a"
   },
   "outputs": [
    {
     "data": {
      "text/html": [
       "<style>\n",
       "    .div-red {\n",
       "        background-color: #EE2A35;\n",
       "    }\n",
       "\n",
       "    .div-green {\n",
       "    \tbackground-color: #009736;\n",
       "    }\n",
       "\n",
       "    .div-black {\n",
       "    \tbackground-color: #000000;\n",
       "    }\n",
       "    .div-white {\n",
       "    \tbackground-color: #FFFFFF;\n",
       "    }\n",
       "    h1 {\n",
       "      color: #EE2A35;\n",
       "    }\n",
       "    h2 {\n",
       "      color: #009736;\n",
       "    }\n",
       "</style>\n"
      ],
      "text/plain": [
       "<IPython.core.display.HTML object>"
      ]
     },
     "metadata": {},
     "output_type": "display_data"
    },
    {
     "data": {
      "text/plain": [
       "array([5, 0, 4, 1, 9, 2, 1, 3, 1, 4, 3, 5], dtype=uint8)"
      ]
     },
     "execution_count": 71,
     "metadata": {},
     "output_type": "execute_result"
    }
   ],
   "source": [
    "y_train[:12]"
   ]
  },
  {
   "cell_type": "code",
   "execution_count": 72,
   "metadata": {
    "colab": {
     "base_uri": "https://localhost:8080/",
     "height": 54
    },
    "id": "ChTVl5yxS7g3",
    "outputId": "62afff35-5ac1-49be-a6eb-8a16b05c0e34"
   },
   "outputs": [
    {
     "data": {
      "text/html": [
       "<style>\n",
       "    .div-red {\n",
       "        background-color: #EE2A35;\n",
       "    }\n",
       "\n",
       "    .div-green {\n",
       "    \tbackground-color: #009736;\n",
       "    }\n",
       "\n",
       "    .div-black {\n",
       "    \tbackground-color: #000000;\n",
       "    }\n",
       "    .div-white {\n",
       "    \tbackground-color: #FFFFFF;\n",
       "    }\n",
       "    h1 {\n",
       "      color: #EE2A35;\n",
       "    }\n",
       "    h2 {\n",
       "      color: #009736;\n",
       "    }\n",
       "</style>\n"
      ],
      "text/plain": [
       "<IPython.core.display.HTML object>"
      ]
     },
     "metadata": {},
     "output_type": "display_data"
    },
    {
     "data": {
      "text/plain": [
       "array([[ 2.81585438,  7.09167958,  3.82972099,  0.79365551,  5.8885703 ,\n",
       "         9.29718395,  1.79862509,  8.10392157, -0.228207  ,  4.83753243]])"
      ]
     },
     "execution_count": 72,
     "metadata": {},
     "output_type": "execute_result"
    }
   ],
   "source": [
    "scores_for_5 = svm_clf.decision_function(X_train[:1])\n",
    "scores_for_5"
   ]
  },
  {
   "cell_type": "code",
   "execution_count": 73,
   "metadata": {
    "colab": {
     "base_uri": "https://localhost:8080/",
     "height": 35
    },
    "id": "Y4xBcFSqS7g5",
    "outputId": "9074a761-3d28-43eb-e94e-c180184afd4b"
   },
   "outputs": [
    {
     "data": {
      "text/html": [
       "<style>\n",
       "    .div-red {\n",
       "        background-color: #EE2A35;\n",
       "    }\n",
       "\n",
       "    .div-green {\n",
       "    \tbackground-color: #009736;\n",
       "    }\n",
       "\n",
       "    .div-black {\n",
       "    \tbackground-color: #000000;\n",
       "    }\n",
       "    .div-white {\n",
       "    \tbackground-color: #FFFFFF;\n",
       "    }\n",
       "    h1 {\n",
       "      color: #EE2A35;\n",
       "    }\n",
       "    h2 {\n",
       "      color: #009736;\n",
       "    }\n",
       "</style>\n"
      ],
      "text/plain": [
       "<IPython.core.display.HTML object>"
      ]
     },
     "metadata": {},
     "output_type": "display_data"
    },
    {
     "data": {
      "text/plain": [
       "5"
      ]
     },
     "execution_count": 73,
     "metadata": {},
     "output_type": "execute_result"
    }
   ],
   "source": [
    "np.argmax(scores_for_5)"
   ]
  },
  {
   "cell_type": "code",
   "execution_count": 74,
   "metadata": {
    "colab": {
     "base_uri": "https://localhost:8080/",
     "height": 35
    },
    "id": "1dsCvwRlS7g6",
    "outputId": "6f1a1d3f-bd92-4814-f4c3-a7adef245097"
   },
   "outputs": [
    {
     "data": {
      "text/html": [
       "<style>\n",
       "    .div-red {\n",
       "        background-color: #EE2A35;\n",
       "    }\n",
       "\n",
       "    .div-green {\n",
       "    \tbackground-color: #009736;\n",
       "    }\n",
       "\n",
       "    .div-black {\n",
       "    \tbackground-color: #000000;\n",
       "    }\n",
       "    .div-white {\n",
       "    \tbackground-color: #FFFFFF;\n",
       "    }\n",
       "    h1 {\n",
       "      color: #EE2A35;\n",
       "    }\n",
       "    h2 {\n",
       "      color: #009736;\n",
       "    }\n",
       "</style>\n"
      ],
      "text/plain": [
       "<IPython.core.display.HTML object>"
      ]
     },
     "metadata": {},
     "output_type": "display_data"
    },
    {
     "data": {
      "text/plain": [
       "array([0, 1, 2, 3, 4, 5, 6, 7, 8, 9], dtype=uint8)"
      ]
     },
     "execution_count": 74,
     "metadata": {},
     "output_type": "execute_result"
    }
   ],
   "source": [
    "svm_clf.classes_"
   ]
  },
  {
   "cell_type": "code",
   "execution_count": 75,
   "metadata": {
    "colab": {
     "base_uri": "https://localhost:8080/",
     "height": 35
    },
    "id": "_nfj1CqGS7g7",
    "outputId": "3f2ba5ba-d0da-4967-a46b-ad1ec2835e19"
   },
   "outputs": [
    {
     "data": {
      "text/html": [
       "<style>\n",
       "    .div-red {\n",
       "        background-color: #EE2A35;\n",
       "    }\n",
       "\n",
       "    .div-green {\n",
       "    \tbackground-color: #009736;\n",
       "    }\n",
       "\n",
       "    .div-black {\n",
       "    \tbackground-color: #000000;\n",
       "    }\n",
       "    .div-white {\n",
       "    \tbackground-color: #FFFFFF;\n",
       "    }\n",
       "    h1 {\n",
       "      color: #EE2A35;\n",
       "    }\n",
       "    h2 {\n",
       "      color: #009736;\n",
       "    }\n",
       "</style>\n"
      ],
      "text/plain": [
       "<IPython.core.display.HTML object>"
      ]
     },
     "metadata": {},
     "output_type": "display_data"
    },
    {
     "data": {
      "text/plain": [
       "5"
      ]
     },
     "execution_count": 75,
     "metadata": {},
     "output_type": "execute_result"
    }
   ],
   "source": [
    "svm_clf.classes_[5]"
   ]
  },
  {
   "cell_type": "code",
   "execution_count": 76,
   "metadata": {
    "colab": {
     "base_uri": "https://localhost:8080/",
     "height": 35
    },
    "id": "E5d_iWaCS7g8",
    "outputId": "181470b3-23b4-4860-82ba-a21c68f83712"
   },
   "outputs": [
    {
     "data": {
      "text/html": [
       "<style>\n",
       "    .div-red {\n",
       "        background-color: #EE2A35;\n",
       "    }\n",
       "\n",
       "    .div-green {\n",
       "    \tbackground-color: #009736;\n",
       "    }\n",
       "\n",
       "    .div-black {\n",
       "    \tbackground-color: #000000;\n",
       "    }\n",
       "    .div-white {\n",
       "    \tbackground-color: #FFFFFF;\n",
       "    }\n",
       "    h1 {\n",
       "      color: #EE2A35;\n",
       "    }\n",
       "    h2 {\n",
       "      color: #009736;\n",
       "    }\n",
       "</style>\n"
      ],
      "text/plain": [
       "<IPython.core.display.HTML object>"
      ]
     },
     "metadata": {},
     "output_type": "display_data"
    },
    {
     "data": {
      "text/plain": [
       "array([5, 0, 4, 1, 9, 2, 1, 3, 1, 4, 3, 5], dtype=uint8)"
      ]
     },
     "execution_count": 76,
     "metadata": {},
     "output_type": "execute_result"
    }
   ],
   "source": [
    "from sklearn.multiclass import OneVsRestClassifier\n",
    "ovr_clf = OneVsRestClassifier(SVC(gamma=\"auto\", random_state=42))\n",
    "ovr_clf.fit(X_train[:1000], y_train[:1000])\n",
    "ovr_clf.predict(X_train[:12])"
   ]
  },
  {
   "cell_type": "code",
   "execution_count": 77,
   "metadata": {
    "colab": {
     "base_uri": "https://localhost:8080/",
     "height": 35
    },
    "id": "c1Sqf3l1S7g8",
    "outputId": "1d8aa096-0cca-452c-c741-4e9052e9a63b"
   },
   "outputs": [
    {
     "data": {
      "text/html": [
       "<style>\n",
       "    .div-red {\n",
       "        background-color: #EE2A35;\n",
       "    }\n",
       "\n",
       "    .div-green {\n",
       "    \tbackground-color: #009736;\n",
       "    }\n",
       "\n",
       "    .div-black {\n",
       "    \tbackground-color: #000000;\n",
       "    }\n",
       "    .div-white {\n",
       "    \tbackground-color: #FFFFFF;\n",
       "    }\n",
       "    h1 {\n",
       "      color: #EE2A35;\n",
       "    }\n",
       "    h2 {\n",
       "      color: #009736;\n",
       "    }\n",
       "</style>\n"
      ],
      "text/plain": [
       "<IPython.core.display.HTML object>"
      ]
     },
     "metadata": {},
     "output_type": "display_data"
    },
    {
     "data": {
      "text/plain": [
       "10"
      ]
     },
     "execution_count": 77,
     "metadata": {},
     "output_type": "execute_result"
    }
   ],
   "source": [
    "len(ovr_clf.estimators_)"
   ]
  },
  {
   "cell_type": "code",
   "execution_count": 78,
   "metadata": {
    "colab": {
     "base_uri": "https://localhost:8080/",
     "height": 75
    },
    "id": "W0ch2_4eS7g9",
    "outputId": "c2c0f07d-466a-4e0c-f460-01c814b25ea3"
   },
   "outputs": [
    {
     "data": {
      "text/html": [
       "<style>\n",
       "    .div-red {\n",
       "        background-color: #EE2A35;\n",
       "    }\n",
       "\n",
       "    .div-green {\n",
       "    \tbackground-color: #009736;\n",
       "    }\n",
       "\n",
       "    .div-black {\n",
       "    \tbackground-color: #000000;\n",
       "    }\n",
       "    .div-white {\n",
       "    \tbackground-color: #FFFFFF;\n",
       "    }\n",
       "    h1 {\n",
       "      color: #EE2A35;\n",
       "    }\n",
       "    h2 {\n",
       "      color: #009736;\n",
       "    }\n",
       "</style>\n"
      ],
      "text/plain": [
       "<IPython.core.display.HTML object>"
      ]
     },
     "metadata": {},
     "output_type": "display_data"
    },
    {
     "data": {
      "text/html": [
       "<style>#sk-container-id-2 {color: black;}#sk-container-id-2 pre{padding: 0;}#sk-container-id-2 div.sk-toggleable {background-color: white;}#sk-container-id-2 label.sk-toggleable__label {cursor: pointer;display: block;width: 100%;margin-bottom: 0;padding: 0.3em;box-sizing: border-box;text-align: center;}#sk-container-id-2 label.sk-toggleable__label-arrow:before {content: \"▸\";float: left;margin-right: 0.25em;color: #696969;}#sk-container-id-2 label.sk-toggleable__label-arrow:hover:before {color: black;}#sk-container-id-2 div.sk-estimator:hover label.sk-toggleable__label-arrow:before {color: black;}#sk-container-id-2 div.sk-toggleable__content {max-height: 0;max-width: 0;overflow: hidden;text-align: left;background-color: #f0f8ff;}#sk-container-id-2 div.sk-toggleable__content pre {margin: 0.2em;color: black;border-radius: 0.25em;background-color: #f0f8ff;}#sk-container-id-2 input.sk-toggleable__control:checked~div.sk-toggleable__content {max-height: 200px;max-width: 100%;overflow: auto;}#sk-container-id-2 input.sk-toggleable__control:checked~label.sk-toggleable__label-arrow:before {content: \"▾\";}#sk-container-id-2 div.sk-estimator input.sk-toggleable__control:checked~label.sk-toggleable__label {background-color: #d4ebff;}#sk-container-id-2 div.sk-label input.sk-toggleable__control:checked~label.sk-toggleable__label {background-color: #d4ebff;}#sk-container-id-2 input.sk-hidden--visually {border: 0;clip: rect(1px 1px 1px 1px);clip: rect(1px, 1px, 1px, 1px);height: 1px;margin: -1px;overflow: hidden;padding: 0;position: absolute;width: 1px;}#sk-container-id-2 div.sk-estimator {font-family: monospace;background-color: #f0f8ff;border: 1px dotted black;border-radius: 0.25em;box-sizing: border-box;margin-bottom: 0.5em;}#sk-container-id-2 div.sk-estimator:hover {background-color: #d4ebff;}#sk-container-id-2 div.sk-parallel-item::after {content: \"\";width: 100%;border-bottom: 1px solid gray;flex-grow: 1;}#sk-container-id-2 div.sk-label:hover label.sk-toggleable__label {background-color: #d4ebff;}#sk-container-id-2 div.sk-serial::before {content: \"\";position: absolute;border-left: 1px solid gray;box-sizing: border-box;top: 0;bottom: 0;left: 50%;z-index: 0;}#sk-container-id-2 div.sk-serial {display: flex;flex-direction: column;align-items: center;background-color: white;padding-right: 0.2em;padding-left: 0.2em;position: relative;}#sk-container-id-2 div.sk-item {position: relative;z-index: 1;}#sk-container-id-2 div.sk-parallel {display: flex;align-items: stretch;justify-content: center;background-color: white;position: relative;}#sk-container-id-2 div.sk-item::before, #sk-container-id-2 div.sk-parallel-item::before {content: \"\";position: absolute;border-left: 1px solid gray;box-sizing: border-box;top: 0;bottom: 0;left: 50%;z-index: -1;}#sk-container-id-2 div.sk-parallel-item {display: flex;flex-direction: column;z-index: 1;position: relative;background-color: white;}#sk-container-id-2 div.sk-parallel-item:first-child::after {align-self: flex-end;width: 50%;}#sk-container-id-2 div.sk-parallel-item:last-child::after {align-self: flex-start;width: 50%;}#sk-container-id-2 div.sk-parallel-item:only-child::after {width: 0;}#sk-container-id-2 div.sk-dashed-wrapped {border: 1px dashed gray;margin: 0 0.4em 0.5em 0.4em;box-sizing: border-box;padding-bottom: 0.4em;background-color: white;}#sk-container-id-2 div.sk-label label {font-family: monospace;font-weight: bold;display: inline-block;line-height: 1.2em;}#sk-container-id-2 div.sk-label-container {text-align: center;}#sk-container-id-2 div.sk-container {/* jupyter's `normalize.less` sets `[hidden] { display: none; }` but bootstrap.min.css set `[hidden] { display: none !important; }` so we also need the `!important` here to be able to override the default hidden behavior on the sphinx rendered scikit-learn.org. See: https://github.com/scikit-learn/scikit-learn/issues/21755 */display: inline-block !important;position: relative;}#sk-container-id-2 div.sk-text-repr-fallback {display: none;}</style><div id=\"sk-container-id-2\" class=\"sk-top-container\"><div class=\"sk-text-repr-fallback\"><pre>SGDClassifier(random_state=42)</pre><b>In a Jupyter environment, please rerun this cell to show the HTML representation or trust the notebook. <br />On GitHub, the HTML representation is unable to render, please try loading this page with nbviewer.org.</b></div><div class=\"sk-container\" hidden><div class=\"sk-item\"><div class=\"sk-estimator sk-toggleable\"><input class=\"sk-toggleable__control sk-hidden--visually\" id=\"sk-estimator-id-2\" type=\"checkbox\" checked><label for=\"sk-estimator-id-2\" class=\"sk-toggleable__label sk-toggleable__label-arrow\">SGDClassifier</label><div class=\"sk-toggleable__content\"><pre>SGDClassifier(random_state=42)</pre></div></div></div></div></div>"
      ],
      "text/plain": [
       "SGDClassifier(random_state=42)"
      ]
     },
     "execution_count": 78,
     "metadata": {},
     "output_type": "execute_result"
    }
   ],
   "source": [
    "sgd_clf.fit(X_train, y_train)"
   ]
  },
  {
   "cell_type": "code",
   "execution_count": 79,
   "metadata": {
    "colab": {
     "base_uri": "https://localhost:8080/",
     "height": 35
    },
    "id": "jcEg2UQYS7g9",
    "outputId": "fcdd32db-d798-4abf-a459-2dea39d74a02"
   },
   "outputs": [
    {
     "data": {
      "text/html": [
       "<style>\n",
       "    .div-red {\n",
       "        background-color: #EE2A35;\n",
       "    }\n",
       "\n",
       "    .div-green {\n",
       "    \tbackground-color: #009736;\n",
       "    }\n",
       "\n",
       "    .div-black {\n",
       "    \tbackground-color: #000000;\n",
       "    }\n",
       "    .div-white {\n",
       "    \tbackground-color: #FFFFFF;\n",
       "    }\n",
       "    h1 {\n",
       "      color: #EE2A35;\n",
       "    }\n",
       "    h2 {\n",
       "      color: #009736;\n",
       "    }\n",
       "</style>\n"
      ],
      "text/plain": [
       "<IPython.core.display.HTML object>"
      ]
     },
     "metadata": {},
     "output_type": "display_data"
    },
    {
     "data": {
      "text/plain": [
       "array([3, 0, 4, 1, 9, 2, 1, 3, 1, 4, 3, 5], dtype=uint8)"
      ]
     },
     "execution_count": 79,
     "metadata": {},
     "output_type": "execute_result"
    }
   ],
   "source": [
    "sgd_clf.predict(X_train[:12])"
   ]
  },
  {
   "cell_type": "code",
   "execution_count": 80,
   "metadata": {
    "colab": {
     "base_uri": "https://localhost:8080/",
     "height": 90
    },
    "id": "IVYJ0hhrS7g-",
    "outputId": "d6a78497-a443-4869-889f-1074b522f68b"
   },
   "outputs": [
    {
     "data": {
      "text/html": [
       "<style>\n",
       "    .div-red {\n",
       "        background-color: #EE2A35;\n",
       "    }\n",
       "\n",
       "    .div-green {\n",
       "    \tbackground-color: #009736;\n",
       "    }\n",
       "\n",
       "    .div-black {\n",
       "    \tbackground-color: #000000;\n",
       "    }\n",
       "    .div-white {\n",
       "    \tbackground-color: #FFFFFF;\n",
       "    }\n",
       "    h1 {\n",
       "      color: #EE2A35;\n",
       "    }\n",
       "    h2 {\n",
       "      color: #009736;\n",
       "    }\n",
       "</style>\n"
      ],
      "text/plain": [
       "<IPython.core.display.HTML object>"
      ]
     },
     "metadata": {},
     "output_type": "display_data"
    },
    {
     "data": {
      "text/plain": [
       "array([[-31893.03095419, -34419.69069632,  -9530.63950739,\n",
       "          1823.73154031, -22320.14822878,  -1385.80478895,\n",
       "        -26188.91070951, -16147.51323997,  -4604.35491274,\n",
       "        -12050.767298  ]])"
      ]
     },
     "execution_count": 80,
     "metadata": {},
     "output_type": "execute_result"
    }
   ],
   "source": [
    "sgd_clf.decision_function(X_train[:1])"
   ]
  },
  {
   "cell_type": "code",
   "execution_count": 81,
   "metadata": {
    "colab": {
     "base_uri": "https://localhost:8080/",
     "height": 35
    },
    "id": "Ci66DXwfS7g-",
    "outputId": "cee70166-7296-4f30-a5d3-a3ab29e1d356"
   },
   "outputs": [
    {
     "data": {
      "text/html": [
       "<style>\n",
       "    .div-red {\n",
       "        background-color: #EE2A35;\n",
       "    }\n",
       "\n",
       "    .div-green {\n",
       "    \tbackground-color: #009736;\n",
       "    }\n",
       "\n",
       "    .div-black {\n",
       "    \tbackground-color: #000000;\n",
       "    }\n",
       "    .div-white {\n",
       "    \tbackground-color: #FFFFFF;\n",
       "    }\n",
       "    h1 {\n",
       "      color: #EE2A35;\n",
       "    }\n",
       "    h2 {\n",
       "      color: #009736;\n",
       "    }\n",
       "</style>\n"
      ],
      "text/plain": [
       "<IPython.core.display.HTML object>"
      ]
     },
     "metadata": {},
     "output_type": "display_data"
    },
    {
     "data": {
      "text/plain": [
       "array([0.87365, 0.85835, 0.8689 ])"
      ]
     },
     "execution_count": 81,
     "metadata": {},
     "output_type": "execute_result"
    }
   ],
   "source": [
    "cross_val_score(sgd_clf, X_train, y_train, cv=3, scoring=\"accuracy\")"
   ]
  },
  {
   "cell_type": "code",
   "execution_count": 82,
   "metadata": {
    "colab": {
     "base_uri": "https://localhost:8080/",
     "height": 35
    },
    "id": "ki38Xur9S7g_",
    "outputId": "10ae7193-eb42-4644-fa00-a17f77ecdbdf"
   },
   "outputs": [
    {
     "data": {
      "text/html": [
       "<style>\n",
       "    .div-red {\n",
       "        background-color: #EE2A35;\n",
       "    }\n",
       "\n",
       "    .div-green {\n",
       "    \tbackground-color: #009736;\n",
       "    }\n",
       "\n",
       "    .div-black {\n",
       "    \tbackground-color: #000000;\n",
       "    }\n",
       "    .div-white {\n",
       "    \tbackground-color: #FFFFFF;\n",
       "    }\n",
       "    h1 {\n",
       "      color: #EE2A35;\n",
       "    }\n",
       "    h2 {\n",
       "      color: #009736;\n",
       "    }\n",
       "</style>\n"
      ],
      "text/plain": [
       "<IPython.core.display.HTML object>"
      ]
     },
     "metadata": {},
     "output_type": "display_data"
    },
    {
     "data": {
      "text/plain": [
       "array([0.84431138, 0.81381381, 0.77177177])"
      ]
     },
     "execution_count": 82,
     "metadata": {},
     "output_type": "execute_result"
    }
   ],
   "source": [
    "from sklearn.preprocessing import StandardScaler\n",
    "scaler = StandardScaler()\n",
    "X_train_scaled = scaler.fit_transform(X_train.astype(np.float64))\n",
    "cross_val_score(sgd_clf, X_train_scaled[:1000], y_train[:1000], cv=3, scoring=\"accuracy\")"
   ]
  },
  {
   "cell_type": "code",
   "execution_count": 83,
   "metadata": {
    "colab": {
     "base_uri": "https://localhost:8080/",
     "height": 201
    },
    "id": "Xz9m2EYnS7g_",
    "outputId": "dd750091-9511-4a16-9511-65460fb44f12",
    "scrolled": true
   },
   "outputs": [
    {
     "data": {
      "text/html": [
       "<style>\n",
       "    .div-red {\n",
       "        background-color: #EE2A35;\n",
       "    }\n",
       "\n",
       "    .div-green {\n",
       "    \tbackground-color: #009736;\n",
       "    }\n",
       "\n",
       "    .div-black {\n",
       "    \tbackground-color: #000000;\n",
       "    }\n",
       "    .div-white {\n",
       "    \tbackground-color: #FFFFFF;\n",
       "    }\n",
       "    h1 {\n",
       "      color: #EE2A35;\n",
       "    }\n",
       "    h2 {\n",
       "      color: #009736;\n",
       "    }\n",
       "</style>\n"
      ],
      "text/plain": [
       "<IPython.core.display.HTML object>"
      ]
     },
     "metadata": {},
     "output_type": "display_data"
    },
    {
     "data": {
      "text/plain": [
       "array([[ 88,   0,   0,   0,   0,   7,   2,   0,   0,   0],\n",
       "       [  1, 100,   3,   0,   0,   4,   0,   1,   5,   2],\n",
       "       [  2,   3,  73,   3,   2,   3,   3,   4,   5,   1],\n",
       "       [  0,   1,   7,  74,   1,   5,   0,   2,   0,   3],\n",
       "       [  1,   0,   1,   2,  85,   4,   2,   1,   2,   7],\n",
       "       [  0,   2,   2,   9,   4,  65,   1,   1,   6,   2],\n",
       "       [  2,   2,   3,   0,   2,   4,  81,   0,   0,   0],\n",
       "       [  0,   0,   2,   1,   4,   0,   0, 104,   0,   6],\n",
       "       [  0,   4,   2,   0,   0,   6,   2,   1,  70,   2],\n",
       "       [  5,   0,   0,   1,   5,   1,   0,  17,   1,  70]])"
      ]
     },
     "execution_count": 83,
     "metadata": {},
     "output_type": "execute_result"
    }
   ],
   "source": [
    "y_train_pred = cross_val_predict(sgd_clf, X_train_scaled[:1000],\n",
    "                                 y_train[:1000], cv=3)\n",
    "conf_mx = confusion_matrix(y_train[:1000], y_train_pred[:1000])\n",
    "conf_mx"
   ]
  },
  {
   "cell_type": "code",
   "execution_count": 84,
   "metadata": {
    "colab": {
     "base_uri": "https://localhost:8080/",
     "height": 430
    },
    "id": "U_FJK9IVS7hA",
    "outputId": "87aaa7ff-b4f0-48fe-921f-49055f7cc139"
   },
   "outputs": [
    {
     "data": {
      "text/html": [
       "<style>\n",
       "    .div-red {\n",
       "        background-color: #EE2A35;\n",
       "    }\n",
       "\n",
       "    .div-green {\n",
       "    \tbackground-color: #009736;\n",
       "    }\n",
       "\n",
       "    .div-black {\n",
       "    \tbackground-color: #000000;\n",
       "    }\n",
       "    .div-white {\n",
       "    \tbackground-color: #FFFFFF;\n",
       "    }\n",
       "    h1 {\n",
       "      color: #EE2A35;\n",
       "    }\n",
       "    h2 {\n",
       "      color: #009736;\n",
       "    }\n",
       "</style>\n"
      ],
      "text/plain": [
       "<IPython.core.display.HTML object>"
      ]
     },
     "metadata": {},
     "output_type": "display_data"
    },
    {
     "data": {
      "image/png": "[encoded data removed]",
      "text/plain": [
       "<Figure size 640x480 with 2 Axes>"
      ]
     },
     "metadata": {},
     "output_type": "display_data"
    }
   ],
   "source": [
    "plt.imshow(conf_mx)\n",
    "plt.colorbar();"
   ]
  },
  {
   "cell_type": "code",
   "execution_count": 85,
   "metadata": {
    "colab": {
     "base_uri": "https://localhost:8080/",
     "height": 17
    },
    "id": "Ry2dOqFfS7hA",
    "outputId": "f49a1199-4279-4854-981b-07de9cd47a59"
   },
   "outputs": [
    {
     "data": {
      "text/html": [
       "<style>\n",
       "    .div-red {\n",
       "        background-color: #EE2A35;\n",
       "    }\n",
       "\n",
       "    .div-green {\n",
       "    \tbackground-color: #009736;\n",
       "    }\n",
       "\n",
       "    .div-black {\n",
       "    \tbackground-color: #000000;\n",
       "    }\n",
       "    .div-white {\n",
       "    \tbackground-color: #FFFFFF;\n",
       "    }\n",
       "    h1 {\n",
       "      color: #EE2A35;\n",
       "    }\n",
       "    h2 {\n",
       "      color: #009736;\n",
       "    }\n",
       "</style>\n"
      ],
      "text/plain": [
       "<IPython.core.display.HTML object>"
      ]
     },
     "metadata": {},
     "output_type": "display_data"
    }
   ],
   "source": [
    "def plot_confusion_matrix(matrix):\n",
    "    \"\"\"If you prefer color and a colorbar\"\"\"\n",
    "    fig = plt.figure(figsize=(8,8))\n",
    "    ax = fig.add_subplot(111)\n",
    "    cax = ax.matshow(matrix)\n",
    "    fig.colorbar(cax)"
   ]
  },
  {
   "cell_type": "code",
   "execution_count": 86,
   "metadata": {
    "colab": {
     "base_uri": "https://localhost:8080/",
     "height": 437
    },
    "id": "jpNPHreBS7hB",
    "outputId": "18e4a644-8aa4-4540-b71d-9b28b8c74a1f"
   },
   "outputs": [
    {
     "data": {
      "text/html": [
       "<style>\n",
       "    .div-red {\n",
       "        background-color: #EE2A35;\n",
       "    }\n",
       "\n",
       "    .div-green {\n",
       "    \tbackground-color: #009736;\n",
       "    }\n",
       "\n",
       "    .div-black {\n",
       "    \tbackground-color: #000000;\n",
       "    }\n",
       "    .div-white {\n",
       "    \tbackground-color: #FFFFFF;\n",
       "    }\n",
       "    h1 {\n",
       "      color: #EE2A35;\n",
       "    }\n",
       "    h2 {\n",
       "      color: #009736;\n",
       "    }\n",
       "</style>\n"
      ],
      "text/plain": [
       "<IPython.core.display.HTML object>"
      ]
     },
     "metadata": {},
     "output_type": "display_data"
    },
    {
     "data": {
      "image/png": "[encoded data removed]",
      "text/plain": [
       "<Figure size 480x480 with 1 Axes>"
      ]
     },
     "metadata": {},
     "output_type": "display_data"
    }
   ],
   "source": [
    "plt.matshow(conf_mx, cmap=plt.cm.gray);"
   ]
  },
  {
   "cell_type": "code",
   "execution_count": 87,
   "metadata": {
    "colab": {
     "base_uri": "https://localhost:8080/",
     "height": 17
    },
    "id": "PdxlXeH3S7hC",
    "outputId": "26e3a959-ad0e-466f-8923-e9b9485a95e4"
   },
   "outputs": [
    {
     "data": {
      "text/html": [
       "<style>\n",
       "    .div-red {\n",
       "        background-color: #EE2A35;\n",
       "    }\n",
       "\n",
       "    .div-green {\n",
       "    \tbackground-color: #009736;\n",
       "    }\n",
       "\n",
       "    .div-black {\n",
       "    \tbackground-color: #000000;\n",
       "    }\n",
       "    .div-white {\n",
       "    \tbackground-color: #FFFFFF;\n",
       "    }\n",
       "    h1 {\n",
       "      color: #EE2A35;\n",
       "    }\n",
       "    h2 {\n",
       "      color: #009736;\n",
       "    }\n",
       "</style>\n"
      ],
      "text/plain": [
       "<IPython.core.display.HTML object>"
      ]
     },
     "metadata": {},
     "output_type": "display_data"
    }
   ],
   "source": [
    "row_sums = conf_mx.sum(axis=1, keepdims=True)\n",
    "norm_conf_mx = conf_mx / row_sums"
   ]
  },
  {
   "cell_type": "code",
   "execution_count": 88,
   "metadata": {
    "colab": {
     "base_uri": "https://localhost:8080/",
     "height": 437
    },
    "id": "tXZS-Xg8S7hC",
    "outputId": "f39e064e-15f1-4c6f-cf92-c0c70204fb8e"
   },
   "outputs": [
    {
     "data": {
      "text/html": [
       "<style>\n",
       "    .div-red {\n",
       "        background-color: #EE2A35;\n",
       "    }\n",
       "\n",
       "    .div-green {\n",
       "    \tbackground-color: #009736;\n",
       "    }\n",
       "\n",
       "    .div-black {\n",
       "    \tbackground-color: #000000;\n",
       "    }\n",
       "    .div-white {\n",
       "    \tbackground-color: #FFFFFF;\n",
       "    }\n",
       "    h1 {\n",
       "      color: #EE2A35;\n",
       "    }\n",
       "    h2 {\n",
       "      color: #009736;\n",
       "    }\n",
       "</style>\n"
      ],
      "text/plain": [
       "<IPython.core.display.HTML object>"
      ]
     },
     "metadata": {},
     "output_type": "display_data"
    },
    {
     "data": {
      "image/png": "[encoded data removed]",
      "text/plain": [
       "<Figure size 480x480 with 1 Axes>"
      ]
     },
     "metadata": {},
     "output_type": "display_data"
    }
   ],
   "source": [
    "np.fill_diagonal(norm_conf_mx, 0)\n",
    "plt.matshow(norm_conf_mx, cmap=plt.cm.gray);"
   ]
  },
  {
   "cell_type": "code",
   "execution_count": 89,
   "metadata": {
    "colab": {
     "base_uri": "https://localhost:8080/",
     "height": 653
    },
    "id": "-hy1bIVLS7hC",
    "outputId": "7c3bba18-0083-44cc-bc4e-0bf4e0e76b31"
   },
   "outputs": [
    {
     "data": {
      "text/html": [
       "<style>\n",
       "    .div-red {\n",
       "        background-color: #EE2A35;\n",
       "    }\n",
       "\n",
       "    .div-green {\n",
       "    \tbackground-color: #009736;\n",
       "    }\n",
       "\n",
       "    .div-black {\n",
       "    \tbackground-color: #000000;\n",
       "    }\n",
       "    .div-white {\n",
       "    \tbackground-color: #FFFFFF;\n",
       "    }\n",
       "    h1 {\n",
       "      color: #EE2A35;\n",
       "    }\n",
       "    h2 {\n",
       "      color: #009736;\n",
       "    }\n",
       "</style>\n"
      ],
      "text/plain": [
       "<IPython.core.display.HTML object>"
      ]
     },
     "metadata": {},
     "output_type": "display_data"
    },
    {
     "data": {
      "image/png": "[encoded data removed]",
      "text/plain": [
       "<Figure size 800x800 with 4 Axes>"
      ]
     },
     "metadata": {},
     "output_type": "display_data"
    }
   ],
   "source": [
    "y_train_pred = sgd_clf.predict(X_train_scaled)\n",
    "\n",
    "cl_a, cl_b = 3, 5\n",
    "X_aa = X_train[(y_train == cl_a) & (y_train_pred == cl_a)]\n",
    "X_ab = X_train[(y_train == cl_a) & (y_train_pred == cl_b)]\n",
    "X_ba = X_train[(y_train == cl_b) & (y_train_pred == cl_a)]\n",
    "X_bb = X_train[(y_train == cl_b) & (y_train_pred == cl_b)]\n",
    "\n",
    "plt.figure(figsize=(8,8))\n",
    "plt.subplot(221); plot_digits(X_aa[:25], images_per_row=5)\n",
    "plt.subplot(222); plot_digits(X_ab[:25], images_per_row=5)\n",
    "plt.subplot(223); plot_digits(X_ba[:25], images_per_row=5)\n",
    "plt.subplot(224); plot_digits(X_bb[:25], images_per_row=5)"
   ]
  },
  {
   "cell_type": "markdown",
   "metadata": {
    "id": "Fru7mTBTS7hD"
   },
   "source": [
    "# Multilabel classification"
   ]
  },
  {
   "cell_type": "code",
   "execution_count": 90,
   "metadata": {
    "colab": {
     "base_uri": "https://localhost:8080/",
     "height": 75
    },
    "id": "tTvql_DaS7hD",
    "outputId": "0b77be9c-89b1-4ecb-e3ef-428e3c309836"
   },
   "outputs": [
    {
     "data": {
      "text/html": [
       "<style>\n",
       "    .div-red {\n",
       "        background-color: #EE2A35;\n",
       "    }\n",
       "\n",
       "    .div-green {\n",
       "    \tbackground-color: #009736;\n",
       "    }\n",
       "\n",
       "    .div-black {\n",
       "    \tbackground-color: #000000;\n",
       "    }\n",
       "    .div-white {\n",
       "    \tbackground-color: #FFFFFF;\n",
       "    }\n",
       "    h1 {\n",
       "      color: #EE2A35;\n",
       "    }\n",
       "    h2 {\n",
       "      color: #009736;\n",
       "    }\n",
       "</style>\n"
      ],
      "text/plain": [
       "<IPython.core.display.HTML object>"
      ]
     },
     "metadata": {},
     "output_type": "display_data"
    },
    {
     "data": {
      "text/html": [
       "<style>#sk-container-id-3 {color: black;}#sk-container-id-3 pre{padding: 0;}#sk-container-id-3 div.sk-toggleable {background-color: white;}#sk-container-id-3 label.sk-toggleable__label {cursor: pointer;display: block;width: 100%;margin-bottom: 0;padding: 0.3em;box-sizing: border-box;text-align: center;}#sk-container-id-3 label.sk-toggleable__label-arrow:before {content: \"▸\";float: left;margin-right: 0.25em;color: #696969;}#sk-container-id-3 label.sk-toggleable__label-arrow:hover:before {color: black;}#sk-container-id-3 div.sk-estimator:hover label.sk-toggleable__label-arrow:before {color: black;}#sk-container-id-3 div.sk-toggleable__content {max-height: 0;max-width: 0;overflow: hidden;text-align: left;background-color: #f0f8ff;}#sk-container-id-3 div.sk-toggleable__content pre {margin: 0.2em;color: black;border-radius: 0.25em;background-color: #f0f8ff;}#sk-container-id-3 input.sk-toggleable__control:checked~div.sk-toggleable__content {max-height: 200px;max-width: 100%;overflow: auto;}#sk-container-id-3 input.sk-toggleable__control:checked~label.sk-toggleable__label-arrow:before {content: \"▾\";}#sk-container-id-3 div.sk-estimator input.sk-toggleable__control:checked~label.sk-toggleable__label {background-color: #d4ebff;}#sk-container-id-3 div.sk-label input.sk-toggleable__control:checked~label.sk-toggleable__label {background-color: #d4ebff;}#sk-container-id-3 input.sk-hidden--visually {border: 0;clip: rect(1px 1px 1px 1px);clip: rect(1px, 1px, 1px, 1px);height: 1px;margin: -1px;overflow: hidden;padding: 0;position: absolute;width: 1px;}#sk-container-id-3 div.sk-estimator {font-family: monospace;background-color: #f0f8ff;border: 1px dotted black;border-radius: 0.25em;box-sizing: border-box;margin-bottom: 0.5em;}#sk-container-id-3 div.sk-estimator:hover {background-color: #d4ebff;}#sk-container-id-3 div.sk-parallel-item::after {content: \"\";width: 100%;border-bottom: 1px solid gray;flex-grow: 1;}#sk-container-id-3 div.sk-label:hover label.sk-toggleable__label {background-color: #d4ebff;}#sk-container-id-3 div.sk-serial::before {content: \"\";position: absolute;border-left: 1px solid gray;box-sizing: border-box;top: 0;bottom: 0;left: 50%;z-index: 0;}#sk-container-id-3 div.sk-serial {display: flex;flex-direction: column;align-items: center;background-color: white;padding-right: 0.2em;padding-left: 0.2em;position: relative;}#sk-container-id-3 div.sk-item {position: relative;z-index: 1;}#sk-container-id-3 div.sk-parallel {display: flex;align-items: stretch;justify-content: center;background-color: white;position: relative;}#sk-container-id-3 div.sk-item::before, #sk-container-id-3 div.sk-parallel-item::before {content: \"\";position: absolute;border-left: 1px solid gray;box-sizing: border-box;top: 0;bottom: 0;left: 50%;z-index: -1;}#sk-container-id-3 div.sk-parallel-item {display: flex;flex-direction: column;z-index: 1;position: relative;background-color: white;}#sk-container-id-3 div.sk-parallel-item:first-child::after {align-self: flex-end;width: 50%;}#sk-container-id-3 div.sk-parallel-item:last-child::after {align-self: flex-start;width: 50%;}#sk-container-id-3 div.sk-parallel-item:only-child::after {width: 0;}#sk-container-id-3 div.sk-dashed-wrapped {border: 1px dashed gray;margin: 0 0.4em 0.5em 0.4em;box-sizing: border-box;padding-bottom: 0.4em;background-color: white;}#sk-container-id-3 div.sk-label label {font-family: monospace;font-weight: bold;display: inline-block;line-height: 1.2em;}#sk-container-id-3 div.sk-label-container {text-align: center;}#sk-container-id-3 div.sk-container {/* jupyter's `normalize.less` sets `[hidden] { display: none; }` but bootstrap.min.css set `[hidden] { display: none !important; }` so we also need the `!important` here to be able to override the default hidden behavior on the sphinx rendered scikit-learn.org. See: https://github.com/scikit-learn/scikit-learn/issues/21755 */display: inline-block !important;position: relative;}#sk-container-id-3 div.sk-text-repr-fallback {display: none;}</style><div id=\"sk-container-id-3\" class=\"sk-top-container\"><div class=\"sk-text-repr-fallback\"><pre>KNeighborsClassifier()</pre><b>In a Jupyter environment, please rerun this cell to show the HTML representation or trust the notebook. <br />On GitHub, the HTML representation is unable to render, please try loading this page with nbviewer.org.</b></div><div class=\"sk-container\" hidden><div class=\"sk-item\"><div class=\"sk-estimator sk-toggleable\"><input class=\"sk-toggleable__control sk-hidden--visually\" id=\"sk-estimator-id-3\" type=\"checkbox\" checked><label for=\"sk-estimator-id-3\" class=\"sk-toggleable__label sk-toggleable__label-arrow\">KNeighborsClassifier</label><div class=\"sk-toggleable__content\"><pre>KNeighborsClassifier()</pre></div></div></div></div></div>"
      ],
      "text/plain": [
       "KNeighborsClassifier()"
      ]
     },
     "execution_count": 90,
     "metadata": {},
     "output_type": "execute_result"
    }
   ],
   "source": [
    "# Two classifications, larger than 7 or if it is even or odd\n",
    "from sklearn.neighbors import KNeighborsClassifier\n",
    "\n",
    "y_train_large = (y_train >= 7)\n",
    "y_train_odd = (y_train % 2 == 1)\n",
    "y_multilabel = np.c_[y_train_large, y_train_odd]\n",
    "\n",
    "knn_clf = KNeighborsClassifier()\n",
    "knn_clf.fit(X_train, y_multilabel)"
   ]
  },
  {
   "cell_type": "code",
   "execution_count": 91,
   "metadata": {
    "colab": {
     "base_uri": "https://localhost:8080/",
     "height": 90
    },
    "id": "FYL8MnNQS7hD",
    "outputId": "31f42a74-9ff8-4047-c7d1-1a3f323242e4"
   },
   "outputs": [
    {
     "data": {
      "text/html": [
       "<style>\n",
       "    .div-red {\n",
       "        background-color: #EE2A35;\n",
       "    }\n",
       "\n",
       "    .div-green {\n",
       "    \tbackground-color: #009736;\n",
       "    }\n",
       "\n",
       "    .div-black {\n",
       "    \tbackground-color: #000000;\n",
       "    }\n",
       "    .div-white {\n",
       "    \tbackground-color: #FFFFFF;\n",
       "    }\n",
       "    h1 {\n",
       "      color: #EE2A35;\n",
       "    }\n",
       "    h2 {\n",
       "      color: #009736;\n",
       "    }\n",
       "</style>\n"
      ],
      "text/plain": [
       "<IPython.core.display.HTML object>"
      ]
     },
     "metadata": {},
     "output_type": "display_data"
    },
    {
     "data": {
      "text/plain": [
       "array([[False,  True],\n",
       "       [False, False],\n",
       "       [False, False],\n",
       "       [False,  True]])"
      ]
     },
     "execution_count": 91,
     "metadata": {},
     "output_type": "execute_result"
    }
   ],
   "source": [
    "knn_clf.predict(X_train[:4])"
   ]
  },
  {
   "cell_type": "markdown",
   "metadata": {
    "id": "Ht-kkLfiS7hE"
   },
   "source": [
    "**Warning**: the following cell may take a very long time (possibly hours depending on your hardware)."
   ]
  },
  {
   "cell_type": "code",
   "execution_count": 92,
   "metadata": {
    "colab": {
     "base_uri": "https://localhost:8080/",
     "height": 35
    },
    "id": "bHNrryCdS7hE",
    "outputId": "b5754154-7202-43f3-b1db-d64a6339b2e1"
   },
   "outputs": [
    {
     "data": {
      "text/html": [
       "<style>\n",
       "    .div-red {\n",
       "        background-color: #EE2A35;\n",
       "    }\n",
       "\n",
       "    .div-green {\n",
       "    \tbackground-color: #009736;\n",
       "    }\n",
       "\n",
       "    .div-black {\n",
       "    \tbackground-color: #000000;\n",
       "    }\n",
       "    .div-white {\n",
       "    \tbackground-color: #FFFFFF;\n",
       "    }\n",
       "    h1 {\n",
       "      color: #EE2A35;\n",
       "    }\n",
       "    h2 {\n",
       "      color: #009736;\n",
       "    }\n",
       "</style>\n"
      ],
      "text/plain": [
       "<IPython.core.display.HTML object>"
      ]
     },
     "metadata": {},
     "output_type": "display_data"
    },
    {
     "data": {
      "text/plain": [
       "0.9862775751259336"
      ]
     },
     "execution_count": 92,
     "metadata": {},
     "output_type": "execute_result"
    }
   ],
   "source": [
    "y_train_knn_pred = knn_clf.predict(X_train[:100])\n",
    "f1_score(y_multilabel[:100], y_train_knn_pred, average=\"macro\")"
   ]
  },
  {
   "cell_type": "markdown",
   "metadata": {
    "id": "ANCIwvH8S7hF"
   },
   "source": [
    "# Multioutput classification"
   ]
  },
  {
   "cell_type": "code",
   "execution_count": 93,
   "metadata": {
    "colab": {
     "base_uri": "https://localhost:8080/",
     "height": 17
    },
    "id": "83rfOIQMS7hF",
    "outputId": "20431e7c-ba64-40c4-efe6-083ac8c3dea0"
   },
   "outputs": [
    {
     "data": {
      "text/html": [
       "<style>\n",
       "    .div-red {\n",
       "        background-color: #EE2A35;\n",
       "    }\n",
       "\n",
       "    .div-green {\n",
       "    \tbackground-color: #009736;\n",
       "    }\n",
       "\n",
       "    .div-black {\n",
       "    \tbackground-color: #000000;\n",
       "    }\n",
       "    .div-white {\n",
       "    \tbackground-color: #FFFFFF;\n",
       "    }\n",
       "    h1 {\n",
       "      color: #EE2A35;\n",
       "    }\n",
       "    h2 {\n",
       "      color: #009736;\n",
       "    }\n",
       "</style>\n"
      ],
      "text/plain": [
       "<IPython.core.display.HTML object>"
      ]
     },
     "metadata": {},
     "output_type": "display_data"
    }
   ],
   "source": [
    "noise = np.random.randint(0, 100, (len(X_train), 784))\n",
    "X_train_mod = X_train + noise\n",
    "noise = np.random.randint(0, 100, (len(X_test), 784))\n",
    "X_test_mod = X_test + noise\n",
    "y_train_mod = X_train\n",
    "y_test_mod = X_test"
   ]
  },
  {
   "cell_type": "code",
   "execution_count": 94,
   "metadata": {
    "colab": {
     "base_uri": "https://localhost:8080/",
     "height": 262
    },
    "id": "XD8iXJXUS7hF",
    "outputId": "85b303d6-f2a1-48a2-bfcf-46848df60804"
   },
   "outputs": [
    {
     "data": {
      "text/html": [
       "<style>\n",
       "    .div-red {\n",
       "        background-color: #EE2A35;\n",
       "    }\n",
       "\n",
       "    .div-green {\n",
       "    \tbackground-color: #009736;\n",
       "    }\n",
       "\n",
       "    .div-black {\n",
       "    \tbackground-color: #000000;\n",
       "    }\n",
       "    .div-white {\n",
       "    \tbackground-color: #FFFFFF;\n",
       "    }\n",
       "    h1 {\n",
       "      color: #EE2A35;\n",
       "    }\n",
       "    h2 {\n",
       "      color: #009736;\n",
       "    }\n",
       "</style>\n"
      ],
      "text/plain": [
       "<IPython.core.display.HTML object>"
      ]
     },
     "metadata": {},
     "output_type": "display_data"
    },
    {
     "data": {
      "image/png": "[encoded data removed]",
      "text/plain": [
       "<Figure size 640x480 with 2 Axes>"
      ]
     },
     "metadata": {},
     "output_type": "display_data"
    }
   ],
   "source": [
    "some_index = 0\n",
    "plt.subplot(121); plot_digit(X_test_mod[some_index])\n",
    "plt.subplot(122); plot_digit(y_test_mod[some_index])"
   ]
  },
  {
   "cell_type": "code",
   "execution_count": 95,
   "metadata": {
    "colab": {
     "base_uri": "https://localhost:8080/",
     "height": 406
    },
    "id": "jQ6jRkLRS7hG",
    "outputId": "c31a4e61-b495-4700-c0f9-77c8cb62960d"
   },
   "outputs": [
    {
     "data": {
      "text/html": [
       "<style>\n",
       "    .div-red {\n",
       "        background-color: #EE2A35;\n",
       "    }\n",
       "\n",
       "    .div-green {\n",
       "    \tbackground-color: #009736;\n",
       "    }\n",
       "\n",
       "    .div-black {\n",
       "    \tbackground-color: #000000;\n",
       "    }\n",
       "    .div-white {\n",
       "    \tbackground-color: #FFFFFF;\n",
       "    }\n",
       "    h1 {\n",
       "      color: #EE2A35;\n",
       "    }\n",
       "    h2 {\n",
       "      color: #009736;\n",
       "    }\n",
       "</style>\n"
      ],
      "text/plain": [
       "<IPython.core.display.HTML object>"
      ]
     },
     "metadata": {},
     "output_type": "display_data"
    },
    {
     "data": {
      "image/png": "[encoded data removed]",
      "text/plain": [
       "<Figure size 640x480 with 1 Axes>"
      ]
     },
     "metadata": {},
     "output_type": "display_data"
    }
   ],
   "source": [
    "knn_clf.fit(X_train_mod, y_train_mod)\n",
    "clean_digit = knn_clf.predict([X_test_mod[some_index]])\n",
    "plot_digit(clean_digit)"
   ]
  },
  {
   "cell_type": "markdown",
   "metadata": {
    "id": "Za2UDGHwS7hG"
   },
   "source": [
    "---\n",
    "\n",
    "# Acknowledgments\n",
    "\n",
    "This notebook is based on a variety of sources, usually other notebooks, the material was adapted to the topics covered during lessons. In some cases, the original notebooks were created for Python 2.x or older versions of Scikit-learn or Tensorflow and they have to be adapted to at least Python 3.7.\n",
    "\n",
    "We acknowledge the support of the National Science Foundation and the US Department of Energy under projects: DMREF-NSF 1434897, NSF OAC-1740111 and DOE DE-SC0016176 is recognized.\n",
    "\n",
    "<div style=\"clear: both; display: table;\">\n",
    "<div style=\"border: none; float: left; width: 40%; padding: 10px\">\n",
    "<img src=\"https://github.com/romerogroup/Notebooks_4SIAH/blob/main/Machine_Learning/fig/NSF.jpg?raw=1\" alt=\"National Science Foundation\" style=\"width:50%\" align=\"left\" height=\"100\" width=\"100\">\n",
    "    </div>\n",
    "    <div style=\"border: none; float: right; width: 40%; padding: 10px\">\n",
    "<img src=\"https://github.com/romerogroup/Notebooks_4SIAH/blob/main/Machine_Learning/fig/DOE.jpg?raw=1\" alt=\"National Science Foundation\" style=\"width:50%\" align=\"right\" height=\"100\" width=\"100\">\n",
    "</div>"
   ]
  },
  {
   "cell_type": "markdown",
   "metadata": {
    "id": "m4zP9G-tS7hG"
   },
   "source": [
    "---\n",
    "\n",
    "# References\n",
    "\n",
    "The snippets above are meant only to give a brief introduction to some of the most popular techniques in machine learning so you can decide whether this kind of analysis might be useful in your research. If it seems like machine learning will be important in your work, you may want to check out some of the resources listed below (arranged roughly from least to most technical):\n",
    "\n",
    "This list is by no means an exhaustive list of books and resources. I am listing the books from which I took inspiration. Also, I am listing materials where I found better ways to present topics. Often I am amazed by how people can create approachable materials for seemingly dry subjects.\n",
    "\n",
    "The order of the books goes from divulgation and practical to the more rigorous and mathematical. Slides, blogs, and videos are those I have found over the internet or suggested by others.\n",
    "\n",
    "### Selection of Books on Machine Learning\n",
    "\n",
    "<br>\n",
    "<div style=\"clear: both; display: table;\">\n",
    "  <div style=\"border: none; float: left; width: 200; padding: 5px\">\n",
    "  <img alt=\"Hands-On Machine Learning  with Scikit-Learn and TensorFlow\"\n",
    "       src=\"https://github.com/romerogroup/Notebooks_4SIAH/blob/main/Machine_Learning/fig/books/Hands-On%20Machine%20Learning%20%20with%20Scikit-Learn%20and%20TensorFlow.jpg?raw=1\"\n",
    "       height=\"160\" width=\"120\"  />\n",
    "  </div>\n",
    "  <div style=\"border: none; float: left; width: 800; padding: 5px\">\n",
    "      Hands-On Machine Learning  with Scikit-Learn and TensorFlow (First Edition [There is a second edition])<br>\n",
    "      Auréleien Géron<br>\n",
    "      2017<br>\n",
    "  </div>\n",
    "</div>\n",
    "\n",
    "<br>\n",
    "<div style=\"clear: both; display: table;\">\n",
    "  <div style=\"border: none; float: left; width: 200; padding: 5px\">\n",
    "  <img alt=\"Python Machine Learning - Raschka\"\n",
    "       src=\"https://github.com/romerogroup/Notebooks_4SIAH/blob/main/Machine_Learning/fig/books/Python%20Machine%20Learning%20-%20Raschka.jpg?raw=1\"\n",
    "       height=\"160\" width=\"120\"  />\n",
    "  </div>\n",
    "  <div style=\"border: none; float: left; width: 800; padding: 5px\">\n",
    "      Machine Learning, a Probabilistic Perspective<br>\n",
    "      Sebastian Raschka and Vahid Mirjalili<br>\n",
    "      2017<br>\n",
    "  </div>\n",
    "</div>\n",
    "\n",
    "<br>\n",
    "<div style=\"clear: both; display: table;\">\n",
    "  <div style=\"border: none; float: left; width: 200; padding: 5px\">\n",
    "  <img alt=\"Foundations of Machine Learning - Mohri\"\n",
    "       src=\"https://github.com/romerogroup/Notebooks_4SIAH/blob/main/Machine_Learning/fig/books/Foundations%20of%20Machine%20Learning%20-%20Mohri.jpg?raw=1\"\n",
    "       height=\"160\" width=\"120\"  />\n",
    "  </div>\n",
    "  <div style=\"border: none; float: left; width: 800; padding: 5px\">\n",
    "      Foundations of Machine Learning (Second Edition)<br>\n",
    "      Mehryar Mohri, Afshin Rostamizadeh and Ameet Talwalkar<br>\n",
    "      2018<br>\n",
    "  </div>\n",
    "</div>\n",
    "\n",
    "<br>\n",
    "<div style=\"clear: both; display: table;\">\n",
    "  <div style=\"border: none; float: left; width: 200; padding: 5px\">\n",
    "  <img alt=\"Introduction to Machine Learning - Alpaydin\"\n",
    "       src=\"https://github.com/romerogroup/Notebooks_4SIAH/blob/main/Machine_Learning/fig/books/Introduction%20to%20Machine%20Learning%20-%20Alpaydin.jpg?raw=1\"\n",
    "       height=\"160\" width=\"120\"  />\n",
    "  </div>\n",
    "  <div style=\"border: none; float: left; width: 800; padding: 5px\">\n",
    "      Introduction to Machine Learning (Fourth Edition)<br>\n",
    "      Ethem Alpaydin<br>\n",
    "      2020<br>\n",
    "  </div>\n",
    "</div>\n",
    "\n",
    "<br>\n",
    "<div style=\"clear: both; display: table;\">\n",
    "  <div style=\"border: none; float: left; width: 200; padding: 5px\">\n",
    "  <img alt=\"Machine Learning, a Probabilistic Perspective - Murphy\"\n",
    "       src=\"https://github.com/romerogroup/Notebooks_4SIAH/blob/main/Machine_Learning/fig/books/Machine%20Learning,%20a%20Probabilistic%20Perspective%20-%20Murphy.jpg?raw=1\"\n",
    "       height=\"160\" width=\"120\"  />\n",
    "  </div>\n",
    "  <div style=\"border: none; float: left; width: 800; padding: 5px\">\n",
    "      Machine Learning, a Probabilistic Perspective<br>\n",
    "      Kevin P. Murphy<br>\n",
    "      2012<br>\n",
    "  </div>\n",
    "</div>\n",
    "\n",
    "<br>\n",
    "<div style=\"clear: both; display: table;\">\n",
    "  <div style=\"border: none; float: left; width: 200; padding: 5px\">\n",
    "  <img alt=\"Elements of Statistical Learning - Hastie\"\n",
    "       src=\"https://github.com/romerogroup/Notebooks_4SIAH/blob/main/Machine_Learning/fig/books/Elements%20of%20Statistical%20Learning%20-%20Hastie.jpg?raw=1\"\n",
    "       height=\"160\" width=\"120\"  />\n",
    "  </div>\n",
    "  <div style=\"border: none; float: left; width: 800; padding: 5px\">\n",
    "      <a href=\"https://hastie.su.domains/Papers/ESLII.pdf\">Elements of Statistical Learning</a><br>\n",
    "      Trevor Hastie, Robert Tibshirani, and Jerome Friedman<br>\n",
    "      2008<br>\n",
    "  </div>\n",
    "</div>\n",
    "\n",
    "\n",
    "### Jupyter Notebooks\n",
    "\n",
    " * [Yale Digital Humanities Lab](https://github.com/YaleDHLab/lab-workshops)\n",
    "\n",
    " * Aurelien Geron Hands-on Machine Learning with Scikit-learn\n",
    "   [First Edition](https://github.com/ageron/handson-ml) and\n",
    "   [Second Edition](https://github.com/ageron/handson-ml2)\n",
    "   \n",
    " * [A progressive collection notebooks of the Machine Learning course by the University of Turin](https://github.com/rugantio/MachineLearningCourse)\n",
    "   \n",
    " * [A curated set of jupyter notebooks about many topics](https://github.com/jupyter/jupyter/wiki/A-gallery-of-interesting-Jupyter-Notebooks)\n",
    "   \n",
    "### Videos\n",
    "\n",
    " * [Caltech's \"Learning from Data\" by Professor Yaser Abu-Mostafa](https://work.caltech.edu/telecourse.html)\n",
    "\n",
    "\n",
    " * [A Friendly Introduction to Machine Learning](https://www.youtube.com/watch?v=IpGxLWOIZy4)\n",
    "\n",
    "In this 30-minute video, Luis Serrano (head of machine learning at Udacity) offers intuitive, user-friendly introductions to the mechanics that drive several machine learning models, including Naive Bayes, Decision Tree, Logistic Regression, Neural Network, and Support Vector Machine classifiers. This video is a great place to start for those looking for quick intuitions about the ways these algorithms work.\n",
    "\n",
    " * [Hands-On Machine Learning with Scikit-Learn and TensorFlow (OREILLY)](http://shop.oreilly.com/product/0636920052289.do)\n",
    "\n",
    "This OREILLY book offers a great high-level introduction to machine learning with Python. Aurélien Géron guides readers through ways one can use scikit-learn and other popular libraries to build machine learning models in Python. This is a great choice for those who just want to get work done, without necessarily unlocking the insights that would allow one to build models from scratch.\n",
    "\n",
    " * [Machine Learning Cheatsheets](https://becominghuman.ai/cheat-sheets-for-ai-neural-networks-machine-learning-deep-learning-big-data-678c51b4b463)\n",
    "\n",
    "This collection of \"cheat sheets\" gives concise overviews of the API's and models behind many of the most prominent packages and concepts in machine learning and its allied fields, including different neural network architectures, numerical optimization techniques, algorithms appropriate for different tasks, scikit-learn, pandas, scikit-learn, scipy, ggpot2, dplyr and tidyr, big O notation, and several other topics. Recently identified as the \"most popular\" article on machine learning in Medium.\n",
    "\n",
    " * [Mining of Massive Datasets](http://www.mmds.org/)\n",
    "\n",
    "This Stanford University course and digital publication offer introductions to a wide array of subtopics in machine learning. The authors focus on helping readers gain an intuitive understanding of how machine learning models work. One of the most lucid and concise treatments of machine learning available on the web.\n",
    "\n",
    " * [Convolutional Neural Networks for Visual Recognition](http://cs231n.stanford.edu/)\n",
    "\n",
    "This Stanford University course offers a spectacular introduction to Convolutional Neural Networks, the cornerstone of modern machine learning in the domain of computer vision. If your work involves images or video materials, and you'd like to apply machine learning techniques to your data, this course will help you get up and running with state-of-the-art techniques in convnets.\n",
    "\n",
    " * [Machine Learning (Andrew Ng, Coursera)](https://www.coursera.org/learn/machine-learning)\n",
    "\n",
    "Andrew Ng's Coursera course on machine learning will help you master many of the fundamentals involved in modern machine learning. Professor Ng will guide you through a great deal of the math involved in contemporary machine learning, starting with simple linear classifiers and building up into complex neural network architectures. This class is ideal for those who like to understand the math behind the models they use.\n",
    "\n",
    " ---"
   ]
  },
  {
   "cell_type": "markdown",
   "metadata": {
    "id": "qfXp75sTS7hH"
   },
   "source": [
    "# Back of the Book"
   ]
  },
  {
   "cell_type": "code",
   "execution_count": 96,
   "metadata": {
    "colab": {
     "base_uri": "https://localhost:8080/",
     "height": 268
    },
    "id": "T0t_Ris8S7hH",
    "outputId": "d9032ec2-a289-45e9-839d-d53992f47a5f",
    "scrolled": true
   },
   "outputs": [
    {
     "data": {
      "text/html": [
       "<style>\n",
       "    .div-red {\n",
       "        background-color: #EE2A35;\n",
       "    }\n",
       "\n",
       "    .div-green {\n",
       "    \tbackground-color: #009736;\n",
       "    }\n",
       "\n",
       "    .div-black {\n",
       "    \tbackground-color: #000000;\n",
       "    }\n",
       "    .div-white {\n",
       "    \tbackground-color: #FFFFFF;\n",
       "    }\n",
       "    h1 {\n",
       "      color: #EE2A35;\n",
       "    }\n",
       "    h2 {\n",
       "      color: #009736;\n",
       "    }\n",
       "</style>\n"
      ],
      "text/plain": [
       "<IPython.core.display.HTML object>"
      ]
     },
     "metadata": {},
     "output_type": "display_data"
    },
    {
     "data": {
      "image/png": "[encoded data removed]",
      "text/plain": [
       "<Figure size 300x300 with 1 Axes>"
      ]
     },
     "metadata": {},
     "output_type": "display_data"
    }
   ],
   "source": [
    "plt.figure(figsize=(3,3))\n",
    "n = chapter_number\n",
    "maxt=(2*(n-1)+3)*np.pi/2\n",
    "t = np.linspace(np.pi/2, maxt, 1000)\n",
    "tt= 1.0/(t+0.01)\n",
    "x = (maxt-t)*np.cos(t)**3\n",
    "y = t*np.sqrt(np.abs(np.cos(t))) + np.sin(0.3*t)*np.cos(2*t)\n",
    "plt.plot(x, y, c=\"green\")\n",
    "plt.axis('off');"
   ]
  },
  {
   "cell_type": "code",
   "execution_count": 97,
   "metadata": {
    "colab": {
     "base_uri": "https://localhost:8080/",
     "height": 35
    },
    "id": "EDysPL7uS7hH",
    "outputId": "b774c661-8f99-442a-dd19-1b78fe69a592"
   },
   "outputs": [
    {
     "data": {
      "text/html": [
       "<style>\n",
       "    .div-red {\n",
       "        background-color: #EE2A35;\n",
       "    }\n",
       "\n",
       "    .div-green {\n",
       "    \tbackground-color: #009736;\n",
       "    }\n",
       "\n",
       "    .div-black {\n",
       "    \tbackground-color: #000000;\n",
       "    }\n",
       "    .div-white {\n",
       "    \tbackground-color: #FFFFFF;\n",
       "    }\n",
       "    h1 {\n",
       "      color: #EE2A35;\n",
       "    }\n",
       "    h2 {\n",
       "      color: #009736;\n",
       "    }\n",
       "</style>\n"
      ],
      "text/plain": [
       "<IPython.core.display.HTML object>"
      ]
     },
     "metadata": {},
     "output_type": "display_data"
    },
    {
     "name": "stdout",
     "output_type": "stream",
     "text": [
      "Chapter 3 run in 640 seconds\n"
     ]
    }
   ],
   "source": [
    "end = time.time()\n",
    "print(f'Chapter {chapter_number} run in {int(end - start):d} seconds')"
   ]
  }
 ],
 "metadata": {
  "colab": {
   "provenance": []
  },
  "kernelspec": {
   "display_name": "Python 3 (ipykernel)",
   "language": "python",
   "name": "python3"
  },
  "language_info": {
   "codemirror_mode": {
    "name": "ipython",
    "version": 3
   },
   "file_extension": ".py",
   "mimetype": "text/x-python",
   "name": "python",
   "nbconvert_exporter": "python",
   "pygments_lexer": "ipython3",
   "version": "3.11.6"
  },
  "nav_menu": {},
  "toc": {
   "navigate_menu": true,
   "number_sections": true,
   "sideBar": true,
   "threshold": 6,
   "toc_cell": false,
   "toc_section_display": "block",
   "toc_window_display": false
  }
 },
 "nbformat": 4,
 "nbformat_minor": 4
}
