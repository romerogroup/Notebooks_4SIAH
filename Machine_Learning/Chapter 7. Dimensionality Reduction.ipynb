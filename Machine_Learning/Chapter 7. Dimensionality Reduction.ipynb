{
 "cells": [
  {
   "cell_type": "markdown",
   "metadata": {},
   "source": [
    "![Machine Learning for Scientists in a hurry](./fig/Title_ML.png)"
   ]
  },
  {
   "cell_type": "markdown",
   "metadata": {},
   "source": [
    "# Boilerplate"
   ]
  },
  {
   "cell_type": "code",
   "execution_count": 1,
   "metadata": {
    "id": "dI4kdA1PJ6R3"
   },
   "outputs": [],
   "source": [
    "from IPython.display import Math, HTML, display\n",
    "\n",
    "def set_css_in_cell_output():\n",
    "  display(HTML(\"\"\"<style>\n",
    "    .div-1 {\n",
    "        background-color: #EBEBEB;\n",
    "    }\n",
    "\n",
    "    .div-2 {\n",
    "    \tbackground-color: #ABBAEA;\n",
    "    }\n",
    "\n",
    "    .div-3 {\n",
    "    \tbackground-color: #FBD603;\n",
    "    }\n",
    "    .div-white {\n",
    "    \tbackground-color: #FBFBFB;\n",
    "    }\n",
    "    h1 {\n",
    "      color: #002855;\n",
    "    }\n",
    "    h2 {\n",
    "      color: #002855;\n",
    "    }\n",
    "</style>\n",
    "\"\"\"))\n",
    "\n",
    "get_ipython().events.register('pre_run_cell', set_css_in_cell_output)\n"
   ]
  },
  {
   "cell_type": "code",
   "execution_count": 2,
   "metadata": {},
   "outputs": [
    {
     "data": {
      "text/html": [
       "<style>\n",
       "    .div-1 {\n",
       "        background-color: #EBEBEB;\n",
       "    }\n",
       "\n",
       "    .div-2 {\n",
       "    \tbackground-color: #ABBAEA;\n",
       "    }\n",
       "\n",
       "    .div-3 {\n",
       "    \tbackground-color: #FBD603;\n",
       "    }\n",
       "    .div-white {\n",
       "    \tbackground-color: #FBFBFB;\n",
       "    }\n",
       "    h1 {\n",
       "      color: #002855;\n",
       "    }\n",
       "    h2 {\n",
       "      color: #002855;\n",
       "    }\n",
       "</style>\n"
      ],
      "text/plain": [
       "<IPython.core.display.HTML object>"
      ]
     },
     "metadata": {},
     "output_type": "display_data"
    },
    {
     "name": "stdout",
     "output_type": "stream",
     "text": [
      "Requirement already satisfied: watermark in /Users/guilleaf/miniconda3/lib/python3.11/site-packages (2.4.3)\n",
      "Requirement already satisfied: ipython>=6.0 in /Users/guilleaf/miniconda3/lib/python3.11/site-packages (from watermark) (8.16.1)\n",
      "Requirement already satisfied: importlib-metadata>=1.4 in /Users/guilleaf/miniconda3/lib/python3.11/site-packages (from watermark) (6.8.0)\n",
      "Requirement already satisfied: setuptools in /Users/guilleaf/miniconda3/lib/python3.11/site-packages (from watermark) (67.8.0)\n",
      "Requirement already satisfied: zipp>=0.5 in /Users/guilleaf/miniconda3/lib/python3.11/site-packages (from importlib-metadata>=1.4->watermark) (3.17.0)\n",
      "Requirement already satisfied: backcall in /Users/guilleaf/miniconda3/lib/python3.11/site-packages (from ipython>=6.0->watermark) (0.2.0)\n",
      "Requirement already satisfied: decorator in /Users/guilleaf/miniconda3/lib/python3.11/site-packages (from ipython>=6.0->watermark) (5.1.1)\n",
      "Requirement already satisfied: jedi>=0.16 in /Users/guilleaf/miniconda3/lib/python3.11/site-packages (from ipython>=6.0->watermark) (0.19.1)\n",
      "Requirement already satisfied: matplotlib-inline in /Users/guilleaf/miniconda3/lib/python3.11/site-packages (from ipython>=6.0->watermark) (0.1.6)\n",
      "Requirement already satisfied: pickleshare in /Users/guilleaf/miniconda3/lib/python3.11/site-packages (from ipython>=6.0->watermark) (0.7.5)\n",
      "Requirement already satisfied: prompt-toolkit!=3.0.37,<3.1.0,>=3.0.30 in /Users/guilleaf/miniconda3/lib/python3.11/site-packages (from ipython>=6.0->watermark) (3.0.39)\n",
      "Requirement already satisfied: pygments>=2.4.0 in /Users/guilleaf/miniconda3/lib/python3.11/site-packages (from ipython>=6.0->watermark) (2.16.1)\n",
      "Requirement already satisfied: stack-data in /Users/guilleaf/miniconda3/lib/python3.11/site-packages (from ipython>=6.0->watermark) (0.6.3)\n",
      "Requirement already satisfied: traitlets>=5 in /Users/guilleaf/miniconda3/lib/python3.11/site-packages (from ipython>=6.0->watermark) (5.11.2)\n",
      "Requirement already satisfied: pexpect>4.3 in /Users/guilleaf/miniconda3/lib/python3.11/site-packages (from ipython>=6.0->watermark) (4.8.0)\n",
      "Requirement already satisfied: appnope in /Users/guilleaf/miniconda3/lib/python3.11/site-packages (from ipython>=6.0->watermark) (0.1.3)\n",
      "Requirement already satisfied: parso<0.9.0,>=0.8.3 in /Users/guilleaf/miniconda3/lib/python3.11/site-packages (from jedi>=0.16->ipython>=6.0->watermark) (0.8.3)\n",
      "Requirement already satisfied: ptyprocess>=0.5 in /Users/guilleaf/miniconda3/lib/python3.11/site-packages (from pexpect>4.3->ipython>=6.0->watermark) (0.7.0)\n",
      "Requirement already satisfied: wcwidth in /Users/guilleaf/miniconda3/lib/python3.11/site-packages (from prompt-toolkit!=3.0.37,<3.1.0,>=3.0.30->ipython>=6.0->watermark) (0.2.8)\n",
      "Requirement already satisfied: executing>=1.2.0 in /Users/guilleaf/miniconda3/lib/python3.11/site-packages (from stack-data->ipython>=6.0->watermark) (2.0.0)\n",
      "Requirement already satisfied: asttokens>=2.1.0 in /Users/guilleaf/miniconda3/lib/python3.11/site-packages (from stack-data->ipython>=6.0->watermark) (2.4.0)\n",
      "Requirement already satisfied: pure-eval in /Users/guilleaf/miniconda3/lib/python3.11/site-packages (from stack-data->ipython>=6.0->watermark) (0.2.2)\n",
      "Requirement already satisfied: six>=1.12.0 in /Users/guilleaf/miniconda3/lib/python3.11/site-packages (from asttokens>=2.1.0->stack-data->ipython>=6.0->watermark) (1.16.0)\n"
     ]
    }
   ],
   "source": [
    "!pip install watermark"
   ]
  },
  {
   "cell_type": "code",
   "execution_count": 3,
   "metadata": {},
   "outputs": [
    {
     "data": {
      "text/html": [
       "<style>\n",
       "    .div-1 {\n",
       "        background-color: #EBEBEB;\n",
       "    }\n",
       "\n",
       "    .div-2 {\n",
       "    \tbackground-color: #ABBAEA;\n",
       "    }\n",
       "\n",
       "    .div-3 {\n",
       "    \tbackground-color: #FBD603;\n",
       "    }\n",
       "    .div-white {\n",
       "    \tbackground-color: #FBFBFB;\n",
       "    }\n",
       "    h1 {\n",
       "      color: #002855;\n",
       "    }\n",
       "    h2 {\n",
       "      color: #002855;\n",
       "    }\n",
       "</style>\n"
      ],
      "text/plain": [
       "<IPython.core.display.HTML object>"
      ]
     },
     "metadata": {},
     "output_type": "display_data"
    }
   ],
   "source": [
    "!if [ ! -f helpers.py ]; then wget \"https://raw.githubusercontent.com/romerogroup/Notebooks_4SIAH/main/Machine_Learning/helpers.py\"; fi"
   ]
  },
  {
   "cell_type": "markdown",
   "metadata": {},
   "source": [
    "<div style=\"clear: both; display: table;\">\n",
    "  <div style=\"border: none; float: left; width: 60%; padding: 5px\">\n",
    "  <h1 id=\"subtitle\">Chapter 7. Dimensionality Reduction</h1>\n",
    "  <h2 id=\"subtitle\">Guillermo Avendaño Franco<br>Aldo Humberto Romero</h2>\n",
    "  <br>\n",
    "  <img src=\"fig/1-line logotype124-295.png\" alt=\"Scientific Computing with Python\" style=\"width:50%\" align=\"left\">\n",
    "  </div>\n",
    "  <div style=\"border: none; float: left; width: 30%; padding: 5px\">\n",
    "  <img src=\"fig/SCPython.png\" alt=\"Scientific Computing with Python\" style=\"width:100%\">\n",
    "  </div>\n",
    "</div>"
   ]
  },
  {
   "cell_type": "markdown",
   "metadata": {},
   "source": [
    "## Setup"
   ]
  },
  {
   "cell_type": "code",
   "execution_count": 4,
   "metadata": {},
   "outputs": [
    {
     "data": {
      "text/html": [
       "<style>\n",
       "    .div-1 {\n",
       "        background-color: #EBEBEB;\n",
       "    }\n",
       "\n",
       "    .div-2 {\n",
       "    \tbackground-color: #ABBAEA;\n",
       "    }\n",
       "\n",
       "    .div-3 {\n",
       "    \tbackground-color: #FBD603;\n",
       "    }\n",
       "    .div-white {\n",
       "    \tbackground-color: #FBFBFB;\n",
       "    }\n",
       "    h1 {\n",
       "      color: #002855;\n",
       "    }\n",
       "    h2 {\n",
       "      color: #002855;\n",
       "    }\n",
       "</style>\n"
      ],
      "text/plain": [
       "<IPython.core.display.HTML object>"
      ]
     },
     "metadata": {},
     "output_type": "display_data"
    }
   ],
   "source": [
    "%load_ext watermark"
   ]
  },
  {
   "cell_type": "code",
   "execution_count": 5,
   "metadata": {
    "scrolled": true
   },
   "outputs": [
    {
     "data": {
      "text/html": [
       "<style>\n",
       "    .div-1 {\n",
       "        background-color: #EBEBEB;\n",
       "    }\n",
       "\n",
       "    .div-2 {\n",
       "    \tbackground-color: #ABBAEA;\n",
       "    }\n",
       "\n",
       "    .div-3 {\n",
       "    \tbackground-color: #FBD603;\n",
       "    }\n",
       "    .div-white {\n",
       "    \tbackground-color: #FBFBFB;\n",
       "    }\n",
       "    h1 {\n",
       "      color: #002855;\n",
       "    }\n",
       "    h2 {\n",
       "      color: #002855;\n",
       "    }\n",
       "</style>\n"
      ],
      "text/plain": [
       "<IPython.core.display.HTML object>"
      ]
     },
     "metadata": {},
     "output_type": "display_data"
    },
    {
     "name": "stdout",
     "output_type": "stream",
     "text": [
      "Last updated: 2023-10-22T18:10:38.472577-04:00\n",
      "\n",
      "Python implementation: CPython\n",
      "Python version       : 3.11.6\n",
      "IPython version      : 8.14.0\n",
      "\n",
      "Compiler    : Clang 11.0.3 (clang-1103.0.32.62)\n",
      "OS          : Darwin\n",
      "Release     : 19.6.0\n",
      "Machine     : x86_64\n",
      "Processor   : i386\n",
      "CPU cores   : 8\n",
      "Architecture: 64bit\n",
      "\n"
     ]
    }
   ],
   "source": [
    "%watermark"
   ]
  },
  {
   "cell_type": "code",
   "execution_count": 6,
   "metadata": {},
   "outputs": [
    {
     "data": {
      "text/html": [
       "<style>\n",
       "    .div-1 {\n",
       "        background-color: #EBEBEB;\n",
       "    }\n",
       "\n",
       "    .div-2 {\n",
       "    \tbackground-color: #ABBAEA;\n",
       "    }\n",
       "\n",
       "    .div-3 {\n",
       "    \tbackground-color: #FBD603;\n",
       "    }\n",
       "    .div-white {\n",
       "    \tbackground-color: #FBFBFB;\n",
       "    }\n",
       "    h1 {\n",
       "      color: #002855;\n",
       "    }\n",
       "    h2 {\n",
       "      color: #002855;\n",
       "    }\n",
       "</style>\n"
      ],
      "text/plain": [
       "<IPython.core.display.HTML object>"
      ]
     },
     "metadata": {},
     "output_type": "display_data"
    }
   ],
   "source": [
    "import time\n",
    "start = time.time()\n",
    "chapter_number = 7\n",
    "import matplotlib\n",
    "%matplotlib inline\n",
    "%load_ext autoreload\n",
    "%autoreload 2\n",
    "import matplotlib.pyplot as plt"
   ]
  },
  {
   "cell_type": "code",
   "execution_count": 7,
   "metadata": {},
   "outputs": [
    {
     "data": {
      "text/html": [
       "<style>\n",
       "    .div-1 {\n",
       "        background-color: #EBEBEB;\n",
       "    }\n",
       "\n",
       "    .div-2 {\n",
       "    \tbackground-color: #ABBAEA;\n",
       "    }\n",
       "\n",
       "    .div-3 {\n",
       "    \tbackground-color: #FBD603;\n",
       "    }\n",
       "    .div-white {\n",
       "    \tbackground-color: #FBFBFB;\n",
       "    }\n",
       "    h1 {\n",
       "      color: #002855;\n",
       "    }\n",
       "    h2 {\n",
       "      color: #002855;\n",
       "    }\n",
       "</style>\n"
      ],
      "text/plain": [
       "<IPython.core.display.HTML object>"
      ]
     },
     "metadata": {},
     "output_type": "display_data"
    }
   ],
   "source": [
    "import numpy as np\n",
    "import sklearn"
   ]
  },
  {
   "cell_type": "code",
   "execution_count": 8,
   "metadata": {
    "scrolled": true
   },
   "outputs": [
    {
     "data": {
      "text/html": [
       "<style>\n",
       "    .div-1 {\n",
       "        background-color: #EBEBEB;\n",
       "    }\n",
       "\n",
       "    .div-2 {\n",
       "    \tbackground-color: #ABBAEA;\n",
       "    }\n",
       "\n",
       "    .div-3 {\n",
       "    \tbackground-color: #FBD603;\n",
       "    }\n",
       "    .div-white {\n",
       "    \tbackground-color: #FBFBFB;\n",
       "    }\n",
       "    h1 {\n",
       "      color: #002855;\n",
       "    }\n",
       "    h2 {\n",
       "      color: #002855;\n",
       "    }\n",
       "</style>\n"
      ],
      "text/plain": [
       "<IPython.core.display.HTML object>"
      ]
     },
     "metadata": {},
     "output_type": "display_data"
    },
    {
     "name": "stdout",
     "output_type": "stream",
     "text": [
      "sklearn   : 1.3.0\n",
      "matplotlib: 3.8.0\n",
      "numpy     : 1.25.2\n",
      "\n"
     ]
    }
   ],
   "source": [
    "%watermark -iv"
   ]
  },
  {
   "cell_type": "markdown",
   "metadata": {},
   "source": [
    "# Where we are on the map?\n",
    "\n",
    "<img src=\"fig/ml_map.png\" width=\"700\" height=\"200\" title=\"Precision vs Recall\" alt=\"Precision vs Recall\"></a>"
   ]
  },
  {
   "cell_type": "markdown",
   "metadata": {},
   "source": [
    "# Dimensionality Reduction\n",
    "\n",
    "In machine learning is not unusual the number of features been in the order hundreds, thousands or even more. \n",
    "However, having that extra data is not making things better, and it can surely make things worst. \n",
    "\n",
    "\"High-dimensional\" datasets can be quite hard to work with and reason about. High dimensional datasets also pose specific challenges to many machine learning models (see **[The Curse of Dimensionality](https://en.wikipedia.org/wiki/Curse_of_dimensionality)**). To work around these challenges, it's often helpful to reduce the number of dimensions required to express a given dataset. That reduction is trying to solve two problems. The dimensionality reduction itself and the focus on more relevant features that maximize the probability of successful classifications.\n",
    "\n",
    "## Principal Component Analysis\n",
    "\n",
    "One popular way to reduce the dimensionality of a dataset is to use a technique called [**Principal Component Analysis**](https://en.wikipedia.org/wiki/Principal_component_analysis). PCA tries to find a lower dimensional representation of a dataset by projecting that dataset down into a smaller dimensional space in a way that minimizes the loss of information.\n",
    "\n",
    "To get an intuition about PCA, suppose you have points in two dimensions, and you wish to reduce the dimensionality of your dataset to a single dimension. To do so, you could find the center of the points and then create a line $L$ with a random orientation that passes through that center. One can then project each point onto $L$ such that an imaginary line between the point and $L$ form a right angle. Within this \"projection\", each 2D point can be represented with just its position along the 1D $L$, effectively giving us a 1D representation of the point's position in its original space. Furthermore, we can use the difference between the largest and smallest values of points projected onto $L$ as a measure of the amount of \"variance\" or \"spread\" within the data captured in $L$&mdash;the greater this spread, the greater the amount of \"signal\" from the original dataset is represented in the projection.\n",
    "\n",
    "If one were to slowly rotate $L$ and continue measuring the delta between the greatest and smallest values on $L$ at each orientation, one could find the orientation of the projection line that minimizes information loss. (This line of minimal information loss is shown in pink below.) Once that line is discovered, we can project all of our points onto that lower-dimensional embedding (see the red points below when the black line is colinear with the pink line):"
   ]
  },
  {
   "cell_type": "markdown",
   "metadata": {},
   "source": [
    "<img src='fig/pca.gif'>\n",
    "\n",
    "\n",
    "\n",
    "\n",
    "\n",
    "For a beginner-friendly deep dive into the mechanics behind this form of dimension reduction, check out Josh Starmer's [step-by-step guide to PCA](https://www.youtube.com/watch?v=FgakZw6K1QQ).\n",
    "\n",
    "\n",
    "PCA (Principal Component Analysis) converts a dataset of possibly correlated features into a dataset of linearly uncorrelated features called principal components. is equivalent to **Singular Value Decomposition** (SVD):\n",
    "\n",
    "$$\\mathbf{X} = \\mathbf{U} \\boldsymbol{\\Sigma} \\mathbf{V}^*$$\n",
    "\n",
    "Formally, the singular value decomposition of an $m \\times n$ real or complex matrix $\\mathbf{M}$ is a factorization of the form $\\mathbf{U\\Sigma V^*}$, where $\\mathbf{U}$ is an $m \\times m$ real or complex **unitary matrix**, $\\mathbf{\\Sigma}$ is an $m \\times n$ **rectangular diagonal matrix** with non-negative real numbers on the diagonal, and $\\mathbf{V}$ is an $n \\times n$ real or complex unitary matrix. The diagonal entries $\\sigma_i$ of $\\mathbf{\\Sigma}$ are known as the **singular values** of $\\mathbf{M}$. The columns of $\\mathbf{U}$ and the columns of $\\mathbf{V}$ are called the **left-singular vectors** and **right-singular vectors** of $\\mathbf{M}$, respectively.\n",
    "\n",
    "<img src=\"fig/1280px-Singular_value_decomposition_visualisation.svg.png\" alt=\"SVD\" style=\"width:400px\">\n",
    "\n",
    "For Real-valued matrices, the conjugate transpose $\\mathbf{V}^*$ becomes just the transpose $\\mathbf{V}^T$ and the decomposition is:\n",
    "\n",
    "$$\\mathbf{X} = \\mathbf{U} \\boldsymbol{\\Sigma} \\mathbf{V}^T$$\n",
    "\n",
    "The value returned from `transform` is the matrix $\\mathbf{U}$. The parameter `n_components` is the number of components to keep. if `n_components` is not set, all components are kept; it means that the result of `transform` is a matrix $n \\times n$ (if $d \\geq n$) or $n \\times d$ (if $d < n$).\n",
    "\n",
    "The values in the attribute `explained_variance_` are related to $\\boldsymbol{\\Sigma}$ in the SVD decomposition. Finally, the values in the attribute `components_` are related to $\\mathbf{V}^T$.\n",
    "\n",
    "The optional parameter `whiten=True` makes it possible to project the data onto the singular space while scaling each component to unit variance. This is often useful if the models downstream make strong assumptions on the isotropy of the signal: this is for example the case for Support Vector Machines with the RBF kernel and the K-Means clustering algorithm."
   ]
  },
  {
   "cell_type": "markdown",
   "metadata": {},
   "source": [
    "# Dimensionality reduction of MNIST dataset"
   ]
  },
  {
   "cell_type": "markdown",
   "metadata": {},
   "source": [
    "The MNIST dataset contains 70000 images of hand-written digits. Each image is a matrix of 28x28 grayscale pixels. The value of each pixel goes from 0 to 255.\n",
    "\n",
    "There is more information available in the MNIST dataset repository:\n",
    "http://yann.lecun.com/exdb/mnist/\n",
    "\n",
    "Let's first fetch the dataset from the internet (which may take a while, note the asterisk [*]):"
   ]
  },
  {
   "cell_type": "code",
   "execution_count": 9,
   "metadata": {},
   "outputs": [
    {
     "data": {
      "text/html": [
       "<style>\n",
       "    .div-1 {\n",
       "        background-color: #EBEBEB;\n",
       "    }\n",
       "\n",
       "    .div-2 {\n",
       "    \tbackground-color: #ABBAEA;\n",
       "    }\n",
       "\n",
       "    .div-3 {\n",
       "    \tbackground-color: #FBD603;\n",
       "    }\n",
       "    .div-white {\n",
       "    \tbackground-color: #FBFBFB;\n",
       "    }\n",
       "    h1 {\n",
       "      color: #002855;\n",
       "    }\n",
       "    h2 {\n",
       "      color: #002855;\n",
       "    }\n",
       "</style>\n"
      ],
      "text/plain": [
       "<IPython.core.display.HTML object>"
      ]
     },
     "metadata": {},
     "output_type": "display_data"
    }
   ],
   "source": [
    "#from sklearn.datasets import fetch_openml\n",
    "#X_all, y_all = fetch_openml('mnist_784', version=1, return_X_y=True, data_home='./data')\n",
    "\n",
    "# The shape of input and labels\n",
    "#print(X_all.shape)\n",
    "#print(y_all.shape)"
   ]
  },
  {
   "cell_type": "code",
   "execution_count": 10,
   "metadata": {},
   "outputs": [
    {
     "data": {
      "text/html": [
       "<style>\n",
       "    .div-1 {\n",
       "        background-color: #EBEBEB;\n",
       "    }\n",
       "\n",
       "    .div-2 {\n",
       "    \tbackground-color: #ABBAEA;\n",
       "    }\n",
       "\n",
       "    .div-3 {\n",
       "    \tbackground-color: #FBD603;\n",
       "    }\n",
       "    .div-white {\n",
       "    \tbackground-color: #FBFBFB;\n",
       "    }\n",
       "    h1 {\n",
       "      color: #002855;\n",
       "    }\n",
       "    h2 {\n",
       "      color: #002855;\n",
       "    }\n",
       "</style>\n"
      ],
      "text/plain": [
       "<IPython.core.display.HTML object>"
      ]
     },
     "metadata": {},
     "output_type": "display_data"
    }
   ],
   "source": [
    "import os\n",
    "import gzip\n",
    "from scipy.io import arff\n",
    "import pandas as pd"
   ]
  },
  {
   "cell_type": "code",
   "execution_count": 11,
   "metadata": {},
   "outputs": [
    {
     "data": {
      "text/html": [
       "<style>\n",
       "    .div-1 {\n",
       "        background-color: #EBEBEB;\n",
       "    }\n",
       "\n",
       "    .div-2 {\n",
       "    \tbackground-color: #ABBAEA;\n",
       "    }\n",
       "\n",
       "    .div-3 {\n",
       "    \tbackground-color: #FBD603;\n",
       "    }\n",
       "    .div-white {\n",
       "    \tbackground-color: #FBFBFB;\n",
       "    }\n",
       "    h1 {\n",
       "      color: #002855;\n",
       "    }\n",
       "    h2 {\n",
       "      color: #002855;\n",
       "    }\n",
       "</style>\n"
      ],
      "text/plain": [
       "<IPython.core.display.HTML object>"
      ]
     },
     "metadata": {},
     "output_type": "display_data"
    }
   ],
   "source": [
    "!if [ ! -f data/mnist_784.arff ]; then wget \"https://www.openml.org/data/download/52667/mnist_784.arff\" -O ./data/mnist_784.arff; fi"
   ]
  },
  {
   "cell_type": "code",
   "execution_count": 12,
   "metadata": {},
   "outputs": [
    {
     "data": {
      "text/html": [
       "<style>\n",
       "    .div-1 {\n",
       "        background-color: #EBEBEB;\n",
       "    }\n",
       "\n",
       "    .div-2 {\n",
       "    \tbackground-color: #ABBAEA;\n",
       "    }\n",
       "\n",
       "    .div-3 {\n",
       "    \tbackground-color: #FBD603;\n",
       "    }\n",
       "    .div-white {\n",
       "    \tbackground-color: #FBFBFB;\n",
       "    }\n",
       "    h1 {\n",
       "      color: #002855;\n",
       "    }\n",
       "    h2 {\n",
       "      color: #002855;\n",
       "    }\n",
       "</style>\n"
      ],
      "text/plain": [
       "<IPython.core.display.HTML object>"
      ]
     },
     "metadata": {},
     "output_type": "display_data"
    }
   ],
   "source": [
    "filename = \"./data/mnist_784.arff.gz\"\n",
    "url = \"https://www.openml.org/data/download/52667/mnist_784.arff\"\n",
    "if os.path.isfile(filename):\n",
    "    arff_file = gzip.open(filename,'rt')\n",
    "else:\n",
    "    arff_file = \"./data/mnist_784.arff\"\n",
    "data, meta = arff.loadarff(arff_file)"
   ]
  },
  {
   "cell_type": "code",
   "execution_count": 13,
   "metadata": {},
   "outputs": [
    {
     "data": {
      "text/html": [
       "<style>\n",
       "    .div-1 {\n",
       "        background-color: #EBEBEB;\n",
       "    }\n",
       "\n",
       "    .div-2 {\n",
       "    \tbackground-color: #ABBAEA;\n",
       "    }\n",
       "\n",
       "    .div-3 {\n",
       "    \tbackground-color: #FBD603;\n",
       "    }\n",
       "    .div-white {\n",
       "    \tbackground-color: #FBFBFB;\n",
       "    }\n",
       "    h1 {\n",
       "      color: #002855;\n",
       "    }\n",
       "    h2 {\n",
       "      color: #002855;\n",
       "    }\n",
       "</style>\n"
      ],
      "text/plain": [
       "<IPython.core.display.HTML object>"
      ]
     },
     "metadata": {},
     "output_type": "display_data"
    }
   ],
   "source": [
    "df=pd.DataFrame(data)"
   ]
  },
  {
   "cell_type": "code",
   "execution_count": 14,
   "metadata": {
    "scrolled": true
   },
   "outputs": [
    {
     "data": {
      "text/html": [
       "<style>\n",
       "    .div-1 {\n",
       "        background-color: #EBEBEB;\n",
       "    }\n",
       "\n",
       "    .div-2 {\n",
       "    \tbackground-color: #ABBAEA;\n",
       "    }\n",
       "\n",
       "    .div-3 {\n",
       "    \tbackground-color: #FBD603;\n",
       "    }\n",
       "    .div-white {\n",
       "    \tbackground-color: #FBFBFB;\n",
       "    }\n",
       "    h1 {\n",
       "      color: #002855;\n",
       "    }\n",
       "    h2 {\n",
       "      color: #002855;\n",
       "    }\n",
       "</style>\n"
      ],
      "text/plain": [
       "<IPython.core.display.HTML object>"
      ]
     },
     "metadata": {},
     "output_type": "display_data"
    }
   ],
   "source": [
    "mnist = {}\n",
    "mnist['data'] = df.drop('class', axis=1).astype('uint8')\n",
    "mnist['target'] = df['class'].astype('uint8')"
   ]
  },
  {
   "cell_type": "code",
   "execution_count": 15,
   "metadata": {},
   "outputs": [
    {
     "data": {
      "text/html": [
       "<style>\n",
       "    .div-1 {\n",
       "        background-color: #EBEBEB;\n",
       "    }\n",
       "\n",
       "    .div-2 {\n",
       "    \tbackground-color: #ABBAEA;\n",
       "    }\n",
       "\n",
       "    .div-3 {\n",
       "    \tbackground-color: #FBD603;\n",
       "    }\n",
       "    .div-white {\n",
       "    \tbackground-color: #FBFBFB;\n",
       "    }\n",
       "    h1 {\n",
       "      color: #002855;\n",
       "    }\n",
       "    h2 {\n",
       "      color: #002855;\n",
       "    }\n",
       "</style>\n"
      ],
      "text/plain": [
       "<IPython.core.display.HTML object>"
      ]
     },
     "metadata": {},
     "output_type": "display_data"
    }
   ],
   "source": [
    "X_all = mnist['data']\n",
    "y_all = mnist['target']"
   ]
  },
  {
   "cell_type": "markdown",
   "metadata": {},
   "source": [
    "This dataset is ordered, and we will get just part of it to speed up this exercise.\n",
    "\n",
    "For this, we need to shuffle the entire data and get the first instances."
   ]
  },
  {
   "cell_type": "code",
   "execution_count": 16,
   "metadata": {},
   "outputs": [
    {
     "data": {
      "text/html": [
       "<style>\n",
       "    .div-1 {\n",
       "        background-color: #EBEBEB;\n",
       "    }\n",
       "\n",
       "    .div-2 {\n",
       "    \tbackground-color: #ABBAEA;\n",
       "    }\n",
       "\n",
       "    .div-3 {\n",
       "    \tbackground-color: #FBD603;\n",
       "    }\n",
       "    .div-white {\n",
       "    \tbackground-color: #FBFBFB;\n",
       "    }\n",
       "    h1 {\n",
       "      color: #002855;\n",
       "    }\n",
       "    h2 {\n",
       "      color: #002855;\n",
       "    }\n",
       "</style>\n"
      ],
      "text/plain": [
       "<IPython.core.display.HTML object>"
      ]
     },
     "metadata": {},
     "output_type": "display_data"
    }
   ],
   "source": [
    "from sklearn.utils import shuffle\n",
    "\n",
    "# shuffle dataset (which is sorted!)\n",
    "X_all, y_all = shuffle(X_all, y_all, random_state=42)\n",
    "\n",
    "# take only the first instances, to shorten runtime\n",
    "X = X_all[:1500]\n",
    "y = y_all[:1500]\n",
    "\n",
    "# take the other instances for testing\n",
    "X_test = X_all[1500:]\n",
    "y_test = y_all[1500:]"
   ]
  },
  {
   "cell_type": "markdown",
   "metadata": {},
   "source": [
    "From the sklearn documentation:\n",
    "\n",
    "> Many elements used in the objective function of a learning algorithm (such as the RBF kernel of Support Vector Machines or the l1 and l2 regularizers of linear models) assume that all features are centered around zero and have variance in the same order. If a feature has a variance that is orders of magnitude larger than others, it might dominate the objective function and make the estimator unable to learn from other features correctly as expected.\n",
    "\n",
    "We will then rescale the training data since this is important to improve the performance of the classification algorithm that we will use later."
   ]
  },
  {
   "cell_type": "code",
   "execution_count": 17,
   "metadata": {},
   "outputs": [
    {
     "data": {
      "text/html": [
       "<style>\n",
       "    .div-1 {\n",
       "        background-color: #EBEBEB;\n",
       "    }\n",
       "\n",
       "    .div-2 {\n",
       "    \tbackground-color: #ABBAEA;\n",
       "    }\n",
       "\n",
       "    .div-3 {\n",
       "    \tbackground-color: #FBD603;\n",
       "    }\n",
       "    .div-white {\n",
       "    \tbackground-color: #FBFBFB;\n",
       "    }\n",
       "    h1 {\n",
       "      color: #002855;\n",
       "    }\n",
       "    h2 {\n",
       "      color: #002855;\n",
       "    }\n",
       "</style>\n"
      ],
      "text/plain": [
       "<IPython.core.display.HTML object>"
      ]
     },
     "metadata": {},
     "output_type": "display_data"
    }
   ],
   "source": [
    "# Rescale grayscale from -1 to 1\n",
    "X = X/255.0*2 - 1"
   ]
  },
  {
   "cell_type": "code",
   "execution_count": 18,
   "metadata": {},
   "outputs": [
    {
     "data": {
      "text/html": [
       "<style>\n",
       "    .div-1 {\n",
       "        background-color: #EBEBEB;\n",
       "    }\n",
       "\n",
       "    .div-2 {\n",
       "    \tbackground-color: #ABBAEA;\n",
       "    }\n",
       "\n",
       "    .div-3 {\n",
       "    \tbackground-color: #FBD603;\n",
       "    }\n",
       "    .div-white {\n",
       "    \tbackground-color: #FBFBFB;\n",
       "    }\n",
       "    h1 {\n",
       "      color: #002855;\n",
       "    }\n",
       "    h2 {\n",
       "      color: #002855;\n",
       "    }\n",
       "</style>\n"
      ],
      "text/plain": [
       "<IPython.core.display.HTML object>"
      ]
     },
     "metadata": {},
     "output_type": "display_data"
    }
   ],
   "source": [
    "X=X.to_numpy()\n",
    "y=y.to_numpy()"
   ]
  },
  {
   "cell_type": "markdown",
   "metadata": {},
   "source": [
    "Let's have a look at some of the instances in the dataset we just loaded:"
   ]
  },
  {
   "cell_type": "code",
   "execution_count": 19,
   "metadata": {},
   "outputs": [
    {
     "data": {
      "text/html": [
       "<style>\n",
       "    .div-1 {\n",
       "        background-color: #EBEBEB;\n",
       "    }\n",
       "\n",
       "    .div-2 {\n",
       "    \tbackground-color: #ABBAEA;\n",
       "    }\n",
       "\n",
       "    .div-3 {\n",
       "    \tbackground-color: #FBD603;\n",
       "    }\n",
       "    .div-white {\n",
       "    \tbackground-color: #FBFBFB;\n",
       "    }\n",
       "    h1 {\n",
       "      color: #002855;\n",
       "    }\n",
       "    h2 {\n",
       "      color: #002855;\n",
       "    }\n",
       "</style>\n"
      ],
      "text/plain": [
       "<IPython.core.display.HTML object>"
      ]
     },
     "metadata": {},
     "output_type": "display_data"
    },
    {
     "data": {
      "image/png": "[encoded data removed]",
      "text/plain": [
       "<Figure size 800x400 with 10 Axes>"
      ]
     },
     "metadata": {},
     "output_type": "display_data"
    }
   ],
   "source": [
    "plt.rc(\"image\", cmap=\"binary\")\n",
    "plt.figure(figsize=(8,4))\n",
    "for i in range(10):\n",
    "    plt.subplot(2,5,i+1)\n",
    "    plt.imshow(X[i].reshape(28,28))\n",
    "    plt.title(y[i])\n",
    "    plt.xticks(())\n",
    "    plt.yticks(())\n",
    "plt.tight_layout()"
   ]
  },
  {
   "cell_type": "code",
   "execution_count": 20,
   "metadata": {},
   "outputs": [
    {
     "data": {
      "text/html": [
       "<style>\n",
       "    .div-1 {\n",
       "        background-color: #EBEBEB;\n",
       "    }\n",
       "\n",
       "    .div-2 {\n",
       "    \tbackground-color: #ABBAEA;\n",
       "    }\n",
       "\n",
       "    .div-3 {\n",
       "    \tbackground-color: #FBD603;\n",
       "    }\n",
       "    .div-white {\n",
       "    \tbackground-color: #FBFBFB;\n",
       "    }\n",
       "    h1 {\n",
       "      color: #002855;\n",
       "    }\n",
       "    h2 {\n",
       "      color: #002855;\n",
       "    }\n",
       "</style>\n"
      ],
      "text/plain": [
       "<IPython.core.display.HTML object>"
      ]
     },
     "metadata": {},
     "output_type": "display_data"
    },
    {
     "name": "stdout",
     "output_type": "stream",
     "text": [
      "(1500, 2)\n",
      "(2,)\n",
      "(2, 784)\n"
     ]
    }
   ],
   "source": [
    "from sklearn.decomposition import PCA\n",
    "pca = PCA(n_components = 2)\n",
    "\n",
    "pca.fit(X)\n",
    "\n",
    "U = pca.transform(X)\n",
    "S = pca.explained_variance_\n",
    "V = pca.components_\n",
    "\n",
    "print (U.shape)\n",
    "print (S.shape)\n",
    "print (V.shape)"
   ]
  },
  {
   "cell_type": "markdown",
   "metadata": {},
   "source": [
    "## PCA using SVD decomposition"
   ]
  },
  {
   "cell_type": "markdown",
   "metadata": {},
   "source": [
    "The PCA can be obtained from Numpy function `linalg.svg` in that case the X values must be centered, something that the PCA function in Scikit-learn does for you"
   ]
  },
  {
   "cell_type": "code",
   "execution_count": 21,
   "metadata": {},
   "outputs": [
    {
     "data": {
      "text/html": [
       "<style>\n",
       "    .div-1 {\n",
       "        background-color: #EBEBEB;\n",
       "    }\n",
       "\n",
       "    .div-2 {\n",
       "    \tbackground-color: #ABBAEA;\n",
       "    }\n",
       "\n",
       "    .div-3 {\n",
       "    \tbackground-color: #FBD603;\n",
       "    }\n",
       "    .div-white {\n",
       "    \tbackground-color: #FBFBFB;\n",
       "    }\n",
       "    h1 {\n",
       "      color: #002855;\n",
       "    }\n",
       "    h2 {\n",
       "      color: #002855;\n",
       "    }\n",
       "</style>\n"
      ],
      "text/plain": [
       "<IPython.core.display.HTML object>"
      ]
     },
     "metadata": {},
     "output_type": "display_data"
    }
   ],
   "source": [
    "X_centered = X - X.mean(axis=0)\n",
    "U, s, Vt = np.linalg.svd(X_centered)\n",
    "c1 = Vt.T[:, 0]\n",
    "c2 = Vt.T[:, 1]"
   ]
  },
  {
   "cell_type": "code",
   "execution_count": 22,
   "metadata": {},
   "outputs": [
    {
     "data": {
      "text/html": [
       "<style>\n",
       "    .div-1 {\n",
       "        background-color: #EBEBEB;\n",
       "    }\n",
       "\n",
       "    .div-2 {\n",
       "    \tbackground-color: #ABBAEA;\n",
       "    }\n",
       "\n",
       "    .div-3 {\n",
       "    \tbackground-color: #FBD603;\n",
       "    }\n",
       "    .div-white {\n",
       "    \tbackground-color: #FBFBFB;\n",
       "    }\n",
       "    h1 {\n",
       "      color: #002855;\n",
       "    }\n",
       "    h2 {\n",
       "      color: #002855;\n",
       "    }\n",
       "</style>\n"
      ],
      "text/plain": [
       "<IPython.core.display.HTML object>"
      ]
     },
     "metadata": {},
     "output_type": "display_data"
    }
   ],
   "source": [
    "m, n = X.shape\n",
    "\n",
    "S = np.zeros(X_centered.shape)\n",
    "S[:n, :n] = np.diag(s)"
   ]
  },
  {
   "cell_type": "code",
   "execution_count": 23,
   "metadata": {},
   "outputs": [
    {
     "data": {
      "text/html": [
       "<style>\n",
       "    .div-1 {\n",
       "        background-color: #EBEBEB;\n",
       "    }\n",
       "\n",
       "    .div-2 {\n",
       "    \tbackground-color: #ABBAEA;\n",
       "    }\n",
       "\n",
       "    .div-3 {\n",
       "    \tbackground-color: #FBD603;\n",
       "    }\n",
       "    .div-white {\n",
       "    \tbackground-color: #FBFBFB;\n",
       "    }\n",
       "    h1 {\n",
       "      color: #002855;\n",
       "    }\n",
       "    h2 {\n",
       "      color: #002855;\n",
       "    }\n",
       "</style>\n"
      ],
      "text/plain": [
       "<IPython.core.display.HTML object>"
      ]
     },
     "metadata": {},
     "output_type": "display_data"
    },
    {
     "data": {
      "text/plain": [
       "True"
      ]
     },
     "execution_count": 23,
     "metadata": {},
     "output_type": "execute_result"
    }
   ],
   "source": [
    "np.allclose(X_centered, U.dot(S).dot(Vt))"
   ]
  },
  {
   "cell_type": "code",
   "execution_count": 24,
   "metadata": {},
   "outputs": [
    {
     "data": {
      "text/html": [
       "<style>\n",
       "    .div-1 {\n",
       "        background-color: #EBEBEB;\n",
       "    }\n",
       "\n",
       "    .div-2 {\n",
       "    \tbackground-color: #ABBAEA;\n",
       "    }\n",
       "\n",
       "    .div-3 {\n",
       "    \tbackground-color: #FBD603;\n",
       "    }\n",
       "    .div-white {\n",
       "    \tbackground-color: #FBFBFB;\n",
       "    }\n",
       "    h1 {\n",
       "      color: #002855;\n",
       "    }\n",
       "    h2 {\n",
       "      color: #002855;\n",
       "    }\n",
       "</style>\n"
      ],
      "text/plain": [
       "<IPython.core.display.HTML object>"
      ]
     },
     "metadata": {},
     "output_type": "display_data"
    }
   ],
   "source": [
    "W2 = Vt.T[:, :2]\n",
    "X2D = X_centered.dot(W2)"
   ]
  },
  {
   "cell_type": "code",
   "execution_count": 25,
   "metadata": {},
   "outputs": [
    {
     "data": {
      "text/html": [
       "<style>\n",
       "    .div-1 {\n",
       "        background-color: #EBEBEB;\n",
       "    }\n",
       "\n",
       "    .div-2 {\n",
       "    \tbackground-color: #ABBAEA;\n",
       "    }\n",
       "\n",
       "    .div-3 {\n",
       "    \tbackground-color: #FBD603;\n",
       "    }\n",
       "    .div-white {\n",
       "    \tbackground-color: #FBFBFB;\n",
       "    }\n",
       "    h1 {\n",
       "      color: #002855;\n",
       "    }\n",
       "    h2 {\n",
       "      color: #002855;\n",
       "    }\n",
       "</style>\n"
      ],
      "text/plain": [
       "<IPython.core.display.HTML object>"
      ]
     },
     "metadata": {},
     "output_type": "display_data"
    }
   ],
   "source": [
    "X2D_using_svd = X2D"
   ]
  },
  {
   "cell_type": "code",
   "execution_count": 26,
   "metadata": {},
   "outputs": [
    {
     "data": {
      "text/html": [
       "<style>\n",
       "    .div-1 {\n",
       "        background-color: #EBEBEB;\n",
       "    }\n",
       "\n",
       "    .div-2 {\n",
       "    \tbackground-color: #ABBAEA;\n",
       "    }\n",
       "\n",
       "    .div-3 {\n",
       "    \tbackground-color: #FBD603;\n",
       "    }\n",
       "    .div-white {\n",
       "    \tbackground-color: #FBFBFB;\n",
       "    }\n",
       "    h1 {\n",
       "      color: #002855;\n",
       "    }\n",
       "    h2 {\n",
       "      color: #002855;\n",
       "    }\n",
       "</style>\n"
      ],
      "text/plain": [
       "<IPython.core.display.HTML object>"
      ]
     },
     "metadata": {},
     "output_type": "display_data"
    }
   ],
   "source": [
    "X2D = pca.fit_transform(X)"
   ]
  },
  {
   "cell_type": "code",
   "execution_count": 27,
   "metadata": {},
   "outputs": [
    {
     "data": {
      "text/html": [
       "<style>\n",
       "    .div-1 {\n",
       "        background-color: #EBEBEB;\n",
       "    }\n",
       "\n",
       "    .div-2 {\n",
       "    \tbackground-color: #ABBAEA;\n",
       "    }\n",
       "\n",
       "    .div-3 {\n",
       "    \tbackground-color: #FBD603;\n",
       "    }\n",
       "    .div-white {\n",
       "    \tbackground-color: #FBFBFB;\n",
       "    }\n",
       "    h1 {\n",
       "      color: #002855;\n",
       "    }\n",
       "    h2 {\n",
       "      color: #002855;\n",
       "    }\n",
       "</style>\n"
      ],
      "text/plain": [
       "<IPython.core.display.HTML object>"
      ]
     },
     "metadata": {},
     "output_type": "display_data"
    },
    {
     "name": "stdout",
     "output_type": "stream",
     "text": [
      "(1500, 2)\n"
     ]
    },
    {
     "data": {
      "text/plain": [
       "array([[ 6.07877968,  4.11843671],\n",
       "       [-1.96204896, -4.07698646],\n",
       "       [-0.68517479,  0.66104464],\n",
       "       [-3.90475734, -2.94246782],\n",
       "       [-3.47801963, -2.43582895]])"
      ]
     },
     "execution_count": 27,
     "metadata": {},
     "output_type": "execute_result"
    }
   ],
   "source": [
    "print(X2D.shape)\n",
    "X2D[:5]"
   ]
  },
  {
   "cell_type": "code",
   "execution_count": 28,
   "metadata": {},
   "outputs": [
    {
     "data": {
      "text/html": [
       "<style>\n",
       "    .div-1 {\n",
       "        background-color: #EBEBEB;\n",
       "    }\n",
       "\n",
       "    .div-2 {\n",
       "    \tbackground-color: #ABBAEA;\n",
       "    }\n",
       "\n",
       "    .div-3 {\n",
       "    \tbackground-color: #FBD603;\n",
       "    }\n",
       "    .div-white {\n",
       "    \tbackground-color: #FBFBFB;\n",
       "    }\n",
       "    h1 {\n",
       "      color: #002855;\n",
       "    }\n",
       "    h2 {\n",
       "      color: #002855;\n",
       "    }\n",
       "</style>\n"
      ],
      "text/plain": [
       "<IPython.core.display.HTML object>"
      ]
     },
     "metadata": {},
     "output_type": "display_data"
    },
    {
     "name": "stdout",
     "output_type": "stream",
     "text": [
      "(1500, 2)\n"
     ]
    },
    {
     "data": {
      "text/plain": [
       "array([[-6.07877132,  4.11830917],\n",
       "       [ 1.9620494 , -4.07694401],\n",
       "       [ 0.68517622,  0.66101962],\n",
       "       [ 3.90475013, -2.94237969],\n",
       "       [ 3.47801914, -2.43581028]])"
      ]
     },
     "execution_count": 28,
     "metadata": {},
     "output_type": "execute_result"
    }
   ],
   "source": [
    "print(X2D_using_svd.shape)\n",
    "X2D_using_svd[:5]"
   ]
  },
  {
   "cell_type": "markdown",
   "metadata": {},
   "source": [
    "Notice that running PCA multiple times on slightly different datasets may result in different results. In general, the only difference is that some axes may be flipped. In this example, PCA using Scikit-Learn gives the same projection as the one given by the SVD approach, except both axes are flipped"
   ]
  },
  {
   "cell_type": "markdown",
   "metadata": {},
   "source": [
    "## Measuring the data loss from using a PCA"
   ]
  },
  {
   "cell_type": "markdown",
   "metadata": {},
   "source": [
    "As we are using just 2 dimensions out of the 768 original ones. It is clear that we have to pay a price for that.\n",
    "We can quantify the loss from the PCA like this:\n",
    "\n",
    "First, we recover the 3D points projected on the plane (PCA 2D subspace)."
   ]
  },
  {
   "cell_type": "code",
   "execution_count": 29,
   "metadata": {},
   "outputs": [
    {
     "data": {
      "text/html": [
       "<style>\n",
       "    .div-1 {\n",
       "        background-color: #EBEBEB;\n",
       "    }\n",
       "\n",
       "    .div-2 {\n",
       "    \tbackground-color: #ABBAEA;\n",
       "    }\n",
       "\n",
       "    .div-3 {\n",
       "    \tbackground-color: #FBD603;\n",
       "    }\n",
       "    .div-white {\n",
       "    \tbackground-color: #FBFBFB;\n",
       "    }\n",
       "    h1 {\n",
       "      color: #002855;\n",
       "    }\n",
       "    h2 {\n",
       "      color: #002855;\n",
       "    }\n",
       "</style>\n"
      ],
      "text/plain": [
       "<IPython.core.display.HTML object>"
      ]
     },
     "metadata": {},
     "output_type": "display_data"
    }
   ],
   "source": [
    "X3D_inv = pca.inverse_transform(X2D)"
   ]
  },
  {
   "cell_type": "markdown",
   "metadata": {},
   "source": [
    "The recovered 3D points are not exactly equal to the original 3D points:"
   ]
  },
  {
   "cell_type": "code",
   "execution_count": 30,
   "metadata": {},
   "outputs": [
    {
     "data": {
      "text/html": [
       "<style>\n",
       "    .div-1 {\n",
       "        background-color: #EBEBEB;\n",
       "    }\n",
       "\n",
       "    .div-2 {\n",
       "    \tbackground-color: #ABBAEA;\n",
       "    }\n",
       "\n",
       "    .div-3 {\n",
       "    \tbackground-color: #FBD603;\n",
       "    }\n",
       "    .div-white {\n",
       "    \tbackground-color: #FBFBFB;\n",
       "    }\n",
       "    h1 {\n",
       "      color: #002855;\n",
       "    }\n",
       "    h2 {\n",
       "      color: #002855;\n",
       "    }\n",
       "</style>\n"
      ],
      "text/plain": [
       "<IPython.core.display.HTML object>"
      ]
     },
     "metadata": {},
     "output_type": "display_data"
    },
    {
     "data": {
      "text/plain": [
       "False"
      ]
     },
     "execution_count": 30,
     "metadata": {},
     "output_type": "execute_result"
    }
   ],
   "source": [
    "np.allclose(X3D_inv, X)"
   ]
  },
  {
   "cell_type": "markdown",
   "metadata": {},
   "source": [
    "The reconstruction error can be computed by taking the average in the difference between the recreated images and the original ones."
   ]
  },
  {
   "cell_type": "code",
   "execution_count": 31,
   "metadata": {},
   "outputs": [
    {
     "data": {
      "text/html": [
       "<style>\n",
       "    .div-1 {\n",
       "        background-color: #EBEBEB;\n",
       "    }\n",
       "\n",
       "    .div-2 {\n",
       "    \tbackground-color: #ABBAEA;\n",
       "    }\n",
       "\n",
       "    .div-3 {\n",
       "    \tbackground-color: #FBD603;\n",
       "    }\n",
       "    .div-white {\n",
       "    \tbackground-color: #FBFBFB;\n",
       "    }\n",
       "    h1 {\n",
       "      color: #002855;\n",
       "    }\n",
       "    h2 {\n",
       "      color: #002855;\n",
       "    }\n",
       "</style>\n"
      ],
      "text/plain": [
       "<IPython.core.display.HTML object>"
      ]
     },
     "metadata": {},
     "output_type": "display_data"
    },
    {
     "data": {
      "text/plain": [
       "176.6185515954143"
      ]
     },
     "execution_count": 31,
     "metadata": {},
     "output_type": "execute_result"
    }
   ],
   "source": [
    "np.mean(np.sum(np.square(X3D_inv - X), axis=1))"
   ]
  },
  {
   "cell_type": "markdown",
   "metadata": {},
   "source": [
    "Quite a big difference, so the question is: How many components should be good enough? How to quantify \"good enough\"?\n",
    "To answer those questions let's first get a visual idea about the transformations involved here."
   ]
  },
  {
   "cell_type": "markdown",
   "metadata": {},
   "source": [
    "## Visualizing the transformations"
   ]
  },
  {
   "cell_type": "markdown",
   "metadata": {},
   "source": [
    "The first row in the figure below shows the first digits on the MNIST database, the second row the back-transformed images using just 2 Principal Components."
   ]
  },
  {
   "cell_type": "code",
   "execution_count": 32,
   "metadata": {},
   "outputs": [
    {
     "data": {
      "text/html": [
       "<style>\n",
       "    .div-1 {\n",
       "        background-color: #EBEBEB;\n",
       "    }\n",
       "\n",
       "    .div-2 {\n",
       "    \tbackground-color: #ABBAEA;\n",
       "    }\n",
       "\n",
       "    .div-3 {\n",
       "    \tbackground-color: #FBD603;\n",
       "    }\n",
       "    .div-white {\n",
       "    \tbackground-color: #FBFBFB;\n",
       "    }\n",
       "    h1 {\n",
       "      color: #002855;\n",
       "    }\n",
       "    h2 {\n",
       "      color: #002855;\n",
       "    }\n",
       "</style>\n"
      ],
      "text/plain": [
       "<IPython.core.display.HTML object>"
      ]
     },
     "metadata": {},
     "output_type": "display_data"
    },
    {
     "data": {
      "image/png": "[encoded data removed]",
      "text/plain": [
       "<Figure size 800x400 with 10 Axes>"
      ]
     },
     "metadata": {},
     "output_type": "display_data"
    }
   ],
   "source": [
    "plt.rc(\"image\", cmap=\"binary\")\n",
    "plt.figure(figsize=(8,4))\n",
    "for i in range(5):\n",
    "    plt.subplot(2,5,i+1)\n",
    "    plt.imshow(X[i].reshape(28,28))\n",
    "    plt.title(y[i])\n",
    "    plt.xticks(())\n",
    "    plt.yticks(())\n",
    "for i in range(5):\n",
    "    plt.subplot(2,5,5+i+1)\n",
    "    plt.imshow(X3D_inv[i].reshape(28,28))\n",
    "    plt.title(y[i])\n",
    "    plt.xticks(())\n",
    "    plt.yticks(())\n",
    "plt.tight_layout()"
   ]
  },
  {
   "cell_type": "markdown",
   "metadata": {},
   "source": [
    "The transformed images look noisy, that is because from the 768 pixels we have reduced to just 2, considering that is remarkable that we still see a resemblance of the original digit on the \n",
    "\n",
    "Now let's have a look at the most important directions in which the dataset was projected. These directions can be accessed in the $\\mathbf{V}^T$ matrix. For doing that we need to construct PCA for all components."
   ]
  },
  {
   "cell_type": "code",
   "execution_count": 33,
   "metadata": {},
   "outputs": [
    {
     "data": {
      "text/html": [
       "<style>\n",
       "    .div-1 {\n",
       "        background-color: #EBEBEB;\n",
       "    }\n",
       "\n",
       "    .div-2 {\n",
       "    \tbackground-color: #ABBAEA;\n",
       "    }\n",
       "\n",
       "    .div-3 {\n",
       "    \tbackground-color: #FBD603;\n",
       "    }\n",
       "    .div-white {\n",
       "    \tbackground-color: #FBFBFB;\n",
       "    }\n",
       "    h1 {\n",
       "      color: #002855;\n",
       "    }\n",
       "    h2 {\n",
       "      color: #002855;\n",
       "    }\n",
       "</style>\n"
      ],
      "text/plain": [
       "<IPython.core.display.HTML object>"
      ]
     },
     "metadata": {},
     "output_type": "display_data"
    }
   ],
   "source": [
    "pca_complete = PCA()\n",
    "\n",
    "pca_complete.fit(X)\n",
    "\n",
    "Uc = pca_complete.transform(X)\n",
    "Sc = pca_complete.explained_variance_\n",
    "Vc = pca_complete.components_"
   ]
  },
  {
   "cell_type": "code",
   "execution_count": 34,
   "metadata": {},
   "outputs": [
    {
     "data": {
      "text/html": [
       "<style>\n",
       "    .div-1 {\n",
       "        background-color: #EBEBEB;\n",
       "    }\n",
       "\n",
       "    .div-2 {\n",
       "    \tbackground-color: #ABBAEA;\n",
       "    }\n",
       "\n",
       "    .div-3 {\n",
       "    \tbackground-color: #FBD603;\n",
       "    }\n",
       "    .div-white {\n",
       "    \tbackground-color: #FBFBFB;\n",
       "    }\n",
       "    h1 {\n",
       "      color: #002855;\n",
       "    }\n",
       "    h2 {\n",
       "      color: #002855;\n",
       "    }\n",
       "</style>\n"
      ],
      "text/plain": [
       "<IPython.core.display.HTML object>"
      ]
     },
     "metadata": {},
     "output_type": "display_data"
    },
    {
     "data": {
      "image/png": "[encoded data removed]",
      "text/plain": [
       "<Figure size 800x600 with 5 Axes>"
      ]
     },
     "metadata": {},
     "output_type": "display_data"
    }
   ],
   "source": [
    "plt.figure(figsize=(8,6))\n",
    "\n",
    "for i in range(5): # loop over all means\n",
    "    plt.subplot(1,5,i+1)\n",
    "    plt.imshow(Vc[i].reshape(28,28))\n",
    "    plt.xticks(())\n",
    "    plt.yticks(())\n",
    "plt.tight_layout()"
   ]
  },
  {
   "cell_type": "markdown",
   "metadata": {},
   "source": [
    "The figures above are just 2D representations of vectors in a 768-dimensional space. They are not meant to be numbers but capture the combination of pixels that maximize the variance in the set.\n",
    "\n",
    "The later directions (here, from the 100-th on) show noise and small variations between different, but very similar training instances:"
   ]
  },
  {
   "cell_type": "code",
   "execution_count": 35,
   "metadata": {},
   "outputs": [
    {
     "data": {
      "text/html": [
       "<style>\n",
       "    .div-1 {\n",
       "        background-color: #EBEBEB;\n",
       "    }\n",
       "\n",
       "    .div-2 {\n",
       "    \tbackground-color: #ABBAEA;\n",
       "    }\n",
       "\n",
       "    .div-3 {\n",
       "    \tbackground-color: #FBD603;\n",
       "    }\n",
       "    .div-white {\n",
       "    \tbackground-color: #FBFBFB;\n",
       "    }\n",
       "    h1 {\n",
       "      color: #002855;\n",
       "    }\n",
       "    h2 {\n",
       "      color: #002855;\n",
       "    }\n",
       "</style>\n"
      ],
      "text/plain": [
       "<IPython.core.display.HTML object>"
      ]
     },
     "metadata": {},
     "output_type": "display_data"
    },
    {
     "data": {
      "image/png": "[encoded data removed]",
      "text/plain": [
       "<Figure size 800x400 with 5 Axes>"
      ]
     },
     "metadata": {},
     "output_type": "display_data"
    }
   ],
   "source": [
    "plt.figure(figsize=(8,4))\n",
    "\n",
    "for i in range(5): # loop over all means\n",
    "    plt.subplot(1,5,i+1)\n",
    "    plt.imshow(Vc[100+i].reshape(28,28))\n",
    "    plt.xticks(())\n",
    "    plt.yticks(())\n",
    "plt.tight_layout()"
   ]
  },
  {
   "cell_type": "markdown",
   "metadata": {},
   "source": [
    "## Selecting the right number of components"
   ]
  },
  {
   "cell_type": "markdown",
   "metadata": {},
   "source": [
    "The number of \"interesting\" dimensions can be seen from the importance of the found directions.\n",
    "\n",
    "We can find this information by plotting the `explained_variance_` attribute from the `PCA` variable. This is related to the $\\Sigma$ matrix in the following way:\n",
    "\n",
    "$$\\mathbf{ev} = \\frac{1}{N} \\Sigma^2 $$\n",
    "\n",
    "To find the most relevant directions, we can use the `explained_variance_` to get 90% of the dataset variance."
   ]
  },
  {
   "cell_type": "code",
   "execution_count": 36,
   "metadata": {},
   "outputs": [
    {
     "data": {
      "text/html": [
       "<style>\n",
       "    .div-1 {\n",
       "        background-color: #EBEBEB;\n",
       "    }\n",
       "\n",
       "    .div-2 {\n",
       "    \tbackground-color: #ABBAEA;\n",
       "    }\n",
       "\n",
       "    .div-3 {\n",
       "    \tbackground-color: #FBD603;\n",
       "    }\n",
       "    .div-white {\n",
       "    \tbackground-color: #FBFBFB;\n",
       "    }\n",
       "    h1 {\n",
       "      color: #002855;\n",
       "    }\n",
       "    h2 {\n",
       "      color: #002855;\n",
       "    }\n",
       "</style>\n"
      ],
      "text/plain": [
       "<IPython.core.display.HTML object>"
      ]
     },
     "metadata": {},
     "output_type": "display_data"
    },
    {
     "data": {
      "image/png": "[encoded data removed]",
      "text/plain": [
       "<Figure size 640x480 with 1 Axes>"
      ]
     },
     "metadata": {},
     "output_type": "display_data"
    }
   ],
   "source": [
    "plt.plot(pca_complete.explained_variance_);"
   ]
  },
  {
   "cell_type": "code",
   "execution_count": 37,
   "metadata": {},
   "outputs": [
    {
     "data": {
      "text/html": [
       "<style>\n",
       "    .div-1 {\n",
       "        background-color: #EBEBEB;\n",
       "    }\n",
       "\n",
       "    .div-2 {\n",
       "    \tbackground-color: #ABBAEA;\n",
       "    }\n",
       "\n",
       "    .div-3 {\n",
       "    \tbackground-color: #FBD603;\n",
       "    }\n",
       "    .div-white {\n",
       "    \tbackground-color: #FBFBFB;\n",
       "    }\n",
       "    h1 {\n",
       "      color: #002855;\n",
       "    }\n",
       "    h2 {\n",
       "      color: #002855;\n",
       "    }\n",
       "</style>\n"
      ],
      "text/plain": [
       "<IPython.core.display.HTML object>"
      ]
     },
     "metadata": {},
     "output_type": "display_data"
    },
    {
     "name": "stdout",
     "output_type": "stream",
     "text": [
      "80\n"
     ]
    },
    {
     "data": {
      "image/png": "[encoded data removed]",
      "text/plain": [
       "<Figure size 640x480 with 1 Axes>"
      ]
     },
     "metadata": {},
     "output_type": "display_data"
    }
   ],
   "source": [
    "ev_cumsum = np.cumsum(pca_complete.explained_variance_)/(pca_complete.explained_variance_).sum()\n",
    "ev_at90 = ev_cumsum[ev_cumsum<0.9].shape[0]\n",
    "print (ev_at90)\n",
    "\n",
    "plt.plot(ev_cumsum)\n",
    "plt.vlines(ev_at90, 0, 1, linestyles='dashed')\n",
    "plt.hlines(0.9, 0, 500, linestyles='dashed');"
   ]
  },
  {
   "cell_type": "markdown",
   "metadata": {},
   "source": [
    "We can see that the intrinsic dimensionality is not higher than 80, even though the dataset has 784 dimensions.\n",
    "\n",
    "We can explain that number intuitively, notice that the digits rarely touch the four corners of the picture, leaving many of those pixels zeroed and not adding information to the figure. the center and circular areas around the center provide most of the information about the digits. That is why the first PCA components put special emphasis on them.\n",
    "\n"
   ]
  },
  {
   "cell_type": "markdown",
   "metadata": {},
   "source": [
    "We can see that the intrinsic dimensionality is not higher than 80, even though the dataset has 784 dimensions.\n",
    "\n",
    "We can explain that number intuitively, notice that the digits rarely touch the four corners of the picture, leaving many of those pixels zeroed and not adding information to the figure. the center and circular areas around the center provide most of the information about the digits. That is why the first PCA components put special emphasis on them.\n",
    "\n",
    "We now know that just 2 components are not enough but 80 components will account for 90% of explained variance in the data, we say that $\\mathbf{k_p}$ is the number of components to achieve $p$ % of explained variance.\n",
    "\n",
    "By setting the parameter `n_components` to $\\mathbf{k}$, we limit the number of components to $\\mathbf{k}$. At this point, the decomposition is a **Truncated SVD**.\n",
    "\n",
    "As a consequence, the value returned from `transform` is a matrix $\\mathbf{U} \\in \\mathbb{R}^{n \\times k}$, where n is the number of samples and k is the number of components. The number of values in the attribute `explained_variance_`, related to $\\boldsymbol{\\Sigma}$ in the SVD decomposition, is $\\mathbf{k}$. Finally, the values in the attribute `components_` are a matrix $\\mathbf{V}^T \\in \\mathbb{R}^{k \\times m}$, where $m$ is the number of features."
   ]
  },
  {
   "cell_type": "code",
   "execution_count": 38,
   "metadata": {},
   "outputs": [
    {
     "data": {
      "text/html": [
       "<style>\n",
       "    .div-1 {\n",
       "        background-color: #EBEBEB;\n",
       "    }\n",
       "\n",
       "    .div-2 {\n",
       "    \tbackground-color: #ABBAEA;\n",
       "    }\n",
       "\n",
       "    .div-3 {\n",
       "    \tbackground-color: #FBD603;\n",
       "    }\n",
       "    .div-white {\n",
       "    \tbackground-color: #FBFBFB;\n",
       "    }\n",
       "    h1 {\n",
       "      color: #002855;\n",
       "    }\n",
       "    h2 {\n",
       "      color: #002855;\n",
       "    }\n",
       "</style>\n"
      ],
      "text/plain": [
       "<IPython.core.display.HTML object>"
      ]
     },
     "metadata": {},
     "output_type": "display_data"
    },
    {
     "name": "stdout",
     "output_type": "stream",
     "text": [
      "(1500, 80)\n",
      "(80,)\n",
      "(80, 784)\n"
     ]
    }
   ],
   "source": [
    "from sklearn.decomposition import PCA\n",
    "pca = PCA(80)\n",
    "\n",
    "pca.fit(X)\n",
    "\n",
    "U = pca.transform(X)\n",
    "S = pca.explained_variance_\n",
    "V = pca.components_\n",
    "\n",
    "print (U.shape)\n",
    "print (S.shape)\n",
    "print (V.shape)"
   ]
  },
  {
   "cell_type": "markdown",
   "metadata": {},
   "source": [
    "Now, let's have a look at the digits when 80 components are used."
   ]
  },
  {
   "cell_type": "code",
   "execution_count": 39,
   "metadata": {},
   "outputs": [
    {
     "data": {
      "text/html": [
       "<style>\n",
       "    .div-1 {\n",
       "        background-color: #EBEBEB;\n",
       "    }\n",
       "\n",
       "    .div-2 {\n",
       "    \tbackground-color: #ABBAEA;\n",
       "    }\n",
       "\n",
       "    .div-3 {\n",
       "    \tbackground-color: #FBD603;\n",
       "    }\n",
       "    .div-white {\n",
       "    \tbackground-color: #FBFBFB;\n",
       "    }\n",
       "    h1 {\n",
       "      color: #002855;\n",
       "    }\n",
       "    h2 {\n",
       "      color: #002855;\n",
       "    }\n",
       "</style>\n"
      ],
      "text/plain": [
       "<IPython.core.display.HTML object>"
      ]
     },
     "metadata": {},
     "output_type": "display_data"
    },
    {
     "data": {
      "image/png": "[encoded data removed]",
      "text/plain": [
       "<Figure size 800x400 with 10 Axes>"
      ]
     },
     "metadata": {},
     "output_type": "display_data"
    }
   ],
   "source": [
    "X2D = pca.fit_transform(X)\n",
    "X3D_inv = pca.inverse_transform(X2D)\n",
    "\n",
    "plt.rc(\"image\", cmap=\"binary\")\n",
    "plt.figure(figsize=(8,4))\n",
    "for i in range(5):\n",
    "    plt.subplot(2,5,i+1)\n",
    "    plt.imshow(X[i].reshape(28,28))\n",
    "    plt.title(y[i])\n",
    "    plt.xticks(())\n",
    "    plt.yticks(())\n",
    "for i in range(5):\n",
    "    plt.subplot(2,5,5+i+1)\n",
    "    plt.imshow(X3D_inv[i].reshape(28,28))\n",
    "    plt.title(y[i])\n",
    "    plt.xticks(())\n",
    "    plt.yticks(())\n",
    "plt.tight_layout()"
   ]
  },
  {
   "cell_type": "markdown",
   "metadata": {},
   "source": [
    "Notice that the 5 digits from the first row are created from 768 components and the figures on the second row were back converted from the PCA with just 80 components."
   ]
  },
  {
   "cell_type": "markdown",
   "metadata": {},
   "source": [
    "---\n",
    "\n",
    "# Acknowledgments\n",
    "\n",
    "This notebook is based on a variety of sources, usually other notebooks, the material was adapted to the topics covered during lessons. In some cases, the original notebooks were created for Python 2.x or older versions of Scikit-learn or Tensorflow and they have to be adapted to at least Python 3.7. \n",
    " \n",
    "We acknowledge the support of the National Science Foundation and the US Department of Energy under projects: DMREF-NSF 1434897, NSF OAC-1740111 and DOE DE-SC0016176 is recognized.\n",
    "\n",
    "<div style=\"clear: both; display: table;\">\n",
    "<div style=\"border: none; float: left; width: 40%; padding: 10px\">\n",
    "<img src=\"fig/NSF.jpg\" alt=\"National Science Foundation\" style=\"width:50%\" align=\"left\">\n",
    "    </div>\n",
    "    <div style=\"border: none; float: right; width: 40%; padding: 10px\">\n",
    "<img src=\"fig/DOE.jpg\" alt=\"National Science Foundation\" style=\"width:50%\" align=\"right\">\n",
    "</div>"
   ]
  },
  {
   "cell_type": "markdown",
   "metadata": {},
   "source": [
    "---\n",
    "\n",
    "# References\n",
    "\n",
    "The snippets above are meant only to give a brief introduction to some of the most popular techniques in machine learning so you can decide whether this kind of analysis might be useful in your research. If it seems like machine learning will be important in your work, you may want to check out some of the resources listed below (arranged roughly from least to most technical):\n",
    "\n",
    "This list is by no means an exhaustive list of books and resources. I am listing the books from which I took inspiration. Also, I am listing materials where I found better ways to present topics. Often I am amazed by how people can create approachable materials for seemingly dry subjects.\n",
    "\n",
    "The order of the books goes from divulgation and practical to the more rigorous and mathematical. Slides, blogs, and videos are those I have found over the internet or suggested by others.\n",
    "\n",
    "### Selection of Books on Machine Learning\n",
    "\n",
    "<br>\n",
    "<div style=\"clear: both; display: table;\">\n",
    "  <div style=\"border: none; float: left; width: 200; padding: 5px\">\n",
    "  <img alt=\"Hands-On Machine Learning  with Scikit-Learn and TensorFlow\" \n",
    "       src=\"./fig/books/Hands-On Machine Learning  with Scikit-Learn and TensorFlow.jpg\" \n",
    "       height=\"100\" width=\"100\"  />\n",
    "  </div>\n",
    "  <div style=\"border: none; float: left; width: 800; padding: 5px\">\n",
    "      Hands-On Machine Learning  with Scikit-Learn and TensorFlow (First Edition [There is a second edition])<br>\n",
    "      Auréleien Géron<br>\n",
    "      2017<br>\n",
    "  </div>\n",
    "</div>\n",
    "\n",
    "<br>\n",
    "<div style=\"clear: both; display: table;\">\n",
    "  <div style=\"border: none; float: left; width: 200; padding: 5px\">\n",
    "  <img alt=\"Python Machine Learning - Raschka\" \n",
    "       src=\"./fig/books/Python Machine Learning - Raschka.jpg\" \n",
    "       height=\"100\" width=\"100\"  />\n",
    "  </div>\n",
    "  <div style=\"border: none; float: left; width: 800; padding: 5px\">\n",
    "      Machine Learning, a Probabilistic Perspective<br>\n",
    "      Sebastian Raschka and Vahid Mirjalili<br>\n",
    "      2017<br>\n",
    "  </div>\n",
    "</div>\n",
    "\n",
    "<br>\n",
    "<div style=\"clear: both; display: table;\">\n",
    "  <div style=\"border: none; float: left; width: 200; padding: 5px\">\n",
    "  <img alt=\"Foundations of Machine Learning - Mohri\" \n",
    "       src=\"./fig/books/Foundations of Machine Learning - Mohri.jpg\" \n",
    "       height=\"100\" width=\"100\"  />\n",
    "  </div>\n",
    "  <div style=\"border: none; float: left; width: 800; padding: 5px\">\n",
    "      Foundations of Machine Learning (Second Edition)<br>\n",
    "      Mehryar Mohri, Afshin Rostamizadeh and Ameet Talwalkar<br>\n",
    "      2018<br>\n",
    "  </div>\n",
    "</div>\n",
    "\n",
    "<br>\n",
    "<div style=\"clear: both; display: table;\">\n",
    "  <div style=\"border: none; float: left; width: 200; padding: 5px\">\n",
    "  <img alt=\"Introduction to Machine Learning - Alpaydin\" \n",
    "       src=\"./fig/books/Introduction to Machine Learning - Alpaydin.jpg\" \n",
    "       height=\"100\" width=\"100\"  />\n",
    "  </div>\n",
    "  <div style=\"border: none; float: left; width: 800; padding: 5px\">\n",
    "      Introduction to Machine Learning (Fourth Edition)<br>\n",
    "      Ethem Alpaydin<br>\n",
    "      2020<br>\n",
    "  </div>\n",
    "</div>\n",
    "\n",
    "<br>\n",
    "<div style=\"clear: both; display: table;\">\n",
    "  <div style=\"border: none; float: left; width: 200; padding: 5px\">\n",
    "  <img alt=\"Machine Learning, a Probabilistic Perspective - Murphy\" \n",
    "       src=\"./fig/books/Machine Learning, a Probabilistic Perspective - Murphy.jpg\" \n",
    "       height=\"100\" width=\"100\"  />\n",
    "  </div>\n",
    "  <div style=\"border: none; float: left; width: 800; padding: 5px\">\n",
    "      Machine Learning, a Probabilistic Perspective<br>\n",
    "      Kevin P. Murphy<br>\n",
    "      2012<br>\n",
    "  </div>\n",
    "</div>\n",
    "\n",
    "<br>\n",
    "<div style=\"clear: both; display: table;\">\n",
    "  <div style=\"border: none; float: left; width: 200; padding: 5px\">\n",
    "  <img alt=\"Elements of Statistical Learning - Hastie\" \n",
    "       src=\"./fig/books/Elements of Statistical Learning - Hastie.jpg\" \n",
    "       height=\"100\" width=\"100\"  />\n",
    "  </div>\n",
    "  <div style=\"border: none; float: left; width: 800; padding: 5px\">\n",
    "      <a href=\"https://hastie.su.domains/Papers/ESLII.pdf\">Elements of Statistical Learning</a><br>\n",
    "      Trevor Hastie, Robert Tibshirani, and Jerome Friedman<br>\n",
    "      2008<br>\n",
    "  </div>\n",
    "</div>\n",
    "\n",
    "\n",
    "### Jupyter Notebooks\n",
    "\n",
    " * [Yale Digital Humanities Lab](https://github.com/YaleDHLab/lab-workshops)\n",
    " \n",
    " * Aurelien Geron Hands-on Machine Learning with Scikit-learn \n",
    "   [First Edition](https://github.com/ageron/handson-ml) and\n",
    "   [Second Edition](https://github.com/ageron/handson-ml2)\n",
    "   \n",
    " * [A progressive collection notebooks of the Machine Learning course by the University of Turin](https://github.com/rugantio/MachineLearningCourse)\n",
    "   \n",
    " * [A curated set of jupyter notebooks about many topics](https://github.com/jupyter/jupyter/wiki/A-gallery-of-interesting-Jupyter-Notebooks)\n",
    "   \n",
    "### Videos\n",
    "\n",
    " * [Caltech's \"Learning from Data\" by Professor Yaser Abu-Mostafa](https://work.caltech.edu/telecourse.html)\n",
    " \n",
    "\n",
    " * [A Friendly Introduction to Machine Learning](https://www.youtube.com/watch?v=IpGxLWOIZy4)\n",
    "\n",
    "In this 30-minute video, Luis Serrano (head of machine learning at Udacity) offers intuitive, user-friendly introductions to the mechanics that drive several machine learning models, including Naive Bayes, Decision Tree, Logistic Regression, Neural Network, and Support Vector Machine classifiers. This video is a great place to start for those looking for quick intuitions about the ways these algorithms work.\n",
    "\n",
    " * [Hands-On Machine Learning with Scikit-Learn and TensorFlow (OREILLY)](http://shop.oreilly.com/product/0636920052289.do)\n",
    "\n",
    "This OREILLY book offers a great high-level introduction to machine learning with Python. Aurélien Géron guides readers through ways one can use scikit-learn and other popular libraries to build machine learning models in Python. This is a great choice for those who just want to get work done, without necessarily unlocking the insights that would allow one to build models from scratch.\n",
    "\n",
    " * [Machine Learning Cheatsheets](https://becominghuman.ai/cheat-sheets-for-ai-neural-networks-machine-learning-deep-learning-big-data-678c51b4b463)\n",
    "\n",
    "This collection of \"cheat sheets\" gives concise overviews of the API's and models behind many of the most prominent packages and concepts in machine learning and its allied fields, including different neural network architectures, numerical optimization techniques, algorithms appropriate for different tasks, scikit-learn, pandas, scikit-learn, scipy, ggpot2, dplyr and tidyr, big O notation, and several other topics. Recently identified as the \"most popular\" article on machine learning in Medium.\n",
    "\n",
    " * [Mining of Massive Datasets](http://www.mmds.org/)\n",
    "\n",
    "This Stanford University course and digital publication offer introductions to a wide array of subtopics in machine learning. The authors focus on helping readers gain an intuitive understanding of how machine learning models work. One of the most lucid and concise treatments of machine learning available on the web.\n",
    "\n",
    " * [Convolutional Neural Networks for Visual Recognition](http://cs231n.stanford.edu/)\n",
    "\n",
    "This Stanford University course offers a spectacular introduction to Convolutional Neural Networks, the cornerstone of modern machine learning in the domain of computer vision. If your work involves images or video materials, and you'd like to apply machine learning techniques to your data, this course will help you get up and running with state-of-the-art techniques in convnets.\n",
    "\n",
    " * [Machine Learning (Andrew Ng, Coursera)](https://www.coursera.org/learn/machine-learning)\n",
    "\n",
    "Andrew Ng's Coursera course on machine learning will help you master many of the fundamentals involved in modern machine learning. Professor Ng will guide you through a great deal of the math involved in contemporary machine learning, starting with simple linear classifiers and building up into complex neural network architectures. This class is ideal for those who like to understand the math behind the models they use.\n",
    " \n",
    " ---"
   ]
  },
  {
   "cell_type": "markdown",
   "metadata": {},
   "source": [
    "# Back of the Book"
   ]
  },
  {
   "cell_type": "code",
   "execution_count": 40,
   "metadata": {
    "scrolled": true
   },
   "outputs": [
    {
     "data": {
      "text/html": [
       "<style>\n",
       "    .div-1 {\n",
       "        background-color: #EBEBEB;\n",
       "    }\n",
       "\n",
       "    .div-2 {\n",
       "    \tbackground-color: #ABBAEA;\n",
       "    }\n",
       "\n",
       "    .div-3 {\n",
       "    \tbackground-color: #FBD603;\n",
       "    }\n",
       "    .div-white {\n",
       "    \tbackground-color: #FBFBFB;\n",
       "    }\n",
       "    h1 {\n",
       "      color: #002855;\n",
       "    }\n",
       "    h2 {\n",
       "      color: #002855;\n",
       "    }\n",
       "</style>\n"
      ],
      "text/plain": [
       "<IPython.core.display.HTML object>"
      ]
     },
     "metadata": {},
     "output_type": "display_data"
    },
    {
     "data": {
      "image/png": "[encoded data removed]",
      "text/plain": [
       "<Figure size 300x300 with 1 Axes>"
      ]
     },
     "metadata": {},
     "output_type": "display_data"
    }
   ],
   "source": [
    "plt.figure(figsize=(3,3))\n",
    "n = chapter_number\n",
    "maxt=(2*(n-1)+3)*np.pi/2\n",
    "t = np.linspace(np.pi/2, maxt, 1000)\n",
    "tt= 1.0/(t+0.01)\n",
    "x = (maxt-t)*np.cos(t)**3\n",
    "y = t*np.sqrt(np.abs(np.cos(t))) + np.sin(0.3*t)*np.cos(2*t)\n",
    "plt.plot(x, y, c=\"green\")\n",
    "plt.axis('off');"
   ]
  },
  {
   "cell_type": "code",
   "execution_count": 41,
   "metadata": {},
   "outputs": [
    {
     "data": {
      "text/html": [
       "<style>\n",
       "    .div-1 {\n",
       "        background-color: #EBEBEB;\n",
       "    }\n",
       "\n",
       "    .div-2 {\n",
       "    \tbackground-color: #ABBAEA;\n",
       "    }\n",
       "\n",
       "    .div-3 {\n",
       "    \tbackground-color: #FBD603;\n",
       "    }\n",
       "    .div-white {\n",
       "    \tbackground-color: #FBFBFB;\n",
       "    }\n",
       "    h1 {\n",
       "      color: #002855;\n",
       "    }\n",
       "    h2 {\n",
       "      color: #002855;\n",
       "    }\n",
       "</style>\n"
      ],
      "text/plain": [
       "<IPython.core.display.HTML object>"
      ]
     },
     "metadata": {},
     "output_type": "display_data"
    },
    {
     "name": "stdout",
     "output_type": "stream",
     "text": [
      "Chapter 7 run in 45 seconds\n"
     ]
    }
   ],
   "source": [
    "end = time.time()\n",
    "print(f'Chapter {chapter_number} run in {int(end - start):d} seconds')"
   ]
  }
 ],
 "metadata": {
  "kernelspec": {
   "display_name": "Python 3 (ipykernel)",
   "language": "python",
   "name": "python3"
  },
  "language_info": {
   "codemirror_mode": {
    "name": "ipython",
    "version": 3
   },
   "file_extension": ".py",
   "mimetype": "text/x-python",
   "name": "python",
   "nbconvert_exporter": "python",
   "pygments_lexer": "ipython3",
   "version": "3.11.6"
  }
 },
 "nbformat": 4,
 "nbformat_minor": 4
}
