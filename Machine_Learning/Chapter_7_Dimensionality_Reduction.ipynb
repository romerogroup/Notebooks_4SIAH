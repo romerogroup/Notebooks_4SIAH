{
  "cells": [
    {
      "cell_type": "markdown",
      "metadata": {
        "id": "xqpJIVtk0_6I"
      },
      "source": [
        "![Machine Learning for Scientists in a hurry](https://github.com/romerogroup/Notebooks_4SIAH/blob/main/Machine_Learning/fig/Title_ML.png?raw=1)"
      ]
    },
    {
      "cell_type": "markdown",
      "metadata": {
        "id": "y3VGHD__0_6M"
      },
      "source": [
        "# Boilerplate"
      ]
    },
    {
      "cell_type": "code",
      "source": [
        "!if [ ! -f helpers.py ]; then wget \"https://raw.githubusercontent.com/romerogroup/Notebooks_4SIAH/main/Machine_Learning/helpers.py\"; fi"
      ],
      "metadata": {
        "id": "LgdeVw-z1DOd"
      },
      "execution_count": 1,
      "outputs": []
    },
    {
      "cell_type": "code",
      "execution_count": 2,
      "metadata": {
        "id": "dI4kdA1PJ6R3"
      },
      "outputs": [],
      "source": [
        "# import some custom helper code\n",
        "import helpers\n",
        "from helpers import set_css_in_cell_output\n",
        "get_ipython().events.register('pre_run_cell', set_css_in_cell_output)"
      ]
    },
    {
      "cell_type": "code",
      "execution_count": 3,
      "metadata": {
        "id": "Q7Ovn_6x0_6P",
        "outputId": "0cf38445-cd95-40d4-cc0b-9b8223952ce7",
        "colab": {
          "base_uri": "https://localhost:8080/",
          "height": 349
        }
      },
      "outputs": [
        {
          "output_type": "display_data",
          "data": {
            "text/plain": [
              "<IPython.core.display.HTML object>"
            ],
            "text/html": [
              "<style>\n",
              "    .div-red {\n",
              "        background-color: #EE2A35;\n",
              "    }\n",
              "\n",
              "    .div-green {\n",
              "    \tbackground-color: #009736;\n",
              "    }\n",
              "\n",
              "    .div-black {\n",
              "    \tbackground-color: #000000;\n",
              "    }\n",
              "    .div-white {\n",
              "    \tbackground-color: #FFFFFF;\n",
              "    }\n",
              "    h1 {\n",
              "      color: #EE2A35;\n",
              "    }\n",
              "    h2 {\n",
              "      color: #009736;\n",
              "    }\n",
              "</style>\n"
            ]
          },
          "metadata": {}
        },
        {
          "output_type": "stream",
          "name": "stdout",
          "text": [
            "Requirement already satisfied: watermark in /usr/local/lib/python3.10/dist-packages (2.4.3)\n",
            "Requirement already satisfied: ipython>=6.0 in /usr/local/lib/python3.10/dist-packages (from watermark) (7.34.0)\n",
            "Requirement already satisfied: importlib-metadata>=1.4 in /usr/local/lib/python3.10/dist-packages (from watermark) (6.8.0)\n",
            "Requirement already satisfied: setuptools in /usr/local/lib/python3.10/dist-packages (from watermark) (67.7.2)\n",
            "Requirement already satisfied: zipp>=0.5 in /usr/local/lib/python3.10/dist-packages (from importlib-metadata>=1.4->watermark) (3.17.0)\n",
            "Requirement already satisfied: jedi>=0.16 in /usr/local/lib/python3.10/dist-packages (from ipython>=6.0->watermark) (0.19.1)\n",
            "Requirement already satisfied: decorator in /usr/local/lib/python3.10/dist-packages (from ipython>=6.0->watermark) (4.4.2)\n",
            "Requirement already satisfied: pickleshare in /usr/local/lib/python3.10/dist-packages (from ipython>=6.0->watermark) (0.7.5)\n",
            "Requirement already satisfied: traitlets>=4.2 in /usr/local/lib/python3.10/dist-packages (from ipython>=6.0->watermark) (5.7.1)\n",
            "Requirement already satisfied: prompt-toolkit!=3.0.0,!=3.0.1,<3.1.0,>=2.0.0 in /usr/local/lib/python3.10/dist-packages (from ipython>=6.0->watermark) (3.0.39)\n",
            "Requirement already satisfied: pygments in /usr/local/lib/python3.10/dist-packages (from ipython>=6.0->watermark) (2.16.1)\n",
            "Requirement already satisfied: backcall in /usr/local/lib/python3.10/dist-packages (from ipython>=6.0->watermark) (0.2.0)\n",
            "Requirement already satisfied: matplotlib-inline in /usr/local/lib/python3.10/dist-packages (from ipython>=6.0->watermark) (0.1.6)\n",
            "Requirement already satisfied: pexpect>4.3 in /usr/local/lib/python3.10/dist-packages (from ipython>=6.0->watermark) (4.8.0)\n",
            "Requirement already satisfied: parso<0.9.0,>=0.8.3 in /usr/local/lib/python3.10/dist-packages (from jedi>=0.16->ipython>=6.0->watermark) (0.8.3)\n",
            "Requirement already satisfied: ptyprocess>=0.5 in /usr/local/lib/python3.10/dist-packages (from pexpect>4.3->ipython>=6.0->watermark) (0.7.0)\n",
            "Requirement already satisfied: wcwidth in /usr/local/lib/python3.10/dist-packages (from prompt-toolkit!=3.0.0,!=3.0.1,<3.1.0,>=2.0.0->ipython>=6.0->watermark) (0.2.8)\n"
          ]
        }
      ],
      "source": [
        "!pip install watermark"
      ]
    },
    {
      "cell_type": "code",
      "source": [
        "%%html\n",
        "<div style=\"clear: both; display: table;\" class=\"div-white\">\n",
        "  <div style=\"border: none; float: left; width: 60%; padding: 5px\">\n",
        "  <h1 id=\"subtitle\">Chapter 7. Dimensionality Reduction</h1>\n",
        "  <h2 id=\"subtitle\">Guillermo Avendaño Franco<br>Aldo Humberto Romero</h2>\n",
        "  <br>\n",
        "  <img src=\"https://raw.githubusercontent.com/romerogroup/Notebooks_4SIAH/main/Machine_Learning/fig/1-line logotype124-295.png\" alt=\"Scientific Computing with Python\" style=\"width:50%\" align=\"left\">\n",
        "  </div>\n",
        "  <div style=\"border: none; float: left; width: 30%; padding: 5px\">\n",
        "  <img src=\"https://raw.githubusercontent.com/romerogroup/Notebooks_4SIAH/main/Machine_Learning/fig/SCPython.png\" alt=\"Scientific Computing with Python\" style=\"width:100%\">\n",
        "  </div>\n",
        "</div>"
      ],
      "metadata": {
        "id": "TZUJ54rt1REI",
        "outputId": "94255616-b75e-4818-c4bc-289b66c46f43",
        "colab": {
          "base_uri": "https://localhost:8080/",
          "height": 321
        }
      },
      "execution_count": 4,
      "outputs": [
        {
          "output_type": "display_data",
          "data": {
            "text/plain": [
              "<IPython.core.display.HTML object>"
            ],
            "text/html": [
              "<style>\n",
              "    .div-red {\n",
              "        background-color: #EE2A35;\n",
              "    }\n",
              "\n",
              "    .div-green {\n",
              "    \tbackground-color: #009736;\n",
              "    }\n",
              "\n",
              "    .div-black {\n",
              "    \tbackground-color: #000000;\n",
              "    }\n",
              "    .div-white {\n",
              "    \tbackground-color: #FFFFFF;\n",
              "    }\n",
              "    h1 {\n",
              "      color: #EE2A35;\n",
              "    }\n",
              "    h2 {\n",
              "      color: #009736;\n",
              "    }\n",
              "</style>\n"
            ]
          },
          "metadata": {}
        },
        {
          "output_type": "display_data",
          "data": {
            "text/plain": [
              "<IPython.core.display.HTML object>"
            ],
            "text/html": [
              "<div style=\"clear: both; display: table;\" class=\"div-white\">\n",
              "  <div style=\"border: none; float: left; width: 60%; padding: 5px\">\n",
              "  <h1 id=\"subtitle\">Chapter 7. Dimensionality Reduction</h1>\n",
              "  <h2 id=\"subtitle\">Guillermo Avendaño Franco<br>Aldo Humberto Romero</h2>\n",
              "  <br>\n",
              "  <img src=\"https://raw.githubusercontent.com/romerogroup/Notebooks_4SIAH/main/Machine_Learning/fig/1-line logotype124-295.png\" alt=\"Scientific Computing with Python\" style=\"width:50%\" align=\"left\">\n",
              "  </div>\n",
              "  <div style=\"border: none; float: left; width: 30%; padding: 5px\">\n",
              "  <img src=\"https://raw.githubusercontent.com/romerogroup/Notebooks_4SIAH/main/Machine_Learning/fig/SCPython.png\" alt=\"Scientific Computing with Python\" style=\"width:100%\">\n",
              "  </div>\n",
              "</div>\n"
            ]
          },
          "metadata": {}
        }
      ]
    },
    {
      "cell_type": "markdown",
      "metadata": {
        "id": "EfmqOTHL0_6S"
      },
      "source": [
        "<div style=\"clear: both; display: table;\">\n",
        "  <div style=\"border: none; float: left; width: 60%; padding: 5px\">\n",
        "  <h1 id=\"subtitle\">Chapter 7. Dimensionality Reduction</h1>\n",
        "  <h2 id=\"subtitle\">Guillermo Avendaño Franco<br>Aldo Humberto Romero</h2>\n",
        "  <br>\n",
        "  <img src=\"https://github.com/romerogroup/Notebooks_4SIAH/blob/main/Machine_Learning/fig/1-line%20logotype124-295.png?raw=1\" alt=\"Scientific Computing with Python\" style=\"width:50%\" align=\"left\">\n",
        "  </div>\n",
        "  <div style=\"border: none; float: left; width: 30%; padding: 5px\">\n",
        "  <img src=\"https://github.com/romerogroup/Notebooks_4SIAH/blob/main/Machine_Learning/fig/SCPython.png?raw=1\" alt=\"Scientific Computing with Python\" style=\"width:100%\">\n",
        "  </div>\n",
        "</div>"
      ]
    },
    {
      "cell_type": "markdown",
      "metadata": {
        "id": "dzPNw8_D0_6S"
      },
      "source": [
        "## Setup"
      ]
    },
    {
      "cell_type": "code",
      "execution_count": 5,
      "metadata": {
        "id": "RtDGHnuT0_6T",
        "outputId": "cdd4bc7b-ade4-482c-ff50-595eaeaabb49",
        "colab": {
          "base_uri": "https://localhost:8080/",
          "height": 17
        }
      },
      "outputs": [
        {
          "output_type": "display_data",
          "data": {
            "text/plain": [
              "<IPython.core.display.HTML object>"
            ],
            "text/html": [
              "<style>\n",
              "    .div-red {\n",
              "        background-color: #EE2A35;\n",
              "    }\n",
              "\n",
              "    .div-green {\n",
              "    \tbackground-color: #009736;\n",
              "    }\n",
              "\n",
              "    .div-black {\n",
              "    \tbackground-color: #000000;\n",
              "    }\n",
              "    .div-white {\n",
              "    \tbackground-color: #FFFFFF;\n",
              "    }\n",
              "    h1 {\n",
              "      color: #EE2A35;\n",
              "    }\n",
              "    h2 {\n",
              "      color: #009736;\n",
              "    }\n",
              "</style>\n"
            ]
          },
          "metadata": {}
        }
      ],
      "source": [
        "%load_ext watermark"
      ]
    },
    {
      "cell_type": "code",
      "execution_count": 6,
      "metadata": {
        "scrolled": true,
        "id": "tEjfIoEv0_6U",
        "outputId": "458fd299-5c6a-4603-d58a-7ff76b712db5",
        "colab": {
          "base_uri": "https://localhost:8080/",
          "height": 274
        }
      },
      "outputs": [
        {
          "output_type": "display_data",
          "data": {
            "text/plain": [
              "<IPython.core.display.HTML object>"
            ],
            "text/html": [
              "<style>\n",
              "    .div-red {\n",
              "        background-color: #EE2A35;\n",
              "    }\n",
              "\n",
              "    .div-green {\n",
              "    \tbackground-color: #009736;\n",
              "    }\n",
              "\n",
              "    .div-black {\n",
              "    \tbackground-color: #000000;\n",
              "    }\n",
              "    .div-white {\n",
              "    \tbackground-color: #FFFFFF;\n",
              "    }\n",
              "    h1 {\n",
              "      color: #EE2A35;\n",
              "    }\n",
              "    h2 {\n",
              "      color: #009736;\n",
              "    }\n",
              "</style>\n"
            ]
          },
          "metadata": {}
        },
        {
          "output_type": "stream",
          "name": "stdout",
          "text": [
            "Last updated: 2023-10-23T04:48:07.516188+00:00\n",
            "\n",
            "Python implementation: CPython\n",
            "Python version       : 3.10.12\n",
            "IPython version      : 7.34.0\n",
            "\n",
            "Compiler    : GCC 11.4.0\n",
            "OS          : Linux\n",
            "Release     : 5.15.120+\n",
            "Machine     : x86_64\n",
            "Processor   : x86_64\n",
            "CPU cores   : 2\n",
            "Architecture: 64bit\n",
            "\n"
          ]
        }
      ],
      "source": [
        "%watermark"
      ]
    },
    {
      "cell_type": "code",
      "execution_count": 7,
      "metadata": {
        "id": "O6ePJOHb0_6X",
        "outputId": "63372f5a-4578-4c69-81c0-f54b57960441",
        "colab": {
          "base_uri": "https://localhost:8080/",
          "height": 17
        }
      },
      "outputs": [
        {
          "output_type": "display_data",
          "data": {
            "text/plain": [
              "<IPython.core.display.HTML object>"
            ],
            "text/html": [
              "<style>\n",
              "    .div-red {\n",
              "        background-color: #EE2A35;\n",
              "    }\n",
              "\n",
              "    .div-green {\n",
              "    \tbackground-color: #009736;\n",
              "    }\n",
              "\n",
              "    .div-black {\n",
              "    \tbackground-color: #000000;\n",
              "    }\n",
              "    .div-white {\n",
              "    \tbackground-color: #FFFFFF;\n",
              "    }\n",
              "    h1 {\n",
              "      color: #EE2A35;\n",
              "    }\n",
              "    h2 {\n",
              "      color: #009736;\n",
              "    }\n",
              "</style>\n"
            ]
          },
          "metadata": {}
        }
      ],
      "source": [
        "import time\n",
        "start = time.time()\n",
        "chapter_number = 7\n",
        "import matplotlib\n",
        "%matplotlib inline\n",
        "%load_ext autoreload\n",
        "%autoreload 2\n",
        "import matplotlib.pyplot as plt"
      ]
    },
    {
      "cell_type": "code",
      "execution_count": 8,
      "metadata": {
        "id": "700uviDE0_6Y",
        "outputId": "d58b3d87-dac6-4e55-f190-f777334f5021",
        "colab": {
          "base_uri": "https://localhost:8080/",
          "height": 17
        }
      },
      "outputs": [
        {
          "output_type": "display_data",
          "data": {
            "text/plain": [
              "<IPython.core.display.HTML object>"
            ],
            "text/html": [
              "<style>\n",
              "    .div-red {\n",
              "        background-color: #EE2A35;\n",
              "    }\n",
              "\n",
              "    .div-green {\n",
              "    \tbackground-color: #009736;\n",
              "    }\n",
              "\n",
              "    .div-black {\n",
              "    \tbackground-color: #000000;\n",
              "    }\n",
              "    .div-white {\n",
              "    \tbackground-color: #FFFFFF;\n",
              "    }\n",
              "    h1 {\n",
              "      color: #EE2A35;\n",
              "    }\n",
              "    h2 {\n",
              "      color: #009736;\n",
              "    }\n",
              "</style>\n"
            ]
          },
          "metadata": {}
        }
      ],
      "source": [
        "import numpy as np\n",
        "import sklearn"
      ]
    },
    {
      "cell_type": "code",
      "execution_count": 9,
      "metadata": {
        "scrolled": true,
        "id": "eaVlEf3h0_6Z",
        "outputId": "fee149ec-51df-45cd-9727-10b2cbd52995",
        "colab": {
          "base_uri": "https://localhost:8080/",
          "height": 90
        }
      },
      "outputs": [
        {
          "output_type": "display_data",
          "data": {
            "text/plain": [
              "<IPython.core.display.HTML object>"
            ],
            "text/html": [
              "<style>\n",
              "    .div-red {\n",
              "        background-color: #EE2A35;\n",
              "    }\n",
              "\n",
              "    .div-green {\n",
              "    \tbackground-color: #009736;\n",
              "    }\n",
              "\n",
              "    .div-black {\n",
              "    \tbackground-color: #000000;\n",
              "    }\n",
              "    .div-white {\n",
              "    \tbackground-color: #FFFFFF;\n",
              "    }\n",
              "    h1 {\n",
              "      color: #EE2A35;\n",
              "    }\n",
              "    h2 {\n",
              "      color: #009736;\n",
              "    }\n",
              "</style>\n"
            ]
          },
          "metadata": {}
        },
        {
          "output_type": "stream",
          "name": "stdout",
          "text": [
            "matplotlib: 3.7.1\n",
            "sklearn   : 1.2.2\n",
            "numpy     : 1.23.5\n",
            "\n"
          ]
        }
      ],
      "source": [
        "%watermark -iv"
      ]
    },
    {
      "cell_type": "markdown",
      "metadata": {
        "id": "EmaS8JAy0_6a"
      },
      "source": [
        "# Where we are on the map?\n",
        "\n",
        "<img src=\"https://github.com/romerogroup/Notebooks_4SIAH/blob/main/Machine_Learning/fig/ml_map.png?raw=1\" width=\"700\" title=\"Precision vs Recall\" alt=\"Precision vs Recall\"></a>"
      ]
    },
    {
      "cell_type": "markdown",
      "metadata": {
        "id": "Lh7_j5dR0_6a"
      },
      "source": [
        "# Dimensionality Reduction\n",
        "\n",
        "In machine learning is not unusual the number of features been in the order hundreds, thousands or even more.\n",
        "However, having that extra data is not making things better, and it can surely make things worst.\n",
        "\n",
        "\"High-dimensional\" datasets can be quite hard to work with and reason about. High dimensional datasets also pose specific challenges to many machine learning models (see **[The Curse of Dimensionality](https://en.wikipedia.org/wiki/Curse_of_dimensionality)**). To work around these challenges, it's often helpful to reduce the number of dimensions required to express a given dataset. That reduction is trying to solve two problems. The dimensionality reduction itself and the focus on more relevant features that maximize the probability of successful classifications.\n",
        "\n",
        "## Principal Component Analysis\n",
        "\n",
        "One popular way to reduce the dimensionality of a dataset is to use a technique called [**Principal Component Analysis**](https://en.wikipedia.org/wiki/Principal_component_analysis). PCA tries to find a lower dimensional representation of a dataset by projecting that dataset down into a smaller dimensional space in a way that minimizes the loss of information.\n",
        "\n",
        "To get an intuition about PCA, suppose you have points in two dimensions, and you wish to reduce the dimensionality of your dataset to a single dimension. To do so, you could find the center of the points and then create a line $L$ with a random orientation that passes through that center. One can then project each point onto $L$ such that an imaginary line between the point and $L$ form a right angle. Within this \"projection\", each 2D point can be represented with just its position along the 1D $L$, effectively giving us a 1D representation of the point's position in its original space. Furthermore, we can use the difference between the largest and smallest values of points projected onto $L$ as a measure of the amount of \"variance\" or \"spread\" within the data captured in $L$&mdash;the greater this spread, the greater the amount of \"signal\" from the original dataset is represented in the projection.\n",
        "\n",
        "If one were to slowly rotate $L$ and continue measuring the delta between the greatest and smallest values on $L$ at each orientation, one could find the orientation of the projection line that minimizes information loss. (This line of minimal information loss is shown in pink below.) Once that line is discovered, we can project all of our points onto that lower-dimensional embedding (see the red points below when the black line is colinear with the pink line):"
      ]
    },
    {
      "cell_type": "markdown",
      "metadata": {
        "id": "f8myUGSN0_6b"
      },
      "source": [
        "<img src='https://github.com/romerogroup/Notebooks_4SIAH/blob/main/Machine_Learning/fig/pca.gif?raw=1'>\n",
        "\n",
        "\n",
        "\n",
        "\n",
        "\n",
        "For a beginner-friendly deep dive into the mechanics behind this form of dimension reduction, check out Josh Starmer's [step-by-step guide to PCA](https://www.youtube.com/watch?v=FgakZw6K1QQ).\n",
        "\n",
        "\n",
        "PCA (Principal Component Analysis) converts a dataset of possibly correlated features into a dataset of linearly uncorrelated features called principal components. is equivalent to **Singular Value Decomposition** (SVD):\n",
        "\n",
        "$$\\mathbf{X} = \\mathbf{U} \\boldsymbol{\\Sigma} \\mathbf{V}^*$$\n",
        "\n",
        "Formally, the singular value decomposition of an $m \\times n$ real or complex matrix $\\mathbf{M}$ is a factorization of the form $\\mathbf{U\\Sigma V^*}$, where $\\mathbf{U}$ is an $m \\times m$ real or complex **unitary matrix**, $\\mathbf{\\Sigma}$ is an $m \\times n$ **rectangular diagonal matrix** with non-negative real numbers on the diagonal, and $\\mathbf{V}$ is an $n \\times n$ real or complex unitary matrix. The diagonal entries $\\sigma_i$ of $\\mathbf{\\Sigma}$ are known as the **singular values** of $\\mathbf{M}$. The columns of $\\mathbf{U}$ and the columns of $\\mathbf{V}$ are called the **left-singular vectors** and **right-singular vectors** of $\\mathbf{M}$, respectively.\n",
        "\n",
        "<img src=\"https://github.com/romerogroup/Notebooks_4SIAH/blob/main/Machine_Learning/fig/1280px-Singular_value_decomposition_visualisation.svg.png?raw=1\" alt=\"SVD\" style=\"width:400px\">\n",
        "\n",
        "For Real-valued matrices, the conjugate transpose $\\mathbf{V}^*$ becomes just the transpose $\\mathbf{V}^T$ and the decomposition is:\n",
        "\n",
        "$$\\mathbf{X} = \\mathbf{U} \\boldsymbol{\\Sigma} \\mathbf{V}^T$$\n",
        "\n",
        "The value returned from `transform` is the matrix $\\mathbf{U}$. The parameter `n_components` is the number of components to keep. if `n_components` is not set, all components are kept; it means that the result of `transform` is a matrix $n \\times n$ (if $d \\geq n$) or $n \\times d$ (if $d < n$).\n",
        "\n",
        "The values in the attribute `explained_variance_` are related to $\\boldsymbol{\\Sigma}$ in the SVD decomposition. Finally, the values in the attribute `components_` are related to $\\mathbf{V}^T$.\n",
        "\n",
        "The optional parameter `whiten=True` makes it possible to project the data onto the singular space while scaling each component to unit variance. This is often useful if the models downstream make strong assumptions on the isotropy of the signal: this is for example the case for Support Vector Machines with the RBF kernel and the K-Means clustering algorithm."
      ]
    },
    {
      "cell_type": "markdown",
      "metadata": {
        "id": "peecmdvX0_6b"
      },
      "source": [
        "# Dimensionality reduction of MNIST dataset"
      ]
    },
    {
      "cell_type": "markdown",
      "metadata": {
        "id": "nzFo1ezS0_6c"
      },
      "source": [
        "The MNIST dataset contains 70000 images of hand-written digits. Each image is a matrix of 28x28 grayscale pixels. The value of each pixel goes from 0 to 255.\n",
        "\n",
        "There is more information available in the MNIST dataset repository:\n",
        "http://yann.lecun.com/exdb/mnist/\n",
        "\n",
        "Let's first fetch the dataset from the internet (which may take a while, note the asterisk [*]):"
      ]
    },
    {
      "cell_type": "code",
      "execution_count": 10,
      "metadata": {
        "id": "IIZHCEpW0_6c",
        "outputId": "405a3634-d4af-4400-e284-051d79ce9f26",
        "colab": {
          "base_uri": "https://localhost:8080/",
          "height": 17
        }
      },
      "outputs": [
        {
          "output_type": "display_data",
          "data": {
            "text/plain": [
              "<IPython.core.display.HTML object>"
            ],
            "text/html": [
              "<style>\n",
              "    .div-red {\n",
              "        background-color: #EE2A35;\n",
              "    }\n",
              "\n",
              "    .div-green {\n",
              "    \tbackground-color: #009736;\n",
              "    }\n",
              "\n",
              "    .div-black {\n",
              "    \tbackground-color: #000000;\n",
              "    }\n",
              "    .div-white {\n",
              "    \tbackground-color: #FFFFFF;\n",
              "    }\n",
              "    h1 {\n",
              "      color: #EE2A35;\n",
              "    }\n",
              "    h2 {\n",
              "      color: #009736;\n",
              "    }\n",
              "</style>\n"
            ]
          },
          "metadata": {}
        }
      ],
      "source": [
        "#from sklearn.datasets import fetch_openml\n",
        "#X_all, y_all = fetch_openml('mnist_784', version=1, return_X_y=True, data_home='./data')\n",
        "\n",
        "# The shape of input and labels\n",
        "#print(X_all.shape)\n",
        "#print(y_all.shape)"
      ]
    },
    {
      "cell_type": "code",
      "execution_count": 11,
      "metadata": {
        "id": "vLyX2v9o0_6c",
        "outputId": "de91c557-8fb6-4e42-e693-4f3338529d5f",
        "colab": {
          "base_uri": "https://localhost:8080/",
          "height": 17
        }
      },
      "outputs": [
        {
          "output_type": "display_data",
          "data": {
            "text/plain": [
              "<IPython.core.display.HTML object>"
            ],
            "text/html": [
              "<style>\n",
              "    .div-red {\n",
              "        background-color: #EE2A35;\n",
              "    }\n",
              "\n",
              "    .div-green {\n",
              "    \tbackground-color: #009736;\n",
              "    }\n",
              "\n",
              "    .div-black {\n",
              "    \tbackground-color: #000000;\n",
              "    }\n",
              "    .div-white {\n",
              "    \tbackground-color: #FFFFFF;\n",
              "    }\n",
              "    h1 {\n",
              "      color: #EE2A35;\n",
              "    }\n",
              "    h2 {\n",
              "      color: #009736;\n",
              "    }\n",
              "</style>\n"
            ]
          },
          "metadata": {}
        }
      ],
      "source": [
        "import os\n",
        "import gzip\n",
        "from scipy.io import arff\n",
        "import pandas as pd"
      ]
    },
    {
      "cell_type": "code",
      "source": [
        "if not os.path.exists('data'):\n",
        "  os.mkdir('data')"
      ],
      "metadata": {
        "id": "grznI4F124_e",
        "outputId": "9d075cdf-22c9-4309-cbaa-d63ec3a54762",
        "colab": {
          "base_uri": "https://localhost:8080/",
          "height": 17
        }
      },
      "execution_count": 12,
      "outputs": [
        {
          "output_type": "display_data",
          "data": {
            "text/plain": [
              "<IPython.core.display.HTML object>"
            ],
            "text/html": [
              "<style>\n",
              "    .div-red {\n",
              "        background-color: #EE2A35;\n",
              "    }\n",
              "\n",
              "    .div-green {\n",
              "    \tbackground-color: #009736;\n",
              "    }\n",
              "\n",
              "    .div-black {\n",
              "    \tbackground-color: #000000;\n",
              "    }\n",
              "    .div-white {\n",
              "    \tbackground-color: #FFFFFF;\n",
              "    }\n",
              "    h1 {\n",
              "      color: #EE2A35;\n",
              "    }\n",
              "    h2 {\n",
              "      color: #009736;\n",
              "    }\n",
              "</style>\n"
            ]
          },
          "metadata": {}
        }
      ]
    },
    {
      "cell_type": "code",
      "execution_count": 13,
      "metadata": {
        "id": "xiP3UCFI0_6d",
        "outputId": "d0430588-91e7-4d31-c22a-0027a7c07048",
        "colab": {
          "base_uri": "https://localhost:8080/",
          "height": 17
        }
      },
      "outputs": [
        {
          "output_type": "display_data",
          "data": {
            "text/plain": [
              "<IPython.core.display.HTML object>"
            ],
            "text/html": [
              "<style>\n",
              "    .div-red {\n",
              "        background-color: #EE2A35;\n",
              "    }\n",
              "\n",
              "    .div-green {\n",
              "    \tbackground-color: #009736;\n",
              "    }\n",
              "\n",
              "    .div-black {\n",
              "    \tbackground-color: #000000;\n",
              "    }\n",
              "    .div-white {\n",
              "    \tbackground-color: #FFFFFF;\n",
              "    }\n",
              "    h1 {\n",
              "      color: #EE2A35;\n",
              "    }\n",
              "    h2 {\n",
              "      color: #009736;\n",
              "    }\n",
              "</style>\n"
            ]
          },
          "metadata": {}
        }
      ],
      "source": [
        "!if [ ! -f data/mnist_784.arff ]; then wget \"https://www.openml.org/data/download/52667/mnist_784.arff\" -O ./data/mnist_784.arff; fi"
      ]
    },
    {
      "cell_type": "code",
      "execution_count": 14,
      "metadata": {
        "id": "c2V64jIU0_6e",
        "outputId": "d4d6139b-8c4a-4a02-aff1-6b94859b74f3",
        "colab": {
          "base_uri": "https://localhost:8080/",
          "height": 17
        }
      },
      "outputs": [
        {
          "output_type": "display_data",
          "data": {
            "text/plain": [
              "<IPython.core.display.HTML object>"
            ],
            "text/html": [
              "<style>\n",
              "    .div-red {\n",
              "        background-color: #EE2A35;\n",
              "    }\n",
              "\n",
              "    .div-green {\n",
              "    \tbackground-color: #009736;\n",
              "    }\n",
              "\n",
              "    .div-black {\n",
              "    \tbackground-color: #000000;\n",
              "    }\n",
              "    .div-white {\n",
              "    \tbackground-color: #FFFFFF;\n",
              "    }\n",
              "    h1 {\n",
              "      color: #EE2A35;\n",
              "    }\n",
              "    h2 {\n",
              "      color: #009736;\n",
              "    }\n",
              "</style>\n"
            ]
          },
          "metadata": {}
        }
      ],
      "source": [
        "filename = \"./data/mnist_784.arff.gz\"\n",
        "url = \"https://www.openml.org/data/download/52667/mnist_784.arff\"\n",
        "if os.path.isfile(filename):\n",
        "    arff_file = gzip.open(filename,'rt')\n",
        "else:\n",
        "    arff_file = \"./data/mnist_784.arff\"\n",
        "data, meta = arff.loadarff(arff_file)"
      ]
    },
    {
      "cell_type": "code",
      "execution_count": 15,
      "metadata": {
        "id": "WSYARll70_6f",
        "outputId": "99afd351-50f5-43c6-cada-1abcb042454c",
        "colab": {
          "base_uri": "https://localhost:8080/",
          "height": 17
        }
      },
      "outputs": [
        {
          "output_type": "display_data",
          "data": {
            "text/plain": [
              "<IPython.core.display.HTML object>"
            ],
            "text/html": [
              "<style>\n",
              "    .div-red {\n",
              "        background-color: #EE2A35;\n",
              "    }\n",
              "\n",
              "    .div-green {\n",
              "    \tbackground-color: #009736;\n",
              "    }\n",
              "\n",
              "    .div-black {\n",
              "    \tbackground-color: #000000;\n",
              "    }\n",
              "    .div-white {\n",
              "    \tbackground-color: #FFFFFF;\n",
              "    }\n",
              "    h1 {\n",
              "      color: #EE2A35;\n",
              "    }\n",
              "    h2 {\n",
              "      color: #009736;\n",
              "    }\n",
              "</style>\n"
            ]
          },
          "metadata": {}
        }
      ],
      "source": [
        "df=pd.DataFrame(data)"
      ]
    },
    {
      "cell_type": "code",
      "execution_count": 16,
      "metadata": {
        "scrolled": true,
        "id": "AIJqnXgQ0_6g",
        "outputId": "fde2b73b-3770-4a3d-8312-181db912ef43",
        "colab": {
          "base_uri": "https://localhost:8080/",
          "height": 17
        }
      },
      "outputs": [
        {
          "output_type": "display_data",
          "data": {
            "text/plain": [
              "<IPython.core.display.HTML object>"
            ],
            "text/html": [
              "<style>\n",
              "    .div-red {\n",
              "        background-color: #EE2A35;\n",
              "    }\n",
              "\n",
              "    .div-green {\n",
              "    \tbackground-color: #009736;\n",
              "    }\n",
              "\n",
              "    .div-black {\n",
              "    \tbackground-color: #000000;\n",
              "    }\n",
              "    .div-white {\n",
              "    \tbackground-color: #FFFFFF;\n",
              "    }\n",
              "    h1 {\n",
              "      color: #EE2A35;\n",
              "    }\n",
              "    h2 {\n",
              "      color: #009736;\n",
              "    }\n",
              "</style>\n"
            ]
          },
          "metadata": {}
        }
      ],
      "source": [
        "mnist = {}\n",
        "mnist['data'] = df.drop('class', axis=1).astype('uint8')\n",
        "mnist['target'] = df['class'].astype('uint8')"
      ]
    },
    {
      "cell_type": "code",
      "execution_count": 17,
      "metadata": {
        "id": "mbiAsLHB0_6h",
        "outputId": "0ccd622f-8ad0-40e0-a17c-2000bfaaf3f9",
        "colab": {
          "base_uri": "https://localhost:8080/",
          "height": 17
        }
      },
      "outputs": [
        {
          "output_type": "display_data",
          "data": {
            "text/plain": [
              "<IPython.core.display.HTML object>"
            ],
            "text/html": [
              "<style>\n",
              "    .div-red {\n",
              "        background-color: #EE2A35;\n",
              "    }\n",
              "\n",
              "    .div-green {\n",
              "    \tbackground-color: #009736;\n",
              "    }\n",
              "\n",
              "    .div-black {\n",
              "    \tbackground-color: #000000;\n",
              "    }\n",
              "    .div-white {\n",
              "    \tbackground-color: #FFFFFF;\n",
              "    }\n",
              "    h1 {\n",
              "      color: #EE2A35;\n",
              "    }\n",
              "    h2 {\n",
              "      color: #009736;\n",
              "    }\n",
              "</style>\n"
            ]
          },
          "metadata": {}
        }
      ],
      "source": [
        "X_all = mnist['data']\n",
        "y_all = mnist['target']"
      ]
    },
    {
      "cell_type": "markdown",
      "metadata": {
        "id": "WWnhx05Z0_6i"
      },
      "source": [
        "This dataset is ordered, and we will get just part of it to speed up this exercise.\n",
        "\n",
        "For this, we need to shuffle the entire data and get the first instances."
      ]
    },
    {
      "cell_type": "code",
      "execution_count": 18,
      "metadata": {
        "id": "-hUiEDVV0_6i",
        "outputId": "36251061-6fcc-4c87-8e65-a07fa3445927",
        "colab": {
          "base_uri": "https://localhost:8080/",
          "height": 17
        }
      },
      "outputs": [
        {
          "output_type": "display_data",
          "data": {
            "text/plain": [
              "<IPython.core.display.HTML object>"
            ],
            "text/html": [
              "<style>\n",
              "    .div-red {\n",
              "        background-color: #EE2A35;\n",
              "    }\n",
              "\n",
              "    .div-green {\n",
              "    \tbackground-color: #009736;\n",
              "    }\n",
              "\n",
              "    .div-black {\n",
              "    \tbackground-color: #000000;\n",
              "    }\n",
              "    .div-white {\n",
              "    \tbackground-color: #FFFFFF;\n",
              "    }\n",
              "    h1 {\n",
              "      color: #EE2A35;\n",
              "    }\n",
              "    h2 {\n",
              "      color: #009736;\n",
              "    }\n",
              "</style>\n"
            ]
          },
          "metadata": {}
        }
      ],
      "source": [
        "from sklearn.utils import shuffle\n",
        "\n",
        "# shuffle dataset (which is sorted!)\n",
        "X_all, y_all = shuffle(X_all, y_all, random_state=42)\n",
        "\n",
        "# take only the first instances, to shorten runtime\n",
        "X = X_all[:1500]\n",
        "y = y_all[:1500]\n",
        "\n",
        "# take the other instances for testing\n",
        "X_test = X_all[1500:]\n",
        "y_test = y_all[1500:]"
      ]
    },
    {
      "cell_type": "markdown",
      "metadata": {
        "id": "AS5rJsnc0_6j"
      },
      "source": [
        "From the sklearn documentation:\n",
        "\n",
        "> Many elements used in the objective function of a learning algorithm (such as the RBF kernel of Support Vector Machines or the l1 and l2 regularizers of linear models) assume that all features are centered around zero and have variance in the same order. If a feature has a variance that is orders of magnitude larger than others, it might dominate the objective function and make the estimator unable to learn from other features correctly as expected.\n",
        "\n",
        "We will then rescale the training data since this is important to improve the performance of the classification algorithm that we will use later."
      ]
    },
    {
      "cell_type": "code",
      "execution_count": 19,
      "metadata": {
        "id": "MoQfy5zw0_6j",
        "outputId": "664e737f-8318-47ec-eed4-037d2c31cd4d",
        "colab": {
          "base_uri": "https://localhost:8080/",
          "height": 17
        }
      },
      "outputs": [
        {
          "output_type": "display_data",
          "data": {
            "text/plain": [
              "<IPython.core.display.HTML object>"
            ],
            "text/html": [
              "<style>\n",
              "    .div-red {\n",
              "        background-color: #EE2A35;\n",
              "    }\n",
              "\n",
              "    .div-green {\n",
              "    \tbackground-color: #009736;\n",
              "    }\n",
              "\n",
              "    .div-black {\n",
              "    \tbackground-color: #000000;\n",
              "    }\n",
              "    .div-white {\n",
              "    \tbackground-color: #FFFFFF;\n",
              "    }\n",
              "    h1 {\n",
              "      color: #EE2A35;\n",
              "    }\n",
              "    h2 {\n",
              "      color: #009736;\n",
              "    }\n",
              "</style>\n"
            ]
          },
          "metadata": {}
        }
      ],
      "source": [
        "# Rescale grayscale from -1 to 1\n",
        "X = X/255.0*2 - 1"
      ]
    },
    {
      "cell_type": "code",
      "execution_count": 20,
      "metadata": {
        "id": "s0_CuGyI0_6k",
        "outputId": "cce4b663-a3b8-4b64-8845-cff625748e8d",
        "colab": {
          "base_uri": "https://localhost:8080/",
          "height": 17
        }
      },
      "outputs": [
        {
          "output_type": "display_data",
          "data": {
            "text/plain": [
              "<IPython.core.display.HTML object>"
            ],
            "text/html": [
              "<style>\n",
              "    .div-red {\n",
              "        background-color: #EE2A35;\n",
              "    }\n",
              "\n",
              "    .div-green {\n",
              "    \tbackground-color: #009736;\n",
              "    }\n",
              "\n",
              "    .div-black {\n",
              "    \tbackground-color: #000000;\n",
              "    }\n",
              "    .div-white {\n",
              "    \tbackground-color: #FFFFFF;\n",
              "    }\n",
              "    h1 {\n",
              "      color: #EE2A35;\n",
              "    }\n",
              "    h2 {\n",
              "      color: #009736;\n",
              "    }\n",
              "</style>\n"
            ]
          },
          "metadata": {}
        }
      ],
      "source": [
        "X=X.to_numpy()\n",
        "y=y.to_numpy()"
      ]
    },
    {
      "cell_type": "markdown",
      "metadata": {
        "id": "5ueQ8UVk0_6k"
      },
      "source": [
        "Let's have a look at some of the instances in the dataset we just loaded:"
      ]
    },
    {
      "cell_type": "code",
      "execution_count": 21,
      "metadata": {
        "id": "ZsOJZdJs0_6l",
        "outputId": "881d84fc-4eb6-4494-ddfe-c305fac7736b",
        "colab": {
          "base_uri": "https://localhost:8080/",
          "height": 385
        }
      },
      "outputs": [
        {
          "output_type": "display_data",
          "data": {
            "text/plain": [
              "<IPython.core.display.HTML object>"
            ],
            "text/html": [
              "<style>\n",
              "    .div-red {\n",
              "        background-color: #EE2A35;\n",
              "    }\n",
              "\n",
              "    .div-green {\n",
              "    \tbackground-color: #009736;\n",
              "    }\n",
              "\n",
              "    .div-black {\n",
              "    \tbackground-color: #000000;\n",
              "    }\n",
              "    .div-white {\n",
              "    \tbackground-color: #FFFFFF;\n",
              "    }\n",
              "    h1 {\n",
              "      color: #EE2A35;\n",
              "    }\n",
              "    h2 {\n",
              "      color: #009736;\n",
              "    }\n",
              "</style>\n"
            ]
          },
          "metadata": {}
        },
        {
          "output_type": "display_data",
          "data": {
            "text/plain": [
              "<Figure size 800x400 with 10 Axes>"
            ],
            "image/png": "[encoded data removed]"
          },
          "metadata": {}
        }
      ],
      "source": [
        "plt.rc(\"image\", cmap=\"binary\")\n",
        "plt.figure(figsize=(8,4))\n",
        "for i in range(10):\n",
        "    plt.subplot(2,5,i+1)\n",
        "    plt.imshow(X[i].reshape(28,28))\n",
        "    plt.title(y[i])\n",
        "    plt.xticks(())\n",
        "    plt.yticks(())\n",
        "plt.tight_layout()"
      ]
    },
    {
      "cell_type": "code",
      "execution_count": 22,
      "metadata": {
        "id": "tZ6mrxUS0_6l",
        "outputId": "4f7550e1-df9a-40ce-a4b4-d2e2169c3f7d",
        "colab": {
          "base_uri": "https://localhost:8080/",
          "height": 72
        }
      },
      "outputs": [
        {
          "output_type": "display_data",
          "data": {
            "text/plain": [
              "<IPython.core.display.HTML object>"
            ],
            "text/html": [
              "<style>\n",
              "    .div-red {\n",
              "        background-color: #EE2A35;\n",
              "    }\n",
              "\n",
              "    .div-green {\n",
              "    \tbackground-color: #009736;\n",
              "    }\n",
              "\n",
              "    .div-black {\n",
              "    \tbackground-color: #000000;\n",
              "    }\n",
              "    .div-white {\n",
              "    \tbackground-color: #FFFFFF;\n",
              "    }\n",
              "    h1 {\n",
              "      color: #EE2A35;\n",
              "    }\n",
              "    h2 {\n",
              "      color: #009736;\n",
              "    }\n",
              "</style>\n"
            ]
          },
          "metadata": {}
        },
        {
          "output_type": "stream",
          "name": "stdout",
          "text": [
            "(1500, 2)\n",
            "(2,)\n",
            "(2, 784)\n"
          ]
        }
      ],
      "source": [
        "from sklearn.decomposition import PCA\n",
        "pca = PCA(n_components = 2)\n",
        "\n",
        "pca.fit(X)\n",
        "\n",
        "U = pca.transform(X)\n",
        "S = pca.explained_variance_\n",
        "V = pca.components_\n",
        "\n",
        "print (U.shape)\n",
        "print (S.shape)\n",
        "print (V.shape)"
      ]
    },
    {
      "cell_type": "markdown",
      "metadata": {
        "id": "DdR7mnXE0_6m"
      },
      "source": [
        "## PCA using SVD decomposition"
      ]
    },
    {
      "cell_type": "markdown",
      "metadata": {
        "id": "pWOyku6v0_6m"
      },
      "source": [
        "The PCA can be obtained from Numpy function `linalg.svg` in that case the X values must be centered, something that the PCA function in Scikit-learn does for you"
      ]
    },
    {
      "cell_type": "code",
      "execution_count": 23,
      "metadata": {
        "id": "pVTBMvIR0_6m",
        "outputId": "78096f19-9c5a-49ee-9091-be31a7d9d86a",
        "colab": {
          "base_uri": "https://localhost:8080/",
          "height": 17
        }
      },
      "outputs": [
        {
          "output_type": "display_data",
          "data": {
            "text/plain": [
              "<IPython.core.display.HTML object>"
            ],
            "text/html": [
              "<style>\n",
              "    .div-red {\n",
              "        background-color: #EE2A35;\n",
              "    }\n",
              "\n",
              "    .div-green {\n",
              "    \tbackground-color: #009736;\n",
              "    }\n",
              "\n",
              "    .div-black {\n",
              "    \tbackground-color: #000000;\n",
              "    }\n",
              "    .div-white {\n",
              "    \tbackground-color: #FFFFFF;\n",
              "    }\n",
              "    h1 {\n",
              "      color: #EE2A35;\n",
              "    }\n",
              "    h2 {\n",
              "      color: #009736;\n",
              "    }\n",
              "</style>\n"
            ]
          },
          "metadata": {}
        }
      ],
      "source": [
        "X_centered = X - X.mean(axis=0)\n",
        "U, s, Vt = np.linalg.svd(X_centered)\n",
        "c1 = Vt.T[:, 0]\n",
        "c2 = Vt.T[:, 1]"
      ]
    },
    {
      "cell_type": "code",
      "execution_count": 24,
      "metadata": {
        "id": "m_CGuINC0_6p",
        "outputId": "6cb49b52-2229-4361-cea9-3a1c764da7de",
        "colab": {
          "base_uri": "https://localhost:8080/",
          "height": 17
        }
      },
      "outputs": [
        {
          "output_type": "display_data",
          "data": {
            "text/plain": [
              "<IPython.core.display.HTML object>"
            ],
            "text/html": [
              "<style>\n",
              "    .div-red {\n",
              "        background-color: #EE2A35;\n",
              "    }\n",
              "\n",
              "    .div-green {\n",
              "    \tbackground-color: #009736;\n",
              "    }\n",
              "\n",
              "    .div-black {\n",
              "    \tbackground-color: #000000;\n",
              "    }\n",
              "    .div-white {\n",
              "    \tbackground-color: #FFFFFF;\n",
              "    }\n",
              "    h1 {\n",
              "      color: #EE2A35;\n",
              "    }\n",
              "    h2 {\n",
              "      color: #009736;\n",
              "    }\n",
              "</style>\n"
            ]
          },
          "metadata": {}
        }
      ],
      "source": [
        "m, n = X.shape\n",
        "\n",
        "S = np.zeros(X_centered.shape)\n",
        "S[:n, :n] = np.diag(s)"
      ]
    },
    {
      "cell_type": "code",
      "execution_count": 25,
      "metadata": {
        "id": "MKVLNtgE0_6q",
        "outputId": "d84448ed-b590-4a3a-ea5a-e27d5aae1b97",
        "colab": {
          "base_uri": "https://localhost:8080/",
          "height": 35
        }
      },
      "outputs": [
        {
          "output_type": "display_data",
          "data": {
            "text/plain": [
              "<IPython.core.display.HTML object>"
            ],
            "text/html": [
              "<style>\n",
              "    .div-red {\n",
              "        background-color: #EE2A35;\n",
              "    }\n",
              "\n",
              "    .div-green {\n",
              "    \tbackground-color: #009736;\n",
              "    }\n",
              "\n",
              "    .div-black {\n",
              "    \tbackground-color: #000000;\n",
              "    }\n",
              "    .div-white {\n",
              "    \tbackground-color: #FFFFFF;\n",
              "    }\n",
              "    h1 {\n",
              "      color: #EE2A35;\n",
              "    }\n",
              "    h2 {\n",
              "      color: #009736;\n",
              "    }\n",
              "</style>\n"
            ]
          },
          "metadata": {}
        },
        {
          "output_type": "execute_result",
          "data": {
            "text/plain": [
              "True"
            ]
          },
          "metadata": {},
          "execution_count": 25
        }
      ],
      "source": [
        "np.allclose(X_centered, U.dot(S).dot(Vt))"
      ]
    },
    {
      "cell_type": "code",
      "execution_count": 26,
      "metadata": {
        "id": "n1oYCMvj0_6q",
        "outputId": "2018e77a-de87-4ac8-a504-694b5cc4fb79",
        "colab": {
          "base_uri": "https://localhost:8080/",
          "height": 17
        }
      },
      "outputs": [
        {
          "output_type": "display_data",
          "data": {
            "text/plain": [
              "<IPython.core.display.HTML object>"
            ],
            "text/html": [
              "<style>\n",
              "    .div-red {\n",
              "        background-color: #EE2A35;\n",
              "    }\n",
              "\n",
              "    .div-green {\n",
              "    \tbackground-color: #009736;\n",
              "    }\n",
              "\n",
              "    .div-black {\n",
              "    \tbackground-color: #000000;\n",
              "    }\n",
              "    .div-white {\n",
              "    \tbackground-color: #FFFFFF;\n",
              "    }\n",
              "    h1 {\n",
              "      color: #EE2A35;\n",
              "    }\n",
              "    h2 {\n",
              "      color: #009736;\n",
              "    }\n",
              "</style>\n"
            ]
          },
          "metadata": {}
        }
      ],
      "source": [
        "W2 = Vt.T[:, :2]\n",
        "X2D = X_centered.dot(W2)"
      ]
    },
    {
      "cell_type": "code",
      "execution_count": 27,
      "metadata": {
        "id": "C_BOFsDM0_6r",
        "outputId": "50b14a96-a064-438a-8ce7-78ff3c064052",
        "colab": {
          "base_uri": "https://localhost:8080/",
          "height": 17
        }
      },
      "outputs": [
        {
          "output_type": "display_data",
          "data": {
            "text/plain": [
              "<IPython.core.display.HTML object>"
            ],
            "text/html": [
              "<style>\n",
              "    .div-red {\n",
              "        background-color: #EE2A35;\n",
              "    }\n",
              "\n",
              "    .div-green {\n",
              "    \tbackground-color: #009736;\n",
              "    }\n",
              "\n",
              "    .div-black {\n",
              "    \tbackground-color: #000000;\n",
              "    }\n",
              "    .div-white {\n",
              "    \tbackground-color: #FFFFFF;\n",
              "    }\n",
              "    h1 {\n",
              "      color: #EE2A35;\n",
              "    }\n",
              "    h2 {\n",
              "      color: #009736;\n",
              "    }\n",
              "</style>\n"
            ]
          },
          "metadata": {}
        }
      ],
      "source": [
        "X2D_using_svd = X2D"
      ]
    },
    {
      "cell_type": "code",
      "execution_count": 28,
      "metadata": {
        "id": "sZ2Y_p2T0_6s",
        "outputId": "dded9bde-b004-4dae-f0bc-9f567838b849",
        "colab": {
          "base_uri": "https://localhost:8080/",
          "height": 17
        }
      },
      "outputs": [
        {
          "output_type": "display_data",
          "data": {
            "text/plain": [
              "<IPython.core.display.HTML object>"
            ],
            "text/html": [
              "<style>\n",
              "    .div-red {\n",
              "        background-color: #EE2A35;\n",
              "    }\n",
              "\n",
              "    .div-green {\n",
              "    \tbackground-color: #009736;\n",
              "    }\n",
              "\n",
              "    .div-black {\n",
              "    \tbackground-color: #000000;\n",
              "    }\n",
              "    .div-white {\n",
              "    \tbackground-color: #FFFFFF;\n",
              "    }\n",
              "    h1 {\n",
              "      color: #EE2A35;\n",
              "    }\n",
              "    h2 {\n",
              "      color: #009736;\n",
              "    }\n",
              "</style>\n"
            ]
          },
          "metadata": {}
        }
      ],
      "source": [
        "X2D = pca.fit_transform(X)"
      ]
    },
    {
      "cell_type": "code",
      "execution_count": 29,
      "metadata": {
        "id": "Tl_NqKlz0_6s",
        "outputId": "72ed0e07-f747-47ad-de3d-e2f81f9b4200",
        "colab": {
          "base_uri": "https://localhost:8080/",
          "height": 127
        }
      },
      "outputs": [
        {
          "output_type": "display_data",
          "data": {
            "text/plain": [
              "<IPython.core.display.HTML object>"
            ],
            "text/html": [
              "<style>\n",
              "    .div-red {\n",
              "        background-color: #EE2A35;\n",
              "    }\n",
              "\n",
              "    .div-green {\n",
              "    \tbackground-color: #009736;\n",
              "    }\n",
              "\n",
              "    .div-black {\n",
              "    \tbackground-color: #000000;\n",
              "    }\n",
              "    .div-white {\n",
              "    \tbackground-color: #FFFFFF;\n",
              "    }\n",
              "    h1 {\n",
              "      color: #EE2A35;\n",
              "    }\n",
              "    h2 {\n",
              "      color: #009736;\n",
              "    }\n",
              "</style>\n"
            ]
          },
          "metadata": {}
        },
        {
          "output_type": "stream",
          "name": "stdout",
          "text": [
            "(1500, 2)\n"
          ]
        },
        {
          "output_type": "execute_result",
          "data": {
            "text/plain": [
              "array([[ 6.07876247,  4.11953644],\n",
              "       [-1.96204683, -4.07801571],\n",
              "       [-0.68518032,  0.66165744],\n",
              "       [-3.9047539 , -2.94232641],\n",
              "       [-3.47803219, -2.43497513]])"
            ]
          },
          "metadata": {},
          "execution_count": 29
        }
      ],
      "source": [
        "print(X2D.shape)\n",
        "X2D[:5]"
      ]
    },
    {
      "cell_type": "code",
      "execution_count": 30,
      "metadata": {
        "id": "u29xsKjx0_6t",
        "outputId": "6b761f99-a50a-43e8-daea-8e7a7abd4445",
        "colab": {
          "base_uri": "https://localhost:8080/",
          "height": 127
        }
      },
      "outputs": [
        {
          "output_type": "display_data",
          "data": {
            "text/plain": [
              "<IPython.core.display.HTML object>"
            ],
            "text/html": [
              "<style>\n",
              "    .div-red {\n",
              "        background-color: #EE2A35;\n",
              "    }\n",
              "\n",
              "    .div-green {\n",
              "    \tbackground-color: #009736;\n",
              "    }\n",
              "\n",
              "    .div-black {\n",
              "    \tbackground-color: #000000;\n",
              "    }\n",
              "    .div-white {\n",
              "    \tbackground-color: #FFFFFF;\n",
              "    }\n",
              "    h1 {\n",
              "      color: #EE2A35;\n",
              "    }\n",
              "    h2 {\n",
              "      color: #009736;\n",
              "    }\n",
              "</style>\n"
            ]
          },
          "metadata": {}
        },
        {
          "output_type": "stream",
          "name": "stdout",
          "text": [
            "(1500, 2)\n"
          ]
        },
        {
          "output_type": "execute_result",
          "data": {
            "text/plain": [
              "array([[-6.07877132,  4.11830917],\n",
              "       [ 1.9620494 , -4.07694401],\n",
              "       [ 0.68517622,  0.66101962],\n",
              "       [ 3.90475013, -2.94237969],\n",
              "       [ 3.47801914, -2.43581028]])"
            ]
          },
          "metadata": {},
          "execution_count": 30
        }
      ],
      "source": [
        "print(X2D_using_svd.shape)\n",
        "X2D_using_svd[:5]"
      ]
    },
    {
      "cell_type": "markdown",
      "metadata": {
        "id": "X9OHocAZ0_6u"
      },
      "source": [
        "Notice that running PCA multiple times on slightly different datasets may result in different results. In general, the only difference is that some axes may be flipped. In this example, PCA using Scikit-Learn gives the same projection as the one given by the SVD approach, except both axes are flipped"
      ]
    },
    {
      "cell_type": "markdown",
      "metadata": {
        "id": "JsCuA_aW0_6u"
      },
      "source": [
        "## Measuring the data loss from using a PCA"
      ]
    },
    {
      "cell_type": "markdown",
      "metadata": {
        "id": "lYIKlZba0_6v"
      },
      "source": [
        "As we are using just 2 dimensions out of the 768 original ones. It is clear that we have to pay a price for that.\n",
        "We can quantify the loss from the PCA like this:\n",
        "\n",
        "First, we recover the 3D points projected on the plane (PCA 2D subspace)."
      ]
    },
    {
      "cell_type": "code",
      "execution_count": 31,
      "metadata": {
        "id": "K7T-Cvi30_6v",
        "outputId": "a9a92bb5-9fa1-441e-9c82-e6ac88302b5e",
        "colab": {
          "base_uri": "https://localhost:8080/",
          "height": 17
        }
      },
      "outputs": [
        {
          "output_type": "display_data",
          "data": {
            "text/plain": [
              "<IPython.core.display.HTML object>"
            ],
            "text/html": [
              "<style>\n",
              "    .div-red {\n",
              "        background-color: #EE2A35;\n",
              "    }\n",
              "\n",
              "    .div-green {\n",
              "    \tbackground-color: #009736;\n",
              "    }\n",
              "\n",
              "    .div-black {\n",
              "    \tbackground-color: #000000;\n",
              "    }\n",
              "    .div-white {\n",
              "    \tbackground-color: #FFFFFF;\n",
              "    }\n",
              "    h1 {\n",
              "      color: #EE2A35;\n",
              "    }\n",
              "    h2 {\n",
              "      color: #009736;\n",
              "    }\n",
              "</style>\n"
            ]
          },
          "metadata": {}
        }
      ],
      "source": [
        "X3D_inv = pca.inverse_transform(X2D)"
      ]
    },
    {
      "cell_type": "markdown",
      "metadata": {
        "id": "XSMh1YJB0_6v"
      },
      "source": [
        "The recovered 3D points are not exactly equal to the original 3D points:"
      ]
    },
    {
      "cell_type": "code",
      "execution_count": 32,
      "metadata": {
        "id": "JlfX0X1l0_6w",
        "outputId": "8f50863a-6a7c-49da-d153-97322f5d6d7b",
        "colab": {
          "base_uri": "https://localhost:8080/",
          "height": 35
        }
      },
      "outputs": [
        {
          "output_type": "display_data",
          "data": {
            "text/plain": [
              "<IPython.core.display.HTML object>"
            ],
            "text/html": [
              "<style>\n",
              "    .div-red {\n",
              "        background-color: #EE2A35;\n",
              "    }\n",
              "\n",
              "    .div-green {\n",
              "    \tbackground-color: #009736;\n",
              "    }\n",
              "\n",
              "    .div-black {\n",
              "    \tbackground-color: #000000;\n",
              "    }\n",
              "    .div-white {\n",
              "    \tbackground-color: #FFFFFF;\n",
              "    }\n",
              "    h1 {\n",
              "      color: #EE2A35;\n",
              "    }\n",
              "    h2 {\n",
              "      color: #009736;\n",
              "    }\n",
              "</style>\n"
            ]
          },
          "metadata": {}
        },
        {
          "output_type": "execute_result",
          "data": {
            "text/plain": [
              "False"
            ]
          },
          "metadata": {},
          "execution_count": 32
        }
      ],
      "source": [
        "np.allclose(X3D_inv, X)"
      ]
    },
    {
      "cell_type": "markdown",
      "metadata": {
        "id": "XaaaWcLU0_6w"
      },
      "source": [
        "The reconstruction error can be computed by taking the average in the difference between the recreated images and the original ones."
      ]
    },
    {
      "cell_type": "code",
      "execution_count": 33,
      "metadata": {
        "id": "rqjilQru0_6y",
        "outputId": "9085958a-b3d6-463b-96db-f674075d537f",
        "colab": {
          "base_uri": "https://localhost:8080/",
          "height": 35
        }
      },
      "outputs": [
        {
          "output_type": "display_data",
          "data": {
            "text/plain": [
              "<IPython.core.display.HTML object>"
            ],
            "text/html": [
              "<style>\n",
              "    .div-red {\n",
              "        background-color: #EE2A35;\n",
              "    }\n",
              "\n",
              "    .div-green {\n",
              "    \tbackground-color: #009736;\n",
              "    }\n",
              "\n",
              "    .div-black {\n",
              "    \tbackground-color: #000000;\n",
              "    }\n",
              "    .div-white {\n",
              "    \tbackground-color: #FFFFFF;\n",
              "    }\n",
              "    h1 {\n",
              "      color: #EE2A35;\n",
              "    }\n",
              "    h2 {\n",
              "      color: #009736;\n",
              "    }\n",
              "</style>\n"
            ]
          },
          "metadata": {}
        },
        {
          "output_type": "execute_result",
          "data": {
            "text/plain": [
              "176.61855190852836"
            ]
          },
          "metadata": {},
          "execution_count": 33
        }
      ],
      "source": [
        "np.mean(np.sum(np.square(X3D_inv - X), axis=1))"
      ]
    },
    {
      "cell_type": "markdown",
      "metadata": {
        "id": "lX_EWuVY0_6z"
      },
      "source": [
        "Quite a big difference, so the question is: How many components should be good enough? How to quantify \"good enough\"?\n",
        "To answer those questions let's first get a visual idea about the transformations involved here."
      ]
    },
    {
      "cell_type": "markdown",
      "metadata": {
        "id": "UMxnSQHk0_6z"
      },
      "source": [
        "## Visualizing the transformations"
      ]
    },
    {
      "cell_type": "markdown",
      "metadata": {
        "id": "tGp3IWwH0_60"
      },
      "source": [
        "The first row in the figure below shows the first digits on the MNIST database, the second row the back-transformed images using just 2 Principal Components."
      ]
    },
    {
      "cell_type": "code",
      "execution_count": 34,
      "metadata": {
        "id": "QCyIa0P30_60",
        "outputId": "af27c203-d42f-418a-93b5-2909dd9dfee5",
        "colab": {
          "base_uri": "https://localhost:8080/",
          "height": 385
        }
      },
      "outputs": [
        {
          "output_type": "display_data",
          "data": {
            "text/plain": [
              "<IPython.core.display.HTML object>"
            ],
            "text/html": [
              "<style>\n",
              "    .div-red {\n",
              "        background-color: #EE2A35;\n",
              "    }\n",
              "\n",
              "    .div-green {\n",
              "    \tbackground-color: #009736;\n",
              "    }\n",
              "\n",
              "    .div-black {\n",
              "    \tbackground-color: #000000;\n",
              "    }\n",
              "    .div-white {\n",
              "    \tbackground-color: #FFFFFF;\n",
              "    }\n",
              "    h1 {\n",
              "      color: #EE2A35;\n",
              "    }\n",
              "    h2 {\n",
              "      color: #009736;\n",
              "    }\n",
              "</style>\n"
            ]
          },
          "metadata": {}
        },
        {
          "output_type": "display_data",
          "data": {
            "text/plain": [
              "<Figure size 800x400 with 10 Axes>"
            ],
            "image/png": "[encoded data removed]"
          },
          "metadata": {}
        }
      ],
      "source": [
        "plt.rc(\"image\", cmap=\"binary\")\n",
        "plt.figure(figsize=(8,4))\n",
        "for i in range(5):\n",
        "    plt.subplot(2,5,i+1)\n",
        "    plt.imshow(X[i].reshape(28,28))\n",
        "    plt.title(y[i])\n",
        "    plt.xticks(())\n",
        "    plt.yticks(())\n",
        "for i in range(5):\n",
        "    plt.subplot(2,5,5+i+1)\n",
        "    plt.imshow(X3D_inv[i].reshape(28,28))\n",
        "    plt.title(y[i])\n",
        "    plt.xticks(())\n",
        "    plt.yticks(())\n",
        "plt.tight_layout()"
      ]
    },
    {
      "cell_type": "markdown",
      "metadata": {
        "id": "GLr1c_gm0_61"
      },
      "source": [
        "The transformed images look noisy, that is because from the 768 pixels we have reduced to just 2, considering that is remarkable that we still see a resemblance of the original digit on the\n",
        "\n",
        "Now let's have a look at the most important directions in which the dataset was projected. These directions can be accessed in the $\\mathbf{V}^T$ matrix. For doing that we need to construct PCA for all components."
      ]
    },
    {
      "cell_type": "code",
      "execution_count": 35,
      "metadata": {
        "id": "VJTAVZ3C0_61",
        "outputId": "d5df074e-3f3f-4ab7-f144-97b486d54920",
        "colab": {
          "base_uri": "https://localhost:8080/",
          "height": 17
        }
      },
      "outputs": [
        {
          "output_type": "display_data",
          "data": {
            "text/plain": [
              "<IPython.core.display.HTML object>"
            ],
            "text/html": [
              "<style>\n",
              "    .div-red {\n",
              "        background-color: #EE2A35;\n",
              "    }\n",
              "\n",
              "    .div-green {\n",
              "    \tbackground-color: #009736;\n",
              "    }\n",
              "\n",
              "    .div-black {\n",
              "    \tbackground-color: #000000;\n",
              "    }\n",
              "    .div-white {\n",
              "    \tbackground-color: #FFFFFF;\n",
              "    }\n",
              "    h1 {\n",
              "      color: #EE2A35;\n",
              "    }\n",
              "    h2 {\n",
              "      color: #009736;\n",
              "    }\n",
              "</style>\n"
            ]
          },
          "metadata": {}
        }
      ],
      "source": [
        "pca_complete = PCA()\n",
        "\n",
        "pca_complete.fit(X)\n",
        "\n",
        "Uc = pca_complete.transform(X)\n",
        "Sc = pca_complete.explained_variance_\n",
        "Vc = pca_complete.components_"
      ]
    },
    {
      "cell_type": "code",
      "execution_count": 36,
      "metadata": {
        "id": "axc9_Gza0_61",
        "outputId": "955cfb13-eb59-463f-9bd3-53be60a28293",
        "colab": {
          "base_uri": "https://localhost:8080/",
          "height": 179
        }
      },
      "outputs": [
        {
          "output_type": "display_data",
          "data": {
            "text/plain": [
              "<IPython.core.display.HTML object>"
            ],
            "text/html": [
              "<style>\n",
              "    .div-red {\n",
              "        background-color: #EE2A35;\n",
              "    }\n",
              "\n",
              "    .div-green {\n",
              "    \tbackground-color: #009736;\n",
              "    }\n",
              "\n",
              "    .div-black {\n",
              "    \tbackground-color: #000000;\n",
              "    }\n",
              "    .div-white {\n",
              "    \tbackground-color: #FFFFFF;\n",
              "    }\n",
              "    h1 {\n",
              "      color: #EE2A35;\n",
              "    }\n",
              "    h2 {\n",
              "      color: #009736;\n",
              "    }\n",
              "</style>\n"
            ]
          },
          "metadata": {}
        },
        {
          "output_type": "display_data",
          "data": {
            "text/plain": [
              "<Figure size 800x600 with 5 Axes>"
            ],
            "image/png": "[encoded data removed]"
          },
          "metadata": {}
        }
      ],
      "source": [
        "plt.figure(figsize=(8,6))\n",
        "\n",
        "for i in range(5): # loop over all means\n",
        "    plt.subplot(1,5,i+1)\n",
        "    plt.imshow(Vc[i].reshape(28,28))\n",
        "    plt.xticks(())\n",
        "    plt.yticks(())\n",
        "plt.tight_layout()"
      ]
    },
    {
      "cell_type": "markdown",
      "metadata": {
        "id": "VUGiPtoS0_62"
      },
      "source": [
        "The figures above are just 2D representations of vectors in a 768-dimensional space. They are not meant to be numbers but capture the combination of pixels that maximize the variance in the set.\n",
        "\n",
        "The later directions (here, from the 100-th on) show noise and small variations between different, but very similar training instances:"
      ]
    },
    {
      "cell_type": "code",
      "execution_count": 37,
      "metadata": {
        "id": "izA7YxjQ0_63",
        "outputId": "3e19bdf6-dce0-49c4-fd20-531fb7b8952f",
        "colab": {
          "base_uri": "https://localhost:8080/",
          "height": 179
        }
      },
      "outputs": [
        {
          "output_type": "display_data",
          "data": {
            "text/plain": [
              "<IPython.core.display.HTML object>"
            ],
            "text/html": [
              "<style>\n",
              "    .div-red {\n",
              "        background-color: #EE2A35;\n",
              "    }\n",
              "\n",
              "    .div-green {\n",
              "    \tbackground-color: #009736;\n",
              "    }\n",
              "\n",
              "    .div-black {\n",
              "    \tbackground-color: #000000;\n",
              "    }\n",
              "    .div-white {\n",
              "    \tbackground-color: #FFFFFF;\n",
              "    }\n",
              "    h1 {\n",
              "      color: #EE2A35;\n",
              "    }\n",
              "    h2 {\n",
              "      color: #009736;\n",
              "    }\n",
              "</style>\n"
            ]
          },
          "metadata": {}
        },
        {
          "output_type": "display_data",
          "data": {
            "text/plain": [
              "<Figure size 800x400 with 5 Axes>"
            ],
            "image/png": "[encoded data removed]"
          },
          "metadata": {}
        }
      ],
      "source": [
        "plt.figure(figsize=(8,4))\n",
        "\n",
        "for i in range(5): # loop over all means\n",
        "    plt.subplot(1,5,i+1)\n",
        "    plt.imshow(Vc[100+i].reshape(28,28))\n",
        "    plt.xticks(())\n",
        "    plt.yticks(())\n",
        "plt.tight_layout()"
      ]
    },
    {
      "cell_type": "markdown",
      "metadata": {
        "id": "PmTWASHN0_7E"
      },
      "source": [
        "## Selecting the right number of components"
      ]
    },
    {
      "cell_type": "markdown",
      "metadata": {
        "id": "8c0LB9K50_7F"
      },
      "source": [
        "The number of \"interesting\" dimensions can be seen from the importance of the found directions.\n",
        "\n",
        "We can find this information by plotting the `explained_variance_` attribute from the `PCA` variable. This is related to the $\\Sigma$ matrix in the following way:\n",
        "\n",
        "$$\\mathbf{ev} = \\frac{1}{N} \\Sigma^2 $$\n",
        "\n",
        "To find the most relevant directions, we can use the `explained_variance_` to get 90% of the dataset variance."
      ]
    },
    {
      "cell_type": "code",
      "execution_count": 38,
      "metadata": {
        "id": "51aHbwHW0_7F",
        "outputId": "a89940f0-ef5d-408f-f308-84f11d682779",
        "colab": {
          "base_uri": "https://localhost:8080/",
          "height": 430
        }
      },
      "outputs": [
        {
          "output_type": "display_data",
          "data": {
            "text/plain": [
              "<IPython.core.display.HTML object>"
            ],
            "text/html": [
              "<style>\n",
              "    .div-red {\n",
              "        background-color: #EE2A35;\n",
              "    }\n",
              "\n",
              "    .div-green {\n",
              "    \tbackground-color: #009736;\n",
              "    }\n",
              "\n",
              "    .div-black {\n",
              "    \tbackground-color: #000000;\n",
              "    }\n",
              "    .div-white {\n",
              "    \tbackground-color: #FFFFFF;\n",
              "    }\n",
              "    h1 {\n",
              "      color: #EE2A35;\n",
              "    }\n",
              "    h2 {\n",
              "      color: #009736;\n",
              "    }\n",
              "</style>\n"
            ]
          },
          "metadata": {}
        },
        {
          "output_type": "display_data",
          "data": {
            "text/plain": [
              "<Figure size 640x480 with 1 Axes>"
            ],
            "image/png": "[encoded data removed]"
          },
          "metadata": {}
        }
      ],
      "source": [
        "plt.plot(pca_complete.explained_variance_);"
      ]
    },
    {
      "cell_type": "code",
      "execution_count": 39,
      "metadata": {
        "id": "k0Hd9nWs0_7G",
        "outputId": "3a5b8bda-58dd-48d4-97ee-9002814bc3cd",
        "colab": {
          "base_uri": "https://localhost:8080/",
          "height": 448
        }
      },
      "outputs": [
        {
          "output_type": "display_data",
          "data": {
            "text/plain": [
              "<IPython.core.display.HTML object>"
            ],
            "text/html": [
              "<style>\n",
              "    .div-red {\n",
              "        background-color: #EE2A35;\n",
              "    }\n",
              "\n",
              "    .div-green {\n",
              "    \tbackground-color: #009736;\n",
              "    }\n",
              "\n",
              "    .div-black {\n",
              "    \tbackground-color: #000000;\n",
              "    }\n",
              "    .div-white {\n",
              "    \tbackground-color: #FFFFFF;\n",
              "    }\n",
              "    h1 {\n",
              "      color: #EE2A35;\n",
              "    }\n",
              "    h2 {\n",
              "      color: #009736;\n",
              "    }\n",
              "</style>\n"
            ]
          },
          "metadata": {}
        },
        {
          "output_type": "stream",
          "name": "stdout",
          "text": [
            "80\n"
          ]
        },
        {
          "output_type": "display_data",
          "data": {
            "text/plain": [
              "<Figure size 640x480 with 1 Axes>"
            ],
            "image/png": "[encoded data removed]"
          },
          "metadata": {}
        }
      ],
      "source": [
        "ev_cumsum = np.cumsum(pca_complete.explained_variance_)/(pca_complete.explained_variance_).sum()\n",
        "ev_at90 = ev_cumsum[ev_cumsum<0.9].shape[0]\n",
        "print (ev_at90)\n",
        "\n",
        "plt.plot(ev_cumsum)\n",
        "plt.vlines(ev_at90, 0, 1, linestyles='dashed')\n",
        "plt.hlines(0.9, 0, 500, linestyles='dashed');"
      ]
    },
    {
      "cell_type": "markdown",
      "metadata": {
        "id": "jUsPsFQa0_7H"
      },
      "source": [
        "We can see that the intrinsic dimensionality is not higher than 80, even though the dataset has 784 dimensions.\n",
        "\n",
        "We can explain that number intuitively, notice that the digits rarely touch the four corners of the picture, leaving many of those pixels zeroed and not adding information to the figure. the center and circular areas around the center provide most of the information about the digits. That is why the first PCA components put special emphasis on them.\n",
        "\n"
      ]
    },
    {
      "cell_type": "markdown",
      "metadata": {
        "id": "K5UjDZG70_7I"
      },
      "source": [
        "We can see that the intrinsic dimensionality is not higher than 80, even though the dataset has 784 dimensions.\n",
        "\n",
        "We can explain that number intuitively, notice that the digits rarely touch the four corners of the picture, leaving many of those pixels zeroed and not adding information to the figure. the center and circular areas around the center provide most of the information about the digits. That is why the first PCA components put special emphasis on them.\n",
        "\n",
        "We now know that just 2 components are not enough but 80 components will account for 90% of explained variance in the data, we say that $\\mathbf{k_p}$ is the number of components to achieve $p$ % of explained variance.\n",
        "\n",
        "By setting the parameter `n_components` to $\\mathbf{k}$, we limit the number of components to $\\mathbf{k}$. At this point, the decomposition is a **Truncated SVD**.\n",
        "\n",
        "As a consequence, the value returned from `transform` is a matrix $\\mathbf{U} \\in \\mathbb{R}^{n \\times k}$, where n is the number of samples and k is the number of components. The number of values in the attribute `explained_variance_`, related to $\\boldsymbol{\\Sigma}$ in the SVD decomposition, is $\\mathbf{k}$. Finally, the values in the attribute `components_` are a matrix $\\mathbf{V}^T \\in \\mathbb{R}^{k \\times m}$, where $m$ is the number of features."
      ]
    },
    {
      "cell_type": "code",
      "execution_count": 40,
      "metadata": {
        "id": "pKbZznht0_7I",
        "outputId": "904654b0-ea47-4d2a-8990-99d046c5acec",
        "colab": {
          "base_uri": "https://localhost:8080/",
          "height": 72
        }
      },
      "outputs": [
        {
          "output_type": "display_data",
          "data": {
            "text/plain": [
              "<IPython.core.display.HTML object>"
            ],
            "text/html": [
              "<style>\n",
              "    .div-red {\n",
              "        background-color: #EE2A35;\n",
              "    }\n",
              "\n",
              "    .div-green {\n",
              "    \tbackground-color: #009736;\n",
              "    }\n",
              "\n",
              "    .div-black {\n",
              "    \tbackground-color: #000000;\n",
              "    }\n",
              "    .div-white {\n",
              "    \tbackground-color: #FFFFFF;\n",
              "    }\n",
              "    h1 {\n",
              "      color: #EE2A35;\n",
              "    }\n",
              "    h2 {\n",
              "      color: #009736;\n",
              "    }\n",
              "</style>\n"
            ]
          },
          "metadata": {}
        },
        {
          "output_type": "stream",
          "name": "stdout",
          "text": [
            "(1500, 80)\n",
            "(80,)\n",
            "(80, 784)\n"
          ]
        }
      ],
      "source": [
        "from sklearn.decomposition import PCA\n",
        "pca = PCA(80)\n",
        "\n",
        "pca.fit(X)\n",
        "\n",
        "U = pca.transform(X)\n",
        "S = pca.explained_variance_\n",
        "V = pca.components_\n",
        "\n",
        "print (U.shape)\n",
        "print (S.shape)\n",
        "print (V.shape)"
      ]
    },
    {
      "cell_type": "markdown",
      "metadata": {
        "id": "vipc9oOi0_7I"
      },
      "source": [
        "Now, let's have a look at the digits when 80 components are used."
      ]
    },
    {
      "cell_type": "code",
      "execution_count": 41,
      "metadata": {
        "id": "F68kFrB20_7J",
        "outputId": "15cb4aff-3ab8-4eda-ce2b-befce976c206",
        "colab": {
          "base_uri": "https://localhost:8080/",
          "height": 385
        }
      },
      "outputs": [
        {
          "output_type": "display_data",
          "data": {
            "text/plain": [
              "<IPython.core.display.HTML object>"
            ],
            "text/html": [
              "<style>\n",
              "    .div-red {\n",
              "        background-color: #EE2A35;\n",
              "    }\n",
              "\n",
              "    .div-green {\n",
              "    \tbackground-color: #009736;\n",
              "    }\n",
              "\n",
              "    .div-black {\n",
              "    \tbackground-color: #000000;\n",
              "    }\n",
              "    .div-white {\n",
              "    \tbackground-color: #FFFFFF;\n",
              "    }\n",
              "    h1 {\n",
              "      color: #EE2A35;\n",
              "    }\n",
              "    h2 {\n",
              "      color: #009736;\n",
              "    }\n",
              "</style>\n"
            ]
          },
          "metadata": {}
        },
        {
          "output_type": "display_data",
          "data": {
            "text/plain": [
              "<Figure size 800x400 with 10 Axes>"
            ],
            "image/png": "[encoded data removed]"
          },
          "metadata": {}
        }
      ],
      "source": [
        "X2D = pca.fit_transform(X)\n",
        "X3D_inv = pca.inverse_transform(X2D)\n",
        "\n",
        "plt.rc(\"image\", cmap=\"binary\")\n",
        "plt.figure(figsize=(8,4))\n",
        "for i in range(5):\n",
        "    plt.subplot(2,5,i+1)\n",
        "    plt.imshow(X[i].reshape(28,28))\n",
        "    plt.title(y[i])\n",
        "    plt.xticks(())\n",
        "    plt.yticks(())\n",
        "for i in range(5):\n",
        "    plt.subplot(2,5,5+i+1)\n",
        "    plt.imshow(X3D_inv[i].reshape(28,28))\n",
        "    plt.title(y[i])\n",
        "    plt.xticks(())\n",
        "    plt.yticks(())\n",
        "plt.tight_layout()"
      ]
    },
    {
      "cell_type": "markdown",
      "metadata": {
        "id": "w4iluhKK0_7J"
      },
      "source": [
        "Notice that the 5 digits from the first row are created from 768 components and the figures on the second row were back converted from the PCA with just 80 components."
      ]
    },
    {
      "cell_type": "markdown",
      "metadata": {
        "id": "NH-nFiOu0_7J"
      },
      "source": [
        "---\n",
        "\n",
        "# Acknowledgments\n",
        "\n",
        "This notebook is based on a variety of sources, usually other notebooks, the material was adapted to the topics covered during lessons. In some cases, the original notebooks were created for Python 2.x or older versions of Scikit-learn or Tensorflow and they have to be adapted to at least Python 3.7.\n",
        "\n",
        "We acknowledge the support of the National Science Foundation and the US Department of Energy under projects: DMREF-NSF 1434897, NSF OAC-1740111 and DOE DE-SC0016176 is recognized.\n",
        "\n",
        "<div style=\"clear: both; display: table;\">\n",
        "<div style=\"border: none; float: left; width: 40%; padding: 10px\">\n",
        "<img src=\"https://github.com/romerogroup/Notebooks_4SIAH/blob/main/Machine_Learning/fig/NSF.jpg?raw=1\" alt=\"National Science Foundation\" style=\"width:50%\" align=\"left\" height=\"100\" width=\"100\" >\n",
        "    </div>\n",
        "    <div style=\"border: none; float: right; width: 40%; padding: 10px\">\n",
        "<img src=\"https://github.com/romerogroup/Notebooks_4SIAH/blob/main/Machine_Learning/fig/DOE.jpg?raw=1\" alt=\"National Science Foundation\" style=\"width:50%\" align=\"right\" height=\"100\" width=\"100\" >\n",
        "</div>"
      ]
    },
    {
      "cell_type": "markdown",
      "metadata": {
        "id": "mlHovxCE0_7K"
      },
      "source": [
        "---\n",
        "\n",
        "# References\n",
        "\n",
        "The snippets above are meant only to give a brief introduction to some of the most popular techniques in machine learning so you can decide whether this kind of analysis might be useful in your research. If it seems like machine learning will be important in your work, you may want to check out some of the resources listed below (arranged roughly from least to most technical):\n",
        "\n",
        "This list is by no means an exhaustive list of books and resources. I am listing the books from which I took inspiration. Also, I am listing materials where I found better ways to present topics. Often I am amazed by how people can create approachable materials for seemingly dry subjects.\n",
        "\n",
        "The order of the books goes from divulgation and practical to the more rigorous and mathematical. Slides, blogs, and videos are those I have found over the internet or suggested by others.\n",
        "\n",
        "### Selection of Books on Machine Learning\n",
        "\n",
        "<br>\n",
        "<div style=\"clear: both; display: table;\">\n",
        "  <div style=\"border: none; float: left; width: 200; padding: 5px\">\n",
        "  <img alt=\"Hands-On Machine Learning  with Scikit-Learn and TensorFlow\"\n",
        "       src=\"https://github.com/romerogroup/Notebooks_4SIAH/blob/main/Machine_Learning/fig/books/Hands-On%20Machine%20Learning%20%20with%20Scikit-Learn%20and%20TensorFlow.jpg?raw=1\"\n",
        "       height=\"160\" width=\"120\"  />\n",
        "  </div>\n",
        "  <div style=\"border: none; float: left; width: 800; padding: 5px\">\n",
        "      Hands-On Machine Learning  with Scikit-Learn and TensorFlow (First Edition [There is a second edition])<br>\n",
        "      Auréleien Géron<br>\n",
        "      2017<br>\n",
        "  </div>\n",
        "</div>\n",
        "\n",
        "<br>\n",
        "<div style=\"clear: both; display: table;\">\n",
        "  <div style=\"border: none; float: left; width: 200; padding: 5px\">\n",
        "  <img alt=\"Python Machine Learning - Raschka\"\n",
        "       src=\"https://github.com/romerogroup/Notebooks_4SIAH/blob/main/Machine_Learning/fig/books/Python%20Machine%20Learning%20-%20Raschka.jpg?raw=1\"\n",
        "       height=\"160\" width=\"120\"  />\n",
        "  </div>\n",
        "  <div style=\"border: none; float: left; width: 800; padding: 5px\">\n",
        "      Machine Learning, a Probabilistic Perspective<br>\n",
        "      Sebastian Raschka and Vahid Mirjalili<br>\n",
        "      2017<br>\n",
        "  </div>\n",
        "</div>\n",
        "\n",
        "<br>\n",
        "<div style=\"clear: both; display: table;\">\n",
        "  <div style=\"border: none; float: left; width: 200; padding: 5px\">\n",
        "  <img alt=\"Foundations of Machine Learning - Mohri\"\n",
        "       src=\"https://github.com/romerogroup/Notebooks_4SIAH/blob/main/Machine_Learning/fig/books/Foundations%20of%20Machine%20Learning%20-%20Mohri.jpg?raw=1\"\n",
        "       height=\"160\" width=\"120\"  />\n",
        "  </div>\n",
        "  <div style=\"border: none; float: left; width: 800; padding: 5px\">\n",
        "      Foundations of Machine Learning (Second Edition)<br>\n",
        "      Mehryar Mohri, Afshin Rostamizadeh and Ameet Talwalkar<br>\n",
        "      2018<br>\n",
        "  </div>\n",
        "</div>\n",
        "\n",
        "<br>\n",
        "<div style=\"clear: both; display: table;\">\n",
        "  <div style=\"border: none; float: left; width: 200; padding: 5px\">\n",
        "  <img alt=\"Introduction to Machine Learning - Alpaydin\"\n",
        "       src=\"https://github.com/romerogroup/Notebooks_4SIAH/blob/main/Machine_Learning/fig/books/Introduction%20to%20Machine%20Learning%20-%20Alpaydin.jpg?raw=1\"\n",
        "       height=\"160\" width=\"120\"  />\n",
        "  </div>\n",
        "  <div style=\"border: none; float: left; width: 800; padding: 5px\">\n",
        "      Introduction to Machine Learning (Fourth Edition)<br>\n",
        "      Ethem Alpaydin<br>\n",
        "      2020<br>\n",
        "  </div>\n",
        "</div>\n",
        "\n",
        "<br>\n",
        "<div style=\"clear: both; display: table;\">\n",
        "  <div style=\"border: none; float: left; width: 200; padding: 5px\">\n",
        "  <img alt=\"Machine Learning, a Probabilistic Perspective - Murphy\"\n",
        "       src=\"https://github.com/romerogroup/Notebooks_4SIAH/blob/main/Machine_Learning/fig/books/Machine%20Learning,%20a%20Probabilistic%20Perspective%20-%20Murphy.jpg?raw=1\"\n",
        "       height=\"160\" width=\"120\"  />\n",
        "  </div>\n",
        "  <div style=\"border: none; float: left; width: 800; padding: 5px\">\n",
        "      Machine Learning, a Probabilistic Perspective<br>\n",
        "      Kevin P. Murphy<br>\n",
        "      2012<br>\n",
        "  </div>\n",
        "</div>\n",
        "\n",
        "<br>\n",
        "<div style=\"clear: both; display: table;\">\n",
        "  <div style=\"border: none; float: left; width: 200; padding: 5px\">\n",
        "  <img alt=\"Elements of Statistical Learning - Hastie\"\n",
        "       src=\"https://github.com/romerogroup/Notebooks_4SIAH/blob/main/Machine_Learning/fig/books/Elements%20of%20Statistical%20Learning%20-%20Hastie.jpg?raw=1\"\n",
        "       height=\"160\" width=\"120\"  />\n",
        "  </div>\n",
        "  <div style=\"border: none; float: left; width: 800; padding: 5px\">\n",
        "      <a href=\"https://hastie.su.domains/Papers/ESLII.pdf\">Elements of Statistical Learning</a><br>\n",
        "      Trevor Hastie, Robert Tibshirani, and Jerome Friedman<br>\n",
        "      2008<br>\n",
        "  </div>\n",
        "</div>\n",
        "\n",
        "\n",
        "### Jupyter Notebooks\n",
        "\n",
        " * [Yale Digital Humanities Lab](https://github.com/YaleDHLab/lab-workshops)\n",
        "\n",
        " * Aurelien Geron Hands-on Machine Learning with Scikit-learn\n",
        "   [First Edition](https://github.com/ageron/handson-ml) and\n",
        "   [Second Edition](https://github.com/ageron/handson-ml2)\n",
        "   \n",
        " * [A progressive collection notebooks of the Machine Learning course by the University of Turin](https://github.com/rugantio/MachineLearningCourse)\n",
        "   \n",
        " * [A curated set of jupyter notebooks about many topics](https://github.com/jupyter/jupyter/wiki/A-gallery-of-interesting-Jupyter-Notebooks)\n",
        "   \n",
        "### Videos\n",
        "\n",
        " * [Caltech's \"Learning from Data\" by Professor Yaser Abu-Mostafa](https://work.caltech.edu/telecourse.html)\n",
        "\n",
        "\n",
        " * [A Friendly Introduction to Machine Learning](https://www.youtube.com/watch?v=IpGxLWOIZy4)\n",
        "\n",
        "In this 30-minute video, Luis Serrano (head of machine learning at Udacity) offers intuitive, user-friendly introductions to the mechanics that drive several machine learning models, including Naive Bayes, Decision Tree, Logistic Regression, Neural Network, and Support Vector Machine classifiers. This video is a great place to start for those looking for quick intuitions about the ways these algorithms work.\n",
        "\n",
        " * [Hands-On Machine Learning with Scikit-Learn and TensorFlow (OREILLY)](http://shop.oreilly.com/product/0636920052289.do)\n",
        "\n",
        "This OREILLY book offers a great high-level introduction to machine learning with Python. Aurélien Géron guides readers through ways one can use scikit-learn and other popular libraries to build machine learning models in Python. This is a great choice for those who just want to get work done, without necessarily unlocking the insights that would allow one to build models from scratch.\n",
        "\n",
        " * [Machine Learning Cheatsheets](https://becominghuman.ai/cheat-sheets-for-ai-neural-networks-machine-learning-deep-learning-big-data-678c51b4b463)\n",
        "\n",
        "This collection of \"cheat sheets\" gives concise overviews of the API's and models behind many of the most prominent packages and concepts in machine learning and its allied fields, including different neural network architectures, numerical optimization techniques, algorithms appropriate for different tasks, scikit-learn, pandas, scikit-learn, scipy, ggpot2, dplyr and tidyr, big O notation, and several other topics. Recently identified as the \"most popular\" article on machine learning in Medium.\n",
        "\n",
        " * [Mining of Massive Datasets](http://www.mmds.org/)\n",
        "\n",
        "This Stanford University course and digital publication offer introductions to a wide array of subtopics in machine learning. The authors focus on helping readers gain an intuitive understanding of how machine learning models work. One of the most lucid and concise treatments of machine learning available on the web.\n",
        "\n",
        " * [Convolutional Neural Networks for Visual Recognition](http://cs231n.stanford.edu/)\n",
        "\n",
        "This Stanford University course offers a spectacular introduction to Convolutional Neural Networks, the cornerstone of modern machine learning in the domain of computer vision. If your work involves images or video materials, and you'd like to apply machine learning techniques to your data, this course will help you get up and running with state-of-the-art techniques in convnets.\n",
        "\n",
        " * [Machine Learning (Andrew Ng, Coursera)](https://www.coursera.org/learn/machine-learning)\n",
        "\n",
        "Andrew Ng's Coursera course on machine learning will help you master many of the fundamentals involved in modern machine learning. Professor Ng will guide you through a great deal of the math involved in contemporary machine learning, starting with simple linear classifiers and building up into complex neural network architectures. This class is ideal for those who like to understand the math behind the models they use.\n",
        "\n",
        " ---"
      ]
    },
    {
      "cell_type": "markdown",
      "metadata": {
        "id": "ZsJ0q-PC0_7P"
      },
      "source": [
        "# Back of the Book"
      ]
    },
    {
      "cell_type": "code",
      "execution_count": 42,
      "metadata": {
        "scrolled": true,
        "id": "ArAv-n150_7P",
        "outputId": "9c88cf63-7271-4139-e1f6-d4d46cb70650",
        "colab": {
          "base_uri": "https://localhost:8080/",
          "height": 268
        }
      },
      "outputs": [
        {
          "output_type": "display_data",
          "data": {
            "text/plain": [
              "<IPython.core.display.HTML object>"
            ],
            "text/html": [
              "<style>\n",
              "    .div-red {\n",
              "        background-color: #EE2A35;\n",
              "    }\n",
              "\n",
              "    .div-green {\n",
              "    \tbackground-color: #009736;\n",
              "    }\n",
              "\n",
              "    .div-black {\n",
              "    \tbackground-color: #000000;\n",
              "    }\n",
              "    .div-white {\n",
              "    \tbackground-color: #FFFFFF;\n",
              "    }\n",
              "    h1 {\n",
              "      color: #EE2A35;\n",
              "    }\n",
              "    h2 {\n",
              "      color: #009736;\n",
              "    }\n",
              "</style>\n"
            ]
          },
          "metadata": {}
        },
        {
          "output_type": "display_data",
          "data": {
            "text/plain": [
              "<Figure size 300x300 with 1 Axes>"
            ],
            "image/png": "[encoded data removed]"
          },
          "metadata": {}
        }
      ],
      "source": [
        "plt.figure(figsize=(3,3))\n",
        "n = chapter_number\n",
        "maxt=(2*(n-1)+3)*np.pi/2\n",
        "t = np.linspace(np.pi/2, maxt, 1000)\n",
        "tt= 1.0/(t+0.01)\n",
        "x = (maxt-t)*np.cos(t)**3\n",
        "y = t*np.sqrt(np.abs(np.cos(t))) + np.sin(0.3*t)*np.cos(2*t)\n",
        "plt.plot(x, y, c=\"green\")\n",
        "plt.axis('off');"
      ]
    },
    {
      "cell_type": "code",
      "execution_count": 43,
      "metadata": {
        "id": "x0KQ8QV_0_7Q",
        "outputId": "9ba393bb-bfcd-4c8b-905b-e5f9ac45f3db",
        "colab": {
          "base_uri": "https://localhost:8080/",
          "height": 35
        }
      },
      "outputs": [
        {
          "output_type": "display_data",
          "data": {
            "text/plain": [
              "<IPython.core.display.HTML object>"
            ],
            "text/html": [
              "<style>\n",
              "    .div-red {\n",
              "        background-color: #EE2A35;\n",
              "    }\n",
              "\n",
              "    .div-green {\n",
              "    \tbackground-color: #009736;\n",
              "    }\n",
              "\n",
              "    .div-black {\n",
              "    \tbackground-color: #000000;\n",
              "    }\n",
              "    .div-white {\n",
              "    \tbackground-color: #FFFFFF;\n",
              "    }\n",
              "    h1 {\n",
              "      color: #EE2A35;\n",
              "    }\n",
              "    h2 {\n",
              "      color: #009736;\n",
              "    }\n",
              "</style>\n"
            ]
          },
          "metadata": {}
        },
        {
          "output_type": "stream",
          "name": "stdout",
          "text": [
            "Chapter 7 run in 53 seconds\n"
          ]
        }
      ],
      "source": [
        "end = time.time()\n",
        "print(f'Chapter {chapter_number} run in {int(end - start):d} seconds')"
      ]
    }
  ],
  "metadata": {
    "kernelspec": {
      "display_name": "Python 3 (ipykernel)",
      "language": "python",
      "name": "python3"
    },
    "language_info": {
      "codemirror_mode": {
        "name": "ipython",
        "version": 3
      },
      "file_extension": ".py",
      "mimetype": "text/x-python",
      "name": "python",
      "nbconvert_exporter": "python",
      "pygments_lexer": "ipython3",
      "version": "3.11.6"
    },
    "colab": {
      "provenance": []
    }
  },
  "nbformat": 4,
  "nbformat_minor": 0
}