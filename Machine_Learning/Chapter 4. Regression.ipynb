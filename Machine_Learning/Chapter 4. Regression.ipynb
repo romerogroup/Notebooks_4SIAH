{
 "cells": [
  {
   "cell_type": "markdown",
   "metadata": {},
   "source": [
    "![Machine Learning for Scientists in a hurry](./fig/Title_ML.png)"
   ]
  },
  {
   "cell_type": "markdown",
   "metadata": {},
   "source": [
    "# Boilerplate"
   ]
  },
  {
   "cell_type": "code",
   "execution_count": 1,
   "metadata": {
    "id": "dI4kdA1PJ6R3"
   },
   "outputs": [],
   "source": [
    "from IPython.display import Math, HTML, display\n",
    "\n",
    "def set_css_in_cell_output():\n",
    "  display(HTML(\"\"\"<style>\n",
    "    .div-1 {\n",
    "        background-color: #EBEBEB;\n",
    "    }\n",
    "\n",
    "    .div-2 {\n",
    "    \tbackground-color: #ABBAEA;\n",
    "    }\n",
    "\n",
    "    .div-3 {\n",
    "    \tbackground-color: #FBD603;\n",
    "    }\n",
    "    .div-white {\n",
    "    \tbackground-color: #FBFBFB;\n",
    "    }\n",
    "    h1 {\n",
    "      color: #002855;\n",
    "    }\n",
    "    h2 {\n",
    "      color: #002855;\n",
    "    }\n",
    "</style>\n",
    "\"\"\"))\n",
    "\n",
    "get_ipython().events.register('pre_run_cell', set_css_in_cell_output)\n"
   ]
  },
  {
   "cell_type": "code",
   "execution_count": 2,
   "metadata": {},
   "outputs": [
    {
     "data": {
      "text/html": [
       "<style>\n",
       "    .div-1 {\n",
       "        background-color: #EBEBEB;\n",
       "    }\n",
       "\n",
       "    .div-2 {\n",
       "    \tbackground-color: #ABBAEA;\n",
       "    }\n",
       "\n",
       "    .div-3 {\n",
       "    \tbackground-color: #FBD603;\n",
       "    }\n",
       "    .div-white {\n",
       "    \tbackground-color: #FBFBFB;\n",
       "    }\n",
       "    h1 {\n",
       "      color: #002855;\n",
       "    }\n",
       "    h2 {\n",
       "      color: #002855;\n",
       "    }\n",
       "</style>\n"
      ],
      "text/plain": [
       "<IPython.core.display.HTML object>"
      ]
     },
     "metadata": {},
     "output_type": "display_data"
    },
    {
     "name": "stdout",
     "output_type": "stream",
     "text": [
      "Requirement already satisfied: watermark in /Users/guilleaf/miniconda3/lib/python3.11/site-packages (2.4.3)\n",
      "Requirement already satisfied: ipython>=6.0 in /Users/guilleaf/miniconda3/lib/python3.11/site-packages (from watermark) (8.16.1)\n",
      "Requirement already satisfied: importlib-metadata>=1.4 in /Users/guilleaf/miniconda3/lib/python3.11/site-packages (from watermark) (6.8.0)\n",
      "Requirement already satisfied: setuptools in /Users/guilleaf/miniconda3/lib/python3.11/site-packages (from watermark) (67.8.0)\n",
      "Requirement already satisfied: zipp>=0.5 in /Users/guilleaf/miniconda3/lib/python3.11/site-packages (from importlib-metadata>=1.4->watermark) (3.17.0)\n",
      "Requirement already satisfied: backcall in /Users/guilleaf/miniconda3/lib/python3.11/site-packages (from ipython>=6.0->watermark) (0.2.0)\n",
      "Requirement already satisfied: decorator in /Users/guilleaf/miniconda3/lib/python3.11/site-packages (from ipython>=6.0->watermark) (5.1.1)\n",
      "Requirement already satisfied: jedi>=0.16 in /Users/guilleaf/miniconda3/lib/python3.11/site-packages (from ipython>=6.0->watermark) (0.19.1)\n",
      "Requirement already satisfied: matplotlib-inline in /Users/guilleaf/miniconda3/lib/python3.11/site-packages (from ipython>=6.0->watermark) (0.1.6)\n",
      "Requirement already satisfied: pickleshare in /Users/guilleaf/miniconda3/lib/python3.11/site-packages (from ipython>=6.0->watermark) (0.7.5)\n",
      "Requirement already satisfied: prompt-toolkit!=3.0.37,<3.1.0,>=3.0.30 in /Users/guilleaf/miniconda3/lib/python3.11/site-packages (from ipython>=6.0->watermark) (3.0.39)\n",
      "Requirement already satisfied: pygments>=2.4.0 in /Users/guilleaf/miniconda3/lib/python3.11/site-packages (from ipython>=6.0->watermark) (2.16.1)\n",
      "Requirement already satisfied: stack-data in /Users/guilleaf/miniconda3/lib/python3.11/site-packages (from ipython>=6.0->watermark) (0.6.3)\n",
      "Requirement already satisfied: traitlets>=5 in /Users/guilleaf/miniconda3/lib/python3.11/site-packages (from ipython>=6.0->watermark) (5.11.2)\n",
      "Requirement already satisfied: pexpect>4.3 in /Users/guilleaf/miniconda3/lib/python3.11/site-packages (from ipython>=6.0->watermark) (4.8.0)\n",
      "Requirement already satisfied: appnope in /Users/guilleaf/miniconda3/lib/python3.11/site-packages (from ipython>=6.0->watermark) (0.1.3)\n",
      "Requirement already satisfied: parso<0.9.0,>=0.8.3 in /Users/guilleaf/miniconda3/lib/python3.11/site-packages (from jedi>=0.16->ipython>=6.0->watermark) (0.8.3)\n",
      "Requirement already satisfied: ptyprocess>=0.5 in /Users/guilleaf/miniconda3/lib/python3.11/site-packages (from pexpect>4.3->ipython>=6.0->watermark) (0.7.0)\n",
      "Requirement already satisfied: wcwidth in /Users/guilleaf/miniconda3/lib/python3.11/site-packages (from prompt-toolkit!=3.0.37,<3.1.0,>=3.0.30->ipython>=6.0->watermark) (0.2.8)\n",
      "Requirement already satisfied: executing>=1.2.0 in /Users/guilleaf/miniconda3/lib/python3.11/site-packages (from stack-data->ipython>=6.0->watermark) (2.0.0)\n",
      "Requirement already satisfied: asttokens>=2.1.0 in /Users/guilleaf/miniconda3/lib/python3.11/site-packages (from stack-data->ipython>=6.0->watermark) (2.4.0)\n",
      "Requirement already satisfied: pure-eval in /Users/guilleaf/miniconda3/lib/python3.11/site-packages (from stack-data->ipython>=6.0->watermark) (0.2.2)\n",
      "Requirement already satisfied: six>=1.12.0 in /Users/guilleaf/miniconda3/lib/python3.11/site-packages (from asttokens>=2.1.0->stack-data->ipython>=6.0->watermark) (1.16.0)\n"
     ]
    }
   ],
   "source": [
    "!pip install watermark"
   ]
  },
  {
   "cell_type": "code",
   "execution_count": 3,
   "metadata": {},
   "outputs": [
    {
     "data": {
      "text/html": [
       "<style>\n",
       "    .div-1 {\n",
       "        background-color: #EBEBEB;\n",
       "    }\n",
       "\n",
       "    .div-2 {\n",
       "    \tbackground-color: #ABBAEA;\n",
       "    }\n",
       "\n",
       "    .div-3 {\n",
       "    \tbackground-color: #FBD603;\n",
       "    }\n",
       "    .div-white {\n",
       "    \tbackground-color: #FBFBFB;\n",
       "    }\n",
       "    h1 {\n",
       "      color: #002855;\n",
       "    }\n",
       "    h2 {\n",
       "      color: #002855;\n",
       "    }\n",
       "</style>\n"
      ],
      "text/plain": [
       "<IPython.core.display.HTML object>"
      ]
     },
     "metadata": {},
     "output_type": "display_data"
    }
   ],
   "source": [
    "!if [ ! -f helpers.py ]; then wget \"https://raw.githubusercontent.com/romerogroup/Notebooks_4SIAH/main/Machine_Learning/helpers.py\"; fi"
   ]
  },
  {
   "cell_type": "markdown",
   "metadata": {},
   "source": [
    "<div style=\"clear: both; display: table;\">\n",
    "  <div style=\"border: none; float: left; width: 60%; padding: 5px\">\n",
    "  <h1 id=\"subtitle\">Chapter 4. Regression Analysis</h1>\n",
    "  <h2 id=\"subtitle\">Guillermo Avendaño Franco<br>Aldo Humberto Romero</h2>\n",
    "  <br>\n",
    "  <img src=\"fig/1-line logotype124-295.png\" alt=\"Scientific Computing with Python\" style=\"width:50%\" align=\"left\">\n",
    "  </div>\n",
    "  <div style=\"border: none; float: left; width: 30%; padding: 5px\">\n",
    "  <img src=\"fig/SCPython.png\" alt=\"Scientific Computing with Python\" style=\"width:100%\">\n",
    "  </div>\n",
    "</div>"
   ]
  },
  {
   "cell_type": "markdown",
   "metadata": {},
   "source": [
    "## Setup"
   ]
  },
  {
   "cell_type": "code",
   "execution_count": 4,
   "metadata": {},
   "outputs": [
    {
     "data": {
      "text/html": [
       "<style>\n",
       "    .div-1 {\n",
       "        background-color: #EBEBEB;\n",
       "    }\n",
       "\n",
       "    .div-2 {\n",
       "    \tbackground-color: #ABBAEA;\n",
       "    }\n",
       "\n",
       "    .div-3 {\n",
       "    \tbackground-color: #FBD603;\n",
       "    }\n",
       "    .div-white {\n",
       "    \tbackground-color: #FBFBFB;\n",
       "    }\n",
       "    h1 {\n",
       "      color: #002855;\n",
       "    }\n",
       "    h2 {\n",
       "      color: #002855;\n",
       "    }\n",
       "</style>\n"
      ],
      "text/plain": [
       "<IPython.core.display.HTML object>"
      ]
     },
     "metadata": {},
     "output_type": "display_data"
    }
   ],
   "source": [
    "%load_ext watermark"
   ]
  },
  {
   "cell_type": "code",
   "execution_count": 5,
   "metadata": {
    "scrolled": true
   },
   "outputs": [
    {
     "data": {
      "text/html": [
       "<style>\n",
       "    .div-1 {\n",
       "        background-color: #EBEBEB;\n",
       "    }\n",
       "\n",
       "    .div-2 {\n",
       "    \tbackground-color: #ABBAEA;\n",
       "    }\n",
       "\n",
       "    .div-3 {\n",
       "    \tbackground-color: #FBD603;\n",
       "    }\n",
       "    .div-white {\n",
       "    \tbackground-color: #FBFBFB;\n",
       "    }\n",
       "    h1 {\n",
       "      color: #002855;\n",
       "    }\n",
       "    h2 {\n",
       "      color: #002855;\n",
       "    }\n",
       "</style>\n"
      ],
      "text/plain": [
       "<IPython.core.display.HTML object>"
      ]
     },
     "metadata": {},
     "output_type": "display_data"
    },
    {
     "name": "stdout",
     "output_type": "stream",
     "text": [
      "Last updated: 2023-10-22T17:41:33.034508-04:00\n",
      "\n",
      "Python implementation: CPython\n",
      "Python version       : 3.11.6\n",
      "IPython version      : 8.14.0\n",
      "\n",
      "Compiler    : Clang 11.0.3 (clang-1103.0.32.62)\n",
      "OS          : Darwin\n",
      "Release     : 19.6.0\n",
      "Machine     : x86_64\n",
      "Processor   : i386\n",
      "CPU cores   : 8\n",
      "Architecture: 64bit\n",
      "\n"
     ]
    }
   ],
   "source": [
    "%watermark"
   ]
  },
  {
   "cell_type": "code",
   "execution_count": 6,
   "metadata": {},
   "outputs": [
    {
     "data": {
      "text/html": [
       "<style>\n",
       "    .div-1 {\n",
       "        background-color: #EBEBEB;\n",
       "    }\n",
       "\n",
       "    .div-2 {\n",
       "    \tbackground-color: #ABBAEA;\n",
       "    }\n",
       "\n",
       "    .div-3 {\n",
       "    \tbackground-color: #FBD603;\n",
       "    }\n",
       "    .div-white {\n",
       "    \tbackground-color: #FBFBFB;\n",
       "    }\n",
       "    h1 {\n",
       "      color: #002855;\n",
       "    }\n",
       "    h2 {\n",
       "      color: #002855;\n",
       "    }\n",
       "</style>\n"
      ],
      "text/plain": [
       "<IPython.core.display.HTML object>"
      ]
     },
     "metadata": {},
     "output_type": "display_data"
    }
   ],
   "source": [
    "import time\n",
    "start = time.time()\n",
    "chapter_number = 4\n",
    "import matplotlib\n",
    "%matplotlib inline\n",
    "%load_ext autoreload\n",
    "%autoreload 2\n",
    "import matplotlib.pyplot as plt"
   ]
  },
  {
   "cell_type": "code",
   "execution_count": 7,
   "metadata": {},
   "outputs": [
    {
     "data": {
      "text/html": [
       "<style>\n",
       "    .div-1 {\n",
       "        background-color: #EBEBEB;\n",
       "    }\n",
       "\n",
       "    .div-2 {\n",
       "    \tbackground-color: #ABBAEA;\n",
       "    }\n",
       "\n",
       "    .div-3 {\n",
       "    \tbackground-color: #FBD603;\n",
       "    }\n",
       "    .div-white {\n",
       "    \tbackground-color: #FBFBFB;\n",
       "    }\n",
       "    h1 {\n",
       "      color: #002855;\n",
       "    }\n",
       "    h2 {\n",
       "      color: #002855;\n",
       "    }\n",
       "</style>\n"
      ],
      "text/plain": [
       "<IPython.core.display.HTML object>"
      ]
     },
     "metadata": {},
     "output_type": "display_data"
    }
   ],
   "source": [
    "import numpy as np\n",
    "import sklearn"
   ]
  },
  {
   "cell_type": "code",
   "execution_count": 8,
   "metadata": {
    "scrolled": true
   },
   "outputs": [
    {
     "data": {
      "text/html": [
       "<style>\n",
       "    .div-1 {\n",
       "        background-color: #EBEBEB;\n",
       "    }\n",
       "\n",
       "    .div-2 {\n",
       "    \tbackground-color: #ABBAEA;\n",
       "    }\n",
       "\n",
       "    .div-3 {\n",
       "    \tbackground-color: #FBD603;\n",
       "    }\n",
       "    .div-white {\n",
       "    \tbackground-color: #FBFBFB;\n",
       "    }\n",
       "    h1 {\n",
       "      color: #002855;\n",
       "    }\n",
       "    h2 {\n",
       "      color: #002855;\n",
       "    }\n",
       "</style>\n"
      ],
      "text/plain": [
       "<IPython.core.display.HTML object>"
      ]
     },
     "metadata": {},
     "output_type": "display_data"
    },
    {
     "name": "stdout",
     "output_type": "stream",
     "text": [
      "sklearn   : 1.3.0\n",
      "numpy     : 1.25.2\n",
      "matplotlib: 3.8.0\n",
      "\n"
     ]
    }
   ],
   "source": [
    "%watermark -iv"
   ]
  },
  {
   "cell_type": "markdown",
   "metadata": {},
   "source": [
    "# Where we are on the map?\n",
    "\n",
    "<img src=\"fig/ml_map.png\" width=\"700\" height=\"200\" title=\"Precision vs Recall\" alt=\"Precision vs Recall\"></a>"
   ]
  },
  {
   "cell_type": "markdown",
   "metadata": {},
   "source": [
    "# Regression Analysis\n",
    "\n",
    "In statistical modeling, **regression analysis** is a set of statistical processes for estimating the relationships among variables. It includes many techniques for modeling and analyzing several variables when the focus is on the relationship between a dependent variable and one or more independent variables (or 'predictors'). More specifically, regression analysis helps one understand how the typical value of the dependent variable (or 'criterion variable') changes when any one of the independent variables is varied, while the other independent variables are held fixed. \n",
    "\n",
    "In a narrower sense, regression may refer specifically to the estimation of continuous response (dependent) variables, as opposed to the discrete response variables used in **classification**. The case of a continuous dependent variable may be more specifically referred to as metric regression to distinguish it from related problems."
   ]
  },
  {
   "cell_type": "markdown",
   "metadata": {},
   "source": [
    "# Linear regression using the Normal Equation\n",
    "\n",
    "`LinearRegression` fits a linear model with coefficients $w = (w_1, \\cdots, w_p)$ to minimize the residual sum of squares between the observed targets in the dataset, and the targets predicted by the linear approximation. Mathematically it solves a problem of the form:\n",
    "\n",
    "\\begin{equation}\n",
    "\\min_{w} || X w - y||_2^2\n",
    "\\end{equation}\n"
   ]
  },
  {
   "cell_type": "code",
   "execution_count": 9,
   "metadata": {},
   "outputs": [
    {
     "data": {
      "text/html": [
       "<style>\n",
       "    .div-1 {\n",
       "        background-color: #EBEBEB;\n",
       "    }\n",
       "\n",
       "    .div-2 {\n",
       "    \tbackground-color: #ABBAEA;\n",
       "    }\n",
       "\n",
       "    .div-3 {\n",
       "    \tbackground-color: #FBD603;\n",
       "    }\n",
       "    .div-white {\n",
       "    \tbackground-color: #FBFBFB;\n",
       "    }\n",
       "    h1 {\n",
       "      color: #002855;\n",
       "    }\n",
       "    h2 {\n",
       "      color: #002855;\n",
       "    }\n",
       "</style>\n"
      ],
      "text/plain": [
       "<IPython.core.display.HTML object>"
      ]
     },
     "metadata": {},
     "output_type": "display_data"
    }
   ],
   "source": [
    "X = 2 * np.random.rand(100, 1)\n",
    "y = 4 + 3 * X + np.random.randn(100, 1)"
   ]
  },
  {
   "cell_type": "code",
   "execution_count": 10,
   "metadata": {},
   "outputs": [
    {
     "data": {
      "text/html": [
       "<style>\n",
       "    .div-1 {\n",
       "        background-color: #EBEBEB;\n",
       "    }\n",
       "\n",
       "    .div-2 {\n",
       "    \tbackground-color: #ABBAEA;\n",
       "    }\n",
       "\n",
       "    .div-3 {\n",
       "    \tbackground-color: #FBD603;\n",
       "    }\n",
       "    .div-white {\n",
       "    \tbackground-color: #FBFBFB;\n",
       "    }\n",
       "    h1 {\n",
       "      color: #002855;\n",
       "    }\n",
       "    h2 {\n",
       "      color: #002855;\n",
       "    }\n",
       "</style>\n"
      ],
      "text/plain": [
       "<IPython.core.display.HTML object>"
      ]
     },
     "metadata": {},
     "output_type": "display_data"
    },
    {
     "data": {
      "text/plain": [
       "(0.0, 2.0, 0.0, 15.0)"
      ]
     },
     "execution_count": 10,
     "metadata": {},
     "output_type": "execute_result"
    },
    {
     "data": {
      "image/png": "[encoded data removed]",
      "text/plain": [
       "<Figure size 640x480 with 1 Axes>"
      ]
     },
     "metadata": {},
     "output_type": "display_data"
    }
   ],
   "source": [
    "plt.plot(X, y, \"b.\")\n",
    "plt.xlabel(\"$x_1$\", fontsize=18)\n",
    "plt.ylabel(\"$y$\", rotation=0, fontsize=18)\n",
    "plt.axis([0, 2, 0, 15])"
   ]
  },
  {
   "cell_type": "code",
   "execution_count": 11,
   "metadata": {},
   "outputs": [
    {
     "data": {
      "text/html": [
       "<style>\n",
       "    .div-1 {\n",
       "        background-color: #EBEBEB;\n",
       "    }\n",
       "\n",
       "    .div-2 {\n",
       "    \tbackground-color: #ABBAEA;\n",
       "    }\n",
       "\n",
       "    .div-3 {\n",
       "    \tbackground-color: #FBD603;\n",
       "    }\n",
       "    .div-white {\n",
       "    \tbackground-color: #FBFBFB;\n",
       "    }\n",
       "    h1 {\n",
       "      color: #002855;\n",
       "    }\n",
       "    h2 {\n",
       "      color: #002855;\n",
       "    }\n",
       "</style>\n"
      ],
      "text/plain": [
       "<IPython.core.display.HTML object>"
      ]
     },
     "metadata": {},
     "output_type": "display_data"
    }
   ],
   "source": [
    "X_b = np.c_[np.ones((100, 1)), X]  # add x0 = 1 to each instance\n",
    "theta_best = np.linalg.inv(X_b.T.dot(X_b)).dot(X_b.T).dot(y)"
   ]
  },
  {
   "cell_type": "code",
   "execution_count": 12,
   "metadata": {},
   "outputs": [
    {
     "data": {
      "text/html": [
       "<style>\n",
       "    .div-1 {\n",
       "        background-color: #EBEBEB;\n",
       "    }\n",
       "\n",
       "    .div-2 {\n",
       "    \tbackground-color: #ABBAEA;\n",
       "    }\n",
       "\n",
       "    .div-3 {\n",
       "    \tbackground-color: #FBD603;\n",
       "    }\n",
       "    .div-white {\n",
       "    \tbackground-color: #FBFBFB;\n",
       "    }\n",
       "    h1 {\n",
       "      color: #002855;\n",
       "    }\n",
       "    h2 {\n",
       "      color: #002855;\n",
       "    }\n",
       "</style>\n"
      ],
      "text/plain": [
       "<IPython.core.display.HTML object>"
      ]
     },
     "metadata": {},
     "output_type": "display_data"
    },
    {
     "data": {
      "text/plain": [
       "array([[3.66908777],\n",
       "       [3.11594318]])"
      ]
     },
     "execution_count": 12,
     "metadata": {},
     "output_type": "execute_result"
    }
   ],
   "source": [
    "theta_best"
   ]
  },
  {
   "cell_type": "code",
   "execution_count": 13,
   "metadata": {},
   "outputs": [
    {
     "data": {
      "text/html": [
       "<style>\n",
       "    .div-1 {\n",
       "        background-color: #EBEBEB;\n",
       "    }\n",
       "\n",
       "    .div-2 {\n",
       "    \tbackground-color: #ABBAEA;\n",
       "    }\n",
       "\n",
       "    .div-3 {\n",
       "    \tbackground-color: #FBD603;\n",
       "    }\n",
       "    .div-white {\n",
       "    \tbackground-color: #FBFBFB;\n",
       "    }\n",
       "    h1 {\n",
       "      color: #002855;\n",
       "    }\n",
       "    h2 {\n",
       "      color: #002855;\n",
       "    }\n",
       "</style>\n"
      ],
      "text/plain": [
       "<IPython.core.display.HTML object>"
      ]
     },
     "metadata": {},
     "output_type": "display_data"
    },
    {
     "data": {
      "text/plain": [
       "array([[3.66908777],\n",
       "       [9.90097413]])"
      ]
     },
     "execution_count": 13,
     "metadata": {},
     "output_type": "execute_result"
    }
   ],
   "source": [
    "X_new = np.array([[0], [2]])\n",
    "X_new_b = np.c_[np.ones((2, 1)), X_new]  # add x0 = 1 to each instance\n",
    "y_predict = X_new_b.dot(theta_best)\n",
    "y_predict"
   ]
  },
  {
   "cell_type": "code",
   "execution_count": 14,
   "metadata": {},
   "outputs": [
    {
     "data": {
      "text/html": [
       "<style>\n",
       "    .div-1 {\n",
       "        background-color: #EBEBEB;\n",
       "    }\n",
       "\n",
       "    .div-2 {\n",
       "    \tbackground-color: #ABBAEA;\n",
       "    }\n",
       "\n",
       "    .div-3 {\n",
       "    \tbackground-color: #FBD603;\n",
       "    }\n",
       "    .div-white {\n",
       "    \tbackground-color: #FBFBFB;\n",
       "    }\n",
       "    h1 {\n",
       "      color: #002855;\n",
       "    }\n",
       "    h2 {\n",
       "      color: #002855;\n",
       "    }\n",
       "</style>\n"
      ],
      "text/plain": [
       "<IPython.core.display.HTML object>"
      ]
     },
     "metadata": {},
     "output_type": "display_data"
    },
    {
     "data": {
      "text/plain": [
       "(0.0, 2.0, 0.0, 15.0)"
      ]
     },
     "execution_count": 14,
     "metadata": {},
     "output_type": "execute_result"
    },
    {
     "data": {
      "image/png": "[encoded data removed]",
      "text/plain": [
       "<Figure size 640x480 with 1 Axes>"
      ]
     },
     "metadata": {},
     "output_type": "display_data"
    }
   ],
   "source": [
    "plt.plot(X_new, y_predict, \"r-\", linewidth=2, label=\"Predictions\")\n",
    "plt.plot(X, y, \"b.\")\n",
    "plt.xlabel(\"$x_1$\", fontsize=18)\n",
    "plt.ylabel(\"$y$\", rotation=0, fontsize=18)\n",
    "plt.legend(loc=\"upper left\", fontsize=14)\n",
    "plt.axis([0, 2, 0, 15])"
   ]
  },
  {
   "cell_type": "code",
   "execution_count": 15,
   "metadata": {},
   "outputs": [
    {
     "data": {
      "text/html": [
       "<style>\n",
       "    .div-1 {\n",
       "        background-color: #EBEBEB;\n",
       "    }\n",
       "\n",
       "    .div-2 {\n",
       "    \tbackground-color: #ABBAEA;\n",
       "    }\n",
       "\n",
       "    .div-3 {\n",
       "    \tbackground-color: #FBD603;\n",
       "    }\n",
       "    .div-white {\n",
       "    \tbackground-color: #FBFBFB;\n",
       "    }\n",
       "    h1 {\n",
       "      color: #002855;\n",
       "    }\n",
       "    h2 {\n",
       "      color: #002855;\n",
       "    }\n",
       "</style>\n"
      ],
      "text/plain": [
       "<IPython.core.display.HTML object>"
      ]
     },
     "metadata": {},
     "output_type": "display_data"
    },
    {
     "data": {
      "text/plain": [
       "(array([3.66908777]), array([[3.11594318]]))"
      ]
     },
     "execution_count": 15,
     "metadata": {},
     "output_type": "execute_result"
    }
   ],
   "source": [
    "from sklearn.linear_model import LinearRegression\n",
    "\n",
    "lin_reg = LinearRegression()\n",
    "lin_reg.fit(X, y)\n",
    "lin_reg.intercept_, lin_reg.coef_"
   ]
  },
  {
   "cell_type": "code",
   "execution_count": 16,
   "metadata": {},
   "outputs": [
    {
     "data": {
      "text/html": [
       "<style>\n",
       "    .div-1 {\n",
       "        background-color: #EBEBEB;\n",
       "    }\n",
       "\n",
       "    .div-2 {\n",
       "    \tbackground-color: #ABBAEA;\n",
       "    }\n",
       "\n",
       "    .div-3 {\n",
       "    \tbackground-color: #FBD603;\n",
       "    }\n",
       "    .div-white {\n",
       "    \tbackground-color: #FBFBFB;\n",
       "    }\n",
       "    h1 {\n",
       "      color: #002855;\n",
       "    }\n",
       "    h2 {\n",
       "      color: #002855;\n",
       "    }\n",
       "</style>\n"
      ],
      "text/plain": [
       "<IPython.core.display.HTML object>"
      ]
     },
     "metadata": {},
     "output_type": "display_data"
    },
    {
     "data": {
      "text/plain": [
       "array([[3.66908777],\n",
       "       [9.90097413]])"
      ]
     },
     "execution_count": 16,
     "metadata": {},
     "output_type": "execute_result"
    }
   ],
   "source": [
    "lin_reg.predict(X_new)"
   ]
  },
  {
   "cell_type": "markdown",
   "metadata": {},
   "source": [
    "The `LinearRegression` class is based on the `scipy.linalg.lstsq()` function (the name stands for \"least squares\"), which you could call directly:"
   ]
  },
  {
   "cell_type": "code",
   "execution_count": 17,
   "metadata": {},
   "outputs": [
    {
     "data": {
      "text/html": [
       "<style>\n",
       "    .div-1 {\n",
       "        background-color: #EBEBEB;\n",
       "    }\n",
       "\n",
       "    .div-2 {\n",
       "    \tbackground-color: #ABBAEA;\n",
       "    }\n",
       "\n",
       "    .div-3 {\n",
       "    \tbackground-color: #FBD603;\n",
       "    }\n",
       "    .div-white {\n",
       "    \tbackground-color: #FBFBFB;\n",
       "    }\n",
       "    h1 {\n",
       "      color: #002855;\n",
       "    }\n",
       "    h2 {\n",
       "      color: #002855;\n",
       "    }\n",
       "</style>\n"
      ],
      "text/plain": [
       "<IPython.core.display.HTML object>"
      ]
     },
     "metadata": {},
     "output_type": "display_data"
    },
    {
     "data": {
      "text/plain": [
       "array([[3.66908777],\n",
       "       [3.11594318]])"
      ]
     },
     "execution_count": 17,
     "metadata": {},
     "output_type": "execute_result"
    }
   ],
   "source": [
    "theta_best_svd, residuals, rank, s = np.linalg.lstsq(X_b, y, rcond=1e-6)\n",
    "theta_best_svd"
   ]
  },
  {
   "cell_type": "markdown",
   "metadata": {},
   "source": [
    "This function computes $\\mathbf{X}^+\\mathbf{y}$, where $\\mathbf{X}^{+}$ is the _pseudoinverse_ of $\\mathbf{X}$ (specifically the Moore-Penrose inverse). You can use `np.linalg.pinv()` to compute the pseudoinverse directly:"
   ]
  },
  {
   "cell_type": "code",
   "execution_count": 18,
   "metadata": {},
   "outputs": [
    {
     "data": {
      "text/html": [
       "<style>\n",
       "    .div-1 {\n",
       "        background-color: #EBEBEB;\n",
       "    }\n",
       "\n",
       "    .div-2 {\n",
       "    \tbackground-color: #ABBAEA;\n",
       "    }\n",
       "\n",
       "    .div-3 {\n",
       "    \tbackground-color: #FBD603;\n",
       "    }\n",
       "    .div-white {\n",
       "    \tbackground-color: #FBFBFB;\n",
       "    }\n",
       "    h1 {\n",
       "      color: #002855;\n",
       "    }\n",
       "    h2 {\n",
       "      color: #002855;\n",
       "    }\n",
       "</style>\n"
      ],
      "text/plain": [
       "<IPython.core.display.HTML object>"
      ]
     },
     "metadata": {},
     "output_type": "display_data"
    },
    {
     "data": {
      "text/plain": [
       "array([[3.66908777],\n",
       "       [3.11594318]])"
      ]
     },
     "execution_count": 18,
     "metadata": {},
     "output_type": "execute_result"
    }
   ],
   "source": [
    "np.linalg.pinv(X_b).dot(y)"
   ]
  },
  {
   "cell_type": "markdown",
   "metadata": {},
   "source": [
    "# Linear regression using batch gradient descent\n",
    "\n",
    "There is a close function to compute the  $\\theta$ that minimizes the cost function\n",
    "\n",
    "\\begin{equation}\n",
    "|| X \\theta - y||_2^2\n",
    "\\end{equation}\n",
    "\n",
    "where $||.||$ denotes the usual Euclidean vector norm.\n",
    "The normal function:\n",
    "\n",
    "\n",
    "\\begin{equation}\n",
    "  \\hat{\\boldsymbol\\theta} = (\\mathbf{X}^\\mathsf{T}\\mathbf{X})^{-1} \\mathbf{X}^\\mathsf{T} \\mathbf{y},\n",
    "\\end{equation}\n",
    "\n",
    "The problem with this kind of closed-form solution is that it is not well suited for large dimensions. The computational complexity scales as $O(n^3)$ (a bit better in some implementations) making this solution unfeasible for a large number of features. The good side is that the scaling with the number of training instances is linear\n",
    "\n",
    "Gradient Descent is a usual algorithm for local minimization. The idea is to follow the steepest slope to reach a point of minima (actually an inflexion point).\n",
    "\n",
    "The critical point is how to evaluate the gradient, for doing that a local inspection."
   ]
  },
  {
   "cell_type": "code",
   "execution_count": 19,
   "metadata": {},
   "outputs": [
    {
     "data": {
      "text/html": [
       "<style>\n",
       "    .div-1 {\n",
       "        background-color: #EBEBEB;\n",
       "    }\n",
       "\n",
       "    .div-2 {\n",
       "    \tbackground-color: #ABBAEA;\n",
       "    }\n",
       "\n",
       "    .div-3 {\n",
       "    \tbackground-color: #FBD603;\n",
       "    }\n",
       "    .div-white {\n",
       "    \tbackground-color: #FBFBFB;\n",
       "    }\n",
       "    h1 {\n",
       "      color: #002855;\n",
       "    }\n",
       "    h2 {\n",
       "      color: #002855;\n",
       "    }\n",
       "</style>\n"
      ],
      "text/plain": [
       "<IPython.core.display.HTML object>"
      ]
     },
     "metadata": {},
     "output_type": "display_data"
    }
   ],
   "source": [
    "eta = 0.1  # learning rate\n",
    "n_iterations = 1000\n",
    "m = 100\n",
    "\n",
    "theta = np.random.randn(2,1)  # random initialization\n",
    "\n",
    "for iteration in range(n_iterations):\n",
    "    gradients = 2/m * X_b.T.dot(X_b.dot(theta) - y)\n",
    "    theta = theta - eta * gradients"
   ]
  },
  {
   "cell_type": "code",
   "execution_count": 20,
   "metadata": {},
   "outputs": [
    {
     "data": {
      "text/html": [
       "<style>\n",
       "    .div-1 {\n",
       "        background-color: #EBEBEB;\n",
       "    }\n",
       "\n",
       "    .div-2 {\n",
       "    \tbackground-color: #ABBAEA;\n",
       "    }\n",
       "\n",
       "    .div-3 {\n",
       "    \tbackground-color: #FBD603;\n",
       "    }\n",
       "    .div-white {\n",
       "    \tbackground-color: #FBFBFB;\n",
       "    }\n",
       "    h1 {\n",
       "      color: #002855;\n",
       "    }\n",
       "    h2 {\n",
       "      color: #002855;\n",
       "    }\n",
       "</style>\n"
      ],
      "text/plain": [
       "<IPython.core.display.HTML object>"
      ]
     },
     "metadata": {},
     "output_type": "display_data"
    },
    {
     "data": {
      "text/plain": [
       "array([[3.66908777],\n",
       "       [3.11594318]])"
      ]
     },
     "execution_count": 20,
     "metadata": {},
     "output_type": "execute_result"
    }
   ],
   "source": [
    "theta"
   ]
  },
  {
   "cell_type": "code",
   "execution_count": 21,
   "metadata": {},
   "outputs": [
    {
     "data": {
      "text/html": [
       "<style>\n",
       "    .div-1 {\n",
       "        background-color: #EBEBEB;\n",
       "    }\n",
       "\n",
       "    .div-2 {\n",
       "    \tbackground-color: #ABBAEA;\n",
       "    }\n",
       "\n",
       "    .div-3 {\n",
       "    \tbackground-color: #FBD603;\n",
       "    }\n",
       "    .div-white {\n",
       "    \tbackground-color: #FBFBFB;\n",
       "    }\n",
       "    h1 {\n",
       "      color: #002855;\n",
       "    }\n",
       "    h2 {\n",
       "      color: #002855;\n",
       "    }\n",
       "</style>\n"
      ],
      "text/plain": [
       "<IPython.core.display.HTML object>"
      ]
     },
     "metadata": {},
     "output_type": "display_data"
    },
    {
     "data": {
      "text/plain": [
       "array([[3.66908777],\n",
       "       [9.90097413]])"
      ]
     },
     "execution_count": 21,
     "metadata": {},
     "output_type": "execute_result"
    }
   ],
   "source": [
    "X_new_b.dot(theta)"
   ]
  },
  {
   "cell_type": "markdown",
   "metadata": {},
   "source": [
    "## Learning rates \n",
    "\n",
    "The learning rate is managed by the $\\eta$ hyperparameter"
   ]
  },
  {
   "cell_type": "code",
   "execution_count": 22,
   "metadata": {},
   "outputs": [
    {
     "data": {
      "text/html": [
       "<style>\n",
       "    .div-1 {\n",
       "        background-color: #EBEBEB;\n",
       "    }\n",
       "\n",
       "    .div-2 {\n",
       "    \tbackground-color: #ABBAEA;\n",
       "    }\n",
       "\n",
       "    .div-3 {\n",
       "    \tbackground-color: #FBD603;\n",
       "    }\n",
       "    .div-white {\n",
       "    \tbackground-color: #FBFBFB;\n",
       "    }\n",
       "    h1 {\n",
       "      color: #002855;\n",
       "    }\n",
       "    h2 {\n",
       "      color: #002855;\n",
       "    }\n",
       "</style>\n"
      ],
      "text/plain": [
       "<IPython.core.display.HTML object>"
      ]
     },
     "metadata": {},
     "output_type": "display_data"
    }
   ],
   "source": [
    "theta_path_bgd = []\n",
    "\n",
    "def plot_gradient_descent(theta, eta, theta_path=None):\n",
    "    m = len(X_b)\n",
    "    plt.plot(X, y, \"b.\")\n",
    "    n_iterations = 1000\n",
    "    for iteration in range(n_iterations):\n",
    "        if iteration < 10:\n",
    "            y_predict = X_new_b.dot(theta)\n",
    "            style = \"b-\" if iteration > 0 else \"r--\"\n",
    "            plt.plot(X_new, y_predict, style)\n",
    "        gradients = 2/m * X_b.T.dot(X_b.dot(theta) - y)\n",
    "        theta = theta - eta * gradients\n",
    "        if theta_path is not None:\n",
    "            theta_path.append(theta)\n",
    "    plt.xlabel(\"$x_1$\", fontsize=18)\n",
    "    plt.axis([0, 2, 0, 15])\n",
    "    plt.title(r\"$\\eta = {}$\".format(eta), fontsize=16)"
   ]
  },
  {
   "cell_type": "code",
   "execution_count": 23,
   "metadata": {},
   "outputs": [
    {
     "data": {
      "text/html": [
       "<style>\n",
       "    .div-1 {\n",
       "        background-color: #EBEBEB;\n",
       "    }\n",
       "\n",
       "    .div-2 {\n",
       "    \tbackground-color: #ABBAEA;\n",
       "    }\n",
       "\n",
       "    .div-3 {\n",
       "    \tbackground-color: #FBD603;\n",
       "    }\n",
       "    .div-white {\n",
       "    \tbackground-color: #FBFBFB;\n",
       "    }\n",
       "    h1 {\n",
       "      color: #002855;\n",
       "    }\n",
       "    h2 {\n",
       "      color: #002855;\n",
       "    }\n",
       "</style>\n"
      ],
      "text/plain": [
       "<IPython.core.display.HTML object>"
      ]
     },
     "metadata": {},
     "output_type": "display_data"
    },
    {
     "data": {
      "image/png": "[encoded data removed]",
      "text/plain": [
       "<Figure size 1000x400 with 3 Axes>"
      ]
     },
     "metadata": {},
     "output_type": "display_data"
    }
   ],
   "source": [
    "np.random.seed(42)\n",
    "theta = np.random.randn(2,1)  # random initialization\n",
    "\n",
    "plt.figure(figsize=(10,4))\n",
    "plt.subplot(131); plot_gradient_descent(theta, eta=0.02)\n",
    "plt.ylabel(\"$y$\", rotation=0, fontsize=18)\n",
    "plt.subplot(132); plot_gradient_descent(theta, eta=0.1, theta_path=theta_path_bgd)\n",
    "plt.subplot(133); plot_gradient_descent(theta, eta=0.5)"
   ]
  },
  {
   "cell_type": "markdown",
   "metadata": {},
   "source": [
    "# Stochastic Gradient Descent\n",
    "\n",
    "Instead of using the whole training set SGD uses a random subset on each iteration, effectively speeding the execution with the price of instability and bouncing of solutions"
   ]
  },
  {
   "cell_type": "code",
   "execution_count": 24,
   "metadata": {},
   "outputs": [
    {
     "data": {
      "text/html": [
       "<style>\n",
       "    .div-1 {\n",
       "        background-color: #EBEBEB;\n",
       "    }\n",
       "\n",
       "    .div-2 {\n",
       "    \tbackground-color: #ABBAEA;\n",
       "    }\n",
       "\n",
       "    .div-3 {\n",
       "    \tbackground-color: #FBD603;\n",
       "    }\n",
       "    .div-white {\n",
       "    \tbackground-color: #FBFBFB;\n",
       "    }\n",
       "    h1 {\n",
       "      color: #002855;\n",
       "    }\n",
       "    h2 {\n",
       "      color: #002855;\n",
       "    }\n",
       "</style>\n"
      ],
      "text/plain": [
       "<IPython.core.display.HTML object>"
      ]
     },
     "metadata": {},
     "output_type": "display_data"
    }
   ],
   "source": [
    "theta_path_sgd = []\n",
    "m = len(X_b)\n",
    "np.random.seed(42)"
   ]
  },
  {
   "cell_type": "code",
   "execution_count": 25,
   "metadata": {},
   "outputs": [
    {
     "data": {
      "text/html": [
       "<style>\n",
       "    .div-1 {\n",
       "        background-color: #EBEBEB;\n",
       "    }\n",
       "\n",
       "    .div-2 {\n",
       "    \tbackground-color: #ABBAEA;\n",
       "    }\n",
       "\n",
       "    .div-3 {\n",
       "    \tbackground-color: #FBD603;\n",
       "    }\n",
       "    .div-white {\n",
       "    \tbackground-color: #FBFBFB;\n",
       "    }\n",
       "    h1 {\n",
       "      color: #002855;\n",
       "    }\n",
       "    h2 {\n",
       "      color: #002855;\n",
       "    }\n",
       "</style>\n"
      ],
      "text/plain": [
       "<IPython.core.display.HTML object>"
      ]
     },
     "metadata": {},
     "output_type": "display_data"
    },
    {
     "data": {
      "text/plain": [
       "(0.0, 2.0, 0.0, 15.0)"
      ]
     },
     "execution_count": 25,
     "metadata": {},
     "output_type": "execute_result"
    },
    {
     "data": {
      "image/png": "[encoded data removed]",
      "text/plain": [
       "<Figure size 640x480 with 1 Axes>"
      ]
     },
     "metadata": {},
     "output_type": "display_data"
    }
   ],
   "source": [
    "n_epochs = 50\n",
    "t0, t1 = 5, 50  # learning schedule hyperparameters\n",
    "\n",
    "def learning_schedule(t):\n",
    "    return t0 / (t + t1)\n",
    "\n",
    "theta = np.random.randn(2,1)  # random initialization\n",
    "\n",
    "for epoch in range(n_epochs):\n",
    "    for i in range(m):\n",
    "        if epoch == 0 and i < 20:                    # not shown\n",
    "            y_predict = X_new_b.dot(theta)           # not shown\n",
    "            style = \"b-\" if i > 0 else \"r--\"         # not shown\n",
    "            plt.plot(X_new, y_predict, style)        # not shown\n",
    "        random_index = np.random.randint(m)\n",
    "        xi = X_b[random_index:random_index+1]\n",
    "        yi = y[random_index:random_index+1]\n",
    "        gradients = 2 * xi.T.dot(xi.dot(theta) - yi)\n",
    "        eta = learning_schedule(epoch * m + i)\n",
    "        theta = theta - eta * gradients\n",
    "        theta_path_sgd.append(theta)                 # not shown\n",
    "\n",
    "plt.plot(X, y, \"b.\")                                 # not shown\n",
    "plt.xlabel(\"$x_1$\", fontsize=18)                     # not shown\n",
    "plt.ylabel(\"$y$\", rotation=0, fontsize=18)           # not shown\n",
    "plt.axis([0, 2, 0, 15])                              # not shown"
   ]
  },
  {
   "cell_type": "code",
   "execution_count": 26,
   "metadata": {
    "scrolled": true
   },
   "outputs": [
    {
     "data": {
      "text/html": [
       "<style>\n",
       "    .div-1 {\n",
       "        background-color: #EBEBEB;\n",
       "    }\n",
       "\n",
       "    .div-2 {\n",
       "    \tbackground-color: #ABBAEA;\n",
       "    }\n",
       "\n",
       "    .div-3 {\n",
       "    \tbackground-color: #FBD603;\n",
       "    }\n",
       "    .div-white {\n",
       "    \tbackground-color: #FBFBFB;\n",
       "    }\n",
       "    h1 {\n",
       "      color: #002855;\n",
       "    }\n",
       "    h2 {\n",
       "      color: #002855;\n",
       "    }\n",
       "</style>\n"
      ],
      "text/plain": [
       "<IPython.core.display.HTML object>"
      ]
     },
     "metadata": {},
     "output_type": "display_data"
    },
    {
     "data": {
      "text/plain": [
       "array([[3.69531897],\n",
       "       [3.14426174]])"
      ]
     },
     "execution_count": 26,
     "metadata": {},
     "output_type": "execute_result"
    }
   ],
   "source": [
    "theta"
   ]
  },
  {
   "cell_type": "code",
   "execution_count": 27,
   "metadata": {},
   "outputs": [
    {
     "data": {
      "text/html": [
       "<style>\n",
       "    .div-1 {\n",
       "        background-color: #EBEBEB;\n",
       "    }\n",
       "\n",
       "    .div-2 {\n",
       "    \tbackground-color: #ABBAEA;\n",
       "    }\n",
       "\n",
       "    .div-3 {\n",
       "    \tbackground-color: #FBD603;\n",
       "    }\n",
       "    .div-white {\n",
       "    \tbackground-color: #FBFBFB;\n",
       "    }\n",
       "    h1 {\n",
       "      color: #002855;\n",
       "    }\n",
       "    h2 {\n",
       "      color: #002855;\n",
       "    }\n",
       "</style>\n"
      ],
      "text/plain": [
       "<IPython.core.display.HTML object>"
      ]
     },
     "metadata": {},
     "output_type": "display_data"
    },
    {
     "data": {
      "text/html": [
       "<style>#sk-container-id-1 {color: black;}#sk-container-id-1 pre{padding: 0;}#sk-container-id-1 div.sk-toggleable {background-color: white;}#sk-container-id-1 label.sk-toggleable__label {cursor: pointer;display: block;width: 100%;margin-bottom: 0;padding: 0.3em;box-sizing: border-box;text-align: center;}#sk-container-id-1 label.sk-toggleable__label-arrow:before {content: \"▸\";float: left;margin-right: 0.25em;color: #696969;}#sk-container-id-1 label.sk-toggleable__label-arrow:hover:before {color: black;}#sk-container-id-1 div.sk-estimator:hover label.sk-toggleable__label-arrow:before {color: black;}#sk-container-id-1 div.sk-toggleable__content {max-height: 0;max-width: 0;overflow: hidden;text-align: left;background-color: #f0f8ff;}#sk-container-id-1 div.sk-toggleable__content pre {margin: 0.2em;color: black;border-radius: 0.25em;background-color: #f0f8ff;}#sk-container-id-1 input.sk-toggleable__control:checked~div.sk-toggleable__content {max-height: 200px;max-width: 100%;overflow: auto;}#sk-container-id-1 input.sk-toggleable__control:checked~label.sk-toggleable__label-arrow:before {content: \"▾\";}#sk-container-id-1 div.sk-estimator input.sk-toggleable__control:checked~label.sk-toggleable__label {background-color: #d4ebff;}#sk-container-id-1 div.sk-label input.sk-toggleable__control:checked~label.sk-toggleable__label {background-color: #d4ebff;}#sk-container-id-1 input.sk-hidden--visually {border: 0;clip: rect(1px 1px 1px 1px);clip: rect(1px, 1px, 1px, 1px);height: 1px;margin: -1px;overflow: hidden;padding: 0;position: absolute;width: 1px;}#sk-container-id-1 div.sk-estimator {font-family: monospace;background-color: #f0f8ff;border: 1px dotted black;border-radius: 0.25em;box-sizing: border-box;margin-bottom: 0.5em;}#sk-container-id-1 div.sk-estimator:hover {background-color: #d4ebff;}#sk-container-id-1 div.sk-parallel-item::after {content: \"\";width: 100%;border-bottom: 1px solid gray;flex-grow: 1;}#sk-container-id-1 div.sk-label:hover label.sk-toggleable__label {background-color: #d4ebff;}#sk-container-id-1 div.sk-serial::before {content: \"\";position: absolute;border-left: 1px solid gray;box-sizing: border-box;top: 0;bottom: 0;left: 50%;z-index: 0;}#sk-container-id-1 div.sk-serial {display: flex;flex-direction: column;align-items: center;background-color: white;padding-right: 0.2em;padding-left: 0.2em;position: relative;}#sk-container-id-1 div.sk-item {position: relative;z-index: 1;}#sk-container-id-1 div.sk-parallel {display: flex;align-items: stretch;justify-content: center;background-color: white;position: relative;}#sk-container-id-1 div.sk-item::before, #sk-container-id-1 div.sk-parallel-item::before {content: \"\";position: absolute;border-left: 1px solid gray;box-sizing: border-box;top: 0;bottom: 0;left: 50%;z-index: -1;}#sk-container-id-1 div.sk-parallel-item {display: flex;flex-direction: column;z-index: 1;position: relative;background-color: white;}#sk-container-id-1 div.sk-parallel-item:first-child::after {align-self: flex-end;width: 50%;}#sk-container-id-1 div.sk-parallel-item:last-child::after {align-self: flex-start;width: 50%;}#sk-container-id-1 div.sk-parallel-item:only-child::after {width: 0;}#sk-container-id-1 div.sk-dashed-wrapped {border: 1px dashed gray;margin: 0 0.4em 0.5em 0.4em;box-sizing: border-box;padding-bottom: 0.4em;background-color: white;}#sk-container-id-1 div.sk-label label {font-family: monospace;font-weight: bold;display: inline-block;line-height: 1.2em;}#sk-container-id-1 div.sk-label-container {text-align: center;}#sk-container-id-1 div.sk-container {/* jupyter's `normalize.less` sets `[hidden] { display: none; }` but bootstrap.min.css set `[hidden] { display: none !important; }` so we also need the `!important` here to be able to override the default hidden behavior on the sphinx rendered scikit-learn.org. See: https://github.com/scikit-learn/scikit-learn/issues/21755 */display: inline-block !important;position: relative;}#sk-container-id-1 div.sk-text-repr-fallback {display: none;}</style><div id=\"sk-container-id-1\" class=\"sk-top-container\"><div class=\"sk-text-repr-fallback\"><pre>SGDRegressor(eta0=0.1, penalty=None, random_state=42)</pre><b>In a Jupyter environment, please rerun this cell to show the HTML representation or trust the notebook. <br />On GitHub, the HTML representation is unable to render, please try loading this page with nbviewer.org.</b></div><div class=\"sk-container\" hidden><div class=\"sk-item\"><div class=\"sk-estimator sk-toggleable\"><input class=\"sk-toggleable__control sk-hidden--visually\" id=\"sk-estimator-id-1\" type=\"checkbox\" checked><label for=\"sk-estimator-id-1\" class=\"sk-toggleable__label sk-toggleable__label-arrow\">SGDRegressor</label><div class=\"sk-toggleable__content\"><pre>SGDRegressor(eta0=0.1, penalty=None, random_state=42)</pre></div></div></div></div></div>"
      ],
      "text/plain": [
       "SGDRegressor(eta0=0.1, penalty=None, random_state=42)"
      ]
     },
     "execution_count": 27,
     "metadata": {},
     "output_type": "execute_result"
    }
   ],
   "source": [
    "from sklearn.linear_model import SGDRegressor\n",
    "\n",
    "sgd_reg = SGDRegressor(max_iter=1000, tol=1e-3, penalty=None, eta0=0.1, random_state=42)\n",
    "sgd_reg.fit(X, y.ravel())"
   ]
  },
  {
   "cell_type": "code",
   "execution_count": 28,
   "metadata": {},
   "outputs": [
    {
     "data": {
      "text/html": [
       "<style>\n",
       "    .div-1 {\n",
       "        background-color: #EBEBEB;\n",
       "    }\n",
       "\n",
       "    .div-2 {\n",
       "    \tbackground-color: #ABBAEA;\n",
       "    }\n",
       "\n",
       "    .div-3 {\n",
       "    \tbackground-color: #FBD603;\n",
       "    }\n",
       "    .div-white {\n",
       "    \tbackground-color: #FBFBFB;\n",
       "    }\n",
       "    h1 {\n",
       "      color: #002855;\n",
       "    }\n",
       "    h2 {\n",
       "      color: #002855;\n",
       "    }\n",
       "</style>\n"
      ],
      "text/plain": [
       "<IPython.core.display.HTML object>"
      ]
     },
     "metadata": {},
     "output_type": "display_data"
    },
    {
     "data": {
      "text/plain": [
       "(array([3.63086509]), array([3.12732548]))"
      ]
     },
     "execution_count": 28,
     "metadata": {},
     "output_type": "execute_result"
    }
   ],
   "source": [
    "sgd_reg.intercept_, sgd_reg.coef_"
   ]
  },
  {
   "cell_type": "markdown",
   "metadata": {},
   "source": [
    "# Mini-batch gradient descent"
   ]
  },
  {
   "cell_type": "code",
   "execution_count": 29,
   "metadata": {},
   "outputs": [
    {
     "data": {
      "text/html": [
       "<style>\n",
       "    .div-1 {\n",
       "        background-color: #EBEBEB;\n",
       "    }\n",
       "\n",
       "    .div-2 {\n",
       "    \tbackground-color: #ABBAEA;\n",
       "    }\n",
       "\n",
       "    .div-3 {\n",
       "    \tbackground-color: #FBD603;\n",
       "    }\n",
       "    .div-white {\n",
       "    \tbackground-color: #FBFBFB;\n",
       "    }\n",
       "    h1 {\n",
       "      color: #002855;\n",
       "    }\n",
       "    h2 {\n",
       "      color: #002855;\n",
       "    }\n",
       "</style>\n"
      ],
      "text/plain": [
       "<IPython.core.display.HTML object>"
      ]
     },
     "metadata": {},
     "output_type": "display_data"
    }
   ],
   "source": [
    "theta_path_mgd = []\n",
    "\n",
    "n_iterations = 50\n",
    "minibatch_size = 20\n",
    "\n",
    "np.random.seed(42)\n",
    "theta = np.random.randn(2,1)  # random initialization\n",
    "\n",
    "t0, t1 = 200, 1000\n",
    "def learning_schedule(t):\n",
    "    return t0 / (t + t1)\n",
    "\n",
    "t = 0\n",
    "for epoch in range(n_iterations):\n",
    "    shuffled_indices = np.random.permutation(m)\n",
    "    X_b_shuffled = X_b[shuffled_indices]\n",
    "    y_shuffled = y[shuffled_indices]\n",
    "    for i in range(0, m, minibatch_size):\n",
    "        t += 1\n",
    "        xi = X_b_shuffled[i:i+minibatch_size]\n",
    "        yi = y_shuffled[i:i+minibatch_size]\n",
    "        gradients = 2/minibatch_size * xi.T.dot(xi.dot(theta) - yi)\n",
    "        eta = learning_schedule(t)\n",
    "        theta = theta - eta * gradients\n",
    "        theta_path_mgd.append(theta)"
   ]
  },
  {
   "cell_type": "code",
   "execution_count": 30,
   "metadata": {},
   "outputs": [
    {
     "data": {
      "text/html": [
       "<style>\n",
       "    .div-1 {\n",
       "        background-color: #EBEBEB;\n",
       "    }\n",
       "\n",
       "    .div-2 {\n",
       "    \tbackground-color: #ABBAEA;\n",
       "    }\n",
       "\n",
       "    .div-3 {\n",
       "    \tbackground-color: #FBD603;\n",
       "    }\n",
       "    .div-white {\n",
       "    \tbackground-color: #FBFBFB;\n",
       "    }\n",
       "    h1 {\n",
       "      color: #002855;\n",
       "    }\n",
       "    h2 {\n",
       "      color: #002855;\n",
       "    }\n",
       "</style>\n"
      ],
      "text/plain": [
       "<IPython.core.display.HTML object>"
      ]
     },
     "metadata": {},
     "output_type": "display_data"
    },
    {
     "data": {
      "text/plain": [
       "array([[3.61043415],\n",
       "       [3.03047503]])"
      ]
     },
     "execution_count": 30,
     "metadata": {},
     "output_type": "execute_result"
    }
   ],
   "source": [
    "theta"
   ]
  },
  {
   "cell_type": "code",
   "execution_count": 31,
   "metadata": {},
   "outputs": [
    {
     "data": {
      "text/html": [
       "<style>\n",
       "    .div-1 {\n",
       "        background-color: #EBEBEB;\n",
       "    }\n",
       "\n",
       "    .div-2 {\n",
       "    \tbackground-color: #ABBAEA;\n",
       "    }\n",
       "\n",
       "    .div-3 {\n",
       "    \tbackground-color: #FBD603;\n",
       "    }\n",
       "    .div-white {\n",
       "    \tbackground-color: #FBFBFB;\n",
       "    }\n",
       "    h1 {\n",
       "      color: #002855;\n",
       "    }\n",
       "    h2 {\n",
       "      color: #002855;\n",
       "    }\n",
       "</style>\n"
      ],
      "text/plain": [
       "<IPython.core.display.HTML object>"
      ]
     },
     "metadata": {},
     "output_type": "display_data"
    }
   ],
   "source": [
    "theta_path_bgd = np.array(theta_path_bgd)\n",
    "theta_path_sgd = np.array(theta_path_sgd)\n",
    "theta_path_mgd = np.array(theta_path_mgd)"
   ]
  },
  {
   "cell_type": "code",
   "execution_count": 32,
   "metadata": {},
   "outputs": [
    {
     "data": {
      "text/html": [
       "<style>\n",
       "    .div-1 {\n",
       "        background-color: #EBEBEB;\n",
       "    }\n",
       "\n",
       "    .div-2 {\n",
       "    \tbackground-color: #ABBAEA;\n",
       "    }\n",
       "\n",
       "    .div-3 {\n",
       "    \tbackground-color: #FBD603;\n",
       "    }\n",
       "    .div-white {\n",
       "    \tbackground-color: #FBFBFB;\n",
       "    }\n",
       "    h1 {\n",
       "      color: #002855;\n",
       "    }\n",
       "    h2 {\n",
       "      color: #002855;\n",
       "    }\n",
       "</style>\n"
      ],
      "text/plain": [
       "<IPython.core.display.HTML object>"
      ]
     },
     "metadata": {},
     "output_type": "display_data"
    },
    {
     "data": {
      "text/plain": [
       "(2.5, 4.5, 2.3, 3.9)"
      ]
     },
     "execution_count": 32,
     "metadata": {},
     "output_type": "execute_result"
    },
    {
     "data": {
      "image/png": "[encoded data removed]",
      "text/plain": [
       "<Figure size 700x400 with 1 Axes>"
      ]
     },
     "metadata": {},
     "output_type": "display_data"
    }
   ],
   "source": [
    "plt.figure(figsize=(7,4))\n",
    "plt.plot(theta_path_sgd[:, 0], theta_path_sgd[:, 1], \"r-s\", linewidth=1, label=\"Stochastic\")\n",
    "plt.plot(theta_path_mgd[:, 0], theta_path_mgd[:, 1], \"g-+\", linewidth=2, label=\"Mini-batch\")\n",
    "plt.plot(theta_path_bgd[:, 0], theta_path_bgd[:, 1], \"b-o\", linewidth=3, label=\"Batch\")\n",
    "plt.legend(loc=\"upper left\", fontsize=16)\n",
    "plt.xlabel(r\"$\\theta_0$\", fontsize=20)\n",
    "plt.ylabel(r\"$\\theta_1$   \", fontsize=20, rotation=0)\n",
    "plt.axis([2.5, 4.5, 2.3, 3.9])"
   ]
  },
  {
   "cell_type": "markdown",
   "metadata": {},
   "source": [
    "# Polynomial regression\n",
    "\n",
    "Polynomial regression is a trick to use the same machinery for linear regression but accounting for higher order polynomials for the features. The idea is to add more features that are powers of the original features and train a linear regressor as having those extra features.  "
   ]
  },
  {
   "cell_type": "code",
   "execution_count": 33,
   "metadata": {},
   "outputs": [
    {
     "data": {
      "text/html": [
       "<style>\n",
       "    .div-1 {\n",
       "        background-color: #EBEBEB;\n",
       "    }\n",
       "\n",
       "    .div-2 {\n",
       "    \tbackground-color: #ABBAEA;\n",
       "    }\n",
       "\n",
       "    .div-3 {\n",
       "    \tbackground-color: #FBD603;\n",
       "    }\n",
       "    .div-white {\n",
       "    \tbackground-color: #FBFBFB;\n",
       "    }\n",
       "    h1 {\n",
       "      color: #002855;\n",
       "    }\n",
       "    h2 {\n",
       "      color: #002855;\n",
       "    }\n",
       "</style>\n"
      ],
      "text/plain": [
       "<IPython.core.display.HTML object>"
      ]
     },
     "metadata": {},
     "output_type": "display_data"
    }
   ],
   "source": [
    "import numpy.random as rnd\n",
    "\n",
    "np.random.seed(42)"
   ]
  },
  {
   "cell_type": "code",
   "execution_count": 34,
   "metadata": {},
   "outputs": [
    {
     "data": {
      "text/html": [
       "<style>\n",
       "    .div-1 {\n",
       "        background-color: #EBEBEB;\n",
       "    }\n",
       "\n",
       "    .div-2 {\n",
       "    \tbackground-color: #ABBAEA;\n",
       "    }\n",
       "\n",
       "    .div-3 {\n",
       "    \tbackground-color: #FBD603;\n",
       "    }\n",
       "    .div-white {\n",
       "    \tbackground-color: #FBFBFB;\n",
       "    }\n",
       "    h1 {\n",
       "      color: #002855;\n",
       "    }\n",
       "    h2 {\n",
       "      color: #002855;\n",
       "    }\n",
       "</style>\n"
      ],
      "text/plain": [
       "<IPython.core.display.HTML object>"
      ]
     },
     "metadata": {},
     "output_type": "display_data"
    }
   ],
   "source": [
    "m = 100\n",
    "X = 6 * np.random.rand(m, 1) - 3\n",
    "y = 0.5 * X**2 + X + 2 + np.random.randn(m, 1)"
   ]
  },
  {
   "cell_type": "code",
   "execution_count": 35,
   "metadata": {},
   "outputs": [
    {
     "data": {
      "text/html": [
       "<style>\n",
       "    .div-1 {\n",
       "        background-color: #EBEBEB;\n",
       "    }\n",
       "\n",
       "    .div-2 {\n",
       "    \tbackground-color: #ABBAEA;\n",
       "    }\n",
       "\n",
       "    .div-3 {\n",
       "    \tbackground-color: #FBD603;\n",
       "    }\n",
       "    .div-white {\n",
       "    \tbackground-color: #FBFBFB;\n",
       "    }\n",
       "    h1 {\n",
       "      color: #002855;\n",
       "    }\n",
       "    h2 {\n",
       "      color: #002855;\n",
       "    }\n",
       "</style>\n"
      ],
      "text/plain": [
       "<IPython.core.display.HTML object>"
      ]
     },
     "metadata": {},
     "output_type": "display_data"
    },
    {
     "data": {
      "text/plain": [
       "(-3.0, 3.0, 0.0, 10.0)"
      ]
     },
     "execution_count": 35,
     "metadata": {},
     "output_type": "execute_result"
    },
    {
     "data": {
      "image/png": "[encoded data removed]",
      "text/plain": [
       "<Figure size 640x480 with 1 Axes>"
      ]
     },
     "metadata": {},
     "output_type": "display_data"
    }
   ],
   "source": [
    "plt.plot(X, y, \"b.\")\n",
    "plt.xlabel(\"$x_1$\", fontsize=18)\n",
    "plt.ylabel(\"$y$\", rotation=0, fontsize=18)\n",
    "plt.axis([-3, 3, 0, 10])"
   ]
  },
  {
   "cell_type": "code",
   "execution_count": 36,
   "metadata": {},
   "outputs": [
    {
     "data": {
      "text/html": [
       "<style>\n",
       "    .div-1 {\n",
       "        background-color: #EBEBEB;\n",
       "    }\n",
       "\n",
       "    .div-2 {\n",
       "    \tbackground-color: #ABBAEA;\n",
       "    }\n",
       "\n",
       "    .div-3 {\n",
       "    \tbackground-color: #FBD603;\n",
       "    }\n",
       "    .div-white {\n",
       "    \tbackground-color: #FBFBFB;\n",
       "    }\n",
       "    h1 {\n",
       "      color: #002855;\n",
       "    }\n",
       "    h2 {\n",
       "      color: #002855;\n",
       "    }\n",
       "</style>\n"
      ],
      "text/plain": [
       "<IPython.core.display.HTML object>"
      ]
     },
     "metadata": {},
     "output_type": "display_data"
    },
    {
     "data": {
      "text/plain": [
       "array([-0.75275929])"
      ]
     },
     "execution_count": 36,
     "metadata": {},
     "output_type": "execute_result"
    }
   ],
   "source": [
    "from sklearn.preprocessing import PolynomialFeatures\n",
    "poly_features = PolynomialFeatures(degree=2, include_bias=False)\n",
    "X_poly = poly_features.fit_transform(X)\n",
    "X[0]"
   ]
  },
  {
   "cell_type": "code",
   "execution_count": 37,
   "metadata": {},
   "outputs": [
    {
     "data": {
      "text/html": [
       "<style>\n",
       "    .div-1 {\n",
       "        background-color: #EBEBEB;\n",
       "    }\n",
       "\n",
       "    .div-2 {\n",
       "    \tbackground-color: #ABBAEA;\n",
       "    }\n",
       "\n",
       "    .div-3 {\n",
       "    \tbackground-color: #FBD603;\n",
       "    }\n",
       "    .div-white {\n",
       "    \tbackground-color: #FBFBFB;\n",
       "    }\n",
       "    h1 {\n",
       "      color: #002855;\n",
       "    }\n",
       "    h2 {\n",
       "      color: #002855;\n",
       "    }\n",
       "</style>\n"
      ],
      "text/plain": [
       "<IPython.core.display.HTML object>"
      ]
     },
     "metadata": {},
     "output_type": "display_data"
    },
    {
     "data": {
      "text/plain": [
       "array([-0.75275929,  0.56664654])"
      ]
     },
     "execution_count": 37,
     "metadata": {},
     "output_type": "execute_result"
    }
   ],
   "source": [
    "X_poly[0]"
   ]
  },
  {
   "cell_type": "code",
   "execution_count": 38,
   "metadata": {},
   "outputs": [
    {
     "data": {
      "text/html": [
       "<style>\n",
       "    .div-1 {\n",
       "        background-color: #EBEBEB;\n",
       "    }\n",
       "\n",
       "    .div-2 {\n",
       "    \tbackground-color: #ABBAEA;\n",
       "    }\n",
       "\n",
       "    .div-3 {\n",
       "    \tbackground-color: #FBD603;\n",
       "    }\n",
       "    .div-white {\n",
       "    \tbackground-color: #FBFBFB;\n",
       "    }\n",
       "    h1 {\n",
       "      color: #002855;\n",
       "    }\n",
       "    h2 {\n",
       "      color: #002855;\n",
       "    }\n",
       "</style>\n"
      ],
      "text/plain": [
       "<IPython.core.display.HTML object>"
      ]
     },
     "metadata": {},
     "output_type": "display_data"
    },
    {
     "data": {
      "text/plain": [
       "(array([1.78134581]), array([[0.93366893, 0.56456263]]))"
      ]
     },
     "execution_count": 38,
     "metadata": {},
     "output_type": "execute_result"
    }
   ],
   "source": [
    "lin_reg = LinearRegression()\n",
    "lin_reg.fit(X_poly, y)\n",
    "lin_reg.intercept_, lin_reg.coef_"
   ]
  },
  {
   "cell_type": "code",
   "execution_count": 39,
   "metadata": {},
   "outputs": [
    {
     "data": {
      "text/html": [
       "<style>\n",
       "    .div-1 {\n",
       "        background-color: #EBEBEB;\n",
       "    }\n",
       "\n",
       "    .div-2 {\n",
       "    \tbackground-color: #ABBAEA;\n",
       "    }\n",
       "\n",
       "    .div-3 {\n",
       "    \tbackground-color: #FBD603;\n",
       "    }\n",
       "    .div-white {\n",
       "    \tbackground-color: #FBFBFB;\n",
       "    }\n",
       "    h1 {\n",
       "      color: #002855;\n",
       "    }\n",
       "    h2 {\n",
       "      color: #002855;\n",
       "    }\n",
       "</style>\n"
      ],
      "text/plain": [
       "<IPython.core.display.HTML object>"
      ]
     },
     "metadata": {},
     "output_type": "display_data"
    },
    {
     "data": {
      "text/plain": [
       "(-3.0, 3.0, 0.0, 10.0)"
      ]
     },
     "execution_count": 39,
     "metadata": {},
     "output_type": "execute_result"
    },
    {
     "data": {
      "image/png": "[encoded data removed]",
      "text/plain": [
       "<Figure size 640x480 with 1 Axes>"
      ]
     },
     "metadata": {},
     "output_type": "display_data"
    }
   ],
   "source": [
    "X_new=np.linspace(-3, 3, 100).reshape(100, 1)\n",
    "X_new_poly = poly_features.transform(X_new)\n",
    "y_new = lin_reg.predict(X_new_poly)\n",
    "plt.plot(X, y, \"b.\")\n",
    "plt.plot(X_new, y_new, \"r-\", linewidth=2, label=\"Predictions\")\n",
    "plt.xlabel(\"$x_1$\", fontsize=18)\n",
    "plt.ylabel(\"$y$\", rotation=0, fontsize=18)\n",
    "plt.legend(loc=\"upper left\", fontsize=14)\n",
    "plt.axis([-3, 3, 0, 10])"
   ]
  },
  {
   "cell_type": "markdown",
   "metadata": {},
   "source": [
    "## How high the polynomial should go?"
   ]
  },
  {
   "cell_type": "code",
   "execution_count": 40,
   "metadata": {},
   "outputs": [
    {
     "data": {
      "text/html": [
       "<style>\n",
       "    .div-1 {\n",
       "        background-color: #EBEBEB;\n",
       "    }\n",
       "\n",
       "    .div-2 {\n",
       "    \tbackground-color: #ABBAEA;\n",
       "    }\n",
       "\n",
       "    .div-3 {\n",
       "    \tbackground-color: #FBD603;\n",
       "    }\n",
       "    .div-white {\n",
       "    \tbackground-color: #FBFBFB;\n",
       "    }\n",
       "    h1 {\n",
       "      color: #002855;\n",
       "    }\n",
       "    h2 {\n",
       "      color: #002855;\n",
       "    }\n",
       "</style>\n"
      ],
      "text/plain": [
       "<IPython.core.display.HTML object>"
      ]
     },
     "metadata": {},
     "output_type": "display_data"
    },
    {
     "data": {
      "text/plain": [
       "(-3.0, 3.0, 0.0, 10.0)"
      ]
     },
     "execution_count": 40,
     "metadata": {},
     "output_type": "execute_result"
    },
    {
     "data": {
      "image/png": "[encoded data removed]",
      "text/plain": [
       "<Figure size 640x480 with 1 Axes>"
      ]
     },
     "metadata": {},
     "output_type": "display_data"
    }
   ],
   "source": [
    "from sklearn.preprocessing import StandardScaler\n",
    "from sklearn.pipeline import Pipeline\n",
    "\n",
    "for style, width, degree in ((\"g-\", 1, 300), (\"b--\", 2, 2), (\"r-+\", 2, 1)):\n",
    "    polybig_features = PolynomialFeatures(degree=degree, include_bias=False)\n",
    "    std_scaler = StandardScaler()\n",
    "    lin_reg = LinearRegression()\n",
    "    polynomial_regression = Pipeline([\n",
    "            (\"poly_features\", polybig_features),\n",
    "            (\"std_scaler\", std_scaler),\n",
    "            (\"lin_reg\", lin_reg),\n",
    "        ])\n",
    "    polynomial_regression.fit(X, y)\n",
    "    y_newbig = polynomial_regression.predict(X_new)\n",
    "    plt.plot(X_new, y_newbig, style, label=str(degree), linewidth=width)\n",
    "\n",
    "plt.plot(X, y, \"b.\", linewidth=3)\n",
    "plt.legend(loc=\"upper left\")\n",
    "plt.xlabel(\"$x_1$\", fontsize=18)\n",
    "plt.ylabel(\"$y$\", rotation=0, fontsize=18)\n",
    "plt.axis([-3, 3, 0, 10])"
   ]
  },
  {
   "cell_type": "markdown",
   "metadata": {},
   "source": [
    "# Regularized models\n",
    "\n",
    "The figure above for 300-degree polynomial shows a big overfitting, which means\n",
    "**try to keep the parameters** $\\theta$ **small unless the data really convinces us otherwise**\n",
    ". There are ways to control such behavior by constraining the weights of those high order polynomial penalizing solutions that use them. Therefore, the main idea is to add a penalty term to the algorithm’s loss function. This changes the model’s weights which results from minimizing the loss function.\n",
    "\n",
    "## Ridge Regression\n",
    "\n",
    "W very simple explanation of this regression type can be round in [Ridge Regression](https://ncss-wpengine.netdna-ssl.com/wp-content/themes/ncss/pdf/Procedures/NCSS/Ridge_Regression.pdf). Basically, minimization problem of finding the parameters in the regression is converted to \n",
    "\n",
    "\\begin{equation}\n",
    "|| X \\theta - y||_2^2 + \\gamma || \\theta ||_2^2\n",
    "\\end{equation}\n",
    "\n",
    "where $\\gamma \\ge0$ is the so-called regularization parameter and it has to be chosen by the user. In general, the optimal value of $\\gamma$ can be obtained by tuning or by cross-validation.\n",
    "\n",
    "Now, the normal function now becomes:\n",
    "\n",
    "\\begin{equation}\n",
    "  \\hat{\\boldsymbol\\theta} = (\\mathbf{X}^\\mathsf{T}\\mathbf{X} + \\gamma I_{p+1})^{-1} \\mathbf{X}^\\mathsf{T} \\mathbf{y},\n",
    "\\end{equation}\n",
    "\n",
    "where $I_{p+1}$ is the identity matrix of $(p+1)\\times(p+1)$.\n"
   ]
  },
  {
   "cell_type": "code",
   "execution_count": 41,
   "metadata": {},
   "outputs": [
    {
     "data": {
      "text/html": [
       "<style>\n",
       "    .div-1 {\n",
       "        background-color: #EBEBEB;\n",
       "    }\n",
       "\n",
       "    .div-2 {\n",
       "    \tbackground-color: #ABBAEA;\n",
       "    }\n",
       "\n",
       "    .div-3 {\n",
       "    \tbackground-color: #FBD603;\n",
       "    }\n",
       "    .div-white {\n",
       "    \tbackground-color: #FBFBFB;\n",
       "    }\n",
       "    h1 {\n",
       "      color: #002855;\n",
       "    }\n",
       "    h2 {\n",
       "      color: #002855;\n",
       "    }\n",
       "</style>\n"
      ],
      "text/plain": [
       "<IPython.core.display.HTML object>"
      ]
     },
     "metadata": {},
     "output_type": "display_data"
    }
   ],
   "source": [
    "np.random.seed(42)\n",
    "m = 20\n",
    "X = 3 * np.random.rand(m, 1)\n",
    "y = 1 + 0.5 * X + np.random.randn(m, 1) / 1.5\n",
    "X_new = np.linspace(0, 3, 100).reshape(100, 1)"
   ]
  },
  {
   "cell_type": "code",
   "execution_count": 42,
   "metadata": {},
   "outputs": [
    {
     "data": {
      "text/html": [
       "<style>\n",
       "    .div-1 {\n",
       "        background-color: #EBEBEB;\n",
       "    }\n",
       "\n",
       "    .div-2 {\n",
       "    \tbackground-color: #ABBAEA;\n",
       "    }\n",
       "\n",
       "    .div-3 {\n",
       "    \tbackground-color: #FBD603;\n",
       "    }\n",
       "    .div-white {\n",
       "    \tbackground-color: #FBFBFB;\n",
       "    }\n",
       "    h1 {\n",
       "      color: #002855;\n",
       "    }\n",
       "    h2 {\n",
       "      color: #002855;\n",
       "    }\n",
       "</style>\n"
      ],
      "text/plain": [
       "<IPython.core.display.HTML object>"
      ]
     },
     "metadata": {},
     "output_type": "display_data"
    },
    {
     "data": {
      "text/plain": [
       "array([[1.55071465]])"
      ]
     },
     "execution_count": 42,
     "metadata": {},
     "output_type": "execute_result"
    }
   ],
   "source": [
    "from sklearn.linear_model import Ridge\n",
    "ridge_reg = Ridge(alpha=1, solver=\"cholesky\", random_state=42)\n",
    "ridge_reg.fit(X, y)\n",
    "ridge_reg.predict([[1.5]])"
   ]
  },
  {
   "cell_type": "code",
   "execution_count": 43,
   "metadata": {},
   "outputs": [
    {
     "data": {
      "text/html": [
       "<style>\n",
       "    .div-1 {\n",
       "        background-color: #EBEBEB;\n",
       "    }\n",
       "\n",
       "    .div-2 {\n",
       "    \tbackground-color: #ABBAEA;\n",
       "    }\n",
       "\n",
       "    .div-3 {\n",
       "    \tbackground-color: #FBD603;\n",
       "    }\n",
       "    .div-white {\n",
       "    \tbackground-color: #FBFBFB;\n",
       "    }\n",
       "    h1 {\n",
       "      color: #002855;\n",
       "    }\n",
       "    h2 {\n",
       "      color: #002855;\n",
       "    }\n",
       "</style>\n"
      ],
      "text/plain": [
       "<IPython.core.display.HTML object>"
      ]
     },
     "metadata": {},
     "output_type": "display_data"
    },
    {
     "data": {
      "text/plain": [
       "array([[1.55072189]])"
      ]
     },
     "execution_count": 43,
     "metadata": {},
     "output_type": "execute_result"
    }
   ],
   "source": [
    "ridge_reg = Ridge(alpha=1, solver=\"sag\", random_state=42)\n",
    "ridge_reg.fit(X, y)\n",
    "ridge_reg.predict([[1.5]])"
   ]
  },
  {
   "cell_type": "code",
   "execution_count": 44,
   "metadata": {},
   "outputs": [
    {
     "data": {
      "text/html": [
       "<style>\n",
       "    .div-1 {\n",
       "        background-color: #EBEBEB;\n",
       "    }\n",
       "\n",
       "    .div-2 {\n",
       "    \tbackground-color: #ABBAEA;\n",
       "    }\n",
       "\n",
       "    .div-3 {\n",
       "    \tbackground-color: #FBD603;\n",
       "    }\n",
       "    .div-white {\n",
       "    \tbackground-color: #FBFBFB;\n",
       "    }\n",
       "    h1 {\n",
       "      color: #002855;\n",
       "    }\n",
       "    h2 {\n",
       "      color: #002855;\n",
       "    }\n",
       "</style>\n"
      ],
      "text/plain": [
       "<IPython.core.display.HTML object>"
      ]
     },
     "metadata": {},
     "output_type": "display_data"
    },
    {
     "data": {
      "image/png": "[encoded data removed]",
      "text/plain": [
       "<Figure size 800x400 with 2 Axes>"
      ]
     },
     "metadata": {},
     "output_type": "display_data"
    }
   ],
   "source": [
    "from sklearn.linear_model import Ridge\n",
    "\n",
    "def plot_model(model_class, polynomial, alphas, **model_kargs):\n",
    "    for alpha, style in zip(alphas, (\"b-\", \"g--\", \"r:\")):\n",
    "        model = model_class(alpha, **model_kargs) if alpha > 0 else LinearRegression()\n",
    "        if polynomial:\n",
    "            model = Pipeline([\n",
    "                    (\"poly_features\", PolynomialFeatures(degree=10, include_bias=False)),\n",
    "                    (\"std_scaler\", StandardScaler()),\n",
    "                    (\"regul_reg\", model),\n",
    "                ])\n",
    "        model.fit(X, y)\n",
    "        y_new_regul = model.predict(X_new)\n",
    "        lw = 2 if alpha > 0 else 1\n",
    "        plt.plot(X_new, y_new_regul, style, linewidth=lw, label=r\"$\\alpha = {}$\".format(alpha))\n",
    "    plt.plot(X, y, \"b.\", linewidth=3)\n",
    "    plt.legend(loc=\"upper left\", fontsize=15)\n",
    "    plt.xlabel(\"$x_1$\", fontsize=18)\n",
    "    plt.axis([0, 3, 0, 4])\n",
    "\n",
    "plt.figure(figsize=(8,4))\n",
    "plt.subplot(121)\n",
    "plot_model(Ridge, polynomial=False, alphas=(0, 10, 100), random_state=42)\n",
    "plt.ylabel(\"$y$\", rotation=0, fontsize=18)\n",
    "plt.subplot(122)\n",
    "plot_model(Ridge, polynomial=True, alphas=(0, 10**-5, 1), random_state=42)"
   ]
  },
  {
   "cell_type": "markdown",
   "metadata": {},
   "source": [
    "**Note**: to be future-proof, we set `max_iter=1000` and `tol=1e-3` because these will be the default values in Scikit-Learn 0.21."
   ]
  },
  {
   "cell_type": "markdown",
   "metadata": {},
   "source": [
    "In scikit-learn, this Regularization can be achieved with the `penalty=\"l2\"` on the regressor. "
   ]
  },
  {
   "cell_type": "code",
   "execution_count": 45,
   "metadata": {},
   "outputs": [
    {
     "data": {
      "text/html": [
       "<style>\n",
       "    .div-1 {\n",
       "        background-color: #EBEBEB;\n",
       "    }\n",
       "\n",
       "    .div-2 {\n",
       "    \tbackground-color: #ABBAEA;\n",
       "    }\n",
       "\n",
       "    .div-3 {\n",
       "    \tbackground-color: #FBD603;\n",
       "    }\n",
       "    .div-white {\n",
       "    \tbackground-color: #FBFBFB;\n",
       "    }\n",
       "    h1 {\n",
       "      color: #002855;\n",
       "    }\n",
       "    h2 {\n",
       "      color: #002855;\n",
       "    }\n",
       "</style>\n"
      ],
      "text/plain": [
       "<IPython.core.display.HTML object>"
      ]
     },
     "metadata": {},
     "output_type": "display_data"
    },
    {
     "data": {
      "text/plain": [
       "array([1.47012588])"
      ]
     },
     "execution_count": 45,
     "metadata": {},
     "output_type": "execute_result"
    }
   ],
   "source": [
    "sgd_reg = SGDRegressor(penalty=\"l2\", max_iter=1000, tol=1e-3, random_state=42)\n",
    "sgd_reg.fit(X, y.ravel())\n",
    "sgd_reg.predict([[1.5]])"
   ]
  },
  {
   "cell_type": "markdown",
   "metadata": {},
   "source": [
    "## Lasso Regression\n",
    "\n",
    "The acronym “LASSO” stands for Least Absolute Shrinkage and Selection Operator and the minimization procedure happens on\n",
    "\\begin{equation}\n",
    "|| X \\theta - y||_2^2 + \\gamma || \\theta ||_1\n",
    "\\end{equation}\n",
    "\n",
    "where $||.||_1$ is the so-called Manhattan norm. Compare with the Ride regression, there is no closed form for the parameters but it is still a problem that can be solved by using numerical optimization. LASSO tends to favor so-called sparse solutions where only a few of the parameters are non-zero, and the rest are exactly zero."
   ]
  },
  {
   "cell_type": "code",
   "execution_count": 46,
   "metadata": {},
   "outputs": [
    {
     "data": {
      "text/html": [
       "<style>\n",
       "    .div-1 {\n",
       "        background-color: #EBEBEB;\n",
       "    }\n",
       "\n",
       "    .div-2 {\n",
       "    \tbackground-color: #ABBAEA;\n",
       "    }\n",
       "\n",
       "    .div-3 {\n",
       "    \tbackground-color: #FBD603;\n",
       "    }\n",
       "    .div-white {\n",
       "    \tbackground-color: #FBFBFB;\n",
       "    }\n",
       "    h1 {\n",
       "      color: #002855;\n",
       "    }\n",
       "    h2 {\n",
       "      color: #002855;\n",
       "    }\n",
       "</style>\n"
      ],
      "text/plain": [
       "<IPython.core.display.HTML object>"
      ]
     },
     "metadata": {},
     "output_type": "display_data"
    },
    {
     "name": "stderr",
     "output_type": "stream",
     "text": [
      "/Users/guilleaf/Library/Python/3.11/lib/python/site-packages/sklearn/linear_model/_coordinate_descent.py:628: ConvergenceWarning: Objective did not converge. You might want to increase the number of iterations, check the scale of the features or consider increasing regularisation. Duality gap: 2.803e+00, tolerance: 9.295e-04\n",
      "  model = cd_fast.enet_coordinate_descent(\n"
     ]
    },
    {
     "data": {
      "image/png": "[encoded data removed]",
      "text/plain": [
       "<Figure size 800x400 with 2 Axes>"
      ]
     },
     "metadata": {},
     "output_type": "display_data"
    }
   ],
   "source": [
    "from sklearn.linear_model import Lasso\n",
    "\n",
    "plt.figure(figsize=(8,4))\n",
    "plt.subplot(121)\n",
    "plot_model(Lasso, polynomial=False, alphas=(0, 0.1, 1), random_state=42)\n",
    "plt.ylabel(\"$y$\", rotation=0, fontsize=18)\n",
    "plt.subplot(122)\n",
    "plot_model(Lasso, polynomial=True, alphas=(0, 10**-7, 1), random_state=42)"
   ]
  },
  {
   "cell_type": "code",
   "execution_count": 47,
   "metadata": {},
   "outputs": [
    {
     "data": {
      "text/html": [
       "<style>\n",
       "    .div-1 {\n",
       "        background-color: #EBEBEB;\n",
       "    }\n",
       "\n",
       "    .div-2 {\n",
       "    \tbackground-color: #ABBAEA;\n",
       "    }\n",
       "\n",
       "    .div-3 {\n",
       "    \tbackground-color: #FBD603;\n",
       "    }\n",
       "    .div-white {\n",
       "    \tbackground-color: #FBFBFB;\n",
       "    }\n",
       "    h1 {\n",
       "      color: #002855;\n",
       "    }\n",
       "    h2 {\n",
       "      color: #002855;\n",
       "    }\n",
       "</style>\n"
      ],
      "text/plain": [
       "<IPython.core.display.HTML object>"
      ]
     },
     "metadata": {},
     "output_type": "display_data"
    },
    {
     "data": {
      "text/plain": [
       "array([1.53788174])"
      ]
     },
     "execution_count": 47,
     "metadata": {},
     "output_type": "execute_result"
    }
   ],
   "source": [
    "from sklearn.linear_model import Lasso\n",
    "lasso_reg = Lasso(alpha=0.1)\n",
    "lasso_reg.fit(X, y)\n",
    "lasso_reg.predict([[1.5]])"
   ]
  },
  {
   "cell_type": "markdown",
   "metadata": {},
   "source": [
    "## Elastic Net\n",
    "\n",
    "This one is a mix between Ridge and Lasso, where the minimization is now over\n",
    "\n",
    "\\begin{equation}\n",
    "|| X \\theta - y||_2^2 + \\frac{1-r}{2} \\gamma || \\theta ||_1 + r \\gamma || \\theta ||_2^2\n",
    "\\end{equation}\n",
    "\n"
   ]
  },
  {
   "cell_type": "code",
   "execution_count": 48,
   "metadata": {},
   "outputs": [
    {
     "data": {
      "text/html": [
       "<style>\n",
       "    .div-1 {\n",
       "        background-color: #EBEBEB;\n",
       "    }\n",
       "\n",
       "    .div-2 {\n",
       "    \tbackground-color: #ABBAEA;\n",
       "    }\n",
       "\n",
       "    .div-3 {\n",
       "    \tbackground-color: #FBD603;\n",
       "    }\n",
       "    .div-white {\n",
       "    \tbackground-color: #FBFBFB;\n",
       "    }\n",
       "    h1 {\n",
       "      color: #002855;\n",
       "    }\n",
       "    h2 {\n",
       "      color: #002855;\n",
       "    }\n",
       "</style>\n"
      ],
      "text/plain": [
       "<IPython.core.display.HTML object>"
      ]
     },
     "metadata": {},
     "output_type": "display_data"
    },
    {
     "data": {
      "text/plain": [
       "array([1.54333232])"
      ]
     },
     "execution_count": 48,
     "metadata": {},
     "output_type": "execute_result"
    }
   ],
   "source": [
    "from sklearn.linear_model import ElasticNet\n",
    "elastic_net = ElasticNet(alpha=0.1, l1_ratio=0.5, random_state=42)\n",
    "elastic_net.fit(X, y)\n",
    "elastic_net.predict([[1.5]])"
   ]
  },
  {
   "cell_type": "code",
   "execution_count": 49,
   "metadata": {},
   "outputs": [
    {
     "data": {
      "text/html": [
       "<style>\n",
       "    .div-1 {\n",
       "        background-color: #EBEBEB;\n",
       "    }\n",
       "\n",
       "    .div-2 {\n",
       "    \tbackground-color: #ABBAEA;\n",
       "    }\n",
       "\n",
       "    .div-3 {\n",
       "    \tbackground-color: #FBD603;\n",
       "    }\n",
       "    .div-white {\n",
       "    \tbackground-color: #FBFBFB;\n",
       "    }\n",
       "    h1 {\n",
       "      color: #002855;\n",
       "    }\n",
       "    h2 {\n",
       "      color: #002855;\n",
       "    }\n",
       "</style>\n"
      ],
      "text/plain": [
       "<IPython.core.display.HTML object>"
      ]
     },
     "metadata": {},
     "output_type": "display_data"
    }
   ],
   "source": [
    "from sklearn.model_selection import train_test_split\n",
    "np.random.seed(42)\n",
    "m = 100\n",
    "X = 6 * np.random.rand(m, 1) - 3\n",
    "y = 2 + X + 0.5 * X**2 + np.random.randn(m, 1)\n",
    "\n",
    "X_train, X_val, y_train, y_val = train_test_split(X[:50], y[:50].ravel(), test_size=0.5, random_state=10)"
   ]
  },
  {
   "cell_type": "markdown",
   "metadata": {},
   "source": [
    "## Early stopping\n",
    "\n",
    "Here the idea is to stop training as soon the validation error reaches a minimum"
   ]
  },
  {
   "cell_type": "code",
   "execution_count": 50,
   "metadata": {
    "scrolled": true
   },
   "outputs": [
    {
     "data": {
      "text/html": [
       "<style>\n",
       "    .div-1 {\n",
       "        background-color: #EBEBEB;\n",
       "    }\n",
       "\n",
       "    .div-2 {\n",
       "    \tbackground-color: #ABBAEA;\n",
       "    }\n",
       "\n",
       "    .div-3 {\n",
       "    \tbackground-color: #FBD603;\n",
       "    }\n",
       "    .div-white {\n",
       "    \tbackground-color: #FBFBFB;\n",
       "    }\n",
       "    h1 {\n",
       "      color: #002855;\n",
       "    }\n",
       "    h2 {\n",
       "      color: #002855;\n",
       "    }\n",
       "</style>\n"
      ],
      "text/plain": [
       "<IPython.core.display.HTML object>"
      ]
     },
     "metadata": {},
     "output_type": "display_data"
    }
   ],
   "source": [
    "from sklearn.base import clone\n",
    "from sklearn.metrics import mean_squared_error\n",
    "\n",
    "poly_scaler = Pipeline([\n",
    "        (\"poly_features\", PolynomialFeatures(degree=90, include_bias=False)),\n",
    "        (\"std_scaler\", StandardScaler())\n",
    "    ])\n",
    "\n",
    "X_train_poly_scaled = poly_scaler.fit_transform(X_train)\n",
    "X_val_poly_scaled = poly_scaler.transform(X_val)\n",
    "\n",
    "sgd_reg = SGDRegressor(max_iter=7, tol=1E4, warm_start=True, \n",
    "                       penalty=None, learning_rate=\"constant\", eta0=0.0005, random_state=42)\n",
    "\n",
    "minimum_val_error = float(\"inf\")\n",
    "best_epoch = None\n",
    "best_model = None\n",
    "for epoch in range(1000):\n",
    "    sgd_reg.fit(X_train_poly_scaled, y_train)  # continues where it left off\n",
    "    y_val_predict = sgd_reg.predict(X_val_poly_scaled)\n",
    "    val_error = mean_squared_error(y_val, y_val_predict)\n",
    "    if val_error < minimum_val_error:\n",
    "        minimum_val_error = val_error\n",
    "        best_epoch = epoch\n",
    "        best_model = clone(sgd_reg)"
   ]
  },
  {
   "cell_type": "markdown",
   "metadata": {},
   "source": [
    "Create the graph:"
   ]
  },
  {
   "cell_type": "code",
   "execution_count": 51,
   "metadata": {},
   "outputs": [
    {
     "data": {
      "text/html": [
       "<style>\n",
       "    .div-1 {\n",
       "        background-color: #EBEBEB;\n",
       "    }\n",
       "\n",
       "    .div-2 {\n",
       "    \tbackground-color: #ABBAEA;\n",
       "    }\n",
       "\n",
       "    .div-3 {\n",
       "    \tbackground-color: #FBD603;\n",
       "    }\n",
       "    .div-white {\n",
       "    \tbackground-color: #FBFBFB;\n",
       "    }\n",
       "    h1 {\n",
       "      color: #002855;\n",
       "    }\n",
       "    h2 {\n",
       "      color: #002855;\n",
       "    }\n",
       "</style>\n"
      ],
      "text/plain": [
       "<IPython.core.display.HTML object>"
      ]
     },
     "metadata": {},
     "output_type": "display_data"
    },
    {
     "data": {
      "text/plain": [
       "Text(0, 0.5, 'RMSE')"
      ]
     },
     "execution_count": 51,
     "metadata": {},
     "output_type": "execute_result"
    },
    {
     "data": {
      "image/png": "[encoded data removed]",
      "text/plain": [
       "<Figure size 640x480 with 1 Axes>"
      ]
     },
     "metadata": {},
     "output_type": "display_data"
    }
   ],
   "source": [
    "sgd_reg = SGDRegressor(max_iter=7, tol=1E4, warm_start=True,\n",
    "                       penalty=None, learning_rate=\"constant\", eta0=0.0005, random_state=42)\n",
    "\n",
    "n_epochs = 500\n",
    "train_errors, val_errors = [], []\n",
    "for epoch in range(n_epochs):\n",
    "    sgd_reg.fit(X_train_poly_scaled, y_train)\n",
    "    y_train_predict = sgd_reg.predict(X_train_poly_scaled)\n",
    "    y_val_predict = sgd_reg.predict(X_val_poly_scaled)\n",
    "    train_errors.append(mean_squared_error(y_train, y_train_predict))\n",
    "    val_errors.append(mean_squared_error(y_val, y_val_predict))\n",
    "\n",
    "best_epoch = np.argmin(val_errors)\n",
    "best_val_rmse = np.sqrt(val_errors[best_epoch])\n",
    "\n",
    "plt.annotate('Best model',\n",
    "             xy=(best_epoch, best_val_rmse),\n",
    "             xytext=(best_epoch, best_val_rmse + 1),\n",
    "             ha=\"center\",\n",
    "             arrowprops=dict(facecolor='black', shrink=0.05),\n",
    "             fontsize=16,\n",
    "            )\n",
    "\n",
    "best_val_rmse -= 0.03  # just to make the graph look better\n",
    "plt.plot([0, n_epochs], [best_val_rmse, best_val_rmse], \"k:\", linewidth=2)\n",
    "plt.plot(np.sqrt(val_errors), \"b-\", linewidth=3, label=\"Validation set\")\n",
    "plt.plot(np.sqrt(train_errors), \"r--\", linewidth=2, label=\"Training set\")\n",
    "plt.legend(loc=\"upper right\", fontsize=14)\n",
    "plt.xlabel(\"Epoch\", fontsize=14)\n",
    "plt.ylabel(\"RMSE\", fontsize=14)"
   ]
  },
  {
   "cell_type": "code",
   "execution_count": 52,
   "metadata": {},
   "outputs": [
    {
     "data": {
      "text/html": [
       "<style>\n",
       "    .div-1 {\n",
       "        background-color: #EBEBEB;\n",
       "    }\n",
       "\n",
       "    .div-2 {\n",
       "    \tbackground-color: #ABBAEA;\n",
       "    }\n",
       "\n",
       "    .div-3 {\n",
       "    \tbackground-color: #FBD603;\n",
       "    }\n",
       "    .div-white {\n",
       "    \tbackground-color: #FBFBFB;\n",
       "    }\n",
       "    h1 {\n",
       "      color: #002855;\n",
       "    }\n",
       "    h2 {\n",
       "      color: #002855;\n",
       "    }\n",
       "</style>\n"
      ],
      "text/plain": [
       "<IPython.core.display.HTML object>"
      ]
     },
     "metadata": {},
     "output_type": "display_data"
    },
    {
     "data": {
      "text/plain": [
       "(499,\n",
       " SGDRegressor(eta0=0.0005, learning_rate='constant', max_iter=7, penalty=None,\n",
       "              random_state=42, tol=10000.0, warm_start=True))"
      ]
     },
     "execution_count": 52,
     "metadata": {},
     "output_type": "execute_result"
    }
   ],
   "source": [
    "best_epoch, best_model"
   ]
  },
  {
   "cell_type": "code",
   "execution_count": 53,
   "metadata": {},
   "outputs": [
    {
     "data": {
      "text/html": [
       "<style>\n",
       "    .div-1 {\n",
       "        background-color: #EBEBEB;\n",
       "    }\n",
       "\n",
       "    .div-2 {\n",
       "    \tbackground-color: #ABBAEA;\n",
       "    }\n",
       "\n",
       "    .div-3 {\n",
       "    \tbackground-color: #FBD603;\n",
       "    }\n",
       "    .div-white {\n",
       "    \tbackground-color: #FBFBFB;\n",
       "    }\n",
       "    h1 {\n",
       "      color: #002855;\n",
       "    }\n",
       "    h2 {\n",
       "      color: #002855;\n",
       "    }\n",
       "</style>\n"
      ],
      "text/plain": [
       "<IPython.core.display.HTML object>"
      ]
     },
     "metadata": {},
     "output_type": "display_data"
    }
   ],
   "source": [
    "t1a, t1b, t2a, t2b = -1, 3, -1.5, 1.5\n",
    "\n",
    "t1s = np.linspace(t1a, t1b, 500)\n",
    "t2s = np.linspace(t2a, t2b, 500)\n",
    "t1, t2 = np.meshgrid(t1s, t2s)\n",
    "T = np.c_[t1.ravel(), t2.ravel()]\n",
    "Xr = np.array([[1, 1], [1, -1], [1, 0.5]])\n",
    "yr = 2 * Xr[:, :1] + 0.5 * Xr[:, 1:]\n",
    "\n",
    "J = (1/len(Xr) * np.sum((T.dot(Xr.T) - yr.T)**2, axis=1)).reshape(t1.shape)\n",
    "\n",
    "N1 = np.linalg.norm(T, ord=1, axis=1).reshape(t1.shape)\n",
    "N2 = np.linalg.norm(T, ord=2, axis=1).reshape(t1.shape)\n",
    "\n",
    "t_min_idx = np.unravel_index(np.argmin(J), J.shape)\n",
    "t1_min, t2_min = t1[t_min_idx], t2[t_min_idx]\n",
    "\n",
    "t_init = np.array([[0.25], [-1]])"
   ]
  },
  {
   "cell_type": "code",
   "execution_count": 54,
   "metadata": {},
   "outputs": [
    {
     "data": {
      "text/html": [
       "<style>\n",
       "    .div-1 {\n",
       "        background-color: #EBEBEB;\n",
       "    }\n",
       "\n",
       "    .div-2 {\n",
       "    \tbackground-color: #ABBAEA;\n",
       "    }\n",
       "\n",
       "    .div-3 {\n",
       "    \tbackground-color: #FBD603;\n",
       "    }\n",
       "    .div-white {\n",
       "    \tbackground-color: #FBFBFB;\n",
       "    }\n",
       "    h1 {\n",
       "      color: #002855;\n",
       "    }\n",
       "    h2 {\n",
       "      color: #002855;\n",
       "    }\n",
       "</style>\n"
      ],
      "text/plain": [
       "<IPython.core.display.HTML object>"
      ]
     },
     "metadata": {},
     "output_type": "display_data"
    },
    {
     "data": {
      "image/png": "[encoded data removed]",
      "text/plain": [
       "<Figure size 1010x800 with 4 Axes>"
      ]
     },
     "metadata": {},
     "output_type": "display_data"
    }
   ],
   "source": [
    "def bgd_path(theta, X, y, l1, l2, core = 1, eta = 0.05, n_iterations = 200):\n",
    "    path = [theta]\n",
    "    for iteration in range(n_iterations):\n",
    "        gradients = core * 2/len(X) * X.T.dot(X.dot(theta) - y) + l1 * np.sign(theta) + l2 * theta\n",
    "        theta = theta - eta * gradients\n",
    "        path.append(theta)\n",
    "    return np.array(path)\n",
    "\n",
    "fig, axes = plt.subplots(2, 2, sharex=True, sharey=True, figsize=(10.1, 8))\n",
    "for i, N, l1, l2, title in ((0, N1, 2., 0, \"Lasso\"), (1, N2, 0,  2., \"Ridge\")):\n",
    "    JR = J + l1 * N1 + l2 * 0.5 * N2**2\n",
    "    \n",
    "    tr_min_idx = np.unravel_index(np.argmin(JR), JR.shape)\n",
    "    t1r_min, t2r_min = t1[tr_min_idx], t2[tr_min_idx]\n",
    "\n",
    "    levelsJ=(np.exp(np.linspace(0, 1, 20)) - 1) * (np.max(J) - np.min(J)) + np.min(J)\n",
    "    levelsJR=(np.exp(np.linspace(0, 1, 20)) - 1) * (np.max(JR) - np.min(JR)) + np.min(JR)\n",
    "    levelsN=np.linspace(0, np.max(N), 10)\n",
    "    \n",
    "    path_J = bgd_path(t_init, Xr, yr, l1=0, l2=0)\n",
    "    path_JR = bgd_path(t_init, Xr, yr, l1, l2)\n",
    "    path_N = bgd_path(np.array([[2.0], [0.5]]), Xr, yr, np.sign(l1)/3, np.sign(l2), core=0)\n",
    "\n",
    "    ax = axes[i, 0]\n",
    "    ax.grid(True)\n",
    "    ax.axhline(y=0, color='k')\n",
    "    ax.axvline(x=0, color='k')\n",
    "    ax.contourf(t1, t2, N / 2., levels=levelsN)\n",
    "    ax.plot(path_N[:, 0], path_N[:, 1], \"y--\")\n",
    "    ax.plot(0, 0, \"ys\")\n",
    "    ax.plot(t1_min, t2_min, \"ys\")\n",
    "    ax.set_title(r\"$\\ell_{}$ penalty\".format(i + 1), fontsize=16)\n",
    "    ax.axis([t1a, t1b, t2a, t2b])\n",
    "    if i == 1:\n",
    "        ax.set_xlabel(r\"$\\theta_1$\", fontsize=16)\n",
    "    ax.set_ylabel(r\"$\\theta_2$\", fontsize=16, rotation=0)\n",
    "\n",
    "    ax = axes[i, 1]\n",
    "    ax.grid(True)\n",
    "    ax.axhline(y=0, color='k')\n",
    "    ax.axvline(x=0, color='k')\n",
    "    ax.contourf(t1, t2, JR, levels=levelsJR, alpha=0.9)\n",
    "    ax.plot(path_JR[:, 0], path_JR[:, 1], \"w-o\")\n",
    "    ax.plot(path_N[:, 0], path_N[:, 1], \"y--\")\n",
    "    ax.plot(0, 0, \"ys\")\n",
    "    ax.plot(t1_min, t2_min, \"ys\")\n",
    "    ax.plot(t1r_min, t2r_min, \"rs\")\n",
    "    ax.set_title(title, fontsize=16)\n",
    "    ax.axis([t1a, t1b, t2a, t2b])\n",
    "    if i == 1:\n",
    "        ax.set_xlabel(r\"$\\theta_1$\", fontsize=16)\n"
   ]
  },
  {
   "cell_type": "markdown",
   "metadata": {},
   "source": [
    "# Logistic regression\n",
    "\n",
    "Despite of its name Logistic regression is often used as a classifier used to estimate the probability of a given instance belonging to a class"
   ]
  },
  {
   "cell_type": "code",
   "execution_count": 55,
   "metadata": {
    "scrolled": true
   },
   "outputs": [
    {
     "data": {
      "text/html": [
       "<style>\n",
       "    .div-1 {\n",
       "        background-color: #EBEBEB;\n",
       "    }\n",
       "\n",
       "    .div-2 {\n",
       "    \tbackground-color: #ABBAEA;\n",
       "    }\n",
       "\n",
       "    .div-3 {\n",
       "    \tbackground-color: #FBD603;\n",
       "    }\n",
       "    .div-white {\n",
       "    \tbackground-color: #FBFBFB;\n",
       "    }\n",
       "    h1 {\n",
       "      color: #002855;\n",
       "    }\n",
       "    h2 {\n",
       "      color: #002855;\n",
       "    }\n",
       "</style>\n"
      ],
      "text/plain": [
       "<IPython.core.display.HTML object>"
      ]
     },
     "metadata": {},
     "output_type": "display_data"
    },
    {
     "data": {
      "text/plain": [
       "(-10.0, 10.0, -0.1, 1.1)"
      ]
     },
     "execution_count": 55,
     "metadata": {},
     "output_type": "execute_result"
    },
    {
     "data": {
      "image/png": "[encoded data removed]",
      "text/plain": [
       "<Figure size 900x300 with 1 Axes>"
      ]
     },
     "metadata": {},
     "output_type": "display_data"
    }
   ],
   "source": [
    "t = np.linspace(-10, 10, 100)\n",
    "sig = 1 / (1 + np.exp(-t))\n",
    "plt.figure(figsize=(9, 3))\n",
    "plt.plot([-10, 10], [0, 0], \"k-\")\n",
    "plt.plot([-10, 10], [0.5, 0.5], \"k:\")\n",
    "plt.plot([-10, 10], [1, 1], \"k:\")\n",
    "plt.plot([0, 0], [-1.1, 1.1], \"k-\")\n",
    "plt.plot(t, sig, \"b-\", linewidth=2, label=r\"$\\sigma(t) = \\frac{1}{1 + e^{-t}}$\")\n",
    "plt.xlabel(\"t\")\n",
    "plt.legend(loc=\"upper left\", fontsize=20)\n",
    "plt.axis([-10, 10, -0.1, 1.1])"
   ]
  },
  {
   "cell_type": "markdown",
   "metadata": {},
   "source": [
    "The logistic regression was used in a previous notebook for the Iris Dataset"
   ]
  },
  {
   "cell_type": "markdown",
   "metadata": {},
   "source": [
    "---\n",
    "\n",
    "# Acknowledgments\n",
    "\n",
    "This notebook is based on a variety of sources, usually other notebooks, the material was adapted to the topics covered during lessons. In some cases, the original notebooks were created for Python 2.x or older versions of Scikit-learn or Tensorflow and they have to be adapted to at least Python 3.7. \n",
    " \n",
    "We acknowledge the support of the National Science Foundation and the US Department of Energy under projects: DMREF-NSF 1434897, NSF OAC-1740111 and DOE DE-SC0016176 is recognized.\n",
    "\n",
    "<div style=\"clear: both; display: table;\">\n",
    "<div style=\"border: none; float: left; width: 40%; padding: 10px\">\n",
    "<img src=\"fig/NSF.jpg\" alt=\"National Science Foundation\" style=\"width:50%\" align=\"left\">\n",
    "    </div>\n",
    "    <div style=\"border: none; float: right; width: 40%; padding: 10px\">\n",
    "<img src=\"fig/DOE.jpg\" alt=\"National Science Foundation\" style=\"width:50%\" align=\"right\">\n",
    "</div>"
   ]
  },
  {
   "cell_type": "markdown",
   "metadata": {},
   "source": [
    "---\n",
    "\n",
    "# References\n",
    "\n",
    "The snippets above are meant only to give a brief introduction to some of the most popular techniques in machine learning so you can decide whether this kind of analysis might be useful in your research. If it seems like machine learning will be important in your work, you may want to check out some of the resources listed below (arranged roughly from least to most technical):\n",
    "\n",
    "This list is by no means an exhaustive list of books and resources. I am listing the books from which I took inspiration. Also, I am listing materials where I found better ways to present topics. Often I am amazed by how people can create approachable materials for seemingly dry subjects.\n",
    "\n",
    "The order of the books goes from divulgation and practical to the more rigorous and mathematical. Slides, blogs, and videos are those I have found over the internet or suggested by others.\n",
    "\n",
    "### Selection of Books on Machine Learning\n",
    "\n",
    "<br>\n",
    "<div style=\"clear: both; display: table;\">\n",
    "  <div style=\"border: none; float: left; width: 200; padding: 5px\">\n",
    "  <img alt=\"Hands-On Machine Learning  with Scikit-Learn and TensorFlow\" \n",
    "       src=\"./fig/books/Hands-On Machine Learning  with Scikit-Learn and TensorFlow.jpg\" \n",
    "       height=\"100\" width=\"100\"  />\n",
    "  </div>\n",
    "  <div style=\"border: none; float: left; width: 800; padding: 5px\">\n",
    "      Hands-On Machine Learning  with Scikit-Learn and TensorFlow (First Edition [There is a second edition])<br>\n",
    "      Auréleien Géron<br>\n",
    "      2017<br>\n",
    "  </div>\n",
    "</div>\n",
    "\n",
    "<br>\n",
    "<div style=\"clear: both; display: table;\">\n",
    "  <div style=\"border: none; float: left; width: 200; padding: 5px\">\n",
    "  <img alt=\"Python Machine Learning - Raschka\" \n",
    "       src=\"./fig/books/Python Machine Learning - Raschka.jpg\" \n",
    "       height=\"100\" width=\"100\"  />\n",
    "  </div>\n",
    "  <div style=\"border: none; float: left; width: 800; padding: 5px\">\n",
    "      Machine Learning, a Probabilistic Perspective<br>\n",
    "      Sebastian Raschka and Vahid Mirjalili<br>\n",
    "      2017<br>\n",
    "  </div>\n",
    "</div>\n",
    "\n",
    "<br>\n",
    "<div style=\"clear: both; display: table;\">\n",
    "  <div style=\"border: none; float: left; width: 200; padding: 5px\">\n",
    "  <img alt=\"Foundations of Machine Learning - Mohri\" \n",
    "       src=\"./fig/books/Foundations of Machine Learning - Mohri.jpg\" \n",
    "       height=\"100\" width=\"100\"  />\n",
    "  </div>\n",
    "  <div style=\"border: none; float: left; width: 800; padding: 5px\">\n",
    "      Foundations of Machine Learning (Second Edition)<br>\n",
    "      Mehryar Mohri, Afshin Rostamizadeh and Ameet Talwalkar<br>\n",
    "      2018<br>\n",
    "  </div>\n",
    "</div>\n",
    "\n",
    "<br>\n",
    "<div style=\"clear: both; display: table;\">\n",
    "  <div style=\"border: none; float: left; width: 200; padding: 5px\">\n",
    "  <img alt=\"Introduction to Machine Learning - Alpaydin\" \n",
    "       src=\"./fig/books/Introduction to Machine Learning - Alpaydin.jpg\" \n",
    "       height=\"100\" width=\"100\"  />\n",
    "  </div>\n",
    "  <div style=\"border: none; float: left; width: 800; padding: 5px\">\n",
    "      Introduction to Machine Learning (Fourth Edition)<br>\n",
    "      Ethem Alpaydin<br>\n",
    "      2020<br>\n",
    "  </div>\n",
    "</div>\n",
    "\n",
    "<br>\n",
    "<div style=\"clear: both; display: table;\">\n",
    "  <div style=\"border: none; float: left; width: 200; padding: 5px\">\n",
    "  <img alt=\"Machine Learning, a Probabilistic Perspective - Murphy\" \n",
    "       src=\"./fig/books/Machine Learning, a Probabilistic Perspective - Murphy.jpg\" \n",
    "       height=\"100\" width=\"100\"  />\n",
    "  </div>\n",
    "  <div style=\"border: none; float: left; width: 800; padding: 5px\">\n",
    "      Machine Learning, a Probabilistic Perspective<br>\n",
    "      Kevin P. Murphy<br>\n",
    "      2012<br>\n",
    "  </div>\n",
    "</div>\n",
    "\n",
    "<br>\n",
    "<div style=\"clear: both; display: table;\">\n",
    "  <div style=\"border: none; float: left; width: 200; padding: 5px\">\n",
    "  <img alt=\"Elements of Statistical Learning - Hastie\" \n",
    "       src=\"./fig/books/Elements of Statistical Learning - Hastie.jpg\" \n",
    "       height=\"100\" width=\"100\"  />\n",
    "  </div>\n",
    "  <div style=\"border: none; float: left; width: 800; padding: 5px\">\n",
    "      <a href=\"https://hastie.su.domains/Papers/ESLII.pdf\">Elements of Statistical Learning</a><br>\n",
    "      Trevor Hastie, Robert Tibshirani, and Jerome Friedman<br>\n",
    "      2008<br>\n",
    "  </div>\n",
    "</div>\n",
    "\n",
    "\n",
    "### Jupyter Notebooks\n",
    "\n",
    " * [Yale Digital Humanities Lab](https://github.com/YaleDHLab/lab-workshops)\n",
    " \n",
    " * Aurelien Geron Hands-on Machine Learning with Scikit-learn \n",
    "   [First Edition](https://github.com/ageron/handson-ml) and\n",
    "   [Second Edition](https://github.com/ageron/handson-ml2)\n",
    "   \n",
    " * [A progressive collection notebooks of the Machine Learning course by the University of Turin](https://github.com/rugantio/MachineLearningCourse)\n",
    "   \n",
    " * [A curated set of jupyter notebooks about many topics](https://github.com/jupyter/jupyter/wiki/A-gallery-of-interesting-Jupyter-Notebooks)\n",
    "   \n",
    "### Videos\n",
    "\n",
    " * [Caltech's \"Learning from Data\" by Professor Yaser Abu-Mostafa](https://work.caltech.edu/telecourse.html)\n",
    " \n",
    "\n",
    " * [A Friendly Introduction to Machine Learning](https://www.youtube.com/watch?v=IpGxLWOIZy4)\n",
    "\n",
    "In this 30-minute video, Luis Serrano (head of the machine learning at Udacity) offers intuitive, user-friendly introductions to the mechanics that drive several machine learning models, including Naive Bayes, Decision Tree, Logistic Regression, Neural Network, and Support Vector Machine classifiers. This video is a great place to start for those looking for quick intuitions about the ways these algorithms work.\n",
    "\n",
    " * [Hands-On Machine Learning with Scikit-Learn and TensorFlow (OREILLY)](http://shop.oreilly.com/product/0636920052289.do)\n",
    "\n",
    "This OREILLY book offers a great high-level introduction to machine learning with Python. Aurélien Géron guides readers through ways one can use scikit-learn and other popular libraries to build machine learning models in Python. This is a great choice for those who just want to get work done, without necessarily unlocking the insights that would allow one to build models from scratch.\n",
    "\n",
    " * [Machine Learning Cheatsheets](https://becominghuman.ai/cheat-sheets-for-ai-neural-networks-machine-learning-deep-learning-big-data-678c51b4b463)\n",
    "\n",
    "This collection of \"cheat sheets\" gives concise overviews of the API's and models behind many of the most prominent packages and concepts in machine learning and its allied fields, including different neural network architectures, numerical optimization techniques, algorithms appropriate for different tasks, scikit-learn, pandas, scikit-learn, scipy, ggpot2, dplyr and tidyr, big O notation, and several other topics. Recently identified as the \"most popular\" article on machine learning in Medium.\n",
    "\n",
    " * [Mining of Massive Datasets](http://www.mmds.org/)\n",
    "\n",
    "This Stanford University course and digital publication offer introductions to a wide array of subtopics in machine learning. The authors focus on helping readers gain an intuitive understanding of how machine learning models work. One of the most lucid and concise treatments of machine learning available on the web.\n",
    "\n",
    " * [Convolutional Neural Networks for Visual Recognition](http://cs231n.stanford.edu/)\n",
    "\n",
    "This Stanford University course offers a spectacular introduction to Convolutional Neural Networks, the cornerstone of modern machine learning in the domain of computer vision. If your work involves images or video materials, and you'd like to apply machine learning techniques to your data, this course will help you get up and running with state-of-the-art techniques in convnets.\n",
    "\n",
    " * [Machine Learning (Andrew Ng, Coursera)](https://www.coursera.org/learn/machine-learning)\n",
    "\n",
    "Andrew Ng's Coursera course on machine learning will help you master many of the fundamentals involved in modern machine learning. Professor Ng will guide you through a great deal of the math involved in contemporary machine learning, starting with simple linear classifiers and building up into complex neural network architectures. This class is ideal for those who like to understand the math behind the models they use.\n",
    " \n",
    " ---"
   ]
  },
  {
   "cell_type": "markdown",
   "metadata": {},
   "source": [
    "# Back of the Book"
   ]
  },
  {
   "cell_type": "code",
   "execution_count": 56,
   "metadata": {
    "scrolled": true
   },
   "outputs": [
    {
     "data": {
      "text/html": [
       "<style>\n",
       "    .div-1 {\n",
       "        background-color: #EBEBEB;\n",
       "    }\n",
       "\n",
       "    .div-2 {\n",
       "    \tbackground-color: #ABBAEA;\n",
       "    }\n",
       "\n",
       "    .div-3 {\n",
       "    \tbackground-color: #FBD603;\n",
       "    }\n",
       "    .div-white {\n",
       "    \tbackground-color: #FBFBFB;\n",
       "    }\n",
       "    h1 {\n",
       "      color: #002855;\n",
       "    }\n",
       "    h2 {\n",
       "      color: #002855;\n",
       "    }\n",
       "</style>\n"
      ],
      "text/plain": [
       "<IPython.core.display.HTML object>"
      ]
     },
     "metadata": {},
     "output_type": "display_data"
    },
    {
     "data": {
      "image/png": "[encoded data removed]",
      "text/plain": [
       "<Figure size 300x300 with 1 Axes>"
      ]
     },
     "metadata": {},
     "output_type": "display_data"
    }
   ],
   "source": [
    "plt.figure(figsize=(3,3))\n",
    "n = chapter_number\n",
    "maxt=(2*(n-1)+3)*np.pi/2\n",
    "t = np.linspace(np.pi/2, maxt, 1000)\n",
    "tt= 1.0/(t+0.01)\n",
    "x = (maxt-t)*np.cos(t)**3\n",
    "y = t*np.sqrt(np.abs(np.cos(t))) + np.sin(0.3*t)*np.cos(2*t)\n",
    "plt.plot(x, y, c=\"green\")\n",
    "plt.axis('off');"
   ]
  },
  {
   "cell_type": "code",
   "execution_count": 57,
   "metadata": {},
   "outputs": [
    {
     "data": {
      "text/html": [
       "<style>\n",
       "    .div-1 {\n",
       "        background-color: #EBEBEB;\n",
       "    }\n",
       "\n",
       "    .div-2 {\n",
       "    \tbackground-color: #ABBAEA;\n",
       "    }\n",
       "\n",
       "    .div-3 {\n",
       "    \tbackground-color: #FBD603;\n",
       "    }\n",
       "    .div-white {\n",
       "    \tbackground-color: #FBFBFB;\n",
       "    }\n",
       "    h1 {\n",
       "      color: #002855;\n",
       "    }\n",
       "    h2 {\n",
       "      color: #002855;\n",
       "    }\n",
       "</style>\n"
      ],
      "text/plain": [
       "<IPython.core.display.HTML object>"
      ]
     },
     "metadata": {},
     "output_type": "display_data"
    },
    {
     "name": "stdout",
     "output_type": "stream",
     "text": [
      "Chapter 4 run in 11 seconds\n"
     ]
    }
   ],
   "source": [
    "end = time.time()\n",
    "print(f'Chapter {chapter_number} run in {int(end - start):d} seconds')"
   ]
  }
 ],
 "metadata": {
  "kernelspec": {
   "display_name": "Python 3 (ipykernel)",
   "language": "python",
   "name": "python3"
  },
  "language_info": {
   "codemirror_mode": {
    "name": "ipython",
    "version": 3
   },
   "file_extension": ".py",
   "mimetype": "text/x-python",
   "name": "python",
   "nbconvert_exporter": "python",
   "pygments_lexer": "ipython3",
   "version": "3.11.6"
  },
  "nav_menu": {},
  "toc": {
   "navigate_menu": true,
   "number_sections": true,
   "sideBar": true,
   "threshold": 6,
   "toc_cell": false,
   "toc_section_display": "block",
   "toc_window_display": false
  }
 },
 "nbformat": 4,
 "nbformat_minor": 4
}
