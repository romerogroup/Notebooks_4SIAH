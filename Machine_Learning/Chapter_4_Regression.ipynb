{
  "cells": [
    {
      "cell_type": "markdown",
      "metadata": {
        "id": "W1EOCL6iZLp_"
      },
      "source": [
        "![Machine Learning for Scientists in a hurry](https://github.com/romerogroup/Notebooks_4SIAH/blob/main/Machine_Learning/fig/Title_ML.png?raw=1)"
      ]
    },
    {
      "cell_type": "markdown",
      "metadata": {
        "id": "s4wkORhHZLqB"
      },
      "source": [
        "# Boilerplate"
      ]
    },
    {
      "cell_type": "code",
      "source": [
        "!if [ ! -f helpers.py ]; then wget \"https://raw.githubusercontent.com/romerogroup/Notebooks_4SIAH/main/Machine_Learning/helpers.py\"; fi"
      ],
      "metadata": {
        "id": "QBawcd9aZRJC"
      },
      "execution_count": 1,
      "outputs": []
    },
    {
      "cell_type": "code",
      "source": [
        "# import some custom helper code\n",
        "import helpers\n",
        "from helpers import set_css_in_cell_output\n",
        "get_ipython().events.register('pre_run_cell', set_css_in_cell_output)"
      ],
      "metadata": {
        "id": "joSC9eyAZeN1"
      },
      "execution_count": 2,
      "outputs": []
    },
    {
      "cell_type": "code",
      "execution_count": 3,
      "metadata": {
        "id": "bWXSeN2pZLrC",
        "outputId": "4bbde007-a2ee-43e0-9b2b-9b5737bcb358",
        "colab": {
          "base_uri": "https://localhost:8080/",
          "height": 349
        }
      },
      "outputs": [
        {
          "output_type": "display_data",
          "data": {
            "text/plain": [
              "<IPython.core.display.HTML object>"
            ],
            "text/html": [
              "<style>\n",
              "    .div-1 {\n",
              "        background-color: #EBEBEB;\n",
              "    }\n",
              "\n",
              "    .div-2 {\n",
              "    \tbackground-color: #ABBAEA;\n",
              "    }\n",
              "\n",
              "    .div-3 {\n",
              "    \tbackground-color: #FBD603;\n",
              "    }\n",
              "    .div-white {\n",
              "    \tbackground-color: #FFFFFF;\n",
              "    }\n",
              "    h1 {\n",
              "      color: #002855;\n",
              "    }\n",
              "    h2 {\n",
              "      color: #002855;\n",
              "    }\n",
              "</style>\n"
            ]
          },
          "metadata": {}
        },
        {
          "output_type": "stream",
          "name": "stdout",
          "text": [
            "Requirement already satisfied: watermark in /usr/local/lib/python3.10/dist-packages (2.4.3)\n",
            "Requirement already satisfied: ipython>=6.0 in /usr/local/lib/python3.10/dist-packages (from watermark) (7.34.0)\n",
            "Requirement already satisfied: importlib-metadata>=1.4 in /usr/local/lib/python3.10/dist-packages (from watermark) (6.8.0)\n",
            "Requirement already satisfied: setuptools in /usr/local/lib/python3.10/dist-packages (from watermark) (67.7.2)\n",
            "Requirement already satisfied: zipp>=0.5 in /usr/local/lib/python3.10/dist-packages (from importlib-metadata>=1.4->watermark) (3.17.0)\n",
            "Requirement already satisfied: jedi>=0.16 in /usr/local/lib/python3.10/dist-packages (from ipython>=6.0->watermark) (0.19.1)\n",
            "Requirement already satisfied: decorator in /usr/local/lib/python3.10/dist-packages (from ipython>=6.0->watermark) (4.4.2)\n",
            "Requirement already satisfied: pickleshare in /usr/local/lib/python3.10/dist-packages (from ipython>=6.0->watermark) (0.7.5)\n",
            "Requirement already satisfied: traitlets>=4.2 in /usr/local/lib/python3.10/dist-packages (from ipython>=6.0->watermark) (5.7.1)\n",
            "Requirement already satisfied: prompt-toolkit!=3.0.0,!=3.0.1,<3.1.0,>=2.0.0 in /usr/local/lib/python3.10/dist-packages (from ipython>=6.0->watermark) (3.0.39)\n",
            "Requirement already satisfied: pygments in /usr/local/lib/python3.10/dist-packages (from ipython>=6.0->watermark) (2.16.1)\n",
            "Requirement already satisfied: backcall in /usr/local/lib/python3.10/dist-packages (from ipython>=6.0->watermark) (0.2.0)\n",
            "Requirement already satisfied: matplotlib-inline in /usr/local/lib/python3.10/dist-packages (from ipython>=6.0->watermark) (0.1.6)\n",
            "Requirement already satisfied: pexpect>4.3 in /usr/local/lib/python3.10/dist-packages (from ipython>=6.0->watermark) (4.8.0)\n",
            "Requirement already satisfied: parso<0.9.0,>=0.8.3 in /usr/local/lib/python3.10/dist-packages (from jedi>=0.16->ipython>=6.0->watermark) (0.8.3)\n",
            "Requirement already satisfied: ptyprocess>=0.5 in /usr/local/lib/python3.10/dist-packages (from pexpect>4.3->ipython>=6.0->watermark) (0.7.0)\n",
            "Requirement already satisfied: wcwidth in /usr/local/lib/python3.10/dist-packages (from prompt-toolkit!=3.0.0,!=3.0.1,<3.1.0,>=2.0.0->ipython>=6.0->watermark) (0.2.8)\n"
          ]
        }
      ],
      "source": [
        "!pip install watermark"
      ]
    },
    {
      "cell_type": "code",
      "execution_count": 4,
      "metadata": {
        "id": "V-RpIq8WZLrE",
        "outputId": "28dc0aad-bd2f-4c19-cf32-f2a566b7f592",
        "colab": {
          "base_uri": "https://localhost:8080/",
          "height": 321
        }
      },
      "outputs": [
        {
          "output_type": "display_data",
          "data": {
            "text/plain": [
              "<IPython.core.display.HTML object>"
            ],
            "text/html": [
              "<style>\n",
              "    .div-1 {\n",
              "        background-color: #EBEBEB;\n",
              "    }\n",
              "\n",
              "    .div-2 {\n",
              "    \tbackground-color: #ABBAEA;\n",
              "    }\n",
              "\n",
              "    .div-3 {\n",
              "    \tbackground-color: #FBD603;\n",
              "    }\n",
              "    .div-white {\n",
              "    \tbackground-color: #FFFFFF;\n",
              "    }\n",
              "    h1 {\n",
              "      color: #002855;\n",
              "    }\n",
              "    h2 {\n",
              "      color: #002855;\n",
              "    }\n",
              "</style>\n"
            ]
          },
          "metadata": {}
        },
        {
          "output_type": "display_data",
          "data": {
            "text/plain": [
              "<IPython.core.display.HTML object>"
            ],
            "text/html": [
              "<div style=\"clear: both; display: table;\" class=\"div-white\">\n",
              "  <div style=\"border: none; float: left; width: 60%; padding: 5px\">\n",
              "  <h1 id=\"subtitle\">Chapter 4. Regression Analysis</h1>\n",
              "  <h2 id=\"subtitle\">Guillermo Avendaño Franco<br>Aldo Humberto Romero</h2>\n",
              "  <br>\n",
              "  <img src=\"https://raw.githubusercontent.com/romerogroup/Notebooks_4SIAH/main/Machine_Learning/fig/1-line logotype124-295.png\" alt=\"Scientific Computing with Python\" style=\"width:50%\" align=\"left\">\n",
              "  </div>\n",
              "  <div style=\"border: none; float: left; width: 30%; padding: 5px\">\n",
              "  <img src=\"https://raw.githubusercontent.com/romerogroup/Notebooks_4SIAH/main/Machine_Learning/fig/SCPython.png\" alt=\"Scientific Computing with Python\" style=\"width:100%\">\n",
              "  </div>\n",
              "</div>\n"
            ]
          },
          "metadata": {}
        }
      ],
      "source": [
        "%%html\n",
        "<div style=\"clear: both; display: table;\" class=\"div-white\">\n",
        "  <div style=\"border: none; float: left; width: 60%; padding: 5px\">\n",
        "  <h1 id=\"subtitle\">Chapter 4. Regression Analysis</h1>\n",
        "  <h2 id=\"subtitle\">Guillermo Avendaño Franco<br>Aldo Humberto Romero</h2>\n",
        "  <br>\n",
        "  <img src=\"https://raw.githubusercontent.com/romerogroup/Notebooks_4SIAH/main/Machine_Learning/fig/1-line logotype124-295.png\" alt=\"Scientific Computing with Python\" style=\"width:50%\" align=\"left\">\n",
        "  </div>\n",
        "  <div style=\"border: none; float: left; width: 30%; padding: 5px\">\n",
        "  <img src=\"https://raw.githubusercontent.com/romerogroup/Notebooks_4SIAH/main/Machine_Learning/fig/SCPython.png\" alt=\"Scientific Computing with Python\" style=\"width:100%\">\n",
        "  </div>\n",
        "</div>"
      ]
    },
    {
      "cell_type": "markdown",
      "metadata": {
        "id": "UURtZhyoZLrG"
      },
      "source": [
        "<div style=\"clear: both; display: table;\">\n",
        "  <div style=\"border: none; float: left; width: 60%; padding: 5px\">\n",
        "  <h1 id=\"subtitle\">Chapter 4. Regression Analysis</h1>\n",
        "  <h2 id=\"subtitle\">Guillermo Avendaño Franco<br>Aldo Humberto Romero</h2>\n",
        "  <br>\n",
        "  <img src=\"https://github.com/romerogroup/Notebooks_4SIAH/blob/main/Machine_Learning/fig/1-line%20logotype124-295.png?raw=1\" alt=\"Scientific Computing with Python\" style=\"width:50%\" align=\"left\">\n",
        "  </div>\n",
        "  <div style=\"border: none; float: left; width: 30%; padding: 5px\">\n",
        "  <img src=\"https://github.com/romerogroup/Notebooks_4SIAH/blob/main/Machine_Learning/fig/SCPython.png?raw=1\" alt=\"Scientific Computing with Python\" style=\"width:100%\">\n",
        "  </div>\n",
        "</div>"
      ]
    },
    {
      "cell_type": "markdown",
      "metadata": {
        "id": "FUPQlLnwZLrI"
      },
      "source": [
        "## Setup"
      ]
    },
    {
      "cell_type": "code",
      "execution_count": 5,
      "metadata": {
        "id": "a04b_-oUZLrI",
        "outputId": "d0402118-0d66-4ae2-eaa9-cbbd8c8ff036",
        "colab": {
          "base_uri": "https://localhost:8080/",
          "height": 17
        }
      },
      "outputs": [
        {
          "output_type": "display_data",
          "data": {
            "text/plain": [
              "<IPython.core.display.HTML object>"
            ],
            "text/html": [
              "<style>\n",
              "    .div-1 {\n",
              "        background-color: #EBEBEB;\n",
              "    }\n",
              "\n",
              "    .div-2 {\n",
              "    \tbackground-color: #ABBAEA;\n",
              "    }\n",
              "\n",
              "    .div-3 {\n",
              "    \tbackground-color: #FBD603;\n",
              "    }\n",
              "    .div-white {\n",
              "    \tbackground-color: #FFFFFF;\n",
              "    }\n",
              "    h1 {\n",
              "      color: #002855;\n",
              "    }\n",
              "    h2 {\n",
              "      color: #002855;\n",
              "    }\n",
              "</style>\n"
            ]
          },
          "metadata": {}
        }
      ],
      "source": [
        "%load_ext watermark"
      ]
    },
    {
      "cell_type": "code",
      "execution_count": 6,
      "metadata": {
        "scrolled": true,
        "id": "QeM40gc7ZLrK",
        "outputId": "c740e7d2-1c2d-4958-cd01-f6fc041d5f8a",
        "colab": {
          "base_uri": "https://localhost:8080/",
          "height": 274
        }
      },
      "outputs": [
        {
          "output_type": "display_data",
          "data": {
            "text/plain": [
              "<IPython.core.display.HTML object>"
            ],
            "text/html": [
              "<style>\n",
              "    .div-1 {\n",
              "        background-color: #EBEBEB;\n",
              "    }\n",
              "\n",
              "    .div-2 {\n",
              "    \tbackground-color: #ABBAEA;\n",
              "    }\n",
              "\n",
              "    .div-3 {\n",
              "    \tbackground-color: #FBD603;\n",
              "    }\n",
              "    .div-white {\n",
              "    \tbackground-color: #FFFFFF;\n",
              "    }\n",
              "    h1 {\n",
              "      color: #002855;\n",
              "    }\n",
              "    h2 {\n",
              "      color: #002855;\n",
              "    }\n",
              "</style>\n"
            ]
          },
          "metadata": {}
        },
        {
          "output_type": "stream",
          "name": "stdout",
          "text": [
            "Last updated: 2023-10-23T02:45:03.543786+00:00\n",
            "\n",
            "Python implementation: CPython\n",
            "Python version       : 3.10.12\n",
            "IPython version      : 7.34.0\n",
            "\n",
            "Compiler    : GCC 11.4.0\n",
            "OS          : Linux\n",
            "Release     : 5.15.120+\n",
            "Machine     : x86_64\n",
            "Processor   : x86_64\n",
            "CPU cores   : 2\n",
            "Architecture: 64bit\n",
            "\n"
          ]
        }
      ],
      "source": [
        "%watermark"
      ]
    },
    {
      "cell_type": "code",
      "execution_count": 7,
      "metadata": {
        "id": "cjG0mvMUZLrP",
        "outputId": "12f2ea23-f2a3-4e31-eac8-c4357e36a0af",
        "colab": {
          "base_uri": "https://localhost:8080/",
          "height": 17
        }
      },
      "outputs": [
        {
          "output_type": "display_data",
          "data": {
            "text/plain": [
              "<IPython.core.display.HTML object>"
            ],
            "text/html": [
              "<style>\n",
              "    .div-1 {\n",
              "        background-color: #EBEBEB;\n",
              "    }\n",
              "\n",
              "    .div-2 {\n",
              "    \tbackground-color: #ABBAEA;\n",
              "    }\n",
              "\n",
              "    .div-3 {\n",
              "    \tbackground-color: #FBD603;\n",
              "    }\n",
              "    .div-white {\n",
              "    \tbackground-color: #FFFFFF;\n",
              "    }\n",
              "    h1 {\n",
              "      color: #002855;\n",
              "    }\n",
              "    h2 {\n",
              "      color: #002855;\n",
              "    }\n",
              "</style>\n"
            ]
          },
          "metadata": {}
        }
      ],
      "source": [
        "import time\n",
        "start = time.time()\n",
        "chapter_number = 4\n",
        "import matplotlib\n",
        "%matplotlib inline\n",
        "%load_ext autoreload\n",
        "%autoreload 2\n",
        "import matplotlib.pyplot as plt"
      ]
    },
    {
      "cell_type": "code",
      "execution_count": 8,
      "metadata": {
        "id": "BOhxzdsGZLrS",
        "outputId": "da0d0200-06ea-429a-8b3e-defb853f2409",
        "colab": {
          "base_uri": "https://localhost:8080/",
          "height": 17
        }
      },
      "outputs": [
        {
          "output_type": "display_data",
          "data": {
            "text/plain": [
              "<IPython.core.display.HTML object>"
            ],
            "text/html": [
              "<style>\n",
              "    .div-1 {\n",
              "        background-color: #EBEBEB;\n",
              "    }\n",
              "\n",
              "    .div-2 {\n",
              "    \tbackground-color: #ABBAEA;\n",
              "    }\n",
              "\n",
              "    .div-3 {\n",
              "    \tbackground-color: #FBD603;\n",
              "    }\n",
              "    .div-white {\n",
              "    \tbackground-color: #FFFFFF;\n",
              "    }\n",
              "    h1 {\n",
              "      color: #002855;\n",
              "    }\n",
              "    h2 {\n",
              "      color: #002855;\n",
              "    }\n",
              "</style>\n"
            ]
          },
          "metadata": {}
        }
      ],
      "source": [
        "import numpy as np\n",
        "import sklearn"
      ]
    },
    {
      "cell_type": "code",
      "execution_count": 9,
      "metadata": {
        "scrolled": true,
        "id": "s3YD1dt5ZLrT",
        "outputId": "4b7f2f65-7f53-4ab2-ebf2-bbb9a40faef7",
        "colab": {
          "base_uri": "https://localhost:8080/",
          "height": 90
        }
      },
      "outputs": [
        {
          "output_type": "display_data",
          "data": {
            "text/plain": [
              "<IPython.core.display.HTML object>"
            ],
            "text/html": [
              "<style>\n",
              "    .div-1 {\n",
              "        background-color: #EBEBEB;\n",
              "    }\n",
              "\n",
              "    .div-2 {\n",
              "    \tbackground-color: #ABBAEA;\n",
              "    }\n",
              "\n",
              "    .div-3 {\n",
              "    \tbackground-color: #FBD603;\n",
              "    }\n",
              "    .div-white {\n",
              "    \tbackground-color: #FFFFFF;\n",
              "    }\n",
              "    h1 {\n",
              "      color: #002855;\n",
              "    }\n",
              "    h2 {\n",
              "      color: #002855;\n",
              "    }\n",
              "</style>\n"
            ]
          },
          "metadata": {}
        },
        {
          "output_type": "stream",
          "name": "stdout",
          "text": [
            "sklearn   : 1.2.2\n",
            "numpy     : 1.23.5\n",
            "matplotlib: 3.7.1\n",
            "\n"
          ]
        }
      ],
      "source": [
        "%watermark -iv"
      ]
    },
    {
      "cell_type": "markdown",
      "metadata": {
        "id": "bmFXMY6vZLrT"
      },
      "source": [
        "# Where we are on the map?\n",
        "\n",
        "<img src=\"https://github.com/romerogroup/Notebooks_4SIAH/blob/main/Machine_Learning/fig/ml_map.png?raw=1\" width=\"700\" title=\"Precision vs Recall\" alt=\"Precision vs Recall\"></a>"
      ]
    },
    {
      "cell_type": "markdown",
      "metadata": {
        "id": "ZfXadrLnZLrU"
      },
      "source": [
        "# Regression Analysis\n",
        "\n",
        "In statistical modeling, **regression analysis** is a set of statistical processes for estimating the relationships among variables. It includes many techniques for modeling and analyzing several variables when the focus is on the relationship between a dependent variable and one or more independent variables (or 'predictors'). More specifically, regression analysis helps one understand how the typical value of the dependent variable (or 'criterion variable') changes when any one of the independent variables is varied, while the other independent variables are held fixed.\n",
        "\n",
        "In a narrower sense, regression may refer specifically to the estimation of continuous response (dependent) variables, as opposed to the discrete response variables used in **classification**. The case of a continuous dependent variable may be more specifically referred to as metric regression to distinguish it from related problems."
      ]
    },
    {
      "cell_type": "markdown",
      "metadata": {
        "id": "bi5Es_1DZLrU"
      },
      "source": [
        "# Linear regression using the Normal Equation\n",
        "\n",
        "`LinearRegression` fits a linear model with coefficients $w = (w_1, \\cdots, w_p)$ to minimize the residual sum of squares between the observed targets in the dataset, and the targets predicted by the linear approximation. Mathematically it solves a problem of the form:\n",
        "\n",
        "\\begin{equation}\n",
        "\\min_{w} || X w - y||_2^2\n",
        "\\end{equation}\n"
      ]
    },
    {
      "cell_type": "code",
      "execution_count": 10,
      "metadata": {
        "id": "enZH51G7ZLrV",
        "outputId": "547c93ae-2d14-4bce-e03c-80653523a430",
        "colab": {
          "base_uri": "https://localhost:8080/",
          "height": 17
        }
      },
      "outputs": [
        {
          "output_type": "display_data",
          "data": {
            "text/plain": [
              "<IPython.core.display.HTML object>"
            ],
            "text/html": [
              "<style>\n",
              "    .div-1 {\n",
              "        background-color: #EBEBEB;\n",
              "    }\n",
              "\n",
              "    .div-2 {\n",
              "    \tbackground-color: #ABBAEA;\n",
              "    }\n",
              "\n",
              "    .div-3 {\n",
              "    \tbackground-color: #FBD603;\n",
              "    }\n",
              "    .div-white {\n",
              "    \tbackground-color: #FFFFFF;\n",
              "    }\n",
              "    h1 {\n",
              "      color: #002855;\n",
              "    }\n",
              "    h2 {\n",
              "      color: #002855;\n",
              "    }\n",
              "</style>\n"
            ]
          },
          "metadata": {}
        }
      ],
      "source": [
        "X = 2 * np.random.rand(100, 1)\n",
        "y = 4 + 3 * X + np.random.randn(100, 1)"
      ]
    },
    {
      "cell_type": "code",
      "execution_count": 11,
      "metadata": {
        "id": "3pS2P6fDZLrW",
        "outputId": "dbaab381-e6c7-499e-a417-3c14c109c45f",
        "colab": {
          "base_uri": "https://localhost:8080/",
          "height": 477
        }
      },
      "outputs": [
        {
          "output_type": "display_data",
          "data": {
            "text/plain": [
              "<IPython.core.display.HTML object>"
            ],
            "text/html": [
              "<style>\n",
              "    .div-1 {\n",
              "        background-color: #EBEBEB;\n",
              "    }\n",
              "\n",
              "    .div-2 {\n",
              "    \tbackground-color: #ABBAEA;\n",
              "    }\n",
              "\n",
              "    .div-3 {\n",
              "    \tbackground-color: #FBD603;\n",
              "    }\n",
              "    .div-white {\n",
              "    \tbackground-color: #FFFFFF;\n",
              "    }\n",
              "    h1 {\n",
              "      color: #002855;\n",
              "    }\n",
              "    h2 {\n",
              "      color: #002855;\n",
              "    }\n",
              "</style>\n"
            ]
          },
          "metadata": {}
        },
        {
          "output_type": "execute_result",
          "data": {
            "text/plain": [
              "(0.0, 2.0, 0.0, 15.0)"
            ]
          },
          "metadata": {},
          "execution_count": 11
        },
        {
          "output_type": "display_data",
          "data": {
            "text/plain": [
              "<Figure size 640x480 with 1 Axes>"
            ],
            "image/png": "[encoded data removed]"
          },
          "metadata": {}
        }
      ],
      "source": [
        "plt.plot(X, y, \"b.\")\n",
        "plt.xlabel(\"$x_1$\", fontsize=18)\n",
        "plt.ylabel(\"$y$\", rotation=0, fontsize=18)\n",
        "plt.axis([0, 2, 0, 15])"
      ]
    },
    {
      "cell_type": "code",
      "execution_count": 12,
      "metadata": {
        "id": "JAffl87nZLrY",
        "outputId": "8531f29d-d36b-40d4-a17f-362ab9923a44",
        "colab": {
          "base_uri": "https://localhost:8080/",
          "height": 17
        }
      },
      "outputs": [
        {
          "output_type": "display_data",
          "data": {
            "text/plain": [
              "<IPython.core.display.HTML object>"
            ],
            "text/html": [
              "<style>\n",
              "    .div-1 {\n",
              "        background-color: #EBEBEB;\n",
              "    }\n",
              "\n",
              "    .div-2 {\n",
              "    \tbackground-color: #ABBAEA;\n",
              "    }\n",
              "\n",
              "    .div-3 {\n",
              "    \tbackground-color: #FBD603;\n",
              "    }\n",
              "    .div-white {\n",
              "    \tbackground-color: #FFFFFF;\n",
              "    }\n",
              "    h1 {\n",
              "      color: #002855;\n",
              "    }\n",
              "    h2 {\n",
              "      color: #002855;\n",
              "    }\n",
              "</style>\n"
            ]
          },
          "metadata": {}
        }
      ],
      "source": [
        "X_b = np.c_[np.ones((100, 1)), X]  # add x0 = 1 to each instance\n",
        "theta_best = np.linalg.inv(X_b.T.dot(X_b)).dot(X_b.T).dot(y)"
      ]
    },
    {
      "cell_type": "code",
      "execution_count": 13,
      "metadata": {
        "id": "tsr4oAD5ZLrY",
        "outputId": "93a46748-2129-458f-839b-036edd73fa05",
        "colab": {
          "base_uri": "https://localhost:8080/",
          "height": 54
        }
      },
      "outputs": [
        {
          "output_type": "display_data",
          "data": {
            "text/plain": [
              "<IPython.core.display.HTML object>"
            ],
            "text/html": [
              "<style>\n",
              "    .div-1 {\n",
              "        background-color: #EBEBEB;\n",
              "    }\n",
              "\n",
              "    .div-2 {\n",
              "    \tbackground-color: #ABBAEA;\n",
              "    }\n",
              "\n",
              "    .div-3 {\n",
              "    \tbackground-color: #FBD603;\n",
              "    }\n",
              "    .div-white {\n",
              "    \tbackground-color: #FFFFFF;\n",
              "    }\n",
              "    h1 {\n",
              "      color: #002855;\n",
              "    }\n",
              "    h2 {\n",
              "      color: #002855;\n",
              "    }\n",
              "</style>\n"
            ]
          },
          "metadata": {}
        },
        {
          "output_type": "execute_result",
          "data": {
            "text/plain": [
              "array([[4.03659318],\n",
              "       [2.78145076]])"
            ]
          },
          "metadata": {},
          "execution_count": 13
        }
      ],
      "source": [
        "theta_best"
      ]
    },
    {
      "cell_type": "code",
      "execution_count": 14,
      "metadata": {
        "id": "oejHH5sTZLrZ",
        "outputId": "635ff30c-ffa4-4657-8154-96e06f40d7b5",
        "colab": {
          "base_uri": "https://localhost:8080/",
          "height": 54
        }
      },
      "outputs": [
        {
          "output_type": "display_data",
          "data": {
            "text/plain": [
              "<IPython.core.display.HTML object>"
            ],
            "text/html": [
              "<style>\n",
              "    .div-1 {\n",
              "        background-color: #EBEBEB;\n",
              "    }\n",
              "\n",
              "    .div-2 {\n",
              "    \tbackground-color: #ABBAEA;\n",
              "    }\n",
              "\n",
              "    .div-3 {\n",
              "    \tbackground-color: #FBD603;\n",
              "    }\n",
              "    .div-white {\n",
              "    \tbackground-color: #FFFFFF;\n",
              "    }\n",
              "    h1 {\n",
              "      color: #002855;\n",
              "    }\n",
              "    h2 {\n",
              "      color: #002855;\n",
              "    }\n",
              "</style>\n"
            ]
          },
          "metadata": {}
        },
        {
          "output_type": "execute_result",
          "data": {
            "text/plain": [
              "array([[4.03659318],\n",
              "       [9.59949471]])"
            ]
          },
          "metadata": {},
          "execution_count": 14
        }
      ],
      "source": [
        "X_new = np.array([[0], [2]])\n",
        "X_new_b = np.c_[np.ones((2, 1)), X_new]  # add x0 = 1 to each instance\n",
        "y_predict = X_new_b.dot(theta_best)\n",
        "y_predict"
      ]
    },
    {
      "cell_type": "code",
      "execution_count": 15,
      "metadata": {
        "id": "4tuf2SwIZLrZ",
        "outputId": "21fc8a43-7694-41d4-eb93-7f0a91a0e86c",
        "colab": {
          "base_uri": "https://localhost:8080/",
          "height": 477
        }
      },
      "outputs": [
        {
          "output_type": "display_data",
          "data": {
            "text/plain": [
              "<IPython.core.display.HTML object>"
            ],
            "text/html": [
              "<style>\n",
              "    .div-1 {\n",
              "        background-color: #EBEBEB;\n",
              "    }\n",
              "\n",
              "    .div-2 {\n",
              "    \tbackground-color: #ABBAEA;\n",
              "    }\n",
              "\n",
              "    .div-3 {\n",
              "    \tbackground-color: #FBD603;\n",
              "    }\n",
              "    .div-white {\n",
              "    \tbackground-color: #FFFFFF;\n",
              "    }\n",
              "    h1 {\n",
              "      color: #002855;\n",
              "    }\n",
              "    h2 {\n",
              "      color: #002855;\n",
              "    }\n",
              "</style>\n"
            ]
          },
          "metadata": {}
        },
        {
          "output_type": "execute_result",
          "data": {
            "text/plain": [
              "(0.0, 2.0, 0.0, 15.0)"
            ]
          },
          "metadata": {},
          "execution_count": 15
        },
        {
          "output_type": "display_data",
          "data": {
            "text/plain": [
              "<Figure size 640x480 with 1 Axes>"
            ],
            "image/png": "[encoded data removed]"
          },
          "metadata": {}
        }
      ],
      "source": [
        "plt.plot(X_new, y_predict, \"r-\", linewidth=2, label=\"Predictions\")\n",
        "plt.plot(X, y, \"b.\")\n",
        "plt.xlabel(\"$x_1$\", fontsize=18)\n",
        "plt.ylabel(\"$y$\", rotation=0, fontsize=18)\n",
        "plt.legend(loc=\"upper left\", fontsize=14)\n",
        "plt.axis([0, 2, 0, 15])"
      ]
    },
    {
      "cell_type": "code",
      "execution_count": 16,
      "metadata": {
        "id": "ZwHKaaSxZLra",
        "outputId": "e0bf5159-3ca7-4e73-9269-ce78c654bfac",
        "colab": {
          "base_uri": "https://localhost:8080/",
          "height": 35
        }
      },
      "outputs": [
        {
          "output_type": "display_data",
          "data": {
            "text/plain": [
              "<IPython.core.display.HTML object>"
            ],
            "text/html": [
              "<style>\n",
              "    .div-1 {\n",
              "        background-color: #EBEBEB;\n",
              "    }\n",
              "\n",
              "    .div-2 {\n",
              "    \tbackground-color: #ABBAEA;\n",
              "    }\n",
              "\n",
              "    .div-3 {\n",
              "    \tbackground-color: #FBD603;\n",
              "    }\n",
              "    .div-white {\n",
              "    \tbackground-color: #FFFFFF;\n",
              "    }\n",
              "    h1 {\n",
              "      color: #002855;\n",
              "    }\n",
              "    h2 {\n",
              "      color: #002855;\n",
              "    }\n",
              "</style>\n"
            ]
          },
          "metadata": {}
        },
        {
          "output_type": "execute_result",
          "data": {
            "text/plain": [
              "(array([4.03659318]), array([[2.78145076]]))"
            ]
          },
          "metadata": {},
          "execution_count": 16
        }
      ],
      "source": [
        "from sklearn.linear_model import LinearRegression\n",
        "\n",
        "lin_reg = LinearRegression()\n",
        "lin_reg.fit(X, y)\n",
        "lin_reg.intercept_, lin_reg.coef_"
      ]
    },
    {
      "cell_type": "code",
      "execution_count": 17,
      "metadata": {
        "id": "gja_jmGNZLra",
        "outputId": "bb6a786f-e55f-4e11-d09c-48d0026dcf00",
        "colab": {
          "base_uri": "https://localhost:8080/",
          "height": 54
        }
      },
      "outputs": [
        {
          "output_type": "display_data",
          "data": {
            "text/plain": [
              "<IPython.core.display.HTML object>"
            ],
            "text/html": [
              "<style>\n",
              "    .div-1 {\n",
              "        background-color: #EBEBEB;\n",
              "    }\n",
              "\n",
              "    .div-2 {\n",
              "    \tbackground-color: #ABBAEA;\n",
              "    }\n",
              "\n",
              "    .div-3 {\n",
              "    \tbackground-color: #FBD603;\n",
              "    }\n",
              "    .div-white {\n",
              "    \tbackground-color: #FFFFFF;\n",
              "    }\n",
              "    h1 {\n",
              "      color: #002855;\n",
              "    }\n",
              "    h2 {\n",
              "      color: #002855;\n",
              "    }\n",
              "</style>\n"
            ]
          },
          "metadata": {}
        },
        {
          "output_type": "execute_result",
          "data": {
            "text/plain": [
              "array([[4.03659318],\n",
              "       [9.59949471]])"
            ]
          },
          "metadata": {},
          "execution_count": 17
        }
      ],
      "source": [
        "lin_reg.predict(X_new)"
      ]
    },
    {
      "cell_type": "markdown",
      "metadata": {
        "id": "ss028-P-ZLrc"
      },
      "source": [
        "The `LinearRegression` class is based on the `scipy.linalg.lstsq()` function (the name stands for \"least squares\"), which you could call directly:"
      ]
    },
    {
      "cell_type": "code",
      "execution_count": 18,
      "metadata": {
        "id": "0GelWkpDZLrc",
        "outputId": "b2010c4d-7f93-4f41-88b2-8ae2eaf9ae83",
        "colab": {
          "base_uri": "https://localhost:8080/",
          "height": 54
        }
      },
      "outputs": [
        {
          "output_type": "display_data",
          "data": {
            "text/plain": [
              "<IPython.core.display.HTML object>"
            ],
            "text/html": [
              "<style>\n",
              "    .div-1 {\n",
              "        background-color: #EBEBEB;\n",
              "    }\n",
              "\n",
              "    .div-2 {\n",
              "    \tbackground-color: #ABBAEA;\n",
              "    }\n",
              "\n",
              "    .div-3 {\n",
              "    \tbackground-color: #FBD603;\n",
              "    }\n",
              "    .div-white {\n",
              "    \tbackground-color: #FFFFFF;\n",
              "    }\n",
              "    h1 {\n",
              "      color: #002855;\n",
              "    }\n",
              "    h2 {\n",
              "      color: #002855;\n",
              "    }\n",
              "</style>\n"
            ]
          },
          "metadata": {}
        },
        {
          "output_type": "execute_result",
          "data": {
            "text/plain": [
              "array([[4.03659318],\n",
              "       [2.78145076]])"
            ]
          },
          "metadata": {},
          "execution_count": 18
        }
      ],
      "source": [
        "theta_best_svd, residuals, rank, s = np.linalg.lstsq(X_b, y, rcond=1e-6)\n",
        "theta_best_svd"
      ]
    },
    {
      "cell_type": "markdown",
      "metadata": {
        "id": "6woiLuLTZLrc"
      },
      "source": [
        "This function computes $\\mathbf{X}^+\\mathbf{y}$, where $\\mathbf{X}^{+}$ is the _pseudoinverse_ of $\\mathbf{X}$ (specifically the Moore-Penrose inverse). You can use `np.linalg.pinv()` to compute the pseudoinverse directly:"
      ]
    },
    {
      "cell_type": "code",
      "execution_count": 19,
      "metadata": {
        "id": "H4mKyBHWZLrd",
        "outputId": "59f62df0-c09f-4776-f91f-27e3b8752a4d",
        "colab": {
          "base_uri": "https://localhost:8080/",
          "height": 54
        }
      },
      "outputs": [
        {
          "output_type": "display_data",
          "data": {
            "text/plain": [
              "<IPython.core.display.HTML object>"
            ],
            "text/html": [
              "<style>\n",
              "    .div-1 {\n",
              "        background-color: #EBEBEB;\n",
              "    }\n",
              "\n",
              "    .div-2 {\n",
              "    \tbackground-color: #ABBAEA;\n",
              "    }\n",
              "\n",
              "    .div-3 {\n",
              "    \tbackground-color: #FBD603;\n",
              "    }\n",
              "    .div-white {\n",
              "    \tbackground-color: #FFFFFF;\n",
              "    }\n",
              "    h1 {\n",
              "      color: #002855;\n",
              "    }\n",
              "    h2 {\n",
              "      color: #002855;\n",
              "    }\n",
              "</style>\n"
            ]
          },
          "metadata": {}
        },
        {
          "output_type": "execute_result",
          "data": {
            "text/plain": [
              "array([[4.03659318],\n",
              "       [2.78145076]])"
            ]
          },
          "metadata": {},
          "execution_count": 19
        }
      ],
      "source": [
        "np.linalg.pinv(X_b).dot(y)"
      ]
    },
    {
      "cell_type": "markdown",
      "metadata": {
        "id": "agKzPvDoZLrd"
      },
      "source": [
        "# Linear regression using batch gradient descent\n",
        "\n",
        "There is a close function to compute the  $\\theta$ that minimizes the cost function\n",
        "\n",
        "\\begin{equation}\n",
        "|| X \\theta - y||_2^2\n",
        "\\end{equation}\n",
        "\n",
        "where $||.||$ denotes the usual Euclidean vector norm.\n",
        "The normal function:\n",
        "\n",
        "\n",
        "\\begin{equation}\n",
        "  \\hat{\\boldsymbol\\theta} = (\\mathbf{X}^\\mathsf{T}\\mathbf{X})^{-1} \\mathbf{X}^\\mathsf{T} \\mathbf{y},\n",
        "\\end{equation}\n",
        "\n",
        "The problem with this kind of closed-form solution is that it is not well suited for large dimensions. The computational complexity scales as $O(n^3)$ (a bit better in some implementations) making this solution unfeasible for a large number of features. The good side is that the scaling with the number of training instances is linear\n",
        "\n",
        "Gradient Descent is a usual algorithm for local minimization. The idea is to follow the steepest slope to reach a point of minima (actually an inflexion point).\n",
        "\n",
        "The critical point is how to evaluate the gradient, for doing that a local inspection."
      ]
    },
    {
      "cell_type": "code",
      "execution_count": 20,
      "metadata": {
        "id": "9jbrfB3oZLrd",
        "outputId": "8549b7c2-55e0-4fc1-9d8a-9c58c3b87cfc",
        "colab": {
          "base_uri": "https://localhost:8080/",
          "height": 17
        }
      },
      "outputs": [
        {
          "output_type": "display_data",
          "data": {
            "text/plain": [
              "<IPython.core.display.HTML object>"
            ],
            "text/html": [
              "<style>\n",
              "    .div-1 {\n",
              "        background-color: #EBEBEB;\n",
              "    }\n",
              "\n",
              "    .div-2 {\n",
              "    \tbackground-color: #ABBAEA;\n",
              "    }\n",
              "\n",
              "    .div-3 {\n",
              "    \tbackground-color: #FBD603;\n",
              "    }\n",
              "    .div-white {\n",
              "    \tbackground-color: #FFFFFF;\n",
              "    }\n",
              "    h1 {\n",
              "      color: #002855;\n",
              "    }\n",
              "    h2 {\n",
              "      color: #002855;\n",
              "    }\n",
              "</style>\n"
            ]
          },
          "metadata": {}
        }
      ],
      "source": [
        "eta = 0.1  # learning rate\n",
        "n_iterations = 1000\n",
        "m = 100\n",
        "\n",
        "theta = np.random.randn(2,1)  # random initialization\n",
        "\n",
        "for iteration in range(n_iterations):\n",
        "    gradients = 2/m * X_b.T.dot(X_b.dot(theta) - y)\n",
        "    theta = theta - eta * gradients"
      ]
    },
    {
      "cell_type": "code",
      "execution_count": 21,
      "metadata": {
        "id": "OHCQuk0YZLre",
        "outputId": "dc9c485f-fee1-4bd4-a022-5731919a7011",
        "colab": {
          "base_uri": "https://localhost:8080/",
          "height": 54
        }
      },
      "outputs": [
        {
          "output_type": "display_data",
          "data": {
            "text/plain": [
              "<IPython.core.display.HTML object>"
            ],
            "text/html": [
              "<style>\n",
              "    .div-1 {\n",
              "        background-color: #EBEBEB;\n",
              "    }\n",
              "\n",
              "    .div-2 {\n",
              "    \tbackground-color: #ABBAEA;\n",
              "    }\n",
              "\n",
              "    .div-3 {\n",
              "    \tbackground-color: #FBD603;\n",
              "    }\n",
              "    .div-white {\n",
              "    \tbackground-color: #FFFFFF;\n",
              "    }\n",
              "    h1 {\n",
              "      color: #002855;\n",
              "    }\n",
              "    h2 {\n",
              "      color: #002855;\n",
              "    }\n",
              "</style>\n"
            ]
          },
          "metadata": {}
        },
        {
          "output_type": "execute_result",
          "data": {
            "text/plain": [
              "array([[4.03659318],\n",
              "       [2.78145076]])"
            ]
          },
          "metadata": {},
          "execution_count": 21
        }
      ],
      "source": [
        "theta"
      ]
    },
    {
      "cell_type": "code",
      "execution_count": 22,
      "metadata": {
        "id": "pg-JC_CwZLrf",
        "outputId": "cf15f8a6-3abb-4fdd-f3a0-4b144365e2b2",
        "colab": {
          "base_uri": "https://localhost:8080/",
          "height": 54
        }
      },
      "outputs": [
        {
          "output_type": "display_data",
          "data": {
            "text/plain": [
              "<IPython.core.display.HTML object>"
            ],
            "text/html": [
              "<style>\n",
              "    .div-1 {\n",
              "        background-color: #EBEBEB;\n",
              "    }\n",
              "\n",
              "    .div-2 {\n",
              "    \tbackground-color: #ABBAEA;\n",
              "    }\n",
              "\n",
              "    .div-3 {\n",
              "    \tbackground-color: #FBD603;\n",
              "    }\n",
              "    .div-white {\n",
              "    \tbackground-color: #FFFFFF;\n",
              "    }\n",
              "    h1 {\n",
              "      color: #002855;\n",
              "    }\n",
              "    h2 {\n",
              "      color: #002855;\n",
              "    }\n",
              "</style>\n"
            ]
          },
          "metadata": {}
        },
        {
          "output_type": "execute_result",
          "data": {
            "text/plain": [
              "array([[4.03659318],\n",
              "       [9.59949471]])"
            ]
          },
          "metadata": {},
          "execution_count": 22
        }
      ],
      "source": [
        "X_new_b.dot(theta)"
      ]
    },
    {
      "cell_type": "markdown",
      "metadata": {
        "id": "Y0a96KqQZLrg"
      },
      "source": [
        "## Learning rates\n",
        "\n",
        "The learning rate is managed by the $\\eta$ hyperparameter"
      ]
    },
    {
      "cell_type": "code",
      "execution_count": 23,
      "metadata": {
        "id": "_LKe9YCtZLrh",
        "outputId": "2a0e4d75-4540-49b0-803c-6eeb725dd3eb",
        "colab": {
          "base_uri": "https://localhost:8080/",
          "height": 17
        }
      },
      "outputs": [
        {
          "output_type": "display_data",
          "data": {
            "text/plain": [
              "<IPython.core.display.HTML object>"
            ],
            "text/html": [
              "<style>\n",
              "    .div-1 {\n",
              "        background-color: #EBEBEB;\n",
              "    }\n",
              "\n",
              "    .div-2 {\n",
              "    \tbackground-color: #ABBAEA;\n",
              "    }\n",
              "\n",
              "    .div-3 {\n",
              "    \tbackground-color: #FBD603;\n",
              "    }\n",
              "    .div-white {\n",
              "    \tbackground-color: #FFFFFF;\n",
              "    }\n",
              "    h1 {\n",
              "      color: #002855;\n",
              "    }\n",
              "    h2 {\n",
              "      color: #002855;\n",
              "    }\n",
              "</style>\n"
            ]
          },
          "metadata": {}
        }
      ],
      "source": [
        "theta_path_bgd = []\n",
        "\n",
        "def plot_gradient_descent(theta, eta, theta_path=None):\n",
        "    m = len(X_b)\n",
        "    plt.plot(X, y, \"b.\")\n",
        "    n_iterations = 1000\n",
        "    for iteration in range(n_iterations):\n",
        "        if iteration < 10:\n",
        "            y_predict = X_new_b.dot(theta)\n",
        "            style = \"b-\" if iteration > 0 else \"r--\"\n",
        "            plt.plot(X_new, y_predict, style)\n",
        "        gradients = 2/m * X_b.T.dot(X_b.dot(theta) - y)\n",
        "        theta = theta - eta * gradients\n",
        "        if theta_path is not None:\n",
        "            theta_path.append(theta)\n",
        "    plt.xlabel(\"$x_1$\", fontsize=18)\n",
        "    plt.axis([0, 2, 0, 15])\n",
        "    plt.title(r\"$\\eta = {}$\".format(eta), fontsize=16)"
      ]
    },
    {
      "cell_type": "code",
      "execution_count": 24,
      "metadata": {
        "id": "J-iEQ2EiZLrh",
        "outputId": "cf219f28-09df-45a2-9e6d-ddc23c01fcc4",
        "colab": {
          "base_uri": "https://localhost:8080/",
          "height": 424
        }
      },
      "outputs": [
        {
          "output_type": "display_data",
          "data": {
            "text/plain": [
              "<IPython.core.display.HTML object>"
            ],
            "text/html": [
              "<style>\n",
              "    .div-1 {\n",
              "        background-color: #EBEBEB;\n",
              "    }\n",
              "\n",
              "    .div-2 {\n",
              "    \tbackground-color: #ABBAEA;\n",
              "    }\n",
              "\n",
              "    .div-3 {\n",
              "    \tbackground-color: #FBD603;\n",
              "    }\n",
              "    .div-white {\n",
              "    \tbackground-color: #FFFFFF;\n",
              "    }\n",
              "    h1 {\n",
              "      color: #002855;\n",
              "    }\n",
              "    h2 {\n",
              "      color: #002855;\n",
              "    }\n",
              "</style>\n"
            ]
          },
          "metadata": {}
        },
        {
          "output_type": "display_data",
          "data": {
            "text/plain": [
              "<Figure size 1000x400 with 3 Axes>"
            ],
            "image/png": "[encoded data removed]"
          },
          "metadata": {}
        }
      ],
      "source": [
        "np.random.seed(42)\n",
        "theta = np.random.randn(2,1)  # random initialization\n",
        "\n",
        "plt.figure(figsize=(10,4))\n",
        "plt.subplot(131); plot_gradient_descent(theta, eta=0.02)\n",
        "plt.ylabel(\"$y$\", rotation=0, fontsize=18)\n",
        "plt.subplot(132); plot_gradient_descent(theta, eta=0.1, theta_path=theta_path_bgd)\n",
        "plt.subplot(133); plot_gradient_descent(theta, eta=0.5)"
      ]
    },
    {
      "cell_type": "markdown",
      "metadata": {
        "id": "QnPK7jayZLri"
      },
      "source": [
        "# Stochastic Gradient Descent\n",
        "\n",
        "Instead of using the whole training set SGD uses a random subset on each iteration, effectively speeding the execution with the price of instability and bouncing of solutions"
      ]
    },
    {
      "cell_type": "code",
      "execution_count": 25,
      "metadata": {
        "id": "WL3hGgdUZLrj",
        "outputId": "b68c1b9c-d2e1-49e0-bd0b-731909ecbece",
        "colab": {
          "base_uri": "https://localhost:8080/",
          "height": 17
        }
      },
      "outputs": [
        {
          "output_type": "display_data",
          "data": {
            "text/plain": [
              "<IPython.core.display.HTML object>"
            ],
            "text/html": [
              "<style>\n",
              "    .div-1 {\n",
              "        background-color: #EBEBEB;\n",
              "    }\n",
              "\n",
              "    .div-2 {\n",
              "    \tbackground-color: #ABBAEA;\n",
              "    }\n",
              "\n",
              "    .div-3 {\n",
              "    \tbackground-color: #FBD603;\n",
              "    }\n",
              "    .div-white {\n",
              "    \tbackground-color: #FFFFFF;\n",
              "    }\n",
              "    h1 {\n",
              "      color: #002855;\n",
              "    }\n",
              "    h2 {\n",
              "      color: #002855;\n",
              "    }\n",
              "</style>\n"
            ]
          },
          "metadata": {}
        }
      ],
      "source": [
        "theta_path_sgd = []\n",
        "m = len(X_b)\n",
        "np.random.seed(42)"
      ]
    },
    {
      "cell_type": "code",
      "execution_count": 26,
      "metadata": {
        "id": "gXhm1WeDZLrj",
        "outputId": "1288a246-abbc-455f-bd14-9c87ed56aba3",
        "colab": {
          "base_uri": "https://localhost:8080/",
          "height": 477
        }
      },
      "outputs": [
        {
          "output_type": "display_data",
          "data": {
            "text/plain": [
              "<IPython.core.display.HTML object>"
            ],
            "text/html": [
              "<style>\n",
              "    .div-1 {\n",
              "        background-color: #EBEBEB;\n",
              "    }\n",
              "\n",
              "    .div-2 {\n",
              "    \tbackground-color: #ABBAEA;\n",
              "    }\n",
              "\n",
              "    .div-3 {\n",
              "    \tbackground-color: #FBD603;\n",
              "    }\n",
              "    .div-white {\n",
              "    \tbackground-color: #FFFFFF;\n",
              "    }\n",
              "    h1 {\n",
              "      color: #002855;\n",
              "    }\n",
              "    h2 {\n",
              "      color: #002855;\n",
              "    }\n",
              "</style>\n"
            ]
          },
          "metadata": {}
        },
        {
          "output_type": "execute_result",
          "data": {
            "text/plain": [
              "(0.0, 2.0, 0.0, 15.0)"
            ]
          },
          "metadata": {},
          "execution_count": 26
        },
        {
          "output_type": "display_data",
          "data": {
            "text/plain": [
              "<Figure size 640x480 with 1 Axes>"
            ],
            "image/png": "[encoded data removed]"
          },
          "metadata": {}
        }
      ],
      "source": [
        "n_epochs = 50\n",
        "t0, t1 = 5, 50  # learning schedule hyperparameters\n",
        "\n",
        "def learning_schedule(t):\n",
        "    return t0 / (t + t1)\n",
        "\n",
        "theta = np.random.randn(2,1)  # random initialization\n",
        "\n",
        "for epoch in range(n_epochs):\n",
        "    for i in range(m):\n",
        "        if epoch == 0 and i < 20:                    # not shown\n",
        "            y_predict = X_new_b.dot(theta)           # not shown\n",
        "            style = \"b-\" if i > 0 else \"r--\"         # not shown\n",
        "            plt.plot(X_new, y_predict, style)        # not shown\n",
        "        random_index = np.random.randint(m)\n",
        "        xi = X_b[random_index:random_index+1]\n",
        "        yi = y[random_index:random_index+1]\n",
        "        gradients = 2 * xi.T.dot(xi.dot(theta) - yi)\n",
        "        eta = learning_schedule(epoch * m + i)\n",
        "        theta = theta - eta * gradients\n",
        "        theta_path_sgd.append(theta)                 # not shown\n",
        "\n",
        "plt.plot(X, y, \"b.\")                                 # not shown\n",
        "plt.xlabel(\"$x_1$\", fontsize=18)                     # not shown\n",
        "plt.ylabel(\"$y$\", rotation=0, fontsize=18)           # not shown\n",
        "plt.axis([0, 2, 0, 15])                              # not shown"
      ]
    },
    {
      "cell_type": "code",
      "execution_count": 27,
      "metadata": {
        "scrolled": true,
        "id": "DU1hfeSmZLrk",
        "outputId": "89fbf6ba-b232-4e45-e155-4e37d1ff2180",
        "colab": {
          "base_uri": "https://localhost:8080/",
          "height": 54
        }
      },
      "outputs": [
        {
          "output_type": "display_data",
          "data": {
            "text/plain": [
              "<IPython.core.display.HTML object>"
            ],
            "text/html": [
              "<style>\n",
              "    .div-1 {\n",
              "        background-color: #EBEBEB;\n",
              "    }\n",
              "\n",
              "    .div-2 {\n",
              "    \tbackground-color: #ABBAEA;\n",
              "    }\n",
              "\n",
              "    .div-3 {\n",
              "    \tbackground-color: #FBD603;\n",
              "    }\n",
              "    .div-white {\n",
              "    \tbackground-color: #FFFFFF;\n",
              "    }\n",
              "    h1 {\n",
              "      color: #002855;\n",
              "    }\n",
              "    h2 {\n",
              "      color: #002855;\n",
              "    }\n",
              "</style>\n"
            ]
          },
          "metadata": {}
        },
        {
          "output_type": "execute_result",
          "data": {
            "text/plain": [
              "array([[4.01900254],\n",
              "       [2.78920986]])"
            ]
          },
          "metadata": {},
          "execution_count": 27
        }
      ],
      "source": [
        "theta"
      ]
    },
    {
      "cell_type": "code",
      "execution_count": 28,
      "metadata": {
        "id": "uEPtOLcUZLrk",
        "outputId": "186b15c9-b20a-48a0-fe92-fe7e7d39dcfe",
        "colab": {
          "base_uri": "https://localhost:8080/",
          "height": 75
        }
      },
      "outputs": [
        {
          "output_type": "display_data",
          "data": {
            "text/plain": [
              "<IPython.core.display.HTML object>"
            ],
            "text/html": [
              "<style>\n",
              "    .div-1 {\n",
              "        background-color: #EBEBEB;\n",
              "    }\n",
              "\n",
              "    .div-2 {\n",
              "    \tbackground-color: #ABBAEA;\n",
              "    }\n",
              "\n",
              "    .div-3 {\n",
              "    \tbackground-color: #FBD603;\n",
              "    }\n",
              "    .div-white {\n",
              "    \tbackground-color: #FFFFFF;\n",
              "    }\n",
              "    h1 {\n",
              "      color: #002855;\n",
              "    }\n",
              "    h2 {\n",
              "      color: #002855;\n",
              "    }\n",
              "</style>\n"
            ]
          },
          "metadata": {}
        },
        {
          "output_type": "execute_result",
          "data": {
            "text/plain": [
              "SGDRegressor(eta0=0.1, penalty=None, random_state=42)"
            ],
            "text/html": [
              "<style>#sk-container-id-1 {color: black;background-color: white;}#sk-container-id-1 pre{padding: 0;}#sk-container-id-1 div.sk-toggleable {background-color: white;}#sk-container-id-1 label.sk-toggleable__label {cursor: pointer;display: block;width: 100%;margin-bottom: 0;padding: 0.3em;box-sizing: border-box;text-align: center;}#sk-container-id-1 label.sk-toggleable__label-arrow:before {content: \"▸\";float: left;margin-right: 0.25em;color: #696969;}#sk-container-id-1 label.sk-toggleable__label-arrow:hover:before {color: black;}#sk-container-id-1 div.sk-estimator:hover label.sk-toggleable__label-arrow:before {color: black;}#sk-container-id-1 div.sk-toggleable__content {max-height: 0;max-width: 0;overflow: hidden;text-align: left;background-color: #f0f8ff;}#sk-container-id-1 div.sk-toggleable__content pre {margin: 0.2em;color: black;border-radius: 0.25em;background-color: #f0f8ff;}#sk-container-id-1 input.sk-toggleable__control:checked~div.sk-toggleable__content {max-height: 200px;max-width: 100%;overflow: auto;}#sk-container-id-1 input.sk-toggleable__control:checked~label.sk-toggleable__label-arrow:before {content: \"▾\";}#sk-container-id-1 div.sk-estimator input.sk-toggleable__control:checked~label.sk-toggleable__label {background-color: #d4ebff;}#sk-container-id-1 div.sk-label input.sk-toggleable__control:checked~label.sk-toggleable__label {background-color: #d4ebff;}#sk-container-id-1 input.sk-hidden--visually {border: 0;clip: rect(1px 1px 1px 1px);clip: rect(1px, 1px, 1px, 1px);height: 1px;margin: -1px;overflow: hidden;padding: 0;position: absolute;width: 1px;}#sk-container-id-1 div.sk-estimator {font-family: monospace;background-color: #f0f8ff;border: 1px dotted black;border-radius: 0.25em;box-sizing: border-box;margin-bottom: 0.5em;}#sk-container-id-1 div.sk-estimator:hover {background-color: #d4ebff;}#sk-container-id-1 div.sk-parallel-item::after {content: \"\";width: 100%;border-bottom: 1px solid gray;flex-grow: 1;}#sk-container-id-1 div.sk-label:hover label.sk-toggleable__label {background-color: #d4ebff;}#sk-container-id-1 div.sk-serial::before {content: \"\";position: absolute;border-left: 1px solid gray;box-sizing: border-box;top: 0;bottom: 0;left: 50%;z-index: 0;}#sk-container-id-1 div.sk-serial {display: flex;flex-direction: column;align-items: center;background-color: white;padding-right: 0.2em;padding-left: 0.2em;position: relative;}#sk-container-id-1 div.sk-item {position: relative;z-index: 1;}#sk-container-id-1 div.sk-parallel {display: flex;align-items: stretch;justify-content: center;background-color: white;position: relative;}#sk-container-id-1 div.sk-item::before, #sk-container-id-1 div.sk-parallel-item::before {content: \"\";position: absolute;border-left: 1px solid gray;box-sizing: border-box;top: 0;bottom: 0;left: 50%;z-index: -1;}#sk-container-id-1 div.sk-parallel-item {display: flex;flex-direction: column;z-index: 1;position: relative;background-color: white;}#sk-container-id-1 div.sk-parallel-item:first-child::after {align-self: flex-end;width: 50%;}#sk-container-id-1 div.sk-parallel-item:last-child::after {align-self: flex-start;width: 50%;}#sk-container-id-1 div.sk-parallel-item:only-child::after {width: 0;}#sk-container-id-1 div.sk-dashed-wrapped {border: 1px dashed gray;margin: 0 0.4em 0.5em 0.4em;box-sizing: border-box;padding-bottom: 0.4em;background-color: white;}#sk-container-id-1 div.sk-label label {font-family: monospace;font-weight: bold;display: inline-block;line-height: 1.2em;}#sk-container-id-1 div.sk-label-container {text-align: center;}#sk-container-id-1 div.sk-container {/* jupyter's `normalize.less` sets `[hidden] { display: none; }` but bootstrap.min.css set `[hidden] { display: none !important; }` so we also need the `!important` here to be able to override the default hidden behavior on the sphinx rendered scikit-learn.org. See: https://github.com/scikit-learn/scikit-learn/issues/21755 */display: inline-block !important;position: relative;}#sk-container-id-1 div.sk-text-repr-fallback {display: none;}</style><div id=\"sk-container-id-1\" class=\"sk-top-container\"><div class=\"sk-text-repr-fallback\"><pre>SGDRegressor(eta0=0.1, penalty=None, random_state=42)</pre><b>In a Jupyter environment, please rerun this cell to show the HTML representation or trust the notebook. <br />On GitHub, the HTML representation is unable to render, please try loading this page with nbviewer.org.</b></div><div class=\"sk-container\" hidden><div class=\"sk-item\"><div class=\"sk-estimator sk-toggleable\"><input class=\"sk-toggleable__control sk-hidden--visually\" id=\"sk-estimator-id-1\" type=\"checkbox\" checked><label for=\"sk-estimator-id-1\" class=\"sk-toggleable__label sk-toggleable__label-arrow\">SGDRegressor</label><div class=\"sk-toggleable__content\"><pre>SGDRegressor(eta0=0.1, penalty=None, random_state=42)</pre></div></div></div></div></div>"
            ]
          },
          "metadata": {},
          "execution_count": 28
        }
      ],
      "source": [
        "from sklearn.linear_model import SGDRegressor\n",
        "\n",
        "sgd_reg = SGDRegressor(max_iter=1000, tol=1e-3, penalty=None, eta0=0.1, random_state=42)\n",
        "sgd_reg.fit(X, y.ravel())"
      ]
    },
    {
      "cell_type": "code",
      "execution_count": 29,
      "metadata": {
        "id": "agiJiRu4ZLrl",
        "outputId": "4eb791b0-ead9-4f2a-8d9f-7252fa9aa0f5",
        "colab": {
          "base_uri": "https://localhost:8080/",
          "height": 35
        }
      },
      "outputs": [
        {
          "output_type": "display_data",
          "data": {
            "text/plain": [
              "<IPython.core.display.HTML object>"
            ],
            "text/html": [
              "<style>\n",
              "    .div-1 {\n",
              "        background-color: #EBEBEB;\n",
              "    }\n",
              "\n",
              "    .div-2 {\n",
              "    \tbackground-color: #ABBAEA;\n",
              "    }\n",
              "\n",
              "    .div-3 {\n",
              "    \tbackground-color: #FBD603;\n",
              "    }\n",
              "    .div-white {\n",
              "    \tbackground-color: #FFFFFF;\n",
              "    }\n",
              "    h1 {\n",
              "      color: #002855;\n",
              "    }\n",
              "    h2 {\n",
              "      color: #002855;\n",
              "    }\n",
              "</style>\n"
            ]
          },
          "metadata": {}
        },
        {
          "output_type": "execute_result",
          "data": {
            "text/plain": [
              "(array([3.96153721]), array([2.71668634]))"
            ]
          },
          "metadata": {},
          "execution_count": 29
        }
      ],
      "source": [
        "sgd_reg.intercept_, sgd_reg.coef_"
      ]
    },
    {
      "cell_type": "markdown",
      "metadata": {
        "id": "RbYv08xDZLrl"
      },
      "source": [
        "# Mini-batch gradient descent"
      ]
    },
    {
      "cell_type": "code",
      "execution_count": 30,
      "metadata": {
        "id": "9DNlF01VZLrm",
        "outputId": "dd047da3-04b9-4f9b-a0d7-c327d81ca64f",
        "colab": {
          "base_uri": "https://localhost:8080/",
          "height": 17
        }
      },
      "outputs": [
        {
          "output_type": "display_data",
          "data": {
            "text/plain": [
              "<IPython.core.display.HTML object>"
            ],
            "text/html": [
              "<style>\n",
              "    .div-1 {\n",
              "        background-color: #EBEBEB;\n",
              "    }\n",
              "\n",
              "    .div-2 {\n",
              "    \tbackground-color: #ABBAEA;\n",
              "    }\n",
              "\n",
              "    .div-3 {\n",
              "    \tbackground-color: #FBD603;\n",
              "    }\n",
              "    .div-white {\n",
              "    \tbackground-color: #FFFFFF;\n",
              "    }\n",
              "    h1 {\n",
              "      color: #002855;\n",
              "    }\n",
              "    h2 {\n",
              "      color: #002855;\n",
              "    }\n",
              "</style>\n"
            ]
          },
          "metadata": {}
        }
      ],
      "source": [
        "theta_path_mgd = []\n",
        "\n",
        "n_iterations = 50\n",
        "minibatch_size = 20\n",
        "\n",
        "np.random.seed(42)\n",
        "theta = np.random.randn(2,1)  # random initialization\n",
        "\n",
        "t0, t1 = 200, 1000\n",
        "def learning_schedule(t):\n",
        "    return t0 / (t + t1)\n",
        "\n",
        "t = 0\n",
        "for epoch in range(n_iterations):\n",
        "    shuffled_indices = np.random.permutation(m)\n",
        "    X_b_shuffled = X_b[shuffled_indices]\n",
        "    y_shuffled = y[shuffled_indices]\n",
        "    for i in range(0, m, minibatch_size):\n",
        "        t += 1\n",
        "        xi = X_b_shuffled[i:i+minibatch_size]\n",
        "        yi = y_shuffled[i:i+minibatch_size]\n",
        "        gradients = 2/minibatch_size * xi.T.dot(xi.dot(theta) - yi)\n",
        "        eta = learning_schedule(t)\n",
        "        theta = theta - eta * gradients\n",
        "        theta_path_mgd.append(theta)"
      ]
    },
    {
      "cell_type": "code",
      "execution_count": 31,
      "metadata": {
        "id": "VBkWSKjtZLrm",
        "outputId": "34bbfa26-6f70-4bf9-e9b9-4f97136046b6",
        "colab": {
          "base_uri": "https://localhost:8080/",
          "height": 54
        }
      },
      "outputs": [
        {
          "output_type": "display_data",
          "data": {
            "text/plain": [
              "<IPython.core.display.HTML object>"
            ],
            "text/html": [
              "<style>\n",
              "    .div-1 {\n",
              "        background-color: #EBEBEB;\n",
              "    }\n",
              "\n",
              "    .div-2 {\n",
              "    \tbackground-color: #ABBAEA;\n",
              "    }\n",
              "\n",
              "    .div-3 {\n",
              "    \tbackground-color: #FBD603;\n",
              "    }\n",
              "    .div-white {\n",
              "    \tbackground-color: #FFFFFF;\n",
              "    }\n",
              "    h1 {\n",
              "      color: #002855;\n",
              "    }\n",
              "    h2 {\n",
              "      color: #002855;\n",
              "    }\n",
              "</style>\n"
            ]
          },
          "metadata": {}
        },
        {
          "output_type": "execute_result",
          "data": {
            "text/plain": [
              "array([[4.11752794],\n",
              "       [2.86726506]])"
            ]
          },
          "metadata": {},
          "execution_count": 31
        }
      ],
      "source": [
        "theta"
      ]
    },
    {
      "cell_type": "code",
      "execution_count": 32,
      "metadata": {
        "id": "_m7W_GVoZLrn",
        "outputId": "f421e8ca-0ad6-40e7-a657-427d43644657",
        "colab": {
          "base_uri": "https://localhost:8080/",
          "height": 17
        }
      },
      "outputs": [
        {
          "output_type": "display_data",
          "data": {
            "text/plain": [
              "<IPython.core.display.HTML object>"
            ],
            "text/html": [
              "<style>\n",
              "    .div-1 {\n",
              "        background-color: #EBEBEB;\n",
              "    }\n",
              "\n",
              "    .div-2 {\n",
              "    \tbackground-color: #ABBAEA;\n",
              "    }\n",
              "\n",
              "    .div-3 {\n",
              "    \tbackground-color: #FBD603;\n",
              "    }\n",
              "    .div-white {\n",
              "    \tbackground-color: #FFFFFF;\n",
              "    }\n",
              "    h1 {\n",
              "      color: #002855;\n",
              "    }\n",
              "    h2 {\n",
              "      color: #002855;\n",
              "    }\n",
              "</style>\n"
            ]
          },
          "metadata": {}
        }
      ],
      "source": [
        "theta_path_bgd = np.array(theta_path_bgd)\n",
        "theta_path_sgd = np.array(theta_path_sgd)\n",
        "theta_path_mgd = np.array(theta_path_mgd)"
      ]
    },
    {
      "cell_type": "code",
      "execution_count": 33,
      "metadata": {
        "id": "_LtoxzTJZLro",
        "outputId": "f1fbb44e-0b4a-4845-c9f7-66daea3a17ea",
        "colab": {
          "base_uri": "https://localhost:8080/",
          "height": 423
        }
      },
      "outputs": [
        {
          "output_type": "display_data",
          "data": {
            "text/plain": [
              "<IPython.core.display.HTML object>"
            ],
            "text/html": [
              "<style>\n",
              "    .div-1 {\n",
              "        background-color: #EBEBEB;\n",
              "    }\n",
              "\n",
              "    .div-2 {\n",
              "    \tbackground-color: #ABBAEA;\n",
              "    }\n",
              "\n",
              "    .div-3 {\n",
              "    \tbackground-color: #FBD603;\n",
              "    }\n",
              "    .div-white {\n",
              "    \tbackground-color: #FFFFFF;\n",
              "    }\n",
              "    h1 {\n",
              "      color: #002855;\n",
              "    }\n",
              "    h2 {\n",
              "      color: #002855;\n",
              "    }\n",
              "</style>\n"
            ]
          },
          "metadata": {}
        },
        {
          "output_type": "execute_result",
          "data": {
            "text/plain": [
              "(2.5, 4.5, 2.3, 3.9)"
            ]
          },
          "metadata": {},
          "execution_count": 33
        },
        {
          "output_type": "display_data",
          "data": {
            "text/plain": [
              "<Figure size 700x400 with 1 Axes>"
            ],
            "image/png": "[encoded data removed]"
          },
          "metadata": {}
        }
      ],
      "source": [
        "plt.figure(figsize=(7,4))\n",
        "plt.plot(theta_path_sgd[:, 0], theta_path_sgd[:, 1], \"r-s\", linewidth=1, label=\"Stochastic\")\n",
        "plt.plot(theta_path_mgd[:, 0], theta_path_mgd[:, 1], \"g-+\", linewidth=2, label=\"Mini-batch\")\n",
        "plt.plot(theta_path_bgd[:, 0], theta_path_bgd[:, 1], \"b-o\", linewidth=3, label=\"Batch\")\n",
        "plt.legend(loc=\"upper left\", fontsize=16)\n",
        "plt.xlabel(r\"$\\theta_0$\", fontsize=20)\n",
        "plt.ylabel(r\"$\\theta_1$   \", fontsize=20, rotation=0)\n",
        "plt.axis([2.5, 4.5, 2.3, 3.9])"
      ]
    },
    {
      "cell_type": "markdown",
      "metadata": {
        "id": "ZakKbCiRZLro"
      },
      "source": [
        "# Polynomial regression\n",
        "\n",
        "Polynomial regression is a trick to use the same machinery for linear regression but accounting for higher order polynomials for the features. The idea is to add more features that are powers of the original features and train a linear regressor as having those extra features.  "
      ]
    },
    {
      "cell_type": "code",
      "execution_count": 34,
      "metadata": {
        "id": "q1I8HRj4ZLrp",
        "outputId": "50ff8527-199a-4099-e53c-e4c5ec83738e",
        "colab": {
          "base_uri": "https://localhost:8080/",
          "height": 17
        }
      },
      "outputs": [
        {
          "output_type": "display_data",
          "data": {
            "text/plain": [
              "<IPython.core.display.HTML object>"
            ],
            "text/html": [
              "<style>\n",
              "    .div-1 {\n",
              "        background-color: #EBEBEB;\n",
              "    }\n",
              "\n",
              "    .div-2 {\n",
              "    \tbackground-color: #ABBAEA;\n",
              "    }\n",
              "\n",
              "    .div-3 {\n",
              "    \tbackground-color: #FBD603;\n",
              "    }\n",
              "    .div-white {\n",
              "    \tbackground-color: #FFFFFF;\n",
              "    }\n",
              "    h1 {\n",
              "      color: #002855;\n",
              "    }\n",
              "    h2 {\n",
              "      color: #002855;\n",
              "    }\n",
              "</style>\n"
            ]
          },
          "metadata": {}
        }
      ],
      "source": [
        "import numpy.random as rnd\n",
        "\n",
        "np.random.seed(42)"
      ]
    },
    {
      "cell_type": "code",
      "execution_count": 35,
      "metadata": {
        "id": "kQ3Z2wytZLrp",
        "outputId": "d37e93b5-9434-484b-8c95-8bf0b54df31b",
        "colab": {
          "base_uri": "https://localhost:8080/",
          "height": 17
        }
      },
      "outputs": [
        {
          "output_type": "display_data",
          "data": {
            "text/plain": [
              "<IPython.core.display.HTML object>"
            ],
            "text/html": [
              "<style>\n",
              "    .div-1 {\n",
              "        background-color: #EBEBEB;\n",
              "    }\n",
              "\n",
              "    .div-2 {\n",
              "    \tbackground-color: #ABBAEA;\n",
              "    }\n",
              "\n",
              "    .div-3 {\n",
              "    \tbackground-color: #FBD603;\n",
              "    }\n",
              "    .div-white {\n",
              "    \tbackground-color: #FFFFFF;\n",
              "    }\n",
              "    h1 {\n",
              "      color: #002855;\n",
              "    }\n",
              "    h2 {\n",
              "      color: #002855;\n",
              "    }\n",
              "</style>\n"
            ]
          },
          "metadata": {}
        }
      ],
      "source": [
        "m = 100\n",
        "X = 6 * np.random.rand(m, 1) - 3\n",
        "y = 0.5 * X**2 + X + 2 + np.random.randn(m, 1)"
      ]
    },
    {
      "cell_type": "code",
      "execution_count": 36,
      "metadata": {
        "id": "eKHrF44aZLrq",
        "outputId": "5d6f7dcc-d7d7-41dd-b332-79a6f21c8a4a",
        "colab": {
          "base_uri": "https://localhost:8080/",
          "height": 483
        }
      },
      "outputs": [
        {
          "output_type": "display_data",
          "data": {
            "text/plain": [
              "<IPython.core.display.HTML object>"
            ],
            "text/html": [
              "<style>\n",
              "    .div-1 {\n",
              "        background-color: #EBEBEB;\n",
              "    }\n",
              "\n",
              "    .div-2 {\n",
              "    \tbackground-color: #ABBAEA;\n",
              "    }\n",
              "\n",
              "    .div-3 {\n",
              "    \tbackground-color: #FBD603;\n",
              "    }\n",
              "    .div-white {\n",
              "    \tbackground-color: #FFFFFF;\n",
              "    }\n",
              "    h1 {\n",
              "      color: #002855;\n",
              "    }\n",
              "    h2 {\n",
              "      color: #002855;\n",
              "    }\n",
              "</style>\n"
            ]
          },
          "metadata": {}
        },
        {
          "output_type": "execute_result",
          "data": {
            "text/plain": [
              "(-3.0, 3.0, 0.0, 10.0)"
            ]
          },
          "metadata": {},
          "execution_count": 36
        },
        {
          "output_type": "display_data",
          "data": {
            "text/plain": [
              "<Figure size 640x480 with 1 Axes>"
            ],
            "image/png": "[encoded data removed]"
          },
          "metadata": {}
        }
      ],
      "source": [
        "plt.plot(X, y, \"b.\")\n",
        "plt.xlabel(\"$x_1$\", fontsize=18)\n",
        "plt.ylabel(\"$y$\", rotation=0, fontsize=18)\n",
        "plt.axis([-3, 3, 0, 10])"
      ]
    },
    {
      "cell_type": "code",
      "execution_count": 37,
      "metadata": {
        "id": "JTSkhB1QZLrr",
        "outputId": "e436c413-df50-4a5b-c9c5-9193ee18cc35",
        "colab": {
          "base_uri": "https://localhost:8080/",
          "height": 35
        }
      },
      "outputs": [
        {
          "output_type": "display_data",
          "data": {
            "text/plain": [
              "<IPython.core.display.HTML object>"
            ],
            "text/html": [
              "<style>\n",
              "    .div-1 {\n",
              "        background-color: #EBEBEB;\n",
              "    }\n",
              "\n",
              "    .div-2 {\n",
              "    \tbackground-color: #ABBAEA;\n",
              "    }\n",
              "\n",
              "    .div-3 {\n",
              "    \tbackground-color: #FBD603;\n",
              "    }\n",
              "    .div-white {\n",
              "    \tbackground-color: #FFFFFF;\n",
              "    }\n",
              "    h1 {\n",
              "      color: #002855;\n",
              "    }\n",
              "    h2 {\n",
              "      color: #002855;\n",
              "    }\n",
              "</style>\n"
            ]
          },
          "metadata": {}
        },
        {
          "output_type": "execute_result",
          "data": {
            "text/plain": [
              "array([-0.75275929])"
            ]
          },
          "metadata": {},
          "execution_count": 37
        }
      ],
      "source": [
        "from sklearn.preprocessing import PolynomialFeatures\n",
        "poly_features = PolynomialFeatures(degree=2, include_bias=False)\n",
        "X_poly = poly_features.fit_transform(X)\n",
        "X[0]"
      ]
    },
    {
      "cell_type": "code",
      "execution_count": 38,
      "metadata": {
        "id": "nJD3Mw-2ZLrs",
        "outputId": "722ad9a7-2789-460f-fe77-2feddbc80831",
        "colab": {
          "base_uri": "https://localhost:8080/",
          "height": 35
        }
      },
      "outputs": [
        {
          "output_type": "display_data",
          "data": {
            "text/plain": [
              "<IPython.core.display.HTML object>"
            ],
            "text/html": [
              "<style>\n",
              "    .div-1 {\n",
              "        background-color: #EBEBEB;\n",
              "    }\n",
              "\n",
              "    .div-2 {\n",
              "    \tbackground-color: #ABBAEA;\n",
              "    }\n",
              "\n",
              "    .div-3 {\n",
              "    \tbackground-color: #FBD603;\n",
              "    }\n",
              "    .div-white {\n",
              "    \tbackground-color: #FFFFFF;\n",
              "    }\n",
              "    h1 {\n",
              "      color: #002855;\n",
              "    }\n",
              "    h2 {\n",
              "      color: #002855;\n",
              "    }\n",
              "</style>\n"
            ]
          },
          "metadata": {}
        },
        {
          "output_type": "execute_result",
          "data": {
            "text/plain": [
              "array([-0.75275929,  0.56664654])"
            ]
          },
          "metadata": {},
          "execution_count": 38
        }
      ],
      "source": [
        "X_poly[0]"
      ]
    },
    {
      "cell_type": "code",
      "execution_count": 39,
      "metadata": {
        "id": "9KHWbUfAZLrt",
        "outputId": "d44bc9cd-9b68-45a0-bcee-174d585852e4",
        "colab": {
          "base_uri": "https://localhost:8080/",
          "height": 35
        }
      },
      "outputs": [
        {
          "output_type": "display_data",
          "data": {
            "text/plain": [
              "<IPython.core.display.HTML object>"
            ],
            "text/html": [
              "<style>\n",
              "    .div-1 {\n",
              "        background-color: #EBEBEB;\n",
              "    }\n",
              "\n",
              "    .div-2 {\n",
              "    \tbackground-color: #ABBAEA;\n",
              "    }\n",
              "\n",
              "    .div-3 {\n",
              "    \tbackground-color: #FBD603;\n",
              "    }\n",
              "    .div-white {\n",
              "    \tbackground-color: #FFFFFF;\n",
              "    }\n",
              "    h1 {\n",
              "      color: #002855;\n",
              "    }\n",
              "    h2 {\n",
              "      color: #002855;\n",
              "    }\n",
              "</style>\n"
            ]
          },
          "metadata": {}
        },
        {
          "output_type": "execute_result",
          "data": {
            "text/plain": [
              "(array([1.78134581]), array([[0.93366893, 0.56456263]]))"
            ]
          },
          "metadata": {},
          "execution_count": 39
        }
      ],
      "source": [
        "lin_reg = LinearRegression()\n",
        "lin_reg.fit(X_poly, y)\n",
        "lin_reg.intercept_, lin_reg.coef_"
      ]
    },
    {
      "cell_type": "code",
      "execution_count": 40,
      "metadata": {
        "id": "TfWTb44IZLrt",
        "outputId": "62f06db3-0f2f-4af2-c756-13ba3a520736",
        "colab": {
          "base_uri": "https://localhost:8080/",
          "height": 483
        }
      },
      "outputs": [
        {
          "output_type": "display_data",
          "data": {
            "text/plain": [
              "<IPython.core.display.HTML object>"
            ],
            "text/html": [
              "<style>\n",
              "    .div-1 {\n",
              "        background-color: #EBEBEB;\n",
              "    }\n",
              "\n",
              "    .div-2 {\n",
              "    \tbackground-color: #ABBAEA;\n",
              "    }\n",
              "\n",
              "    .div-3 {\n",
              "    \tbackground-color: #FBD603;\n",
              "    }\n",
              "    .div-white {\n",
              "    \tbackground-color: #FFFFFF;\n",
              "    }\n",
              "    h1 {\n",
              "      color: #002855;\n",
              "    }\n",
              "    h2 {\n",
              "      color: #002855;\n",
              "    }\n",
              "</style>\n"
            ]
          },
          "metadata": {}
        },
        {
          "output_type": "execute_result",
          "data": {
            "text/plain": [
              "(-3.0, 3.0, 0.0, 10.0)"
            ]
          },
          "metadata": {},
          "execution_count": 40
        },
        {
          "output_type": "display_data",
          "data": {
            "text/plain": [
              "<Figure size 640x480 with 1 Axes>"
            ],
            "image/png": "[encoded data removed]"
          },
          "metadata": {}
        }
      ],
      "source": [
        "X_new=np.linspace(-3, 3, 100).reshape(100, 1)\n",
        "X_new_poly = poly_features.transform(X_new)\n",
        "y_new = lin_reg.predict(X_new_poly)\n",
        "plt.plot(X, y, \"b.\")\n",
        "plt.plot(X_new, y_new, \"r-\", linewidth=2, label=\"Predictions\")\n",
        "plt.xlabel(\"$x_1$\", fontsize=18)\n",
        "plt.ylabel(\"$y$\", rotation=0, fontsize=18)\n",
        "plt.legend(loc=\"upper left\", fontsize=14)\n",
        "plt.axis([-3, 3, 0, 10])"
      ]
    },
    {
      "cell_type": "markdown",
      "metadata": {
        "id": "dUMtP_LMZLru"
      },
      "source": [
        "## How high the polynomial should go?"
      ]
    },
    {
      "cell_type": "code",
      "execution_count": 41,
      "metadata": {
        "id": "6vTjhFp4ZLru",
        "outputId": "7294da3a-d861-4b78-f699-b904afa157d0",
        "colab": {
          "base_uri": "https://localhost:8080/",
          "height": 483
        }
      },
      "outputs": [
        {
          "output_type": "display_data",
          "data": {
            "text/plain": [
              "<IPython.core.display.HTML object>"
            ],
            "text/html": [
              "<style>\n",
              "    .div-1 {\n",
              "        background-color: #EBEBEB;\n",
              "    }\n",
              "\n",
              "    .div-2 {\n",
              "    \tbackground-color: #ABBAEA;\n",
              "    }\n",
              "\n",
              "    .div-3 {\n",
              "    \tbackground-color: #FBD603;\n",
              "    }\n",
              "    .div-white {\n",
              "    \tbackground-color: #FFFFFF;\n",
              "    }\n",
              "    h1 {\n",
              "      color: #002855;\n",
              "    }\n",
              "    h2 {\n",
              "      color: #002855;\n",
              "    }\n",
              "</style>\n"
            ]
          },
          "metadata": {}
        },
        {
          "output_type": "execute_result",
          "data": {
            "text/plain": [
              "(-3.0, 3.0, 0.0, 10.0)"
            ]
          },
          "metadata": {},
          "execution_count": 41
        },
        {
          "output_type": "display_data",
          "data": {
            "text/plain": [
              "<Figure size 640x480 with 1 Axes>"
            ],
            "image/png": "[encoded data removed]"
          },
          "metadata": {}
        }
      ],
      "source": [
        "from sklearn.preprocessing import StandardScaler\n",
        "from sklearn.pipeline import Pipeline\n",
        "\n",
        "for style, width, degree in ((\"g-\", 1, 300), (\"b--\", 2, 2), (\"r-+\", 2, 1)):\n",
        "    polybig_features = PolynomialFeatures(degree=degree, include_bias=False)\n",
        "    std_scaler = StandardScaler()\n",
        "    lin_reg = LinearRegression()\n",
        "    polynomial_regression = Pipeline([\n",
        "            (\"poly_features\", polybig_features),\n",
        "            (\"std_scaler\", std_scaler),\n",
        "            (\"lin_reg\", lin_reg),\n",
        "        ])\n",
        "    polynomial_regression.fit(X, y)\n",
        "    y_newbig = polynomial_regression.predict(X_new)\n",
        "    plt.plot(X_new, y_newbig, style, label=str(degree), linewidth=width)\n",
        "\n",
        "plt.plot(X, y, \"b.\", linewidth=3)\n",
        "plt.legend(loc=\"upper left\")\n",
        "plt.xlabel(\"$x_1$\", fontsize=18)\n",
        "plt.ylabel(\"$y$\", rotation=0, fontsize=18)\n",
        "plt.axis([-3, 3, 0, 10])"
      ]
    },
    {
      "cell_type": "markdown",
      "metadata": {
        "id": "PnEGS5HzZLrv"
      },
      "source": [
        "# Regularized models\n",
        "\n",
        "The figure above for 300-degree polynomial shows a big overfitting, which means\n",
        "**try to keep the parameters** $\\theta$ **small unless the data really convinces us otherwise**\n",
        ". There are ways to control such behavior by constraining the weights of those high order polynomial penalizing solutions that use them. Therefore, the main idea is to add a penalty term to the algorithm’s loss function. This changes the model’s weights which results from minimizing the loss function.\n",
        "\n",
        "## Ridge Regression\n",
        "\n",
        "W very simple explanation of this regression type can be round in [Ridge Regression](https://ncss-wpengine.netdna-ssl.com/wp-content/themes/ncss/pdf/Procedures/NCSS/Ridge_Regression.pdf). Basically, minimization problem of finding the parameters in the regression is converted to\n",
        "\n",
        "\\begin{equation}\n",
        "|| X \\theta - y||_2^2 + \\gamma || \\theta ||_2^2\n",
        "\\end{equation}\n",
        "\n",
        "where $\\gamma \\ge0$ is the so-called regularization parameter and it has to be chosen by the user. In general, the optimal value of $\\gamma$ can be obtained by tuning or by cross-validation.\n",
        "\n",
        "Now, the normal function now becomes:\n",
        "\n",
        "\\begin{equation}\n",
        "  \\hat{\\boldsymbol\\theta} = (\\mathbf{X}^\\mathsf{T}\\mathbf{X} + \\gamma I_{p+1})^{-1} \\mathbf{X}^\\mathsf{T} \\mathbf{y},\n",
        "\\end{equation}\n",
        "\n",
        "where $I_{p+1}$ is the identity matrix of $(p+1)\\times(p+1)$.\n"
      ]
    },
    {
      "cell_type": "code",
      "execution_count": 42,
      "metadata": {
        "id": "aT-00aYzZLrw",
        "outputId": "c0159e12-be68-4f62-82ac-500275719d32",
        "colab": {
          "base_uri": "https://localhost:8080/",
          "height": 17
        }
      },
      "outputs": [
        {
          "output_type": "display_data",
          "data": {
            "text/plain": [
              "<IPython.core.display.HTML object>"
            ],
            "text/html": [
              "<style>\n",
              "    .div-1 {\n",
              "        background-color: #EBEBEB;\n",
              "    }\n",
              "\n",
              "    .div-2 {\n",
              "    \tbackground-color: #ABBAEA;\n",
              "    }\n",
              "\n",
              "    .div-3 {\n",
              "    \tbackground-color: #FBD603;\n",
              "    }\n",
              "    .div-white {\n",
              "    \tbackground-color: #FFFFFF;\n",
              "    }\n",
              "    h1 {\n",
              "      color: #002855;\n",
              "    }\n",
              "    h2 {\n",
              "      color: #002855;\n",
              "    }\n",
              "</style>\n"
            ]
          },
          "metadata": {}
        }
      ],
      "source": [
        "np.random.seed(42)\n",
        "m = 20\n",
        "X = 3 * np.random.rand(m, 1)\n",
        "y = 1 + 0.5 * X + np.random.randn(m, 1) / 1.5\n",
        "X_new = np.linspace(0, 3, 100).reshape(100, 1)"
      ]
    },
    {
      "cell_type": "code",
      "execution_count": 43,
      "metadata": {
        "id": "akXZsZ5VZLrw",
        "outputId": "b55c77bf-acb1-49e2-f120-670674414457",
        "colab": {
          "base_uri": "https://localhost:8080/",
          "height": 35
        }
      },
      "outputs": [
        {
          "output_type": "display_data",
          "data": {
            "text/plain": [
              "<IPython.core.display.HTML object>"
            ],
            "text/html": [
              "<style>\n",
              "    .div-1 {\n",
              "        background-color: #EBEBEB;\n",
              "    }\n",
              "\n",
              "    .div-2 {\n",
              "    \tbackground-color: #ABBAEA;\n",
              "    }\n",
              "\n",
              "    .div-3 {\n",
              "    \tbackground-color: #FBD603;\n",
              "    }\n",
              "    .div-white {\n",
              "    \tbackground-color: #FFFFFF;\n",
              "    }\n",
              "    h1 {\n",
              "      color: #002855;\n",
              "    }\n",
              "    h2 {\n",
              "      color: #002855;\n",
              "    }\n",
              "</style>\n"
            ]
          },
          "metadata": {}
        },
        {
          "output_type": "execute_result",
          "data": {
            "text/plain": [
              "array([[1.55071465]])"
            ]
          },
          "metadata": {},
          "execution_count": 43
        }
      ],
      "source": [
        "from sklearn.linear_model import Ridge\n",
        "ridge_reg = Ridge(alpha=1, solver=\"cholesky\", random_state=42)\n",
        "ridge_reg.fit(X, y)\n",
        "ridge_reg.predict([[1.5]])"
      ]
    },
    {
      "cell_type": "code",
      "execution_count": 44,
      "metadata": {
        "id": "4o6P6ycoZLrx",
        "outputId": "335597be-1d38-40aa-c0c3-e1954c43f076",
        "colab": {
          "base_uri": "https://localhost:8080/",
          "height": 35
        }
      },
      "outputs": [
        {
          "output_type": "display_data",
          "data": {
            "text/plain": [
              "<IPython.core.display.HTML object>"
            ],
            "text/html": [
              "<style>\n",
              "    .div-1 {\n",
              "        background-color: #EBEBEB;\n",
              "    }\n",
              "\n",
              "    .div-2 {\n",
              "    \tbackground-color: #ABBAEA;\n",
              "    }\n",
              "\n",
              "    .div-3 {\n",
              "    \tbackground-color: #FBD603;\n",
              "    }\n",
              "    .div-white {\n",
              "    \tbackground-color: #FFFFFF;\n",
              "    }\n",
              "    h1 {\n",
              "      color: #002855;\n",
              "    }\n",
              "    h2 {\n",
              "      color: #002855;\n",
              "    }\n",
              "</style>\n"
            ]
          },
          "metadata": {}
        },
        {
          "output_type": "execute_result",
          "data": {
            "text/plain": [
              "array([[1.55072189]])"
            ]
          },
          "metadata": {},
          "execution_count": 44
        }
      ],
      "source": [
        "ridge_reg = Ridge(alpha=1, solver=\"sag\", random_state=42)\n",
        "ridge_reg.fit(X, y)\n",
        "ridge_reg.predict([[1.5]])"
      ]
    },
    {
      "cell_type": "code",
      "execution_count": 45,
      "metadata": {
        "id": "IIQLf0MvZLry",
        "outputId": "b258e4d1-5c5f-4554-8a36-cab21646c4c5",
        "colab": {
          "base_uri": "https://localhost:8080/",
          "height": 403
        }
      },
      "outputs": [
        {
          "output_type": "display_data",
          "data": {
            "text/plain": [
              "<IPython.core.display.HTML object>"
            ],
            "text/html": [
              "<style>\n",
              "    .div-1 {\n",
              "        background-color: #EBEBEB;\n",
              "    }\n",
              "\n",
              "    .div-2 {\n",
              "    \tbackground-color: #ABBAEA;\n",
              "    }\n",
              "\n",
              "    .div-3 {\n",
              "    \tbackground-color: #FBD603;\n",
              "    }\n",
              "    .div-white {\n",
              "    \tbackground-color: #FFFFFF;\n",
              "    }\n",
              "    h1 {\n",
              "      color: #002855;\n",
              "    }\n",
              "    h2 {\n",
              "      color: #002855;\n",
              "    }\n",
              "</style>\n"
            ]
          },
          "metadata": {}
        },
        {
          "output_type": "display_data",
          "data": {
            "text/plain": [
              "<Figure size 800x400 with 2 Axes>"
            ],
            "image/png": "[encoded data removed]"
          },
          "metadata": {}
        }
      ],
      "source": [
        "from sklearn.linear_model import Ridge\n",
        "\n",
        "def plot_model(model_class, polynomial, alphas, **model_kargs):\n",
        "    for alpha, style in zip(alphas, (\"b-\", \"g--\", \"r:\")):\n",
        "        model = model_class(alpha, **model_kargs) if alpha > 0 else LinearRegression()\n",
        "        if polynomial:\n",
        "            model = Pipeline([\n",
        "                    (\"poly_features\", PolynomialFeatures(degree=10, include_bias=False)),\n",
        "                    (\"std_scaler\", StandardScaler()),\n",
        "                    (\"regul_reg\", model),\n",
        "                ])\n",
        "        model.fit(X, y)\n",
        "        y_new_regul = model.predict(X_new)\n",
        "        lw = 2 if alpha > 0 else 1\n",
        "        plt.plot(X_new, y_new_regul, style, linewidth=lw, label=r\"$\\alpha = {}$\".format(alpha))\n",
        "    plt.plot(X, y, \"b.\", linewidth=3)\n",
        "    plt.legend(loc=\"upper left\", fontsize=15)\n",
        "    plt.xlabel(\"$x_1$\", fontsize=18)\n",
        "    plt.axis([0, 3, 0, 4])\n",
        "\n",
        "plt.figure(figsize=(8,4))\n",
        "plt.subplot(121)\n",
        "plot_model(Ridge, polynomial=False, alphas=(0, 10, 100), random_state=42)\n",
        "plt.ylabel(\"$y$\", rotation=0, fontsize=18)\n",
        "plt.subplot(122)\n",
        "plot_model(Ridge, polynomial=True, alphas=(0, 10**-5, 1), random_state=42)"
      ]
    },
    {
      "cell_type": "markdown",
      "metadata": {
        "id": "-G0DW7IiZLry"
      },
      "source": [
        "**Note**: to be future-proof, we set `max_iter=1000` and `tol=1e-3` because these will be the default values in Scikit-Learn 0.21."
      ]
    },
    {
      "cell_type": "markdown",
      "metadata": {
        "id": "qXj723tZZLrz"
      },
      "source": [
        "In scikit-learn, this Regularization can be achieved with the `penalty=\"l2\"` on the regressor."
      ]
    },
    {
      "cell_type": "code",
      "execution_count": 46,
      "metadata": {
        "id": "tmsXxGPeZLrz",
        "outputId": "b0fba59d-d22d-451b-cc65-1dd62f263ccc",
        "colab": {
          "base_uri": "https://localhost:8080/",
          "height": 35
        }
      },
      "outputs": [
        {
          "output_type": "display_data",
          "data": {
            "text/plain": [
              "<IPython.core.display.HTML object>"
            ],
            "text/html": [
              "<style>\n",
              "    .div-1 {\n",
              "        background-color: #EBEBEB;\n",
              "    }\n",
              "\n",
              "    .div-2 {\n",
              "    \tbackground-color: #ABBAEA;\n",
              "    }\n",
              "\n",
              "    .div-3 {\n",
              "    \tbackground-color: #FBD603;\n",
              "    }\n",
              "    .div-white {\n",
              "    \tbackground-color: #FFFFFF;\n",
              "    }\n",
              "    h1 {\n",
              "      color: #002855;\n",
              "    }\n",
              "    h2 {\n",
              "      color: #002855;\n",
              "    }\n",
              "</style>\n"
            ]
          },
          "metadata": {}
        },
        {
          "output_type": "execute_result",
          "data": {
            "text/plain": [
              "array([1.47012588])"
            ]
          },
          "metadata": {},
          "execution_count": 46
        }
      ],
      "source": [
        "sgd_reg = SGDRegressor(penalty=\"l2\", max_iter=1000, tol=1e-3, random_state=42)\n",
        "sgd_reg.fit(X, y.ravel())\n",
        "sgd_reg.predict([[1.5]])"
      ]
    },
    {
      "cell_type": "markdown",
      "metadata": {
        "id": "Cp3P6K7zZLr0"
      },
      "source": [
        "## Lasso Regression\n",
        "\n",
        "The acronym “LASSO” stands for Least Absolute Shrinkage and Selection Operator and the minimization procedure happens on\n",
        "\\begin{equation}\n",
        "|| X \\theta - y||_2^2 + \\gamma || \\theta ||_1\n",
        "\\end{equation}\n",
        "\n",
        "where $||.||_1$ is the so-called Manhattan norm. Compare with the Ride regression, there is no closed form for the parameters but it is still a problem that can be solved by using numerical optimization. LASSO tends to favor so-called sparse solutions where only a few of the parameters are non-zero, and the rest are exactly zero."
      ]
    },
    {
      "cell_type": "code",
      "execution_count": 47,
      "metadata": {
        "id": "DRF2tJpMZLr0",
        "outputId": "7115e275-7dae-4471-b473-ed17edd2160d",
        "colab": {
          "base_uri": "https://localhost:8080/",
          "height": 403
        }
      },
      "outputs": [
        {
          "output_type": "display_data",
          "data": {
            "text/plain": [
              "<IPython.core.display.HTML object>"
            ],
            "text/html": [
              "<style>\n",
              "    .div-1 {\n",
              "        background-color: #EBEBEB;\n",
              "    }\n",
              "\n",
              "    .div-2 {\n",
              "    \tbackground-color: #ABBAEA;\n",
              "    }\n",
              "\n",
              "    .div-3 {\n",
              "    \tbackground-color: #FBD603;\n",
              "    }\n",
              "    .div-white {\n",
              "    \tbackground-color: #FFFFFF;\n",
              "    }\n",
              "    h1 {\n",
              "      color: #002855;\n",
              "    }\n",
              "    h2 {\n",
              "      color: #002855;\n",
              "    }\n",
              "</style>\n"
            ]
          },
          "metadata": {}
        },
        {
          "output_type": "display_data",
          "data": {
            "text/plain": [
              "<Figure size 800x400 with 2 Axes>"
            ],
            "image/png": "[encoded data removed]"
          },
          "metadata": {}
        }
      ],
      "source": [
        "from sklearn.linear_model import Lasso\n",
        "\n",
        "plt.figure(figsize=(8,4))\n",
        "plt.subplot(121)\n",
        "plot_model(Lasso, polynomial=False, alphas=(0, 0.1, 1), random_state=42)\n",
        "plt.ylabel(\"$y$\", rotation=0, fontsize=18)\n",
        "plt.subplot(122)\n",
        "plot_model(Lasso, polynomial=True, alphas=(0, 10**-7, 1), random_state=42)"
      ]
    },
    {
      "cell_type": "code",
      "execution_count": 48,
      "metadata": {
        "id": "NFf6gDscZLr0",
        "outputId": "64bd3a92-9ebf-4bbf-9144-3bd4b4b33e8f",
        "colab": {
          "base_uri": "https://localhost:8080/",
          "height": 35
        }
      },
      "outputs": [
        {
          "output_type": "display_data",
          "data": {
            "text/plain": [
              "<IPython.core.display.HTML object>"
            ],
            "text/html": [
              "<style>\n",
              "    .div-1 {\n",
              "        background-color: #EBEBEB;\n",
              "    }\n",
              "\n",
              "    .div-2 {\n",
              "    \tbackground-color: #ABBAEA;\n",
              "    }\n",
              "\n",
              "    .div-3 {\n",
              "    \tbackground-color: #FBD603;\n",
              "    }\n",
              "    .div-white {\n",
              "    \tbackground-color: #FFFFFF;\n",
              "    }\n",
              "    h1 {\n",
              "      color: #002855;\n",
              "    }\n",
              "    h2 {\n",
              "      color: #002855;\n",
              "    }\n",
              "</style>\n"
            ]
          },
          "metadata": {}
        },
        {
          "output_type": "execute_result",
          "data": {
            "text/plain": [
              "array([1.53788174])"
            ]
          },
          "metadata": {},
          "execution_count": 48
        }
      ],
      "source": [
        "from sklearn.linear_model import Lasso\n",
        "lasso_reg = Lasso(alpha=0.1)\n",
        "lasso_reg.fit(X, y)\n",
        "lasso_reg.predict([[1.5]])"
      ]
    },
    {
      "cell_type": "markdown",
      "metadata": {
        "id": "C-MZgdEfZLr1"
      },
      "source": [
        "## Elastic Net\n",
        "\n",
        "This one is a mix between Ridge and Lasso, where the minimization is now over\n",
        "\n",
        "\\begin{equation}\n",
        "|| X \\theta - y||_2^2 + \\frac{1-r}{2} \\gamma || \\theta ||_1 + r \\gamma || \\theta ||_2^2\n",
        "\\end{equation}\n",
        "\n"
      ]
    },
    {
      "cell_type": "code",
      "execution_count": 49,
      "metadata": {
        "id": "Q3lLGIBbZLr1",
        "outputId": "63a9555e-d950-4da2-dce2-d1cd53de15bc",
        "colab": {
          "base_uri": "https://localhost:8080/",
          "height": 35
        }
      },
      "outputs": [
        {
          "output_type": "display_data",
          "data": {
            "text/plain": [
              "<IPython.core.display.HTML object>"
            ],
            "text/html": [
              "<style>\n",
              "    .div-1 {\n",
              "        background-color: #EBEBEB;\n",
              "    }\n",
              "\n",
              "    .div-2 {\n",
              "    \tbackground-color: #ABBAEA;\n",
              "    }\n",
              "\n",
              "    .div-3 {\n",
              "    \tbackground-color: #FBD603;\n",
              "    }\n",
              "    .div-white {\n",
              "    \tbackground-color: #FFFFFF;\n",
              "    }\n",
              "    h1 {\n",
              "      color: #002855;\n",
              "    }\n",
              "    h2 {\n",
              "      color: #002855;\n",
              "    }\n",
              "</style>\n"
            ]
          },
          "metadata": {}
        },
        {
          "output_type": "execute_result",
          "data": {
            "text/plain": [
              "array([1.54333232])"
            ]
          },
          "metadata": {},
          "execution_count": 49
        }
      ],
      "source": [
        "from sklearn.linear_model import ElasticNet\n",
        "elastic_net = ElasticNet(alpha=0.1, l1_ratio=0.5, random_state=42)\n",
        "elastic_net.fit(X, y)\n",
        "elastic_net.predict([[1.5]])"
      ]
    },
    {
      "cell_type": "code",
      "execution_count": 50,
      "metadata": {
        "id": "8TRcQmmCZLr2",
        "outputId": "4865b486-b865-43e3-d988-c02572a2fe9e",
        "colab": {
          "base_uri": "https://localhost:8080/",
          "height": 17
        }
      },
      "outputs": [
        {
          "output_type": "display_data",
          "data": {
            "text/plain": [
              "<IPython.core.display.HTML object>"
            ],
            "text/html": [
              "<style>\n",
              "    .div-1 {\n",
              "        background-color: #EBEBEB;\n",
              "    }\n",
              "\n",
              "    .div-2 {\n",
              "    \tbackground-color: #ABBAEA;\n",
              "    }\n",
              "\n",
              "    .div-3 {\n",
              "    \tbackground-color: #FBD603;\n",
              "    }\n",
              "    .div-white {\n",
              "    \tbackground-color: #FFFFFF;\n",
              "    }\n",
              "    h1 {\n",
              "      color: #002855;\n",
              "    }\n",
              "    h2 {\n",
              "      color: #002855;\n",
              "    }\n",
              "</style>\n"
            ]
          },
          "metadata": {}
        }
      ],
      "source": [
        "from sklearn.model_selection import train_test_split\n",
        "np.random.seed(42)\n",
        "m = 100\n",
        "X = 6 * np.random.rand(m, 1) - 3\n",
        "y = 2 + X + 0.5 * X**2 + np.random.randn(m, 1)\n",
        "\n",
        "X_train, X_val, y_train, y_val = train_test_split(X[:50], y[:50].ravel(), test_size=0.5, random_state=10)"
      ]
    },
    {
      "cell_type": "markdown",
      "metadata": {
        "id": "IND9EFQAZLr2"
      },
      "source": [
        "## Early stopping\n",
        "\n",
        "Here the idea is to stop training as soon the validation error reaches a minimum"
      ]
    },
    {
      "cell_type": "code",
      "execution_count": 51,
      "metadata": {
        "scrolled": true,
        "id": "qqegPiijZLr3",
        "outputId": "006161c4-0808-45f2-b17e-647b90e1907e",
        "colab": {
          "base_uri": "https://localhost:8080/",
          "height": 17
        }
      },
      "outputs": [
        {
          "output_type": "display_data",
          "data": {
            "text/plain": [
              "<IPython.core.display.HTML object>"
            ],
            "text/html": [
              "<style>\n",
              "    .div-1 {\n",
              "        background-color: #EBEBEB;\n",
              "    }\n",
              "\n",
              "    .div-2 {\n",
              "    \tbackground-color: #ABBAEA;\n",
              "    }\n",
              "\n",
              "    .div-3 {\n",
              "    \tbackground-color: #FBD603;\n",
              "    }\n",
              "    .div-white {\n",
              "    \tbackground-color: #FFFFFF;\n",
              "    }\n",
              "    h1 {\n",
              "      color: #002855;\n",
              "    }\n",
              "    h2 {\n",
              "      color: #002855;\n",
              "    }\n",
              "</style>\n"
            ]
          },
          "metadata": {}
        }
      ],
      "source": [
        "from sklearn.base import clone\n",
        "from sklearn.metrics import mean_squared_error\n",
        "\n",
        "poly_scaler = Pipeline([\n",
        "        (\"poly_features\", PolynomialFeatures(degree=90, include_bias=False)),\n",
        "        (\"std_scaler\", StandardScaler())\n",
        "    ])\n",
        "\n",
        "X_train_poly_scaled = poly_scaler.fit_transform(X_train)\n",
        "X_val_poly_scaled = poly_scaler.transform(X_val)\n",
        "\n",
        "sgd_reg = SGDRegressor(max_iter=7, tol=1E4, warm_start=True,\n",
        "                       penalty=None, learning_rate=\"constant\", eta0=0.0005, random_state=42)\n",
        "\n",
        "minimum_val_error = float(\"inf\")\n",
        "best_epoch = None\n",
        "best_model = None\n",
        "for epoch in range(1000):\n",
        "    sgd_reg.fit(X_train_poly_scaled, y_train)  # continues where it left off\n",
        "    y_val_predict = sgd_reg.predict(X_val_poly_scaled)\n",
        "    val_error = mean_squared_error(y_val, y_val_predict)\n",
        "    if val_error < minimum_val_error:\n",
        "        minimum_val_error = val_error\n",
        "        best_epoch = epoch\n",
        "        best_model = clone(sgd_reg)"
      ]
    },
    {
      "cell_type": "markdown",
      "metadata": {
        "id": "l17__nS2ZLr3"
      },
      "source": [
        "Create the graph:"
      ]
    },
    {
      "cell_type": "code",
      "execution_count": 52,
      "metadata": {
        "id": "8TIWZcHAZLr4",
        "outputId": "3fcb41b2-50da-4d6c-c065-cf7d513e0efe",
        "colab": {
          "base_uri": "https://localhost:8080/",
          "height": 472
        }
      },
      "outputs": [
        {
          "output_type": "display_data",
          "data": {
            "text/plain": [
              "<IPython.core.display.HTML object>"
            ],
            "text/html": [
              "<style>\n",
              "    .div-1 {\n",
              "        background-color: #EBEBEB;\n",
              "    }\n",
              "\n",
              "    .div-2 {\n",
              "    \tbackground-color: #ABBAEA;\n",
              "    }\n",
              "\n",
              "    .div-3 {\n",
              "    \tbackground-color: #FBD603;\n",
              "    }\n",
              "    .div-white {\n",
              "    \tbackground-color: #FFFFFF;\n",
              "    }\n",
              "    h1 {\n",
              "      color: #002855;\n",
              "    }\n",
              "    h2 {\n",
              "      color: #002855;\n",
              "    }\n",
              "</style>\n"
            ]
          },
          "metadata": {}
        },
        {
          "output_type": "execute_result",
          "data": {
            "text/plain": [
              "Text(0, 0.5, 'RMSE')"
            ]
          },
          "metadata": {},
          "execution_count": 52
        },
        {
          "output_type": "display_data",
          "data": {
            "text/plain": [
              "<Figure size 640x480 with 1 Axes>"
            ],
            "image/png": "[encoded data removed]"
          },
          "metadata": {}
        }
      ],
      "source": [
        "sgd_reg = SGDRegressor(max_iter=7, tol=1E4, warm_start=True,\n",
        "                       penalty=None, learning_rate=\"constant\", eta0=0.0005, random_state=42)\n",
        "\n",
        "n_epochs = 500\n",
        "train_errors, val_errors = [], []\n",
        "for epoch in range(n_epochs):\n",
        "    sgd_reg.fit(X_train_poly_scaled, y_train)\n",
        "    y_train_predict = sgd_reg.predict(X_train_poly_scaled)\n",
        "    y_val_predict = sgd_reg.predict(X_val_poly_scaled)\n",
        "    train_errors.append(mean_squared_error(y_train, y_train_predict))\n",
        "    val_errors.append(mean_squared_error(y_val, y_val_predict))\n",
        "\n",
        "best_epoch = np.argmin(val_errors)\n",
        "best_val_rmse = np.sqrt(val_errors[best_epoch])\n",
        "\n",
        "plt.annotate('Best model',\n",
        "             xy=(best_epoch, best_val_rmse),\n",
        "             xytext=(best_epoch, best_val_rmse + 1),\n",
        "             ha=\"center\",\n",
        "             arrowprops=dict(facecolor='black', shrink=0.05),\n",
        "             fontsize=16,\n",
        "            )\n",
        "\n",
        "best_val_rmse -= 0.03  # just to make the graph look better\n",
        "plt.plot([0, n_epochs], [best_val_rmse, best_val_rmse], \"k:\", linewidth=2)\n",
        "plt.plot(np.sqrt(val_errors), \"b-\", linewidth=3, label=\"Validation set\")\n",
        "plt.plot(np.sqrt(train_errors), \"r--\", linewidth=2, label=\"Training set\")\n",
        "plt.legend(loc=\"upper right\", fontsize=14)\n",
        "plt.xlabel(\"Epoch\", fontsize=14)\n",
        "plt.ylabel(\"RMSE\", fontsize=14)"
      ]
    },
    {
      "cell_type": "code",
      "execution_count": 53,
      "metadata": {
        "id": "NTpBc4e3ZLr4",
        "outputId": "d035c0cf-6e12-45e2-cb76-7f92cbea2437",
        "colab": {
          "base_uri": "https://localhost:8080/",
          "height": 72
        }
      },
      "outputs": [
        {
          "output_type": "display_data",
          "data": {
            "text/plain": [
              "<IPython.core.display.HTML object>"
            ],
            "text/html": [
              "<style>\n",
              "    .div-1 {\n",
              "        background-color: #EBEBEB;\n",
              "    }\n",
              "\n",
              "    .div-2 {\n",
              "    \tbackground-color: #ABBAEA;\n",
              "    }\n",
              "\n",
              "    .div-3 {\n",
              "    \tbackground-color: #FBD603;\n",
              "    }\n",
              "    .div-white {\n",
              "    \tbackground-color: #FFFFFF;\n",
              "    }\n",
              "    h1 {\n",
              "      color: #002855;\n",
              "    }\n",
              "    h2 {\n",
              "      color: #002855;\n",
              "    }\n",
              "</style>\n"
            ]
          },
          "metadata": {}
        },
        {
          "output_type": "execute_result",
          "data": {
            "text/plain": [
              "(499,\n",
              " SGDRegressor(eta0=0.0005, learning_rate='constant', max_iter=7, penalty=None,\n",
              "              random_state=42, tol=10000.0, warm_start=True))"
            ]
          },
          "metadata": {},
          "execution_count": 53
        }
      ],
      "source": [
        "best_epoch, best_model"
      ]
    },
    {
      "cell_type": "code",
      "execution_count": 54,
      "metadata": {
        "id": "bKhEWF3OZLr5",
        "outputId": "cfb06b1c-121b-4c42-e69f-e37d22ede2da",
        "colab": {
          "base_uri": "https://localhost:8080/",
          "height": 17
        }
      },
      "outputs": [
        {
          "output_type": "display_data",
          "data": {
            "text/plain": [
              "<IPython.core.display.HTML object>"
            ],
            "text/html": [
              "<style>\n",
              "    .div-1 {\n",
              "        background-color: #EBEBEB;\n",
              "    }\n",
              "\n",
              "    .div-2 {\n",
              "    \tbackground-color: #ABBAEA;\n",
              "    }\n",
              "\n",
              "    .div-3 {\n",
              "    \tbackground-color: #FBD603;\n",
              "    }\n",
              "    .div-white {\n",
              "    \tbackground-color: #FFFFFF;\n",
              "    }\n",
              "    h1 {\n",
              "      color: #002855;\n",
              "    }\n",
              "    h2 {\n",
              "      color: #002855;\n",
              "    }\n",
              "</style>\n"
            ]
          },
          "metadata": {}
        }
      ],
      "source": [
        "t1a, t1b, t2a, t2b = -1, 3, -1.5, 1.5\n",
        "\n",
        "t1s = np.linspace(t1a, t1b, 500)\n",
        "t2s = np.linspace(t2a, t2b, 500)\n",
        "t1, t2 = np.meshgrid(t1s, t2s)\n",
        "T = np.c_[t1.ravel(), t2.ravel()]\n",
        "Xr = np.array([[1, 1], [1, -1], [1, 0.5]])\n",
        "yr = 2 * Xr[:, :1] + 0.5 * Xr[:, 1:]\n",
        "\n",
        "J = (1/len(Xr) * np.sum((T.dot(Xr.T) - yr.T)**2, axis=1)).reshape(t1.shape)\n",
        "\n",
        "N1 = np.linalg.norm(T, ord=1, axis=1).reshape(t1.shape)\n",
        "N2 = np.linalg.norm(T, ord=2, axis=1).reshape(t1.shape)\n",
        "\n",
        "t_min_idx = np.unravel_index(np.argmin(J), J.shape)\n",
        "t1_min, t2_min = t1[t_min_idx], t2[t_min_idx]\n",
        "\n",
        "t_init = np.array([[0.25], [-1]])"
      ]
    },
    {
      "cell_type": "code",
      "execution_count": 55,
      "metadata": {
        "id": "taK4eHb-ZLr5",
        "outputId": "a88abf8a-37c5-4665-8fab-60646ecff39d",
        "colab": {
          "base_uri": "https://localhost:8080/",
          "height": 733
        }
      },
      "outputs": [
        {
          "output_type": "display_data",
          "data": {
            "text/plain": [
              "<IPython.core.display.HTML object>"
            ],
            "text/html": [
              "<style>\n",
              "    .div-1 {\n",
              "        background-color: #EBEBEB;\n",
              "    }\n",
              "\n",
              "    .div-2 {\n",
              "    \tbackground-color: #ABBAEA;\n",
              "    }\n",
              "\n",
              "    .div-3 {\n",
              "    \tbackground-color: #FBD603;\n",
              "    }\n",
              "    .div-white {\n",
              "    \tbackground-color: #FFFFFF;\n",
              "    }\n",
              "    h1 {\n",
              "      color: #002855;\n",
              "    }\n",
              "    h2 {\n",
              "      color: #002855;\n",
              "    }\n",
              "</style>\n"
            ]
          },
          "metadata": {}
        },
        {
          "output_type": "display_data",
          "data": {
            "text/plain": [
              "<Figure size 1010x800 with 4 Axes>"
            ],
            "image/png": "[encoded data removed]"
          },
          "metadata": {}
        }
      ],
      "source": [
        "def bgd_path(theta, X, y, l1, l2, core = 1, eta = 0.05, n_iterations = 200):\n",
        "    path = [theta]\n",
        "    for iteration in range(n_iterations):\n",
        "        gradients = core * 2/len(X) * X.T.dot(X.dot(theta) - y) + l1 * np.sign(theta) + l2 * theta\n",
        "        theta = theta - eta * gradients\n",
        "        path.append(theta)\n",
        "    return np.array(path)\n",
        "\n",
        "fig, axes = plt.subplots(2, 2, sharex=True, sharey=True, figsize=(10.1, 8))\n",
        "for i, N, l1, l2, title in ((0, N1, 2., 0, \"Lasso\"), (1, N2, 0,  2., \"Ridge\")):\n",
        "    JR = J + l1 * N1 + l2 * 0.5 * N2**2\n",
        "\n",
        "    tr_min_idx = np.unravel_index(np.argmin(JR), JR.shape)\n",
        "    t1r_min, t2r_min = t1[tr_min_idx], t2[tr_min_idx]\n",
        "\n",
        "    levelsJ=(np.exp(np.linspace(0, 1, 20)) - 1) * (np.max(J) - np.min(J)) + np.min(J)\n",
        "    levelsJR=(np.exp(np.linspace(0, 1, 20)) - 1) * (np.max(JR) - np.min(JR)) + np.min(JR)\n",
        "    levelsN=np.linspace(0, np.max(N), 10)\n",
        "\n",
        "    path_J = bgd_path(t_init, Xr, yr, l1=0, l2=0)\n",
        "    path_JR = bgd_path(t_init, Xr, yr, l1, l2)\n",
        "    path_N = bgd_path(np.array([[2.0], [0.5]]), Xr, yr, np.sign(l1)/3, np.sign(l2), core=0)\n",
        "\n",
        "    ax = axes[i, 0]\n",
        "    ax.grid(True)\n",
        "    ax.axhline(y=0, color='k')\n",
        "    ax.axvline(x=0, color='k')\n",
        "    ax.contourf(t1, t2, N / 2., levels=levelsN)\n",
        "    ax.plot(path_N[:, 0], path_N[:, 1], \"y--\")\n",
        "    ax.plot(0, 0, \"ys\")\n",
        "    ax.plot(t1_min, t2_min, \"ys\")\n",
        "    ax.set_title(r\"$\\ell_{}$ penalty\".format(i + 1), fontsize=16)\n",
        "    ax.axis([t1a, t1b, t2a, t2b])\n",
        "    if i == 1:\n",
        "        ax.set_xlabel(r\"$\\theta_1$\", fontsize=16)\n",
        "    ax.set_ylabel(r\"$\\theta_2$\", fontsize=16, rotation=0)\n",
        "\n",
        "    ax = axes[i, 1]\n",
        "    ax.grid(True)\n",
        "    ax.axhline(y=0, color='k')\n",
        "    ax.axvline(x=0, color='k')\n",
        "    ax.contourf(t1, t2, JR, levels=levelsJR, alpha=0.9)\n",
        "    ax.plot(path_JR[:, 0], path_JR[:, 1], \"w-o\")\n",
        "    ax.plot(path_N[:, 0], path_N[:, 1], \"y--\")\n",
        "    ax.plot(0, 0, \"ys\")\n",
        "    ax.plot(t1_min, t2_min, \"ys\")\n",
        "    ax.plot(t1r_min, t2r_min, \"rs\")\n",
        "    ax.set_title(title, fontsize=16)\n",
        "    ax.axis([t1a, t1b, t2a, t2b])\n",
        "    if i == 1:\n",
        "        ax.set_xlabel(r\"$\\theta_1$\", fontsize=16)\n"
      ]
    },
    {
      "cell_type": "markdown",
      "metadata": {
        "id": "EfddGnbvZLr6"
      },
      "source": [
        "# Logistic regression\n",
        "\n",
        "Despite of its name Logistic regression is often used as a classifier used to estimate the probability of a given instance belonging to a class"
      ]
    },
    {
      "cell_type": "code",
      "execution_count": 56,
      "metadata": {
        "scrolled": true,
        "id": "oy7rafvvZLr6",
        "outputId": "d98a9c8e-4555-4f56-a161-51035290e475",
        "colab": {
          "base_uri": "https://localhost:8080/",
          "height": 329
        }
      },
      "outputs": [
        {
          "output_type": "display_data",
          "data": {
            "text/plain": [
              "<IPython.core.display.HTML object>"
            ],
            "text/html": [
              "<style>\n",
              "    .div-1 {\n",
              "        background-color: #EBEBEB;\n",
              "    }\n",
              "\n",
              "    .div-2 {\n",
              "    \tbackground-color: #ABBAEA;\n",
              "    }\n",
              "\n",
              "    .div-3 {\n",
              "    \tbackground-color: #FBD603;\n",
              "    }\n",
              "    .div-white {\n",
              "    \tbackground-color: #FFFFFF;\n",
              "    }\n",
              "    h1 {\n",
              "      color: #002855;\n",
              "    }\n",
              "    h2 {\n",
              "      color: #002855;\n",
              "    }\n",
              "</style>\n"
            ]
          },
          "metadata": {}
        },
        {
          "output_type": "execute_result",
          "data": {
            "text/plain": [
              "(-10.0, 10.0, -0.1, 1.1)"
            ]
          },
          "metadata": {},
          "execution_count": 56
        },
        {
          "output_type": "display_data",
          "data": {
            "text/plain": [
              "<Figure size 900x300 with 1 Axes>"
            ],
            "image/png": "[encoded data removed]"
          },
          "metadata": {}
        }
      ],
      "source": [
        "t = np.linspace(-10, 10, 100)\n",
        "sig = 1 / (1 + np.exp(-t))\n",
        "plt.figure(figsize=(9, 3))\n",
        "plt.plot([-10, 10], [0, 0], \"k-\")\n",
        "plt.plot([-10, 10], [0.5, 0.5], \"k:\")\n",
        "plt.plot([-10, 10], [1, 1], \"k:\")\n",
        "plt.plot([0, 0], [-1.1, 1.1], \"k-\")\n",
        "plt.plot(t, sig, \"b-\", linewidth=2, label=r\"$\\sigma(t) = \\frac{1}{1 + e^{-t}}$\")\n",
        "plt.xlabel(\"t\")\n",
        "plt.legend(loc=\"upper left\", fontsize=20)\n",
        "plt.axis([-10, 10, -0.1, 1.1])"
      ]
    },
    {
      "cell_type": "markdown",
      "metadata": {
        "id": "l0tpm3GeZLr7"
      },
      "source": [
        "The logistic regression was used in a previous notebook for the Iris Dataset"
      ]
    },
    {
      "cell_type": "markdown",
      "metadata": {
        "id": "VLmFQoN_ZLr9"
      },
      "source": [
        "---\n",
        "\n",
        "# Acknowledgments\n",
        "\n",
        "This notebook is based on a variety of sources, usually other notebooks, the material was adapted to the topics covered during lessons. In some cases, the original notebooks were created for Python 2.x or older versions of Scikit-learn or Tensorflow and they have to be adapted to at least Python 3.7.\n",
        "\n",
        "We acknowledge the support of the National Science Foundation and the US Department of Energy under projects: DMREF-NSF 1434897, NSF OAC-1740111 and DOE DE-SC0016176 is recognized.\n",
        "\n",
        "<div style=\"clear: both; display: table;\">\n",
        "<div style=\"border: none; float: left; width: 40%; padding: 10px\">\n",
        "<img src=\"https://github.com/romerogroup/Notebooks_4SIAH/blob/main/Machine_Learning/fig/NSF.jpg?raw=1\" alt=\"National Science Foundation\" style=\"width:50%\" align=\"left\" height=\"100\" width=\"100\">\n",
        "    </div>\n",
        "    <div style=\"border: none; float: right; width: 40%; padding: 10px\">\n",
        "<img src=\"https://github.com/romerogroup/Notebooks_4SIAH/blob/main/Machine_Learning/fig/DOE.jpg?raw=1\" alt=\"National Science Foundation\" style=\"width:50%\" align=\"right\" height=\"100\" width=\"100\">\n",
        "</div>"
      ]
    },
    {
      "cell_type": "markdown",
      "metadata": {
        "id": "HIev8l8eZLr9"
      },
      "source": [
        "---\n",
        "\n",
        "# References\n",
        "\n",
        "The snippets above are meant only to give a brief introduction to some of the most popular techniques in machine learning so you can decide whether this kind of analysis might be useful in your research. If it seems like machine learning will be important in your work, you may want to check out some of the resources listed below (arranged roughly from least to most technical):\n",
        "\n",
        "This list is by no means an exhaustive list of books and resources. I am listing the books from which I took inspiration. Also, I am listing materials where I found better ways to present topics. Often I am amazed by how people can create approachable materials for seemingly dry subjects.\n",
        "\n",
        "The order of the books goes from divulgation and practical to the more rigorous and mathematical. Slides, blogs, and videos are those I have found over the internet or suggested by others.\n",
        "\n",
        "### Selection of Books on Machine Learning\n",
        "\n",
        "<br>\n",
        "<div style=\"clear: both; display: table;\">\n",
        "  <div style=\"border: none; float: left; width: 200; padding: 5px\">\n",
        "  <img alt=\"Hands-On Machine Learning  with Scikit-Learn and TensorFlow\"\n",
        "       src=\"https://github.com/romerogroup/Notebooks_4SIAH/blob/main/Machine_Learning/fig/books/Hands-On%20Machine%20Learning%20%20with%20Scikit-Learn%20and%20TensorFlow.jpg?raw=1\"\n",
        "       height=\"160\" width=\"120\"  />\n",
        "  </div>\n",
        "  <div style=\"border: none; float: left; width: 800; padding: 5px\">\n",
        "      Hands-On Machine Learning  with Scikit-Learn and TensorFlow (First Edition [There is a second edition])<br>\n",
        "      Auréleien Géron<br>\n",
        "      2017<br>\n",
        "  </div>\n",
        "</div>\n",
        "\n",
        "<br>\n",
        "<div style=\"clear: both; display: table;\">\n",
        "  <div style=\"border: none; float: left; width: 200; padding: 5px\">\n",
        "  <img alt=\"Python Machine Learning - Raschka\"\n",
        "       src=\"https://github.com/romerogroup/Notebooks_4SIAH/blob/main/Machine_Learning/fig/books/Python%20Machine%20Learning%20-%20Raschka.jpg?raw=1\"\n",
        "       height=\"160\" width=\"120\"  />\n",
        "  </div>\n",
        "  <div style=\"border: none; float: left; width: 800; padding: 5px\">\n",
        "      Machine Learning, a Probabilistic Perspective<br>\n",
        "      Sebastian Raschka and Vahid Mirjalili<br>\n",
        "      2017<br>\n",
        "  </div>\n",
        "</div>\n",
        "\n",
        "<br>\n",
        "<div style=\"clear: both; display: table;\">\n",
        "  <div style=\"border: none; float: left; width: 200; padding: 5px\">\n",
        "  <img alt=\"Foundations of Machine Learning - Mohri\"\n",
        "       src=\"https://github.com/romerogroup/Notebooks_4SIAH/blob/main/Machine_Learning/fig/books/Foundations%20of%20Machine%20Learning%20-%20Mohri.jpg?raw=1\"\n",
        "       height=\"160\" width=\"120\"  />\n",
        "  </div>\n",
        "  <div style=\"border: none; float: left; width: 800; padding: 5px\">\n",
        "      Foundations of Machine Learning (Second Edition)<br>\n",
        "      Mehryar Mohri, Afshin Rostamizadeh and Ameet Talwalkar<br>\n",
        "      2018<br>\n",
        "  </div>\n",
        "</div>\n",
        "\n",
        "<br>\n",
        "<div style=\"clear: both; display: table;\">\n",
        "  <div style=\"border: none; float: left; width: 200; padding: 5px\">\n",
        "  <img alt=\"Introduction to Machine Learning - Alpaydin\"\n",
        "       src=\"https://github.com/romerogroup/Notebooks_4SIAH/blob/main/Machine_Learning/fig/books/Introduction%20to%20Machine%20Learning%20-%20Alpaydin.jpg?raw=1\"\n",
        "       height=\"160\" width=\"120\"  />\n",
        "  </div>\n",
        "  <div style=\"border: none; float: left; width: 800; padding: 5px\">\n",
        "      Introduction to Machine Learning (Fourth Edition)<br>\n",
        "      Ethem Alpaydin<br>\n",
        "      2020<br>\n",
        "  </div>\n",
        "</div>\n",
        "\n",
        "<br>\n",
        "<div style=\"clear: both; display: table;\">\n",
        "  <div style=\"border: none; float: left; width: 200; padding: 5px\">\n",
        "  <img alt=\"Machine Learning, a Probabilistic Perspective - Murphy\"\n",
        "       src=\"https://github.com/romerogroup/Notebooks_4SIAH/blob/main/Machine_Learning/fig/books/Machine%20Learning,%20a%20Probabilistic%20Perspective%20-%20Murphy.jpg?raw=1\"\n",
        "       height=\"160\" width=\"120\"  />\n",
        "  </div>\n",
        "  <div style=\"border: none; float: left; width: 800; padding: 5px\">\n",
        "      Machine Learning, a Probabilistic Perspective<br>\n",
        "      Kevin P. Murphy<br>\n",
        "      2012<br>\n",
        "  </div>\n",
        "</div>\n",
        "\n",
        "<br>\n",
        "<div style=\"clear: both; display: table;\">\n",
        "  <div style=\"border: none; float: left; width: 200; padding: 5px\">\n",
        "  <img alt=\"Elements of Statistical Learning - Hastie\"\n",
        "       src=\"https://github.com/romerogroup/Notebooks_4SIAH/blob/main/Machine_Learning/fig/books/Elements%20of%20Statistical%20Learning%20-%20Hastie.jpg?raw=1\"\n",
        "       height=\"160\" width=\"120\"  />\n",
        "  </div>\n",
        "  <div style=\"border: none; float: left; width: 800; padding: 5px\">\n",
        "      <a href=\"https://hastie.su.domains/Papers/ESLII.pdf\">Elements of Statistical Learning</a><br>\n",
        "      Trevor Hastie, Robert Tibshirani, and Jerome Friedman<br>\n",
        "      2008<br>\n",
        "  </div>\n",
        "</div>\n",
        "\n",
        "\n",
        "### Jupyter Notebooks\n",
        "\n",
        " * [Yale Digital Humanities Lab](https://github.com/YaleDHLab/lab-workshops)\n",
        "\n",
        " * Aurelien Geron Hands-on Machine Learning with Scikit-learn\n",
        "   [First Edition](https://github.com/ageron/handson-ml) and\n",
        "   [Second Edition](https://github.com/ageron/handson-ml2)\n",
        "   \n",
        " * [A progressive collection notebooks of the Machine Learning course by the University of Turin](https://github.com/rugantio/MachineLearningCourse)\n",
        "   \n",
        " * [A curated set of jupyter notebooks about many topics](https://github.com/jupyter/jupyter/wiki/A-gallery-of-interesting-Jupyter-Notebooks)\n",
        "   \n",
        "### Videos\n",
        "\n",
        " * [Caltech's \"Learning from Data\" by Professor Yaser Abu-Mostafa](https://work.caltech.edu/telecourse.html)\n",
        "\n",
        "\n",
        " * [A Friendly Introduction to Machine Learning](https://www.youtube.com/watch?v=IpGxLWOIZy4)\n",
        "\n",
        "In this 30-minute video, Luis Serrano (head of the machine learning at Udacity) offers intuitive, user-friendly introductions to the mechanics that drive several machine learning models, including Naive Bayes, Decision Tree, Logistic Regression, Neural Network, and Support Vector Machine classifiers. This video is a great place to start for those looking for quick intuitions about the ways these algorithms work.\n",
        "\n",
        " * [Hands-On Machine Learning with Scikit-Learn and TensorFlow (OREILLY)](http://shop.oreilly.com/product/0636920052289.do)\n",
        "\n",
        "This OREILLY book offers a great high-level introduction to machine learning with Python. Aurélien Géron guides readers through ways one can use scikit-learn and other popular libraries to build machine learning models in Python. This is a great choice for those who just want to get work done, without necessarily unlocking the insights that would allow one to build models from scratch.\n",
        "\n",
        " * [Machine Learning Cheatsheets](https://becominghuman.ai/cheat-sheets-for-ai-neural-networks-machine-learning-deep-learning-big-data-678c51b4b463)\n",
        "\n",
        "This collection of \"cheat sheets\" gives concise overviews of the API's and models behind many of the most prominent packages and concepts in machine learning and its allied fields, including different neural network architectures, numerical optimization techniques, algorithms appropriate for different tasks, scikit-learn, pandas, scikit-learn, scipy, ggpot2, dplyr and tidyr, big O notation, and several other topics. Recently identified as the \"most popular\" article on machine learning in Medium.\n",
        "\n",
        " * [Mining of Massive Datasets](http://www.mmds.org/)\n",
        "\n",
        "This Stanford University course and digital publication offer introductions to a wide array of subtopics in machine learning. The authors focus on helping readers gain an intuitive understanding of how machine learning models work. One of the most lucid and concise treatments of machine learning available on the web.\n",
        "\n",
        " * [Convolutional Neural Networks for Visual Recognition](http://cs231n.stanford.edu/)\n",
        "\n",
        "This Stanford University course offers a spectacular introduction to Convolutional Neural Networks, the cornerstone of modern machine learning in the domain of computer vision. If your work involves images or video materials, and you'd like to apply machine learning techniques to your data, this course will help you get up and running with state-of-the-art techniques in convnets.\n",
        "\n",
        " * [Machine Learning (Andrew Ng, Coursera)](https://www.coursera.org/learn/machine-learning)\n",
        "\n",
        "Andrew Ng's Coursera course on machine learning will help you master many of the fundamentals involved in modern machine learning. Professor Ng will guide you through a great deal of the math involved in contemporary machine learning, starting with simple linear classifiers and building up into complex neural network architectures. This class is ideal for those who like to understand the math behind the models they use.\n",
        "\n",
        " ---"
      ]
    },
    {
      "cell_type": "markdown",
      "metadata": {
        "id": "YLBhwAOZZLr-"
      },
      "source": [
        "# Back of the Book"
      ]
    },
    {
      "cell_type": "code",
      "execution_count": 57,
      "metadata": {
        "scrolled": true,
        "id": "rqddV-G5ZLr-",
        "outputId": "332b24c9-8a0d-4a6e-9c42-0e6a5ee7229f",
        "colab": {
          "base_uri": "https://localhost:8080/",
          "height": 268
        }
      },
      "outputs": [
        {
          "output_type": "display_data",
          "data": {
            "text/plain": [
              "<IPython.core.display.HTML object>"
            ],
            "text/html": [
              "<style>\n",
              "    .div-1 {\n",
              "        background-color: #EBEBEB;\n",
              "    }\n",
              "\n",
              "    .div-2 {\n",
              "    \tbackground-color: #ABBAEA;\n",
              "    }\n",
              "\n",
              "    .div-3 {\n",
              "    \tbackground-color: #FBD603;\n",
              "    }\n",
              "    .div-white {\n",
              "    \tbackground-color: #FFFFFF;\n",
              "    }\n",
              "    h1 {\n",
              "      color: #002855;\n",
              "    }\n",
              "    h2 {\n",
              "      color: #002855;\n",
              "    }\n",
              "</style>\n"
            ]
          },
          "metadata": {}
        },
        {
          "output_type": "display_data",
          "data": {
            "text/plain": [
              "<Figure size 300x300 with 1 Axes>"
            ],
            "image/png": "[encoded data removed]"
          },
          "metadata": {}
        }
      ],
      "source": [
        "plt.figure(figsize=(3,3))\n",
        "n = chapter_number\n",
        "maxt=(2*(n-1)+3)*np.pi/2\n",
        "t = np.linspace(np.pi/2, maxt, 1000)\n",
        "tt= 1.0/(t+0.01)\n",
        "x = (maxt-t)*np.cos(t)**3\n",
        "y = t*np.sqrt(np.abs(np.cos(t))) + np.sin(0.3*t)*np.cos(2*t)\n",
        "plt.plot(x, y, c=\"green\")\n",
        "plt.axis('off');"
      ]
    },
    {
      "cell_type": "code",
      "execution_count": 58,
      "metadata": {
        "id": "zVA7KD0yZLr_",
        "outputId": "0ebe59de-d406-459a-a53e-ffd49240d6fc",
        "colab": {
          "base_uri": "https://localhost:8080/",
          "height": 35
        }
      },
      "outputs": [
        {
          "output_type": "display_data",
          "data": {
            "text/plain": [
              "<IPython.core.display.HTML object>"
            ],
            "text/html": [
              "<style>\n",
              "    .div-1 {\n",
              "        background-color: #EBEBEB;\n",
              "    }\n",
              "\n",
              "    .div-2 {\n",
              "    \tbackground-color: #ABBAEA;\n",
              "    }\n",
              "\n",
              "    .div-3 {\n",
              "    \tbackground-color: #FBD603;\n",
              "    }\n",
              "    .div-white {\n",
              "    \tbackground-color: #FFFFFF;\n",
              "    }\n",
              "    h1 {\n",
              "      color: #002855;\n",
              "    }\n",
              "    h2 {\n",
              "      color: #002855;\n",
              "    }\n",
              "</style>\n"
            ]
          },
          "metadata": {}
        },
        {
          "output_type": "stream",
          "name": "stdout",
          "text": [
            "Chapter 4 run in 14 seconds\n"
          ]
        }
      ],
      "source": [
        "end = time.time()\n",
        "print(f'Chapter {chapter_number} run in {int(end - start):d} seconds')"
      ]
    }
  ],
  "metadata": {
    "kernelspec": {
      "display_name": "Python 3 (ipykernel)",
      "language": "python",
      "name": "python3"
    },
    "language_info": {
      "codemirror_mode": {
        "name": "ipython",
        "version": 3
      },
      "file_extension": ".py",
      "mimetype": "text/x-python",
      "name": "python",
      "nbconvert_exporter": "python",
      "pygments_lexer": "ipython3",
      "version": "3.11.6"
    },
    "nav_menu": {},
    "toc": {
      "navigate_menu": true,
      "number_sections": true,
      "sideBar": true,
      "threshold": 6,
      "toc_cell": false,
      "toc_section_display": "block",
      "toc_window_display": false
    },
    "colab": {
      "provenance": []
    }
  },
  "nbformat": 4,
  "nbformat_minor": 0
}