{
 "cells": [
  {
   "cell_type": "markdown",
   "id": "2685c83a",
   "metadata": {},
   "source": [
    "![Deep Learning for Scientists in a hurry](./fig/Title.png)"
   ]
  },
  {
   "cell_type": "code",
   "execution_count": 1,
   "id": "51d318b2",
   "metadata": {},
   "outputs": [],
   "source": [
    "%load_ext watermark"
   ]
  },
  {
   "cell_type": "code",
   "execution_count": 2,
   "id": "3e1f5cce",
   "metadata": {
    "scrolled": true
   },
   "outputs": [
    {
     "name": "stdout",
     "output_type": "stream",
     "text": [
      "Last updated: 2022-08-09T14:17:37.011745-04:00\n",
      "\n",
      "Python implementation: CPython\n",
      "Python version       : 3.10.5\n",
      "IPython version      : 8.4.0\n",
      "\n",
      "Compiler    : GCC 11.2.0\n",
      "OS          : Linux\n",
      "Release     : 3.10.0-1160.24.1.el7.x86_64\n",
      "Machine     : x86_64\n",
      "Processor   : x86_64\n",
      "CPU cores   : 40\n",
      "Architecture: 64bit\n",
      "\n"
     ]
    }
   ],
   "source": [
    "%watermark"
   ]
  },
  {
   "cell_type": "code",
   "execution_count": 3,
   "id": "2929c7e3",
   "metadata": {},
   "outputs": [],
   "source": [
    "import time\n",
    "start = time.time()\n",
    "chapter_number = 5\n",
    "import matplotlib\n",
    "%matplotlib inline\n",
    "%load_ext autoreload\n",
    "%autoreload 2\n",
    "import matplotlib.pyplot as plt"
   ]
  },
  {
   "cell_type": "code",
   "execution_count": 4,
   "id": "7c4ccbb7",
   "metadata": {},
   "outputs": [],
   "source": [
    "import numpy as np\n",
    "import pandas as pd\n",
    "import matplotlib as mpl\n",
    "import sklearn\n",
    "import scipy"
   ]
  },
  {
   "cell_type": "code",
   "execution_count": 5,
   "id": "73a29cda",
   "metadata": {
    "scrolled": false
   },
   "outputs": [
    {
     "name": "stdout",
     "output_type": "stream",
     "text": [
      "numpy     : 1.23.1\n",
      "scipy     : 1.9.0\n",
      "pandas    : 1.4.3\n",
      "sklearn   : 1.1.2\n",
      "matplotlib: 3.5.2\n",
      "\n"
     ]
    }
   ],
   "source": [
    "%watermark -iv"
   ]
  },
  {
   "cell_type": "markdown",
   "id": "73e0421a",
   "metadata": {},
   "source": [
    "![Deep Learning for Scientists in a hurry](./fig/Title.png)"
   ]
  },
  {
   "cell_type": "markdown",
   "id": "481cf2aa",
   "metadata": {},
   "source": [
    "# A shallow introduction to Deep Learning"
   ]
  },
  {
   "cell_type": "markdown",
   "id": "1cffe89f",
   "metadata": {},
   "source": [
    "Let's start with a very simple challenge and use Deep Learning to solve it. In chapter 3 we will use Deep Learning engines but for this first exercise, all that we will use is the Python language and Numpy package. \n",
    "\n",
    "This is also a good opportunity to familiarize with Python programming and fill eventual gaps.\n",
    "\n",
    "Python is an easy to learn Programming Language. Numpy is one of the most important packages created for Python, it is the de-facto standard for low-level numerical manipulation and we will use it extensively. \n",
    "Deep learning engines sometimes bring their numerical libraries but they are built to be similar to NumPy so what you will be learning here can be translated to those engines with little changes.\n",
    "\n",
    "The purpose of this chapter is to present a typical classification problem and travel across all the steps for solving it using Deep Learning techniques. In the next chapter, we will take one step back and create a foundation for the concepts that will be introduced here."
   ]
  },
  {
   "cell_type": "markdown",
   "id": "73549975",
   "metadata": {},
   "source": [
    "## A simple classification problem: red dots and blue dots"
   ]
  },
  {
   "cell_type": "markdown",
   "id": "ade49d76",
   "metadata": {},
   "source": [
    "Let's start with a purely academic problem. We will create a set of points in a 2D space. We will create those points using two normal distributions centered on different locations and spreaded in such a way that they overlap a bit.\n",
    "\n",
    "The problem is to create a Deep Learning model that using examples of the points in those distributions is capable of differentiate from which distribution they come from.\n",
    "\n",
    "Let's start with the creation of points and this is an excellent opportunity to introduce Numpy.\n",
    "\n",
    "**Numpy** is a library for numerical operations in python and should be the first option for doing large numerical operations in Python. The big advantage of using Numpy over naively programming everything with internal Python objects such as sets, tuples or lists is that the objects in Numpy are operated internally by well-optimized routines. The basic  \n",
    "object in Numpy is the NumPy array.\n",
    "\n",
    "To use Numpy we need to import the library in our current Python execution:"
   ]
  },
  {
   "cell_type": "code",
   "execution_count": 6,
   "id": "74e54d84",
   "metadata": {},
   "outputs": [],
   "source": [
    "import numpy as np"
   ]
  },
  {
   "cell_type": "markdown",
   "id": "8f87bb73",
   "metadata": {},
   "source": [
    "A NumPy array can be created from a Python list for example:"
   ]
  },
  {
   "cell_type": "code",
   "execution_count": 7,
   "id": "975764b7",
   "metadata": {},
   "outputs": [
    {
     "data": {
      "text/plain": [
       "array([1, 2, 3, 4, 5, 6])"
      ]
     },
     "execution_count": 7,
     "metadata": {},
     "output_type": "execute_result"
    }
   ],
   "source": [
    "x = np.array([1,2,3,4,5,6])\n",
    "x"
   ]
  },
  {
   "cell_type": "markdown",
   "id": "9cfe840d",
   "metadata": {},
   "source": [
    "Numpy is a very powerful library capable of creating a NumPy array with random values that follow a defined distribution. That is the next step here:"
   ]
  },
  {
   "cell_type": "code",
   "execution_count": 8,
   "id": "0d8272bd",
   "metadata": {},
   "outputs": [],
   "source": [
    "x = np.random.normal(size=1000)"
   ]
  },
  {
   "cell_type": "markdown",
   "id": "b87e6c98",
   "metadata": {},
   "source": [
    "We have created a NumPy array with 1000 elements that follow a normal distribution. We have not defined a center or standard deviation for the distribution, by default the center is the origin and the standard deviation is 1.\n",
    "\n",
    "There is no point in printing 1000 values here, but we can get an idea from looking at some of them. Numpy is also powerful in array manipulation and slicing is a common operation in Machine Learning. here are some examples of slices from this array.\n",
    "\n",
    "To get the first 10 elements in the array the slice looks like this:"
   ]
  },
  {
   "cell_type": "code",
   "execution_count": 9,
   "id": "1cc93ccb",
   "metadata": {},
   "outputs": [
    {
     "data": {
      "text/plain": [
       "array([-0.54110043,  0.45189475,  0.22151938,  1.12620209,  0.42795896,\n",
       "       -0.49796863, -0.36309119,  2.17134226, -0.31685771,  0.81038399])"
      ]
     },
     "execution_count": 9,
     "metadata": {},
     "output_type": "execute_result"
    }
   ],
   "source": [
    "x[:10]"
   ]
  },
  {
   "cell_type": "markdown",
   "id": "c7af2aea",
   "metadata": {},
   "source": [
    "The first 5 elements from the array by skipping one element from the original array:"
   ]
  },
  {
   "cell_type": "code",
   "execution_count": 10,
   "id": "4c908cbd",
   "metadata": {},
   "outputs": [
    {
     "data": {
      "text/plain": [
       "array([-0.54110043,  0.22151938,  0.42795896, -0.36309119, -0.31685771])"
      ]
     },
     "execution_count": 10,
     "metadata": {},
     "output_type": "execute_result"
    }
   ],
   "source": [
    "x[:10:2]"
   ]
  },
  {
   "cell_type": "markdown",
   "id": "ccb49549",
   "metadata": {},
   "source": [
    "The last 10 elements:"
   ]
  },
  {
   "cell_type": "code",
   "execution_count": 11,
   "id": "7eef93f6",
   "metadata": {},
   "outputs": [
    {
     "data": {
      "text/plain": [
       "array([ 0.90118335, -2.14113512, -1.02723927,  2.00122883, -0.75855149,\n",
       "        1.77223207,  1.13502178,  0.00452346, -0.83005139,  1.5747093 ])"
      ]
     },
     "execution_count": 11,
     "metadata": {},
     "output_type": "execute_result"
    }
   ],
   "source": [
    "x[-10:]"
   ]
  },
  {
   "cell_type": "markdown",
   "id": "b710ccac",
   "metadata": {},
   "source": [
    "It is important to know that when you are slicing NumPy arrays, you are not creating copies, just references on how to return elements from arrays. This is important because in Machine Learning we are often using very large arrays and doing copies could be a heavy burden not only from the memory usage but also the processing involved in creating copies of large amounts of data.\n",
    "\n",
    "Let's make this clear with one example:"
   ]
  },
  {
   "cell_type": "code",
   "execution_count": 12,
   "id": "c49e57c2",
   "metadata": {},
   "outputs": [
    {
     "data": {
      "text/plain": [
       "array([1, 3, 5])"
      ]
     },
     "execution_count": 12,
     "metadata": {},
     "output_type": "execute_result"
    }
   ],
   "source": [
    "a = np.array([1,2,3,4,5,6])\n",
    "b = a[::2]\n",
    "b"
   ]
  },
  {
   "cell_type": "code",
   "execution_count": 13,
   "id": "4d9564a7",
   "metadata": {},
   "outputs": [],
   "source": [
    "b[-1] = 999"
   ]
  },
  {
   "cell_type": "code",
   "execution_count": 14,
   "id": "f9bcd329",
   "metadata": {},
   "outputs": [
    {
     "data": {
      "text/plain": [
       "array([  1,   2,   3,   4, 999,   6])"
      ]
     },
     "execution_count": 14,
     "metadata": {},
     "output_type": "execute_result"
    }
   ],
   "source": [
    "a"
   ]
  },
  {
   "cell_type": "markdown",
   "id": "9c4c2ddf",
   "metadata": {},
   "source": [
    "Notice how we have affected the array `a` by changing one value from the array `b` which is a split of `a`"
   ]
  },
  {
   "cell_type": "markdown",
   "id": "9f27c923",
   "metadata": {},
   "source": [
    "now let's create a random distribution centered on 4 and with a standard deviation of 2:"
   ]
  },
  {
   "cell_type": "code",
   "execution_count": 15,
   "id": "3d367407",
   "metadata": {},
   "outputs": [],
   "source": [
    "x_sigma=2\n",
    "x_mean=4\n",
    "x = np.random.normal(size=1000, loc=x_mean, scale=x_sigma)"
   ]
  },
  {
   "cell_type": "markdown",
   "id": "928220bb",
   "metadata": {},
   "source": [
    "Now that we have one array of 1000 values a good way of making sense of large amounts of data is by making plots. **Matplotlib** is also the de-facto standard for general numerical plotting in Python. There are other libraries more specialized for data analysis such as `seaborn` which in turn works around matplotlib to create plots often used in more particular contexts."
   ]
  },
  {
   "cell_type": "code",
   "execution_count": 16,
   "id": "fdd33b4b",
   "metadata": {},
   "outputs": [],
   "source": [
    "import matplotlib.pyplot as plt"
   ]
  },
  {
   "cell_type": "code",
   "execution_count": 17,
   "id": "47ce802d",
   "metadata": {},
   "outputs": [
    {
     "data": {
      "image/png": "[encoded data removed]",
      "text/plain": [
       "<Figure size 432x288 with 1 Axes>"
      ]
     },
     "metadata": {
      "needs_background": "light"
     },
     "output_type": "display_data"
    }
   ],
   "source": [
    "plt.plot(x, 'ro', ms=1);"
   ]
  },
  {
   "cell_type": "markdown",
   "id": "1eb0c830",
   "metadata": {},
   "source": [
    "We see 1000 points, we can visually realize that the center of the distribution is around 4. The standard deviation is not so evident in this kind of plot. Another way of looking these points is using a histogram instead. "
   ]
  },
  {
   "cell_type": "code",
   "execution_count": 18,
   "id": "c6f2d435",
   "metadata": {},
   "outputs": [
    {
     "data": {
      "image/png": "[encoded data removed]",
      "text/plain": [
       "<Figure size 432x288 with 1 Axes>"
      ]
     },
     "metadata": {
      "needs_background": "light"
     },
     "output_type": "display_data"
    }
   ],
   "source": [
    "a=np.arange(-2,10,0.1)\n",
    "b=1.0/(x_sigma*np.sqrt(2*np.pi))*np.exp(-0.5*((a-4)/x_sigma)**2)\n",
    "plt.hist(x, density=True, bins=20);\n",
    "plt.plot(a,b);"
   ]
  },
  {
   "cell_type": "markdown",
   "id": "68a4bcb9",
   "metadata": {},
   "source": [
    "The array `x` was created from a normal distribution. Without looking a the values can check that the center and standard deviation effectively correspond to 0 and 1 respectively, at least to a certain tolerance."
   ]
  },
  {
   "cell_type": "code",
   "execution_count": 19,
   "id": "0de38051",
   "metadata": {},
   "outputs": [
    {
     "data": {
      "text/plain": [
       "3.8660818510588686"
      ]
     },
     "execution_count": 19,
     "metadata": {},
     "output_type": "execute_result"
    }
   ],
   "source": [
    "np.mean(x)"
   ]
  },
  {
   "cell_type": "code",
   "execution_count": 20,
   "id": "5c357b81",
   "metadata": {},
   "outputs": [
    {
     "data": {
      "text/plain": [
       "1.8848367856596948"
      ]
     },
     "execution_count": 20,
     "metadata": {},
     "output_type": "execute_result"
    }
   ],
   "source": [
    "np.std(x)"
   ]
  },
  {
   "cell_type": "markdown",
   "id": "3991c251",
   "metadata": {},
   "source": [
    "Now let's create a 2D arrangement of points. There are several ways of achieving that. We can continue our reasoning and build two distributions and join them in a 2D array. Before that let's discuss how multidimensional arrays work in Numpy.\n",
    "\n",
    "Numpy arrays can have multiple dimensions. The same data could be organized under several levels, for example:"
   ]
  },
  {
   "cell_type": "code",
   "execution_count": 21,
   "id": "b7414c75",
   "metadata": {},
   "outputs": [
    {
     "data": {
      "text/plain": [
       "array([ 1,  2,  3,  4,  5,  6,  7,  8,  9, 10, 11, 12, 13, 14, 15, 16])"
      ]
     },
     "execution_count": 21,
     "metadata": {},
     "output_type": "execute_result"
    }
   ],
   "source": [
    "x = np.arange(1,17)\n",
    "x"
   ]
  },
  {
   "cell_type": "code",
   "execution_count": 22,
   "id": "34e3dcd6",
   "metadata": {},
   "outputs": [
    {
     "data": {
      "text/plain": [
       "(16,)"
      ]
     },
     "execution_count": 22,
     "metadata": {},
     "output_type": "execute_result"
    }
   ],
   "source": [
    "x.shape"
   ]
  },
  {
   "cell_type": "code",
   "execution_count": 23,
   "id": "be09fcfe",
   "metadata": {},
   "outputs": [
    {
     "data": {
      "text/plain": [
       "array([[ 1,  2,  3,  4],\n",
       "       [ 5,  6,  7,  8],\n",
       "       [ 9, 10, 11, 12],\n",
       "       [13, 14, 15, 16]])"
      ]
     },
     "execution_count": 23,
     "metadata": {},
     "output_type": "execute_result"
    }
   ],
   "source": [
    "x.reshape(4,4)"
   ]
  },
  {
   "cell_type": "code",
   "execution_count": 24,
   "id": "dc8dcca3",
   "metadata": {},
   "outputs": [
    {
     "data": {
      "text/plain": [
       "array([[ 1,  2,  3,  4,  5,  6,  7,  8,  9, 10, 11, 12, 13, 14, 15, 16]])"
      ]
     },
     "execution_count": 24,
     "metadata": {},
     "output_type": "execute_result"
    }
   ],
   "source": [
    "x.reshape(-1,16)"
   ]
  },
  {
   "cell_type": "code",
   "execution_count": 25,
   "id": "dd15dd12",
   "metadata": {},
   "outputs": [
    {
     "data": {
      "text/plain": [
       "array([[ 1],\n",
       "       [ 2],\n",
       "       [ 3],\n",
       "       [ 4],\n",
       "       [ 5],\n",
       "       [ 6],\n",
       "       [ 7],\n",
       "       [ 8],\n",
       "       [ 9],\n",
       "       [10],\n",
       "       [11],\n",
       "       [12],\n",
       "       [13],\n",
       "       [14],\n",
       "       [15],\n",
       "       [16]])"
      ]
     },
     "execution_count": 25,
     "metadata": {},
     "output_type": "execute_result"
    }
   ],
   "source": [
    "x.reshape(16,-1)"
   ]
  },
  {
   "cell_type": "code",
   "execution_count": 26,
   "id": "c241fa58",
   "metadata": {},
   "outputs": [
    {
     "data": {
      "text/plain": [
       "array([[[ 1,  2],\n",
       "        [ 3,  4]],\n",
       "\n",
       "       [[ 5,  6],\n",
       "        [ 7,  8]],\n",
       "\n",
       "       [[ 9, 10],\n",
       "        [11, 12]],\n",
       "\n",
       "       [[13, 14],\n",
       "        [15, 16]]])"
      ]
     },
     "execution_count": 26,
     "metadata": {},
     "output_type": "execute_result"
    }
   ],
   "source": [
    "y = x.reshape((4,2,2))\n",
    "y"
   ]
  },
  {
   "cell_type": "code",
   "execution_count": 27,
   "id": "04ae278d",
   "metadata": {},
   "outputs": [
    {
     "data": {
      "text/plain": [
       "(4, 2, 2)"
      ]
     },
     "execution_count": 27,
     "metadata": {},
     "output_type": "execute_result"
    }
   ],
   "source": [
    "y.shape"
   ]
  },
  {
   "cell_type": "code",
   "execution_count": 28,
   "id": "9a04b3eb",
   "metadata": {},
   "outputs": [
    {
     "data": {
      "text/plain": [
       "3"
      ]
     },
     "execution_count": 28,
     "metadata": {},
     "output_type": "execute_result"
    }
   ],
   "source": [
    "y.ndim"
   ]
  },
  {
   "cell_type": "markdown",
   "id": "02f210df",
   "metadata": {},
   "source": [
    "Notice that in Numpy we have two concepts for arrays that have a different meanings in mathematics. The value `ndim` is often called the `rank` in mathematics when talking about tensors. We will devote more time in the next chapter to precise from the mathematical point of view all these concepts. For now, what matters is the fact that NumPy arrays can be represented under multiple arrangements called `shape`. Changing the shape does not change the way the data is stored internally in memory.\n",
    "\n",
    "We can stack arrays and build from them arrays with more dimensions. Consider for example:"
   ]
  },
  {
   "cell_type": "code",
   "execution_count": 29,
   "id": "48c29acd",
   "metadata": {},
   "outputs": [
    {
     "data": {
      "text/plain": [
       "array([10, 11, 12, 13, 14, 15, 16, 17, 18, 19])"
      ]
     },
     "execution_count": 29,
     "metadata": {},
     "output_type": "execute_result"
    }
   ],
   "source": [
    "x = np.arange(10,20)\n",
    "x"
   ]
  },
  {
   "cell_type": "code",
   "execution_count": 30,
   "id": "fa3f3d77",
   "metadata": {},
   "outputs": [
    {
     "data": {
      "text/plain": [
       "array([80, 81, 82, 83, 84, 85, 86, 87, 88, 89])"
      ]
     },
     "execution_count": 30,
     "metadata": {},
     "output_type": "execute_result"
    }
   ],
   "source": [
    "y = np.arange(80,90)\n",
    "y"
   ]
  },
  {
   "cell_type": "code",
   "execution_count": 31,
   "id": "241d8661",
   "metadata": {},
   "outputs": [
    {
     "data": {
      "text/plain": [
       "array([[10, 80],\n",
       "       [11, 81],\n",
       "       [12, 82],\n",
       "       [13, 83],\n",
       "       [14, 84],\n",
       "       [15, 85],\n",
       "       [16, 86],\n",
       "       [17, 87],\n",
       "       [18, 88],\n",
       "       [19, 89]])"
      ]
     },
     "execution_count": 31,
     "metadata": {},
     "output_type": "execute_result"
    }
   ],
   "source": [
    "np.stack((x,y),axis=1)"
   ]
  },
  {
   "cell_type": "markdown",
   "id": "b2ff3d10",
   "metadata": {},
   "source": [
    "Notice that we have created a new 2D array by stacking elements coming from two arrays. We can use this to create a normal distribution of points in a 2D space. "
   ]
  },
  {
   "cell_type": "code",
   "execution_count": 32,
   "id": "7b384e3a",
   "metadata": {},
   "outputs": [],
   "source": [
    "x = np.random.normal(loc=4, scale=0.2, size=1000)"
   ]
  },
  {
   "cell_type": "code",
   "execution_count": 33,
   "id": "5bb98629",
   "metadata": {},
   "outputs": [],
   "source": [
    "y = np.random.normal(loc=3, scale=0.4, size=1000)"
   ]
  },
  {
   "cell_type": "code",
   "execution_count": 34,
   "id": "a8e442a7",
   "metadata": {},
   "outputs": [],
   "source": [
    "z1 = np.stack((x,y),axis=1)"
   ]
  },
  {
   "cell_type": "code",
   "execution_count": 35,
   "id": "40258f2a",
   "metadata": {},
   "outputs": [
    {
     "data": {
      "text/plain": [
       "array([[4.08471388, 3.3780807 ],\n",
       "       [3.90048744, 3.52526664],\n",
       "       [3.79417216, 2.64482549],\n",
       "       ...,\n",
       "       [4.03911544, 2.83360637],\n",
       "       [3.81059157, 3.28729193],\n",
       "       [3.91506733, 3.44469576]])"
      ]
     },
     "execution_count": 35,
     "metadata": {},
     "output_type": "execute_result"
    }
   ],
   "source": [
    "z1"
   ]
  },
  {
   "cell_type": "markdown",
   "id": "4fa77803",
   "metadata": {},
   "source": [
    "As often happens in NumPy there is often a simpler solution. The function `numpy.random.normal` offers internal capabilities directly create those multidimensional distributions:"
   ]
  },
  {
   "cell_type": "code",
   "execution_count": 36,
   "id": "150ae53f",
   "metadata": {},
   "outputs": [
    {
     "data": {
      "text/plain": [
       "array([[2.87773554, 3.86539119],\n",
       "       [3.19676612, 3.98313621],\n",
       "       [3.611428  , 3.85635881],\n",
       "       ...,\n",
       "       [3.4355714 , 4.13300874],\n",
       "       [2.34643213, 3.91547972],\n",
       "       [3.03372225, 4.16649693]])"
      ]
     },
     "execution_count": 36,
     "metadata": {},
     "output_type": "execute_result"
    }
   ],
   "source": [
    "z2 = np.random.normal(loc=(3,4), scale=(0.4,0.2), size=(1000,2))\n",
    "z2"
   ]
  },
  {
   "cell_type": "code",
   "execution_count": 37,
   "id": "f5bee343",
   "metadata": {},
   "outputs": [
    {
     "data": {
      "text/plain": [
       "3.0072802014328226"
      ]
     },
     "execution_count": 37,
     "metadata": {},
     "output_type": "execute_result"
    }
   ],
   "source": [
    "np.mean(z2[:,0])"
   ]
  },
  {
   "cell_type": "code",
   "execution_count": 38,
   "id": "b37ac749",
   "metadata": {},
   "outputs": [
    {
     "data": {
      "text/plain": [
       "3.997531456022184"
      ]
     },
     "execution_count": 38,
     "metadata": {},
     "output_type": "execute_result"
    }
   ],
   "source": [
    "np.mean(z2[:,1])"
   ]
  },
  {
   "cell_type": "code",
   "execution_count": 39,
   "id": "8f1e41e4",
   "metadata": {},
   "outputs": [
    {
     "data": {
      "text/plain": [
       "0.39451395139667533"
      ]
     },
     "execution_count": 39,
     "metadata": {},
     "output_type": "execute_result"
    }
   ],
   "source": [
    "np.std(z2[:,0])"
   ]
  },
  {
   "cell_type": "code",
   "execution_count": 40,
   "id": "44de0c98",
   "metadata": {},
   "outputs": [
    {
     "data": {
      "text/plain": [
       "0.20086976366541734"
      ]
     },
     "execution_count": 40,
     "metadata": {},
     "output_type": "execute_result"
    }
   ],
   "source": [
    "np.std(z2[:,1])"
   ]
  },
  {
   "cell_type": "markdown",
   "id": "0401264c",
   "metadata": {},
   "source": [
    "Now have two arrays representing 2D distributions located at different points and we would like to join them in a single array. \n",
    "In this case, we would like to `concatenate` the two arrays:"
   ]
  },
  {
   "cell_type": "code",
   "execution_count": 41,
   "id": "40877cd8",
   "metadata": {},
   "outputs": [
    {
     "data": {
      "text/plain": [
       "(2000, 2)"
      ]
     },
     "execution_count": 41,
     "metadata": {},
     "output_type": "execute_result"
    }
   ],
   "source": [
    "z = np.concatenate((z1,z2))\n",
    "z.shape"
   ]
  },
  {
   "cell_type": "markdown",
   "id": "85cc01a3",
   "metadata": {},
   "source": [
    "There is another possibility of concatenation using an internal axis instead of the most external one (axis=0)"
   ]
  },
  {
   "cell_type": "code",
   "execution_count": 42,
   "id": "1f9a567d",
   "metadata": {},
   "outputs": [
    {
     "data": {
      "text/plain": [
       "(1000, 4)"
      ]
     },
     "execution_count": 42,
     "metadata": {},
     "output_type": "execute_result"
    }
   ],
   "source": [
    "z = np.concatenate((z1,z2), axis=1)\n",
    "z.shape"
   ]
  },
  {
   "cell_type": "markdown",
   "id": "a1f92ce3",
   "metadata": {},
   "source": [
    "This is not what we want so we return to concatenation in the first axis. Notice that the default axis is 0, so the argument axis=0 is not needed."
   ]
  },
  {
   "cell_type": "code",
   "execution_count": 43,
   "id": "d00e96b0",
   "metadata": {},
   "outputs": [
    {
     "data": {
      "text/plain": [
       "(2000, 2)"
      ]
     },
     "execution_count": 43,
     "metadata": {},
     "output_type": "execute_result"
    }
   ],
   "source": [
    "z = np.concatenate((z1,z2), axis=0)\n",
    "z.shape"
   ]
  },
  {
   "cell_type": "markdown",
   "id": "4a824f67",
   "metadata": {},
   "source": [
    "We can now get an image of all these points with a simple plot:"
   ]
  },
  {
   "cell_type": "code",
   "execution_count": 44,
   "id": "722cf0ab",
   "metadata": {},
   "outputs": [
    {
     "data": {
      "image/png": "[encoded data removed]",
      "text/plain": [
       "<Figure size 432x288 with 1 Axes>"
      ]
     },
     "metadata": {
      "needs_background": "light"
     },
     "output_type": "display_data"
    }
   ],
   "source": [
    "plt.plot(z[:,0],z[:,1], 'ko', ms=1);"
   ]
  },
  {
   "cell_type": "markdown",
   "id": "3c3db866",
   "metadata": {},
   "source": [
    "For simple classes like this we can see that the tasks of identifying these two sets of point look feasible. The idea is not to write a code hardcoding our strategy to identify the two sets. The idea of machine learning is to create a code that will make the distinction based on examples that will be offered. \n",
    "\n",
    "To advance a bit in the task. Let's create an array to identify the two kinds of points. Numpy offers functions to generate arrays fill with zeros and ones. We will use those functions to concatenate two arrays with 1000 elements."
   ]
  },
  {
   "cell_type": "code",
   "execution_count": 45,
   "id": "7c717d03",
   "metadata": {},
   "outputs": [
    {
     "data": {
      "text/plain": [
       "(2000,)"
      ]
     },
     "execution_count": 45,
     "metadata": {},
     "output_type": "execute_result"
    }
   ],
   "source": [
    "z_labels=np.concatenate((np.zeros(1000), np.ones(1000)))\n",
    "z_labels.shape"
   ]
  },
  {
   "cell_type": "code",
   "execution_count": 46,
   "id": "7ba5485c",
   "metadata": {},
   "outputs": [
    {
     "data": {
      "text/plain": [
       "array([ True,  True,  True, ..., False, False, False])"
      ]
     },
     "execution_count": 46,
     "metadata": {},
     "output_type": "execute_result"
    }
   ],
   "source": [
    "z_labels==0"
   ]
  },
  {
   "cell_type": "markdown",
   "id": "8cd533e9",
   "metadata": {},
   "source": [
    "Now we can plot to color the two sets using the labels that we set."
   ]
  },
  {
   "cell_type": "code",
   "execution_count": 47,
   "id": "49055433",
   "metadata": {},
   "outputs": [
    {
     "data": {
      "text/plain": [
       "2000"
      ]
     },
     "execution_count": 47,
     "metadata": {},
     "output_type": "execute_result"
    }
   ],
   "source": [
    "z_size=z.shape[0]\n",
    "z_size"
   ]
  },
  {
   "cell_type": "code",
   "execution_count": 48,
   "id": "f8abda66",
   "metadata": {},
   "outputs": [
    {
     "data": {
      "image/png": "[encoded data removed]",
      "text/plain": [
       "<Figure size 432x288 with 1 Axes>"
      ]
     },
     "metadata": {
      "needs_background": "light"
     },
     "output_type": "display_data"
    }
   ],
   "source": [
    "plt.plot(z[z_labels==0,0],z[z_labels==0,1], 'ro', ms=1)\n",
    "plt.plot(z[z_labels==1,0],z[z_labels==1,1], 'bo', ms=1);"
   ]
  },
  {
   "cell_type": "markdown",
   "id": "9caa7411",
   "metadata": {},
   "source": [
    "Notice that in this example the two colors are represented in relatively separate regions of space. However, the separation is not perfect. Such overlappings are common in low-dimensional cases like this. As we increase dimensionality the extra dimensions help us in the separation at expenses of not being capable of simple plots like this."
   ]
  },
  {
   "cell_type": "markdown",
   "id": "daf224cf",
   "metadata": {},
   "source": [
    "## The Perceptron"
   ]
  },
  {
   "cell_type": "markdown",
   "id": "7641fadd",
   "metadata": {},
   "source": [
    "We want to create a code that is capable of making the tell us if a given position in space is more likely to belong to the blue or red dots by offering examples of blue and red dots and letting the code to *learn* from those examples.\n",
    "\n",
    "A perceptron is a precursor of a neural network. A simple function that will help us to differentiate the two kinds of points. Behind the idea of a perceptron are many of the concepts behind Deep Learning.\n",
    "\n",
    "Before entering into how perceptrons work let's prepare the data. In Machine Learning, data plays a central role. We use the data to build the model, make it better, and to demonstrate that is capable of producing meaninful results. In this case, we need to separate the data into at least two sets: **training** and **testing** datasets.\n",
    "\n",
    "Notice that we have the two sets in a very particular setting. The first 1000 points are red (`z_labels==0`) and the other 1000 points are blue (`z_labels==1`).\n",
    "\n",
    "For an effective construction of machine learning models, we need to scramble all these points so we have blue and red dots in no particular order. Numpy can help us with the scrambling too."
   ]
  },
  {
   "cell_type": "code",
   "execution_count": 49,
   "id": "e227553d",
   "metadata": {},
   "outputs": [],
   "source": [
    "z_order=np.arange(2000)"
   ]
  },
  {
   "cell_type": "code",
   "execution_count": 56,
   "id": "f5ab8940",
   "metadata": {},
   "outputs": [],
   "source": [
    "np.random.shuffle(z_order)"
   ]
  },
  {
   "cell_type": "code",
   "execution_count": 57,
   "id": "535033fd",
   "metadata": {},
   "outputs": [
    {
     "data": {
      "text/plain": [
       "array([ 616,  213, 1658, ..., 1180,  138,  164])"
      ]
     },
     "execution_count": 57,
     "metadata": {},
     "output_type": "execute_result"
    }
   ],
   "source": [
    "z_order"
   ]
  },
  {
   "cell_type": "markdown",
   "id": "2c2e26f1",
   "metadata": {},
   "source": [
    "With the array `z_order` we can create two sets of values. We will devote 80%, ie 800 values for training and 20%, ie 200 values for testing. We will only use the training data and keep the test data to prove that our model is capable of offering good answers for unseen data."
   ]
  },
  {
   "cell_type": "code",
   "execution_count": 58,
   "id": "dc31928d",
   "metadata": {},
   "outputs": [
    {
     "data": {
      "text/plain": [
       "(2000, 2)"
      ]
     },
     "execution_count": 58,
     "metadata": {},
     "output_type": "execute_result"
    }
   ],
   "source": [
    "z.shape"
   ]
  },
  {
   "cell_type": "code",
   "execution_count": 59,
   "id": "3af8703b",
   "metadata": {},
   "outputs": [
    {
     "data": {
      "text/plain": [
       "(1600, 2)"
      ]
     },
     "execution_count": 59,
     "metadata": {},
     "output_type": "execute_result"
    }
   ],
   "source": [
    "training_data=z[z_order][:int(0.8*z_size)]\n",
    "training_data.shape"
   ]
  },
  {
   "cell_type": "code",
   "execution_count": 60,
   "id": "49f134b3",
   "metadata": {},
   "outputs": [
    {
     "data": {
      "text/plain": [
       "(1600,)"
      ]
     },
     "execution_count": 60,
     "metadata": {},
     "output_type": "execute_result"
    }
   ],
   "source": [
    "training_labels=z_labels[z_order][:int(0.8*z_size)]\n",
    "training_labels.shape"
   ]
  },
  {
   "cell_type": "code",
   "execution_count": 61,
   "id": "1f48e3af",
   "metadata": {},
   "outputs": [
    {
     "data": {
      "text/plain": [
       "(400, 2)"
      ]
     },
     "execution_count": 61,
     "metadata": {},
     "output_type": "execute_result"
    }
   ],
   "source": [
    "testing_data=z[z_order][-int(0.2*z_size):]\n",
    "testing_data.shape"
   ]
  },
  {
   "cell_type": "code",
   "execution_count": 62,
   "id": "88422cec",
   "metadata": {},
   "outputs": [
    {
     "data": {
      "text/plain": [
       "(400,)"
      ]
     },
     "execution_count": 62,
     "metadata": {},
     "output_type": "execute_result"
    }
   ],
   "source": [
    "testing_labels=z_labels[z_order][-int(0.2*z_size):]\n",
    "testing_labels.shape"
   ]
  },
  {
   "cell_type": "markdown",
   "id": "ac95f19e",
   "metadata": {},
   "source": [
    "To prove that we have separated the two sets let plot training and testing sets with orange and green:"
   ]
  },
  {
   "cell_type": "code",
   "execution_count": 63,
   "id": "766e7054",
   "metadata": {},
   "outputs": [
    {
     "data": {
      "image/png": "[encoded data removed]",
      "text/plain": [
       "<Figure size 432x288 with 1 Axes>"
      ]
     },
     "metadata": {
      "needs_background": "light"
     },
     "output_type": "display_data"
    }
   ],
   "source": [
    "plt.plot(training_data[:,0],training_data[:,1], marker='o', ms=2, color='orange', ls='')\n",
    "plt.plot(testing_data[:,0],testing_data[:,1], marker='o', ms=2, color='green', ls='');"
   ]
  },
  {
   "cell_type": "markdown",
   "id": "3a0b11a2",
   "metadata": {},
   "source": [
    "Notice that orange dots are spread on both clusters and they are 80% of the points. Those are the training points. The other 20% is made of green points also spread on both clusters.\n",
    "\n",
    "Our perceptron is a function that takes two entries, the position x and y of the points, and return a value. "
   ]
  },
  {
   "cell_type": "markdown",
   "id": "cec01592",
   "metadata": {},
   "source": [
    "<div>\n",
    "<img src=\"./fig/perceptron2D.svg\" height=\"200\" width=\"500\" />\n",
    "   </div>"
   ]
  },
  {
   "cell_type": "markdown",
   "id": "e0181512",
   "metadata": {},
   "source": [
    "We will start using a better notation that will help us generalize the perceptron to receive many inputs and move us in the direction of more complex neural networks. The $x$ coordinate will be called $x_1$ and the `y` coordinate it is now $x_2$. \n",
    "\n",
    "The idea is to use the two values to evaluate a function. Inside the function, we have a set of parameters $w_i$ and $b$ called weights and bias that we can tune to produce a desired result.\n",
    "\n",
    "Will that help us to identify if a point is red or blue. Let's do some quick experiments.\n",
    "For a moment let's return to the original set of all the red and blue points and we will explore the effect of different values of $b$, $w_1$, and $w_2$.\n",
    "\n",
    "Notice that we are doing a detour. This is all the points and we know the color of each of them.\n",
    "Lets start with a bias of zero $b=0$ and $w_1=1$ and $w_2=0$. Applying the function to all the points will result in:"
   ]
  },
  {
   "cell_type": "code",
   "execution_count": 64,
   "id": "8e6be931",
   "metadata": {},
   "outputs": [],
   "source": [
    "def proj_x(x):\n",
    "    b=0\n",
    "    w1=1\n",
    "    w2=0\n",
    "    return b + w1*x[0] + w2*x[1]"
   ]
  },
  {
   "cell_type": "code",
   "execution_count": 67,
   "id": "b62d6e04",
   "metadata": {},
   "outputs": [
    {
     "data": {
      "text/plain": [
       "(2000, 2)"
      ]
     },
     "execution_count": 67,
     "metadata": {},
     "output_type": "execute_result"
    }
   ],
   "source": [
    "z.shape"
   ]
  },
  {
   "cell_type": "code",
   "execution_count": 66,
   "id": "8622c741",
   "metadata": {},
   "outputs": [
    {
     "data": {
      "text/plain": [
       "array([4.08471388, 3.90048744, 3.79417216, ..., 3.4355714 , 2.34643213,\n",
       "       3.03372225])"
      ]
     },
     "execution_count": 66,
     "metadata": {},
     "output_type": "execute_result"
    }
   ],
   "source": [
    "proj=np.apply_along_axis(proj_x, axis=1, arr=z)\n",
    "proj"
   ]
  },
  {
   "cell_type": "code",
   "execution_count": 68,
   "id": "e238508f",
   "metadata": {},
   "outputs": [
    {
     "data": {
      "image/png": "[encoded data removed]",
      "text/plain": [
       "<Figure size 432x288 with 1 Axes>"
      ]
     },
     "metadata": {
      "needs_background": "light"
     },
     "output_type": "display_data"
    }
   ],
   "source": [
    "red=proj[z_labels==0]\n",
    "plt.plot(red, np.zeros_like(red)+0.05, 'ro', ms=1)\n",
    "blue=proj[z_labels==1]\n",
    "plt.plot(blue, np.zeros_like(blue)-0.05, 'bo', ms=1);\n",
    "plt.plot(z[z_labels==0,0],z[z_labels==0,1], 'ro', ms=1)\n",
    "plt.plot(z[z_labels==1,0],z[z_labels==1,1], 'bo', ms=1);"
   ]
  },
  {
   "cell_type": "markdown",
   "id": "4f1c713f",
   "metadata": {},
   "source": [
    "The values $b=0$, $w_1=1$ and $w_2=0$ is just returning the coordinate $x$ from each point, discarding the $y$ coordinate. The $b=0$ means that the result is not shifted in any direction.\n",
    "\n",
    "Similarly consider the other option: $b=0$, $w_1=0$ and $w_2=1$. In this case, we are projecting on the y axis, ie taking the $y$ coordinate and discarding the $x$ coordinate. "
   ]
  },
  {
   "cell_type": "code",
   "execution_count": 69,
   "id": "0c39b711",
   "metadata": {},
   "outputs": [],
   "source": [
    "def proj_y(x):\n",
    "    b=0\n",
    "    w1=0\n",
    "    w2=1\n",
    "    return b + w1*x[0] + w2*x[1]"
   ]
  },
  {
   "cell_type": "code",
   "execution_count": 70,
   "id": "1fc727c0",
   "metadata": {},
   "outputs": [
    {
     "data": {
      "text/plain": [
       "array([3.3780807 , 3.52526664, 2.64482549, ..., 4.13300874, 3.91547972,\n",
       "       4.16649693])"
      ]
     },
     "execution_count": 70,
     "metadata": {},
     "output_type": "execute_result"
    }
   ],
   "source": [
    "proj=np.apply_along_axis(proj_y, axis=1, arr=z)\n",
    "proj"
   ]
  },
  {
   "cell_type": "code",
   "execution_count": 71,
   "id": "71b58ede",
   "metadata": {},
   "outputs": [
    {
     "data": {
      "image/png": "[encoded data removed]",
      "text/plain": [
       "<Figure size 432x288 with 1 Axes>"
      ]
     },
     "metadata": {
      "needs_background": "light"
     },
     "output_type": "display_data"
    }
   ],
   "source": [
    "red=proj[z_labels==0]\n",
    "plt.plot(np.zeros_like(red)+0.05, red, 'ro', ms=1)\n",
    "blue=proj[z_labels==1]\n",
    "plt.plot(np.zeros_like(blue)-0.05, blue, 'bo',ms=1);\n",
    "plt.plot(z[z_labels==0,0],z[z_labels==0,1], 'ro', ms=1)\n",
    "plt.plot(z[z_labels==1,0],z[z_labels==1,1], 'bo', ms=1);"
   ]
  },
  {
   "cell_type": "markdown",
   "id": "bef9e4ea",
   "metadata": {},
   "source": [
    "In general, the Equation \n",
    "\n",
    "$$f(x) = b + \\sum w_i \\cdot x_i$$\n",
    "\n",
    "is a projection. The role of $b$ is to shift the values and the sum is projecting the input values $x = (x_1, x_2, \\cdots, x_n)$ over a given vector $(w_1, w_2, \\cdots, w_n)$\n",
    "\n",
    "It is standard to define the dot product of two vectors of length $l$ as\n",
    "\n",
    "$$\\vec{x} \\cdot \\vec{y} = \\sum_{i=1}^l x_i \\cdot y_i$$\n",
    "\n",
    "As we saw, the idea of the dot product is geometrically equivalent to the projection of a vector on another. For two euclidean vectors $\\mathbf{a}$ and $\\mathbf{b}$ the dot product is:\n",
    "\n",
    "$$\\mathbf{a}\\cdot\\mathbf{b}=\\|\\mathbf{a}\\|\\ \\|\\mathbf{b}\\|\\cos\\theta$$\n",
    "\n",
    "\n",
    "The function of our perceptron is no other than the function of a dot product with an eventual shift given by a bias value.\n",
    "\n",
    "It is important to understand the role of machine learning here. What we are doing to data with a function is to induce transformations. The transformed data could help us identify if a point is red or blue. In our case transformation could induce a loss of data. A projection is such a kind of transformation. There are other kinds of transformations that preserve the content or dimensionality of the data.\n",
    "\n",
    "\n",
    "Notice that the two transformations we have done are not very good ideas. In both cases we have an important overlapping between red and blue points. The idea is not to tell the code which is the right transformation but to allow the algorithm to use examples to find the right transformation. That is the central theme of Machine Learning. The \"learning\" part of ML is the data-based search for correct transformations that could solve the problem.\n",
    "\n",
    "Consider for example a \"Human Learning\" approximation just from our understanding of the role of the function we have in hands.\n",
    "\n",
    "What about if $b=0$, $w_1=-1$ and $w_2=1$ "
   ]
  },
  {
   "cell_type": "code",
   "execution_count": 72,
   "id": "444e5711",
   "metadata": {},
   "outputs": [],
   "source": [
    "def proj_naive(x):\n",
    "    b=0\n",
    "    w1=-1\n",
    "    w2=1\n",
    "    return b + w1*x[0] + w2*x[1]"
   ]
  },
  {
   "cell_type": "code",
   "execution_count": 73,
   "id": "64b8a16b",
   "metadata": {},
   "outputs": [
    {
     "data": {
      "text/plain": [
       "array([-0.70663318, -0.3752208 , -1.14934667, ...,  0.69743734,\n",
       "        1.5690476 ,  1.13277468])"
      ]
     },
     "execution_count": 73,
     "metadata": {},
     "output_type": "execute_result"
    }
   ],
   "source": [
    "proj=np.apply_along_axis(proj_naive, axis=1, arr=z)\n",
    "proj"
   ]
  },
  {
   "cell_type": "code",
   "execution_count": 74,
   "id": "879cec5a",
   "metadata": {},
   "outputs": [
    {
     "data": {
      "text/plain": [
       "(-2.0, 2.0)"
      ]
     },
     "execution_count": 74,
     "metadata": {},
     "output_type": "execute_result"
    },
    {
     "data": {
      "image/png": "[encoded data removed]",
      "text/plain": [
       "<Figure size 432x288 with 1 Axes>"
      ]
     },
     "metadata": {
      "needs_background": "light"
     },
     "output_type": "display_data"
    }
   ],
   "source": [
    "red=proj[z_labels==0]\n",
    "plt.plot(red, np.zeros_like(red)+0.05, 'ro', ms=1)\n",
    "blue=proj[z_labels==1]\n",
    "plt.plot(blue, np.zeros_like(blue)-0.05, 'bo', ms=1);\n",
    "plt.ylim(-2,2)"
   ]
  },
  {
   "cell_type": "markdown",
   "id": "f108b694",
   "metadata": {},
   "source": [
    "The function \n",
    "\n",
    "$$f(x) = -x_1 + x_2$$\n",
    "\n",
    "is a projection of the points on an axis of $135^o$, ie the points were projected on an axis of $\\frac{3\\pi}{4}$. To exemplify this fact we will take the projections and recreate them over the axis so we can understand the effect."
   ]
  },
  {
   "cell_type": "code",
   "execution_count": 75,
   "id": "33b06eb1",
   "metadata": {},
   "outputs": [],
   "source": [
    "def rotation(x):\n",
    "    theta = 3*np.pi/4\n",
    "    return np.array([x[0]*np.cos(theta)-x[1]*np.sin(theta), \n",
    "                     x[0]*np.sin(theta)+x[1]*np.cos(theta)])"
   ]
  },
  {
   "cell_type": "code",
   "execution_count": 76,
   "id": "a651e9d3",
   "metadata": {},
   "outputs": [],
   "source": [
    "x = np.vstack((proj, np.zeros_like(proj))).T"
   ]
  },
  {
   "cell_type": "code",
   "execution_count": 77,
   "id": "f0a69bc4",
   "metadata": {},
   "outputs": [],
   "source": [
    "x_rot=np.apply_along_axis(rotation, axis=1, arr=x)"
   ]
  },
  {
   "cell_type": "code",
   "execution_count": 78,
   "id": "13348c5a",
   "metadata": {},
   "outputs": [
    {
     "data": {
      "image/png": "[encoded data removed]",
      "text/plain": [
       "<Figure size 432x288 with 1 Axes>"
      ]
     },
     "metadata": {
      "needs_background": "light"
     },
     "output_type": "display_data"
    }
   ],
   "source": [
    "plt.plot([-2,5],[-2,5],color='0.5')\n",
    "plt.plot([-2,2],[2,-2],color='0.5')\n",
    "\n",
    "plt.plot(x_rot[z_labels==0,0],x_rot[z_labels==0,1], 'ro', ms=1)\n",
    "plt.plot(x_rot[z_labels==1,0],x_rot[z_labels==1,1], 'bo', ms=1);\n",
    "\n",
    "plt.plot(z[z_labels==0,0],z[z_labels==0,1], 'ro', ms=1)\n",
    "plt.plot(z[z_labels==1,0],z[z_labels==1,1], 'bo', ms=1);\n",
    "\n",
    "plt.gca().set_aspect('equal')"
   ]
  },
  {
   "cell_type": "markdown",
   "id": "7ac6d920",
   "metadata": {},
   "source": [
    "This is very close to the solution that we want. Can we create an algorithm that takes with it the responsibility of finding the right projection?\n",
    "\n",
    "This will be the role of our perceptron. We are still a long way from complex neural networks but the basic ideas can be built from this example. \n",
    "\n",
    "Let's take back our training data:"
   ]
  },
  {
   "cell_type": "code",
   "execution_count": 79,
   "id": "4da6d6c4",
   "metadata": {},
   "outputs": [
    {
     "data": {
      "text/plain": [
       "(1600, 2)"
      ]
     },
     "execution_count": 79,
     "metadata": {},
     "output_type": "execute_result"
    }
   ],
   "source": [
    "training_data.shape"
   ]
  },
  {
   "cell_type": "code",
   "execution_count": 80,
   "id": "0997f701",
   "metadata": {},
   "outputs": [
    {
     "data": {
      "text/plain": [
       "(1600,)"
      ]
     },
     "execution_count": 80,
     "metadata": {},
     "output_type": "execute_result"
    }
   ],
   "source": [
    "training_labels.shape"
   ]
  },
  {
   "cell_type": "markdown",
   "id": "67ffd2e6",
   "metadata": {},
   "source": [
    "We can simplify the role of our perceptron by defining a new binary function that will return 0 or 1 based on the value of the original perceptron function:\n",
    "\n",
    "$$f_\\Phi (\\vec{x}) = \n",
    "     \\begin{cases}\n",
    "         1 & \\text{if} \\; b + \\vec{w} \\cdot \\vec{x} > 0 \\\\\n",
    "         0 & \\text{oherwise} \\\\\n",
    "     \\end{cases}\n",
    "$$\n",
    "\n",
    "We identify the function $b + \\vec{w} \\cdot \\vec{x}$ as the *linear units*. For the current example just project elements on an axis. In the unidimensional case, they can be identified as the function of a line with slope $w$ and intercept $b$. This is why we call them *linear units*.\n",
    "\n",
    "Perceptrons are very simple entities and there is a clear algorithm for finding the $b$ and $w_i$ values that will return the answer 1 for **most** the red dots and 0 for **most** blue dots. The reason why we say **most** instead of **all** is because there is an overlapping of points. There are some points that we cannot get right. This is inevitable here, we only have 2 dimensions and the two normal distributions will overlap to some extent.\n",
    "\n",
    "What we are doing here is a binary classifier. The function $f_\\Phi(\\vec{x})$ returns 0 or 1, indicating if a point belongs to the red or non-red set of points. We will extend this idea later to multiclass classification where the answers will be integers from 0 to $m-1$.\n",
    "\n",
    "### The perceptron algorithm\n",
    "\n",
    "We will use the training set, in our case a list of 1600 pairs of values. Each value we will identify with a subscript ie $\\vec{x}^k$ is the $k$-esime vector from our training set. The same will be done for the training labels, we will call them $a^k$ that will be 0 or 1.\n",
    "\n",
    "The perceptron algorithm works like this:\n",
    "\n",
    "1. Set $b$ and $w$'s to zero. To simplify these parameters we rename $b$ as $w_0$ as a weight which $x_0$ is always 1.\n",
    "\n",
    "\n",
    "2. Compute the following as many times as we want or until all the $w$'s stop changing significantly \n",
    "\n",
    "    a. Take each element in our training set $\\vec{x}^k$ and get the answer to the function $f(\\vec{x})$\n",
    "    \n",
    "    b. Compare the answer that we want for $\\vec{x}^k$ using the training labels $a^k$.\n",
    "    \n",
    "    If $f(\\vec{x}) = a^k$ move to the next one. Otherwise, change the weights using the prescription:\n",
    "    \n",
    "    $\\Delta w_i = (a^k - f(\\vec{x}^k)) x_i$\n",
    "    \n",
    "Let's start using this algorithm with the training set."
   ]
  },
  {
   "cell_type": "code",
   "execution_count": 81,
   "id": "f384d67a",
   "metadata": {},
   "outputs": [
    {
     "name": "stdout",
     "output_type": "stream",
     "text": [
      "[3.99323472 2.95177926] 0.0\n"
     ]
    }
   ],
   "source": [
    "x0=training_data[0]\n",
    "a0=training_labels[0]\n",
    "\n",
    "print(x0, a0)"
   ]
  },
  {
   "cell_type": "code",
   "execution_count": 82,
   "id": "1d2134c6",
   "metadata": {},
   "outputs": [
    {
     "data": {
      "text/plain": [
       "array([0., 0., 0.])"
      ]
     },
     "execution_count": 82,
     "metadata": {},
     "output_type": "execute_result"
    }
   ],
   "source": [
    "w=np.zeros(3)\n",
    "w"
   ]
  },
  {
   "cell_type": "code",
   "execution_count": 83,
   "id": "0a8ed497",
   "metadata": {},
   "outputs": [
    {
     "data": {
      "text/plain": [
       "array([1.        , 3.99323472, 2.95177926])"
      ]
     },
     "execution_count": 83,
     "metadata": {},
     "output_type": "execute_result"
    }
   ],
   "source": [
    "xx0 = np.concatenate((np.ones(1), x0))\n",
    "xx0"
   ]
  },
  {
   "cell_type": "code",
   "execution_count": 84,
   "id": "dd600616",
   "metadata": {},
   "outputs": [
    {
     "data": {
      "text/plain": [
       "0.0"
      ]
     },
     "execution_count": 84,
     "metadata": {},
     "output_type": "execute_result"
    }
   ],
   "source": [
    "fx=np.dot(xx0, w)\n",
    "fx"
   ]
  },
  {
   "cell_type": "code",
   "execution_count": 85,
   "id": "2cb01c9c",
   "metadata": {},
   "outputs": [
    {
     "data": {
      "text/plain": [
       "0"
      ]
     },
     "execution_count": 85,
     "metadata": {},
     "output_type": "execute_result"
    }
   ],
   "source": [
    "ffx = 1 if fx>0 else 0\n",
    "ffx"
   ]
  },
  {
   "cell_type": "markdown",
   "id": "4d224505",
   "metadata": {},
   "source": [
    "We have computed $f(\\vec{x}^0)=0$ and $a^0=1$. Here we need to change the weights."
   ]
  },
  {
   "cell_type": "code",
   "execution_count": 86,
   "id": "76a2a9e9",
   "metadata": {},
   "outputs": [
    {
     "data": {
      "text/plain": [
       "array([0., 0., 0.])"
      ]
     },
     "execution_count": 86,
     "metadata": {},
     "output_type": "execute_result"
    }
   ],
   "source": [
    "w= (a0 - ffx)*xx0\n",
    "w"
   ]
  },
  {
   "cell_type": "markdown",
   "id": "46ffd3ed",
   "metadata": {},
   "source": [
    "We have new weights. Let's see for a moment what happens with them if we try the same value again."
   ]
  },
  {
   "cell_type": "code",
   "execution_count": 87,
   "id": "be2f4a8a",
   "metadata": {},
   "outputs": [
    {
     "data": {
      "text/plain": [
       "0.0"
      ]
     },
     "execution_count": 87,
     "metadata": {},
     "output_type": "execute_result"
    }
   ],
   "source": [
    "fx=np.dot(xx0, w)\n",
    "fx"
   ]
  },
  {
   "cell_type": "code",
   "execution_count": 88,
   "id": "e31a848d",
   "metadata": {},
   "outputs": [
    {
     "data": {
      "text/plain": [
       "0"
      ]
     },
     "execution_count": 88,
     "metadata": {},
     "output_type": "execute_result"
    }
   ],
   "source": [
    "ffx = 1 if fx>0 else 0\n",
    "ffx"
   ]
  },
  {
   "cell_type": "markdown",
   "id": "9c9e69c3",
   "metadata": {},
   "source": [
    "Now $f(\\vec{x})$ returns 1 which is consistent with $a^0=1$.\n",
    "\n",
    "Let's try the next value:"
   ]
  },
  {
   "cell_type": "code",
   "execution_count": 89,
   "id": "584d5797",
   "metadata": {},
   "outputs": [
    {
     "name": "stdout",
     "output_type": "stream",
     "text": [
      "[3.76717954 3.1096887 ] 0.0\n"
     ]
    }
   ],
   "source": [
    "x1=training_data[1]\n",
    "a1=training_labels[1]\n",
    "\n",
    "print(x1, a1)"
   ]
  },
  {
   "cell_type": "code",
   "execution_count": 90,
   "id": "1366cddb",
   "metadata": {},
   "outputs": [
    {
     "data": {
      "text/plain": [
       "array([1.        , 3.76717954, 3.1096887 ])"
      ]
     },
     "execution_count": 90,
     "metadata": {},
     "output_type": "execute_result"
    }
   ],
   "source": [
    "xx1 = np.concatenate((np.ones(1), x1))\n",
    "xx1"
   ]
  },
  {
   "cell_type": "code",
   "execution_count": 91,
   "id": "5fbf6853",
   "metadata": {},
   "outputs": [
    {
     "data": {
      "text/plain": [
       "0.0"
      ]
     },
     "execution_count": 91,
     "metadata": {},
     "output_type": "execute_result"
    }
   ],
   "source": [
    "fx=np.dot(xx1, w)\n",
    "fx"
   ]
  },
  {
   "cell_type": "code",
   "execution_count": 92,
   "id": "3410f4ca",
   "metadata": {},
   "outputs": [
    {
     "data": {
      "text/plain": [
       "0"
      ]
     },
     "execution_count": 92,
     "metadata": {},
     "output_type": "execute_result"
    }
   ],
   "source": [
    "ffx = 1 if fx>0 else 0\n",
    "ffx"
   ]
  },
  {
   "cell_type": "markdown",
   "id": "dbddf4cf",
   "metadata": {},
   "source": [
    "We have computed $f(\\vec{x}^1)=1$ and $a^1=0$. Here we need to change the weights."
   ]
  },
  {
   "cell_type": "code",
   "execution_count": 93,
   "id": "4ff1f938",
   "metadata": {},
   "outputs": [
    {
     "data": {
      "text/plain": [
       "array([0., 0., 0.])"
      ]
     },
     "execution_count": 93,
     "metadata": {},
     "output_type": "execute_result"
    }
   ],
   "source": [
    "w= w + (a1 - ffx)*xx1\n",
    "w"
   ]
  },
  {
   "cell_type": "code",
   "execution_count": 94,
   "id": "225f5c46",
   "metadata": {},
   "outputs": [
    {
     "data": {
      "text/plain": [
       "0.0"
      ]
     },
     "execution_count": 94,
     "metadata": {},
     "output_type": "execute_result"
    }
   ],
   "source": [
    "fx=np.dot(xx1, w)\n",
    "fx"
   ]
  },
  {
   "cell_type": "code",
   "execution_count": 95,
   "id": "67fc5213",
   "metadata": {},
   "outputs": [
    {
     "data": {
      "text/plain": [
       "0"
      ]
     },
     "execution_count": 95,
     "metadata": {},
     "output_type": "execute_result"
    }
   ],
   "source": [
    "ffx = 1 if fx>0 else 0\n",
    "ffx"
   ]
  },
  {
   "cell_type": "markdown",
   "id": "a1eb23b9",
   "metadata": {},
   "source": [
    "These new weights will return new values for the weights. Now let's work the algorithm across all the values in the training set:"
   ]
  },
  {
   "cell_type": "code",
   "execution_count": 96,
   "id": "fb0bd49e",
   "metadata": {},
   "outputs": [
    {
     "name": "stdout",
     "output_type": "stream",
     "text": [
      "After epoch 0 the accuracy is 0.952500\n",
      "After epoch 1 the accuracy is 0.957500\n",
      "After epoch 2 the accuracy is 0.965000\n",
      "After epoch 3 the accuracy is 0.969375\n",
      "After epoch 4 the accuracy is 0.968125\n",
      "After epoch 5 the accuracy is 0.968125\n",
      "After epoch 6 the accuracy is 0.969375\n",
      "After epoch 7 the accuracy is 0.969375\n",
      "After epoch 8 the accuracy is 0.970000\n",
      "After epoch 9 the accuracy is 0.970000\n"
     ]
    }
   ],
   "source": [
    "w=np.zeros(3)\n",
    "t_size = len(training_data)\n",
    "\n",
    "for n in range(10):\n",
    "    accuracy=0\n",
    "    for i in range(t_size):\n",
    "        xi = training_data[i]\n",
    "        ai = training_labels[i]\n",
    "        xxi = np.concatenate((np.ones(1), xi))\n",
    "        fx = np.dot(xxi, w)\n",
    "        ffx = 1 if fx>0 else 0\n",
    "        if ai == ffx:\n",
    "            accuracy = accuracy + 1\n",
    "        else:\n",
    "            w = w + (ai - ffx)*xxi\n",
    "    print(\"After epoch %d the accuracy is %f\" % (n, accuracy/t_size))"
   ]
  },
  {
   "cell_type": "markdown",
   "id": "ca330c77",
   "metadata": {},
   "source": [
    "We have now weights that are capable to return good results for 98% of the training set. Remember that 100% is not attenable because there is some overlapping in the points. \n",
    "\n",
    "The weights are:"
   ]
  },
  {
   "cell_type": "code",
   "execution_count": 97,
   "id": "bfc904d5",
   "metadata": {},
   "outputs": [
    {
     "data": {
      "text/plain": [
       "array([  5.        , -57.43083402,  46.69584796])"
      ]
     },
     "execution_count": 97,
     "metadata": {},
     "output_type": "execute_result"
    }
   ],
   "source": [
    "w"
   ]
  },
  {
   "cell_type": "markdown",
   "id": "ff162add",
   "metadata": {},
   "source": [
    "Now let's use our test set. This is our 20% that has not been used so far. If the algorithm is good will help us return with good answers for unseen data."
   ]
  },
  {
   "cell_type": "code",
   "execution_count": 98,
   "id": "2c46bee3",
   "metadata": {},
   "outputs": [
    {
     "name": "stdout",
     "output_type": "stream",
     "text": [
      "The accuracy with the testing data is 0.890000\n"
     ]
    }
   ],
   "source": [
    "t_size = len(testing_data)\n",
    "\n",
    "accuracy=0\n",
    "for i in range(t_size):\n",
    "    xi = testing_data[i]\n",
    "    ai = testing_labels[i]\n",
    "    xxi = np.concatenate((np.ones(1), xi))\n",
    "    fx = np.dot(xxi, w)\n",
    "    ffx = 1 if fx>0 else 0\n",
    "    if ai == ffx:\n",
    "        accuracy = accuracy + 1\n",
    "print(\"The accuracy with the testing data is %f\" % (accuracy/t_size))"
   ]
  },
  {
   "cell_type": "markdown",
   "id": "a4104607",
   "metadata": {},
   "source": [
    "We have 99% of the points in the testing data correctly labeled by the function. We can also have a quick look at the right and wrong results from the entire data. Let's fill a new vector a_pred to store the predicted values from our perceptron."
   ]
  },
  {
   "cell_type": "code",
   "execution_count": 99,
   "id": "f279ca72",
   "metadata": {},
   "outputs": [],
   "source": [
    "t_size = len(z)\n",
    "a_pred = np.zeros_like(z_labels)\n",
    "\n",
    "for i in range(t_size):\n",
    "    xi = z[i]\n",
    "    xxi = np.concatenate((np.ones(1), xi))\n",
    "    fx = np.dot(xxi, w)\n",
    "    a_pred[i] = 1 if fx>0 else 0"
   ]
  },
  {
   "cell_type": "markdown",
   "id": "19fbccd0",
   "metadata": {},
   "source": [
    "We can count the number of wrong results for the entire dataset."
   ]
  },
  {
   "cell_type": "code",
   "execution_count": 100,
   "id": "fcae0171",
   "metadata": {},
   "outputs": [
    {
     "data": {
      "text/plain": [
       "213"
      ]
     },
     "execution_count": 100,
     "metadata": {},
     "output_type": "execute_result"
    }
   ],
   "source": [
    "np.sum(np.abs(a_pred.astype(int)-z_labels.astype(int)))"
   ]
  },
  {
   "cell_type": "markdown",
   "id": "66617272",
   "metadata": {},
   "source": [
    "Now plot the right and wrong values"
   ]
  },
  {
   "cell_type": "code",
   "execution_count": 101,
   "id": "5b6c65ae",
   "metadata": {},
   "outputs": [
    {
     "data": {
      "image/png": "[encoded data removed]",
      "text/plain": [
       "<Figure size 432x288 with 1 Axes>"
      ]
     },
     "metadata": {
      "needs_background": "light"
     },
     "output_type": "display_data"
    }
   ],
   "source": [
    "good=a_pred.astype(int)==z_labels.astype(int)\n",
    "bad=a_pred.astype(int)!=z_labels.astype(int)\n",
    "plt.plot(z[good,0],z[good,1], marker='o', ms=2, color='orange', ls='')\n",
    "plt.plot(z[bad,0],z[bad,1], marker='o', ms=4, color='green', ls='');"
   ]
  },
  {
   "cell_type": "markdown",
   "id": "031e5124",
   "metadata": {},
   "source": [
    "As expected, the wrongly labeled points are those in the border between the two distributions."
   ]
  },
  {
   "cell_type": "markdown",
   "id": "f1ad1c0c",
   "metadata": {},
   "source": [
    "---\n",
    "\n",
    "# References\n",
    "\n",
    "There are many books about Deep Learning and many more on Machine Learning. \n",
    "This list is by no means an exhaustive list of books. I am listing the books from which I took inspiration. Also, I am listing materials where I found better ways to present topics. Often I am amazed by how people can create approachable materials for seemingly dry subjects.\n",
    "\n",
    "The order of the books goes from divulgation and practical to the more rigorous and mathematical. Slides, blogs, and videos are those I have found over the internet or suggested by others.\n",
    "\n",
    "### Selection of Books on Deep Learning\n",
    "\n",
    "<br>\n",
    "<div style=\"clear: both; display: table;\">\n",
    "  <div style=\"border: none; float: left; width: 200; padding: 5px\">\n",
    "  <img alt=\"Deep Learning - Kelleher\" \n",
    "       src=\"./fig/books/Deep Learning - Kelleher.jpg\" \n",
    "       height=\"100\" width=\"100\"  />\n",
    "  </div>\n",
    "  <div style=\"border: none; float: left; width: 800; padding: 5px\">\n",
    "      Deep Learning<br>\n",
    "      John D. Kelleher<br>\n",
    "      2019<br>\n",
    "  </div>\n",
    "</div>\n",
    "\n",
    "<br>\n",
    "<div style=\"clear: both; display: table;\">\n",
    "  <div style=\"border: none; float: left; width: 200; padding: 5px\">\n",
    "  <img alt=\"Introduction to Deep Learning - Charniak\" \n",
    "       src=\"./fig/books/Introduction to Deep Learning - Charniak.jpg\" \n",
    "       height=\"100\" width=\"100\"  />\n",
    "  </div>\n",
    "  <div style=\"border: none; float: left; width: 800; padding: 5px\">\n",
    "      Introduction to Deep Learning<br>\n",
    "      Eugene Charniak<br>\n",
    "      2018<br>\n",
    "  </div>\n",
    "</div>\n",
    "\n",
    "<br>\n",
    "<div style=\"clear: both; display: table;\">\n",
    "  <div style=\"border: none; float: left; width: 200; padding: 5px\">\n",
    "  <img alt=\"Introduction to Deep Learning - Skansi\" \n",
    "       src=\"./fig/books/Introduction to Deep Learning - Skansi.jpg\" \n",
    "       height=\"100\" width=\"100\"  />\n",
    "  </div>\n",
    "  <div style=\"border: none; float: left; width: 800; padding: 5px\">\n",
    "      Introduction to Deep Learning<br>\n",
    "      Sandro Skansi<br>\n",
    "      2018<br>\n",
    "  </div>\n",
    "</div>\n",
    "\n",
    "<br>\n",
    "<div style=\"clear: both; display: table;\">\n",
    "  <div style=\"border: none; float: left; width: 200; padding: 5px\">\n",
    "  <img alt=\"Deep Learning with PyTorch - Subramanian\" \n",
    "       src=\"./fig/books/Deep Learning with PyTorch - Subramanian.jpg\" \n",
    "       height=\"100\" width=\"100\"  />\n",
    "  </div>\n",
    "  <div style=\"border: none; float: left; width: 800; padding: 5px\">\n",
    "      Deep Learning with PyTorch<br>\n",
    "      Vishnu Subramanian<br>\n",
    "      2018<br>\n",
    "  </div>\n",
    "</div>\n",
    "\n",
    "<br>\n",
    "<div style=\"clear: both; display: table;\">\n",
    "  <div style=\"border: none; float: left; width: 200; padding: 5px\">\n",
    "  <img alt=\"Deep Learning with PyTorch - Stevens\" \n",
    "       src=\"./fig/books/Deep Learning with PyTorch - Stevens.png\" \n",
    "       height=\"100\" width=\"100\"  />\n",
    "  </div>\n",
    "  <div style=\"border: none; float: left; width: 800; padding: 5px\">\n",
    "      Deep Learning with PyTorch<br>\n",
    "      Eli Stevens, Luca Artiga and Thomas Viehmann<br>\n",
    "      2020<br>\n",
    "  </div>\n",
    "</div>\n",
    "\n",
    "<br>\n",
    "<div style=\"clear: both; display: table;\">\n",
    "  <div style=\"border: none; float: left; width: 200; padding: 5px\">\n",
    "  <img alt=\"Deep Learning with Python - Chollet\" \n",
    "       src=\"./fig/books/Deep Learning with Python - Chollet.jpg\" \n",
    "       height=\"100\" width=\"100\" />\n",
    "  </div>\n",
    "  <div style=\"border: none; float: left; width: 800; padding: 5px\">\n",
    "      Deep Learning with Python (Second Edition)<br>\n",
    "      François Chollet<br>\n",
    "      2021<br>\n",
    "  </div>\n",
    "</div>\n",
    "\n",
    "<br>\n",
    "<div style=\"clear: both; display: table;\">\n",
    "  <div style=\"border: none; float: left; width: 200; padding: 5px\">\n",
    "  <img alt=\"Deep Learning - Patterson\" \n",
    "       src=\"./fig/books/Deep Learning - Patterson.jpeg\"\n",
    "       height=\"100\" width=\"100\" />\n",
    "  </div>\n",
    "  <div style=\"border: none; float: left; width: 800; padding: 5px\">\n",
    "      Deep Learning, a practitioner's approach<br>\n",
    "      Josh Patterson and Adam Gibson<br>\n",
    "      2017<br>\n",
    "  </div>\n",
    "</div>\n",
    "\n",
    "<br>\n",
    "<div style=\"clear: both; display: table;\">\n",
    "  <div style=\"border: none; float: left; width: 200; padding: 5px\">\n",
    "  <img alt=\"Deep Learning - Goodfellow\" \n",
    "       src=\"./fig/books/Deep Learning - Goodfellow.jpg\" \n",
    "       height=\"100\" width=\"100\"  />\n",
    "  </div>\n",
    "  <div style=\"border: none; float: left; width: 800; padding: 5px\">\n",
    "      Deep Learning<br>\n",
    "      Ian Goodfellow, Yoshua Bengio, and Aaron Courville<br>\n",
    "      2016<br>\n",
    "  </div>\n",
    "</div>\n",
    "\n",
    "### Interactive Books\n",
    "\n",
    "  * [Dive into Deep Learning](https://d2l.ai/index.html)<br>\n",
    "    Interactive deep learning book with code, math, and discussions<br> \n",
    "    Implemented with PyTorch, NumPy/MXNet, and TensorFlow<br>\n",
    "    Adopted at 300 universities from 55 countries\n",
    "\n",
    "\n",
    "### Slides\n",
    "\n",
    "  * John Urbanic's [\"Deep Learning in one Afternoon\"](https://www.psc.edu/wp-content/uploads/2022/04/Deep-Learning.pdf)<br>\n",
    "An excellent fast, condensed introduction to Deep Learning.<br>\n",
    "John is a Parallel Computing Scientist at Pittsburgh Supercomputing Center\n",
    "\n",
    "  * [Christopher Olah's Blog](http://colah.github.io) is very good. For example about [Back Propagation](http://colah.github.io/posts/2015-08-Backprop)\n",
    "\n",
    "  * Adam W. Harley on his CMU page offers [An Interactive Node-Link Visualization of Convolutional Neural Networks](https://www.cs.cmu.edu/~aharley/vis/)\n",
    "\n",
    "\n",
    "\n",
    "### Jupyter Notebooks\n",
    "\n",
    " * [Yale Digital Humanities Lab](https://github.com/YaleDHLab/lab-workshops)\n",
    " \n",
    " * Aurelien Geron Hands-on Machine Learning with Scikit-learn \n",
    "   [First Edition](https://github.com/ageron/handson-ml) and\n",
    "   [Second Edition](https://github.com/ageron/handson-ml2)\n",
    "   \n",
    " * [A progressive collection notebooks of the Machine Learning course by the University of Turin](https://github.com/rugantio/MachineLearningCourse)\n",
    "   \n",
    " * [A curated set of jupyter notebooks about many topics](https://github.com/jupyter/jupyter/wiki/A-gallery-of-interesting-Jupyter-Notebooks)\n",
    "   \n",
    "### Videos\n",
    "\n",
    " * [Caltech's \"Learning from Data\" by Professor Yaser Abu-Mostafa](https://work.caltech.edu/telecourse.html)\n",
    " \n",
    " * [3Blue1Brown Youtube Channel](https://www.youtube.com/watch?v=Ilg3gGewQ5U)\n",
    " \n",
    " ---"
   ]
  },
  {
   "cell_type": "markdown",
   "id": "7ab7c724",
   "metadata": {},
   "source": [
    "# Back of the Book"
   ]
  },
  {
   "cell_type": "code",
   "execution_count": null,
   "id": "a362286f",
   "metadata": {
    "scrolled": false
   },
   "outputs": [],
   "source": [
    "n = chapter_number\n",
    "t = np.linspace(0, (2*(n-1)+1)*np.pi/2, 1000)\n",
    "x = t*np.cos(t)**3\n",
    "y = 9*t*np.sqrt(np.abs(np.cos(t))) + t*np.sin(0.3*t)*np.cos(2*t)\n",
    "plt.plot(x, y, c=\"green\")\n",
    "plt.axis('off');"
   ]
  },
  {
   "cell_type": "code",
   "execution_count": null,
   "id": "1b5ac433",
   "metadata": {},
   "outputs": [],
   "source": [
    "end = time.time()\n",
    "print(f'Chapter {chapter_number} took {int(end - start):d} seconds')"
   ]
  }
 ],
 "metadata": {
  "kernelspec": {
   "display_name": "Python 3 (ipykernel)",
   "language": "python",
   "name": "python3"
  },
  "language_info": {
   "codemirror_mode": {
    "name": "ipython",
    "version": 3
   },
   "file_extension": ".py",
   "mimetype": "text/x-python",
   "name": "python",
   "nbconvert_exporter": "python",
   "pygments_lexer": "ipython3",
   "version": "3.9.13"
  }
 },
 "nbformat": 4,
 "nbformat_minor": 5
}
