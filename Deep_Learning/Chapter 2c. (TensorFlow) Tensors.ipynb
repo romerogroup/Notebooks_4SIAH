{
 "cells": [
  {
   "cell_type": "markdown",
   "metadata": {},
   "source": [
    "![Deep Learning for Scientists in a hurry](./fig/Title.png)"
   ]
  },
  {
   "cell_type": "code",
   "execution_count": 1,
   "metadata": {},
   "outputs": [],
   "source": [
    "%load_ext watermark"
   ]
  },
  {
   "cell_type": "code",
   "execution_count": 2,
   "metadata": {
    "scrolled": true
   },
   "outputs": [
    {
     "name": "stdout",
     "output_type": "stream",
     "text": [
      "Last updated: 2022-08-19T20:05:34.797164-04:00\n",
      "\n",
      "Python implementation: CPython\n",
      "Python version       : 3.8.10\n",
      "IPython version      : 8.4.0\n",
      "\n",
      "Compiler    : GCC 9.4.0\n",
      "OS          : Linux\n",
      "Release     : 3.10.0-1160.24.1.el7.x86_64\n",
      "Machine     : x86_64\n",
      "Processor   : x86_64\n",
      "CPU cores   : 52\n",
      "Architecture: 64bit\n",
      "\n"
     ]
    }
   ],
   "source": [
    "%watermark"
   ]
  },
  {
   "cell_type": "code",
   "execution_count": 3,
   "metadata": {},
   "outputs": [],
   "source": [
    "import time\n",
    "start = time.time()\n",
    "chapter_number = 2\n",
    "import matplotlib\n",
    "%matplotlib inline\n",
    "%load_ext autoreload\n",
    "%autoreload 2\n",
    "import matplotlib.pyplot as plt"
   ]
  },
  {
   "cell_type": "code",
   "execution_count": 4,
   "metadata": {},
   "outputs": [
    {
     "name": "stderr",
     "output_type": "stream",
     "text": [
      "2022-08-19 20:05:35.505011: I tensorflow/core/util/util.cc:169] oneDNN custom operations are on. You may see slightly different numerical results due to floating-point round-off errors from different computation orders. To turn them off, set the environment variable `TF_ENABLE_ONEDNN_OPTS=0`.\n"
     ]
    }
   ],
   "source": [
    "import tensorflow as tf\n",
    "import numpy as np"
   ]
  },
  {
   "cell_type": "code",
   "execution_count": 5,
   "metadata": {
    "scrolled": false
   },
   "outputs": [
    {
     "name": "stdout",
     "output_type": "stream",
     "text": [
      "numpy     : 1.21.1\n",
      "tensorflow: 2.9.1+nv22.07\n",
      "matplotlib: 3.5.0\n",
      "\n"
     ]
    }
   ],
   "source": [
    "%watermark -iv"
   ]
  },
  {
   "cell_type": "markdown",
   "metadata": {},
   "source": [
    "# Low level operation in  TensorFlow"
   ]
  },
  {
   "cell_type": "markdown",
   "metadata": {},
   "source": [
    "## The traditional \"Hello World\" example"
   ]
  },
  {
   "cell_type": "code",
   "execution_count": 6,
   "metadata": {},
   "outputs": [
    {
     "name": "stderr",
     "output_type": "stream",
     "text": [
      "2022-08-19 20:05:36.977647: I tensorflow/core/platform/cpu_feature_guard.cc:194] This TensorFlow binary is optimized with oneAPI Deep Neural Network Library (oneDNN) to use the following CPU instructions in performance-critical operations:  SSE3 SSE4.1 SSE4.2 AVX\n",
      "To enable them in other operations, rebuild TensorFlow with the appropriate compiler flags.\n"
     ]
    },
    {
     "data": {
      "text/plain": [
       "<tf.Tensor: shape=(), dtype=string, numpy=b'Hello World'>"
      ]
     },
     "execution_count": 6,
     "metadata": {},
     "output_type": "execute_result"
    },
    {
     "name": "stderr",
     "output_type": "stream",
     "text": [
      "2022-08-19 20:05:38.253651: I tensorflow/core/common_runtime/gpu/gpu_device.cc:1532] Created device /job:localhost/replica:0/task:0/device:GPU:0 with 21326 MB memory:  -> device: 0, name: Quadro RTX 6000, pci bus id: 0000:89:00.0, compute capability: 7.5\n",
      "2022-08-19 20:05:38.254883: I tensorflow/core/common_runtime/gpu/gpu_device.cc:1532] Created device /job:localhost/replica:0/task:0/device:GPU:1 with 21326 MB memory:  -> device: 1, name: Quadro RTX 6000, pci bus id: 0000:8a:00.0, compute capability: 7.5\n",
      "2022-08-19 20:05:38.255882: I tensorflow/core/common_runtime/gpu/gpu_device.cc:1532] Created device /job:localhost/replica:0/task:0/device:GPU:2 with 21326 MB memory:  -> device: 2, name: Quadro RTX 6000, pci bus id: 0000:c1:00.0, compute capability: 7.5\n"
     ]
    }
   ],
   "source": [
    "x = tf.constant(\"Hello World\")\n",
    "x"
   ]
  },
  {
   "cell_type": "code",
   "execution_count": 7,
   "metadata": {},
   "outputs": [
    {
     "name": "stdout",
     "output_type": "stream",
     "text": [
      "tf.Tensor(b'Hello World', shape=(), dtype=string)\n"
     ]
    }
   ],
   "source": [
    "print(x)"
   ]
  },
  {
   "cell_type": "markdown",
   "metadata": {},
   "source": [
    "## Constants and Variables"
   ]
  },
  {
   "cell_type": "code",
   "execution_count": 8,
   "metadata": {},
   "outputs": [],
   "source": [
    "x = tf.constant(2.0)\n",
    "z = tf.Variable(3.0)"
   ]
  },
  {
   "cell_type": "markdown",
   "metadata": {},
   "source": [
    "## Mathematical operations"
   ]
  },
  {
   "cell_type": "code",
   "execution_count": 9,
   "metadata": {},
   "outputs": [],
   "source": [
    "comp = tf.add(x,z)"
   ]
  },
  {
   "cell_type": "code",
   "execution_count": 10,
   "metadata": {
    "scrolled": true
   },
   "outputs": [
    {
     "name": "stdout",
     "output_type": "stream",
     "text": [
      "tf.Tensor(5.0, shape=(), dtype=float32)\n"
     ]
    }
   ],
   "source": [
    "print(comp)"
   ]
  },
  {
   "cell_type": "code",
   "execution_count": 11,
   "metadata": {},
   "outputs": [
    {
     "data": {
      "text/plain": [
       "<tf.Tensor: shape=(), dtype=float32, numpy=8.0>"
      ]
     },
     "execution_count": 11,
     "metadata": {},
     "output_type": "execute_result"
    }
   ],
   "source": [
    "comp = tf.pow(x,z)\n",
    "comp"
   ]
  },
  {
   "cell_type": "markdown",
   "metadata": {
    "id": "qFdPvlXBOdUN"
   },
   "source": [
    "# TensorFlow Tensors"
   ]
  },
  {
   "cell_type": "markdown",
   "metadata": {
    "id": "VQ3s2J8Vgowq"
   },
   "source": [
    "Similar to other Deep Learning frameworks, TensorFlow also developed its one data structure for storing Multidimensional arrays. As NumPy is the de-facto standard for multidimensional arrays, it is not a surprise that TensorFlow also tries to make the the interface as similar as possible to `numpy.ndarray`"
   ]
  },
  {
   "cell_type": "markdown",
   "metadata": {
    "id": "DRK5-9EpYbzG"
   },
   "source": [
    "## Basics\n",
    "\n",
    "Lets start with the rank-0 tensors and advance to higher ranks."
   ]
  },
  {
   "cell_type": "markdown",
   "metadata": {},
   "source": [
    "### Scalars"
   ]
  },
  {
   "cell_type": "markdown",
   "metadata": {
    "id": "uSHRFT6LJbxq"
   },
   "source": [
    "Here is a \"scalar\" or \"rank-0\" tensor . A scalar contains a single value, and no \"axes\"."
   ]
  },
  {
   "cell_type": "code",
   "execution_count": 12,
   "metadata": {
    "execution": {
     "iopub.execute_input": "2022-07-30T01:23:40.691017Z",
     "iopub.status.busy": "2022-07-30T01:23:40.690261Z",
     "iopub.status.idle": "2022-07-30T01:23:43.610370Z",
     "shell.execute_reply": "2022-07-30T01:23:43.609540Z"
    },
    "id": "d5JcgLFR6gHv"
   },
   "outputs": [
    {
     "name": "stdout",
     "output_type": "stream",
     "text": [
      "tf.Tensor(8, shape=(), dtype=int32)\n"
     ]
    }
   ],
   "source": [
    "# int32 tensor is the default dtype for integers\n",
    "rank_0_tensor = tf.constant(8)\n",
    "print(rank_0_tensor)"
   ]
  },
  {
   "cell_type": "code",
   "execution_count": 13,
   "metadata": {},
   "outputs": [
    {
     "name": "stdout",
     "output_type": "stream",
     "text": [
      "tf.Tensor(3.14, shape=(), dtype=float32)\n"
     ]
    }
   ],
   "source": [
    "# float32 is the default dtype for floats\n",
    "rank_0_tensor = tf.constant(3.14)\n",
    "print(rank_0_tensor)"
   ]
  },
  {
   "cell_type": "markdown",
   "metadata": {},
   "source": [
    "### Vectors"
   ]
  },
  {
   "cell_type": "markdown",
   "metadata": {
    "id": "tdmPAn9fWYs5"
   },
   "source": [
    "A \"vector\" or \"rank-1\" tensor is like a list of values. A vector has one axis:"
   ]
  },
  {
   "cell_type": "code",
   "execution_count": 14,
   "metadata": {
    "execution": {
     "iopub.execute_input": "2022-07-30T01:23:43.645424Z",
     "iopub.status.busy": "2022-07-30T01:23:43.645173Z",
     "iopub.status.idle": "2022-07-30T01:23:43.652120Z",
     "shell.execute_reply": "2022-07-30T01:23:43.651369Z"
    },
    "id": "oZos8o_R6oE7"
   },
   "outputs": [
    {
     "name": "stdout",
     "output_type": "stream",
     "text": [
      "tf.Tensor([2 3 4], shape=(3,), dtype=int32)\n"
     ]
    }
   ],
   "source": [
    "# Let's make this a float tensor.\n",
    "rank_1_tensor = tf.constant([2, 3, 4])\n",
    "print(rank_1_tensor)"
   ]
  },
  {
   "cell_type": "code",
   "execution_count": 15,
   "metadata": {},
   "outputs": [
    {
     "name": "stdout",
     "output_type": "stream",
     "text": [
      "tf.Tensor([2.   3.14 4.  ], shape=(3,), dtype=float32)\n"
     ]
    }
   ],
   "source": [
    "# If one element is a float the entire tensor is promoted to float\n",
    "rank_1_tensor = tf.constant([2, 3.14, 4])\n",
    "print(rank_1_tensor)"
   ]
  },
  {
   "cell_type": "markdown",
   "metadata": {},
   "source": [
    "### Matrices"
   ]
  },
  {
   "cell_type": "markdown",
   "metadata": {
    "id": "G3IJG-ug_H4u"
   },
   "source": [
    "A \"matrix\" or \"rank-2\" tensor has two axes:"
   ]
  },
  {
   "cell_type": "code",
   "execution_count": 16,
   "metadata": {
    "execution": {
     "iopub.execute_input": "2022-07-30T01:23:43.655139Z",
     "iopub.status.busy": "2022-07-30T01:23:43.654578Z",
     "iopub.status.idle": "2022-07-30T01:23:43.659437Z",
     "shell.execute_reply": "2022-07-30T01:23:43.658666Z"
    },
    "id": "cnOIA_xb6u0M"
   },
   "outputs": [
    {
     "name": "stdout",
     "output_type": "stream",
     "text": [
      "tf.Tensor(\n",
      "[[1. 2.]\n",
      " [3. 4.]\n",
      " [5. 6.]], shape=(3, 2), dtype=float16)\n"
     ]
    }
   ],
   "source": [
    "# If you want to be specific, you can set the dtype (see below) at creation time\n",
    "rank_2_tensor = tf.constant([[1, 2],\n",
    "                             [3, 4],\n",
    "                             [5, 6]], dtype=tf.float16)\n",
    "print(rank_2_tensor)"
   ]
  },
  {
   "cell_type": "markdown",
   "metadata": {},
   "source": [
    "### Higher rank tensors"
   ]
  },
  {
   "cell_type": "markdown",
   "metadata": {
    "id": "fjFvzcn4_ehD"
   },
   "source": [
    "Tensors may have more axes; here is a tensor with three axes:"
   ]
  },
  {
   "cell_type": "code",
   "execution_count": 17,
   "metadata": {
    "execution": {
     "iopub.execute_input": "2022-07-30T01:23:43.662564Z",
     "iopub.status.busy": "2022-07-30T01:23:43.662055Z",
     "iopub.status.idle": "2022-07-30T01:23:43.666592Z",
     "shell.execute_reply": "2022-07-30T01:23:43.666043Z"
    },
    "id": "sesW7gw6JkXy"
   },
   "outputs": [
    {
     "name": "stdout",
     "output_type": "stream",
     "text": [
      "tf.Tensor(\n",
      "[[[ 0  1  2  3  4]\n",
      "  [ 5  6  7  8  9]]\n",
      "\n",
      " [[10 11 12 13 14]\n",
      "  [15 16 17 18 19]]\n",
      "\n",
      " [[20 21 22 23 24]\n",
      "  [25 26 27 28 29]]], shape=(3, 2, 5), dtype=int32)\n"
     ]
    }
   ],
   "source": [
    "# There can be an arbitrary number of\n",
    "# axes (sometimes called \"dimensions\")\n",
    "rank_3_tensor = tf.constant([\n",
    "  [[0, 1, 2, 3, 4],\n",
    "   [5, 6, 7, 8, 9]],\n",
    "  [[10, 11, 12, 13, 14],\n",
    "   [15, 16, 17, 18, 19]],\n",
    "  [[20, 21, 22, 23, 24],\n",
    "   [25, 26, 27, 28, 29]],])\n",
    "\n",
    "print(rank_3_tensor)"
   ]
  },
  {
   "cell_type": "markdown",
   "metadata": {
    "id": "rM2sTGIkoE3S"
   },
   "source": [
    "There are many ways you might visualize a tensor with more than two axes."
   ]
  },
  {
   "cell_type": "markdown",
   "metadata": {},
   "source": [
    "## From NumPy arrays to TensorFlow tensors and reverse"
   ]
  },
  {
   "cell_type": "markdown",
   "metadata": {
    "id": "oWAc0U8OZwNb"
   },
   "source": [
    "You can convert a tensor to a NumPy array either using `np.array` or the `tensor.numpy` method:"
   ]
  },
  {
   "cell_type": "code",
   "execution_count": 18,
   "metadata": {
    "execution": {
     "iopub.execute_input": "2022-07-30T01:23:43.669722Z",
     "iopub.status.busy": "2022-07-30T01:23:43.669337Z",
     "iopub.status.idle": "2022-07-30T01:23:43.678110Z",
     "shell.execute_reply": "2022-07-30T01:23:43.677529Z"
    },
    "id": "J5u6_6ZYaS7B"
   },
   "outputs": [
    {
     "data": {
      "text/plain": [
       "array([[1., 2.],\n",
       "       [3., 4.],\n",
       "       [5., 6.]], dtype=float16)"
      ]
     },
     "execution_count": 18,
     "metadata": {},
     "output_type": "execute_result"
    }
   ],
   "source": [
    "np.array(rank_2_tensor)"
   ]
  },
  {
   "cell_type": "code",
   "execution_count": 19,
   "metadata": {
    "execution": {
     "iopub.execute_input": "2022-07-30T01:23:43.681182Z",
     "iopub.status.busy": "2022-07-30T01:23:43.680638Z",
     "iopub.status.idle": "2022-07-30T01:23:43.684914Z",
     "shell.execute_reply": "2022-07-30T01:23:43.684388Z"
    },
    "id": "c6Taz2gIaZeo"
   },
   "outputs": [
    {
     "data": {
      "text/plain": [
       "array([[1., 2.],\n",
       "       [3., 4.],\n",
       "       [5., 6.]], dtype=float16)"
      ]
     },
     "execution_count": 19,
     "metadata": {},
     "output_type": "execute_result"
    }
   ],
   "source": [
    "rank_2_tensor.numpy()"
   ]
  },
  {
   "cell_type": "markdown",
   "metadata": {},
   "source": [
    "## Some dtypes"
   ]
  },
  {
   "cell_type": "markdown",
   "metadata": {
    "id": "hnz19F0ocEKD"
   },
   "source": [
    "Tensors often contain floats and ints, but have many other types. \n",
    "The table below includes the most common ones\n",
    "\n",
    "| `dtype` | Description |\n",
    "|:------|:-----------:|\n",
    "| `bool`\t| Boolean |\n",
    "| `complex128`\t| 128-bit complex |\n",
    "| `complex64`\t| 64-bit complex |\n",
    "| `double`\t| 64-bit (double precision) floating-point |\n",
    "| `float16`\t| 16-bit (half precision) floating-point |\n",
    "| `float32`\t| 32-bit (single precision) floating-point |\n",
    "| `float64`\t| 64-bit (double precision) floating-point |\n",
    "| `half`\t| 16-bit (half precision) floating-point |\n",
    "| `int16`\t| Signed 16-bit integer |\n",
    "| `int32`\t| Signed 32-bit integer |\n",
    "| `int64`\t| Signed 64-bit integer |\n",
    "| `int8`\t| Signed 8-bit integer |\n",
    "\n",
    "\n",
    "## Specialized Tensors\n",
    "\n",
    "The base `tf.Tensor` class requires tensors to be \"rectangular\"---that is, along each axis, every element is the same size.  However, there are specialized types of tensors that can handle different shapes:\n",
    "\n",
    "* Ragged tensors (see [RaggedTensor](#ragged_tensors) below)\n",
    "* Sparse tensors (see [SparseTensor](#sparse_tensors) below)"
   ]
  },
  {
   "cell_type": "markdown",
   "metadata": {},
   "source": [
    "## Operations"
   ]
  },
  {
   "cell_type": "markdown",
   "metadata": {
    "id": "SDC7OGeAIJr8"
   },
   "source": [
    "You can do basic math on tensors, including addition, element-wise multiplication, and matrix multiplication."
   ]
  },
  {
   "cell_type": "code",
   "execution_count": 20,
   "metadata": {
    "execution": {
     "iopub.execute_input": "2022-07-30T01:23:43.688210Z",
     "iopub.status.busy": "2022-07-30T01:23:43.687646Z",
     "iopub.status.idle": "2022-07-30T01:23:43.693702Z",
     "shell.execute_reply": "2022-07-30T01:23:43.693130Z"
    },
    "id": "-DTkjwDOIIDa"
   },
   "outputs": [
    {
     "name": "stdout",
     "output_type": "stream",
     "text": [
      "tf.Tensor(\n",
      "[[2 3]\n",
      " [4 5]], shape=(2, 2), dtype=int32) \n",
      "\n",
      "tf.Tensor(\n",
      "[[1 2]\n",
      " [3 4]], shape=(2, 2), dtype=int32) \n",
      "\n",
      "tf.Tensor(\n",
      "[[3 3]\n",
      " [7 7]], shape=(2, 2), dtype=int32) \n",
      "\n"
     ]
    }
   ],
   "source": [
    "a = tf.constant([[1, 2],\n",
    "                 [3, 4]])\n",
    "b = tf.constant([[1, 1],\n",
    "                 [1, 1]]) # Could have also said `tf.ones([2,2])`\n",
    "\n",
    "print(tf.add(a, b), \"\\n\")\n",
    "print(tf.multiply(a, b), \"\\n\")\n",
    "print(tf.matmul(a, b), \"\\n\")"
   ]
  },
  {
   "cell_type": "code",
   "execution_count": 21,
   "metadata": {
    "execution": {
     "iopub.execute_input": "2022-07-30T01:23:43.696333Z",
     "iopub.status.busy": "2022-07-30T01:23:43.695967Z",
     "iopub.status.idle": "2022-07-30T01:23:43.700553Z",
     "shell.execute_reply": "2022-07-30T01:23:43.699947Z"
    },
    "id": "2smoWeUz-N2q"
   },
   "outputs": [
    {
     "name": "stdout",
     "output_type": "stream",
     "text": [
      "tf.Tensor(\n",
      "[[2 3]\n",
      " [4 5]], shape=(2, 2), dtype=int32) \n",
      "\n",
      "tf.Tensor(\n",
      "[[1 2]\n",
      " [3 4]], shape=(2, 2), dtype=int32) \n",
      "\n",
      "tf.Tensor(\n",
      "[[3 3]\n",
      " [7 7]], shape=(2, 2), dtype=int32) \n",
      "\n"
     ]
    }
   ],
   "source": [
    "print(a + b, \"\\n\") # element-wise addition\n",
    "print(a * b, \"\\n\") # element-wise multiplication\n",
    "print(a @ b, \"\\n\") # matrix multiplication"
   ]
  },
  {
   "cell_type": "markdown",
   "metadata": {},
   "source": [
    "### Unary operations"
   ]
  },
  {
   "cell_type": "markdown",
   "metadata": {
    "id": "S3_vIAl2JPVc"
   },
   "source": [
    "Tensors are used in all kinds of operations (or \"Ops\")."
   ]
  },
  {
   "cell_type": "code",
   "execution_count": 22,
   "metadata": {
    "execution": {
     "iopub.execute_input": "2022-07-30T01:23:43.703429Z",
     "iopub.status.busy": "2022-07-30T01:23:43.702926Z",
     "iopub.status.idle": "2022-07-30T01:23:43.708521Z",
     "shell.execute_reply": "2022-07-30T01:23:43.707966Z"
    },
    "id": "Gp4WUYzGIbnv"
   },
   "outputs": [
    {
     "data": {
      "text/plain": [
       "<tf.Tensor: shape=(2, 2), dtype=float32, numpy=\n",
       "array([[ 4.,  5.],\n",
       "       [10.,  1.]], dtype=float32)>"
      ]
     },
     "execution_count": 22,
     "metadata": {},
     "output_type": "execute_result"
    }
   ],
   "source": [
    "c = tf.constant([[4.0, 5.0], [10.0, 1.0]])\n",
    "c"
   ]
  },
  {
   "cell_type": "code",
   "execution_count": 23,
   "metadata": {
    "execution": {
     "iopub.execute_input": "2022-07-30T01:23:43.703429Z",
     "iopub.status.busy": "2022-07-30T01:23:43.702926Z",
     "iopub.status.idle": "2022-07-30T01:23:43.708521Z",
     "shell.execute_reply": "2022-07-30T01:23:43.707966Z"
    },
    "id": "Gp4WUYzGIbnv"
   },
   "outputs": [
    {
     "name": "stdout",
     "output_type": "stream",
     "text": [
      "tf.Tensor(10.0, shape=(), dtype=float32)\n"
     ]
    }
   ],
   "source": [
    "# Find the largest value\n",
    "print(tf.reduce_max(c))"
   ]
  },
  {
   "cell_type": "code",
   "execution_count": 24,
   "metadata": {
    "execution": {
     "iopub.execute_input": "2022-07-30T01:23:43.703429Z",
     "iopub.status.busy": "2022-07-30T01:23:43.702926Z",
     "iopub.status.idle": "2022-07-30T01:23:43.708521Z",
     "shell.execute_reply": "2022-07-30T01:23:43.707966Z"
    },
    "id": "Gp4WUYzGIbnv"
   },
   "outputs": [
    {
     "name": "stdout",
     "output_type": "stream",
     "text": [
      "tf.Tensor([1 0], shape=(2,), dtype=int64)\n"
     ]
    }
   ],
   "source": [
    "# Find the index of the largest value\n",
    "print(tf.math.argmax(c))"
   ]
  },
  {
   "cell_type": "code",
   "execution_count": 25,
   "metadata": {
    "execution": {
     "iopub.execute_input": "2022-07-30T01:23:43.703429Z",
     "iopub.status.busy": "2022-07-30T01:23:43.702926Z",
     "iopub.status.idle": "2022-07-30T01:23:43.708521Z",
     "shell.execute_reply": "2022-07-30T01:23:43.707966Z"
    },
    "id": "Gp4WUYzGIbnv"
   },
   "outputs": [
    {
     "name": "stdout",
     "output_type": "stream",
     "text": [
      "tf.Tensor(\n",
      "[[2.6894143e-01 7.3105854e-01]\n",
      " [9.9987662e-01 1.2339458e-04]], shape=(2, 2), dtype=float32)\n"
     ]
    }
   ],
   "source": [
    "# Compute the softmax\n",
    "print(tf.nn.softmax(c))"
   ]
  },
  {
   "cell_type": "markdown",
   "metadata": {
    "id": "0MNM-q7-MZLz"
   },
   "source": [
    "Note: Typically, anywhere a TensorFlow function expects a `Tensor` as input, the function will also accept anything that can be converted to a `Tensor` using `tf.convert_to_tensor`. See below for an example."
   ]
  },
  {
   "cell_type": "code",
   "execution_count": 26,
   "metadata": {
    "execution": {
     "iopub.execute_input": "2022-07-30T01:23:43.711474Z",
     "iopub.status.busy": "2022-07-30T01:23:43.711129Z",
     "iopub.status.idle": "2022-07-30T01:23:43.715655Z",
     "shell.execute_reply": "2022-07-30T01:23:43.715109Z"
    },
    "id": "_wch0N8xNEt-"
   },
   "outputs": [
    {
     "data": {
      "text/plain": [
       "<tf.Tensor: shape=(3,), dtype=int32, numpy=array([1, 2, 3], dtype=int32)>"
      ]
     },
     "execution_count": 26,
     "metadata": {},
     "output_type": "execute_result"
    }
   ],
   "source": [
    "tf.convert_to_tensor([1,2,3])"
   ]
  },
  {
   "cell_type": "code",
   "execution_count": 27,
   "metadata": {
    "execution": {
     "iopub.execute_input": "2022-07-30T01:23:43.718345Z",
     "iopub.status.busy": "2022-07-30T01:23:43.717993Z",
     "iopub.status.idle": "2022-07-30T01:23:43.722913Z",
     "shell.execute_reply": "2022-07-30T01:23:43.722321Z"
    },
    "id": "ngqIeWYeNJVI"
   },
   "outputs": [
    {
     "data": {
      "text/plain": [
       "<tf.Tensor: shape=(), dtype=int32, numpy=3>"
      ]
     },
     "execution_count": 27,
     "metadata": {},
     "output_type": "execute_result"
    }
   ],
   "source": [
    "tf.reduce_max([1,2,3])"
   ]
  },
  {
   "cell_type": "code",
   "execution_count": 28,
   "metadata": {
    "execution": {
     "iopub.execute_input": "2022-07-30T01:23:43.725737Z",
     "iopub.status.busy": "2022-07-30T01:23:43.725338Z",
     "iopub.status.idle": "2022-07-30T01:23:43.730299Z",
     "shell.execute_reply": "2022-07-30T01:23:43.729714Z"
    },
    "id": "ThVMxqbVNOq3"
   },
   "outputs": [
    {
     "data": {
      "text/plain": [
       "<tf.Tensor: shape=(), dtype=int64, numpy=3>"
      ]
     },
     "execution_count": 28,
     "metadata": {},
     "output_type": "execute_result"
    }
   ],
   "source": [
    "tf.reduce_max(np.array([1,2,3]))"
   ]
  },
  {
   "cell_type": "markdown",
   "metadata": {
    "id": "NvSAbowVVuRr"
   },
   "source": [
    "## TensorFlow Terminology:  shape, rank, dimension, and size"
   ]
  },
  {
   "cell_type": "markdown",
   "metadata": {
    "id": "hkaBIqkTCcGY"
   },
   "source": [
    "Tensors have shapes.  Some vocabulary:\n",
    "\n",
    "* **Shape**: The length (number of elements) of each of the axes of a tensor.\n",
    "* **Rank**: Number of tensor axes.  A scalar has rank 0, a vector has rank 1, a matrix is rank 2.\n",
    "* **Axis** or **Dimension**: A particular dimension of a tensor.\n",
    "* **Size**: The total number of items in the tensor, the product of the shape vector's elements.\n"
   ]
  },
  {
   "cell_type": "markdown",
   "metadata": {
    "id": "E9L3-kCQq2f6"
   },
   "source": [
    "Note: Although you may see reference to a \"tensor of two dimensions\", a rank-2 tensor does not usually describe a 2D space."
   ]
  },
  {
   "cell_type": "markdown",
   "metadata": {
    "id": "VFOyG2tn8LhW"
   },
   "source": [
    "Tensors and `tf.TensorShape` objects have convenient properties for accessing these:"
   ]
  },
  {
   "cell_type": "code",
   "execution_count": 29,
   "metadata": {
    "execution": {
     "iopub.execute_input": "2022-07-30T01:23:43.733424Z",
     "iopub.status.busy": "2022-07-30T01:23:43.733005Z",
     "iopub.status.idle": "2022-07-30T01:23:43.736924Z",
     "shell.execute_reply": "2022-07-30T01:23:43.736375Z"
    },
    "id": "RyD3yewUKdnK"
   },
   "outputs": [
    {
     "data": {
      "text/plain": [
       "<tf.Tensor: shape=(3, 2, 4, 5), dtype=float32, numpy=\n",
       "array([[[[0., 0., 0., 0., 0.],\n",
       "         [0., 0., 0., 0., 0.],\n",
       "         [0., 0., 0., 0., 0.],\n",
       "         [0., 0., 0., 0., 0.]],\n",
       "\n",
       "        [[0., 0., 0., 0., 0.],\n",
       "         [0., 0., 0., 0., 0.],\n",
       "         [0., 0., 0., 0., 0.],\n",
       "         [0., 0., 0., 0., 0.]]],\n",
       "\n",
       "\n",
       "       [[[0., 0., 0., 0., 0.],\n",
       "         [0., 0., 0., 0., 0.],\n",
       "         [0., 0., 0., 0., 0.],\n",
       "         [0., 0., 0., 0., 0.]],\n",
       "\n",
       "        [[0., 0., 0., 0., 0.],\n",
       "         [0., 0., 0., 0., 0.],\n",
       "         [0., 0., 0., 0., 0.],\n",
       "         [0., 0., 0., 0., 0.]]],\n",
       "\n",
       "\n",
       "       [[[0., 0., 0., 0., 0.],\n",
       "         [0., 0., 0., 0., 0.],\n",
       "         [0., 0., 0., 0., 0.],\n",
       "         [0., 0., 0., 0., 0.]],\n",
       "\n",
       "        [[0., 0., 0., 0., 0.],\n",
       "         [0., 0., 0., 0., 0.],\n",
       "         [0., 0., 0., 0., 0.],\n",
       "         [0., 0., 0., 0., 0.]]]], dtype=float32)>"
      ]
     },
     "execution_count": 29,
     "metadata": {},
     "output_type": "execute_result"
    }
   ],
   "source": [
    "rank_4_tensor = tf.zeros([3, 2, 4, 5])\n",
    "rank_4_tensor"
   ]
  },
  {
   "cell_type": "code",
   "execution_count": 30,
   "metadata": {
    "execution": {
     "iopub.execute_input": "2022-07-30T01:23:43.740058Z",
     "iopub.status.busy": "2022-07-30T01:23:43.739612Z",
     "iopub.status.idle": "2022-07-30T01:23:43.744254Z",
     "shell.execute_reply": "2022-07-30T01:23:43.743651Z"
    },
    "id": "MHm9vSqogsBk"
   },
   "outputs": [
    {
     "name": "stdout",
     "output_type": "stream",
     "text": [
      "Type of every element: <dtype: 'float32'>\n",
      "Number of axes: 4\n",
      "Shape of tensor: (3, 2, 4, 5)\n",
      "Elements along axis 0 of tensor: 3\n",
      "Elements along the last axis of tensor: 5\n",
      "Total number of elements (3*2*4*5):  120\n"
     ]
    }
   ],
   "source": [
    "print(\"Type of every element:\", rank_4_tensor.dtype)\n",
    "print(\"Number of axes:\", rank_4_tensor.ndim)\n",
    "print(\"Shape of tensor:\", rank_4_tensor.shape)\n",
    "print(\"Elements along axis 0 of tensor:\", rank_4_tensor.shape[0])\n",
    "print(\"Elements along the last axis of tensor:\", rank_4_tensor.shape[-1])\n",
    "print(\"Total number of elements (3*2*4*5): \", tf.size(rank_4_tensor).numpy())"
   ]
  },
  {
   "cell_type": "markdown",
   "metadata": {
    "id": "2ZGZp_JOOPOv"
   },
   "source": [
    "But note that the `Tensor.ndim` and `Tensor.shape` attributes don't return `Tensor` objects. If you need a `Tensor` use the `tf.rank` or `tf.shape` function. This difference is subtle, but it can be important when building graphs (later)."
   ]
  },
  {
   "cell_type": "code",
   "execution_count": 31,
   "metadata": {
    "execution": {
     "iopub.execute_input": "2022-07-30T01:23:43.747373Z",
     "iopub.status.busy": "2022-07-30T01:23:43.746873Z",
     "iopub.status.idle": "2022-07-30T01:23:43.751035Z",
     "shell.execute_reply": "2022-07-30T01:23:43.750451Z"
    },
    "id": "Ptq0-y6APCpD"
   },
   "outputs": [
    {
     "data": {
      "text/plain": [
       "<tf.Tensor: shape=(), dtype=int32, numpy=4>"
      ]
     },
     "execution_count": 31,
     "metadata": {},
     "output_type": "execute_result"
    }
   ],
   "source": [
    "tf.rank(rank_4_tensor)"
   ]
  },
  {
   "cell_type": "code",
   "execution_count": 32,
   "metadata": {
    "execution": {
     "iopub.execute_input": "2022-07-30T01:23:43.753628Z",
     "iopub.status.busy": "2022-07-30T01:23:43.753274Z",
     "iopub.status.idle": "2022-07-30T01:23:43.757443Z",
     "shell.execute_reply": "2022-07-30T01:23:43.756904Z"
    },
    "id": "HslrDOEBPICN"
   },
   "outputs": [
    {
     "data": {
      "text/plain": [
       "<tf.Tensor: shape=(4,), dtype=int32, numpy=array([3, 2, 4, 5], dtype=int32)>"
      ]
     },
     "execution_count": 32,
     "metadata": {},
     "output_type": "execute_result"
    }
   ],
   "source": [
    "tf.shape(rank_4_tensor)"
   ]
  },
  {
   "cell_type": "markdown",
   "metadata": {
    "id": "FlPoVvJS75Bb"
   },
   "source": [
    "## Indexing"
   ]
  },
  {
   "cell_type": "markdown",
   "metadata": {
    "id": "apOkCKqCZIZu"
   },
   "source": [
    "### Single-axis indexing\n",
    "\n",
    "TensorFlow follows standard Python indexing rules, similar to [indexing a list or a string in Python](https://docs.python.org/3/tutorial/introduction.html#strings), and the basic rules for NumPy indexing.\n",
    "\n",
    "* indexes start at `0`\n",
    "* negative indices count backwards from the end\n",
    "* colons, `:`, are used for slices: `start:stop:step`\n"
   ]
  },
  {
   "cell_type": "code",
   "execution_count": 33,
   "metadata": {
    "execution": {
     "iopub.execute_input": "2022-07-30T01:23:43.760772Z",
     "iopub.status.busy": "2022-07-30T01:23:43.760176Z",
     "iopub.status.idle": "2022-07-30T01:23:43.764242Z",
     "shell.execute_reply": "2022-07-30T01:23:43.763639Z"
    },
    "id": "SQ-CrJxLXTIM"
   },
   "outputs": [
    {
     "name": "stdout",
     "output_type": "stream",
     "text": [
      "[ 0  1  1  2  3  5  8 13 21 34]\n"
     ]
    }
   ],
   "source": [
    "rank_1_tensor = tf.constant([0, 1, 1, 2, 3, 5, 8, 13, 21, 34])\n",
    "print(rank_1_tensor.numpy())"
   ]
  },
  {
   "cell_type": "markdown",
   "metadata": {
    "id": "mQYYL56PXSak"
   },
   "source": [
    "Indexing with a scalar removes the axis:"
   ]
  },
  {
   "cell_type": "code",
   "execution_count": 34,
   "metadata": {
    "execution": {
     "iopub.execute_input": "2022-07-30T01:23:43.767553Z",
     "iopub.status.busy": "2022-07-30T01:23:43.766922Z",
     "iopub.status.idle": "2022-07-30T01:23:43.772489Z",
     "shell.execute_reply": "2022-07-30T01:23:43.771922Z"
    },
    "id": "n6tqHciOWMt5"
   },
   "outputs": [
    {
     "name": "stdout",
     "output_type": "stream",
     "text": [
      "First: 0\n",
      "Second: 1\n",
      "Last: 34\n"
     ]
    }
   ],
   "source": [
    "print(\"First:\", rank_1_tensor[0].numpy())\n",
    "print(\"Second:\", rank_1_tensor[1].numpy())\n",
    "print(\"Last:\", rank_1_tensor[-1].numpy())"
   ]
  },
  {
   "cell_type": "markdown",
   "metadata": {
    "id": "qJLHU_a2XwpG"
   },
   "source": [
    "Indexing with a `:` slice keeps the axis:"
   ]
  },
  {
   "cell_type": "code",
   "execution_count": 35,
   "metadata": {
    "execution": {
     "iopub.execute_input": "2022-07-30T01:23:43.775423Z",
     "iopub.status.busy": "2022-07-30T01:23:43.774900Z",
     "iopub.status.idle": "2022-07-30T01:23:43.781670Z",
     "shell.execute_reply": "2022-07-30T01:23:43.781101Z"
    },
    "id": "giVPPcfQX-cu"
   },
   "outputs": [
    {
     "name": "stdout",
     "output_type": "stream",
     "text": [
      "Everything: [ 0  1  1  2  3  5  8 13 21 34]\n",
      "Before 4: [0 1 1 2]\n",
      "From 4 to the end: [ 3  5  8 13 21 34]\n",
      "From 2, before 7: [1 2 3 5 8]\n",
      "Every other item: [ 0  1  3  8 21]\n",
      "Reversed: [34 21 13  8  5  3  2  1  1  0]\n"
     ]
    }
   ],
   "source": [
    "print(\"Everything:\", rank_1_tensor[:].numpy())\n",
    "print(\"Before 4:\", rank_1_tensor[:4].numpy())\n",
    "print(\"From 4 to the end:\", rank_1_tensor[4:].numpy())\n",
    "print(\"From 2, before 7:\", rank_1_tensor[2:7].numpy())\n",
    "print(\"Every other item:\", rank_1_tensor[::2].numpy())\n",
    "print(\"Reversed:\", rank_1_tensor[::-1].numpy())"
   ]
  },
  {
   "cell_type": "markdown",
   "metadata": {
    "id": "elDSxXi7X-Bh"
   },
   "source": [
    "### Multi-axis indexing"
   ]
  },
  {
   "cell_type": "markdown",
   "metadata": {
    "id": "Cgk0uRUYZiai"
   },
   "source": [
    "Higher rank tensors are indexed by passing multiple indices.\n",
    "\n",
    "The exact same rules as in the single-axis case apply to each axis independently."
   ]
  },
  {
   "cell_type": "code",
   "execution_count": 36,
   "metadata": {},
   "outputs": [
    {
     "data": {
      "text/plain": [
       "<tf.Tensor: shape=(3, 2), dtype=float16, numpy=\n",
       "array([[1., 2.],\n",
       "       [3., 4.],\n",
       "       [5., 6.]], dtype=float16)>"
      ]
     },
     "execution_count": 36,
     "metadata": {},
     "output_type": "execute_result"
    }
   ],
   "source": [
    "rank_2_tensor"
   ]
  },
  {
   "cell_type": "code",
   "execution_count": 37,
   "metadata": {
    "execution": {
     "iopub.execute_input": "2022-07-30T01:23:43.784811Z",
     "iopub.status.busy": "2022-07-30T01:23:43.784253Z",
     "iopub.status.idle": "2022-07-30T01:23:43.787746Z",
     "shell.execute_reply": "2022-07-30T01:23:43.787205Z"
    },
    "id": "Tc5X_WlsZXmd"
   },
   "outputs": [
    {
     "name": "stdout",
     "output_type": "stream",
     "text": [
      "[[1. 2.]\n",
      " [3. 4.]\n",
      " [5. 6.]]\n"
     ]
    }
   ],
   "source": [
    "print(rank_2_tensor.numpy())"
   ]
  },
  {
   "cell_type": "markdown",
   "metadata": {
    "id": "w07U9vq5ipQk"
   },
   "source": [
    "Passing an integer for each index, the result is a scalar."
   ]
  },
  {
   "cell_type": "code",
   "execution_count": 38,
   "metadata": {
    "execution": {
     "iopub.execute_input": "2022-07-30T01:23:43.790712Z",
     "iopub.status.busy": "2022-07-30T01:23:43.790299Z",
     "iopub.status.idle": "2022-07-30T01:23:43.794166Z",
     "shell.execute_reply": "2022-07-30T01:23:43.793641Z"
    },
    "id": "PvILXc1PjqTM"
   },
   "outputs": [
    {
     "name": "stdout",
     "output_type": "stream",
     "text": [
      "4.0\n"
     ]
    }
   ],
   "source": [
    "# Pull out a single value from a 2-rank tensor\n",
    "print(rank_2_tensor[1, 1].numpy())"
   ]
  },
  {
   "cell_type": "markdown",
   "metadata": {
    "id": "3RLCzAOHjfEH"
   },
   "source": [
    "You can index using any combination of integers and slices:"
   ]
  },
  {
   "cell_type": "code",
   "execution_count": 39,
   "metadata": {
    "execution": {
     "iopub.execute_input": "2022-07-30T01:23:43.796962Z",
     "iopub.status.busy": "2022-07-30T01:23:43.796439Z",
     "iopub.status.idle": "2022-07-30T01:23:43.803459Z",
     "shell.execute_reply": "2022-07-30T01:23:43.802882Z"
    },
    "id": "YTqNqsfJkJP_"
   },
   "outputs": [
    {
     "name": "stdout",
     "output_type": "stream",
     "text": [
      "Second row: [3. 4.]\n",
      "Second column: [2. 4. 6.]\n",
      "Last row: [5. 6.]\n",
      "First item in last column: 2.0\n",
      "Skip the first row:\n",
      "[[3. 4.]\n",
      " [5. 6.]] \n",
      "\n"
     ]
    }
   ],
   "source": [
    "# Get row and column tensors\n",
    "print(\"Second row:\", rank_2_tensor[1, :].numpy())\n",
    "print(\"Second column:\", rank_2_tensor[:, 1].numpy())\n",
    "print(\"Last row:\", rank_2_tensor[-1, :].numpy())\n",
    "print(\"First item in last column:\", rank_2_tensor[0, -1].numpy())\n",
    "print(\"Skip the first row:\")\n",
    "print(rank_2_tensor[1:, :].numpy(), \"\\n\")"
   ]
  },
  {
   "cell_type": "markdown",
   "metadata": {
    "id": "P45TwSUVSK6G"
   },
   "source": [
    "Here is an example with a 3-axis tensor:"
   ]
  },
  {
   "cell_type": "code",
   "execution_count": 40,
   "metadata": {
    "execution": {
     "iopub.execute_input": "2022-07-30T01:23:43.806040Z",
     "iopub.status.busy": "2022-07-30T01:23:43.805839Z",
     "iopub.status.idle": "2022-07-30T01:23:43.809749Z",
     "shell.execute_reply": "2022-07-30T01:23:43.809159Z"
    },
    "id": "GuLoMoCVSLxK"
   },
   "outputs": [
    {
     "name": "stdout",
     "output_type": "stream",
     "text": [
      "tf.Tensor(\n",
      "[[ 4  9]\n",
      " [14 19]\n",
      " [24 29]], shape=(3, 2), dtype=int32)\n"
     ]
    }
   ],
   "source": [
    "print(rank_3_tensor[:, :, 4])"
   ]
  },
  {
   "cell_type": "markdown",
   "metadata": {
    "id": "t9V83-thHn89"
   },
   "source": [
    "Read the [tensor slicing guide](https://tensorflow.org/guide/tensor_slicing) to learn how you can apply indexing to manipulate individual elements in your tensors."
   ]
  },
  {
   "cell_type": "markdown",
   "metadata": {
    "id": "fpr7R0t4SVb0"
   },
   "source": [
    "## Manipulating Shapes\n",
    "\n",
    "Reshaping a tensor is of great utility. \n"
   ]
  },
  {
   "cell_type": "code",
   "execution_count": 41,
   "metadata": {
    "execution": {
     "iopub.execute_input": "2022-07-30T01:23:43.812799Z",
     "iopub.status.busy": "2022-07-30T01:23:43.812318Z",
     "iopub.status.idle": "2022-07-30T01:23:43.815866Z",
     "shell.execute_reply": "2022-07-30T01:23:43.815305Z"
    },
    "id": "EMeTtga5Wq8j"
   },
   "outputs": [
    {
     "name": "stdout",
     "output_type": "stream",
     "text": [
      "(3, 1)\n"
     ]
    }
   ],
   "source": [
    "# Shape returns a `TensorShape` object that shows the size along each axis\n",
    "x = tf.constant([[1], [2], [3]])\n",
    "print(x.shape)"
   ]
  },
  {
   "cell_type": "code",
   "execution_count": 42,
   "metadata": {
    "execution": {
     "iopub.execute_input": "2022-07-30T01:23:43.818672Z",
     "iopub.status.busy": "2022-07-30T01:23:43.818176Z",
     "iopub.status.idle": "2022-07-30T01:23:43.821548Z",
     "shell.execute_reply": "2022-07-30T01:23:43.821026Z"
    },
    "id": "38jc2RXziT3W"
   },
   "outputs": [
    {
     "name": "stdout",
     "output_type": "stream",
     "text": [
      "[3, 1]\n"
     ]
    }
   ],
   "source": [
    "# You can convert this object into a Python list, too\n",
    "print(x.shape.as_list())"
   ]
  },
  {
   "cell_type": "markdown",
   "metadata": {
    "id": "J_xRlHZMKYnF"
   },
   "source": [
    "You can reshape a tensor into a new shape. The `tf.reshape` operation is fast and cheap as the underlying data does not need to be duplicated."
   ]
  },
  {
   "cell_type": "code",
   "execution_count": 43,
   "metadata": {
    "execution": {
     "iopub.execute_input": "2022-07-30T01:23:43.824450Z",
     "iopub.status.busy": "2022-07-30T01:23:43.823897Z",
     "iopub.status.idle": "2022-07-30T01:23:43.827452Z",
     "shell.execute_reply": "2022-07-30T01:23:43.826876Z"
    },
    "id": "pa9JCgMLWy87"
   },
   "outputs": [],
   "source": [
    "# You can reshape a tensor to a new shape.\n",
    "# Note that you're passing in a list\n",
    "reshaped = tf.reshape(x, [1, 3])"
   ]
  },
  {
   "cell_type": "code",
   "execution_count": 44,
   "metadata": {
    "execution": {
     "iopub.execute_input": "2022-07-30T01:23:43.829929Z",
     "iopub.status.busy": "2022-07-30T01:23:43.829709Z",
     "iopub.status.idle": "2022-07-30T01:23:43.833050Z",
     "shell.execute_reply": "2022-07-30T01:23:43.832518Z"
    },
    "id": "Mcq7iXOkW3LK"
   },
   "outputs": [
    {
     "name": "stdout",
     "output_type": "stream",
     "text": [
      "(3, 1)\n",
      "(1, 3)\n"
     ]
    }
   ],
   "source": [
    "print(x.shape)\n",
    "print(reshaped.shape)"
   ]
  },
  {
   "cell_type": "markdown",
   "metadata": {
    "id": "gIB2tOkoVr6E"
   },
   "source": [
    "The data maintains its layout in memory and a new tensor is created, with the requested shape, pointing to the same data. TensorFlow uses C-style \"row-major\" memory ordering, where incrementing the rightmost index corresponds to a single step in memory."
   ]
  },
  {
   "cell_type": "code",
   "execution_count": 45,
   "metadata": {
    "execution": {
     "iopub.execute_input": "2022-07-30T01:23:43.836001Z",
     "iopub.status.busy": "2022-07-30T01:23:43.835491Z",
     "iopub.status.idle": "2022-07-30T01:23:43.838836Z",
     "shell.execute_reply": "2022-07-30T01:23:43.838278Z"
    },
    "id": "7kMfM0RpUgI8"
   },
   "outputs": [
    {
     "name": "stdout",
     "output_type": "stream",
     "text": [
      "tf.Tensor(\n",
      "[[[ 0  1  2  3  4]\n",
      "  [ 5  6  7  8  9]]\n",
      "\n",
      " [[10 11 12 13 14]\n",
      "  [15 16 17 18 19]]\n",
      "\n",
      " [[20 21 22 23 24]\n",
      "  [25 26 27 28 29]]], shape=(3, 2, 5), dtype=int32)\n"
     ]
    }
   ],
   "source": [
    "print(rank_3_tensor)"
   ]
  },
  {
   "cell_type": "markdown",
   "metadata": {
    "id": "TcDtfQkJWzIx"
   },
   "source": [
    "If you flatten a tensor you can see what order it is laid out in memory."
   ]
  },
  {
   "cell_type": "code",
   "execution_count": 46,
   "metadata": {
    "execution": {
     "iopub.execute_input": "2022-07-30T01:23:43.841910Z",
     "iopub.status.busy": "2022-07-30T01:23:43.841379Z",
     "iopub.status.idle": "2022-07-30T01:23:43.845064Z",
     "shell.execute_reply": "2022-07-30T01:23:43.844541Z"
    },
    "id": "COnHEPuaWDQp"
   },
   "outputs": [
    {
     "name": "stdout",
     "output_type": "stream",
     "text": [
      "tf.Tensor(\n",
      "[ 0  1  2  3  4  5  6  7  8  9 10 11 12 13 14 15 16 17 18 19 20 21 22 23\n",
      " 24 25 26 27 28 29], shape=(30,), dtype=int32)\n"
     ]
    }
   ],
   "source": [
    "# A `-1` passed in the `shape` argument says \"Whatever fits\".\n",
    "print(tf.reshape(rank_3_tensor, [-1]))"
   ]
  },
  {
   "cell_type": "markdown",
   "metadata": {
    "id": "jJZRira2W--c"
   },
   "source": [
    "Typically the only reasonable use of `tf.reshape` is to combine or split adjacent axes (or add/remove `1`s).\n",
    "\n",
    "For this 3x2x5 tensor, reshaping to (3x2)x5 or 3x(2x5) are both reasonable things to do, as the slices do not mix:"
   ]
  },
  {
   "cell_type": "code",
   "execution_count": 47,
   "metadata": {
    "execution": {
     "iopub.execute_input": "2022-07-30T01:23:43.847674Z",
     "iopub.status.busy": "2022-07-30T01:23:43.847277Z",
     "iopub.status.idle": "2022-07-30T01:23:43.851720Z",
     "shell.execute_reply": "2022-07-30T01:23:43.851183Z"
    },
    "id": "zP2Iqc7zWu_J"
   },
   "outputs": [
    {
     "name": "stdout",
     "output_type": "stream",
     "text": [
      "tf.Tensor(\n",
      "[[ 0  1  2  3  4]\n",
      " [ 5  6  7  8  9]\n",
      " [10 11 12 13 14]\n",
      " [15 16 17 18 19]\n",
      " [20 21 22 23 24]\n",
      " [25 26 27 28 29]], shape=(6, 5), dtype=int32) \n",
      "\n",
      "tf.Tensor(\n",
      "[[ 0  1  2  3  4  5  6  7  8  9]\n",
      " [10 11 12 13 14 15 16 17 18 19]\n",
      " [20 21 22 23 24 25 26 27 28 29]], shape=(3, 10), dtype=int32)\n"
     ]
    }
   ],
   "source": [
    "print(tf.reshape(rank_3_tensor, [3*2, 5]), \"\\n\")\n",
    "print(tf.reshape(rank_3_tensor, [3, -1]))"
   ]
  },
  {
   "cell_type": "markdown",
   "metadata": {
    "id": "6ZsZRUhihlDB"
   },
   "source": [
    "<table>\n",
    "<th colspan=3>\n",
    "Some good reshapes.\n",
    "</th>\n",
    "<tr>\n",
    "  <td>\n",
    "<img src=\"images/tensor/reshape-before.png\" alt=\"A 3x2x5 tensor\">\n",
    "  </td>\n",
    "  <td>\n",
    "  <img src=\"images/tensor/reshape-good1.png\" alt=\"The same data reshaped to (3x2)x5\">\n",
    "  </td>\n",
    "  <td>\n",
    "<img src=\"images/tensor/reshape-good2.png\" alt=\"The same data reshaped to 3x(2x5)\">\n",
    "  </td>\n",
    "</tr>\n",
    "</table>\n"
   ]
  },
  {
   "cell_type": "markdown",
   "metadata": {
    "id": "nOcRxDC3jNIU"
   },
   "source": [
    "Reshaping will \"work\" for any new shape with the same total number of elements, but it will not do anything useful if you do not respect the order of the axes.\n",
    "\n",
    "Swapping axes in `tf.reshape` does not work; you need `tf.transpose` for that. \n"
   ]
  },
  {
   "cell_type": "code",
   "execution_count": 48,
   "metadata": {
    "execution": {
     "iopub.execute_input": "2022-07-30T01:23:43.854664Z",
     "iopub.status.busy": "2022-07-30T01:23:43.854145Z",
     "iopub.status.idle": "2022-07-30T01:23:43.859425Z",
     "shell.execute_reply": "2022-07-30T01:23:43.858858Z"
    },
    "id": "I9qDL_8u7cBH"
   },
   "outputs": [
    {
     "name": "stdout",
     "output_type": "stream",
     "text": [
      "tf.Tensor(\n",
      "[[[ 0  1  2  3  4]\n",
      "  [ 5  6  7  8  9]\n",
      "  [10 11 12 13 14]]\n",
      "\n",
      " [[15 16 17 18 19]\n",
      "  [20 21 22 23 24]\n",
      "  [25 26 27 28 29]]], shape=(2, 3, 5), dtype=int32) \n",
      "\n",
      "tf.Tensor(\n",
      "[[ 0  1  2  3  4  5]\n",
      " [ 6  7  8  9 10 11]\n",
      " [12 13 14 15 16 17]\n",
      " [18 19 20 21 22 23]\n",
      " [24 25 26 27 28 29]], shape=(5, 6), dtype=int32) \n",
      "\n",
      "InvalidArgumentError: Input to reshape is a tensor with 30 values, but the requested shape requires a multiple of 7 [Op:Reshape]\n"
     ]
    }
   ],
   "source": [
    "# Bad examples: don't do this\n",
    "\n",
    "# You can't reorder axes with reshape.\n",
    "print(tf.reshape(rank_3_tensor, [2, 3, 5]), \"\\n\") \n",
    "\n",
    "# This is a mess\n",
    "print(tf.reshape(rank_3_tensor, [5, 6]), \"\\n\")\n",
    "\n",
    "# This doesn't work at all\n",
    "try:\n",
    "  tf.reshape(rank_3_tensor, [7, -1])\n",
    "except Exception as e:\n",
    "  print(f\"{type(e).__name__}: {e}\")"
   ]
  },
  {
   "cell_type": "markdown",
   "metadata": {
    "id": "N9r90BvHCbTt"
   },
   "source": [
    "You may run across not-fully-specified shapes. Either the shape contains a `None` (an axis-length is unknown) or the whole shape is `None` (the rank of the tensor is unknown).\n",
    "\n",
    "Except for [tf.RaggedTensor](#ragged_tensors), such shapes will only occur in the context of TensorFlow's symbolic, graph-building  APIs:\n",
    "\n",
    "* [tf.function](function.ipynb) \n",
    "* The [keras functional API](https://www.tensorflow.org/guide/keras/functional).\n"
   ]
  },
  {
   "cell_type": "markdown",
   "metadata": {
    "id": "fDmFtFM7k0R2"
   },
   "source": [
    "## More on `DTypes`\n",
    "\n",
    "To inspect a `tf.Tensor`'s data type use the `Tensor.dtype` property.\n",
    "\n",
    "When creating a `tf.Tensor` from a Python object you may optionally specify the datatype.\n",
    "\n",
    "If you don't, TensorFlow chooses a datatype that can represent your data. TensorFlow converts Python integers to `tf.int32` and Python floating point numbers to `tf.float32`. Otherwise TensorFlow uses the same rules NumPy uses when converting to arrays.\n",
    "\n",
    "You can cast from type to type."
   ]
  },
  {
   "cell_type": "code",
   "execution_count": 49,
   "metadata": {
    "execution": {
     "iopub.execute_input": "2022-07-30T01:23:43.862624Z",
     "iopub.status.busy": "2022-07-30T01:23:43.862084Z",
     "iopub.status.idle": "2022-07-30T01:23:43.867052Z",
     "shell.execute_reply": "2022-07-30T01:23:43.866522Z"
    },
    "id": "5mSTDWbelUvu"
   },
   "outputs": [
    {
     "name": "stdout",
     "output_type": "stream",
     "text": [
      "tf.Tensor([2 3 4], shape=(3,), dtype=uint8)\n"
     ]
    }
   ],
   "source": [
    "the_f64_tensor = tf.constant([2.2, 3.3, 4.4], dtype=tf.float64)\n",
    "the_f16_tensor = tf.cast(the_f64_tensor, dtype=tf.float16)\n",
    "# Now, cast to an uint8 and lose the decimal precision\n",
    "the_u8_tensor = tf.cast(the_f16_tensor, dtype=tf.uint8)\n",
    "print(the_u8_tensor)"
   ]
  },
  {
   "cell_type": "markdown",
   "metadata": {
    "id": "s1yBlJsVlFSu"
   },
   "source": [
    "## Broadcasting\n",
    "\n",
    "Broadcasting is a concept borrowed from the [equivalent feature in NumPy](https://numpy.org/doc/stable/user/basics.broadcasting.html){:.external}.  In short, under certain conditions, smaller tensors are \"stretched\" automatically to fit larger tensors when running combined operations on them.\n",
    "\n",
    "The simplest and most common case is when you attempt to multiply or add a tensor to a scalar.  In that case, the scalar is broadcast to be the same shape as the other argument. "
   ]
  },
  {
   "cell_type": "code",
   "execution_count": 50,
   "metadata": {
    "execution": {
     "iopub.execute_input": "2022-07-30T01:23:43.869777Z",
     "iopub.status.busy": "2022-07-30T01:23:43.869332Z",
     "iopub.status.idle": "2022-07-30T01:23:43.874047Z",
     "shell.execute_reply": "2022-07-30T01:23:43.873528Z"
    },
    "id": "P8sypqmagHQN"
   },
   "outputs": [
    {
     "name": "stdout",
     "output_type": "stream",
     "text": [
      "tf.Tensor([2 4 6], shape=(3,), dtype=int32)\n",
      "tf.Tensor([2 4 6], shape=(3,), dtype=int32)\n",
      "tf.Tensor([2 4 6], shape=(3,), dtype=int32)\n"
     ]
    }
   ],
   "source": [
    "x = tf.constant([1, 2, 3])\n",
    "\n",
    "y = tf.constant(2)\n",
    "z = tf.constant([2, 2, 2])\n",
    "# All of these are the same computation\n",
    "print(tf.multiply(x, 2))\n",
    "print(x * y)\n",
    "print(x * z)"
   ]
  },
  {
   "cell_type": "markdown",
   "metadata": {
    "id": "o0SBoR6voWcb"
   },
   "source": [
    "Likewise, axes with length 1 can be stretched out to match the other arguments.  Both arguments can be stretched in the same computation.\n",
    "\n",
    "In this case a 3x1 matrix is element-wise multiplied by a 1x4 matrix to produce a 3x4 matrix. Note how the leading 1 is optional: The shape of y is `[4]`."
   ]
  },
  {
   "cell_type": "code",
   "execution_count": 51,
   "metadata": {
    "execution": {
     "iopub.execute_input": "2022-07-30T01:23:43.876746Z",
     "iopub.status.busy": "2022-07-30T01:23:43.876291Z",
     "iopub.status.idle": "2022-07-30T01:23:43.881123Z",
     "shell.execute_reply": "2022-07-30T01:23:43.880590Z"
    },
    "id": "6sGmkPg3XANr"
   },
   "outputs": [
    {
     "name": "stdout",
     "output_type": "stream",
     "text": [
      "tf.Tensor(\n",
      "[[1]\n",
      " [2]\n",
      " [3]], shape=(3, 1), dtype=int32) \n",
      "\n",
      "tf.Tensor([1 2 3 4], shape=(4,), dtype=int32) \n",
      "\n",
      "tf.Tensor(\n",
      "[[ 1  2  3  4]\n",
      " [ 2  4  6  8]\n",
      " [ 3  6  9 12]], shape=(3, 4), dtype=int32)\n"
     ]
    }
   ],
   "source": [
    "# These are the same computations\n",
    "x = tf.reshape(x,[3,1])\n",
    "y = tf.range(1, 5)\n",
    "print(x, \"\\n\")\n",
    "print(y, \"\\n\")\n",
    "print(tf.multiply(x, y))"
   ]
  },
  {
   "cell_type": "markdown",
   "metadata": {
    "id": "9V3KgSJcKDRz"
   },
   "source": [
    "Here is the same operation without broadcasting:"
   ]
  },
  {
   "cell_type": "code",
   "execution_count": 52,
   "metadata": {
    "execution": {
     "iopub.execute_input": "2022-07-30T01:23:43.884188Z",
     "iopub.status.busy": "2022-07-30T01:23:43.883664Z",
     "iopub.status.idle": "2022-07-30T01:23:43.888076Z",
     "shell.execute_reply": "2022-07-30T01:23:43.887528Z"
    },
    "id": "elrF6v63igY8"
   },
   "outputs": [
    {
     "name": "stdout",
     "output_type": "stream",
     "text": [
      "tf.Tensor(\n",
      "[[ 1  2  3  4]\n",
      " [ 2  4  6  8]\n",
      " [ 3  6  9 12]], shape=(3, 4), dtype=int32)\n"
     ]
    }
   ],
   "source": [
    "x_stretch = tf.constant([[1, 1, 1, 1],\n",
    "                         [2, 2, 2, 2],\n",
    "                         [3, 3, 3, 3]])\n",
    "\n",
    "y_stretch = tf.constant([[1, 2, 3, 4],\n",
    "                         [1, 2, 3, 4],\n",
    "                         [1, 2, 3, 4]])\n",
    "\n",
    "print(x_stretch * y_stretch)  # Again, operator overloading"
   ]
  },
  {
   "cell_type": "markdown",
   "metadata": {
    "id": "14KobqYu85gi"
   },
   "source": [
    "Most of the time, broadcasting is both time and space efficient, as the broadcast operation never materializes the expanded tensors in memory.  \n",
    "\n",
    "You see what broadcasting looks like using `tf.broadcast_to`."
   ]
  },
  {
   "cell_type": "code",
   "execution_count": 53,
   "metadata": {
    "execution": {
     "iopub.execute_input": "2022-07-30T01:23:43.891287Z",
     "iopub.status.busy": "2022-07-30T01:23:43.890702Z",
     "iopub.status.idle": "2022-07-30T01:23:43.894970Z",
     "shell.execute_reply": "2022-07-30T01:23:43.894392Z"
    },
    "id": "GW2Q59_r8hZ6"
   },
   "outputs": [
    {
     "name": "stdout",
     "output_type": "stream",
     "text": [
      "tf.Tensor(\n",
      "[[1 2 3]\n",
      " [1 2 3]\n",
      " [1 2 3]], shape=(3, 3), dtype=int32)\n"
     ]
    }
   ],
   "source": [
    "print(tf.broadcast_to(tf.constant([1, 2, 3]), [3, 3]))"
   ]
  },
  {
   "cell_type": "markdown",
   "metadata": {
    "id": "Z2bAMMQY-jpP"
   },
   "source": [
    "Unlike a mathematical op, for example, `broadcast_to` does nothing special to save memory.  Here, you are materializing the tensor.\n",
    "\n",
    "It can get even more complicated.  [This section](https://jakevdp.github.io/PythonDataScienceHandbook/02.05-computation-on-arrays-broadcasting.html){:.external} of Jake VanderPlas's book _Python Data Science Handbook_ shows more broadcasting tricks (again in NumPy)."
   ]
  },
  {
   "cell_type": "markdown",
   "metadata": {
    "id": "o4Rpz0xAsKSI"
   },
   "source": [
    "## tf.convert_to_tensor\n",
    "\n",
    "Most ops, like `tf.matmul` and `tf.reshape` take arguments of class `tf.Tensor`.  However, you'll notice in the above case, Python objects shaped like tensors are accepted.\n",
    "\n",
    "Most, but not all, ops call `convert_to_tensor` on non-tensor arguments.  There is a registry of conversions, and most object classes like NumPy's `ndarray`, `TensorShape`, Python lists, and `tf.Variable` will all convert automatically.\n",
    "\n",
    "See `tf.register_tensor_conversion_function` for more details, and if you have your own type you'd like to automatically convert to a tensor."
   ]
  },
  {
   "cell_type": "markdown",
   "metadata": {
    "id": "05bBVBVYV0y6"
   },
   "source": [
    "## Ragged Tensors\n",
    "\n",
    "A tensor with variable numbers of elements along some axis is called \"ragged\". Use `tf.ragged.RaggedTensor` for ragged data.\n",
    "\n",
    "For example, This cannot be represented as a regular tensor:"
   ]
  },
  {
   "cell_type": "code",
   "execution_count": 54,
   "metadata": {
    "execution": {
     "iopub.execute_input": "2022-07-30T01:23:43.898236Z",
     "iopub.status.busy": "2022-07-30T01:23:43.897670Z",
     "iopub.status.idle": "2022-07-30T01:23:43.900966Z",
     "shell.execute_reply": "2022-07-30T01:23:43.900414Z"
    },
    "id": "VsbTjoFfNVBF"
   },
   "outputs": [],
   "source": [
    "ragged_list = [\n",
    "    [0, 1, 2, 3],\n",
    "    [4, 5],\n",
    "    [6, 7, 8],\n",
    "    [9]]"
   ]
  },
  {
   "cell_type": "code",
   "execution_count": 55,
   "metadata": {
    "execution": {
     "iopub.execute_input": "2022-07-30T01:23:43.903693Z",
     "iopub.status.busy": "2022-07-30T01:23:43.903248Z",
     "iopub.status.idle": "2022-07-30T01:23:43.906809Z",
     "shell.execute_reply": "2022-07-30T01:23:43.906163Z"
    },
    "id": "p4xKTo57tutG"
   },
   "outputs": [
    {
     "name": "stdout",
     "output_type": "stream",
     "text": [
      "ValueError: Can't convert non-rectangular Python sequence to Tensor.\n"
     ]
    }
   ],
   "source": [
    "try:\n",
    "  tensor = tf.constant(ragged_list)\n",
    "except Exception as e:\n",
    "  print(f\"{type(e).__name__}: {e}\")"
   ]
  },
  {
   "cell_type": "markdown",
   "metadata": {
    "id": "0cm9KuEeMLGI"
   },
   "source": [
    "Instead create a `tf.RaggedTensor` using `tf.ragged.constant`:"
   ]
  },
  {
   "cell_type": "code",
   "execution_count": 56,
   "metadata": {
    "execution": {
     "iopub.execute_input": "2022-07-30T01:23:43.909831Z",
     "iopub.status.busy": "2022-07-30T01:23:43.909384Z",
     "iopub.status.idle": "2022-07-30T01:23:43.913912Z",
     "shell.execute_reply": "2022-07-30T01:23:43.913306Z"
    },
    "id": "XhF3QV3jiqTj"
   },
   "outputs": [
    {
     "name": "stdout",
     "output_type": "stream",
     "text": [
      "<tf.RaggedTensor [[0, 1, 2, 3], [4, 5], [6, 7, 8], [9]]>\n"
     ]
    }
   ],
   "source": [
    "ragged_tensor = tf.ragged.constant(ragged_list)\n",
    "print(ragged_tensor)"
   ]
  },
  {
   "cell_type": "markdown",
   "metadata": {
    "id": "sFgHduHVNoIE"
   },
   "source": [
    "The shape of a `tf.RaggedTensor` will contain some axes with unknown lengths:"
   ]
  },
  {
   "cell_type": "code",
   "execution_count": 57,
   "metadata": {
    "execution": {
     "iopub.execute_input": "2022-07-30T01:23:43.917213Z",
     "iopub.status.busy": "2022-07-30T01:23:43.916740Z",
     "iopub.status.idle": "2022-07-30T01:23:43.920361Z",
     "shell.execute_reply": "2022-07-30T01:23:43.919651Z"
    },
    "id": "Eo_3wJUWNgqB"
   },
   "outputs": [
    {
     "name": "stdout",
     "output_type": "stream",
     "text": [
      "(4, None)\n"
     ]
    }
   ],
   "source": [
    "print(ragged_tensor.shape)"
   ]
  },
  {
   "cell_type": "markdown",
   "metadata": {
    "id": "V9njclVkkN7G"
   },
   "source": [
    "## String tensors\n",
    "\n",
    "`tf.string` is a `dtype`, which is to say you can represent data as strings (variable-length byte arrays) in tensors.\n",
    "\n",
    "The strings are atomic and cannot be indexed the way Python strings are. The length of the string is not one of the axes of the tensor. See `tf.strings` for functions to manipulate them."
   ]
  },
  {
   "cell_type": "markdown",
   "metadata": {
    "id": "5P_8spEGQ0wp"
   },
   "source": [
    "Here is a scalar string tensor:"
   ]
  },
  {
   "cell_type": "code",
   "execution_count": 58,
   "metadata": {
    "execution": {
     "iopub.execute_input": "2022-07-30T01:23:43.923724Z",
     "iopub.status.busy": "2022-07-30T01:23:43.923088Z",
     "iopub.status.idle": "2022-07-30T01:23:43.927056Z",
     "shell.execute_reply": "2022-07-30T01:23:43.926363Z"
    },
    "id": "sBosmM8MkIh4"
   },
   "outputs": [
    {
     "name": "stdout",
     "output_type": "stream",
     "text": [
      "tf.Tensor(b'Gray wolf', shape=(), dtype=string)\n"
     ]
    }
   ],
   "source": [
    "# Tensors can be strings, too here is a scalar string.\n",
    "scalar_string_tensor = tf.constant(\"Gray wolf\")\n",
    "print(scalar_string_tensor)"
   ]
  },
  {
   "cell_type": "markdown",
   "metadata": {
    "id": "CMFBSl1FQ3vE"
   },
   "source": [
    "And a vector of strings:"
   ]
  },
  {
   "cell_type": "code",
   "execution_count": 59,
   "metadata": {
    "execution": {
     "iopub.execute_input": "2022-07-30T01:23:43.930221Z",
     "iopub.status.busy": "2022-07-30T01:23:43.929650Z",
     "iopub.status.idle": "2022-07-30T01:23:43.933457Z",
     "shell.execute_reply": "2022-07-30T01:23:43.932871Z"
    },
    "id": "41Dv2kL9QrtO"
   },
   "outputs": [
    {
     "name": "stdout",
     "output_type": "stream",
     "text": [
      "tf.Tensor([b'Gray wolf' b'Quick brown fox' b'Lazy dog'], shape=(3,), dtype=string)\n"
     ]
    }
   ],
   "source": [
    "# If you have three string tensors of different lengths, this is OK.\n",
    "tensor_of_strings = tf.constant([\"Gray wolf\",\n",
    "                                 \"Quick brown fox\",\n",
    "                                 \"Lazy dog\"])\n",
    "# Note that the shape is (3,). The string length is not included.\n",
    "print(tensor_of_strings)"
   ]
  },
  {
   "cell_type": "markdown",
   "metadata": {
    "id": "76gQ9qrgSMzS"
   },
   "source": [
    "In the above printout the `b` prefix indicates that `tf.string` dtype is not a unicode string, but a byte-string. See the [Unicode Tutorial](https://www.tensorflow.org/tutorials/load_data/unicode) for more about working with unicode text in TensorFlow."
   ]
  },
  {
   "cell_type": "markdown",
   "metadata": {
    "id": "ClSBPK-lZBQp"
   },
   "source": [
    "If you pass unicode characters they are utf-8 encoded."
   ]
  },
  {
   "cell_type": "code",
   "execution_count": 60,
   "metadata": {
    "execution": {
     "iopub.execute_input": "2022-07-30T01:23:43.936779Z",
     "iopub.status.busy": "2022-07-30T01:23:43.936236Z",
     "iopub.status.idle": "2022-07-30T01:23:43.940486Z",
     "shell.execute_reply": "2022-07-30T01:23:43.939873Z"
    },
    "id": "GTgL53jxSMd9"
   },
   "outputs": [
    {
     "data": {
      "text/plain": [
       "<tf.Tensor: shape=(), dtype=string, numpy=b'\\xf0\\x9f\\xa5\\xb3\\xf0\\x9f\\x91\\x8d'>"
      ]
     },
     "execution_count": 60,
     "metadata": {},
     "output_type": "execute_result"
    }
   ],
   "source": [
    "tf.constant(\"🥳👍\")"
   ]
  },
  {
   "cell_type": "markdown",
   "metadata": {
    "id": "Ir9cY42MMAei"
   },
   "source": [
    "Some basic functions with strings can be found in `tf.strings`, including `tf.strings.split`."
   ]
  },
  {
   "cell_type": "code",
   "execution_count": 61,
   "metadata": {
    "execution": {
     "iopub.execute_input": "2022-07-30T01:23:43.943658Z",
     "iopub.status.busy": "2022-07-30T01:23:43.943242Z",
     "iopub.status.idle": "2022-07-30T01:23:43.953388Z",
     "shell.execute_reply": "2022-07-30T01:23:43.952724Z"
    },
    "id": "8k2K0VTFyj8e"
   },
   "outputs": [
    {
     "name": "stdout",
     "output_type": "stream",
     "text": [
      "tf.Tensor([b'Gray' b'wolf'], shape=(2,), dtype=string)\n"
     ]
    }
   ],
   "source": [
    "# You can use split to split a string into a set of tensors\n",
    "print(tf.strings.split(scalar_string_tensor, sep=\" \"))"
   ]
  },
  {
   "cell_type": "code",
   "execution_count": 62,
   "metadata": {
    "execution": {
     "iopub.execute_input": "2022-07-30T01:23:43.956158Z",
     "iopub.status.busy": "2022-07-30T01:23:43.955604Z",
     "iopub.status.idle": "2022-07-30T01:23:43.962312Z",
     "shell.execute_reply": "2022-07-30T01:23:43.961765Z"
    },
    "id": "zgGAn1dfR-04"
   },
   "outputs": [
    {
     "name": "stdout",
     "output_type": "stream",
     "text": [
      "<tf.RaggedTensor [[b'Gray', b'wolf'], [b'Quick', b'brown', b'fox'], [b'Lazy', b'dog']]>\n"
     ]
    }
   ],
   "source": [
    "# ...but it turns into a `RaggedTensor` if you split up a tensor of strings,\n",
    "# as each string might be split into a different number of parts.\n",
    "print(tf.strings.split(tensor_of_strings))"
   ]
  },
  {
   "cell_type": "markdown",
   "metadata": {
    "id": "st9OxrUxWSKY"
   },
   "source": [
    "And `tf.string.to_number`:"
   ]
  },
  {
   "cell_type": "code",
   "execution_count": 63,
   "metadata": {
    "execution": {
     "iopub.execute_input": "2022-07-30T01:23:43.965432Z",
     "iopub.status.busy": "2022-07-30T01:23:43.965009Z",
     "iopub.status.idle": "2022-07-30T01:23:43.972971Z",
     "shell.execute_reply": "2022-07-30T01:23:43.972437Z"
    },
    "id": "3nRtx3X9WRfN"
   },
   "outputs": [
    {
     "name": "stdout",
     "output_type": "stream",
     "text": [
      "tf.Tensor([  1.  10. 100.], shape=(3,), dtype=float32)\n"
     ]
    }
   ],
   "source": [
    "text = tf.constant(\"1 10 100\")\n",
    "print(tf.strings.to_number(tf.strings.split(text, \" \")))"
   ]
  },
  {
   "cell_type": "markdown",
   "metadata": {
    "id": "r2EZtBbJBns4"
   },
   "source": [
    "Although you can't use `tf.cast` to turn a string tensor into numbers, you can convert it into bytes, and then into numbers."
   ]
  },
  {
   "cell_type": "code",
   "execution_count": 64,
   "metadata": {
    "execution": {
     "iopub.execute_input": "2022-07-30T01:23:43.975815Z",
     "iopub.status.busy": "2022-07-30T01:23:43.975295Z",
     "iopub.status.idle": "2022-07-30T01:23:43.984042Z",
     "shell.execute_reply": "2022-07-30T01:23:43.983478Z"
    },
    "id": "fo8BjmH7gyTj"
   },
   "outputs": [
    {
     "name": "stdout",
     "output_type": "stream",
     "text": [
      "Byte strings: tf.Tensor([b'D' b'u' b'c' b'k'], shape=(4,), dtype=string)\n",
      "Bytes: tf.Tensor([ 68 117  99 107], shape=(4,), dtype=uint8)\n"
     ]
    }
   ],
   "source": [
    "byte_strings = tf.strings.bytes_split(tf.constant(\"Duck\"))\n",
    "byte_ints = tf.io.decode_raw(tf.constant(\"Duck\"), tf.uint8)\n",
    "print(\"Byte strings:\", byte_strings)\n",
    "print(\"Bytes:\", byte_ints)"
   ]
  },
  {
   "cell_type": "code",
   "execution_count": 65,
   "metadata": {
    "execution": {
     "iopub.execute_input": "2022-07-30T01:23:43.986728Z",
     "iopub.status.busy": "2022-07-30T01:23:43.986530Z",
     "iopub.status.idle": "2022-07-30T01:23:43.994871Z",
     "shell.execute_reply": "2022-07-30T01:23:43.994336Z"
    },
    "id": "uSQnZ7d1jCSQ"
   },
   "outputs": [
    {
     "name": "stdout",
     "output_type": "stream",
     "text": [
      "\n",
      "Unicode bytes: tf.Tensor(b'\\xe3\\x82\\xa2\\xe3\\x83\\x92\\xe3\\x83\\xab \\xf0\\x9f\\xa6\\x86', shape=(), dtype=string)\n",
      "\n",
      "Unicode chars: tf.Tensor([b'\\xe3\\x82\\xa2' b'\\xe3\\x83\\x92' b'\\xe3\\x83\\xab' b' ' b'\\xf0\\x9f\\xa6\\x86'], shape=(5,), dtype=string)\n",
      "\n",
      "Unicode values: tf.Tensor([ 12450  12498  12523     32 129414], shape=(5,), dtype=int32)\n"
     ]
    }
   ],
   "source": [
    "# Or split it up as unicode and then decode it\n",
    "unicode_bytes = tf.constant(\"アヒル 🦆\")\n",
    "unicode_char_bytes = tf.strings.unicode_split(unicode_bytes, \"UTF-8\")\n",
    "unicode_values = tf.strings.unicode_decode(unicode_bytes, \"UTF-8\")\n",
    "\n",
    "print(\"\\nUnicode bytes:\", unicode_bytes)\n",
    "print(\"\\nUnicode chars:\", unicode_char_bytes)\n",
    "print(\"\\nUnicode values:\", unicode_values)"
   ]
  },
  {
   "cell_type": "markdown",
   "metadata": {
    "id": "fE7nKJ2YW3aY"
   },
   "source": [
    "The `tf.string` dtype is used for all raw bytes data in TensorFlow. The `tf.io` module contains functions for converting data to and from bytes, including decoding images and parsing csv."
   ]
  },
  {
   "cell_type": "markdown",
   "metadata": {
    "id": "ua8BnAzxkRKV"
   },
   "source": [
    "## Sparse tensors\n",
    "\n",
    "Sometimes, your data is sparse, like a very wide embedding space.  TensorFlow supports `tf.sparse.SparseTensor` and related operations to store sparse data efficiently."
   ]
  },
  {
   "cell_type": "code",
   "execution_count": 66,
   "metadata": {
    "execution": {
     "iopub.execute_input": "2022-07-30T01:23:43.998152Z",
     "iopub.status.busy": "2022-07-30T01:23:43.997608Z",
     "iopub.status.idle": "2022-07-30T01:23:44.003371Z",
     "shell.execute_reply": "2022-07-30T01:23:44.002806Z"
    },
    "id": "B9nbO1E2kSUN"
   },
   "outputs": [
    {
     "name": "stdout",
     "output_type": "stream",
     "text": [
      "SparseTensor(indices=tf.Tensor(\n",
      "[[0 0]\n",
      " [1 2]], shape=(2, 2), dtype=int64), values=tf.Tensor([1 2], shape=(2,), dtype=int32), dense_shape=tf.Tensor([3 4], shape=(2,), dtype=int64)) \n",
      "\n",
      "tf.Tensor(\n",
      "[[1 0 0 0]\n",
      " [0 0 2 0]\n",
      " [0 0 0 0]], shape=(3, 4), dtype=int32)\n"
     ]
    }
   ],
   "source": [
    "# Sparse tensors store values by index in a memory-efficient manner\n",
    "sparse_tensor = tf.sparse.SparseTensor(indices=[[0, 0], [1, 2]],\n",
    "                                       values=[1, 2],\n",
    "                                       dense_shape=[3, 4])\n",
    "print(sparse_tensor, \"\\n\")\n",
    "\n",
    "# You can convert sparse tensors to dense\n",
    "print(tf.sparse.to_dense(sparse_tensor))"
   ]
  },
  {
   "cell_type": "markdown",
   "metadata": {},
   "source": [
    "---\n",
    "\n",
    "# References\n",
    "\n",
    "There are many books about Deep Learning and many more on Machine Learning. \n",
    "This list is by no means an exhaustive list of books. I am listing the books from which I took inspiration. Also, I am listing materials where I found better ways to present topics. Often I am amazed by how people can create approachable materials for seemingly dry subjects.\n",
    "\n",
    "The order of the books goes from divulgation and practical to the more rigorous and mathematical. Slides, blogs, and videos are those I have found over the internet or suggested by others.\n",
    "\n",
    "### Selection of Books on Deep Learning\n",
    "\n",
    "<br>\n",
    "<div style=\"clear: both; display: table;\">\n",
    "  <div style=\"border: none; float: left; width: 200; padding: 5px\">\n",
    "  <img alt=\"Deep Learning - Kelleher\" \n",
    "       src=\"./fig/books/Deep Learning - Kelleher.jpg\" \n",
    "       height=\"100\" width=\"100\"  />\n",
    "  </div>\n",
    "  <div style=\"border: none; float: left; width: 800; padding: 5px\">\n",
    "      Deep Learning<br>\n",
    "      John D. Kelleher<br>\n",
    "      2019<br>\n",
    "  </div>\n",
    "</div>\n",
    "\n",
    "<br>\n",
    "<div style=\"clear: both; display: table;\">\n",
    "  <div style=\"border: none; float: left; width: 200; padding: 5px\">\n",
    "  <img alt=\"Introduction to Deep Learning - Charniak\" \n",
    "       src=\"./fig/books/Introduction to Deep Learning - Charniak.jpg\" \n",
    "       height=\"100\" width=\"100\"  />\n",
    "  </div>\n",
    "  <div style=\"border: none; float: left; width: 800; padding: 5px\">\n",
    "      Introduction to Deep Learning<br>\n",
    "      Eugene Charniak<br>\n",
    "      2018<br>\n",
    "  </div>\n",
    "</div>\n",
    "\n",
    "<br>\n",
    "<div style=\"clear: both; display: table;\">\n",
    "  <div style=\"border: none; float: left; width: 200; padding: 5px\">\n",
    "  <img alt=\"Introduction to Deep Learning - Skansi\" \n",
    "       src=\"./fig/books/Introduction to Deep Learning - Skansi.jpg\" \n",
    "       height=\"100\" width=\"100\"  />\n",
    "  </div>\n",
    "  <div style=\"border: none; float: left; width: 800; padding: 5px\">\n",
    "      Introduction to Deep Learning<br>\n",
    "      Sandro Skansi<br>\n",
    "      2018<br>\n",
    "  </div>\n",
    "</div>\n",
    "\n",
    "<br>\n",
    "<div style=\"clear: both; display: table;\">\n",
    "  <div style=\"border: none; float: left; width: 200; padding: 5px\">\n",
    "  <img alt=\"Deep Learning with PyTorch - Subramanian\" \n",
    "       src=\"./fig/books/Deep Learning with PyTorch - Subramanian.jpg\" \n",
    "       height=\"100\" width=\"100\"  />\n",
    "  </div>\n",
    "  <div style=\"border: none; float: left; width: 800; padding: 5px\">\n",
    "      Deep Learning with PyTorch<br>\n",
    "      Vishnu Subramanian<br>\n",
    "      2018<br>\n",
    "  </div>\n",
    "</div>\n",
    "\n",
    "<br>\n",
    "<div style=\"clear: both; display: table;\">\n",
    "  <div style=\"border: none; float: left; width: 200; padding: 5px\">\n",
    "  <img alt=\"Deep Learning with PyTorch - Stevens\" \n",
    "       src=\"./fig/books/Deep Learning with PyTorch - Stevens.png\" \n",
    "       height=\"100\" width=\"100\"  />\n",
    "  </div>\n",
    "  <div style=\"border: none; float: left; width: 800; padding: 5px\">\n",
    "      Deep Learning with PyTorch<br>\n",
    "      Eli Stevens, Luca Artiga and Thomas Viehmann<br>\n",
    "      2020<br>\n",
    "  </div>\n",
    "</div>\n",
    "\n",
    "<br>\n",
    "<div style=\"clear: both; display: table;\">\n",
    "  <div style=\"border: none; float: left; width: 200; padding: 5px\">\n",
    "  <img alt=\"Deep Learning with Python - Chollet\" \n",
    "       src=\"./fig/books/Deep Learning with Python - Chollet.jpg\" \n",
    "       height=\"100\" width=\"100\" />\n",
    "  </div>\n",
    "  <div style=\"border: none; float: left; width: 800; padding: 5px\">\n",
    "      Deep Learning with Python (Second Edition)<br>\n",
    "      François Chollet<br>\n",
    "      2021<br>\n",
    "  </div>\n",
    "</div>\n",
    "\n",
    "<br>\n",
    "<div style=\"clear: both; display: table;\">\n",
    "  <div style=\"border: none; float: left; width: 200; padding: 5px\">\n",
    "  <img alt=\"Deep Learning - Patterson\" \n",
    "       src=\"./fig/books/Deep Learning - Patterson.jpeg\"\n",
    "       height=\"100\" width=\"100\" />\n",
    "  </div>\n",
    "  <div style=\"border: none; float: left; width: 800; padding: 5px\">\n",
    "      Deep Learning, a practitioner's approach<br>\n",
    "      Josh Patterson and Adam Gibson<br>\n",
    "      2017<br>\n",
    "  </div>\n",
    "</div>\n",
    "\n",
    "<br>\n",
    "<div style=\"clear: both; display: table;\">\n",
    "  <div style=\"border: none; float: left; width: 200; padding: 5px\">\n",
    "  <img alt=\"Deep Learning - Goodfellow\" \n",
    "       src=\"./fig/books/Deep Learning - Goodfellow.jpg\" \n",
    "       height=\"100\" width=\"100\"  />\n",
    "  </div>\n",
    "  <div style=\"border: none; float: left; width: 800; padding: 5px\">\n",
    "      Deep Learning<br>\n",
    "      Ian Goodfelow, Yoshua Bengio, and Aaron Courville<br>\n",
    "      2016<br>\n",
    "  </div>\n",
    "</div>\n",
    "\n",
    "### Interactive Books\n",
    "\n",
    "  * [Dive into Deep Learning](https://d2l.ai/index.html)<br>\n",
    "    Interactive deep learning book with code, math, and discussions<br> \n",
    "    Implemented with PyTorch, NumPy/MXNet, and TensorFlow<br>\n",
    "    Adopted at 300 universities from 55 countries\n",
    "\n",
    "\n",
    "### Slides\n",
    "\n",
    "  * John Urbanic's [\"Deep Learning in one Afternoon\"](https://www.psc.edu/wp-content/uploads/2022/04/Deep-Learning.pdf)<br>\n",
    "An excellent fast, condensed introduction to Deep Learning.<br>\n",
    "John is a Parallel Computing Scientist at Pittsburgh Supercomputing Center\n",
    "\n",
    "  * [Christopher Olah's Blog](http://colah.github.io) is very good. For example about [Back Propagation](http://colah.github.io/posts/2015-08-Backprop)\n",
    "\n",
    "  * Adam W. Harley on his CMU page offers [An Interactive Node-Link Visualization of Convolutional Neural Networks](https://www.cs.cmu.edu/~aharley/vis/)\n",
    "\n",
    "\n",
    "\n",
    "### Jupyter Notebooks\n",
    "\n",
    " * [Yale Digital Humanities Lab](https://github.com/YaleDHLab/lab-workshops)\n",
    " \n",
    " * Aurelein Geron Hands-on Machine Learning with Scikit-learn \n",
    "   [First Edition](https://github.com/ageron/handson-ml) and\n",
    "   [Second Edition](https://github.com/ageron/handson-ml2)\n",
    "   \n",
    " * [A progressive collection notebooks of the Machine Learning course by the University of Turin](https://github.com/rugantio/MachineLearningCourse)\n",
    "   \n",
    " * [A curated set of jupyter notebooks about many topics](https://github.com/jupyter/jupyter/wiki/A-gallery-of-interesting-Jupyter-Notebooks)\n",
    "   \n",
    "### Videos\n",
    "\n",
    " * [Caltech's \"Learning from Data\" by Professor Yaser Abu-Mostafa](https://work.caltech.edu/telecourse.html)\n",
    " \n",
    " * [3Blue1Brown Youtube Channel](https://www.youtube.com/watch?v=Ilg3gGewQ5U)\n",
    " \n",
    " ---"
   ]
  },
  {
   "cell_type": "markdown",
   "metadata": {},
   "source": [
    "# Back of the Book"
   ]
  },
  {
   "cell_type": "code",
   "execution_count": 67,
   "metadata": {
    "scrolled": false
   },
   "outputs": [
    {
     "data": {
      "image/png": "[encoded data removed]",
      "text/plain": [
       "<Figure size 432x288 with 1 Axes>"
      ]
     },
     "metadata": {
      "needs_background": "light"
     },
     "output_type": "display_data"
    }
   ],
   "source": [
    "n = chapter_number\n",
    "t = np.linspace(0, (2*(n-1)+1)*np.pi/2, 1000)\n",
    "x = t*np.cos(t)**3\n",
    "y = 9*t*np.sqrt(np.abs(np.cos(t))) + t*np.sin(0.3*t)*np.cos(2*t)\n",
    "plt.plot(x, y, c=\"green\")\n",
    "plt.axis('off');"
   ]
  },
  {
   "cell_type": "code",
   "execution_count": 68,
   "metadata": {},
   "outputs": [
    {
     "name": "stdout",
     "output_type": "stream",
     "text": [
      "Chapter 2 took 6 seconds\n"
     ]
    }
   ],
   "source": [
    "end = time.time()\n",
    "print(f'Chapter {chapter_number} took {int(end - start):d} seconds')"
   ]
  }
 ],
 "metadata": {
  "colab": {
   "collapsed_sections": [
    "Tce3stUlHN0L"
   ],
   "name": "tensor.ipynb",
   "provenance": [],
   "toc_visible": true
  },
  "kernelspec": {
   "display_name": "Python 3 (ipykernel)",
   "language": "python",
   "name": "python3"
  },
  "language_info": {
   "codemirror_mode": {
    "name": "ipython",
    "version": 3
   },
   "file_extension": ".py",
   "mimetype": "text/x-python",
   "name": "python",
   "nbconvert_exporter": "python",
   "pygments_lexer": "ipython3",
   "version": "3.8.10"
  }
 },
 "nbformat": 4,
 "nbformat_minor": 1
}
