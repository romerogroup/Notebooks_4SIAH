{
 "cells": [
  {
   "cell_type": "markdown",
   "id": "6fcb6fb1",
   "metadata": {},
   "source": [
    "![Data Science with Python ](./fig/Data_Science_WVCTSI.png)"
   ]
  },
  {
   "cell_type": "markdown",
   "id": "ac655333-410a-4fae-aafa-5c8da5830c7f",
   "metadata": {},
   "source": [
    "<CENTER>\n",
    "<H1>Notebook 4</H1>\n",
    "<H2>NumPy: Multidimensional Arrays</H2>\n",
    "</CENTER>"
   ]
  },
  {
   "cell_type": "code",
   "execution_count": 1,
   "id": "18085a3b",
   "metadata": {},
   "outputs": [],
   "source": [
    "%load_ext watermark"
   ]
  },
  {
   "cell_type": "code",
   "execution_count": 2,
   "id": "412dd27b",
   "metadata": {
    "scrolled": true
   },
   "outputs": [
    {
     "name": "stdout",
     "output_type": "stream",
     "text": [
      "Last updated: 2023-04-20T19:18:07.206417-04:00\n",
      "\n",
      "Python implementation: CPython\n",
      "Python version       : 3.9.16\n",
      "IPython version      : 8.10.0\n",
      "\n",
      "Compiler    : Clang 14.0.6 \n",
      "OS          : Darwin\n",
      "Release     : 19.6.0\n",
      "Machine     : x86_64\n",
      "Processor   : i386\n",
      "CPU cores   : 8\n",
      "Architecture: 64bit\n",
      "\n"
     ]
    }
   ],
   "source": [
    "%watermark"
   ]
  },
  {
   "cell_type": "code",
   "execution_count": 3,
   "id": "09d377af",
   "metadata": {},
   "outputs": [],
   "source": [
    "import time\n",
    "start = time.time()\n",
    "chapter_number = 4\n",
    "import matplotlib\n",
    "%matplotlib inline\n",
    "%load_ext autoreload\n",
    "%autoreload 2"
   ]
  },
  {
   "cell_type": "code",
   "execution_count": 4,
   "id": "182efc40",
   "metadata": {},
   "outputs": [],
   "source": [
    "import numpy as np\n",
    "import matplotlib.pyplot as plt"
   ]
  },
  {
   "cell_type": "code",
   "execution_count": 5,
   "id": "eef22289",
   "metadata": {},
   "outputs": [
    {
     "name": "stdout",
     "output_type": "stream",
     "text": [
      "matplotlib: 3.7.0\n",
      "numpy     : 1.23.5\n",
      "\n"
     ]
    }
   ],
   "source": [
    "%watermark -iv"
   ]
  },
  {
   "cell_type": "markdown",
   "id": "3ce2370c-3b73-4780-8649-b4c832de014e",
   "metadata": {},
   "source": [
    "# NumPy: Multidimensional Arrays"
   ]
  },
  {
   "cell_type": "markdown",
   "id": "2789091c",
   "metadata": {},
   "source": [
    "# Table of Contents\n",
    "\n",
    "  1. [Introduction](#introduction)\n",
    "  1. [Array creation](#array_creation)\n",
    "  1. [Array Indexing, Sliding and Striding](#array_indexing)\n",
    "  1. [Creating arrays from a file](#array_from_file)\n",
    "  1. [Array data types](#array_data_types)\n",
    "  1. [Universal functions](#universal_functions)\n",
    "  1. [Copies and Views](#copies_and_views)\n",
    "  1. [Functional Programming](#functional_programming)\n",
    "  1. [Broadcasting](#broadcasting)\n",
    "  1. [More about NumPy](#more_about)"
   ]
  },
  {
   "cell_type": "markdown",
   "id": "f0a671b0",
   "metadata": {},
   "source": [
    "<a id=\"introduction\"></a>\n",
    "# Introduction"
   ]
  },
  {
   "cell_type": "markdown",
   "id": "bca8ae4d",
   "metadata": {},
   "source": [
    "NumPy is a Python library that provides a multidimensional array object, various derived objects (such as masked arrays and matrices), and an assortment of routines for fast operations on arrays.\n",
    "\n",
    "NumPy is the core library for scientific computing in Python. It provides a high-performance multidimensional array object and tools for working with these arrays. \n",
    "\n",
    "The main characteristics of NumPy for Scientific Computation are:\n",
    "\n",
    " * **NumPy** is written in C and rely on BLAS/LAPACK for Linear Algebra operations.\t\n",
    " * **NumPy** It is significantly faster than other Python Libraries when dealing with arrays. This is particularly true when NumPy arrays are compared with Python lists, dictionaries, and other native data structures.\n",
    " * **NumPy** is the foundation library for many other Python libraries for Scientific Computing and Data Science.\n",
    " * **NumPy** main object `numpy.ndarray` data type performs the most basic operations like sorting, shaping, indexing, etc.\n"
   ]
  },
  {
   "cell_type": "markdown",
   "id": "e9f493bc",
   "metadata": {},
   "source": [
    "To use NumPy, we first need to import the `numpy` package. It is customary to load NumPy under the `np` namespace. There is nothing that prevents you from using another name but `np` is a namespace that is easily recognized for NumPy in the Python community."
   ]
  },
  {
   "cell_type": "code",
   "execution_count": 6,
   "id": "8cd84f92",
   "metadata": {},
   "outputs": [],
   "source": [
    "import numpy as np"
   ]
  },
  {
   "cell_type": "markdown",
   "id": "b8f8d07b",
   "metadata": {},
   "source": [
    "## Arrays vs lists and NumPy operations vs Python loops."
   ]
  },
  {
   "cell_type": "markdown",
   "id": "5e931551",
   "metadata": {},
   "source": [
    "The two main reasons to use NumPy arrays instead of Python lists are efficiency and elegant coding. Let's make this clear with a simple example.\n",
    "\n",
    "Imagine that we have two lists:"
   ]
  },
  {
   "cell_type": "code",
   "execution_count": 7,
   "id": "c2a34aaf",
   "metadata": {},
   "outputs": [],
   "source": [
    "N = 1000000\n",
    "a = [ x for x in range(N)]\n",
    "b = [ N - x for x in range(N)]"
   ]
  },
  {
   "cell_type": "markdown",
   "id": "da3f04b7",
   "metadata": {},
   "source": [
    "These are two Python lists and we want to compute an element-wise product of these lists. A naive programmer could think that the logical way of doing this is to write a loop to compute the product for each element and return the resulting list. Let's write that into a function that we can time."
   ]
  },
  {
   "cell_type": "code",
   "execution_count": 8,
   "id": "83dded41",
   "metadata": {},
   "outputs": [],
   "source": [
    "def naive_prod(a,b):\n",
    "    c=[]\n",
    "    for i in range(len(a)):\n",
    "        c.append(a[i]*b[i])\n",
    "    return c"
   ]
  },
  {
   "cell_type": "code",
   "execution_count": 9,
   "id": "74cb1ecc",
   "metadata": {},
   "outputs": [
    {
     "data": {
      "text/plain": [
       "[2999991, 1999996, 999999]"
      ]
     },
     "execution_count": 9,
     "metadata": {},
     "output_type": "execute_result"
    }
   ],
   "source": [
    "naive_prod(a,b)[-3:]"
   ]
  },
  {
   "cell_type": "code",
   "execution_count": 10,
   "id": "115ba2c9",
   "metadata": {},
   "outputs": [
    {
     "name": "stdout",
     "output_type": "stream",
     "text": [
      "193 ms ± 8.1 ms per loop (mean ± std. dev. of 7 runs, 10 loops each)\n"
     ]
    }
   ],
   "source": [
    "%timeit naive_prod(a,b)"
   ]
  },
  {
   "cell_type": "markdown",
   "id": "8737e1f1",
   "metadata": {},
   "source": [
    "On a modern computer summing lists with 1 million elements takes a fraction of a second. Keep in mind that seconds add up when doing operations many times, so depending on the algorithm this could be a critical point for efficiency. \n",
    "\n",
    "Imagine a new function that still takes the two lists but converts them to NumPy arrays and computes the sum"
   ]
  },
  {
   "cell_type": "code",
   "execution_count": 11,
   "id": "90b7940c",
   "metadata": {},
   "outputs": [],
   "source": [
    "def half_way_prod(a,b):\n",
    "    a=np.array(a)\n",
    "    b=np.array(b)\n",
    "    return a*b"
   ]
  },
  {
   "cell_type": "code",
   "execution_count": 12,
   "id": "134116aa",
   "metadata": {},
   "outputs": [
    {
     "data": {
      "text/plain": [
       "array([2999991, 1999996,  999999])"
      ]
     },
     "execution_count": 12,
     "metadata": {},
     "output_type": "execute_result"
    }
   ],
   "source": [
    "half_way_prod(a,b)[-3:]"
   ]
  },
  {
   "cell_type": "code",
   "execution_count": 13,
   "id": "ec3729c9",
   "metadata": {},
   "outputs": [
    {
     "name": "stdout",
     "output_type": "stream",
     "text": [
      "165 ms ± 6.84 ms per loop (mean ± std. dev. of 7 runs, 10 loops each)\n"
     ]
    }
   ],
   "source": [
    "%timeit half_way_prod(a,b)"
   ]
  },
  {
   "cell_type": "markdown",
   "id": "058721a8",
   "metadata": {},
   "source": [
    "There is at least 25% improvement in efficiency just by converting the lists into NumPy arrays and avoiding the loop. We can move one step forward and word from the beginning with NumPy arrays. We will see in the next section how to create arrays and operate with them. The point here is to show the importance of using NumPy arrays when working with large numerical data."
   ]
  },
  {
   "cell_type": "code",
   "execution_count": 14,
   "id": "46554a2c",
   "metadata": {},
   "outputs": [],
   "source": [
    "N = 1000000\n",
    "a = np.arange(N)\n",
    "b = np.arange(N,0,-1)"
   ]
  },
  {
   "cell_type": "markdown",
   "id": "df7f6df4",
   "metadata": {},
   "source": [
    "The arrays contain the same numbers but are now directly expressed as NumPy arrays. Let's just time the product of these two arrays:"
   ]
  },
  {
   "cell_type": "code",
   "execution_count": 15,
   "id": "b3cbc869",
   "metadata": {},
   "outputs": [],
   "source": [
    "def numpy_prod(a,b):\n",
    "    return a*b"
   ]
  },
  {
   "cell_type": "code",
   "execution_count": 16,
   "id": "8daa5f62",
   "metadata": {},
   "outputs": [
    {
     "name": "stdout",
     "output_type": "stream",
     "text": [
      "2.02 ms ± 180 µs per loop (mean ± std. dev. of 7 runs, 1,000 loops each)\n"
     ]
    }
   ],
   "source": [
    "%timeit numpy_prod(a,b)"
   ]
  },
  {
   "cell_type": "markdown",
   "id": "234e4d71",
   "metadata": {},
   "source": [
    "Notice that using NumPy arrays in this simple example is two orders of magnitude faster than using Python lists and loops. The code is shorter, more elegant, and clean. We can get rid of the function itself that is now pointless for such a small operation. We can even time that:"
   ]
  },
  {
   "cell_type": "code",
   "execution_count": 17,
   "id": "3a5c5898",
   "metadata": {},
   "outputs": [
    {
     "name": "stdout",
     "output_type": "stream",
     "text": [
      "2.61 ms ± 74.7 µs per loop (mean ± std. dev. of 7 runs, 100 loops each)\n"
     ]
    }
   ],
   "source": [
    "%timeit a*b"
   ]
  },
  {
   "cell_type": "markdown",
   "id": "b239ecdd",
   "metadata": {},
   "source": [
    "For those familiar with programming languages like C or Fortran will find that the natural code for computing the element-wise product is using a for loop:\n",
    "\n",
    "    for (i = 0; i < rows; i++) {\n",
    "      c[i] = a[i]*b[i];\n",
    "    }\n",
    "\n",
    "In Fortran, you can skip the loop. One advantage of a language where arrays have a privileged position.\n",
    "\n",
    "This brings us an important lesson. Each programming language has its own natural and efficient way of coding. A literal translation from one language to another is usually a path for low performance."
   ]
  },
  {
   "cell_type": "markdown",
   "id": "1f98fc27",
   "metadata": {},
   "source": [
    "Another example shows how internal operations in NumPy are more efficient than those written with explicit loops."
   ]
  },
  {
   "cell_type": "code",
   "execution_count": 18,
   "id": "9230c92b",
   "metadata": {},
   "outputs": [
    {
     "name": "stdout",
     "output_type": "stream",
     "text": [
      "Result = 250081.86307850073\n",
      "np.dot() = 1.3089179992675781 ms\n",
      "Result = 250081.86307850454\n",
      "Python loop = 618.6978816986084 ms\n"
     ]
    }
   ],
   "source": [
    "import time \n",
    "\n",
    "x=np.random.rand(1000000)\n",
    "y=np.random.rand(1000000)\n",
    "\n",
    "tic=time.time()\n",
    "z=np.dot(x,y)\n",
    "toc=time.time()\n",
    "print('Result =',z)\n",
    "\n",
    "print(\"np.dot() = \"+str(1000*(toc-tic))+\" ms\")\n",
    "\n",
    "z=0.0\n",
    "tic=time.time()\n",
    "for i in range(1000000):\n",
    "    z += x[i]*y[i]\n",
    "toc=time.time()\n",
    "print('Result =',z)\n",
    "\n",
    "print(\"Python loop = \"+str(1000*(toc-tic))+\" ms\")"
   ]
  },
  {
   "cell_type": "markdown",
   "id": "78315797",
   "metadata": {},
   "source": [
    "There are two sources for the extra performance of `numpy.dot()` over an explicit evaluation with Python loops.\n",
    "From one side NumPy is mapping the operation into something very similar to the equivalent C code, while the Python loop must add extra code due to the flexible types in Python.\n",
    "\n",
    "From another side is the fact that NumPy is translating the dot product into BLAS call. An operation that depending on the BLAS implementation used could be multithreaded.\n",
    "\n",
    "CPU and GPU have SIMD instructions (single instructions, multiple data) and NumPy is taking advantage of that. GPU can be even better. The thing to keep in mind is that we need to avoid the for loops as much as possible."
   ]
  },
  {
   "cell_type": "code",
   "execution_count": 19,
   "id": "289f6568",
   "metadata": {},
   "outputs": [
    {
     "name": "stdout",
     "output_type": "stream",
     "text": [
      "np.dot() = 61.06901168823242 ms\n",
      "np.exp() = 0.6561279296875 ms\n"
     ]
    }
   ],
   "source": [
    "# Vector - Matrix multiplication\n",
    "\n",
    "import time \n",
    "\n",
    "N=10000\n",
    "x=np.random.rand(N)\n",
    "y=np.random.rand(N,N)\n",
    "\n",
    "tic=time.time()\n",
    "z=np.dot(x,y)\n",
    "toc=time.time()\n",
    "\n",
    "print(\"np.dot() = \"+str(1000*(toc-tic))+\" ms\")\n",
    "\n",
    "# Exponential over a vector\n",
    "\n",
    "tic=time.time()\n",
    "z=np.exp(x)\n",
    "toc=time.time()\n",
    "\n",
    "print(\"np.exp() = \"+str(1000*(toc-tic))+\" ms\")"
   ]
  },
  {
   "cell_type": "markdown",
   "id": "dc903e7f",
   "metadata": {},
   "source": [
    "Now we will learn the NumPy way of working with arrays."
   ]
  },
  {
   "cell_type": "markdown",
   "id": "57590e3b",
   "metadata": {},
   "source": [
    "<a id=\"array_creation\"></a>\n",
    "# Array Creation"
   ]
  },
  {
   "cell_type": "markdown",
   "id": "a559677d",
   "metadata": {},
   "source": [
    "At the core of the NumPy package, is the `ndarray` object. A `ndarray` object encapsulates n-dimensional arrays of homogeneous data types, with many operations being performed in compiled code for performance. \n",
    "\n",
    "A NumPy array is a table of elements (usually numbers), all of the same type, indexed by a tuple of non-negative integers. In NumPy, dimensions are called axes. \n",
    "The number of dimensions is the rank of the array; the shape of an array is a tuple of integers giving the size of the array along each dimension."
   ]
  },
  {
   "cell_type": "markdown",
   "id": "b6861fa3",
   "metadata": {},
   "source": [
    "We can initialize NumPy arrays from nested Python lists, and access elements using square brackets:"
   ]
  },
  {
   "cell_type": "code",
   "execution_count": 20,
   "id": "2ffd4a50",
   "metadata": {},
   "outputs": [
    {
     "data": {
      "text/plain": [
       "array([1, 2, 3])"
      ]
     },
     "execution_count": 20,
     "metadata": {},
     "output_type": "execute_result"
    }
   ],
   "source": [
    "a = np.array([1, 2, 3])  # Create a rank 1 array\n",
    "a"
   ]
  },
  {
   "cell_type": "code",
   "execution_count": 21,
   "id": "6de582ed",
   "metadata": {},
   "outputs": [
    {
     "name": "stdout",
     "output_type": "stream",
     "text": [
      "<class 'numpy.ndarray'> (3,) 1 2 3\n"
     ]
    }
   ],
   "source": [
    "print(type(a), a.shape, a[0], a[1], a[2])"
   ]
  },
  {
   "cell_type": "code",
   "execution_count": 22,
   "id": "c6af86c0",
   "metadata": {},
   "outputs": [
    {
     "data": {
      "text/plain": [
       "array([5, 2, 3])"
      ]
     },
     "execution_count": 22,
     "metadata": {},
     "output_type": "execute_result"
    }
   ],
   "source": [
    "a[0] = 5                 # Change an element of the array\n",
    "a                "
   ]
  },
  {
   "cell_type": "code",
   "execution_count": 23,
   "id": "56e0205f",
   "metadata": {},
   "outputs": [
    {
     "data": {
      "text/plain": [
       "array([[1, 2, 3],\n",
       "       [4, 5, 6]])"
      ]
     },
     "execution_count": 23,
     "metadata": {},
     "output_type": "execute_result"
    }
   ],
   "source": [
    "b = np.array([[1,2,3],[4,5,6]])   # Create a rank 2 array\n",
    "b"
   ]
  },
  {
   "cell_type": "code",
   "execution_count": 24,
   "id": "eb6855e6",
   "metadata": {},
   "outputs": [
    {
     "data": {
      "text/plain": [
       "(2, 3)"
      ]
     },
     "execution_count": 24,
     "metadata": {},
     "output_type": "execute_result"
    }
   ],
   "source": [
    "b.shape               "
   ]
  },
  {
   "cell_type": "code",
   "execution_count": 25,
   "id": "a966d71b",
   "metadata": {},
   "outputs": [
    {
     "name": "stdout",
     "output_type": "stream",
     "text": [
      "1 2 4\n"
     ]
    }
   ],
   "source": [
    "print(b[0, 0], b[0, 1], b[1, 0])"
   ]
  },
  {
   "cell_type": "markdown",
   "id": "03a90658",
   "metadata": {},
   "source": [
    "NumPy also provides many functions to create arrays.\n",
    "NumPy has over 40 built-in functions for creating arrays, this is just a small sample of the functions available:"
   ]
  },
  {
   "cell_type": "code",
   "execution_count": 26,
   "id": "afc4e631",
   "metadata": {},
   "outputs": [
    {
     "data": {
      "text/plain": [
       "array([[0., 0.],\n",
       "       [0., 0.]])"
      ]
     },
     "execution_count": 26,
     "metadata": {},
     "output_type": "execute_result"
    }
   ],
   "source": [
    "a = np.zeros((2,2))  # Create an array of all zeros\n",
    "a"
   ]
  },
  {
   "cell_type": "code",
   "execution_count": 27,
   "id": "80c75aa6",
   "metadata": {},
   "outputs": [
    {
     "data": {
      "text/plain": [
       "array([[1., 1.]])"
      ]
     },
     "execution_count": 27,
     "metadata": {},
     "output_type": "execute_result"
    }
   ],
   "source": [
    "b = np.ones((1,2))   # Create an array of all ones\n",
    "b"
   ]
  },
  {
   "cell_type": "code",
   "execution_count": 28,
   "id": "d47f3fde",
   "metadata": {},
   "outputs": [
    {
     "data": {
      "text/plain": [
       "array([[7, 7],\n",
       "       [7, 7]])"
      ]
     },
     "execution_count": 28,
     "metadata": {},
     "output_type": "execute_result"
    }
   ],
   "source": [
    "c = np.full((2,2), 7) # Create a constant array\n",
    "c"
   ]
  },
  {
   "cell_type": "code",
   "execution_count": 29,
   "id": "012e7b87",
   "metadata": {},
   "outputs": [
    {
     "data": {
      "text/plain": [
       "array([[1., 0.],\n",
       "       [0., 1.]])"
      ]
     },
     "execution_count": 29,
     "metadata": {},
     "output_type": "execute_result"
    }
   ],
   "source": [
    "d = np.eye(2)        # Create a 2x2 identity matrix\n",
    "d"
   ]
  },
  {
   "cell_type": "code",
   "execution_count": 30,
   "id": "a6d3907c",
   "metadata": {},
   "outputs": [
    {
     "name": "stdout",
     "output_type": "stream",
     "text": [
      "[1 1 1 1 2 2 2 2 3 3 3 3]\n",
      "[1 2 3 1 2 3 1 2 3 1 2 3]\n"
     ]
    }
   ],
   "source": [
    "d=np.repeat([1,2,3],4) # create a 1x12 matrix where each element is repeated 4 times\n",
    "d1=np.array([1,2,3]*4) # create a 1x12 matrix where the vector is repeatec 4 times\n",
    "print(d)\n",
    "print(d1)"
   ]
  },
  {
   "cell_type": "code",
   "execution_count": 31,
   "id": "9fc36eeb",
   "metadata": {},
   "outputs": [
    {
     "data": {
      "text/plain": [
       "array([[1., 1.],\n",
       "       [1., 1.],\n",
       "       [1., 1.]])"
      ]
     },
     "execution_count": 31,
     "metadata": {},
     "output_type": "execute_result"
    }
   ],
   "source": [
    "d=np.ones((3,2)) # create a matrix with ones\n",
    "d"
   ]
  },
  {
   "cell_type": "code",
   "execution_count": 32,
   "id": "3f0218ae",
   "metadata": {},
   "outputs": [
    {
     "data": {
      "text/plain": [
       "array([[1., 1.],\n",
       "       [1., 1.],\n",
       "       [1., 1.],\n",
       "       [2., 2.],\n",
       "       [2., 2.],\n",
       "       [2., 2.]])"
      ]
     },
     "execution_count": 32,
     "metadata": {},
     "output_type": "execute_result"
    }
   ],
   "source": [
    "d1=np.vstack([d,2*d]) # create a matrix stacking two, one of top of each other\n",
    "d1"
   ]
  },
  {
   "cell_type": "code",
   "execution_count": 33,
   "id": "7822f031",
   "metadata": {},
   "outputs": [
    {
     "data": {
      "text/plain": [
       "array([[1., 1., 2., 2.],\n",
       "       [1., 1., 2., 2.],\n",
       "       [1., 1., 2., 2.]])"
      ]
     },
     "execution_count": 33,
     "metadata": {},
     "output_type": "execute_result"
    }
   ],
   "source": [
    "d1=np.hstack([d,2*d]) # create a matrix stacking two, one side of each other\n",
    "d1"
   ]
  },
  {
   "cell_type": "code",
   "execution_count": 34,
   "id": "e6d8c5d5",
   "metadata": {},
   "outputs": [
    {
     "data": {
      "text/plain": [
       "array([[0.24423821, 0.50935478],\n",
       "       [0.80134281, 0.71287001]])"
      ]
     },
     "execution_count": 34,
     "metadata": {},
     "output_type": "execute_result"
    }
   ],
   "source": [
    "e = np.random.random((2,2)) # Create an array filled with random values\n",
    "e"
   ]
  },
  {
   "cell_type": "markdown",
   "id": "6c39e0bb",
   "metadata": {},
   "source": [
    "There are a few more methods to create NumPy arrays. \n",
    "See the [API documentation](https://numpy.org/doc/stable/reference/routines.array-creation.html#routines-array-creation)"
   ]
  },
  {
   "cell_type": "markdown",
   "id": "3eaca60f",
   "metadata": {},
   "source": [
    "<div class=\"alert alert-block alert-info\"> <b>NOTE</b> When creating numpy arrays of dimension > 1, ensure that the shape is homogeneous. Otherwise the creation will fail  </div>"
   ]
  },
  {
   "cell_type": "code",
   "execution_count": 35,
   "id": "861f8eaf",
   "metadata": {},
   "outputs": [],
   "source": [
    "# This will fail as the lists are non-homogeneous\n",
    "# np.array([[1],[1,2],[1,2,3]], dtype=np.float32)"
   ]
  },
  {
   "cell_type": "markdown",
   "id": "63ec9f64",
   "metadata": {},
   "source": [
    "To create arrays evenly distributed we can do it two ways, one where we specify the beginning, the end and the stepsize or by defining the min, the max and the number of numbers we want in that interval"
   ]
  },
  {
   "cell_type": "code",
   "execution_count": 36,
   "id": "2bbea522",
   "metadata": {},
   "outputs": [
    {
     "data": {
      "text/plain": [
       "array([0, 2, 4, 6, 8])"
      ]
     },
     "execution_count": 36,
     "metadata": {},
     "output_type": "execute_result"
    }
   ],
   "source": [
    "a=np.arange(0,10,2)\n",
    "a"
   ]
  },
  {
   "cell_type": "code",
   "execution_count": 37,
   "id": "e39b7dce",
   "metadata": {},
   "outputs": [
    {
     "data": {
      "text/plain": [
       "array([ 0.        ,  1.42857143,  2.85714286,  4.28571429,  5.71428571,\n",
       "        7.14285714,  8.57142857, 10.        ])"
      ]
     },
     "execution_count": 37,
     "metadata": {},
     "output_type": "execute_result"
    }
   ],
   "source": [
    "b=np.linspace(0,10,8)\n",
    "b"
   ]
  },
  {
   "cell_type": "markdown",
   "id": "c9de2a96",
   "metadata": {},
   "source": [
    "<a id=\"array_indexing\"></a>\n",
    "# Array indexing, slicing and striding"
   ]
  },
  {
   "cell_type": "markdown",
   "id": "7979b332",
   "metadata": {},
   "source": [
    "NumPy arrays can be indexed using the standard Python `x[obj]` syntax, where x is the array and obj the selection.\n",
    "\n",
    "In Python, `x[(exp1, exp2, ..., expN)]` is equivalent to `x[exp1, exp2, ..., expN]`. \n",
    "This allows a natural way of expressing multidimensional arrays."
   ]
  },
  {
   "cell_type": "markdown",
   "id": "6397aada",
   "metadata": {},
   "source": [
    "Slicing: Similar to Python lists, NumPy arrays can be sliced. Since arrays may be multidimensional, you must specify a slice for each dimension of the array.\n",
    "\n",
    "Basic slicing occurs when `obj` is a slice object (constructed by `start:stop:step` notation inside of brackets), an integer, or a tuple of slice objects and integers. Ellipsis (`...`) and `newaxis` objects can be interspersed with these as well."
   ]
  },
  {
   "cell_type": "code",
   "execution_count": 38,
   "id": "d92f802a",
   "metadata": {},
   "outputs": [
    {
     "data": {
      "text/plain": [
       "array([[ 1,  2,  3,  4],\n",
       "       [ 5,  6,  7,  8],\n",
       "       [ 9, 10, 11, 12]])"
      ]
     },
     "execution_count": 38,
     "metadata": {},
     "output_type": "execute_result"
    }
   ],
   "source": [
    "# Create the following rank 2 arrays with shape (3, 4)\n",
    "# [[ 1  2  3  4]\n",
    "#  [ 5  6  7  8]\n",
    "#  [ 9 10 11 12]]\n",
    "a = np.array([[1,2,3,4], [5,6,7,8], [9,10,11,12]])\n",
    "a"
   ]
  },
  {
   "cell_type": "code",
   "execution_count": 39,
   "id": "3de75894",
   "metadata": {},
   "outputs": [
    {
     "data": {
      "text/plain": [
       "array([[2, 3],\n",
       "       [6, 7]])"
      ]
     },
     "execution_count": 39,
     "metadata": {},
     "output_type": "execute_result"
    }
   ],
   "source": [
    "# Use slicing to pull out the subarray consisting of the first 2 rows\n",
    "# and columns 1 and 2; b is the following array of shape (2, 2):\n",
    "# [[2 3]\n",
    "#  [6 7]]\n",
    "b = a[:2, 1:3]\n",
    "b"
   ]
  },
  {
   "cell_type": "code",
   "execution_count": 40,
   "id": "2a2eed39",
   "metadata": {},
   "outputs": [
    {
     "data": {
      "text/plain": [
       "array([[ 5,  7],\n",
       "       [ 9, 11]])"
      ]
     },
     "execution_count": 40,
     "metadata": {},
     "output_type": "execute_result"
    }
   ],
   "source": [
    "b = a[1:3, 0:3:2]  # going over y-axis from 0 to 3 in steps of 2\n",
    "b"
   ]
  },
  {
   "cell_type": "code",
   "execution_count": 41,
   "id": "48451f99",
   "metadata": {},
   "outputs": [
    {
     "name": "stdout",
     "output_type": "stream",
     "text": [
      "[ 9 11]\n"
     ]
    }
   ],
   "source": [
    "print(a[-1,::2])  # going over the last row and printing every two elements"
   ]
  },
  {
   "cell_type": "markdown",
   "id": "06646c8f",
   "metadata": {},
   "source": [
    "A slice of an array is a view into the same data, so modifying it will modify the original array."
   ]
  },
  {
   "cell_type": "code",
   "execution_count": 42,
   "id": "0163c56c",
   "metadata": {},
   "outputs": [
    {
     "name": "stdout",
     "output_type": "stream",
     "text": [
      "5\n",
      "77\n"
     ]
    }
   ],
   "source": [
    "print(a[1, 0])\n",
    "b[0, 0] = 77    # b[0, 0] is the same piece of data as a[1, 0]\n",
    "print(a[1, 0])"
   ]
  },
  {
   "cell_type": "code",
   "execution_count": 43,
   "id": "deb11c9b",
   "metadata": {},
   "outputs": [
    {
     "data": {
      "text/plain": [
       "array([[ 1,  2,  3,  4],\n",
       "       [77,  6,  7,  8],\n",
       "       [ 9, 10, 11, 12]])"
      ]
     },
     "execution_count": 43,
     "metadata": {},
     "output_type": "execute_result"
    }
   ],
   "source": [
    "a"
   ]
  },
  {
   "cell_type": "markdown",
   "id": "d8f6e2cb",
   "metadata": {},
   "source": [
    "You can also mix integer indexing with slice indexing. However, doing so will yield an array of lower ranks than the original array. Note that this is quite different from the way that MATLAB handles array slicing:"
   ]
  },
  {
   "cell_type": "code",
   "execution_count": 44,
   "id": "cd3215ef",
   "metadata": {},
   "outputs": [
    {
     "data": {
      "text/plain": [
       "array([[ 1,  2,  3,  4],\n",
       "       [ 5,  6,  7,  8],\n",
       "       [ 9, 10, 11, 12]])"
      ]
     },
     "execution_count": 44,
     "metadata": {},
     "output_type": "execute_result"
    }
   ],
   "source": [
    "# Create the following rank 2 arrays with shape (3, 4)\n",
    "a = np.array([[1,2,3,4], [5,6,7,8], [9,10,11,12]])\n",
    "a"
   ]
  },
  {
   "cell_type": "markdown",
   "id": "58c4c10a",
   "metadata": {},
   "source": [
    "Two ways of accessing the data in the middle row of the array.\n",
    "Mixing integer indexing with slices yields an array of lower rank,\n",
    "while using only slices yields an array of the same rank as the\n",
    "original array:"
   ]
  },
  {
   "cell_type": "code",
   "execution_count": 45,
   "id": "b084d439",
   "metadata": {},
   "outputs": [
    {
     "name": "stdout",
     "output_type": "stream",
     "text": [
      "[5 6 7 8] (4,)\n",
      "[[5 6 7 8]] (1, 4)\n",
      "[[5 6 7 8]] (1, 4)\n"
     ]
    }
   ],
   "source": [
    "row_r1 = a[1, :]    # Rank 1 view of the second row of a  \n",
    "row_r2 = a[1:2, :]  # Rank 2 view of the second row of a\n",
    "row_r3 = a[[1], :]  # Rank 2 view of the second row of a\n",
    "print(row_r1, row_r1.shape) \n",
    "print(row_r2, row_r2.shape)\n",
    "print(row_r3, row_r3.shape)"
   ]
  },
  {
   "cell_type": "code",
   "execution_count": 46,
   "id": "32199c96",
   "metadata": {},
   "outputs": [
    {
     "name": "stdout",
     "output_type": "stream",
     "text": [
      "[ 2  6 10] (3,)\n",
      "\n",
      "[[ 2]\n",
      " [ 6]\n",
      " [10]] (3, 1)\n"
     ]
    }
   ],
   "source": [
    "# We can make the same distinction when accessing columns of an array:\n",
    "col_r1 = a[:, 1]\n",
    "col_r2 = a[:, 1:2]\n",
    "print(col_r1, col_r1.shape)\n",
    "print()\n",
    "print(col_r2, col_r2.shape)"
   ]
  },
  {
   "cell_type": "markdown",
   "id": "e90683a5",
   "metadata": {},
   "source": [
    "Integer array indexing: When you index into NumPy arrays using slicing, the resulting array view will always be a subarray of the original array. In contrast, integer array indexing allows you to construct arbitrary arrays using the data from another array. Here is an example:"
   ]
  },
  {
   "cell_type": "code",
   "execution_count": 47,
   "id": "3aad2a1c",
   "metadata": {},
   "outputs": [
    {
     "name": "stdout",
     "output_type": "stream",
     "text": [
      "[1 4 5]\n",
      "[1 4 5]\n"
     ]
    }
   ],
   "source": [
    "a = np.array([[1,2], [3, 4], [5, 6]])\n",
    "\n",
    "# An example of integer array indexing.\n",
    "# The returned array will have shape (3,) and \n",
    "print(a[[0, 1, 2], [0, 1, 0]])\n",
    "\n",
    "# The above example of integer array indexing is equivalent to this:\n",
    "print(np.array([a[0, 0], a[1, 1], a[2, 0]]))"
   ]
  },
  {
   "cell_type": "code",
   "execution_count": 48,
   "id": "f89a38cf",
   "metadata": {},
   "outputs": [
    {
     "name": "stdout",
     "output_type": "stream",
     "text": [
      "[2 2]\n",
      "[2 2]\n"
     ]
    }
   ],
   "source": [
    "# When using integer array indexing, you can reuse the same\n",
    "# element from the source array:\n",
    "print(a[[0, 0], [1, 1]])\n",
    "\n",
    "# Equivalent to the previous integer array indexing example\n",
    "print(np.array([a[0, 1], a[0, 1]]))"
   ]
  },
  {
   "cell_type": "markdown",
   "id": "fa8aa782",
   "metadata": {},
   "source": [
    "One useful trick with integer array indexing is selecting or mutating one element from each row of a matrix:"
   ]
  },
  {
   "cell_type": "code",
   "execution_count": 49,
   "id": "9e93d41f",
   "metadata": {},
   "outputs": [
    {
     "data": {
      "text/plain": [
       "array([[ 1,  2,  3],\n",
       "       [ 4,  5,  6],\n",
       "       [ 7,  8,  9],\n",
       "       [10, 11, 12]])"
      ]
     },
     "execution_count": 49,
     "metadata": {},
     "output_type": "execute_result"
    }
   ],
   "source": [
    "# Create a new array from which we will select elements\n",
    "a = np.array([[1,2,3], [4,5,6], [7,8,9], [10, 11, 12]])\n",
    "a"
   ]
  },
  {
   "cell_type": "code",
   "execution_count": 50,
   "id": "dfed8f9d",
   "metadata": {},
   "outputs": [
    {
     "name": "stdout",
     "output_type": "stream",
     "text": [
      "[ 1  6  7 11]\n"
     ]
    }
   ],
   "source": [
    "# Create an array of indices\n",
    "b = np.array([0, 2, 0, 1])\n",
    "\n",
    "# Select one element from each row of a using the indices in b\n",
    "print(a[np.arange(4), b])  # Prints \"[ 1  6  7 11]\""
   ]
  },
  {
   "cell_type": "code",
   "execution_count": 51,
   "id": "79ea00e0",
   "metadata": {},
   "outputs": [
    {
     "name": "stdout",
     "output_type": "stream",
     "text": [
      "[[11  2  3]\n",
      " [ 4  5 16]\n",
      " [17  8  9]\n",
      " [10 21 12]]\n"
     ]
    }
   ],
   "source": [
    "# Mutate one element from each row of a using the indices in b\n",
    "a[np.arange(4), b] += 10\n",
    "print(a)"
   ]
  },
  {
   "cell_type": "markdown",
   "id": "103c20b9",
   "metadata": {},
   "source": [
    "Boolean array indexing: Boolean array indexing lets you pick out arbitrary elements of an array. Frequently this type of indexing is used to select the elements of an array that satisfy some condition. Here is an example:"
   ]
  },
  {
   "cell_type": "code",
   "execution_count": 52,
   "id": "c36ca59b",
   "metadata": {},
   "outputs": [
    {
     "data": {
      "text/plain": [
       "array([[False, False],\n",
       "       [ True,  True],\n",
       "       [ True,  True]])"
      ]
     },
     "execution_count": 52,
     "metadata": {},
     "output_type": "execute_result"
    }
   ],
   "source": [
    "a = np.array([[1,2], [3, 4], [5, 6]])\n",
    "\n",
    "bool_idx = (a > 2)  # Find the elements of a that are bigger than 2;\n",
    "                    # this returns a NumPy array of Booleans of the same\n",
    "                    # shape as a, where each slot of bool_idx tells\n",
    "                    # whether that element of a is > 2.\n",
    "\n",
    "bool_idx"
   ]
  },
  {
   "cell_type": "code",
   "execution_count": 53,
   "id": "2797465a",
   "metadata": {},
   "outputs": [
    {
     "name": "stdout",
     "output_type": "stream",
     "text": [
      "[3 4 5 6]\n",
      "[3 4 5 6]\n"
     ]
    }
   ],
   "source": [
    "# We use boolean array indexing to construct a rank 1 array\n",
    "# consisting of the elements of a corresponding to the True values\n",
    "# of bool_idx\n",
    "print(a[bool_idx])\n",
    "\n",
    "# We can do all of the above in a single concise statement:\n",
    "print(a[a > 2])"
   ]
  },
  {
   "cell_type": "markdown",
   "id": "7c34db04",
   "metadata": {},
   "source": [
    "Slice objects can be used in the construction in place of the [start:stop:step] notation. "
   ]
  },
  {
   "cell_type": "code",
   "execution_count": 54,
   "id": "f4b390ea",
   "metadata": {},
   "outputs": [
    {
     "data": {
      "text/plain": [
       "array([[ 0,  1,  2,  3,  4,  5,  6,  7,  8,  9],\n",
       "       [10, 11, 12, 13, 14, 15, 16, 17, 18, 19],\n",
       "       [20, 21, 22, 23, 24, 25, 26, 27, 28, 29],\n",
       "       [30, 31, 32, 33, 34, 35, 36, 37, 38, 39],\n",
       "       [40, 41, 42, 43, 44, 45, 46, 47, 48, 49],\n",
       "       [50, 51, 52, 53, 54, 55, 56, 57, 58, 59],\n",
       "       [60, 61, 62, 63, 64, 65, 66, 67, 68, 69],\n",
       "       [70, 71, 72, 73, 74, 75, 76, 77, 78, 79],\n",
       "       [80, 81, 82, 83, 84, 85, 86, 87, 88, 89],\n",
       "       [90, 91, 92, 93, 94, 95, 96, 97, 98, 99]])"
      ]
     },
     "execution_count": 54,
     "metadata": {},
     "output_type": "execute_result"
    }
   ],
   "source": [
    "a=np.arange(100).reshape((10,10))\n",
    "a"
   ]
  },
  {
   "cell_type": "code",
   "execution_count": 55,
   "id": "0bc9b80c",
   "metadata": {},
   "outputs": [
    {
     "data": {
      "text/plain": [
       "array([[19, 18, 17, 16, 15, 14, 13, 12, 11, 10],\n",
       "       [69, 68, 67, 66, 65, 64, 63, 62, 61, 60]])"
      ]
     },
     "execution_count": 55,
     "metadata": {},
     "output_type": "execute_result"
    }
   ],
   "source": [
    "obj = (slice(1, 10, 5), slice(None, None, -1))\n",
    "a[obj]"
   ]
  },
  {
   "cell_type": "markdown",
   "id": "1ad1fa8f",
   "metadata": {},
   "source": [
    "<div class=\"alert alert-block alert-info\"> <b>NOTE</b> NumPy uses C-order indexing. That means that the last index usually represents the most rapidly changing memory location, unlike Fortran, where the first index represents the most rapidly changing location in memory. This difference is important for performance considerations. </div>"
   ]
  },
  {
   "cell_type": "markdown",
   "id": "f89b60ca",
   "metadata": {},
   "source": [
    "Elipsis (`...`) is used to expand the number of `:` objects as needed for the selection tuple to index all dimensions. Only one ellipsis can be present on a slice. Example:"
   ]
  },
  {
   "cell_type": "code",
   "execution_count": 56,
   "id": "26dacd1b",
   "metadata": {},
   "outputs": [
    {
     "data": {
      "text/plain": [
       "array([[[0],\n",
       "        [1],\n",
       "        [2]],\n",
       "\n",
       "       [[3],\n",
       "        [4],\n",
       "        [5]]])"
      ]
     },
     "execution_count": 56,
     "metadata": {},
     "output_type": "execute_result"
    }
   ],
   "source": [
    "x = np.arange(6).reshape(2,3,1)\n",
    "x"
   ]
  },
  {
   "cell_type": "code",
   "execution_count": 57,
   "id": "dacd67c8",
   "metadata": {},
   "outputs": [
    {
     "data": {
      "text/plain": [
       "array([[0, 1, 2],\n",
       "       [3, 4, 5]])"
      ]
     },
     "execution_count": 57,
     "metadata": {},
     "output_type": "execute_result"
    }
   ],
   "source": [
    "x[...,0]"
   ]
  },
  {
   "cell_type": "code",
   "execution_count": 58,
   "id": "b7a61e32",
   "metadata": {},
   "outputs": [
    {
     "data": {
      "text/plain": [
       "(2, 3)"
      ]
     },
     "execution_count": 58,
     "metadata": {},
     "output_type": "execute_result"
    }
   ],
   "source": [
    "x[...,0].shape"
   ]
  },
  {
   "cell_type": "markdown",
   "id": "970d37f3",
   "metadata": {},
   "source": [
    "New dimensions can be added via the `newaxis` object in the selection tuple. `newaxis` is an alias for `None`. They both can be used to increase the dimensionality of an array. These operations return views of the array. Different from a reshaping that will change the dimensionality of the array."
   ]
  },
  {
   "cell_type": "code",
   "execution_count": 59,
   "id": "2c7067ce",
   "metadata": {},
   "outputs": [
    {
     "data": {
      "text/plain": [
       "(2, 1, 3, 1)"
      ]
     },
     "execution_count": 59,
     "metadata": {},
     "output_type": "execute_result"
    }
   ],
   "source": [
    "x[:, np.newaxis, :, :].shape"
   ]
  },
  {
   "cell_type": "code",
   "execution_count": 60,
   "id": "371e28af",
   "metadata": {},
   "outputs": [
    {
     "data": {
      "text/plain": [
       "(2, 1, 3, 1)"
      ]
     },
     "execution_count": 60,
     "metadata": {},
     "output_type": "execute_result"
    }
   ],
   "source": [
    "x[:, None, :, :].shape"
   ]
  },
  {
   "cell_type": "code",
   "execution_count": 61,
   "id": "0ccf2281",
   "metadata": {},
   "outputs": [
    {
     "data": {
      "text/plain": [
       "(2, 3, 1)"
      ]
     },
     "execution_count": 61,
     "metadata": {},
     "output_type": "execute_result"
    }
   ],
   "source": [
    "x.shape"
   ]
  },
  {
   "cell_type": "markdown",
   "id": "d59b3230",
   "metadata": {},
   "source": [
    "For brevity, we have left out a lot of details about NumPy array indexing; if you want to know more you should read the [NumPy User Guide on indexing](https://numpy.org/doc/stable/user/basics.indexing.html)"
   ]
  },
  {
   "cell_type": "markdown",
   "id": "6d6fc4a4",
   "metadata": {},
   "source": [
    "## Advanced indexing"
   ]
  },
  {
   "cell_type": "markdown",
   "id": "3e301b34",
   "metadata": {},
   "source": [
    "Advanced indexing happens when the `obj` is a non-tuple sequence object, a ndarray (of data type integer or bool), or a tuple with at least one sequence object or `ndarray` (of data type integer or bool). \n",
    "\n",
    "Advanced indexing return **copies**, different from slices that return **views**, ie reference the same array.\n",
    "\n",
    "There are two types of advanced indexing: *integer* and *Boolean*.\n",
    "\n",
    "Integer array indexing allows selection of arbitrary items in the array based on their N-dimensional index. Each integer array represents several indices into that dimension."
   ]
  },
  {
   "cell_type": "code",
   "execution_count": 62,
   "id": "0ed164c0",
   "metadata": {},
   "outputs": [
    {
     "data": {
      "text/plain": [
       "array([11, 12, 13, 14, 15, 16, 17, 18, 19, 20])"
      ]
     },
     "execution_count": 62,
     "metadata": {},
     "output_type": "execute_result"
    }
   ],
   "source": [
    "x = np.arange(11,21)\n",
    "x"
   ]
  },
  {
   "cell_type": "code",
   "execution_count": 63,
   "id": "00382fdf",
   "metadata": {},
   "outputs": [
    {
     "data": {
      "text/plain": [
       "array([14, 14, 12, 19])"
      ]
     },
     "execution_count": 63,
     "metadata": {},
     "output_type": "execute_result"
    }
   ],
   "source": [
    "x[np.array([3, 3, 1, 8])]"
   ]
  },
  {
   "cell_type": "code",
   "execution_count": 64,
   "id": "4484b2e9",
   "metadata": {},
   "outputs": [
    {
     "data": {
      "text/plain": [
       "array([14, 14, 18, 19])"
      ]
     },
     "execution_count": 64,
     "metadata": {},
     "output_type": "execute_result"
    }
   ],
   "source": [
    "x[np.array([3, 3, -3, 8])]"
   ]
  },
  {
   "cell_type": "markdown",
   "id": "7b175f37",
   "metadata": {},
   "source": [
    "Boolean indexing happens when the obj is an array of booleans"
   ]
  },
  {
   "cell_type": "code",
   "execution_count": 65,
   "id": "e1e4d6fe",
   "metadata": {},
   "outputs": [
    {
     "data": {
      "text/plain": [
       "array([[ 0,  1,  2,  3,  4,  5,  6],\n",
       "       [ 7,  8,  9, 10, 11, 12, 13],\n",
       "       [14, 15, 16, 17, 18, 19, 20],\n",
       "       [21, 22, 23, 24, 25, 26, 27],\n",
       "       [28, 29, 30, 31, 32, 33, 34]])"
      ]
     },
     "execution_count": 65,
     "metadata": {},
     "output_type": "execute_result"
    }
   ],
   "source": [
    "x = np.arange(35).reshape(5, 7)\n",
    "x"
   ]
  },
  {
   "cell_type": "code",
   "execution_count": 66,
   "id": "a7826dab",
   "metadata": {},
   "outputs": [
    {
     "data": {
      "text/plain": [
       "array([[False, False, False, False, False, False, False],\n",
       "       [False, False, False, False, False, False, False],\n",
       "       [False, False, False, False, False, False, False],\n",
       "       [ True,  True,  True,  True,  True,  True,  True],\n",
       "       [ True,  True,  True,  True,  True,  True,  True]])"
      ]
     },
     "execution_count": 66,
     "metadata": {},
     "output_type": "execute_result"
    }
   ],
   "source": [
    "b = x > 20\n",
    "b"
   ]
  },
  {
   "cell_type": "code",
   "execution_count": 67,
   "id": "456d7d8f",
   "metadata": {},
   "outputs": [
    {
     "data": {
      "text/plain": [
       "array([[21, 22, 23, 24, 25, 26, 27],\n",
       "       [28, 29, 30, 31, 32, 33, 34]])"
      ]
     },
     "execution_count": 67,
     "metadata": {},
     "output_type": "execute_result"
    }
   ],
   "source": [
    "b[:, 5]\n",
    "x[b[:, 5]]"
   ]
  },
  {
   "cell_type": "markdown",
   "id": "6887e481",
   "metadata": {},
   "source": [
    "This is different from the slice `x[b]` which is NumPy array flattened."
   ]
  },
  {
   "cell_type": "code",
   "execution_count": 68,
   "id": "9703c928",
   "metadata": {},
   "outputs": [
    {
     "data": {
      "text/plain": [
       "array([21, 22, 23, 24, 25, 26, 27, 28, 29, 30, 31, 32, 33, 34])"
      ]
     },
     "execution_count": 68,
     "metadata": {},
     "output_type": "execute_result"
    }
   ],
   "source": [
    "x[b[:,:]]"
   ]
  },
  {
   "cell_type": "code",
   "execution_count": 69,
   "id": "d96fe46b",
   "metadata": {},
   "outputs": [
    {
     "data": {
      "text/plain": [
       "array([21, 22, 23, 24, 25, 26, 27, 28, 29, 30, 31, 32, 33, 34])"
      ]
     },
     "execution_count": 69,
     "metadata": {},
     "output_type": "execute_result"
    }
   ],
   "source": [
    "x[b]"
   ]
  },
  {
   "cell_type": "markdown",
   "id": "0e0e4483",
   "metadata": {},
   "source": [
    "<a id=\"array_from_file\"></a>\n",
    "# Creating Arrays from a file"
   ]
  },
  {
   "cell_type": "markdown",
   "id": "9d71e026",
   "metadata": {},
   "source": [
    "NumPy provides several functions to create arrays from tabular data. \n",
    "\n",
    "The function `loadtxt` can be used for reading from files with no missing values.\n",
    "\n",
    "The function `genfromtxt` is slower but is capable of handling missing values.\n",
    "\n",
    "In general for large arrays, it is better to avoid reading and writing data as text files. There are specialized formats such as HDF5, NetCDF, and others that will store data in a binary format.\n",
    "\n",
    "To read a CSV file with loadtxt you can use:"
   ]
  },
  {
   "cell_type": "code",
   "execution_count": 70,
   "id": "7adebadd",
   "metadata": {},
   "outputs": [
    {
     "data": {
      "text/plain": [
       "array([[63.,  1.,  3., ...,  0.,  1.,  1.],\n",
       "       [37.,  1.,  2., ...,  0.,  2.,  1.],\n",
       "       [41.,  0.,  1., ...,  0.,  2.,  1.],\n",
       "       ...,\n",
       "       [68.,  1.,  0., ...,  2.,  3.,  0.],\n",
       "       [57.,  1.,  0., ...,  1.,  3.,  0.],\n",
       "       [57.,  0.,  1., ...,  1.,  2.,  0.]])"
      ]
     },
     "execution_count": 70,
     "metadata": {},
     "output_type": "execute_result"
    }
   ],
   "source": [
    "x = np.loadtxt('./data/heart.csv', delimiter=',', skiprows=1)\n",
    "x"
   ]
  },
  {
   "cell_type": "code",
   "execution_count": 71,
   "id": "c8357f74",
   "metadata": {},
   "outputs": [
    {
     "data": {
      "text/plain": [
       "(303, 14)"
      ]
     },
     "execution_count": 71,
     "metadata": {},
     "output_type": "execute_result"
    }
   ],
   "source": [
    "x.shape"
   ]
  },
  {
   "cell_type": "markdown",
   "id": "27bb81b2",
   "metadata": {},
   "source": [
    "Without skipping the first line `genfromtxt` will replace the values with `nan`. The function `loadtxt` will return an error."
   ]
  },
  {
   "cell_type": "code",
   "execution_count": 72,
   "id": "dec224be",
   "metadata": {},
   "outputs": [
    {
     "data": {
      "text/plain": [
       "array([[nan, nan, nan, ..., nan, nan, nan],\n",
       "       [63.,  1.,  3., ...,  0.,  1.,  1.],\n",
       "       [37.,  1.,  2., ...,  0.,  2.,  1.],\n",
       "       ...,\n",
       "       [68.,  1.,  0., ...,  2.,  3.,  0.],\n",
       "       [57.,  1.,  0., ...,  1.,  3.,  0.],\n",
       "       [57.,  0.,  1., ...,  1.,  2.,  0.]])"
      ]
     },
     "execution_count": 72,
     "metadata": {},
     "output_type": "execute_result"
    }
   ],
   "source": [
    "np.genfromtxt('./data/heart.csv', delimiter=\",\")"
   ]
  },
  {
   "cell_type": "markdown",
   "id": "ea23c9fd",
   "metadata": {},
   "source": [
    "<a id=\"array_data_types\"></a>\n",
    "# Array Data Types"
   ]
  },
  {
   "cell_type": "markdown",
   "id": "10ff0451",
   "metadata": {},
   "source": [
    "Every NumPy array is a grid of elements of the same type. NumPy provides a large set of numeric data types that you can use to construct arrays. NumPy tries to guess a datatype when you create an array, but functions that construct arrays usually also include an optional argument to explicitly specify the datatype. Here is an example:"
   ]
  },
  {
   "cell_type": "code",
   "execution_count": 73,
   "id": "b8f37028",
   "metadata": {},
   "outputs": [
    {
     "name": "stdout",
     "output_type": "stream",
     "text": [
      "int64 float64 int64\n"
     ]
    }
   ],
   "source": [
    "x = np.array([1, 2])  # Let numpy choose the datatype\n",
    "y = np.array([1.0, 2.0])  # Let numpy choose the datatype\n",
    "z = np.array([1, 2], dtype=np.int64)  # Force a particular datatype\n",
    "\n",
    "print(x.dtype, y.dtype, z.dtype)"
   ]
  },
  {
   "cell_type": "markdown",
   "id": "d973c884",
   "metadata": {},
   "source": [
    "You can read all about NumPy datatypes in the [NumPy User Guide](https://numpy.org/doc/stable/user/basics.types.html)."
   ]
  },
  {
   "cell_type": "markdown",
   "id": "77534f79",
   "metadata": {},
   "source": [
    "<a id=\"universal_functions\"></a>\n",
    "# Universal functions (ufunc)"
   ]
  },
  {
   "cell_type": "markdown",
   "id": "c0df7d39",
   "metadata": {},
   "source": [
    "A ufunc is a “vectorized” wrapper for a function that takes a fixed number of specific inputs and produces a fixed number of specific outputs.\n",
    "\n",
    "There are many universal functions implemented to operate elementwise on NumPy arrays, and are available both as operator overloads and as functions in the NumPy module:"
   ]
  },
  {
   "cell_type": "code",
   "execution_count": 74,
   "id": "ee820cfd",
   "metadata": {},
   "outputs": [
    {
     "name": "stdout",
     "output_type": "stream",
     "text": [
      "[[ 6.  8.]\n",
      " [10. 12.]]\n",
      "[[ 6.  8.]\n",
      " [10. 12.]]\n"
     ]
    }
   ],
   "source": [
    "x = np.array([[1,2],[3,4]], dtype=np.float64)\n",
    "y = np.array([[5,6],[7,8]], dtype=np.float64)\n",
    "\n",
    "# Elementwise sum; both produce the array\n",
    "print(x + y)\n",
    "print(np.add(x, y))"
   ]
  },
  {
   "cell_type": "code",
   "execution_count": 75,
   "id": "26ac421c",
   "metadata": {},
   "outputs": [
    {
     "name": "stdout",
     "output_type": "stream",
     "text": [
      "[[-4. -4.]\n",
      " [-4. -4.]]\n",
      "[[-4. -4.]\n",
      " [-4. -4.]]\n"
     ]
    }
   ],
   "source": [
    "# Elementwise difference; both produce the array\n",
    "print(x - y)\n",
    "print(np.subtract(x, y))"
   ]
  },
  {
   "cell_type": "code",
   "execution_count": 76,
   "id": "97d28423",
   "metadata": {},
   "outputs": [
    {
     "name": "stdout",
     "output_type": "stream",
     "text": [
      "[[ 5. 12.]\n",
      " [21. 32.]]\n",
      "[[ 5. 12.]\n",
      " [21. 32.]]\n"
     ]
    }
   ],
   "source": [
    "# Elementwise product; both produce the array\n",
    "print(x * y)\n",
    "print(np.multiply(x, y))"
   ]
  },
  {
   "cell_type": "code",
   "execution_count": 77,
   "id": "1d64ef45",
   "metadata": {},
   "outputs": [
    {
     "name": "stdout",
     "output_type": "stream",
     "text": [
      "[[0.2        0.33333333]\n",
      " [0.42857143 0.5       ]]\n",
      "[[0.2        0.33333333]\n",
      " [0.42857143 0.5       ]]\n"
     ]
    }
   ],
   "source": [
    "# Elementwise division; both produce the array\n",
    "# [[ 0.2         0.33333333]\n",
    "#  [ 0.42857143  0.5       ]]\n",
    "print(x / y)\n",
    "print(np.divide(x, y))"
   ]
  },
  {
   "cell_type": "code",
   "execution_count": 78,
   "id": "7e90ae54",
   "metadata": {},
   "outputs": [
    {
     "name": "stdout",
     "output_type": "stream",
     "text": [
      "[[1.         1.41421356]\n",
      " [1.73205081 2.        ]]\n"
     ]
    }
   ],
   "source": [
    "# Elementwise square root; produces the array\n",
    "# [[ 1.          1.41421356]\n",
    "#  [ 1.73205081  2.        ]]\n",
    "print(np.sqrt(x))"
   ]
  },
  {
   "cell_type": "markdown",
   "id": "1c072377",
   "metadata": {},
   "source": [
    "Note that, unlike MATLAB, `*` is elementwise multiplication, not matrix multiplication. We instead use the dot function to compute the inner products of vectors, multiply a vector by a matrix, and multiply matrices. dot is available both as a function in the NumPy module and as an instance method of array objects:"
   ]
  },
  {
   "cell_type": "code",
   "execution_count": 79,
   "id": "24a3fae9",
   "metadata": {},
   "outputs": [
    {
     "name": "stdout",
     "output_type": "stream",
     "text": [
      "219\n",
      "219\n"
     ]
    }
   ],
   "source": [
    "x = np.array([[1,2],[3,4]])\n",
    "y = np.array([[5,6],[7,8]])\n",
    "\n",
    "v = np.array([9,10])\n",
    "w = np.array([11, 12])\n",
    "\n",
    "# Inner product of vectors; both produce 219\n",
    "print(v.dot(w))\n",
    "print(np.dot(v, w))"
   ]
  },
  {
   "cell_type": "code",
   "execution_count": 80,
   "id": "87ba6070",
   "metadata": {},
   "outputs": [
    {
     "name": "stdout",
     "output_type": "stream",
     "text": [
      "[29 67]\n",
      "[29 67]\n",
      "[39 58]\n"
     ]
    }
   ],
   "source": [
    "# Matrix / vector product; both produce the rank 1 array [29 67]\n",
    "print(x.dot(v))\n",
    "print(np.dot(x, v))\n",
    "print(np.dot(x.T, v)) # now with the transpose of x"
   ]
  },
  {
   "cell_type": "code",
   "execution_count": 81,
   "id": "31855766",
   "metadata": {},
   "outputs": [
    {
     "name": "stdout",
     "output_type": "stream",
     "text": [
      "[[19 22]\n",
      " [43 50]]\n",
      "[[19 22]\n",
      " [43 50]]\n"
     ]
    }
   ],
   "source": [
    "# Matrix / matrix product; both produce the rank 2 array\n",
    "# [[19 22]\n",
    "#  [43 50]]\n",
    "print(x.dot(y))\n",
    "print(np.dot(x, y))"
   ]
  },
  {
   "cell_type": "code",
   "execution_count": 82,
   "id": "aa4e8f23",
   "metadata": {},
   "outputs": [
    {
     "name": "stdout",
     "output_type": "stream",
     "text": [
      "int64\n",
      "float32\n"
     ]
    }
   ],
   "source": [
    "print(x.dtype)\n",
    "x=x.astype('f')\n",
    "print(x.dtype)"
   ]
  },
  {
   "cell_type": "markdown",
   "id": "71c87309",
   "metadata": {},
   "source": [
    "NumPy provides many useful functions for performing computations on arrays; one of the most useful is `sum`:"
   ]
  },
  {
   "cell_type": "code",
   "execution_count": 83,
   "id": "aefad24a",
   "metadata": {
    "scrolled": true
   },
   "outputs": [
    {
     "name": "stdout",
     "output_type": "stream",
     "text": [
      "10\n",
      "[4 6]\n",
      "[3 7]\n"
     ]
    }
   ],
   "source": [
    "x = np.array([[1,2],[3,4]])\n",
    "\n",
    "print(np.sum(x))  # Compute sum of all elements; prints \"10\"\n",
    "print(np.sum(x, axis=0))  # Compute sum of each column; prints \"[4 6]\"\n",
    "print(np.sum(x, axis=1))  # Compute sum of each row; prints \"[3 7]\""
   ]
  },
  {
   "cell_type": "code",
   "execution_count": 84,
   "id": "72433c69",
   "metadata": {},
   "outputs": [
    {
     "name": "stdout",
     "output_type": "stream",
     "text": [
      "2.5\n",
      "1.118033988749895\n",
      "10\n",
      "1 0\n",
      "4 3\n",
      "[[ 1  4]\n",
      " [ 9 16]]\n"
     ]
    }
   ],
   "source": [
    "print(x.mean())\n",
    "print(x.std())\n",
    "print(x.sum())\n",
    "print(x.min(),x.argmin())\n",
    "print(x.max(),x.argmax())\n",
    "print(x**2)"
   ]
  },
  {
   "cell_type": "markdown",
   "id": "f9a0d762",
   "metadata": {},
   "source": [
    "You can find the full list of mathematical functions provided by NumPy in the [documentation](http://docs.scipy.org/doc/numpy/reference/routines.math.html).\n",
    "\n",
    "Apart from computing mathematical functions using arrays, we frequently need to reshape or otherwise manipulate data in arrays. The simplest example of this type of operation is transposing a matrix; to transpose a matrix, simply use the T attribute of an array object:"
   ]
  },
  {
   "cell_type": "code",
   "execution_count": 85,
   "id": "812b051d",
   "metadata": {},
   "outputs": [
    {
     "name": "stdout",
     "output_type": "stream",
     "text": [
      "[[1 2]\n",
      " [3 4]]\n",
      "[[1 3]\n",
      " [2 4]]\n"
     ]
    }
   ],
   "source": [
    "print(x)\n",
    "print(x.T)"
   ]
  },
  {
   "cell_type": "code",
   "execution_count": 86,
   "id": "ceba60ee",
   "metadata": {},
   "outputs": [
    {
     "name": "stdout",
     "output_type": "stream",
     "text": [
      "[[1 2 3]]\n",
      "[[1]\n",
      " [2]\n",
      " [3]]\n"
     ]
    }
   ],
   "source": [
    "v = np.array([[1,2,3]])\n",
    "print(v) \n",
    "print(v.T)"
   ]
  },
  {
   "cell_type": "markdown",
   "id": "a7bee619",
   "metadata": {},
   "source": [
    "<a id=\"copies_and_views\"></a>\n",
    "# Copies and views"
   ]
  },
  {
   "cell_type": "markdown",
   "id": "6492be04",
   "metadata": {},
   "source": [
    "NumPy arrays could contain many values. It could be inefficient to create copies and many operations in NumPy are references to the original data.\n",
    "\n",
    "When operating on NumPy arrays, it is possible to access the internal data buffer directly using a view without copying data around. This ensures good performance but can also cause unwanted problems if the user is not aware of how this works. Hence, it is important to know the difference between these two terms and to know which operations return copies and which return views.\n",
    "\n",
    "Consider a 2D array:"
   ]
  },
  {
   "cell_type": "code",
   "execution_count": 87,
   "id": "7143ba95",
   "metadata": {},
   "outputs": [
    {
     "data": {
      "text/plain": [
       "array([[ 0,  1,  2,  3,  4],\n",
       "       [ 5,  6,  7,  8,  9],\n",
       "       [10, 11, 12, 13, 14],\n",
       "       [15, 16, 17, 18, 19]])"
      ]
     },
     "execution_count": 87,
     "metadata": {},
     "output_type": "execute_result"
    }
   ],
   "source": [
    "a=np.arange(20)\n",
    "a.resize((4,5))\n",
    "a"
   ]
  },
  {
   "cell_type": "code",
   "execution_count": 88,
   "id": "165e8a9c",
   "metadata": {},
   "outputs": [
    {
     "data": {
      "text/plain": [
       "array([[ 0,  1,  2,  3,  4],\n",
       "       [ 5,  6,  7,  8,  9],\n",
       "       [10, 10, 10, 10, 10],\n",
       "       [10, 10, 10, 10, 10]])"
      ]
     },
     "execution_count": 88,
     "metadata": {},
     "output_type": "execute_result"
    }
   ],
   "source": [
    "a[a>10]=10   # caping the maximum value of the array to 10\n",
    "a"
   ]
  },
  {
   "cell_type": "code",
   "execution_count": 89,
   "id": "d0b4d55e",
   "metadata": {},
   "outputs": [
    {
     "data": {
      "text/plain": [
       "array([[ 7,  8],\n",
       "       [10, 10]])"
      ]
     },
     "execution_count": 89,
     "metadata": {},
     "output_type": "execute_result"
    }
   ],
   "source": [
    "# we create a slice of an into r (This is a new view)\n",
    "r=a[1:3,2:4]\n",
    "r"
   ]
  },
  {
   "cell_type": "code",
   "execution_count": 90,
   "id": "9732da1a",
   "metadata": {},
   "outputs": [
    {
     "name": "stdout",
     "output_type": "stream",
     "text": [
      "[[ 0  1  2  3  4]\n",
      " [ 5  6 99 99  9]\n",
      " [10 10 99 99 10]\n",
      " [10 10 10 10 10]]\n",
      "[[99 99]\n",
      " [99 99]]\n"
     ]
    }
   ],
   "source": [
    "#we assign 99.0 to all elements of r\n",
    "r[:]=99\n",
    "# see that elements in a have changed!!!\n",
    "print(a)\n",
    "print(r)"
   ]
  },
  {
   "cell_type": "markdown",
   "id": "e55a8757",
   "metadata": {},
   "source": [
    "A copy is a method that will return a *shallow* copy of the elements in the array."
   ]
  },
  {
   "cell_type": "code",
   "execution_count": 91,
   "id": "0794583d",
   "metadata": {},
   "outputs": [
    {
     "name": "stdout",
     "output_type": "stream",
     "text": [
      "[[ 0  1  2  3  4]\n",
      " [ 5  6  7  8  9]\n",
      " [10 11 12 13 14]\n",
      " [15 16 17 18 19]]\n",
      "[[99 99]\n",
      " [99 99]]\n"
     ]
    }
   ],
   "source": [
    "# instead if we want just a copy of the original array\n",
    "a=np.arange(20)\n",
    "a.resize((4,5))\n",
    "r=a[:2,:2].copy()\n",
    "r[:]=99.0\n",
    "print(a)\n",
    "print(r)"
   ]
  },
  {
   "cell_type": "markdown",
   "id": "d6d05362",
   "metadata": {},
   "source": [
    "<a id=\"broadcasting\"></a>\n",
    "# Broadcasting"
   ]
  },
  {
   "cell_type": "markdown",
   "id": "1d346559",
   "metadata": {},
   "source": [
    "The term broadcasting describes how NumPy treats arrays with different shapes during arithmetic operations. \n",
    "\n",
    "Under some constraints, smaller arrays can be “broadcasted” to operate over a larger array to appear as they have compatible shapes. \n",
    "\n",
    "Broadcasting provides a means of vectorizing array operations so that looping occurs in C instead of Python. No extra copies of arrays are taking place which usually leads to efficient algorithm implementations. "
   ]
  },
  {
   "cell_type": "code",
   "execution_count": 92,
   "id": "5841824d",
   "metadata": {},
   "outputs": [
    {
     "data": {
      "text/plain": [
       "array([[12. ,  0. ,  8. ,  5. ],\n",
       "       [ 4.8,  3.2,  1.4,  2.5],\n",
       "       [ 1.2,  8. ,  1.2,  3.2]])"
      ]
     },
     "execution_count": 92,
     "metadata": {},
     "output_type": "execute_result"
    }
   ],
   "source": [
    "a=np.array([[12.0,0.0,8.0,5.0],[4.8,3.2,1.4,2.5],[1.2,8.0,1.2,3.2]])\n",
    "a"
   ]
  },
  {
   "cell_type": "code",
   "execution_count": 93,
   "id": "fc16b9f2",
   "metadata": {},
   "outputs": [
    {
     "name": "stdout",
     "output_type": "stream",
     "text": [
      "[18.  11.2 10.6 10.7]\n",
      "(4,)\n"
     ]
    }
   ],
   "source": [
    "sum_columns=np.sum(a,axis=0)\n",
    "print(sum_columns)\n",
    "print(sum_columns.shape)"
   ]
  },
  {
   "cell_type": "code",
   "execution_count": 94,
   "id": "77f96bec",
   "metadata": {},
   "outputs": [
    {
     "name": "stdout",
     "output_type": "stream",
     "text": [
      "[[66.66666667  0.         75.47169811 46.72897196]\n",
      " [26.66666667 28.57142857 13.20754717 23.36448598]\n",
      " [ 6.66666667 71.42857143 11.32075472 29.90654206]]\n",
      "[[66.66666667  0.         75.47169811 46.72897196]\n",
      " [26.66666667 28.57142857 13.20754717 23.36448598]\n",
      " [ 6.66666667 71.42857143 11.32075472 29.90654206]]\n"
     ]
    }
   ],
   "source": [
    "# Divide each column per the sum over the whole column\n",
    "# here the broadcasting is to divide the matrix a, each column by a different number that comes from a vector\n",
    "percentage=100*a/sum_columns.reshape(1,4)\n",
    "\n",
    "print(percentage)\n",
    "\n",
    "percentage=100*a/sum_columns\n",
    "\n",
    "print(percentage)"
   ]
  },
  {
   "cell_type": "markdown",
   "id": "1c984349",
   "metadata": {},
   "source": [
    "Broadcasting is a powerful mechanism that allows NumPy to work with arrays of different shapes when performing arithmetic operations. Frequently we have a smaller array and a larger array, and we want to use the smaller array multiple times to perform some operation on the larger array.\n",
    "\n",
    "For example, suppose that we want to add a constant vector to each row of a matrix. We could do it like this:"
   ]
  },
  {
   "cell_type": "code",
   "execution_count": 95,
   "id": "6ca67d42",
   "metadata": {},
   "outputs": [
    {
     "data": {
      "text/plain": [
       "array([[ 1,  2,  3],\n",
       "       [ 4,  5,  6],\n",
       "       [ 7,  8,  9],\n",
       "       [10, 11, 12]])"
      ]
     },
     "execution_count": 95,
     "metadata": {},
     "output_type": "execute_result"
    }
   ],
   "source": [
    "# We will add the vector v to each row of the matrix x,\n",
    "# storing the result in the matrix y\n",
    "x = np.arange(1,13).reshape(4,3)\n",
    "x"
   ]
  },
  {
   "cell_type": "code",
   "execution_count": 96,
   "id": "778ef9cc",
   "metadata": {},
   "outputs": [
    {
     "name": "stdout",
     "output_type": "stream",
     "text": [
      "(4, 3)\n"
     ]
    }
   ],
   "source": [
    "print(x.shape)"
   ]
  },
  {
   "cell_type": "code",
   "execution_count": 97,
   "id": "2e217891",
   "metadata": {},
   "outputs": [
    {
     "name": "stdout",
     "output_type": "stream",
     "text": [
      "(3,)\n"
     ]
    }
   ],
   "source": [
    "v = np.array([1, 0, 1])\n",
    "print(v.shape)\n",
    "y = np.empty_like(x)   # Create an empty matrix with the same shape as x"
   ]
  },
  {
   "cell_type": "code",
   "execution_count": 98,
   "id": "c6f9d5df",
   "metadata": {},
   "outputs": [
    {
     "name": "stdout",
     "output_type": "stream",
     "text": [
      "[[ 2  2  4]\n",
      " [ 5  5  7]\n",
      " [ 8  8 10]\n",
      " [11 11 13]]\n"
     ]
    }
   ],
   "source": [
    "# Add the vector v to each row of the matrix x with an explicit loop\n",
    "for i in range(4):\n",
    "    y[i, :] = x[i, :] + v\n",
    "\n",
    "print(y)"
   ]
  },
  {
   "cell_type": "markdown",
   "id": "e008c32c",
   "metadata": {},
   "source": [
    "This works; however when the matrix `x` is very large, computing an explicit loop in Python could be slow. Note that adding the vector v to each row of the matrix `x` is equivalent to forming a matrix `vv` by stacking multiple copies of `v` vertically, then performing an elementwise summation of `x` and `vv`. We could implement this approach like this:"
   ]
  },
  {
   "cell_type": "code",
   "execution_count": 99,
   "id": "a378750a",
   "metadata": {},
   "outputs": [
    {
     "name": "stdout",
     "output_type": "stream",
     "text": [
      "[[1 0 1]\n",
      " [1 0 1]\n",
      " [1 0 1]\n",
      " [1 0 1]]\n"
     ]
    }
   ],
   "source": [
    "vv = np.tile(v, (4, 1))  # Stack 4 copies of v on top of each other\n",
    "print(vv)                # Prints \"[[1 0 1]\n",
    "                         #          [1 0 1]                  \n",
    "                         #          [1 0 1]\n",
    "                         #          [1 0 1]]\""
   ]
  },
  {
   "cell_type": "code",
   "execution_count": 100,
   "id": "7e175afa",
   "metadata": {},
   "outputs": [
    {
     "name": "stdout",
     "output_type": "stream",
     "text": [
      "[[ 2  2  4]\n",
      " [ 5  5  7]\n",
      " [ 8  8 10]\n",
      " [11 11 13]]\n"
     ]
    }
   ],
   "source": [
    "y = x + vv  # Add x and vv elementwise\n",
    "print(y)"
   ]
  },
  {
   "cell_type": "markdown",
   "id": "881295bc",
   "metadata": {},
   "source": [
    "NumPy broadcasting allows us to perform this computation without actually creating multiple copies of v. Consider this version, using broadcasting:"
   ]
  },
  {
   "cell_type": "code",
   "execution_count": 101,
   "id": "b4f53399",
   "metadata": {},
   "outputs": [
    {
     "name": "stdout",
     "output_type": "stream",
     "text": [
      "[[ 2  2  4]\n",
      " [ 5  5  7]\n",
      " [ 8  8 10]\n",
      " [11 11 13]]\n"
     ]
    }
   ],
   "source": [
    "# We will add the vector v to each row of the matrix x,\n",
    "# storing the result in the matrix y\n",
    "x = np.arange(1,13).reshape(4,3)\n",
    "v = np.array([1, 0, 1])\n",
    "\n",
    "y = x + v  # Add v to each row of x using broadcasting\n",
    "print(y)"
   ]
  },
  {
   "cell_type": "markdown",
   "id": "3b541dc5",
   "metadata": {},
   "source": [
    "The line `y = x + v` works even though `x` has shape `(4, 3)` and `v` has shape `(3,)` due to broadcasting; this line works as if v had shape `(4, 3)`, where each row was a copy of `v`, and the sum was performed elementwise.\n",
    "\n",
    "Broadcasting two arrays together follows these rules:\n",
    "\n",
    "1. If the arrays do not have the same rank, prepend the shape of the lower rank array with 1s until both shapes have the same length.\n",
    "2. The two arrays are said to be compatible in a dimension if they have the same size in the dimension, or if one of the arrays has size 1 in that dimension.\n",
    "3. The arrays can be broadcast together if they are compatible in all dimensions.\n",
    "4. After broadcasting, each array behaves as if it had a shape equal to the elementwise maximum of shapes of the two input arrays.\n",
    "5. In any dimension where one array had a size 1 and the other array had a size greater than 1, the first array behaves as if it were copied along that dimension\n",
    "\n",
    "If this explanation does not make sense, try reading the explanation from the [documentation](http://docs.scipy.org/doc/numpy/user/basics.broadcasting.html) or several tutorias as [tutorial_1](https://machinelearningmastery.com/broadcasting-with-numpy-arrays/), [tutorial_2](https://www.geeksforgeeks.org/python-broadcasting-with-numpy-arrays/).\n",
    "\n",
    "Functions that support broadcasting are known as universal functions. You can find the list of all universal functions in the [documentation](http://docs.scipy.org/doc/numpy/reference/ufuncs.html#available-ufuncs).\n",
    "\n",
    "Here are some applications of broadcasting:"
   ]
  },
  {
   "cell_type": "code",
   "execution_count": 102,
   "id": "f6e08411",
   "metadata": {},
   "outputs": [
    {
     "data": {
      "text/plain": [
       "array([[ 4,  5],\n",
       "       [ 8, 10],\n",
       "       [12, 15]])"
      ]
     },
     "execution_count": 102,
     "metadata": {},
     "output_type": "execute_result"
    }
   ],
   "source": [
    "# Compute outer product of vectors\n",
    "v = np.array([1,2,3])  # v has shape (3,)\n",
    "w = np.array([4,5])    # w has shape (2,)\n",
    "# To compute an outer product, we first reshape v to be a column\n",
    "# vector of shape (3, 1); we can then broadcast it against w to yield\n",
    "# an output of shape (3, 2), which is the outer product of v and w:\n",
    "\n",
    "np.reshape(v, (3, 1)) * w"
   ]
  },
  {
   "cell_type": "code",
   "execution_count": 103,
   "id": "b5c86823",
   "metadata": {},
   "outputs": [
    {
     "data": {
      "text/plain": [
       "array([[2, 4, 6],\n",
       "       [5, 7, 9]])"
      ]
     },
     "execution_count": 103,
     "metadata": {},
     "output_type": "execute_result"
    }
   ],
   "source": [
    "# Add a vector to each row of a matrix\n",
    "x = np.array([[1,2,3], [4,5,6]])\n",
    "# x has shape (2, 3) and v has shape (3,) so they broadcast to (2, 3),\n",
    "# giving the following matrix:\n",
    "\n",
    "x + v"
   ]
  },
  {
   "cell_type": "code",
   "execution_count": 104,
   "id": "ced73918",
   "metadata": {},
   "outputs": [
    {
     "data": {
      "text/plain": [
       "array([[ 5,  6,  7],\n",
       "       [ 9, 10, 11]])"
      ]
     },
     "execution_count": 104,
     "metadata": {},
     "output_type": "execute_result"
    }
   ],
   "source": [
    "# Add a vector to each column of a matrix\n",
    "# x has shape (2, 3) and w has shape (2,).\n",
    "# If we transpose x then it has shape (3, 2) and can be broadcast\n",
    "# against w to yield a result of shape (3, 2); transposing this result\n",
    "# yields the final result of shape (2, 3) which is the matrix x with\n",
    "# the vector w added to each column. Gives the following matrix\n",
    "\n",
    "(x.T + w).T"
   ]
  },
  {
   "cell_type": "code",
   "execution_count": 105,
   "id": "18337953",
   "metadata": {},
   "outputs": [
    {
     "data": {
      "text/plain": [
       "array([[ 5,  6,  7],\n",
       "       [ 9, 10, 11]])"
      ]
     },
     "execution_count": 105,
     "metadata": {},
     "output_type": "execute_result"
    }
   ],
   "source": [
    "# Another solution is to reshape w to be a row vector of shape (2, 1);\n",
    "# we can then broadcast it directly against x to produce the same\n",
    "# output.\n",
    "\n",
    "x + np.reshape(w, (2, 1))"
   ]
  },
  {
   "cell_type": "code",
   "execution_count": 106,
   "id": "f3934b97",
   "metadata": {},
   "outputs": [
    {
     "data": {
      "text/plain": [
       "array([[ 2,  4,  6],\n",
       "       [ 8, 10, 12]])"
      ]
     },
     "execution_count": 106,
     "metadata": {},
     "output_type": "execute_result"
    }
   ],
   "source": [
    "# Multiply a matrix by a constant:\n",
    "# x has shape (2, 3). NumPy treats scalars as arrays of shape ();\n",
    "# these can be broadcast together to shape (2, 3), producing the\n",
    "# following array:\n",
    "\n",
    "x * 2"
   ]
  },
  {
   "cell_type": "markdown",
   "id": "0b2f9341",
   "metadata": {},
   "source": [
    "Broadcasting typically makes your code more concise and faster, so you should strive to use it where possible."
   ]
  },
  {
   "cell_type": "markdown",
   "id": "faac0c4d",
   "metadata": {},
   "source": [
    "<a id=\"functional_programming\"></a>\n",
    "\n",
    "# Functional programming"
   ]
  },
  {
   "cell_type": "markdown",
   "id": "af47f2c4",
   "metadata": {},
   "source": [
    "Functional programming is a programming paradigm in which the primary method of computation is evaluation of functions. \n",
    "\n",
    "Python is multiparadigm, meaning that it offers the possibility of being procedural, object-oriented or using functional programming or a mix of all these. \n",
    "There is a HOWTO devoted to Functional Programming in the [Official Python Documentation](https://docs.python.org/3/howto/functional.html)\n",
    "\n",
    "There are several methods in NumPy that take Python functions as arguments and these functions are often used to process NumPy arrays and avoid the explicit call for loops. "
   ]
  },
  {
   "cell_type": "markdown",
   "id": "93c79b8e",
   "metadata": {},
   "source": [
    "## `apply_along_axis`"
   ]
  },
  {
   "cell_type": "markdown",
   "id": "19ae87d9",
   "metadata": {},
   "source": [
    "The function `apply_along_axis` is used to apply a function to 1-D slices along the given axis. Example:"
   ]
  },
  {
   "cell_type": "code",
   "execution_count": 107,
   "id": "290f7ac6",
   "metadata": {},
   "outputs": [
    {
     "data": {
      "text/plain": [
       "array([[ 1,  2,  3,  4],\n",
       "       [ 5,  6,  7,  8],\n",
       "       [ 9, 10, 11, 12],\n",
       "       [13, 14, 15, 16]])"
      ]
     },
     "execution_count": 107,
     "metadata": {},
     "output_type": "execute_result"
    }
   ],
   "source": [
    "def max_min(a):\n",
    "    \"\"\"Differnce between the maximum value and the minimum of a 1-D array\"\"\"\n",
    "    return max(a)-min(a)\n",
    "\n",
    "b = np.arange(1,17).reshape(4,4)\n",
    "b"
   ]
  },
  {
   "cell_type": "code",
   "execution_count": 108,
   "id": "5022cf65",
   "metadata": {},
   "outputs": [
    {
     "data": {
      "text/plain": [
       "array([12, 12, 12, 12])"
      ]
     },
     "execution_count": 108,
     "metadata": {},
     "output_type": "execute_result"
    }
   ],
   "source": [
    "np.apply_along_axis(max_min, 0, b)"
   ]
  },
  {
   "cell_type": "code",
   "execution_count": 109,
   "id": "694a466c",
   "metadata": {},
   "outputs": [
    {
     "data": {
      "text/plain": [
       "array([3, 3, 3, 3])"
      ]
     },
     "execution_count": 109,
     "metadata": {},
     "output_type": "execute_result"
    }
   ],
   "source": [
    "np.apply_along_axis(max_min, 1, b)"
   ]
  },
  {
   "cell_type": "markdown",
   "id": "4fd57ac0",
   "metadata": {},
   "source": [
    "The axis is defined by the dimension that you are leaving free, ie the dimension with the colon (`:`). Other dimensions are fixed to return 1-D slices.\n",
    "See for example:"
   ]
  },
  {
   "cell_type": "code",
   "execution_count": 110,
   "id": "15e78fcb",
   "metadata": {},
   "outputs": [
    {
     "data": {
      "text/plain": [
       "array([ 2,  6, 10, 14])"
      ]
     },
     "execution_count": 110,
     "metadata": {},
     "output_type": "execute_result"
    }
   ],
   "source": [
    "b[:,1] # axis=0"
   ]
  },
  {
   "cell_type": "code",
   "execution_count": 111,
   "id": "9617c893",
   "metadata": {},
   "outputs": [
    {
     "data": {
      "text/plain": [
       "array([5, 6, 7, 8])"
      ]
     },
     "execution_count": 111,
     "metadata": {},
     "output_type": "execute_result"
    }
   ],
   "source": [
    "b[1,:] # axis=1"
   ]
  },
  {
   "cell_type": "markdown",
   "id": "681c21f2",
   "metadata": {},
   "source": [
    "## `apply_over_axes`"
   ]
  },
  {
   "cell_type": "markdown",
   "id": "5e0e1b50",
   "metadata": {},
   "source": [
    "The function `apply_over_axes` can be considered as the complement of `apply_along_axis`. Instead of applying a function to 1-D slices. It applies the function to N-1 slices.\n",
    "\n",
    "`apply_over_axes(func, a, axes)` apply a function `func` repeatedly over multiple axes of array `a`.\n",
    "\n",
    "`func` is called as `res = func(a, axis)`, where the axis is the first element of axes. The result res of the function call must have either the same dimensions as a or one less dimension. If res has one less dimension than a, a dimension is inserted before the axis. The call to func is then repeated for each axis in axes, with res as the first argument.\n",
    "\n",
    "Consider this example with a 3D array:"
   ]
  },
  {
   "cell_type": "code",
   "execution_count": 112,
   "id": "3e115f61",
   "metadata": {},
   "outputs": [
    {
     "data": {
      "text/plain": [
       "array([[[ 0,  1,  2],\n",
       "        [ 3,  4,  5],\n",
       "        [ 6,  7,  8]],\n",
       "\n",
       "       [[ 9, 10, 11],\n",
       "        [12, 13, 14],\n",
       "        [15, 16, 17]],\n",
       "\n",
       "       [[18, 19, 20],\n",
       "        [21, 22, 23],\n",
       "        [24, 25, 26]]])"
      ]
     },
     "execution_count": 112,
     "metadata": {},
     "output_type": "execute_result"
    }
   ],
   "source": [
    "a = np.arange(27).reshape(3,3,3)\n",
    "a"
   ]
  },
  {
   "cell_type": "code",
   "execution_count": 113,
   "id": "e91b85dc",
   "metadata": {},
   "outputs": [
    {
     "data": {
      "text/plain": [
       "array([[[ 90],\n",
       "        [117],\n",
       "        [144]]])"
      ]
     },
     "execution_count": 113,
     "metadata": {},
     "output_type": "execute_result"
    }
   ],
   "source": [
    "b= np.apply_over_axes(np.sum, a, [0,2])\n",
    "b"
   ]
  },
  {
   "cell_type": "code",
   "execution_count": 114,
   "id": "3aea181c",
   "metadata": {},
   "outputs": [
    {
     "data": {
      "text/plain": [
       "(1, 3, 1)"
      ]
     },
     "execution_count": 114,
     "metadata": {},
     "output_type": "execute_result"
    }
   ],
   "source": [
    "b.shape"
   ]
  },
  {
   "cell_type": "code",
   "execution_count": 115,
   "id": "21eab23f",
   "metadata": {},
   "outputs": [
    {
     "data": {
      "text/plain": [
       "array([[ 0,  1,  2],\n",
       "       [ 9, 10, 11],\n",
       "       [18, 19, 20]])"
      ]
     },
     "execution_count": 115,
     "metadata": {},
     "output_type": "execute_result"
    }
   ],
   "source": [
    "a[:,0,:]"
   ]
  },
  {
   "cell_type": "code",
   "execution_count": 116,
   "id": "5129c8e9",
   "metadata": {},
   "outputs": [
    {
     "data": {
      "text/plain": [
       "90"
      ]
     },
     "execution_count": 116,
     "metadata": {},
     "output_type": "execute_result"
    }
   ],
   "source": [
    "np.sum(a[:,0])"
   ]
  },
  {
   "cell_type": "code",
   "execution_count": 117,
   "id": "a1d102dc",
   "metadata": {},
   "outputs": [
    {
     "data": {
      "text/plain": [
       "array([[ 3,  4,  5],\n",
       "       [12, 13, 14],\n",
       "       [21, 22, 23]])"
      ]
     },
     "execution_count": 117,
     "metadata": {},
     "output_type": "execute_result"
    }
   ],
   "source": [
    "a[:,1,:]"
   ]
  },
  {
   "cell_type": "code",
   "execution_count": 118,
   "id": "c03eedcc",
   "metadata": {},
   "outputs": [
    {
     "data": {
      "text/plain": [
       "117"
      ]
     },
     "execution_count": 118,
     "metadata": {},
     "output_type": "execute_result"
    }
   ],
   "source": [
    "np.sum(a[:,1])"
   ]
  },
  {
   "cell_type": "code",
   "execution_count": 119,
   "id": "b4b34125",
   "metadata": {},
   "outputs": [
    {
     "data": {
      "text/plain": [
       "array([[ 6,  7,  8],\n",
       "       [15, 16, 17],\n",
       "       [24, 25, 26]])"
      ]
     },
     "execution_count": 119,
     "metadata": {},
     "output_type": "execute_result"
    }
   ],
   "source": [
    "a[:,2,:]"
   ]
  },
  {
   "cell_type": "code",
   "execution_count": 120,
   "id": "6bc63b8b",
   "metadata": {},
   "outputs": [
    {
     "data": {
      "text/plain": [
       "144"
      ]
     },
     "execution_count": 120,
     "metadata": {},
     "output_type": "execute_result"
    }
   ],
   "source": [
    "np.sum(a[:,2,:])"
   ]
  },
  {
   "cell_type": "markdown",
   "id": "d4279b62",
   "metadata": {},
   "source": [
    "## vectorize"
   ]
  },
  {
   "cell_type": "markdown",
   "id": "695f0a5d",
   "metadata": {},
   "source": [
    "The method `vectorize` returns a vectorized function which takes a nested sequence of objects or NumPy arrays as inputs and returns a single NumPy array or a tuple of NumPy arrays. The vectorized function evaluates pyfunc over successive tuples of the input arrays like the python map function, except it uses the broadcasting rules of NumPy.\n",
    "\n",
    "We will see how broadcasting works in the next section.\n",
    "\n",
    "Let's see with a simple example:"
   ]
  },
  {
   "cell_type": "code",
   "execution_count": 121,
   "id": "43b96bbe",
   "metadata": {},
   "outputs": [],
   "source": [
    "def myfunc(a, b):\n",
    "    \"Return a-b if a>b, otherwise return a+b\"\n",
    "    if a > b:\n",
    "        return a - b\n",
    "    else:\n",
    "        return a + b"
   ]
  },
  {
   "cell_type": "code",
   "execution_count": 122,
   "id": "5682e55c",
   "metadata": {},
   "outputs": [],
   "source": [
    "a = np.arange(15,25,)\n",
    "b = np.arange(10,30,2)"
   ]
  },
  {
   "cell_type": "code",
   "execution_count": 123,
   "id": "2d094bc5",
   "metadata": {},
   "outputs": [
    {
     "data": {
      "text/plain": [
       "(10,)"
      ]
     },
     "execution_count": 123,
     "metadata": {},
     "output_type": "execute_result"
    }
   ],
   "source": [
    "a.shape"
   ]
  },
  {
   "cell_type": "code",
   "execution_count": 124,
   "id": "d10c2850",
   "metadata": {},
   "outputs": [
    {
     "data": {
      "text/plain": [
       "(10,)"
      ]
     },
     "execution_count": 124,
     "metadata": {},
     "output_type": "execute_result"
    }
   ],
   "source": [
    "b.shape"
   ]
  },
  {
   "cell_type": "code",
   "execution_count": 125,
   "id": "904578f2",
   "metadata": {},
   "outputs": [
    {
     "data": {
      "text/plain": [
       "array([15, 16, 17, 18, 19, 20, 21, 22, 23, 24])"
      ]
     },
     "execution_count": 125,
     "metadata": {},
     "output_type": "execute_result"
    }
   ],
   "source": [
    "a"
   ]
  },
  {
   "cell_type": "code",
   "execution_count": 126,
   "id": "bdeda343",
   "metadata": {},
   "outputs": [
    {
     "data": {
      "text/plain": [
       "array([10, 12, 14, 16, 18, 20, 22, 24, 26, 28])"
      ]
     },
     "execution_count": 126,
     "metadata": {},
     "output_type": "execute_result"
    }
   ],
   "source": [
    "b"
   ]
  },
  {
   "cell_type": "markdown",
   "id": "aa1506aa",
   "metadata": {},
   "source": [
    "This function will fail if used directly over NumPy arrays as the comparison operations will return arrays which will not be accepted by the `if` conditional."
   ]
  },
  {
   "cell_type": "code",
   "execution_count": 127,
   "id": "505b7efe",
   "metadata": {},
   "outputs": [],
   "source": [
    "#myfunc(a,b)"
   ]
  },
  {
   "cell_type": "markdown",
   "id": "9e6b9552",
   "metadata": {},
   "source": [
    "The solution is to vectorize the function"
   ]
  },
  {
   "cell_type": "code",
   "execution_count": 128,
   "id": "b46532ab",
   "metadata": {},
   "outputs": [],
   "source": [
    "vfunc = np.vectorize(myfunc)"
   ]
  },
  {
   "cell_type": "markdown",
   "id": "b488ec49",
   "metadata": {},
   "source": [
    "Now the function can operate element-wise over the two input arrays"
   ]
  },
  {
   "cell_type": "code",
   "execution_count": 129,
   "id": "06a8d0bc",
   "metadata": {},
   "outputs": [
    {
     "data": {
      "text/plain": [
       "array([ 5,  4,  3,  2,  1, 40, 43, 46, 49, 52])"
      ]
     },
     "execution_count": 129,
     "metadata": {},
     "output_type": "execute_result"
    }
   ],
   "source": [
    "vfunc(a,b)"
   ]
  },
  {
   "cell_type": "markdown",
   "id": "f35683dc",
   "metadata": {},
   "source": [
    "The extra advantage is that broadcastable arguments can work too. For example, if the second argument is just a scalar, it will be promoted to a constant array all without incurring on actual storage of the array."
   ]
  },
  {
   "cell_type": "code",
   "execution_count": 130,
   "id": "6a3f5837",
   "metadata": {},
   "outputs": [
    {
     "data": {
      "text/plain": [
       "array([30, 32, 34, 36, 38, 40,  2,  4,  6,  8])"
      ]
     },
     "execution_count": 130,
     "metadata": {},
     "output_type": "execute_result"
    }
   ],
   "source": [
    "vfunc(b, 20)"
   ]
  },
  {
   "cell_type": "markdown",
   "id": "412d43df",
   "metadata": {},
   "source": [
    "The function above will produce the same result as the function below, without the extra memory usage:"
   ]
  },
  {
   "cell_type": "code",
   "execution_count": 131,
   "id": "8036e767",
   "metadata": {},
   "outputs": [
    {
     "data": {
      "text/plain": [
       "array([30, 32, 34, 36, 38, 40,  2,  4,  6,  8])"
      ]
     },
     "execution_count": 131,
     "metadata": {},
     "output_type": "execute_result"
    }
   ],
   "source": [
    "vfunc(b, np.full_like(b,20))"
   ]
  },
  {
   "cell_type": "markdown",
   "id": "8d70b05c",
   "metadata": {},
   "source": [
    "## `frompyfunc`"
   ]
  },
  {
   "cell_type": "markdown",
   "id": "4929e767",
   "metadata": {},
   "source": [
    "Takes an arbitrary Python function and returns a NumPy ufunc.\n",
    "\n",
    "Can be used, for example, to add broadcasting to a built-in Python function"
   ]
  },
  {
   "cell_type": "code",
   "execution_count": 132,
   "id": "bf69cad6",
   "metadata": {},
   "outputs": [],
   "source": [
    "from math import cos, sin\n",
    "\n",
    "def cos2sin2(theta1, theta2):\n",
    "    return cos(theta1)**2 + sin(theta2)**2"
   ]
  },
  {
   "cell_type": "code",
   "execution_count": 133,
   "id": "b2bf331c",
   "metadata": {},
   "outputs": [],
   "source": [
    "a=np.arange(np.pi, 2*np.pi, 0.1)\n",
    "b=np.arange(np.pi, 2*np.pi, 0.1)"
   ]
  },
  {
   "cell_type": "markdown",
   "id": "e3b156c9",
   "metadata": {},
   "source": [
    "This function will fail if applied to two arrays"
   ]
  },
  {
   "cell_type": "code",
   "execution_count": 134,
   "id": "676c8770",
   "metadata": {},
   "outputs": [],
   "source": [
    "#cos2sin2(a,b)"
   ]
  },
  {
   "cell_type": "code",
   "execution_count": 135,
   "id": "11e527eb",
   "metadata": {},
   "outputs": [],
   "source": [
    "cos2sin2_array = np.frompyfunc(cos2sin2, 2, 1)"
   ]
  },
  {
   "cell_type": "code",
   "execution_count": 136,
   "id": "03666c6c",
   "metadata": {},
   "outputs": [
    {
     "data": {
      "text/plain": [
       "array([1., 1., 1., 1., 1., 1., 1., 1., 1., 1., 1., 1., 1., 1., 1., 1., 1.,\n",
       "       1., 1., 1., 1., 1., 1., 1., 1., 1., 1., 1., 1., 1., 1., 1.],\n",
       "      dtype=float32)"
      ]
     },
     "execution_count": 136,
     "metadata": {},
     "output_type": "execute_result"
    }
   ],
   "source": [
    "cos2sin2_array(a,b).astype(np.float32)"
   ]
  },
  {
   "cell_type": "markdown",
   "id": "cf1e0ac5",
   "metadata": {},
   "source": [
    "Using broadcasting:"
   ]
  },
  {
   "cell_type": "code",
   "execution_count": 137,
   "id": "47bdd069",
   "metadata": {},
   "outputs": [
    {
     "data": {
      "text/plain": [
       "array([1.0000000e+00, 9.9003327e-01, 9.6053052e-01, 9.1266781e-01,\n",
       "       8.4835333e-01, 7.7015114e-01, 6.8117887e-01, 5.8498359e-01,\n",
       "       4.8540023e-01, 3.8639894e-01, 2.9192659e-01, 2.0574944e-01,\n",
       "       1.3130315e-01, 7.1555622e-02, 2.8888829e-02, 5.0037517e-03,\n",
       "       8.5261208e-04, 1.6600903e-02, 5.1620793e-02, 1.0451614e-01,\n",
       "       1.7317820e-01, 2.5486958e-01, 3.4633356e-01, 4.4392374e-01,\n",
       "       5.4374951e-01, 6.4183110e-01, 7.3425835e-01, 8.1734645e-01,\n",
       "       8.8778293e-01, 9.4275975e-01, 9.8008513e-01, 9.9827105e-01],\n",
       "      dtype=float32)"
      ]
     },
     "execution_count": 137,
     "metadata": {},
     "output_type": "execute_result"
    }
   ],
   "source": [
    "cos2sin2_array(a, np.pi).astype(np.float32)"
   ]
  },
  {
   "cell_type": "code",
   "execution_count": 138,
   "id": "6b4ef01a",
   "metadata": {},
   "outputs": [],
   "source": [
    "def cos2_sin2(theta1, theta2):\n",
    "    return cos(theta1)**2 + sin(theta2)**2, cos(theta1)**2 - sin(theta2)**2"
   ]
  },
  {
   "cell_type": "code",
   "execution_count": 139,
   "id": "0ebffd75",
   "metadata": {},
   "outputs": [],
   "source": [
    "cos2_sin2_array = np.frompyfunc(cos2_sin2, 2, 2)"
   ]
  },
  {
   "cell_type": "code",
   "execution_count": 140,
   "id": "d2267657",
   "metadata": {},
   "outputs": [
    {
     "data": {
      "text/plain": [
       "(array([1.0, 1.0, 1.0, 1.0, 1.0, 1.0, 1.0, 1.0, 1.0, 1.0, 1.0, 1.0, 1.0,\n",
       "        1.0, 1.0, 1.0, 1.0, 1.0, 0.9999999999999999, 0.9999999999999999,\n",
       "        1.0, 1.0, 1.0, 1.0000000000000002, 1.0, 0.9999999999999998, 1.0,\n",
       "        1.0, 1.0, 1.0, 1.0, 1.0], dtype=object),\n",
       " array([1.0, 0.9800665778412417, 0.9210609940028851, 0.8253356149096782,\n",
       "        0.696706709347165, 0.5403023058681391, 0.3623577544766729,\n",
       "        0.16996714290023984, -0.02919952230128975, -0.2272020946930875,\n",
       "        -0.4161468365471438, -0.5885011172553479, -0.7373937155412469,\n",
       "        -0.8568887533689479, -0.942222340668659, -0.9899924966004459,\n",
       "        -0.9982947757947529, -0.9667981925794604, -0.8967584163341457,\n",
       "        -0.7909677119144142, -0.6536436208636095, -0.4902608213406974,\n",
       "        -0.3073328699784162, -0.1121525269350499, 0.08749898343945067,\n",
       "        0.28366218546322947, 0.46851667130038077, 0.6346928759426387,\n",
       "        0.7755658785102528, 0.8855195169413208, 0.9601702866503675,\n",
       "        0.9965420970232179], dtype=object))"
      ]
     },
     "execution_count": 140,
     "metadata": {},
     "output_type": "execute_result"
    }
   ],
   "source": [
    "cos2_sin2_array(a,b)"
   ]
  },
  {
   "cell_type": "markdown",
   "id": "15eac523",
   "metadata": {},
   "source": [
    "## `piecewise`"
   ]
  },
  {
   "cell_type": "markdown",
   "id": "17b787e7",
   "metadata": {},
   "source": [
    "Given a set of conditions and corresponding functions, evaluate each function on the input data wherever its condition is true."
   ]
  },
  {
   "cell_type": "code",
   "execution_count": 141,
   "id": "2cacd30b",
   "metadata": {},
   "outputs": [
    {
     "data": {
      "text/plain": [
       "array([0. , 0. , 0. , 0. , 0. , 0. , 0.5, 1. , 1.5, 2. , 2.5])"
      ]
     },
     "execution_count": 141,
     "metadata": {},
     "output_type": "execute_result"
    }
   ],
   "source": [
    "x = np.linspace(-2.5, 2.5, 11)\n",
    "np.piecewise(x, [x < 0, x >= 0], [0, lambda x: x])"
   ]
  },
  {
   "cell_type": "markdown",
   "id": "96223e0e",
   "metadata": {},
   "source": [
    "<a id=\"more_about\"></a>\n",
    "# More about NumPy"
   ]
  },
  {
   "cell_type": "markdown",
   "id": "402f3fb0",
   "metadata": {},
   "source": [
    "Before we end, let us see some details about vectors that are not trivial in python"
   ]
  },
  {
   "cell_type": "code",
   "execution_count": 142,
   "id": "7cdf6422",
   "metadata": {},
   "outputs": [
    {
     "name": "stdout",
     "output_type": "stream",
     "text": [
      "[0.66464971 0.72668894 0.55608941 0.02668631 0.8292094  0.92385566\n",
      " 0.54598207 0.82851543]\n",
      "(8,)\n"
     ]
    }
   ],
   "source": [
    "a=np.random.rand(8)\n",
    "print(a)\n",
    "print(a.shape)"
   ]
  },
  {
   "cell_type": "markdown",
   "id": "75675977",
   "metadata": {},
   "source": [
    "The dimension of this vector is not (8,1) or (1,8), it is (8,) which is called a rank 1 array and it is neither a column nor a raw vector. Let's see the effects"
   ]
  },
  {
   "cell_type": "code",
   "execution_count": 143,
   "id": "2094b869",
   "metadata": {},
   "outputs": [
    {
     "name": "stdout",
     "output_type": "stream",
     "text": [
      "3.805415379223907\n",
      "3.805415379223907\n"
     ]
    }
   ],
   "source": [
    "print(np.dot(a,a.T))\n",
    "print(np.dot(a,a))"
   ]
  },
  {
   "cell_type": "markdown",
   "id": "4b33bf7f",
   "metadata": {},
   "source": [
    "Compare this to "
   ]
  },
  {
   "cell_type": "code",
   "execution_count": 144,
   "id": "462070d4",
   "metadata": {},
   "outputs": [
    {
     "name": "stdout",
     "output_type": "stream",
     "text": [
      "[[5.69413601e-04]\n",
      " [9.90043992e-01]\n",
      " [9.56473022e-01]\n",
      " [2.99874153e-01]\n",
      " [4.00165167e-01]\n",
      " [3.54281379e-01]\n",
      " [8.62244933e-01]\n",
      " [3.50314500e-02]]\n"
     ]
    }
   ],
   "source": [
    "a=np.random.rand(8,1)\n",
    "print(a)"
   ]
  },
  {
   "cell_type": "code",
   "execution_count": 145,
   "id": "28a912f9",
   "metadata": {},
   "outputs": [
    {
     "name": "stdout",
     "output_type": "stream",
     "text": [
      "[[3.24231849e-07 5.63744514e-04 5.44628747e-04 1.70752421e-04\n",
      "  2.27859488e-04 2.01732636e-04 4.90973992e-04 1.99473841e-05]\n",
      " [5.63744514e-04 9.80187106e-01 9.46950368e-01 2.96888603e-01\n",
      "  3.96181119e-01 3.50754151e-01 8.53660415e-01 3.46826766e-02]\n",
      " [5.44628747e-04 9.46950368e-01 9.14840641e-01 2.86821537e-01\n",
      "  3.82747186e-01 3.38860581e-01 8.24714016e-01 3.35066369e-02]\n",
      " [1.70752421e-04 2.96888603e-01 2.86821537e-01 8.99245075e-02\n",
      "  1.19999190e-01 1.06239828e-01 2.58564969e-01 1.05050264e-02]\n",
      " [2.27859488e-04 3.96181119e-01 3.82747186e-01 1.19999190e-01\n",
      "  1.60132161e-01 1.41771067e-01 3.45040387e-01 1.40183660e-02]\n",
      " [2.01732636e-04 3.50754151e-01 3.38860581e-01 1.06239828e-01\n",
      "  1.41771067e-01 1.25515296e-01 3.05477324e-01 1.24109904e-02]\n",
      " [4.90973992e-04 8.53660415e-01 8.24714016e-01 2.58564969e-01\n",
      "  3.45040387e-01 3.05477324e-01 7.43466324e-01 3.02056903e-02]\n",
      " [1.99473841e-05 3.46826766e-02 3.35066369e-02 1.05050264e-02\n",
      "  1.40183660e-02 1.24109904e-02 3.02056903e-02 1.22720249e-03]]\n",
      "(8, 1)\n",
      "[[3.01529356]]\n"
     ]
    }
   ],
   "source": [
    "print(np.dot(a,a.T))\n",
    "print(a.shape)\n",
    "#print(np.dot(a,a))\n",
    "print(np.dot(a.T,a))"
   ]
  },
  {
   "cell_type": "markdown",
   "id": "b993c84c",
   "metadata": {},
   "source": [
    "Therefore, unless you know what you are doing, please keep the definitions of the matrix as (8,1) for example. You can check dimensionality by using assert(a.shape==(8,1)) and you can reshape your vectors as a.reshape((1,8))"
   ]
  },
  {
   "cell_type": "markdown",
   "id": "d332ddfa",
   "metadata": {},
   "source": [
    "This brief overview has touched on many of the important things that you need to know about NumPy, but is far from complete. Check out the [numpy reference](http://docs.scipy.org/doc/numpy/reference/) to find out much more about NumPy."
   ]
  },
  {
   "cell_type": "markdown",
   "id": "74cf9a99",
   "metadata": {},
   "source": [
    "# Acknowledgments and References\n",
    "\n",
    "This Notebook has been adapted by **Guillermo Avendaño** (WVU), **Jose Rogan** (Universidad de Chile) and **Aldo Humberto Romero** (WVU) from the [Tutorials for Stanford cs228 and cs231n](https://github.com/kuleshov/cs228-material). A large part of the info was also built from scratch. In turn, that material was adapted by [Volodymyr Kuleshov](http://web.stanford.edu/~kuleshov/) and [Isaac Caswell](https://symsys.stanford.edu/viewing/symsysaffiliate/21335) from the `CS231n` Python tutorial by Justin Johnson (http://cs231n.github.io/python-numpy-tutorial/). Another good resource, in particular, if you want to just look for the answer to a specific question is [planetpython.org](http:planetpython.org), in particular for data science.\n",
    "\n",
    "Changes to the original tutorial include strict Python 3 formats and a split of the material to fit a series of lessons on Python Programming for WVU's faculty and graduate students."
   ]
  },
  {
   "cell_type": "markdown",
   "id": "783c4f87",
   "metadata": {},
   "source": [
    "# Back of the Notebook"
   ]
  },
  {
   "cell_type": "code",
   "execution_count": 146,
   "id": "f4ccd73d",
   "metadata": {
    "scrolled": true
   },
   "outputs": [
    {
     "data": {
      "image/png": "[encoded data removed]",
      "text/plain": [
       "<Figure size 300x300 with 1 Axes>"
      ]
     },
     "metadata": {},
     "output_type": "display_data"
    }
   ],
   "source": [
    "plt.figure(figsize=(3,3))\n",
    "n = chapter_number\n",
    "maxt=(2*(n-1)+3)*np.pi/2\n",
    "t = np.linspace(np.pi/2, maxt, 1000)\n",
    "tt= 1.0/(t+0.01)\n",
    "x = (maxt-t)*np.cos(t)**3\n",
    "y = t*np.sqrt(np.abs(np.cos(t))) + np.sin(0.3*t)*np.cos(2*t)\n",
    "plt.plot(x, y, c=\"green\")\n",
    "plt.axis('off');"
   ]
  },
  {
   "cell_type": "code",
   "execution_count": 147,
   "id": "14ff5aab",
   "metadata": {},
   "outputs": [
    {
     "name": "stdout",
     "output_type": "stream",
     "text": [
      "Notebook 4 run in 58 seconds\n"
     ]
    }
   ],
   "source": [
    "end = time.time()\n",
    "print(f'Notebook {chapter_number} run in {int(end - start):d} seconds')"
   ]
  }
 ],
 "metadata": {
  "kernelspec": {
   "display_name": "Python 3 (ipykernel)",
   "language": "python",
   "name": "python3"
  },
  "language_info": {
   "codemirror_mode": {
    "name": "ipython",
    "version": 3
   },
   "file_extension": ".py",
   "mimetype": "text/x-python",
   "name": "python",
   "nbconvert_exporter": "python",
   "pygments_lexer": "ipython3",
   "version": "3.9.16"
  }
 },
 "nbformat": 4,
 "nbformat_minor": 5
}
