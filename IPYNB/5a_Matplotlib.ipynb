{
 "cells": [
  {
   "cell_type": "markdown",
   "metadata": {},
   "source": [
    "![Data Science with Python ](./fig/Data_Science_WVCTSI.png)"
   ]
  },
  {
   "cell_type": "markdown",
   "metadata": {
    "id": "TCjORW1m8Zzt"
   },
   "source": [
    "# Scientific Plotting with Matplotlib"
   ]
  },
  {
   "cell_type": "markdown",
   "metadata": {
    "id": "AFrHyBX18tPZ"
   },
   "source": [
    "## 1.&nbsp; Scatter plot"
   ]
  },
  {
   "cell_type": "markdown",
   "metadata": {
    "id": "Gg_6KEk7_y1a"
   },
   "source": [
    "### 1.1 &nbsp; Modules and a nickname\n",
    "We need a specific sub-module named\n",
    "```\n",
    "matplotlib.pyplot\n",
    "```\n",
    "But it's so long to type out! Instead, we nickname it `plt`.\n",
    "\n",
    "We also need NumPy as usual. \n",
    "\n",
    "Execute the cell. "
   ]
  },
  {
   "cell_type": "code",
   "execution_count": null,
   "metadata": {
    "id": "as17CI79vcAs"
   },
   "outputs": [],
   "source": [
    "import matplotlib.pyplot as plt\n",
    "import numpy"
   ]
  },
  {
   "cell_type": "markdown",
   "metadata": {
    "id": "zCqNN8bAASz6"
   },
   "source": [
    "### 1.2 &nbsp; Example Data\n",
    "Use the numpy function `linspace` to generate a simple array of increasing integers. \n",
    "\n",
    "Execute the cell to set up two arrays. "
   ]
  },
  {
   "cell_type": "code",
   "execution_count": null,
   "metadata": {
    "id": "ybVn1A8Qv2uz"
   },
   "outputs": [],
   "source": [
    "x = numpy.linspace(0, 5, 10)\n",
    "y = x ** 2"
   ]
  },
  {
   "cell_type": "code",
   "execution_count": null,
   "metadata": {
    "id": "M9zEzKB7pM_N"
   },
   "outputs": [],
   "source": [
    "print(x)\n",
    "print(y)"
   ]
  },
  {
   "cell_type": "markdown",
   "metadata": {
    "id": "M4Mnlu3bAjuM"
   },
   "source": [
    "### 1.3 &nbsp; Example figure\n",
    "\n",
    "Read and execute the cell to set up some common figure parameters. \n",
    "\n",
    "This plot is the example data from above. "
   ]
  },
  {
   "cell_type": "code",
   "execution_count": null,
   "metadata": {
    "id": "uNGgY6BIv7aD"
   },
   "outputs": [],
   "source": [
    "# demo how it will look like when change the parameters\n",
    "plt.scatter(x, y, s=64, c='red', marker='P')\n",
    "plt.scatter(x, -y, s=64, c='blue', marker='$q$') \n",
    "plt.title(\"title\")\n",
    "plt.xlabel(\"x-label\")\n",
    "plt.ylabel(\"y-label\")"
   ]
  },
  {
   "cell_type": "markdown",
   "metadata": {
    "id": "F9LtqNtU2ddk"
   },
   "source": [
    "### 1.4 &nbsp; Exercise\n",
    "Create a scatter plot with data `x` and `y`. \n",
    "\n",
    "Task 1: Set the marker size to be 6 points, the color to be blue, and the symbol to be star.\n",
    "\n",
    "Task 2: set the x label to be 'side length', the y label to be 'area', and the title to be 'square area'.\n",
    "\n",
    "\n",
    "Use the cell below to get started. Please create any more cells if you need and execute the cells after coding"
   ]
  },
  {
   "cell_type": "code",
   "execution_count": null,
   "metadata": {
    "id": "wZ07hYD3w5qS"
   },
   "outputs": [],
   "source": [
    "# write your code here\n"
   ]
  },
  {
   "cell_type": "markdown",
   "metadata": {
    "id": "Z-WO9OeBIpLV"
   },
   "source": [
    "<details><summary><p style=\"padding: 10px; border: 2px solid;\"><big>Click here to see solution</big></p></summary>\n",
    "<p>\n",
    "    \n",
    "```\n",
    "plt.scatter(x, y, s=36, c='blue', marker='*') \n",
    "plt.title(\"square area\")\n",
    "plt.xlabel(\"side length\")\n",
    "plt.ylabel(\"area\")\n",
    "```\n",
    "</p>\n",
    "</details>"
   ]
  },
  {
   "cell_type": "markdown",
   "metadata": {
    "id": "Mfmb7G9N_tNr"
   },
   "source": [
    "## 2.&nbsp; Line plot"
   ]
  },
  {
   "cell_type": "markdown",
   "metadata": {
    "id": "4Y6tgDWxifZI"
   },
   "source": [
    "### 2.1 &nbsp; Example figure\n",
    "\n",
    "Read and execute the cell to set up some common figure parameters. \n",
    "\n",
    "This plot is the example data from above. "
   ]
  },
  {
   "cell_type": "code",
   "execution_count": null,
   "metadata": {
    "colab": {
     "base_uri": "https://localhost:8080/",
     "height": 313
    },
    "id": "vj-VHlQKFigL",
    "outputId": "7188fe55-8872-4689-d997-2003759540c6"
   },
   "outputs": [],
   "source": [
    "# demo how it will look like when change the parameters\n",
    "plt.plot(x, y, color='red', linestyle='dotted', linewidth=2)\n",
    "# plt.plot(x, y, color='red', linestyle='solid',linewidth=4)\n",
    "# plt.plot(x, y, color='red', linestyle=(0, (2, 2)), linewidth=4)   \n",
    "plt.title(\"title\")\n",
    "plt.xlabel(\"x-label\")\n",
    "plt.ylabel(\"y-label\")"
   ]
  },
  {
   "cell_type": "markdown",
   "metadata": {
    "id": "94o73PLjFigL"
   },
   "source": [
    "### 2.2 &nbsp; Exercise\n",
    "Create a line plot with data `x` and `y`. \n",
    "\n",
    "Task 1: Set the `linestyle` to be dashdot, and `linewidth` to be 2\n",
    "\n",
    "Task 2: set the x label to be 'side length', the y label to be 'area', and the title to be 'square area'.\n",
    "\n",
    "\n",
    "Use the cell below to get started. Please create any more cells if you need and execute the cells after coding"
   ]
  },
  {
   "cell_type": "code",
   "execution_count": null,
   "metadata": {
    "id": "0QSV3BkxFigL"
   },
   "outputs": [],
   "source": [
    "# write your code here\n"
   ]
  },
  {
   "cell_type": "markdown",
   "metadata": {
    "id": "6H9W1KPlJUBe"
   },
   "source": [
    "<details><summary><p style=\"padding: 10px; border: 2px solid;\"><big>Click here to see solution</big></p></summary>\n",
    "<p>\n",
    "\n",
    "    \n",
    "```\n",
    "plt.plot(x, y, color='red', linestyle='dashdot',linewidth=2)  \n",
    "plt.title(\"square area\")\n",
    "plt.xlabel(\"side length\")\n",
    "plt.ylabel(\"area\")\n",
    "```\n",
    "</p>\n",
    "</details>"
   ]
  },
  {
   "cell_type": "markdown",
   "metadata": {
    "id": "zfapaWB1Gr0c"
   },
   "source": [
    "## 3.&nbsp; Subplot"
   ]
  },
  {
   "cell_type": "markdown",
   "metadata": {
    "id": "AY4OVWaPHLm2"
   },
   "source": [
    "### 3.1 &nbsp; Example figure\n",
    "\n",
    "This plot is the example data from above, with the same parameters we have seen before. "
   ]
  },
  {
   "cell_type": "code",
   "execution_count": null,
   "metadata": {
    "colab": {
     "base_uri": "https://localhost:8080/",
     "height": 313
    },
    "id": "b4N0FPfmHLm2",
    "outputId": "fabac3a1-eb3a-43ca-ec95-17a922cc1490"
   },
   "outputs": [],
   "source": [
    "# demo how it will look like when change the parameters\n",
    "# plt.plot(x, y, linestyle='dotted', color='red', linewidth=4)\n",
    "plt.plot(x, y, color='red', linestyle='solid',linewidth=4)  \n",
    "plt.title(\"title\")\n",
    "plt.xlabel(\"x-label\")\n",
    "plt.ylabel(\"y-label\")"
   ]
  },
  {
   "cell_type": "markdown",
   "metadata": {
    "id": "oroD9nTrQVJv"
   },
   "source": [
    "### 3.2 &nbsp; A figure with only one subplot"
   ]
  },
  {
   "cell_type": "code",
   "execution_count": null,
   "metadata": {
    "id": "VHXT3oqZOtn3"
   },
   "outputs": [],
   "source": [
    "# subplots() without arguments returns a Figure and a single Axes.\n",
    "# the simplest and recommended way of creating a single Figure and Axes.\n",
    "fig, ax = plt.subplots()\n",
    "ax.plot(x, y, color='red', linestyle='solid',linewidth=4)\n",
    "ax.set_title('one single plot')\n",
    "ax.set_xlabel(\"x-label\")\n",
    "ax.set_ylabel(\"y-label\")"
   ]
  },
  {
   "cell_type": "markdown",
   "metadata": {
    "id": "GHxm6_b3QTgn"
   },
   "source": [
    "### 3.3 &nbsp;  A figure with multiple subplots in vertical direction"
   ]
  },
  {
   "cell_type": "code",
   "execution_count": null,
   "metadata": {
    "id": "Y_DgBEvvQ8jP"
   },
   "outputs": [],
   "source": [
    "# When the subplots are stacked in one direction only, \n",
    "# the returned axs is a 1D numpy array containing the list of created Axes.\n",
    "fig, axs = plt.subplots(2, 1)\n",
    "fig.suptitle('Subplots in vertical direction')\n",
    "axs[0].plot(x, y, color='red', linestyle='solid',linewidth=2)\n",
    "axs[1].plot(x, -y, color='blue', linestyle='dotted',linewidth=2)"
   ]
  },
  {
   "cell_type": "markdown",
   "metadata": {
    "id": "qBn1nBNwV5gQ"
   },
   "source": [
    "### 3.4 &nbsp; A figure with multiple subplots in horizontal direction"
   ]
  },
  {
   "cell_type": "code",
   "execution_count": null,
   "metadata": {
    "id": "OyChAOM6V851"
   },
   "outputs": [],
   "source": [
    "# When the subplots are stacked in one direction only, \n",
    "# the returned axs is a 1D numpy array containing the list of created Axes.\n",
    "fig, axs = plt.subplots(1, 2)\n",
    "fig.suptitle('Subplots in horizontal direction')\n",
    "axs[0].plot(x, y, color='red', linestyle='solid',linewidth=2)\n",
    "axs[1].plot(x, -y, color='red', linestyle='solid',linewidth=2)"
   ]
  },
  {
   "cell_type": "markdown",
   "metadata": {
    "id": "HoFpvb0dWsrU"
   },
   "source": [
    "### 3.5 &nbsp;  A figure with multiple subplots in two directions\n",
    "\n",
    "savefig(): Save the current figure"
   ]
  },
  {
   "cell_type": "code",
   "execution_count": null,
   "metadata": {
    "id": "Cbu0nWtwWheO"
   },
   "outputs": [],
   "source": [
    "# When stacking in two directions, the returned axs is a 2D NumPy array.\n",
    "fig, axs = plt.subplots(2, 2)\n",
    "axs[0, 0].plot(x, y, color='blue')\n",
    "axs[0, 0].set_title('[0, 0]')\n",
    "axs[0, 1].plot(x, y, color='orange')\n",
    "axs[0, 1].set_title('[0, 1]')\n",
    "axs[1, 0].plot(x, -y, color='green')\n",
    "axs[1, 0].set_title('[1, 0]')\n",
    "axs[1, 1].plot(x, -y, color='red')\n",
    "axs[1, 1].set_title('[1, 1]')\n",
    "\n",
    "# If you have to set parameters for each subplot, it's handy to \n",
    "# iterate over all subplots in a 2D grid using for ax in axs.flat:\n",
    "# 1-D iterator over the array of subplots\n",
    "for ax in axs.flat:\n",
    "    ax.set(xlabel='x-label', ylabel='y-label')\n",
    "\n",
    "# Hide x labels and tick labels for top plots and y ticks for right plots.\n",
    "for ax in axs.flat:\n",
    "    ax.label_outer()\n",
    "\n",
    "fig.savefig('subplots.jpeg', dpi=600)"
   ]
  },
  {
   "cell_type": "markdown",
   "metadata": {
    "id": "xFELt6bbHLm_"
   },
   "source": [
    "### 3.6 &nbsp;  Exercise\n",
    "Create a 2 $\\times$ 3 subplot with data `x` and `y`. \n",
    "\n",
    "Task 1: different colors for lines\n",
    "\n",
    "Task 2: give each subplot a title. use label_outer()\n",
    "\n",
    "\n",
    "Use the cell below to get started. Please create any more cells if you need and execute the cells after coding"
   ]
  },
  {
   "cell_type": "code",
   "execution_count": null,
   "metadata": {
    "id": "FE-X3MM0HLm_"
   },
   "outputs": [],
   "source": [
    "# write your code here\n"
   ]
  },
  {
   "cell_type": "markdown",
   "metadata": {
    "id": "-LRCxG1DJiJ8"
   },
   "source": [
    "<details><summary><p style=\"padding: 10px; border: 2px solid;\"><big>Click here to see solution</big></p></summary>\n",
    "<p>\n",
    "\n",
    "    \n",
    "```\n",
    "fig, axs = plt.subplots(2, 3)\n",
    "axs[0, 0].plot(x, y, color='blue')\n",
    "axs[0, 0].set_title('[0, 0]')\n",
    "axs[0, 1].plot(x, y, color='orange')\n",
    "axs[0, 1].set_title('[0, 1]')\n",
    "axs[0, 2].plot(x, y, color='purple')\n",
    "axs[0, 2].set_title('[0, 2]')\n",
    "axs[1, 0].plot(x, -y, color='green')\n",
    "axs[1, 0].set_title('[1, 0]')\n",
    "axs[1, 1].plot(x, -y, color='red')\n",
    "axs[1, 1].set_title('[1, 1]')\n",
    "axs[1, 2].plot(x, -y, color='cyan')\n",
    "axs[1, 2].set_title('[1, 2]')\n",
    "\n",
    "# If you have to set parameters for each subplot it's handy to \n",
    "# iterate over all subplots in a 2D grid using for ax in axs.flat:\n",
    "# 1-D iterator over the array of subplots\n",
    "for ax in axs.flat:\n",
    "    ax.set(xlabel='x-label', ylabel='y-label')\n",
    "\n",
    "# Hide x labels and tick labels for top plots and y ticks for right plots.\n",
    "for ax in axs.flat:\n",
    "    ax.label_outer()\n",
    "```\n",
    "</p>\n",
    "</details>"
   ]
  },
  {
   "cell_type": "markdown",
   "metadata": {
    "id": "HW9qSD87IiMJ"
   },
   "source": [
    "## 4.&nbsp; Colormaps "
   ]
  },
  {
   "cell_type": "markdown",
   "metadata": {
    "id": "V25T73JidjOO"
   },
   "source": [
    "### 4.1 &nbsp;  Example Data\n"
   ]
  },
  {
   "cell_type": "markdown",
   "metadata": {
    "id": "7-PGilEkfoME"
   },
   "source": [
    "We will be drawing color maps with the data generated from a flux qubits potential function."
   ]
  },
  {
   "cell_type": "code",
   "execution_count": null,
   "metadata": {
    "id": "v1lv_0hdf6RM"
   },
   "outputs": [],
   "source": [
    "import numpy as np\n",
    "\n",
    "alpha = 0.7\n",
    "phi_ext = 2 * np.pi * 0.5\n",
    "\n",
    "def flux_qubit_potential(phi_m, phi_p):\n",
    "    return 2 + alpha - 2 * np.cos(phi_p) * np.cos(phi_m) - alpha * np.cos(phi_ext - 2*phi_p)"
   ]
  },
  {
   "cell_type": "markdown",
   "metadata": {
    "id": "jLmG3qseduw-"
   },
   "source": [
    "Some steps to create a 2D array of values for plotting. \n",
    "\n",
    "1. Use the numpy function `linspace` to generate two simple arrays of increasing angles.\n",
    "\n",
    "2. Use the numpy function `meshgrid` to combine the arrays into a 2D grid. \n",
    "\n",
    "3. Use the flux qubit potential function to assign a value to each point in the grid. \n",
    "\n",
    "Execute the cell."
   ]
  },
  {
   "cell_type": "code",
   "execution_count": null,
   "metadata": {
    "id": "q3U2Ta31djOP"
   },
   "outputs": [],
   "source": [
    "phi_m = np.linspace(0, 2*np.pi, 100)\n",
    "phi_p = np.linspace(0, 2*np.pi, 100)\n",
    "X,Y = np.meshgrid(phi_p, phi_m)\n",
    "Z = flux_qubit_potential(X, Y).T"
   ]
  },
  {
   "cell_type": "markdown",
   "metadata": {
    "id": "IWw9b_n5nMuN"
   },
   "source": [
    "### 4.2 &nbsp;   2D Plots\n",
    "Three different ways to draw a map of a 2D array of values. \n",
    "* pcolor\n",
    "* imshow\n",
    "* contour"
   ]
  },
  {
   "cell_type": "markdown",
   "metadata": {
    "id": "UjYIsCYgkj2T"
   },
   "source": [
    "#### pcolor"
   ]
  },
  {
   "cell_type": "code",
   "execution_count": null,
   "metadata": {
    "id": "eq3QV1uBkn5N"
   },
   "outputs": [],
   "source": [
    "fig, ax = plt.subplots()\n",
    "\n",
    "p = ax.pcolor(X/(2*np.pi), Y/(2*np.pi), Z, vmin=abs(Z).min(), vmax=abs(Z).max(), shading=\"auto\")\n",
    "cb = fig.colorbar(p, ax=ax)"
   ]
  },
  {
   "cell_type": "markdown",
   "metadata": {
    "id": "o2RAiobYkzUA"
   },
   "source": [
    "#### imshow"
   ]
  },
  {
   "cell_type": "code",
   "execution_count": null,
   "metadata": {
    "id": "ada6UGJbk1sm"
   },
   "outputs": [],
   "source": [
    "fig, ax = plt.subplots()\n",
    "\n",
    "im = ax.imshow(Z,  vmin=abs(Z).min(), vmax=abs(Z).max(), extent=[0, 1, 0, 1])\n",
    "im.set_interpolation('bilinear')\n",
    "\n",
    "cb = fig.colorbar(im, ax=ax)"
   ]
  },
  {
   "cell_type": "markdown",
   "metadata": {
    "id": "b1QiPXTOlAQH"
   },
   "source": [
    "#### contour"
   ]
  },
  {
   "cell_type": "code",
   "execution_count": null,
   "metadata": {
    "id": "UblOmamhlBdg"
   },
   "outputs": [],
   "source": [
    "fig, ax = plt.subplots()\n",
    "\n",
    "cnt = ax.contour(Z, vmin=abs(Z).min(), vmax=abs(Z).max(), extent=[0, 1, 0, 1])"
   ]
  },
  {
   "cell_type": "markdown",
   "metadata": {
    "id": "TH0xIPQ-lRnZ"
   },
   "source": [
    "### 4.3 &nbsp; 3D figures\n",
    "\n",
    "To use 3D graphics in matplotlib, we first need to create an instance of the `Axes3D` class. 3D axes can be added to a matplotlib figure canvas in exactly the same way as 2D axes; or, more conveniently, by passing a `projection='3d'` keyword argument to the `add_axes` or `add_subplot` methods."
   ]
  },
  {
   "cell_type": "code",
   "execution_count": null,
   "metadata": {
    "id": "h5BOZtShliT8"
   },
   "outputs": [],
   "source": [
    "from mpl_toolkits.mplot3d.axes3d import Axes3D"
   ]
  },
  {
   "cell_type": "markdown",
   "metadata": {
    "id": "Z00k7FTClnIs"
   },
   "source": [
    "#### Surface plots"
   ]
  },
  {
   "cell_type": "code",
   "execution_count": null,
   "metadata": {
    "id": "-pTCg-1-lqf3"
   },
   "outputs": [],
   "source": [
    "fig = plt.figure(figsize=(14,6))\n",
    "\n",
    "# `ax` is a 3D-aware axis instance because of the projection='3d' keyword argument to add_subplot\n",
    "ax = fig.add_subplot(1, 2, 1, projection='3d')\n",
    "\n",
    "p = ax.plot_surface(X, Y, Z, rstride=4, cstride=4, linewidth=10)\n",
    "\n",
    "# surface_plot with color grading and color bar\n",
    "ax = fig.add_subplot(1, 2, 2, projection='3d')\n",
    "p = ax.plot_surface(X, Y, Z, rstride=10, cstride=10, linewidth=10)\n",
    "cb = fig.colorbar(p, shrink=0.5)"
   ]
  },
  {
   "cell_type": "markdown",
   "metadata": {
    "id": "Hq_P8IDyl4i1"
   },
   "source": [
    "#### Wire-frame plot"
   ]
  },
  {
   "cell_type": "code",
   "execution_count": null,
   "metadata": {
    "id": "LsFFAdFbl8GZ"
   },
   "outputs": [],
   "source": [
    "fig = plt.figure(figsize=(8,6))\n",
    "\n",
    "ax = fig.add_subplot(1, 1, 1, projection='3d')\n",
    "\n",
    "p = ax.plot_wireframe(X, Y, Z, rstride=4, cstride=4)"
   ]
  },
  {
   "cell_type": "markdown",
   "metadata": {
    "id": "vdpoLZq5mGFV"
   },
   "source": [
    "#### Coutour plots with projections"
   ]
  },
  {
   "cell_type": "code",
   "execution_count": null,
   "metadata": {
    "id": "-qlM1D1zmFua"
   },
   "outputs": [],
   "source": [
    "fig = plt.figure(figsize=(8,6))\n",
    "\n",
    "ax = fig.add_subplot(1,1,1, projection='3d')\n",
    "\n",
    "ax.plot_surface(X, Y, Z, rstride=4, cstride=4, alpha=0.25)\n",
    "cset = ax.contour(X, Y, Z, zdir='z', offset=-np.pi)\n",
    "cset = ax.contour(X, Y, Z, zdir='x', offset=-np.pi)\n",
    "cset = ax.contour(X, Y, Z, zdir='y', offset=3*np.pi)\n",
    "\n",
    "ax.set_xlim3d(-np.pi, 2*np.pi);\n",
    "ax.set_ylim3d(0, 3*np.pi);\n",
    "ax.set_zlim3d(-np.pi, 2*np.pi);"
   ]
  },
  {
   "cell_type": "code",
   "execution_count": null,
   "metadata": {},
   "outputs": [],
   "source": []
  }
 ],
 "metadata": {
  "colab": {
   "provenance": [],
   "toc_visible": true
  },
  "kernelspec": {
   "display_name": "Python 3 (ipykernel)",
   "language": "python",
   "name": "python3"
  },
  "language_info": {
   "codemirror_mode": {
    "name": "ipython",
    "version": 3
   },
   "file_extension": ".py",
   "mimetype": "text/x-python",
   "name": "python",
   "nbconvert_exporter": "python",
   "pygments_lexer": "ipython3",
   "version": "3.9.16"
  }
 },
 "nbformat": 4,
 "nbformat_minor": 4
}
