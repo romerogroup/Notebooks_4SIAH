{
 "cells": [
  {
   "cell_type": "markdown",
   "metadata": {},
   "source": [
    "![Data Science with Python ](./fig/Data_Science_WVCTSI.png)"
   ]
  },
  {
   "cell_type": "markdown",
   "metadata": {
    "id": "MNiBN7s-Lng0"
   },
   "source": [
    "# Data Analysis with Pandas"
   ]
  },
  {
   "cell_type": "code",
   "execution_count": null,
   "metadata": {
    "id": "7vOBaPOZ6R_j"
   },
   "outputs": [],
   "source": [
    "import pandas as pd\n",
    "from pandas import Series"
   ]
  },
  {
   "cell_type": "markdown",
   "metadata": {
    "id": "zff5wabQL_F8"
   },
   "source": [
    "## 1.&nbsp; Series\n",
    "\n",
    "A Series is a one-dimensional array-like object containing an array of data and an associated array of data labels.  The data can be any NumPy data type and the labels are the Series' index."
   ]
  },
  {
   "cell_type": "markdown",
   "metadata": {
    "id": "uNY4vtdbL_F9"
   },
   "source": [
    "### 1.1 &nbsp; Create a Series\n",
    "\n",
    "Let's create a series from a python list."
   ]
  },
  {
   "cell_type": "code",
   "execution_count": null,
   "metadata": {
    "collapsed": false,
    "id": "chPTf78bL_F9",
    "jupyter": {
     "outputs_hidden": false
    }
   },
   "outputs": [],
   "source": [
    "ser_1 = Series([1, 1, 2, -3, -5, 8, 13])\n",
    "ser_1"
   ]
  },
  {
   "cell_type": "markdown",
   "metadata": {
    "id": "fz-ap55gL_F9"
   },
   "source": [
    "### 1.2 &nbsp; Get values and index of the series\n",
    "\n",
    "Get the array representation of a Series:"
   ]
  },
  {
   "cell_type": "code",
   "execution_count": null,
   "metadata": {
    "collapsed": false,
    "id": "Dvri5-O7L_F9",
    "jupyter": {
     "outputs_hidden": false
    }
   },
   "outputs": [],
   "source": [
    "ser_1.values"
   ]
  },
  {
   "cell_type": "markdown",
   "metadata": {
    "id": "Np_JqsmiL_F9"
   },
   "source": [
    "Get the index of the Series:"
   ]
  },
  {
   "cell_type": "code",
   "execution_count": null,
   "metadata": {
    "collapsed": false,
    "id": "Its3fURtL_F9",
    "jupyter": {
     "outputs_hidden": false
    }
   },
   "outputs": [],
   "source": [
    "ser_1.index"
   ]
  },
  {
   "cell_type": "markdown",
   "metadata": {
    "id": "L3tekge9L_F-"
   },
   "source": [
    "Create a Series with a custom index:"
   ]
  },
  {
   "cell_type": "code",
   "execution_count": null,
   "metadata": {
    "collapsed": false,
    "id": "qCDRE79aL_F-",
    "jupyter": {
     "outputs_hidden": false
    }
   },
   "outputs": [],
   "source": [
    "ser_2 = Series([1, 1, 2, -3, -5], index=['a', 'b', 'c', 'd', 'e'])\n",
    "ser_2"
   ]
  },
  {
   "cell_type": "markdown",
   "metadata": {
    "id": "aTFGubkaL_F-"
   },
   "source": [
    "Get a value from a Series:"
   ]
  },
  {
   "cell_type": "code",
   "execution_count": null,
   "metadata": {
    "collapsed": false,
    "id": "yK76-tf2L_F-",
    "jupyter": {
     "outputs_hidden": false
    }
   },
   "outputs": [],
   "source": [
    "ser_2[4]"
   ]
  },
  {
   "cell_type": "code",
   "execution_count": null,
   "metadata": {
    "id": "1Hqu8AdOa3ON"
   },
   "outputs": [],
   "source": [
    "ser_2['e']"
   ]
  },
  {
   "cell_type": "code",
   "execution_count": null,
   "metadata": {
    "id": "TA92x-ej2ta8"
   },
   "outputs": [],
   "source": [
    "ser_2[4] == ser_2['e']"
   ]
  },
  {
   "cell_type": "markdown",
   "metadata": {
    "id": "4z0lpmNpL_F-"
   },
   "source": [
    "Get a set of values from a Series by passing in a list:"
   ]
  },
  {
   "cell_type": "code",
   "execution_count": null,
   "metadata": {
    "id": "ueqB6ghM29Az"
   },
   "outputs": [],
   "source": [
    "ser_2"
   ]
  },
  {
   "cell_type": "code",
   "execution_count": null,
   "metadata": {
    "collapsed": false,
    "id": "zChyei2rL_F-",
    "jupyter": {
     "outputs_hidden": false
    }
   },
   "outputs": [],
   "source": [
    "ser_2[['a', 'c', 'b']]"
   ]
  },
  {
   "cell_type": "markdown",
   "metadata": {
    "id": "_yYN4T8lL_F_"
   },
   "source": [
    "Get values great than 0:"
   ]
  },
  {
   "cell_type": "code",
   "execution_count": null,
   "metadata": {
    "collapsed": false,
    "id": "1CaoBAJoL_F_",
    "jupyter": {
     "outputs_hidden": false
    }
   },
   "outputs": [],
   "source": [
    "ser_2[ser_2 > 0]"
   ]
  },
  {
   "cell_type": "code",
   "execution_count": null,
   "metadata": {
    "id": "S7_vzlYuvDn7"
   },
   "outputs": [],
   "source": [
    "ser_2 > 0"
   ]
  },
  {
   "cell_type": "markdown",
   "metadata": {
    "id": "lAacOx3Hiyci"
   },
   "source": [
    "#### Exercise 1\n",
    "\n",
    "Use the code cell below to create a series. The index of the series are the names of the months and the values of the series are the numbers of days in the corresponding months in 2022."
   ]
  },
  {
   "cell_type": "markdown",
   "metadata": {
    "id": "iJ-0GiEh9ugy"
   },
   "source": [
    "<table>\n",
    "  <tr>\n",
    "    <td>January</td>\n",
    "    <td>31</td>\n",
    "  </tr>\n",
    "  <tr>\n",
    "    <td>Feburary</td>\n",
    "    <td>28</td>\n",
    "  </tr>\n",
    "  <tr>\n",
    "    <td>March</td>\n",
    "    <td>31</td>\n",
    "  </tr>\n",
    "  <tr>\n",
    "    <td>April</td>\n",
    "    <td>30</td>\n",
    "  </tr>\n",
    "  <tr>\n",
    "    <td>May</td>\n",
    "    <td>31</td>\n",
    "  </tr>\n",
    "  <tr>\n",
    "    <td>June</td>\n",
    "    <td>30</td>\n",
    "  </tr>\n",
    "  <tr>\n",
    "    <td>July</td>\n",
    "    <td>31</td>\n",
    "  </tr>\n",
    "  <tr>\n",
    "    <td>August</td>\n",
    "    <td>31</td>\n",
    "  </tr>\n",
    "  <tr>\n",
    "    <td>September</td>\n",
    "    <td>30</td>\n",
    "  </tr>\n",
    "  <tr>\n",
    "    <td>October</td>\n",
    "    <td>31</td>\n",
    "  </tr>\n",
    "  <tr>\n",
    "    <td>November</td>\n",
    "    <td>30</td>\n",
    "  </tr>\n",
    "  <tr>\n",
    "    <td>December</td>\n",
    "    <td>31</td>\n",
    "  </tr>\n",
    "</table>"
   ]
  },
  {
   "cell_type": "code",
   "execution_count": null,
   "metadata": {
    "id": "8pugeKAHjNlT"
   },
   "outputs": [],
   "source": [
    "# write your code here\n"
   ]
  },
  {
   "cell_type": "markdown",
   "metadata": {
    "id": "u3Qs7KkYVrSb"
   },
   "source": [
    "<details><summary><p style=\"padding: 10px; border: 2px solid;\"><big>Click here to see solution</big></p></summary>\n",
    "<p>\n",
    "\n",
    "    \n",
    "```\n",
    "month_day = Series([31, 28, 31, 30, 31, 30, 31, 31, 30, 31, 30, 31], index=['January', 'February', 'March', 'April', 'May', 'June', 'July', 'August', 'September', 'October', 'November', 'December'])\n",
    "month_day\n",
    "```\n",
    "</p>\n",
    "</details>"
   ]
  },
  {
   "cell_type": "markdown",
   "metadata": {
    "id": "mZVjTeTLU9Sd"
   },
   "source": [
    "## 2.&nbsp; DataFrame\n",
    "\n",
    "A **DataFrame** is a tabular data structure containing an ordered collection of columns. Each column can have a different type. DataFrames have both row and column indices.\n",
    "\n",
    "\n",
    "First, let's import the required libraries"
   ]
  },
  {
   "cell_type": "code",
   "execution_count": null,
   "metadata": {
    "id": "Dy6Z4kB3K7fC"
   },
   "outputs": [],
   "source": [
    "# import pandas as pd\n",
    "from pandas import DataFrame\n",
    "import numpy as np"
   ]
  },
  {
   "cell_type": "markdown",
   "metadata": {
    "id": "VoNwxDuViRES"
   },
   "source": [
    "### 2.1 &nbsp; Create a DataFrame:\n",
    "Next, we will create a DataFrame from a python dictionary data structure. Dictionaries are used to store data values in key:value pairs. They are written with curly brackets, and have keys and values\n",
    "\n",
    "\n",
    "```\n",
    "car_dict = {\n",
    "  \"brand\": \"Ford\",\n",
    "  \"model\": \"Mustang\",\n",
    "  \"year\": 1964\n",
    "}\n",
    "```\n",
    "\n",
    "\n",
    "\n",
    "\n",
    "\n",
    "\n"
   ]
  },
  {
   "cell_type": "markdown",
   "metadata": {
    "id": "Ixn0RZvWk-Zm"
   },
   "source": [
    "Now, let's create a dictionary with the populations of two states in different years and pass it into ***DataFrame( )*** to create a DataFrame."
   ]
  },
  {
   "cell_type": "code",
   "execution_count": null,
   "metadata": {
    "id": "aW18BI1YLFMC"
   },
   "outputs": [],
   "source": [
    "data_1 = {'state' : ['VA', 'VA', 'VA', 'MD', 'MD'],\n",
    "          'year' : [2012, 2013, 2014, 2014, 2015],\n",
    "          'pop' : [5.0, 5.1, 5.2, 4.0, 4.1]}\n",
    "df_1 = DataFrame(data_1)\n",
    "df_1"
   ]
  },
  {
   "cell_type": "code",
   "execution_count": null,
   "metadata": {
    "id": "xbsBnLyRKGmp"
   },
   "outputs": [],
   "source": [
    "type(df_1)"
   ]
  },
  {
   "cell_type": "markdown",
   "metadata": {
    "id": "FPgATYnx1pMF"
   },
   "source": [
    "#### Exercise 2\n",
    "Create a DataFrame based on the table below including four columns: Country, Continent, GDP, Population. Name it as `nation_economics`.\n",
    "\n",
    "Use the cell below to get started. Please create any more cells if you need and execute the cells after coding"
   ]
  },
  {
   "cell_type": "markdown",
   "metadata": {
    "id": "qpH96yLB09sn"
   },
   "source": [
    "<table>\n",
    " <tr>\n",
    "    <th>Country</th>\n",
    "    <th>Continent</th>\n",
    "    <th>GDP (Billion dollars)</th>\n",
    "    <th>Population (Millions)</th>\n",
    "  </tr>\n",
    "  <tr>\n",
    "    <td>United States</td>\n",
    "    <td>America</td>\n",
    "    <td>18624.5</td>\n",
    "    <td>332.9</td>\n",
    "  </tr>\n",
    "  <tr>\n",
    "    <td>China</td>\n",
    "    <td>Asia</td>\n",
    "    <td>11218.3\t</td>\n",
    "    <td>1444.2</td>\n",
    "  </tr>\n",
    "  <tr>\n",
    "    <td>Japan</td>\n",
    "    <td>Asia</td>\n",
    "    <td>4936.2</td>\n",
    "    <td>126.1</td>\n",
    "  </tr>\n",
    "  <tr>\n",
    "    <td>Germany</td>\n",
    "    <td>Europe</td>\n",
    "    <td>3477.8</td>\n",
    "    <td>83.9</td>\n",
    "  </tr>\n",
    "</table>"
   ]
  },
  {
   "cell_type": "code",
   "execution_count": null,
   "metadata": {
    "id": "8sfqtisi2Nlx"
   },
   "outputs": [],
   "source": [
    "# write your code here\n"
   ]
  },
  {
   "cell_type": "markdown",
   "metadata": {
    "id": "cvSyCbDEV7Yd"
   },
   "source": [
    "<details><summary><p style=\"padding: 10px; border: 2px solid;\"><big>Click here to see solution</big></p></summary>\n",
    "<p>\n",
    "\n",
    "    \n",
    "```\n",
    "data = {\n",
    "    'Country': ['United States','China', 'Japan', 'Germany'],\n",
    "    'Continent': ['America', 'Asia', 'Asia', 'Europe'],\n",
    "    'GDP (Billion dollars)': [18624.5, 11218.3, 4936.2, 3477.8],\n",
    "    'Population (Millions)': [332.9, 1444.2, 126.1, 83.9],\n",
    "}\n",
    "\n",
    "nation_economics = pd.DataFrame(data)\n",
    "nation_economics\n",
    "```\n",
    "</p>\n",
    "</details>"
   ]
  },
  {
   "cell_type": "markdown",
   "metadata": {
    "id": "zlpV4ShlMV5W"
   },
   "source": [
    "### 2.2 &nbsp; Create a DataFrame specifying a sequence of columns:\n",
    "\n",
    "we can specify the sequence of columns by reordering the column names in the ***columns*** parameter.\n",
    "\n",
    "Feel free to change the order of the columns in the code cell below."
   ]
  },
  {
   "cell_type": "code",
   "execution_count": null,
   "metadata": {
    "id": "0s96TaMfLe3-"
   },
   "outputs": [],
   "source": [
    "df_2 = DataFrame(data_1, columns=['year', 'state', 'pop'])\n",
    "df_2"
   ]
  },
  {
   "cell_type": "code",
   "execution_count": null,
   "metadata": {
    "id": "tiXCFx6FQMlZ"
   },
   "outputs": [],
   "source": [
    "df_21 = DataFrame(data_1, columns=['pop','year', 'state'])\n",
    "df_21"
   ]
  },
  {
   "cell_type": "markdown",
   "metadata": {
    "id": "SzUm1_bwM73e"
   },
   "source": [
    "### 2.3 &nbsp; Add a new column in the DataFrame\n",
    "For example, we want to add a column called ***unempl*** indicating the unemployment rate. There is no data in this column. It will show NaN:\n"
   ]
  },
  {
   "cell_type": "code",
   "execution_count": null,
   "metadata": {
    "id": "Q575wjGHMtgv"
   },
   "outputs": [],
   "source": [
    "df_3 = DataFrame(data_1, columns=['year', 'state', 'pop', 'unempl'])\n",
    "df_3"
   ]
  },
  {
   "cell_type": "code",
   "execution_count": null,
   "metadata": {
    "id": "dqedCx012Gs-"
   },
   "outputs": [],
   "source": [
    "df_3.fillna(5.8)"
   ]
  },
  {
   "cell_type": "code",
   "execution_count": null,
   "metadata": {
    "id": "uhtg_Gdp3zAi"
   },
   "outputs": [],
   "source": [
    "unemployment = [5.8, 5.8, 5.8, 4.9, 4.9]\n",
    "df_3['unempl'] = unemployment\n",
    "df_3"
   ]
  },
  {
   "cell_type": "markdown",
   "metadata": {
    "id": "11eNx9PqNR7K"
   },
   "source": [
    "### 2.4 &nbsp; Retrieve a column\n",
    "\n",
    "You can retrieve a column from a DataFrame in two ways:\n",
    "\n",
    "\n",
    "1.   by using square bracket and the column name\n",
    "2.   by using dot notation\n",
    "\n",
    "Please look at the two code cells below and feel free to practice retrieving other columns\n",
    "\n"
   ]
  },
  {
   "cell_type": "code",
   "execution_count": null,
   "metadata": {
    "id": "38Z0qjYxSLP1"
   },
   "outputs": [],
   "source": [
    "df_3"
   ]
  },
  {
   "cell_type": "code",
   "execution_count": null,
   "metadata": {
    "id": "JPoQBHygNFs7"
   },
   "outputs": [],
   "source": [
    "df_3['state']"
   ]
  },
  {
   "cell_type": "code",
   "execution_count": null,
   "metadata": {
    "id": "UFB0zPZLNYq5"
   },
   "outputs": [],
   "source": [
    "df_3.state"
   ]
  },
  {
   "cell_type": "code",
   "execution_count": null,
   "metadata": {
    "id": "hMb8JrOKCOaA"
   },
   "outputs": [],
   "source": [
    "df_3.year"
   ]
  },
  {
   "cell_type": "code",
   "execution_count": null,
   "metadata": {
    "id": "wxiC0L8SBorR"
   },
   "outputs": [],
   "source": [
    "df_3['pop']"
   ]
  },
  {
   "cell_type": "code",
   "execution_count": null,
   "metadata": {
    "id": "kxbG0wbeSYNH"
   },
   "outputs": [],
   "source": [
    "df_3['unempl']"
   ]
  },
  {
   "cell_type": "code",
   "execution_count": null,
   "metadata": {
    "id": "myBNmtHnShff"
   },
   "outputs": [],
   "source": [
    "df_3.unempl"
   ]
  },
  {
   "cell_type": "markdown",
   "metadata": {
    "id": "DYkSyDliUsOG"
   },
   "source": [
    "### 2.5 &nbsp; Retrieve a row\n",
    "\n",
    "We use ***loc*** and ***iloc*** to retrieve a row. ***loc*** is label-based, which means that you have to specify rows and columns based on their row and column labels. ***iloc*** is integer position-based, so you have to specify rows and columns by their integer position values (0-based integer position).\n",
    "\n",
    "Please look at the four code cells below and feel free to practice retrieving other rows"
   ]
  },
  {
   "cell_type": "code",
   "execution_count": null,
   "metadata": {
    "id": "91uzfn1PTI6y"
   },
   "outputs": [],
   "source": [
    "df_3"
   ]
  },
  {
   "cell_type": "code",
   "execution_count": null,
   "metadata": {
    "id": "9Ea-UGJ2Uiml"
   },
   "outputs": [],
   "source": [
    "df_3.iloc[3]"
   ]
  },
  {
   "cell_type": "code",
   "execution_count": null,
   "metadata": {
    "id": "vRu3v5zQVnIV"
   },
   "outputs": [],
   "source": [
    "df_3.iloc[0]"
   ]
  },
  {
   "cell_type": "code",
   "execution_count": null,
   "metadata": {
    "id": "ADacfD1X43kX"
   },
   "outputs": [],
   "source": [
    "df_3.index = ['r1', 'r2', 'r3', 'r4', 'r5']\n",
    "df_3"
   ]
  },
  {
   "cell_type": "code",
   "execution_count": null,
   "metadata": {
    "id": "tAi0PrRhDlPv"
   },
   "outputs": [],
   "source": [
    "df_3.iloc[0]"
   ]
  },
  {
   "cell_type": "code",
   "execution_count": null,
   "metadata": {
    "id": "kcS1TMzl5xmz"
   },
   "outputs": [],
   "source": [
    "df_3.loc['r1']"
   ]
  },
  {
   "cell_type": "code",
   "execution_count": null,
   "metadata": {
    "id": "3hY2u4LRT3Bg"
   },
   "outputs": [],
   "source": [
    "df_3.loc['r2']"
   ]
  },
  {
   "cell_type": "markdown",
   "metadata": {
    "id": "hgwP0DAH4Ciq"
   },
   "source": [
    "#### Exercise 3\n",
    "With the nation_economics DataFrame, please complete the following tasks:\n",
    "\n",
    "* retrieve the column of GDP (Billion dollars) and save it in a variable `gdp`\n",
    "* retrieve the column of Population (Millions) and save it in a variable `popn`\n",
    "* retrieve the row of country `Germany` and save it in a variable `germany`\n",
    "\n",
    "Use the cell below to get started. Please create any more cells if you need and execute the cells after coding"
   ]
  },
  {
   "cell_type": "code",
   "execution_count": null,
   "metadata": {
    "id": "yDcGkYo95ptt"
   },
   "outputs": [],
   "source": [
    "# write your code here\n"
   ]
  },
  {
   "cell_type": "markdown",
   "metadata": {
    "id": "5UEH_lOeGkJt"
   },
   "source": [
    "<details><summary><p style=\"padding: 10px; border: 2px solid;\"><big>Click here to see solution</big></p></summary>\n",
    "<p> \n",
    "    \n",
    "```\n",
    "gdp = nation_economics['GDP (Billion dollars)']\n",
    "print(gdp)\n",
    "print('=================')\n",
    "popn = nation_economics['Population (Millions)']\n",
    "print(popn)\n",
    "print('=================')\n",
    "germany = nation_economics.loc[3]\n",
    "print(germany)\n",
    "```\n",
    "</p>\n",
    "</details>"
   ]
  },
  {
   "cell_type": "markdown",
   "metadata": {
    "id": "E2ppYYTEV9rv"
   },
   "source": [
    "### 2.6 &nbsp; Dropping Entries\n",
    "\n",
    "We can drop either rows or columns in a DataFrame with **drop( )** by passing in a list of rows or columns. The parameter axis can be 0 or ‘index’, 1 or ‘columns’. It is 0 by default.\n",
    "\n",
    "Please look at the two code cells below and feel free to practice dropping other rows or columns"
   ]
  },
  {
   "cell_type": "code",
   "execution_count": null,
   "metadata": {
    "id": "79j1QoSlVDCC"
   },
   "outputs": [],
   "source": [
    "df_3"
   ]
  },
  {
   "cell_type": "code",
   "execution_count": null,
   "metadata": {
    "id": "fnrSliVYWBQs"
   },
   "outputs": [],
   "source": [
    "# drop rows\n",
    "df_4 = df_3.drop(['r1','r2'], axis='index')\n",
    "df_4"
   ]
  },
  {
   "cell_type": "code",
   "execution_count": null,
   "metadata": {
    "id": "SCYzVSl8VaZ8"
   },
   "outputs": [],
   "source": [
    "df_41 = df_3.drop(['r1','r4'], axis=0)\n",
    "df_41"
   ]
  },
  {
   "cell_type": "code",
   "execution_count": null,
   "metadata": {
    "id": "2tZjGyHCWLUA"
   },
   "outputs": [],
   "source": [
    "# drop columns\n",
    "df_4 = df_3.drop(['unempl', 'pop'], axis='columns')\n",
    "df_4"
   ]
  },
  {
   "cell_type": "markdown",
   "metadata": {
    "id": "B9nHbw9yWyDL"
   },
   "source": [
    "### 2.7 &nbsp; Selecting, Filtering\n",
    "\n",
    "we can slice a Pandas DataFrame with `start` `stop` and `step`. \n",
    "```\n",
    "slice = df[start:stop]\n",
    "slice = df[start:stop:step]\n",
    "```\n",
    "**New**! With DataFrames: `start` and `stop` can be non-integer *labels* if a custom index is present. \n",
    "\n",
    " The slice is a DataFrame object with the same columns and indices. \n",
    " \n",
    " \n",
    " **Reminder**: If you wanted to select *just one* row, you needed the `loc` or `iloc` method -- otherwise, Pandas would think you wanted to select a column."
   ]
  },
  {
   "cell_type": "code",
   "execution_count": null,
   "metadata": {
    "id": "LqOIpjqfXKHn"
   },
   "outputs": [],
   "source": [
    "df_3"
   ]
  },
  {
   "cell_type": "code",
   "execution_count": null,
   "metadata": {},
   "outputs": [],
   "source": [
    "df_3['unempl']<5"
   ]
  },
  {
   "cell_type": "code",
   "execution_count": null,
   "metadata": {
    "id": "IqnUvfALIpq6"
   },
   "outputs": [],
   "source": [
    "df_3[df_3['unempl']<5]"
   ]
  },
  {
   "cell_type": "code",
   "execution_count": null,
   "metadata": {
    "id": "e7Gx1DchHdjT"
   },
   "outputs": [],
   "source": [
    "df_3[0:2:1]"
   ]
  },
  {
   "cell_type": "code",
   "execution_count": null,
   "metadata": {
    "id": "JzhwiFfUW1vS"
   },
   "outputs": [],
   "source": [
    "df_3['r1':'r3']"
   ]
  },
  {
   "cell_type": "markdown",
   "metadata": {
    "id": "kpZfHFjWviIf"
   },
   "source": [
    "We can use the logical operators on column values to filter rows.\n"
   ]
  },
  {
   "cell_type": "code",
   "execution_count": null,
   "metadata": {
    "id": "w5GT19WTII8M"
   },
   "outputs": [],
   "source": [
    "df_3['pop'] > 5"
   ]
  },
  {
   "cell_type": "code",
   "execution_count": null,
   "metadata": {
    "id": "Tu-steokITWS"
   },
   "outputs": [],
   "source": [
    "type(df_3['pop'] > 5)"
   ]
  },
  {
   "cell_type": "code",
   "execution_count": null,
   "metadata": {
    "id": "JP4VqhDsXDzh"
   },
   "outputs": [],
   "source": [
    "df_3[df_3['pop'] > 5]"
   ]
  },
  {
   "cell_type": "markdown",
   "metadata": {
    "id": "rr9hd_a5XtXu"
   },
   "source": [
    "\n",
    "### 2.8 &nbsp; Sorting\n",
    "\n",
    "We can sort on index by using sort_index( ) or on values by using sort_values( )"
   ]
  },
  {
   "cell_type": "code",
   "execution_count": null,
   "metadata": {
    "id": "LxfjxlhQXLfH"
   },
   "outputs": [],
   "source": [
    "df_12 = DataFrame(np.arange(12).reshape((3, 4)),\n",
    "                  index=[3, 1, 2],\n",
    "                  columns=['c', 'a', 'b', 'd'])\n",
    "\n",
    "df_12"
   ]
  },
  {
   "cell_type": "code",
   "execution_count": null,
   "metadata": {
    "id": "Ioazv8TuYZN8"
   },
   "outputs": [],
   "source": [
    "# Sort a DataFrame by its index\n",
    "df_12.sort_index(axis=0, ascending=True)"
   ]
  },
  {
   "cell_type": "code",
   "execution_count": null,
   "metadata": {
    "id": "RLaNjIYSKAA5"
   },
   "outputs": [],
   "source": [
    "df_12"
   ]
  },
  {
   "cell_type": "code",
   "execution_count": null,
   "metadata": {
    "id": "fPgvirsVdg8n"
   },
   "outputs": [],
   "source": [
    "#Sort a DataFrame's values by column\n",
    "# df_12.sort_values(by=['d', 'c'])\n",
    "df_12.sort_values(by=['d'], ascending=False)"
   ]
  },
  {
   "cell_type": "markdown",
   "metadata": {
    "id": "1O0R5kORkh86"
   },
   "source": [
    "### 2.9 &nbsp; Exercise 4\n",
    "\n",
    "With the nation_economics DataFrame, please complete the following tasks:\n",
    "\n",
    "* select the rows with even indices\n",
    "* select the rows with populations fewer than 300 Millions (filtering)\n",
    "* sort the DataFrame by GDP (Billion dollars) in ascending order\n",
    "\n",
    "Use the cell below to get started. Please create any more cells if you need and execute the cells after coding"
   ]
  },
  {
   "cell_type": "code",
   "execution_count": null,
   "metadata": {
    "id": "p-sKZhrQkgKg"
   },
   "outputs": [],
   "source": [
    "# write your code here\n"
   ]
  },
  {
   "cell_type": "markdown",
   "metadata": {
    "id": "GmLHZwjlG4ib"
   },
   "source": [
    "<details><summary><p style=\"padding: 10px; border: 2px solid;\"><big>Click here to see solution</big></p></summary>\n",
    "<p>\n",
    "    \n",
    "```\n",
    "even_rows = nation_economics[0::2]\n",
    "print(even_rows)\n",
    "print('=================')\n",
    "popn_less_than_300M = nation_economics[nation_economics['Population (Millions)']<300]\n",
    "print(popn_less_than_300M)\n",
    "print('=================')\n",
    "GDP_ascending = nation_economics.sort_values(by=['GDP (Billion dollars)'], ascending=True)\n",
    "print(GDP_ascending)\n",
    "```\n",
    "</p>\n",
    "</details>"
   ]
  },
  {
   "cell_type": "markdown",
   "metadata": {
    "id": "aO2bWmUoe1rx"
   },
   "source": [
    "### 2.10 &nbsp; Input and Output"
   ]
  },
  {
   "cell_type": "code",
   "execution_count": null,
   "metadata": {
    "id": "tbPFuDKDe4fJ"
   },
   "outputs": [],
   "source": [
    "df_5 = pd.read_csv(\"king_county_house_data.csv\")"
   ]
  },
  {
   "cell_type": "code",
   "execution_count": null,
   "metadata": {
    "id": "4zobCvnKffYA"
   },
   "outputs": [],
   "source": [
    "df_5.head(10)"
   ]
  },
  {
   "cell_type": "code",
   "execution_count": null,
   "metadata": {
    "id": "CbAyRozXfknO"
   },
   "outputs": [],
   "source": [
    "# used to view some statistical data like percentile, mean and std of the numerical values\n",
    "df_5.describe()"
   ]
  },
  {
   "cell_type": "code",
   "execution_count": null,
   "metadata": {
    "id": "HldCBx0FBoW1"
   },
   "outputs": [],
   "source": [
    "df_5[df_5['bedrooms']==33]"
   ]
  },
  {
   "cell_type": "code",
   "execution_count": null,
   "metadata": {
    "id": "Mw1-0lbSfsc8"
   },
   "outputs": [],
   "source": [
    "df_5.to_csv('./data_copy.csv', \n",
    "            index=False, \n",
    "            header=False)"
   ]
  },
  {
   "cell_type": "markdown",
   "metadata": {
    "id": "D5oRWWBM9Lo-"
   },
   "source": [
    "### 2.11 &nbsp; Exercise 5\n",
    "\n",
    "Read the data in the `city_weather.csv` file to a DataFrame and save it in a varialbe `city_weather`.\n",
    "\n",
    "Retrieves the rows with tempatures that are higher than 100F.\n",
    "\n",
    "Use the cell below to get started. Please create any more cells if you need and execute the cells after coding"
   ]
  },
  {
   "cell_type": "code",
   "execution_count": null,
   "metadata": {
    "id": "8rZBrOJa-ExL"
   },
   "outputs": [],
   "source": [
    "# write your code here\n"
   ]
  },
  {
   "cell_type": "markdown",
   "metadata": {},
   "source": [
    "<details><summary><p style=\"padding: 10px; border: 2px solid;\"><big>Click here to see solution</big></p></summary>\n",
    "<p>\n",
    "    \n",
    "```\n",
    "city_weather = pd.read_csv(\"city_weather.csv\")\n",
    "city_weather[city_weather['temperature']>100]\n",
    "```\n",
    "</p>\n",
    "</details>"
   ]
  },
  {
   "cell_type": "markdown",
   "metadata": {
    "id": "2rlrHI1mBzO-"
   },
   "source": [
    "## 3.&nbsp; Advance Pandas (Optional)"
   ]
  },
  {
   "cell_type": "markdown",
   "metadata": {
    "id": "HMdKdCbLME3g"
   },
   "source": [
    "### 3.1 &nbsp; Handle missing and duplicate data"
   ]
  },
  {
   "cell_type": "markdown",
   "metadata": {
    "id": "lfSg0O9ZOM9L"
   },
   "source": [
    "#### Handle missing data"
   ]
  },
  {
   "cell_type": "code",
   "execution_count": null,
   "metadata": {
    "id": "vJTZ_EU2MhTl"
   },
   "outputs": [],
   "source": [
    "import pandas as pd\n",
    "import numpy as np\n",
    "\n",
    "df = pd.DataFrame(\n",
    "    np.random.randn(5, 3),\n",
    "    index=[\"a\", \"c\", \"e\", \"f\", \"h\"],\n",
    "    columns=[\"c1\", \"c2\", \"c3\"],\n",
    ")\n",
    "\n",
    "df[\"c4\"] = \"bar\"\n",
    "\n",
    "df[\"c5\"] = df[\"c1\"] > 0\n",
    "\n",
    "df2 = df.reindex([\"a\", \"b\", \"c\", \"d\", \"e\", \"f\", \"g\", \"h\"])\n",
    "\n",
    "df2"
   ]
  },
  {
   "cell_type": "code",
   "execution_count": null,
   "metadata": {
    "id": "VdImZiF6AUX1"
   },
   "outputs": [],
   "source": [
    "df2.iat[0, 1] = np.nan\n",
    "df2"
   ]
  },
  {
   "cell_type": "code",
   "execution_count": null,
   "metadata": {
    "id": "N9A0rna7Cnq6"
   },
   "outputs": [],
   "source": [
    "# Drop rows that have at least one NA value\n",
    "df2.dropna(how='any')"
   ]
  },
  {
   "cell_type": "code",
   "execution_count": null,
   "metadata": {
    "id": "Z6Kspd4uC5Z7"
   },
   "outputs": [],
   "source": [
    "# Drop rows that have all NA value\n",
    "df3 = df2.dropna(how='all')\n",
    "df3"
   ]
  },
  {
   "cell_type": "code",
   "execution_count": null,
   "metadata": {
    "id": "ZMCEuoLhDK47"
   },
   "outputs": [],
   "source": [
    "# Drop columns that have at least one NA value\n",
    "df3.dropna(how='any', axis='columns')"
   ]
  },
  {
   "cell_type": "code",
   "execution_count": null,
   "metadata": {
    "id": "UVr6X-P-fuwI"
   },
   "outputs": [],
   "source": [
    "df2['c1'].median()\n",
    "# df2.fillna(df2['c1'].mean())"
   ]
  },
  {
   "cell_type": "code",
   "execution_count": null,
   "metadata": {
    "id": "vq5hdcXkCTzO"
   },
   "outputs": [],
   "source": [
    "# Fill all NA's with zero\n",
    "df2.fillna(0)"
   ]
  },
  {
   "cell_type": "code",
   "execution_count": null,
   "metadata": {
    "id": "jj-Ga69rKPbj"
   },
   "outputs": [],
   "source": [
    "# 'ffill' stands for 'forward fill' and will propagate last valid observation forward / 'pad'\n",
    "# 'bfill' - backward fill\n",
    "df2.fillna(method=\"ffill\")"
   ]
  },
  {
   "cell_type": "code",
   "execution_count": null,
   "metadata": {
    "id": "x5Yag94mV0sj"
   },
   "outputs": [],
   "source": [
    "# interpolate(): Fill NaN values using interpolation.\n",
    "df2.interpolate(method='linear', axis=0)"
   ]
  },
  {
   "cell_type": "markdown",
   "metadata": {
    "id": "PtGlQTbeN_Ga"
   },
   "source": [
    "#### Handle duplicate data"
   ]
  },
  {
   "cell_type": "code",
   "execution_count": null,
   "metadata": {
    "id": "PqMu0e1vOEpr"
   },
   "outputs": [],
   "source": [
    "# Checks if a row appears elsewhere with the same values\n",
    "# By default, for each set of duplicated values, the first occurrence is set on False and all others on True.\n",
    "df2.duplicated()"
   ]
  },
  {
   "cell_type": "code",
   "execution_count": null,
   "metadata": {
    "id": "lhovoAG8GIQh"
   },
   "outputs": [],
   "source": [
    "# Checks if there are any duplicate values of a particular column\n",
    "df2.duplicated('c1')"
   ]
  },
  {
   "cell_type": "code",
   "execution_count": null,
   "metadata": {
    "id": "I-BCG8DeG7Yv"
   },
   "outputs": [],
   "source": [
    "# Drop duplicate rows \n",
    "df2.drop_duplicates()"
   ]
  },
  {
   "cell_type": "code",
   "execution_count": null,
   "metadata": {
    "id": "Xjjl43dlJDTz"
   },
   "outputs": [],
   "source": [
    "# Drop duplicates from particular column\n",
    "df2.drop_duplicates('c1')"
   ]
  },
  {
   "cell_type": "markdown",
   "metadata": {
    "id": "sz4FACv3Nl1_"
   },
   "source": [
    "### 3.2 &nbsp; Merge data"
   ]
  },
  {
   "cell_type": "code",
   "execution_count": null,
   "metadata": {
    "id": "JbzEqQB_NwPw"
   },
   "outputs": [],
   "source": [
    "import pandas as pd\n",
    "\n",
    "df1 = pd.DataFrame({'c1': ['a','b','c','d'], 'c2':[12.0, 23.2, 56, 45.4]})\n",
    "df1"
   ]
  },
  {
   "cell_type": "code",
   "execution_count": null,
   "metadata": {
    "id": "hiy_H-TjOWjW"
   },
   "outputs": [],
   "source": [
    "df2 = pd.DataFrame({'c1': ['a','b','c','e'], 'c3':[9.5, 37.0, 77,38.9]})\n",
    "df2"
   ]
  },
  {
   "cell_type": "code",
   "execution_count": null,
   "metadata": {
    "id": "RfnFW4v0a5r5"
   },
   "outputs": [],
   "source": [
    "# SQL left join\n",
    "pd.merge(df1,df2,on='c1', how='left')"
   ]
  },
  {
   "cell_type": "code",
   "execution_count": null,
   "metadata": {
    "id": "8ageiMVKbE1C"
   },
   "outputs": [],
   "source": [
    "# SQL right join\n",
    "pd.merge(df1,df2,on='c1', how='right')"
   ]
  },
  {
   "cell_type": "code",
   "execution_count": null,
   "metadata": {
    "id": "XiWzF2NNPNz9"
   },
   "outputs": [],
   "source": [
    "# SQL inner join\n",
    "pd.merge(df1,df2,on='c1', how='inner')"
   ]
  },
  {
   "cell_type": "code",
   "execution_count": null,
   "metadata": {
    "id": "NEvBrJh6bLrf"
   },
   "outputs": [],
   "source": [
    "# SQL outer join\n",
    "pd.merge(df1,df2,on='c1', how='outer')"
   ]
  },
  {
   "cell_type": "code",
   "execution_count": null,
   "metadata": {
    "id": "4aAv0ONUYxky"
   },
   "outputs": [],
   "source": []
  }
 ],
 "metadata": {
  "colab": {
   "provenance": [],
   "toc_visible": true
  },
  "kernelspec": {
   "display_name": "Python 3 (ipykernel)",
   "language": "python",
   "name": "python3"
  },
  "language_info": {
   "codemirror_mode": {
    "name": "ipython",
    "version": 3
   },
   "file_extension": ".py",
   "mimetype": "text/x-python",
   "name": "python",
   "nbconvert_exporter": "python",
   "pygments_lexer": "ipython3",
   "version": "3.9.16"
  }
 },
 "nbformat": 4,
 "nbformat_minor": 4
}
